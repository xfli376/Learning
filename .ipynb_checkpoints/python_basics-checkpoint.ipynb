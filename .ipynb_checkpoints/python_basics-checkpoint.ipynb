{
 "cells": [
  {
   "cell_type": "markdown",
   "metadata": {},
   "source": [
    "# <center><font color=\"#191970\">Python 基础</font></center>\n",
    "<br/>\n",
    "\n",
    "<center><img src=\" figs/uestclogo.jpg \" width=\"13%\"></center>\n",
    " \n",
    "####  <center> <font color=\"#FFA500\">李小飞</font> <font color=\"#191970\">@ 电子科技大学 $\\cdot$ 光电学院</font></center>\n",
    "<center><font color=\"#191970\">2022-09-12</font></center>"
   ]
  },
  {
   "cell_type": "markdown",
   "metadata": {},
   "source": [
    "## 01. 初识Python"
   ]
  },
  {
   "cell_type": "markdown",
   "metadata": {},
   "source": [
    "### Python的历史\n",
    "\n",
    "1. 1989年圣诞节：Guido von Rossum 开始写 Python语言的编译器。\n",
    "2. 1991年2月：第一个Python编译器（同时也是解释器）诞生\n",
    "3. 1994年1月：Python 1.0正式发布。\n",
    "4. 2000年10月16日：Python 2.0发布，\n",
    "5. 2008年12月3日：Python 3.0发布，它并不完全兼容之前的Python代码。"
   ]
  },
  {
   "cell_type": "markdown",
   "metadata": {},
   "source": [
    "### Python的优缺点\n",
    "\n",
    "Python的优点很多\n",
    "\n",
    "1. 简单明了，学习曲线低，比很多编程语言都容易上手。\n",
    "2. 开放源代码，拥有强大的社区和生态圈，尤其是在数据分析和机器学习领域。\n",
    "3. 解释型语言，天生具有平台可移植性，代码可以工作于不同的操作系统。\n",
    "4. 对两种主流的编程范式（面向对象编程和函数式编程）都提供了支持。\n",
    "5. 代码规范程度高，可读性强，适合有代码洁癖和强迫症的人群。"
   ]
  },
  {
   "cell_type": "markdown",
   "metadata": {},
   "source": [
    "Python的缺点\n",
    "\n",
    "1. 执行效率稍低，对执行效率要求高的部分可以由其他语言（如：C、C++）编写。\n",
    "2. 代码无法加密，但是现在很多公司都不销售卖软件而是销售服务，这个问题会被弱化。\n",
    "3. 在开发时可以选择的框架太多（如Web框架就有100多个），有选择的地方就有错误。"
   ]
  },
  {
   "cell_type": "markdown",
   "metadata": {},
   "source": [
    "### Python的应用领域\n",
    "\n",
    "目前Python在Web应用后端开发、云基础设施建设、DevOps、网络数据采集（爬虫）、自动化测试、数据分析、机器学习等领域都有着广泛的应用。"
   ]
  },
  {
   "cell_type": "markdown",
   "metadata": {},
   "source": [
    "### 安装Python解释器\n",
    "\n",
    "官方的Python解释器是用C语言实现的，也是使用最为广泛的Python解释器，通常称之为CPython。除此之外，Python解释器还有Java语言实现的Jython、C#语言实现的IronPython以及PyPy、Brython、Pyston等版本。"
   ]
  },
  {
   "cell_type": "markdown",
   "metadata": {},
   "source": [
    "#### Windows环境\n",
    "\n",
    "#### Linux环境"
   ]
  },
  {
   "cell_type": "markdown",
   "metadata": {},
   "source": [
    "#### macOS环境\n",
    "\n",
    "macOS也自带了Python 2.7版本，安装Python 3.x版本 "
   ]
  },
  {
   "cell_type": "markdown",
   "metadata": {},
   "source": [
    "### 运行Python\n",
    "#### 确认Python的版本"
   ]
  },
  {
   "cell_type": "code",
   "execution_count": null,
   "metadata": {},
   "outputs": [],
   "source": [
    "import sys\n",
    "\n",
    "print(sys.version_info)\n",
    "print(sys.version)"
   ]
  },
  {
   "cell_type": "markdown",
   "metadata": {},
   "source": [
    "### 编写Python源代码\n",
    "\n",
    "用文本编辑工具编写Python源代码，并用py作为后缀名保存该文件 （hello-world-in-chinese.py）"
   ]
  },
  {
   "cell_type": "code",
   "execution_count": null,
   "metadata": {},
   "outputs": [],
   "source": [
    "cat scripts/hello-world-in-chinese.py"
   ]
  },
  {
   "cell_type": "markdown",
   "metadata": {},
   "source": [
    "#### 运行程序\n",
    "\n",
    "切换到源代码所在的目录并执行命令\n",
    "\n",
    "python hello-world-in-chinese.py\n",
    "\n",
    "或\n",
    "\n",
    "python3 hello-world-in-chinese.py"
   ]
  },
  {
   "cell_type": "markdown",
   "metadata": {},
   "source": [
    "#### 代码中的注释\n",
    "\n",
    "1. 单行注释 - 以#和空格开头的部分\n",
    "2. 多行注释 - 三个引号开头，三个引号结尾"
   ]
  },
  {
   "cell_type": "markdown",
   "metadata": {},
   "source": [
    "### Python开发工具\n",
    "\n",
    "#### IDLE - 自带的集成开发工具\n",
    "\n",
    "IDLE是安装Python环境时自带的集成开发工具，很少在实际开发中被采用。"
   ]
  },
  {
   "cell_type": "markdown",
   "metadata": {},
   "source": [
    "#### IPython - 更好的交互式编程工具\n",
    "\n",
    "IPython是一种基于Python的交互式解释器。相较于原生的Python交互式环境，IPython提供了更为强大的编辑和交互功能。可以通过Python的包管理工具`pip` 或 `conda` 安装IPython，"
   ]
  },
  {
   "cell_type": "code",
   "execution_count": null,
   "metadata": {},
   "outputs": [],
   "source": [
    "conda install ipython"
   ]
  },
  {
   "cell_type": "markdown",
   "metadata": {},
   "source": [
    "#### Sublime Text - 高级文本编辑器\n",
    "\n",
    "#### Visual Studio Code 可能是更好的选择\n",
    "\n",
    "#### PyCharm - Python开发神器"
   ]
  },
  {
   "cell_type": "markdown",
   "metadata": {},
   "source": [
    "### 练习\n",
    "\n",
    "1. 在Python交互式环境中输入下面的代码并查看结果，请尝试将看到的内容翻译成中文。"
   ]
  },
  {
   "cell_type": "code",
   "execution_count": null,
   "metadata": {},
   "outputs": [],
   "source": [
    "import this"
   ]
  },
  {
   "cell_type": "markdown",
   "metadata": {},
   "source": [
    "2. 学习使用turtle在屏幕上绘制图形。"
   ]
  },
  {
   "cell_type": "code",
   "execution_count": null,
   "metadata": {},
   "outputs": [],
   "source": [
    "import turtle\n",
    "    \n",
    "turtle.pensize(4)\n",
    "turtle.pencolor('red')\n",
    "    \n",
    "turtle.forward(100)\n",
    "turtle.right(90)\n",
    "turtle.forward(100)\n",
    "turtle.right(90)\n",
    "turtle.forward(100)\n",
    "turtle.right(90)\n",
    "turtle.forward(100)\n",
    "    \n",
    "turtle.mainloop()"
   ]
  },
  {
   "cell_type": "markdown",
   "metadata": {},
   "source": [
    "## 02. 语言元素"
   ]
  },
  {
   "cell_type": "markdown",
   "metadata": {},
   "source": [
    "### 指令和程序\n",
    "\n",
    "通常所说的程序实际上就是指令的集合，就是将一系列的指令按照某种方式组织到一起，然后通过这些指令去控制计算机做我们想让它做的事情。"
   ]
  },
  {
   "cell_type": "markdown",
   "metadata": {},
   "source": [
    "### 变量和类型\n",
    "\n",
    "在程序设计中，变量是一种存储数据的载体。数据有很多种类型，除了数值之外还可以是文本、图形、音频、视频等。不同的数据需要定义不同的存储类型。Python中的数据类型很多，也允许自定义新的数据类型。"
   ]
  },
  {
   "cell_type": "markdown",
   "metadata": {},
   "source": [
    "- 整型：Python中可以处理任意大小的整数（`int`). 支持二进制（如`0b100`）、八进制（`0o100`）、十进制（`100`）和十六进制（`0x100`表示法。\n",
    "  \n",
    "- 浮点型：浮点数也就是小数. 支持数学写法（如`123.456`）和科学计数法（如`1.23456e2`）。\n",
    "  \n",
    "- 字符串型：字符串是以单引号或双引号括起来的任意文本，比如`'hello'`或`\"hello\"`,可以书写成多行的形式（用三个单引号或三个双引号）。\n",
    "  \n",
    "- 布尔型：布尔值只有`True`、`False`两种值\n",
    "\n",
    "- 复数型：形如`3+5j`，跟数学上的复数表示一样，唯一不同的是虚部的`i`换成了`j`。"
   ]
  },
  {
   "cell_type": "markdown",
   "metadata": {},
   "source": [
    "#### 变量命名\n",
    "\n",
    "每个变量需要给它取一个名字，变量命名需要遵循以下规则。\n",
    "\n",
    "- 硬性规则：\n",
    "  - 变量名由字母（广义的Unicode字符，不包括特殊字符）、数字和下划线构成，数字不能开头。\n",
    "  - 大小写敏感（大写的`a`和小写的`A`是两个不同的变量）。\n",
    "  - 不要跟关键字（有特殊含义的单词，后面会讲到）和系统保留字（如函数、模块等的名字）冲突。"
   ]
  },
  {
   "cell_type": "markdown",
   "metadata": {},
   "source": [
    "- PEP 8要求：\n",
    "  - 用小写字母拼写，多个单词用下划线连接。\n",
    "  - 受保护的实例属性用单个下划线开头（后面会讲到）。\n",
    "  - 私有的实例属性用两个下划线开头（后面会讲到）。\n",
    "\n",
    "当然，给变量命名时做到见名知意。"
   ]
  },
  {
   "cell_type": "markdown",
   "metadata": {},
   "source": [
    "#### 变量的使用"
   ]
  },
  {
   "cell_type": "code",
   "execution_count": null,
   "metadata": {},
   "outputs": [],
   "source": [
    "\"\"\"\n",
    "    使用变量保存数据并进行加减乘除运算\n",
    "\n",
    "\"\"\"\n",
    "a = 321\n",
    "b = 12\n",
    "print(a + b)    # 333\n",
    "print(a - b)    # 309\n",
    "print(a * b)    # 3852\n",
    "print(a / b)    # 26.75"
   ]
  },
  {
   "cell_type": "markdown",
   "metadata": {},
   "source": [
    "#### 变量的类型检查 "
   ]
  },
  {
   "cell_type": "code",
   "execution_count": null,
   "metadata": {},
   "outputs": [],
   "source": [
    "a = 100\n",
    "b = 12.345\n",
    "c = 1 + 5j\n",
    "d = 'hello, world'\n",
    "e = True\n",
    "print(type(a))    # <class 'int'>\n",
    "print(type(b))    # <class 'float'>\n",
    "print(type(c))    # <class 'complex'>\n",
    "print(type(d))    # <class 'str'>\n",
    "print(type(e))    # <class 'bool'>"
   ]
  },
  {
   "cell_type": "markdown",
   "metadata": {},
   "source": [
    "##### 变量类型转换 \n",
    "\n",
    "- `int()`：将一个数值或字符串转换成整数，可以指定进制。\n",
    "- `float()`：将一个字符串转换成浮点数。\n",
    "- `str()`：将指定的对象转换成字符串形式，可以指定编码。\n",
    "- `chr()`：将整数转换成该编码对应的字符串（一个字符）。\n",
    "- `ord()`：将字符串（一个字符）转换成对应的编码（整数）。"
   ]
  },
  {
   "cell_type": "code",
   "execution_count": null,
   "metadata": {},
   "outputs": [],
   "source": [
    "\"\"\"\n",
    "使用input()函数获取键盘输入(字符串)\n",
    "使用int()函数将输入的字符串转换成整数\n",
    "使用print()函数输出带占位符的字符串,\n",
    "`%d`是整数的占位符，`%f`是小数的占位符，`%%`表示百分号\n",
    "\"\"\"\n",
    "a = int(input('a = '))\n",
    "b = int(input('b = '))\n",
    "print('%d + %d = %d' % (a, b, a + b))\n",
    "print('%d - %d = %d' % (a, b, a - b))\n",
    "print('%d * %d = %d' % (a, b, a * b))\n",
    "print('%d / %d = %f' % (a, b, a / b))\n",
    "print('%d // %d = %d' % (a, b, a // b))\n",
    "print('%d %% %d = %d' % (a, b, a % b))\n",
    "print('%d ** %d = %d' % (a, b, a ** b))"
   ]
  },
  {
   "cell_type": "markdown",
   "metadata": {},
   "source": [
    "### 运算符\n",
    "\n",
    "Python支持多种运算符，注意运算符的优先级"
   ]
  },
  {
   "cell_type": "markdown",
   "metadata": {},
   "source": [
    "| 运算符                                                       | 描述                           |\n",
    "| ------------------------------------------------------------ | ------------------------------ |\n",
    "| `[]` `[:]`                                                   | 下标，切片                     |\n",
    "| `**`                                                         | 指数                           |\n",
    "| `~` `+` `-`                                                  | 按位取反, 正负号               |\n",
    "| `*` `/` `%` `//`                                             | 乘，除，模，整除               |\n",
    "| `+` `-`                                                      | 加，减                         |\n",
    "| `>>` `<<`                                                    | 右移，左移                     |\n",
    "| `&`                                                          | 按位与                         |\n",
    "| `^` `\\|`                                                      | 按位异或，按位或               |\n",
    "| `<=` `<` `>` `>=`                                            | 小于等于，小于，大于，大于等于 |\n",
    "| `==` `!=`                                                    | 等于，不等于                   |\n",
    "| `is`  `is not`                                               | 身份运算符                     |\n",
    "| `in` `not in`                                                | 成员运算符                     |\n",
    "| `not` `or` `and`                                             | 逻辑运算符                     |\n",
    "| `=` `+=` `-=` `*=` `/=` `%=` `//=` `**=` `&=` `|=` `^=` `>>=` `<<=` | （复合）赋值运算符             |"
   ]
  },
  {
   "cell_type": "markdown",
   "metadata": {},
   "source": [
    "#### 赋值运算符\n",
    "\n",
    "赋值运算符(=)是将右边的值赋给左边的变量。"
   ]
  },
  {
   "cell_type": "markdown",
   "metadata": {},
   "source": [
    "\"\"\"\n",
    "赋值运算符和复合赋值运算符\n",
    "\n",
    "Version: 0.1\n",
    "Author: 骆昊\n",
    "\"\"\"\n",
    "a = 10\n",
    "b = 3\n",
    "a += b        # 相当于：a = a + b\n",
    "a *= a + 2    # 相当于：a = a * (a + 2)\n",
    "print(a)      # 算一下这里会输出什么"
   ]
  },
  {
   "cell_type": "markdown",
   "metadata": {},
   "source": [
    "#### 比较运算符和逻辑运算符\n",
    "\n",
    "比较运算符`==`、`!=`、`<`、`>`、`<=`、`>=`。比较相等用`==`，因为`=`是赋值运算符。比较运算符会产生布尔值`True`或`False`。\n",
    "\n",
    "逻辑运算符有三个：`and`、`or`和`not`。"
   ]
  },
  {
   "cell_type": "code",
   "execution_count": null,
   "metadata": {},
   "outputs": [],
   "source": [
    "\"\"\"\n",
    "比较运算符和逻辑运算符的使用\n",
    "\n",
    "Version: 0.1\n",
    "Author: 骆昊\n",
    "\"\"\"\n",
    "flag0 = 1 == 1\n",
    "flag1 = 3 > 2\n",
    "flag2 = 2 < 1\n",
    "flag3 = flag1 and flag2\n",
    "flag4 = flag1 or flag2\n",
    "flag5 = not (1 != 2)\n",
    "print('flag0 =', flag0)    # flag0 = True\n",
    "print('flag1 =', flag1)    # flag1 = True\n",
    "print('flag2 =', flag2)    # flag2 = False\n",
    "print('flag3 =', flag3)    # flag3 = False\n",
    "print('flag4 =', flag4)    # flag4 = True\n",
    "print('flag5 =', flag5)    # flag5 = False"
   ]
  },
  {
   "cell_type": "markdown",
   "metadata": {},
   "source": [
    "> **说明**：比较运算符的优先级高于赋值运算符，所以`flag0 = 1 == 1`先做`1 == 1`产生布尔值`True`，再将这个值赋值给变量`flag0`。"
   ]
  },
  {
   "cell_type": "markdown",
   "metadata": {},
   "source": [
    "### 练习\n",
    "\n",
    "1：华氏温度转换为摄氏温度。\n",
    "\n",
    "> 提示：华氏温度到摄氏温度的转换公式为：$$C=(F - 32) \\div 1.8$$"
   ]
  },
  {
   "cell_type": "code",
   "execution_count": null,
   "metadata": {},
   "outputs": [],
   "source": [
    "\"\"\"\n",
    "将华氏温度转换为摄氏温度\n",
    "\n",
    "\"\"\"\n",
    "\n",
    "f = float(input('请输入华氏温度: '))\n",
    "c = (f - 32) / 1.8\n",
    "print('%.1f华氏度 = %.1f摄氏度' % (f, c))\n",
    "print(f'{f:.1f}华氏度 = {c:.1f}摄氏度')"
   ]
  },
  {
   "cell_type": "markdown",
   "metadata": {},
   "source": [
    "2：输入圆的半径计算计算周长和面积。"
   ]
  },
  {
   "cell_type": "code",
   "execution_count": null,
   "metadata": {},
   "outputs": [],
   "source": [
    "\"\"\"\n",
    "输入半径计算圆的周长和面积\n",
    "\n",
    "Version: 0.1\n",
    "Author: 骆昊\n",
    "\"\"\"\n",
    "radius = float(input('请输入圆的半径: '))\n",
    "perimeter = 2 * 3.1416 * radius\n",
    "area = 3.1416 * radius * radius\n",
    "print('周长: %.2f' % perimeter)\n",
    "print('面积: %.2f' % area)"
   ]
  },
  {
   "cell_type": "markdown",
   "metadata": {},
   "source": [
    "3：输入年份判断是不是闰年。"
   ]
  },
  {
   "cell_type": "code",
   "execution_count": null,
   "metadata": {},
   "outputs": [],
   "source": [
    "\"\"\"\n",
    "输入年份 如果是闰年输出True 否则输出False\n",
    "\n",
    "Version: 0.1\n",
    "Author: 骆昊\n",
    "\"\"\"\n",
    "year = int(input('请输入年份: '))\n",
    "\n",
    "# 代码太长写成一行不便于阅读，使用\\折行\n",
    "\n",
    "is_leap = year % 4 == 0 and year % 100 != 0 or \\\n",
    "          year % 400 == 0\n",
    "print(is_leap)"
   ]
  },
  {
   "cell_type": "markdown",
   "metadata": {},
   "source": [
    "> **说明**：比较运算符会产生布尔值，而逻辑运算符`and`和`or`会对这些布尔值进行组合，最终也是得到一个布尔值，闰年输出`True`，平年输出`False`。"
   ]
  },
  {
   "cell_type": "markdown",
   "metadata": {},
   "source": [
    "## 03. 分支结构\n",
    "\n",
    "### if 语句"
   ]
  },
  {
   "cell_type": "code",
   "execution_count": null,
   "metadata": {},
   "outputs": [],
   "source": [
    "\"\"\"\n",
    "用户身份验证\n",
    "\"\"\"\n",
    "username = input('请输入用户名: ')\n",
    "password = input('请输入口令: ')\n",
    "\n",
    "# 用户名是admin且密码是123456则身份验证成功否则身份验证失败\n",
    "\n",
    "if username == 'admin' and password == '123456':\n",
    "    print('身份验证成功!')\n",
    "else:\n",
    "    print('身份验证失败!')"
   ]
  },
  {
   "cell_type": "markdown",
   "metadata": {},
   "source": [
    "注意：不是用**花括号**而是用**缩进**的方式来表示代码块的。**缩进**可以使用任意数量的空格，但通常使用**4个空格**，建议把**制表键**设定为4个空格。\n",
    "\n",
    "如果要构造出更多的分支，可以使用`if...elif...else...`结构或者嵌套的`if...else...`结构\n",
    "\n",
    "$$f(x)=\\begin{cases} 3x-5&\\text{(x>1)}\\\\x+2&\\text{(-1}\\leq\\text{x}\\leq\\text{1)}\\\\5x+3&\\text {(x<-1)}\\end{cases}$$"
   ]
  },
  {
   "cell_type": "code",
   "execution_count": null,
   "metadata": {},
   "outputs": [],
   "source": [
    "\"\"\"\n",
    "分段函数求值\n",
    "\n",
    "        3x - 5  (x > 1)\n",
    "f(x) =  x + 2   (-1 <= x <= 1)\n",
    "        5x + 3  (x < -1)\n",
    "\n",
    "Version: 0.1\n",
    "Author: 骆昊\n",
    "\"\"\"\n",
    "\n",
    "x = float(input('x = '))\n",
    "if x > 1:\n",
    "    y = 3 * x - 5\n",
    "elif x >= -1:\n",
    "    y = x + 2\n",
    "else:\n",
    "    y = 5 * x + 3\n",
    "print('f(%.2f) = %.2f' % (x, y))"
   ]
  },
  {
   "cell_type": "markdown",
   "metadata": {},
   "source": [
    "> **说明：** Flat is better than nested.” 嵌套层次多了会严重影响代码的可读性。"
   ]
  },
  {
   "cell_type": "markdown",
   "metadata": {},
   "source": [
    "### 练习\n",
    "\n",
    "1：英制单位英寸与公制单位厘米互换。"
   ]
  },
  {
   "cell_type": "code",
   "execution_count": null,
   "metadata": {},
   "outputs": [],
   "source": [
    "\"\"\"\n",
    "英制单位英寸和公制单位厘米互换\n",
    "\"\"\"\n",
    "\n",
    "value = float(input('请输入长度: '))\n",
    "unit = input('请输入单位: ')\n",
    "if unit == 'in' or unit == '英寸':\n",
    "    print('%f英寸 = %f厘米' % (value, value * 2.54))\n",
    "elif unit == 'cm' or unit == '厘米':\n",
    "    print('%f厘米 = %f英寸' % (value, value / 2.54))\n",
    "else:\n",
    "    print('请输入有效的单位')"
   ]
  },
  {
   "cell_type": "markdown",
   "metadata": {},
   "source": [
    "2：百分制成绩转换为等级制成绩。\n",
    "\n",
    "> **要求**：如果输入的成绩在90分以上（含90分）输出A；80分-90分（不含90分）输出B；70分-80分（不含80分）输出C；60分-70分（不含70分）输出D；60分以下输出E。"
   ]
  },
  {
   "cell_type": "code",
   "execution_count": null,
   "metadata": {},
   "outputs": [],
   "source": [
    "\"\"\"\n",
    "百分制成绩转换为等级制成绩\n",
    "\n",
    "Version: 0.1\n",
    "Author: 骆昊\n",
    "\"\"\"\n",
    "\n",
    "score = float(input('请输入成绩: '))\n",
    "if score >= 90:\n",
    "    grade = 'A'\n",
    "elif score >= 80:\n",
    "    grade = 'B'\n",
    "elif score >= 70:\n",
    "    grade = 'C'\n",
    "elif score >= 60:\n",
    "    grade = 'D'\n",
    "else:\n",
    "    grade = 'E'\n",
    "print('对应的等级是:', grade)"
   ]
  },
  {
   "cell_type": "markdown",
   "metadata": {},
   "source": [
    "3：输入三条边长，如果能构成三角形就计算周长和面积。"
   ]
  },
  {
   "cell_type": "markdown",
   "metadata": {},
   "source": [
    "\"\"\"\n",
    "判断输入的边长能否构成三角形，如果能则计算出三角形的周长和面积\n",
    "\n",
    "Version: 0.1\n",
    "Author: 骆昊\n",
    "\"\"\"\n",
    "a = float(input('a = '))\n",
    "b = float(input('b = '))\n",
    "c = float(input('c = '))\n",
    "if a + b > c and a + c > b and b + c > a:\n",
    "    print('周长: %f' % (a + b + c))\n",
    "    p = (a + b + c) / 2\n",
    "    area = (p * (p - a) * (p - b) * (p - c)) ** 0.5\n",
    "    print('面积: %f' % (area))\n",
    "else:\n",
    "    print('不能构成三角形')\n"
   ]
  },
  {
   "cell_type": "markdown",
   "metadata": {},
   "source": [
    "## 04. 循环结构\n",
    "\n",
    "\n",
    "循环结构就是程序中控制某条或某些指令重复执行的结构。在Python中构造循环结构有两种做法，一种是`for-in`循环，一种是`while`循环。"
   ]
  },
  {
   "cell_type": "markdown",
   "metadata": {},
   "source": [
    "### for-in循环\n",
    "\n",
    "知道循环次数或者要对一个容器进行迭代，使用`for-in`循环。\n",
    "例如计算1~100的和（$\\displaystyle \\sum \\limits_{n=1}^{100}n$）。 "
   ]
  },
  {
   "cell_type": "code",
   "execution_count": null,
   "metadata": {},
   "outputs": [],
   "source": [
    "\"\"\"\n",
    "用for循环实现1~100求和\n",
    "\n",
    "Version: 0.1\n",
    "Author: 骆昊\n",
    "\"\"\"\n",
    "\n",
    "sum = 0\n",
    "for x in range(101):\n",
    "    sum += x\n",
    "print(sum)"
   ]
  },
  {
   "cell_type": "markdown",
   "metadata": {},
   "source": [
    ">说明：代码中的`range(101)`可以用来构造一个从1到100内的整数，循环变量`x`会依次取出从这些整数。\n",
    "\n",
    "- `range(101)`：可以用来产生0到100范围的整数，需要注意的是取不到101。\n",
    "- `range(1, 101)`：可以用来产生1到100范围的整数，相当于前面是闭区间后面是开区间。\n",
    "- `range(1, 101, 2)`：可以用来产生1到100的奇数，其中2是步长，即每次数值递增的值。\n",
    "- `range(100, 0, -2)`：可以用来产生100到1的偶数，其中-2是步长，即每次数字递减的值。\n",
    "\n",
    "知道了这一点，我们可以用下面的代码来实现1~100之间的偶数求和。"
   ]
  },
  {
   "cell_type": "code",
   "execution_count": null,
   "metadata": {},
   "outputs": [],
   "source": [
    "\"\"\"\n",
    "用for循环实现1~100之间的偶数求和\n",
    "\n",
    "Version: 0.1\n",
    "Author: 骆昊\n",
    "\"\"\"\n",
    "\n",
    "sum = 0\n",
    "for x in range(2, 101, 2):\n",
    "    sum += x\n",
    "print(sum)"
   ]
  },
  {
   "cell_type": "markdown",
   "metadata": {},
   "source": [
    "当然，也可以通过在循环中使用分支结构的方式来实现相同的功能"
   ]
  },
  {
   "cell_type": "markdown",
   "metadata": {},
   "source": [
    "\"\"\"\n",
    "用for循环实现1~100之间的偶数求和\n",
    "\n",
    "Version: 0.1\n",
    "Author: 骆昊\n",
    "\"\"\"\n",
    "\n",
    "sum = 0\n",
    "for x in range(1, 101):\n",
    "    if x % 2 == 0:\n",
    "        sum += x\n",
    "print(sum)"
   ]
  },
  {
   "cell_type": "markdown",
   "metadata": {},
   "source": [
    "> **说明**：下面这种做法计算次数多了一倍， 不好。"
   ]
  },
  {
   "cell_type": "markdown",
   "metadata": {},
   "source": [
    " \n",
    "\n",
    "### while循环\n",
    "\n",
    "构造不知道具体循环次数的循环结构使用`while`循环。`while`通过一个`bool`值控制循环，值为`True`则执行循环块；值为`False`不执行循环块。\n",
    "\n",
    "“猜数字”游戏：有一个1到100内的整数，玩家来猜，计算机提示猜大了还是猜小了，需要多少次才能猜中？"
   ]
  },
  {
   "cell_type": "code",
   "execution_count": null,
   "metadata": {},
   "outputs": [],
   "source": [
    "\"\"\"\n",
    "猜数字游戏\n",
    "\n",
    "Version: 0.1\n",
    "Author: 骆昊\n",
    "\"\"\"\n",
    "import random\n",
    "\n",
    "answer = random.randint(1, 100)\n",
    "counter = 0\n",
    "hit_it = False\n",
    "while not hit_it:\n",
    "    counter += 1\n",
    "    number = int(input('请输入: '))\n",
    "    if number < answer:\n",
    "        print('大一点')\n",
    "    elif number > answer:\n",
    "        print('小一点')\n",
    "    else:\n",
    "        print('恭喜你猜对了!')\n",
    "        hit_it = True\n",
    "print('你总共猜了%d次' % counter)\n",
    "if counter > 7:\n",
    "    print('你的智商余额明显不足')"
   ]
  },
  {
   "cell_type": "markdown",
   "metadata": {},
   "source": [
    "可以改写成用了`break`关键字来终止循环。"
   ]
  },
  {
   "cell_type": "code",
   "execution_count": null,
   "metadata": {},
   "outputs": [],
   "source": [
    "\"\"\"\n",
    "猜数字游戏\n",
    "\"\"\"\n",
    "import random\n",
    "\n",
    "answer = random.randint(1, 100)\n",
    "counter = 0\n",
    "while True:\n",
    "    counter += 1\n",
    "    number = int(input('请输入: '))\n",
    "    if number < answer:\n",
    "        print('大一点')\n",
    "    elif number > answer:\n",
    "        print('小一点')\n",
    "    else:\n",
    "        print('恭喜你猜对了!')\n",
    "        break\n",
    "print('你总共猜了%d次' % counter)\n",
    "if counter > 7:\n",
    "    print('你的智商余额明显不足')\n",
    "\n",
    "\n",
    " "
   ]
  },
  {
   "cell_type": "markdown",
   "metadata": {},
   "source": [
    "   \n",
    "### 练习\n",
    "1. 用通过嵌套的循环来输出一个九九乘法表。"
   ]
  },
  {
   "cell_type": "code",
   "execution_count": null,
   "metadata": {},
   "outputs": [],
   "source": [
    "\"\"\"\n",
    "输出乘法口诀表(九九表)\n",
    "\n",
    "Version: 0.1\n",
    "Author: 骆昊\n",
    "\"\"\"\n",
    "\n",
    "for i in range(1, 10):\n",
    "    for j in range(1, i + 1):\n",
    "        print('%d*%d=%d' % (i, j, i * j), end='\\t')\n",
    "    print()"
   ]
  },
  {
   "cell_type": "markdown",
   "metadata": {},
   "source": [
    "2：输入一个正整数判断是不是素数。\n",
    "\n",
    "> **提示**：素数指的是只能被1和自身整除的大于1的整数。"
   ]
  },
  {
   "cell_type": "code",
   "execution_count": null,
   "metadata": {},
   "outputs": [],
   "source": [
    "\"\"\"\n",
    "输入一个正整数判断它是不是素数\n",
    "\n",
    "Version: 0.1\n",
    "Author: 骆昊\n",
    "Date: 2018-03-01\n",
    "\"\"\"\n",
    "from math import sqrt\n",
    "\n",
    "num = int(input('请输入一个正整数: '))\n",
    "end = int(sqrt(num))\n",
    "is_prime = True\n",
    "for x in range(2, end + 1):\n",
    "    if num % x == 0:\n",
    "        is_prime = False\n",
    "        break\n",
    "if is_prime and num != 1:\n",
    "    print('%d是素数' % num)\n",
    "else:\n",
    "    print('%d不是素数' % num)"
   ]
  },
  {
   "cell_type": "markdown",
   "metadata": {},
   "source": [
    "3. 输入两个正整数，计算它们的最大公约数和最小公倍数。\n",
    "\n",
    "> **提示**：两个数的最大公约数是两个数的公共因子中最大的那个数；两个数的最小公倍数则是能够同时被两个数整除的最小的那个数。"
   ]
  },
  {
   "cell_type": "code",
   "execution_count": null,
   "metadata": {},
   "outputs": [],
   "source": [
    "\"\"\"\n",
    "输入两个正整数计算它们的最大公约数和最小公倍数\n",
    "\n",
    "Version: 0.1\n",
    "Author: 骆昊\n",
    "Date: 2018-03-01\n",
    "\"\"\"\n",
    "\n",
    "x = int(input('x = '))\n",
    "y = int(input('y = '))\n",
    "\n",
    "# 如果x大于y就交换x和y的值\n",
    "if x > y:\n",
    "    # 通过下面的操作将y的值赋给x, 将x的值赋给y\n",
    "    x, y = y, x\n",
    "# 从两个数中较小的数开始做递减的循环\n",
    "for factor in range(x, 0, -1):\n",
    "    if x % factor == 0 and y % factor == 0:\n",
    "        print('%d和%d的最大公约数是%d' % (x, y, factor))\n",
    "        print('%d和%d的最小公倍数是%d' % (x, y, x * y // factor))\n",
    "        break"
   ]
  },
  {
   "cell_type": "markdown",
   "metadata": {},
   "source": [
    "4.打印如下所示的三角形图案。\n",
    "\n",
    "```\n",
    "*\n",
    "**\n",
    "***\n",
    "****\n",
    "*****\n",
    "```\n",
    "\n",
    "```\n",
    "    *\n",
    "   **\n",
    "  ***\n",
    " ****\n",
    "*****\n",
    "```\n",
    "\n",
    "```\n",
    "    *\n",
    "   ***\n",
    "  *****\n",
    " *******\n",
    "*********\n",
    "```"
   ]
  },
  {
   "cell_type": "code",
   "execution_count": null,
   "metadata": {},
   "outputs": [],
   "source": [
    "\n",
    "\"\"\"\n",
    "打印三角形图案\n",
    "\"\"\"\n",
    "\n",
    "row = int(input('请输入行数: '))\n",
    "for i in range(row):\n",
    "    for _ in range(i + 1):\n",
    "        print('*', end='')\n",
    "    print()\n",
    "\n",
    "\n",
    "for i in range(row):\n",
    "    for j in range(row):\n",
    "        if j < row - i - 1:\n",
    "            print(' ', end='')\n",
    "        else:\n",
    "            print('*', end='')\n",
    "    print()\n",
    "\n",
    "for i in range(row):\n",
    "    for _ in range(row - i - 1):\n",
    "        print(' ', end='')\n",
    "    for _ in range(2 * i + 1):\n",
    "        print('*', end='')\n",
    "    print()\n"
   ]
  },
  {
   "cell_type": "markdown",
   "metadata": {},
   "source": [
    "## 05. 构造程序逻辑\n",
    "\n",
    "前面学习了Python的核心语言元素（变量、类型、运算符、表达式、分支结构、循环结构等）。这些内容已足够我们来构建程序中的各种逻辑，以尝试解决现实中的问题。如何把用人类自然语言描述的算法（解决问题的方法和步骤）变成Python代码，这必须通过一定量的练习才能达成。"
   ]
  },
  {
   "cell_type": "markdown",
   "metadata": {},
   "source": [
    "### 经典的例子\n",
    "\n",
    "1. 寻找**水仙花数**。\n",
    "\n",
    "   > **说明**：水仙花数是一个3位数，该数每个位上数字的立方和正好等于它本身，例如：153 （$1^3 + 5^3+ 3^3=153$）。"
   ]
  },
  {
   "cell_type": "code",
   "execution_count": null,
   "metadata": {},
   "outputs": [],
   "source": [
    "   \"\"\"\n",
    "   找出所有水仙花数\n",
    "   \"\"\"\n",
    "   \n",
    "   for num in range(100, 1000):\n",
    "       low = num % 10\n",
    "       mid = num // 10 % 10\n",
    "       high = num // 100\n",
    "       if num == low ** 3 + mid ** 3 + high ** 3:\n",
    "           print(num)"
   ]
  },
  {
   "cell_type": "markdown",
   "metadata": {},
   "source": [
    "   > 代码采用了**整除**（`//`）和**求模**（`%`） 运算得到找出个位、十位和百位上的数字，这个小技巧在实际开发中很常用。比如将一个正整数反转，如：将12345变成54321."
   ]
  },
  {
   "cell_type": "code",
   "execution_count": null,
   "metadata": {},
   "outputs": [],
   "source": [
    "   \"\"\"\n",
    "   正整数的反转\n",
    "   \n",
    "   Version: 0.1\n",
    "   Author: 骆昊\n",
    "   \"\"\"\n",
    "   \n",
    "   num = int(input('num = '))\n",
    "   reversed_num = 0\n",
    "   while num > 0:\n",
    "       reversed_num = reversed_num * 10 + num % 10\n",
    "       num //= 10\n",
    "   print(reversed_num)"
   ]
  },
  {
   "cell_type": "markdown",
   "metadata": {},
   "source": [
    "2. **百钱百鸡**问题。\n",
    "\n",
    "   > **说明**：百钱百鸡是《算经》中提出的数学问题：公鸡5元一只，母鸡3元一只，小鸡1元三只，用100块钱买一百只鸡，问公鸡、母鸡、小鸡各多少只？"
   ]
  },
  {
   "cell_type": "code",
   "execution_count": null,
   "metadata": {},
   "outputs": [],
   "source": [
    "   \"\"\"\n",
    "   《百钱百鸡》问题\n",
    "   \n",
    "   Version: 0.1\n",
    "   Author: 骆昊\n",
    "   \"\"\"\n",
    "   \n",
    "   for x in range(0, 20):\n",
    "       for y in range(0, 33):\n",
    "           z = 100 - x - y\n",
    "           if 5 * x + 3 * y + z / 3 == 100:\n",
    "               print('公鸡: %d只, 母鸡: %d只, 小鸡: %d只' % (x, y, z))"
   ]
  },
  {
   "cell_type": "markdown",
   "metadata": {},
   "source": [
    "   上面使用的方法叫做**穷举法**，也称为**暴力搜索法**。这种方法看起来比较笨拙，但对于运算能力非常强大的计算机来说，通常是一个可行选择"
   ]
  },
  {
   "cell_type": "markdown",
   "metadata": {},
   "source": [
    "3. **CRAPS赌博游戏**。\n",
    "\n",
    "   > **说明**：CRAPS又称花旗骰，是美国拉斯维加斯非常受欢迎的一种的桌上赌博游戏。该游戏使用两粒骰子，玩家通过摇两粒骰子获得点数进行游戏。简单的规则是：玩家第一次摇骰子如果摇出了7点或11点，玩家胜；玩家第一次如果摇出2点、3点或12点，庄家胜；其他点数玩家继续摇骰子，如果玩家摇出了7点，庄家胜；如果玩家摇出了第一次摇的点数，玩家胜；其他点数，玩家继续要骰子，直到分出胜负。"
   ]
  },
  {
   "cell_type": "code",
   "execution_count": null,
   "metadata": {},
   "outputs": [],
   "source": [
    "\"\"\"\n",
    "   Craps赌博游戏\n",
    "   我们设定玩家开始游戏时有1000元的赌注\n",
    "   游戏结束的条件是玩家输光所有的赌注\n",
    "   \n",
    "   Version: 0.1\n",
    "\"\"\"\n",
    "\n",
    "from random import randint\n",
    "   \n",
    "money = 1000\n",
    "while money > 0:\n",
    "    print('你的总资产为:', money)\n",
    "    needs_go_on = False\n",
    "    while True:\n",
    "        debt = int(input('请下注: '))\n",
    "        if 0 < debt <= money:\n",
    "            break\n",
    "    first = randint(1, 6) + randint(1, 6)\n",
    "    print('玩家摇出了%d点' % first)\n",
    "    if first == 7 or first == 11:\n",
    "        print('玩家胜!')\n",
    "        money += debt\n",
    "    elif first == 2 or first == 3 or first == 12:\n",
    "        print('庄家胜!')\n",
    "        money -= debt\n",
    "    else:\n",
    "        needs_go_on = True\n",
    "    while needs_go_on:\n",
    "        needs_go_on = False\n",
    "        current = randint(1, 6) + randint(1, 6)\n",
    "        print('玩家摇出了%d点' % current)\n",
    "        if current == 7:\n",
    "            print('庄家胜')\n",
    "            money -= debt\n",
    "        elif current == first:\n",
    "            print('玩家胜')\n",
    "            money += debt\n",
    "        else:\n",
    "            needs_go_on = True\n",
    "print('你破产了, 游戏结束!')"
   ]
  },
  {
   "cell_type": "markdown",
   "metadata": {},
   "source": [
    "### 有用的练习 "
   ]
  },
  {
   "cell_type": "markdown",
   "metadata": {},
   "source": [
    "1. 生成**斐波那契数列**的前20个数。\n",
    "\n",
    "   > **说明**：斐波那契数列（Fibonacci sequence），又称黄金分割数列，是意大利数学家莱昂纳多·斐波那契（Leonardoda Fibonacci）在《计算之书》中提出一个在理想假设条件下兔子成长率的问题而引入的数列，所以这个数列也被戏称为&quot;兔子数列&quot;。斐波那契数列的特点是数列的前两个数都是1，从第三个数开始，每个数都是它前面两个数的和，形如：1, 1, 2, 3, 5, 8, 13, 21, 34, 55, 89, 144, ...。斐波那契数列在现代物理、准晶体结构、化学等领域都有直接的应用。"
   ]
  },
  {
   "cell_type": "markdown",
   "metadata": {},
   "source": [
    "2. 找出10000以内的**完美数**。\n",
    "\n",
    "   > **说明**：完美数又称为完全数或完备数，它的所有的真因子（即除了自身以外的因子）的和（即因子函数）恰好等于它本身。例如：6（$6=1+2+3$）和28（$28=1+2+4+7+14$）就是完美数。完美数有很多神奇的特性，有兴趣的可以自行了解。"
   ]
  },
  {
   "cell_type": "markdown",
   "metadata": {},
   "source": [
    "3. 输出**100以内所有的素数**。\n",
    "\n",
    "   > **说明**：素数指的是只能被1和自身整除的正整数（不包括1）。"
   ]
  },
  {
   "cell_type": "markdown",
   "metadata": {},
   "source": [
    "## 06. 函数和模块的使用\n",
    "\n",
    "**引入** 我们先来研究一道数学题，请说出下面的方程有多少组正整数解。\n",
    "\n",
    "$$x_1 + x_2 + x_3 + x_4 = 8$$\n",
    "\n",
    "问题等同于将8个苹果分成四组每组至少一个苹果有多少种分法。\n",
    "\n",
    "$$C_N^M =\\frac{N!}{M!(N-M)!}, \\text{(N=7, M=3)} $$\n",
    "\n",
    "可以用Python的程序来计算出这个值，代码如下所示。"
   ]
  },
  {
   "cell_type": "code",
   "execution_count": null,
   "metadata": {},
   "outputs": [],
   "source": [
    "\"\"\"\n",
    "输入M和N计算C(M,N)\n",
    "\"\"\"\n",
    "\n",
    "m = int(input('m = '))\n",
    "n = int(input('n = '))\n",
    "fm = 1\n",
    "for num in range(1, m + 1):\n",
    "    fm *= num\n",
    "fn = 1\n",
    "for num in range(1, n + 1):\n",
    "    fn *= num\n",
    "fm_n = 1\n",
    "for num in range(1, m - n + 1):\n",
    "    fm_n *= num\n",
    "print(fm // fn // fm_n)"
   ]
  },
  {
   "cell_type": "markdown",
   "metadata": {},
   "source": [
    "### 函数的作用\n",
    "\n",
    "上面的代码有3次重复。*Martin Fowler*：“**代码有很多种坏味道，重复是最坏的一种！**”，若将计算阶乘的功能封装到一个称之为“函数”的功能模块中，然后“调用”这个“函数”就可以解决重复问题。"
   ]
  },
  {
   "cell_type": "markdown",
   "metadata": {},
   "source": [
    "### 定义函数\n",
    "\n",
    "重构之后的代码如下所示。"
   ]
  },
  {
   "cell_type": "code",
   "execution_count": null,
   "metadata": {},
   "outputs": [],
   "source": [
    "\"\"\"\n",
    "输入M和N计算C(M,N)\n",
    "\n",
    "Version: 0.1\n",
    "Author: 骆昊\n",
    "\"\"\"\n",
    "def fac(num):\n",
    "    \"\"\"求阶乘\"\"\"\n",
    "    result = 1\n",
    "    for n in range(1, num + 1):\n",
    "        result *= n\n",
    "    return result\n",
    "\n",
    "m = int(input('m = '))\n",
    "n = int(input('n = '))\n",
    "# 当需要计算阶乘的时候不用再写循环求阶乘而是直接调用已经定义好的函数\n",
    "print(fac(m) // fac(n) // fac(m - n))"
   ]
  },
  {
   "cell_type": "markdown",
   "metadata": {},
   "source": [
    "> **说明：** Python的`math`模块中有一个名为`factorial`函数来实现阶乘运算，实际开发中不再需要自己再定义一个函数， 因为这是一种**重复性的劳动**。"
   ]
  },
  {
   "cell_type": "markdown",
   "metadata": {},
   "source": [
    "### 函数的参数\n",
    "\n",
    "函数是绝大多数编程语言中都支持的一个代码构建块，在Python中，函数的参数可以有默认值，也支持使用可变参数数目，下面是两个小例子。"
   ]
  },
  {
   "cell_type": "code",
   "execution_count": null,
   "metadata": {},
   "outputs": [],
   "source": [
    "from random import randint\n",
    "\n",
    "\n",
    "def roll_dice(n=2):\n",
    "    \"\"\"摇色子\"\"\"\n",
    "    total = 0\n",
    "    for _ in range(n):\n",
    "        total += randint(1, 6)\n",
    "    return total\n",
    "\n",
    "# 如果没有指定参数值，就使用默认值摇（2）颗色子\n",
    "print(roll_dice())\n",
    "# 摇3颗色子\n",
    "print(roll_dice(3))"
   ]
  },
  {
   "cell_type": "code",
   "execution_count": null,
   "metadata": {},
   "outputs": [],
   "source": [
    "def add(a=0, b=0, c=0):\n",
    "    \"\"\"三个数相加\"\"\"\n",
    "    return a + b + c\n",
    "\n",
    "print(add())\n",
    "print(add(1))\n",
    "print(add(1, 2))\n",
    "print(add(1, 2, 3))\n",
    "# 传递参数时可以不按照设定的顺序进行传递\n",
    "print(add(c=50, a=100, b=200))"
   ]
  },
  {
   "cell_type": "markdown",
   "metadata": {},
   "source": [
    "上面的`add`函数最多有三个参数，参数数目也定的可以使用可变参数，代码如下所示。"
   ]
  },
  {
   "cell_type": "code",
   "execution_count": null,
   "metadata": {},
   "outputs": [],
   "source": [
    "# 在参数名前面的*表示args是一个可变参数\n",
    "def add(*args):\n",
    "    total = 0\n",
    "    for val in args:\n",
    "        total += val\n",
    "    return total\n",
    "\n",
    "\n",
    "# 在调用add函数时可以传入0个或多个参数\n",
    "print(add())\n",
    "print(add(1))\n",
    "print(add(1, 2))\n",
    "print(add(1, 2, 3))\n",
    "print(add(1, 3, 5, 7, 9))\n"
   ]
  },
  {
   "cell_type": "markdown",
   "metadata": {},
   "source": [
    "### 用模块管理函数\n",
    "\n",
    "函数命名时会遇到命名冲突的情况。比如在同一个.py文件中定义了两个同名函数。由于Python没有函数重载的概念，后面的定义会覆盖之前的定义，也就是说两个函数同名函数实际上只有一个是起作用的。"
   ]
  },
  {
   "cell_type": "code",
   "execution_count": null,
   "metadata": {},
   "outputs": [],
   "source": [
    "def foo():\n",
    "    print('hello, world!')\n",
    "\n",
    "\n",
    "def foo():\n",
    "    print('goodbye, world!')\n",
    "\n",
    "\n",
    "# 下面的代码会输出什么呢？\n",
    "foo()"
   ]
  },
  {
   "cell_type": "markdown",
   "metadata": {},
   "source": [
    "当项目由团队协作开发时，很可能有多个程序员都定义了名为`foo`的函数！怎么解决这种命名冲突呢？\n",
    "\n",
    "答案其实很简单，Python的每个文件(.py)代表了一个模块（module），在不同的模块中有同名的函数时，我们通过`import`关键字导入指定的模块来区分到底使用哪个模块中的`foo`函数，代码如下所示。"
   ]
  },
  {
   "cell_type": "markdown",
   "metadata": {},
   "source": [
    "module1.py的内容\n",
    "\n",
    "```python\n",
    "def foo():\n",
    "    print('hello, world!')\n",
    "```\n",
    "\n",
    "module2.py的内容\n",
    "\n",
    "```python\n",
    "def foo():\n",
    "    print('goodbye, world!')\n",
    "```\n",
    "\n",
    "\n",
    "```python\n",
    "from module1 import foo\n",
    "\n",
    "# 输出hello, world!\n",
    "foo()\n",
    "\n",
    "from module2 import foo\n",
    "\n",
    "# 输出 goodbye, world!\n",
    "foo()\n",
    "```"
   ]
  },
  {
   "cell_type": "markdown",
   "metadata": {},
   "source": [
    "也可以按照如下所示的方式来区分到底要使用哪一个`foo`函数。\n",
    "\n",
    "```python\n",
    "import module1 as m1\n",
    "import module2 as m2\n",
    "\n",
    "m1.foo()\n",
    "m2.foo()\n",
    "```"
   ]
  },
  {
   "cell_type": "markdown",
   "metadata": {},
   "source": [
    "如果我们导入的模块有可以执行代码，那么Python解释器在导入时就会执行这些代码。如果不希望总如此，可将代码放入如下所示的条件中，if条件下的这些代码是不会执行的，因为只有直接执行模块时 （`$ python3 module3.py` ），名字才是&quot;\\_\\_main\\_\\_&quot;。\n",
    "\n",
    "`module3.py`\n",
    "\n",
    "```Python\n",
    "def foo():\n",
    "    pass\n",
    "\n",
    "\n",
    "def bar():\n",
    "    pass\n",
    "\n",
    "\n",
    "# __name__是Python中一个隐含的变量它代表了模块的名字\n",
    "# 只有被Python解释器直接执行的模块的名字才是__main__\n",
    "if __name__ == '__main__':\n",
    "    print('call foo()')\n",
    "    foo()\n",
    "    print('call bar()')\n",
    "    bar()\n",
    "```\n",
    "\n",
    "`test.py`\n",
    "\n",
    "```Python\n",
    "import module3\n",
    "\n",
    "# 导入module3时 不会执行模块中if条件成立时的代码\n",
    "```"
   ]
  },
  {
   "cell_type": "markdown",
   "metadata": {},
   "source": [
    "### 练习\n",
    "\n",
    "1：实现计算求最大公约数和最小公倍数的函数。"
   ]
  },
  {
   "cell_type": "code",
   "execution_count": null,
   "metadata": {},
   "outputs": [],
   "source": [
    "def gcd(x, y):\n",
    "    \"\"\"求最大公约数\"\"\"\n",
    "    (x, y) = (y, x) if x > y else (x, y)\n",
    "    for factor in range(x, 0, -1):\n",
    "        if x % factor == 0 and y % factor == 0:\n",
    "            return factor\n",
    "\n",
    "\n",
    "def lcm(x, y):\n",
    "    \"\"\"求最小公倍数\"\"\"\n",
    "    return x * y // gcd(x, y)"
   ]
  },
  {
   "cell_type": "markdown",
   "metadata": {},
   "source": [
    "2：实现判断一个数是不是回文数的函数。"
   ]
  },
  {
   "cell_type": "code",
   "execution_count": null,
   "metadata": {},
   "outputs": [],
   "source": [
    "def is_palindrome(num):\n",
    "    \"\"\"判断一个数是不是回文数\"\"\"\n",
    "    temp = num\n",
    "    total = 0\n",
    "    while temp > 0:\n",
    "        total = total * 10 + temp % 10\n",
    "        temp //= 10\n",
    "    return total == num"
   ]
  },
  {
   "cell_type": "markdown",
   "metadata": {},
   "source": [
    "3：实现判断一个数是不是素数的函数。"
   ]
  },
  {
   "cell_type": "markdown",
   "metadata": {},
   "source": [
    "def is_prime(num):\n",
    "    \"\"\"判断一个数是不是素数\"\"\"\n",
    "    for factor in range(2, int(num ** 0.5) + 1):\n",
    "        if num % factor == 0:\n",
    "            return False\n",
    "    return True if num != 1 else False"
   ]
  },
  {
   "cell_type": "markdown",
   "metadata": {},
   "source": [
    "4：写一个程序判断输入的正整数是不是回文素数。"
   ]
  },
  {
   "cell_type": "code",
   "execution_count": null,
   "metadata": {},
   "outputs": [],
   "source": [
    "if __name__ == '__main__':\n",
    "    num = int(input('请输入正整数: '))\n",
    "    if is_palindrome(num) and is_prime(num):\n",
    "        print('%d是回文素数' % num)"
   ]
  },
  {
   "cell_type": "markdown",
   "metadata": {},
   "source": [
    "> **注意**：通过上面的程序可以看出，当我们**将代码中重复出现的和相对独立的功能抽取成函数**后，我们可以**组合使用这些函数**来解决更为复杂的问题，这也是我们为什么要定义和使用函数的一个非常重要的原因。"
   ]
  },
  {
   "cell_type": "markdown",
   "metadata": {},
   "source": [
    "### 变量的作用域\n",
    "\n",
    "我们来讨论一下Python中有关变量作用域的问题。Python中可以在函数内部再定义子函数，"
   ]
  },
  {
   "cell_type": "code",
   "execution_count": null,
   "metadata": {},
   "outputs": [],
   "source": [
    "def foo():\n",
    "    b = 'hello'\n",
    "\n",
    "    # Python中可以在函数内部再定义函数\n",
    "    def bar():\n",
    "        c = True\n",
    "        print(a)\n",
    "        print(b)\n",
    "        print(c)\n",
    "\n",
    "\n",
    "    bar()\n",
    "\n",
    "\n",
    "if __name__ == '__main__':\n",
    "    a = 100\n",
    "    foo()"
   ]
  },
  {
   "cell_type": "markdown",
   "metadata": {},
   "source": [
    "上面的代码能够顺利的执行并且打印出100、hello和True。但子函数`bar`的内部并没有定义`a`和`b`两个变量. 如何实现的呢？"
   ]
  },
  {
   "cell_type": "markdown",
   "metadata": {},
   "source": [
    "1. `if`定义了一个变量`a`，这是一个全局变量（global variable）可以被`bar`访问（全局作用域）。\n",
    "2. `foo`函数定义了变量`b`，这是一个局部变量（local variable），在`foo`函数的外部不能访问，但在`foo`函数的内部包括子函数`bar`是可以访问的（嵌套作用域）。\n",
    "3. `bar`函数中的变量`c`属于局部作用域，只能在`bar`函数内访问（局部作用域）。\n",
    "4. Python还有一个“内置作用域”， 比如`input`、`print`、`int` 等都属于内置作用域。"
   ]
  },
  {
   "cell_type": "code",
   "execution_count": null,
   "metadata": {},
   "outputs": [],
   "source": [
    "def foo():\n",
    "    a = 200\n",
    "    print(a)  # 200\n",
    "\n",
    "\n",
    "if __name__ == '__main__':\n",
    "    a = 100\n",
    "    foo()\n",
    "    print(a)  # 100"
   ]
  },
  {
   "cell_type": "markdown",
   "metadata": {},
   "source": [
    "在调用`foo`函数前，`a`的值为全域变量值100， 调用`foo`函数后，`a`的值仍然是全域变量值100，但调用`foo`函数时，打印的`a`是局域变量值200. \n",
    "如果希望调用`foo`函数来修改全局作用域中的`a`，则要用关键字`global`指明没有定义局域变量，代码如下所示。"
   ]
  },
  {
   "cell_type": "code",
   "execution_count": null,
   "metadata": {},
   "outputs": [],
   "source": [
    "def foo():\n",
    "    global a\n",
    "    a = 200\n",
    "    print(a)  # 200\n",
    "\n",
    "\n",
    "if __name__ == '__main__':\n",
    "    a = 100\n",
    "    print(a) # 100\n",
    "    foo()    # 200\n",
    "    print(a) # 200"
   ]
  },
  {
   "cell_type": "markdown",
   "metadata": {},
   "source": [
    "在实际开发中，应该尽量减少对全局变量的使用，因为全局变量的作用域和影响过于广泛，可能被意外修改和使用。"
   ]
  },
  {
   "cell_type": "markdown",
   "metadata": {},
   "source": [
    "从现在开始我们可以将Python代码按照下面的格式进行书写，这一点点的改进是在我们理解了函数和作用域的基础上跨出的巨大的一步。"
   ]
  },
  {
   "cell_type": "code",
   "execution_count": null,
   "metadata": {},
   "outputs": [],
   "source": [
    "\n",
    "def main():\n",
    "    # Todo: Add your code here\n",
    "    pass\n",
    "\n",
    "\n",
    "if __name__ == '__main__':\n",
    "    main()\n"
   ]
  },
  {
   "cell_type": "markdown",
   "metadata": {},
   "source": [
    "## 07 字符串和常用数据结构\n",
    "\n",
    "### 字符串\n",
    "\n",
    "数值运算是获得信息的一种方式，但更多的信息却都是以文本的方式存在的。\n",
    "\n",
    "**字符串**是由零个或多个字符组成的有限序列，Python程序中单引号或者双引号包围起来。一般记为$${\\displaystyle s=a_{1}a_{2}\\dots a_{n}(0\\leq n \\leq \\infty)}$$。"
   ]
  },
  {
   "cell_type": "code",
   "execution_count": null,
   "metadata": {},
   "outputs": [],
   "source": [
    "s1 = 'hello, world!'\n",
    "s2 = \"hello, world!\"\n",
    "# 以三个双引号或单引号开头的字符串可以折行\n",
    "s3 = \"\"\"\n",
    "hello, \n",
    "world!\n",
    "\"\"\"\n",
    "print(s1, s2, s3, end='')"
   ]
  },
  {
   "cell_type": "markdown",
   "metadata": {},
   "source": [
    "字符串中可使用`\\`（反斜杠）来表示转义，例如：`\\n`不再代表反斜杠和字符n，而是表示换行；而`\\t`表示制表符。所以如果想在字符串中表示`'`要写成`\\'`，同理想表示`\\`要写成`\\\\`。可以运行下面的代码看看会输出什么。"
   ]
  },
  {
   "cell_type": "code",
   "execution_count": null,
   "metadata": {},
   "outputs": [],
   "source": [
    "s1 = '\\'hello, world!\\''\n",
    "s2 = '\\n\\\\hello, world!\\\\\\n'\n",
    "print(s1, s2, end='')"
   ]
  },
  {
   "cell_type": "code",
   "execution_count": null,
   "metadata": {},
   "outputs": [],
   "source": [
    "s1 = '\\141\\142\\143\\x61\\x62\\x63'\n",
    "s2 = '\\u9a86\\u660a'\n",
    "print(s1, s2)"
   ]
  },
  {
   "cell_type": "markdown",
   "metadata": {},
   "source": [
    "如果不希望字符串中的`\\`表示转义，我们可以通过在字符串的最前面加上字母`r`来加以说明"
   ]
  },
  {
   "cell_type": "code",
   "execution_count": null,
   "metadata": {},
   "outputs": [],
   "source": [
    "s1 = r'\\'hello, world!\\''\n",
    "s2 = r'\\n\\\\hello, world!\\\\\\n'\n",
    "print(s1, s2, end='')"
   ]
  },
  {
   "cell_type": "markdown",
   "metadata": {},
   "source": [
    "Python为字符串类型提供了非常丰富的运算符"
   ]
  },
  {
   "cell_type": "code",
   "execution_count": null,
   "metadata": {},
   "outputs": [],
   "source": [
    "s1 = 'hello ' * 3\n",
    "print(s1) # hello hello hello \n",
    "s2 = 'world'\n",
    "s1 += s2\n",
    "print(s1) # hello hello hello world\n",
    "print('ll' in s1) # True\n",
    "print('good' in s1) # False\n",
    "str2 = 'abc123456'\n",
    "# 从字符串中取出指定位置的字符(下标运算)\n",
    "print(str2[2]) # c\n",
    "# 字符串切片(从指定的开始索引到指定的结束索引)\n",
    "print(str2[2:5]) # c12\n",
    "print(str2[2:]) # c123456\n",
    "print(str2[2::2]) # c246\n",
    "print(str2[::2]) # ac246\n",
    "print(str2[::-1]) # 654321cba\n",
    "print(str2[-3:-1]) # 45"
   ]
  },
  {
   "cell_type": "markdown",
   "metadata": {},
   "source": [
    "Python可以通过一系列的函数来完成对字符串的处理。"
   ]
  },
  {
   "cell_type": "code",
   "execution_count": null,
   "metadata": {},
   "outputs": [],
   "source": [
    "str1 = 'hello, world!'\n",
    "# 通过内置函数len计算字符串的长度\n",
    "print(len(str1)) # 13\n",
    "# 获得字符串首字母大写的拷贝\n",
    "print(str1.capitalize()) # Hello, world!\n",
    "# 获得字符串每个单词首字母大写的拷贝\n",
    "print(str1.title()) # Hello, World!\n",
    "# 获得字符串变大写后的拷贝\n",
    "print(str1.upper()) # HELLO, WORLD!\n",
    "# 从字符串中查找子串所在位置\n",
    "print(str1.find('or')) # 8\n",
    "print(str1.find('shit')) # -1\n",
    "# 与find类似但找不到子串时会引发异常\n",
    "# print(str1.index('or'))\n",
    "# print(str1.index('shit'))\n",
    "# 检查字符串是否以指定的字符串开头\n",
    "print(str1.startswith('He')) # False\n",
    "print(str1.startswith('hel')) # True\n",
    "# 检查字符串是否以指定的字符串结尾\n",
    "print(str1.endswith('!')) # True\n",
    "# 将字符串以指定的宽度居中并在两侧填充指定的字符\n",
    "print(str1.center(50, '*'))\n",
    "# 将字符串以指定的宽度靠右放置左侧填充指定的字符\n",
    "print(str1.rjust(50, ' '))\n",
    "str2 = 'abc123456'\n",
    "# 检查字符串是否由数字构成\n",
    "print(str2.isdigit())  # False\n",
    "# 检查字符串是否以字母构成\n",
    "print(str2.isalpha())  # False\n",
    "# 检查字符串是否以数字和字母构成\n",
    "print(str2.isalnum())  # True\n",
    "str3 = '  jackfrued@126.com '\n",
    "print(str3)\n",
    "# 获得字符串修剪左右两侧空格之后的拷贝\n",
    "print(str3.strip())"
   ]
  },
  {
   "cell_type": "markdown",
   "metadata": {},
   "source": [
    "可以格式化输出数值。"
   ]
  },
  {
   "cell_type": "code",
   "execution_count": null,
   "metadata": {},
   "outputs": [],
   "source": [
    "a, b = 5, 10\n",
    "print('%d * %d = %d' % (a, b, a * b))"
   ]
  },
  {
   "cell_type": "markdown",
   "metadata": {},
   "source": [
    "也可以用字符串提供的格式函数来完成输出。"
   ]
  },
  {
   "cell_type": "code",
   "execution_count": null,
   "metadata": {},
   "outputs": [],
   "source": [
    "a, b = 5, 10\n",
    "print('{0} * {1} = {2}'.format(a, b, a * b))"
   ]
  },
  {
   "cell_type": "markdown",
   "metadata": {},
   "source": [
    "Python 3.6以后，字符串前加上字母`f`就可以了。"
   ]
  },
  {
   "cell_type": "code",
   "execution_count": null,
   "metadata": {},
   "outputs": [],
   "source": [
    "a, b = 5, 10\n",
    "print(f'{a} × {b} = {a * b}')"
   ]
  },
  {
   "cell_type": "markdown",
   "metadata": {},
   "source": [
    "除了数值（整数，浮点数，`int`和`float`）和字符串（`str`)，Python还内置了多种类型的数据结构，常用的包括列表[]、元组()、集合{}和字典{}。"
   ]
  },
  {
   "cell_type": "markdown",
   "metadata": {},
   "source": [
    "### 列表\n",
    "\n",
    "数值类型是标量类型，没有可以访问的内部结构；字符串类型是一种结构化的、非标量类型，有一系列的属性和函数来获得结构信息。\n",
    "\n",
    "列表（`list`）也是一种结构化的、非标量类型，它是值的有序序列，因此和字符串一样有下标运算等。"
   ]
  },
  {
   "cell_type": "code",
   "execution_count": null,
   "metadata": {},
   "outputs": [],
   "source": [
    "list1 = [1, 3, 5, 7, 100]\n",
    "print(list1) # [1, 3, 5, 7, 100]\n",
    "# 乘号表示列表元素的重复\n",
    "list2 = ['hello'] * 3\n",
    "print(list2) # ['hello', 'hello', 'hello']\n",
    "# 计算列表长度(元素个数)\n",
    "print(len(list1)) # 5\n",
    "# 下标(索引)运算\n",
    "print(list1[0]) # 1\n",
    "print(list1[4]) # 100\n",
    "# print(list1[5])  # IndexError: list index out of range\n",
    "print(list1[-1]) # 100\n",
    "print(list1[-3]) # 5\n",
    "list1[2] = 300\n",
    "print(list1) # [1, 3, 300, 7, 100]\n",
    "# 通过循环用下标遍历列表元素\n",
    "for index in range(len(list1)):\n",
    "    print(list1[index])\n",
    "# 通过for循环遍历列表元素\n",
    "for elem in list1:\n",
    "    print(elem)\n",
    "# 通过enumerate函数处理列表之后再遍历可以同时获得元素索引和值\n",
    "for index, elem in enumerate(list1):\n",
    "    print(index, elem)"
   ]
  },
  {
   "cell_type": "markdown",
   "metadata": {},
   "source": [
    "下面的代码演示了如何向列表中添加元素以及如何从列表中移除元素。"
   ]
  },
  {
   "cell_type": "code",
   "execution_count": null,
   "metadata": {},
   "outputs": [],
   "source": [
    "list1 = [1, 3, 5, 7, 100]\n",
    "# 添加元素\n",
    "list1.append(200)\n",
    "list1.insert(1, 400)\n",
    "# 合并两个列表\n",
    "# list1.extend([1000, 2000])\n",
    "list1 += [1000, 2000]\n",
    "print(list1) # [1, 400, 3, 5, 7, 100, 200, 1000, 2000]\n",
    "print(len(list1)) # 9\n",
    "# 先通过成员运算判断元素是否在列表中，如果存在就删除该元素\n",
    "if 3 in list1:\n",
    "\tlist1.remove(3)\n",
    "if 1234 in list1:\n",
    "    list1.remove(1234)\n",
    "print(list1) # [1, 400, 5, 7, 100, 200, 1000, 2000]\n",
    "# 从指定的位置删除元素\n",
    "list1.pop(0)\n",
    "list1.pop(len(list1) - 1)\n",
    "print(list1) # [400, 5, 7, 100, 200, 1000]\n",
    "# 清空列表元素\n",
    "list1.clear()\n",
    "print(list1) # []"
   ]
  },
  {
   "cell_type": "markdown",
   "metadata": {},
   "source": [
    "和字符串一样，列表也可以做切片操作，通过切片操作我们可以实现对列表的复制或者将列表中的一部分取出来创建出新的列表，代码如下所示。"
   ]
  },
  {
   "cell_type": "code",
   "execution_count": null,
   "metadata": {},
   "outputs": [],
   "source": [
    "fruits = ['grape', 'apple', 'strawberry', 'waxberry']\n",
    "fruits += ['pitaya', 'pear', 'mango']\n",
    "# 列表切片\n",
    "fruits2 = fruits[1:4]\n",
    "print(fruits2) # apple strawberry waxberry\n",
    "# 可以通过完整切片操作来复制列表\n",
    "fruits3 = fruits[:]\n",
    "print(fruits3) # ['grape', 'apple', 'strawberry', 'waxberry', 'pitaya', 'pear', 'mango']\n",
    "fruits4 = fruits[-3:-1]\n",
    "print(fruits4) # ['pitaya', 'pear']\n",
    "# 可以通过反向切片操作来获得倒转后的列表的拷贝\n",
    "fruits5 = fruits[::-1]\n",
    "print(fruits5) # ['mango', 'pear', 'pitaya', 'waxberry', 'strawberry', 'apple', 'grape']"
   ]
  },
  {
   "cell_type": "markdown",
   "metadata": {},
   "source": [
    "下面的代码实现了对列表的排序操作。"
   ]
  },
  {
   "cell_type": "code",
   "execution_count": null,
   "metadata": {},
   "outputs": [],
   "source": [
    "list1 = ['orange', 'apple', 'zoo', 'internationalization', 'blueberry']\n",
    "list2 = sorted(list1)\n",
    "# sorted函数返回列表排序后的拷贝不会修改传入的列表\n",
    "# 函数的设计就应该像sorted函数一样尽可能不产生副作用\n",
    "list3 = sorted(list1, reverse=True)\n",
    "# 通过key关键字参数指定根据字符串长度进行排序而不是默认的字母表顺序\n",
    "list4 = sorted(list1, key=len)\n",
    "print(list1)\n",
    "print(list2)\n",
    "print(list3)\n",
    "print(list4)\n",
    "# 给列表对象发出排序消息直接在列表对象上进行排序\n",
    "list1.sort(reverse=True)\n",
    "print(list1)"
   ]
  },
  {
   "cell_type": "markdown",
   "metadata": {},
   "source": [
    "### 生成式和生成器\n",
    "\n",
    "我们还可以使用列表的生成式语法来创建列表，代码如下所示。"
   ]
  },
  {
   "cell_type": "code",
   "execution_count": null,
   "metadata": {},
   "outputs": [],
   "source": [
    "import sys\n",
    "\n",
    "f = [x for x in range(1, 10)]\n",
    "print(f)\n",
    "f = [x + y for x in 'ABCDE' for y in '1234567']\n",
    "print(f)\n",
    "# 用列表的生成表达式语法创建列表容器\n",
    "# 用这种语法创建列表之后元素已经准备就绪所以需要耗费较多的内存空间\n",
    "f = [x ** 2 for x in range(1, 1000)]\n",
    "print(sys.getsizeof(f))  # 查看对象占用内存的字节数\n",
    "print(f)\n",
    "# 请注意下面的代码创建的不是一个列表而是一个生成器对象\n",
    "# 通过生成器可以获取到数据但它不占用额外的空间存储数据\n",
    "# 每次需要数据的时候就通过内部的运算得到数据(需要花费额外的时间)\n",
    "f = (x ** 2 for x in range(1, 1000))\n",
    "print(sys.getsizeof(f))  # 相比生成式生成器不占用存储数据的空间\n",
    "print(f)\n",
    "for val in f:\n",
    "    print(val)"
   ]
  },
  {
   "cell_type": "markdown",
   "metadata": {},
   "source": [
    "除了上面提到的生成器语法，Python中还通过`yield`关键字将一个普通函数改造成生成器函数。"
   ]
  },
  {
   "cell_type": "code",
   "execution_count": null,
   "metadata": {},
   "outputs": [],
   "source": [
    "def fib(n):\n",
    "    a, b = 0, 1\n",
    "    for _ in range(n):\n",
    "        a, b = b, a + b\n",
    "        yield a\n",
    "\n",
    "\n",
    "def main():\n",
    "    for val in fib(20):\n",
    "        print(val)\n",
    "\n",
    "\n",
    "if __name__ == '__main__':\n",
    "    main()"
   ]
  },
  {
   "cell_type": "markdown",
   "metadata": {},
   "source": [
    "### 元组\n",
    "\n",
    "我们把多个元素组合到一起就形成了一个元组， 元组与列表类似但其元素不能修改。"
   ]
  },
  {
   "cell_type": "code",
   "execution_count": null,
   "metadata": {},
   "outputs": [],
   "source": [
    "# 定义元组\n",
    "t = ('骆昊', 38, True, '四川成都')\n",
    "print(t)\n",
    "# 获取元组中的元素\n",
    "print(t[0])\n",
    "print(t[3])\n",
    "# 遍历元组中的值\n",
    "for member in t:\n",
    "    print(member)\n",
    "# 重新给元组赋值\n",
    "# t[0] = '王大锤'  # TypeError\n",
    "# 变量t重新引用了新的元组原来的元组将被垃圾回收\n",
    "t = ('王大锤', 20, True, '云南昆明')\n",
    "print(t)\n",
    "# 将元组转换成列表\n",
    "person = list(t)\n",
    "print(person)\n",
    "# 列表是可以修改它的元素的\n",
    "person[0] = '李小龙'\n",
    "person[1] = 25\n",
    "print(person)\n",
    "# 将列表转换成元组\n",
    "fruits_list = ['apple', 'banana', 'orange']\n",
    "fruits_tuple = tuple(fruits_list)\n",
    "print(fruits_tuple)"
   ]
  },
  {
   "cell_type": "markdown",
   "metadata": {},
   "source": [
    "### 集合\n",
    "\n",
    "Python中的集合跟数学上的集合是一致的，不允许有重复元素，而且可以进行交集、并集、差集等运算。\n",
    "\n",
    "可以按照下面代码所示的方式来创建和使用集合。"
   ]
  },
  {
   "cell_type": "code",
   "execution_count": null,
   "metadata": {},
   "outputs": [],
   "source": [
    "# 创建集合的字面量语法\n",
    "set1 = {1, 2, 3, 3, 3, 2}\n",
    "print(set1)\n",
    "print('Length =', len(set1))\n",
    "# 创建集合的构造器语法(面向对象部分会进行详细讲解)\n",
    "set2 = set(range(1, 10))\n",
    "set3 = set((1, 2, 3, 3, 2, 1))\n",
    "print(set2, set3)\n",
    "# 创建集合的推导式语法(推导式也可以用于推导集合)\n",
    "set4 = {num for num in range(1, 100) if num % 3 == 0 or num % 5 == 0}\n",
    "print(set4)"
   ]
  },
  {
   "cell_type": "markdown",
   "metadata": {},
   "source": [
    "向集合添加元素和从集合删除元素。"
   ]
  },
  {
   "cell_type": "code",
   "execution_count": null,
   "metadata": {},
   "outputs": [],
   "source": [
    "set1.add(4)\n",
    "set1.add(5)\n",
    "set2.update([11, 12])\n",
    "set2.discard(5)\n",
    "if 4 in set2:\n",
    "    set2.remove(4)\n",
    "print(set1, set2)\n",
    "print(set3.pop())\n",
    "print(set3)"
   ]
  },
  {
   "cell_type": "markdown",
   "metadata": {},
   "source": [
    "集合的成员、交集、并集、差集等运算。"
   ]
  },
  {
   "cell_type": "code",
   "execution_count": null,
   "metadata": {},
   "outputs": [],
   "source": [
    "# 集合的交集、并集、差集、对称差运算\n",
    "print(set1 & set2)\n",
    "# print(set1.intersection(set2))\n",
    "print(set1 | set2)\n",
    "# print(set1.union(set2))\n",
    "print(set1 - set2)\n",
    "# print(set1.difference(set2))\n",
    "print(set1 ^ set2)\n",
    "# print(set1.symmetric_difference(set2))\n",
    "# 判断子集和超集\n",
    "print(set2 <= set1)\n",
    "# print(set2.issubset(set1))\n",
    "print(set3 <= set1)\n",
    "# print(set3.issubset(set1))\n",
    "print(set1 >= set2)\n",
    "# print(set1.issuperset(set2))\n",
    "print(set1 >= set3)\n",
    "# print(set1.issuperset(set3))"
   ]
  },
  {
   "cell_type": "markdown",
   "metadata": {},
   "source": [
    "### 字典\n",
    "\n",
    "字典与集合不同的是，字典的每个元素都是由一个键和一个值组成的“键值对”，键和值通过冒号分开。"
   ]
  },
  {
   "cell_type": "code",
   "execution_count": null,
   "metadata": {},
   "outputs": [],
   "source": [
    "# 创建字典的字面量语法\n",
    "scores = {'骆昊': 95, '白元芳': 78, '狄仁杰': 82}\n",
    "print(scores)\n",
    "# 创建字典的构造器语法\n",
    "items1 = dict(one=1, two=2, three=3, four=4)\n",
    "# 通过zip函数将两个序列压成字典\n",
    "items2 = dict(zip(['a', 'b', 'c'], '123'))\n",
    "# 创建字典的推导式语法\n",
    "items3 = {num: num ** 2 for num in range(1, 10)}\n",
    "print(items1, items2, items3)\n",
    "# 通过键可以获取字典中对应的值\n",
    "print(scores['骆昊'])\n",
    "print(scores['狄仁杰'])\n",
    "# 对字典中所有键值对进行遍历\n",
    "for key in scores:\n",
    "    print(f'{key}: {scores[key]}')\n",
    "# 更新字典中的元素\n",
    "scores['白元芳'] = 65\n",
    "scores['诸葛王朗'] = 71\n",
    "scores.update(冷面=67, 方启鹤=85)\n",
    "print(scores)\n",
    "if '武则天' in scores:\n",
    "    print(scores['武则天'])\n",
    "print(scores.get('武则天'))\n",
    "# get方法也是通过键获取对应的值但是可以设置默认值\n",
    "print(scores.get('武则天', 60))\n",
    "# 删除字典中的元素\n",
    "print(scores.popitem())\n",
    "print(scores.popitem())\n",
    "print(scores.pop('骆昊', 100))\n",
    "# 清空字典\n",
    "scores.clear()\n",
    "print(scores)"
   ]
  },
  {
   "cell_type": "markdown",
   "metadata": {},
   "source": [
    "### 练习\n",
    "\n",
    "1：在屏幕上显示跑马灯文字。"
   ]
  },
  {
   "cell_type": "code",
   "execution_count": null,
   "metadata": {},
   "outputs": [],
   "source": [
    "import os\n",
    "import time\n",
    "\n",
    "\n",
    "def main():\n",
    "    i = 0\n",
    "    content = '北京欢迎你为你开天辟地…………'\n",
    "    while True:\n",
    "        # 清理屏幕上的输出\n",
    "        os.system('cls')  # os.system('clear')\n",
    "        print(content)\n",
    "        # 休眠200毫秒\n",
    "        time.sleep(0.2)\n",
    "        content = content[1:] + content[0]\n",
    "        i+= 1\n",
    "        if i>10:\n",
    "            break\n",
    "\n",
    "\n",
    "if __name__ == '__main__':\n",
    "    main()"
   ]
  },
  {
   "cell_type": "markdown",
   "metadata": {},
   "source": [
    "2：设计一个函数产生指定长度的验证码，验证码由大小写字母和数字构成。"
   ]
  },
  {
   "cell_type": "code",
   "execution_count": null,
   "metadata": {},
   "outputs": [],
   "source": [
    "import random\n",
    "\n",
    "\n",
    "def generate_code(code_len=4):\n",
    "    \"\"\"\n",
    "    生成指定长度的验证码\n",
    "    :param code_len: 验证码的长度(默认4个字符)\n",
    "    :return: 由大小写英文字母和数字构成的随机验证码\n",
    "    \"\"\"\n",
    "    all_chars = '0123456789abcdefghijklmnopqrstuvwxyzABCDEFGHIJKLMNOPQRSTUVWXYZ'\n",
    "    last_pos = len(all_chars) - 1\n",
    "    code = ''\n",
    "    for _ in range(code_len):\n",
    "        index = random.randint(0, last_pos)\n",
    "        code += all_chars[index]\n",
    "    return code"
   ]
  },
  {
   "cell_type": "markdown",
   "metadata": {},
   "source": [
    "3：设计一个函数返回给定文件名的后缀名。"
   ]
  },
  {
   "cell_type": "code",
   "execution_count": null,
   "metadata": {},
   "outputs": [],
   "source": [
    "def get_suffix(filename, has_dot=False):\n",
    "    \"\"\"\n",
    "    获取文件名的后缀名\n",
    "    :param filename: 文件名\n",
    "    :param has_dot: 返回的后缀名是否需要带点\n",
    "    :return: 文件的后缀名\n",
    "    \"\"\"\n",
    "    \n",
    "    pos = filename.rfind('.')\n",
    "    if 0 < pos < len(filename) - 1:\n",
    "        index = pos if has_dot else pos + 1\n",
    "        return filename[index:]\n",
    "    else:\n",
    "        return ''"
   ]
  },
  {
   "cell_type": "markdown",
   "metadata": {},
   "source": [
    "4：设计一个函数返回传入的列表中最大和第二大的元素的值。"
   ]
  },
  {
   "cell_type": "code",
   "execution_count": null,
   "metadata": {},
   "outputs": [],
   "source": [
    "def max2(x):\n",
    "    m1, m2 = (x[0], x[1]) if x[0] > x[1] else (x[1], x[0])\n",
    "    for index in range(2, len(x)):\n",
    "        if x[index] > m1:\n",
    "            m2 = m1\n",
    "            m1 = x[index]\n",
    "        elif x[index] > m2:\n",
    "            m2 = x[index]\n",
    "    return m1, m2"
   ]
  },
  {
   "cell_type": "markdown",
   "metadata": {},
   "source": [
    "5：计算指定的年月日是这一年的第几天。"
   ]
  },
  {
   "cell_type": "code",
   "execution_count": null,
   "metadata": {},
   "outputs": [],
   "source": [
    "def is_leap_year(year):\n",
    "    \"\"\"\n",
    "    判断指定的年份是不是闰年\n",
    "\n",
    "    :param year: 年份\n",
    "    :return: 闰年返回True平年返回False\n",
    "    \"\"\"\n",
    "    return year % 4 == 0 and year % 100 != 0 or year % 400 == 0\n",
    "\n",
    "\n",
    "def which_day(year, month, date):\n",
    "    \"\"\"\n",
    "    计算传入的日期是这一年的第几天\n",
    "\n",
    "    :param year: 年\n",
    "    :param month: 月\n",
    "    :param date: 日\n",
    "    :return: 第几天\n",
    "    \"\"\"\n",
    "    days_of_month = [\n",
    "        [31, 28, 31, 30, 31, 30, 31, 31, 30, 31, 30, 31],\n",
    "        [31, 29, 31, 30, 31, 30, 31, 31, 30, 31, 30, 31]\n",
    "    ][is_leap_year(year)]\n",
    "    total = 0\n",
    "    for index in range(month - 1):\n",
    "        total += days_of_month[index]\n",
    "    return total + date\n",
    "\n",
    "\n",
    "def main():\n",
    "    print(which_day(1980, 11, 28))\n",
    "    print(which_day(1981, 12, 31))\n",
    "    print(which_day(2018, 1, 1))\n",
    "    print(which_day(2016, 3, 1))\n",
    "\n",
    "\n",
    "if __name__ == '__main__':\n",
    "    main()"
   ]
  },
  {
   "cell_type": "markdown",
   "metadata": {},
   "source": [
    "6：打印[杨辉三角](https://zh.wikipedia.org/wiki/%E6%9D%A8%E8%BE%89%E4%B8%89%E8%A7%92%E5%BD%A2)。"
   ]
  },
  {
   "cell_type": "code",
   "execution_count": null,
   "metadata": {},
   "outputs": [],
   "source": [
    "def main():\n",
    "    num = int(input('Number of rows: '))\n",
    "    yh = [[]] * num\n",
    "    for row in range(len(yh)):\n",
    "        yh[row] = [None] * (row + 1)\n",
    "        for col in range(len(yh[row])):\n",
    "            if col == 0 or col == row:\n",
    "                yh[row][col] = 1\n",
    "            else:\n",
    "                yh[row][col] = yh[row - 1][col] + yh[row - 1][col - 1]\n",
    "            print(yh[row][col], end='\\t')\n",
    "        print()\n",
    "\n",
    "\n",
    "if __name__ == '__main__':\n",
    "    main()"
   ]
  },
  {
   "cell_type": "markdown",
   "metadata": {},
   "source": [
    "### 综合案例\n",
    "\n",
    "1：双色球选号。"
   ]
  },
  {
   "cell_type": "code",
   "execution_count": null,
   "metadata": {},
   "outputs": [],
   "source": [
    "from random import randrange, randint, sample\n",
    "\n",
    "\n",
    "def display(balls):\n",
    "    \"\"\"\n",
    "    输出列表中的双色球号码\n",
    "    \"\"\"\n",
    "    for index, ball in enumerate(balls):\n",
    "        if index == len(balls) - 1:\n",
    "            print('|', end=' ')\n",
    "        print('%02d' % ball, end=' ')\n",
    "    print()\n",
    "\n",
    "\n",
    "def random_select():\n",
    "    \"\"\"\n",
    "    随机选择一组号码\n",
    "    \"\"\"\n",
    "    red_balls = [x for x in range(1, 34)]\n",
    "    selected_balls = []\n",
    "    selected_balls = sample(red_balls, 6)\n",
    "    selected_balls.sort()\n",
    "    selected_balls.append(randint(1, 16))\n",
    "    return selected_balls\n",
    "\n",
    "\n",
    "def main():\n",
    "    n = int(input('机选几注: '))\n",
    "    for _ in range(n):\n",
    "        display(random_select())\n",
    "\n",
    "\n",
    "if __name__ == '__main__':\n",
    "    main()"
   ]
  },
  {
   "cell_type": "markdown",
   "metadata": {},
   "source": [
    "> **说明：** 上面使用random模块的sample函数来实现从列表中选择不重复的n个元素。"
   ]
  },
  {
   "cell_type": "markdown",
   "metadata": {},
   "source": [
    "2：[约瑟夫环问题](https://zh.wikipedia.org/wiki/%E7%BA%A6%E7%91%9F%E5%A4%AB%E6%96%AF%E9%97%AE%E9%A2%98)。"
   ]
  },
  {
   "cell_type": "code",
   "execution_count": null,
   "metadata": {},
   "outputs": [],
   "source": [
    "\"\"\"\n",
    "《幸运的基督徒》\n",
    "有15个基督徒和15个非基督徒在海上遇险，为了能让一部分人活下来不得不将其中15个人扔到海里面去，\\\n",
    "有个人想了个办法就是大家围成一个圈，由某个人开始从1报数，报到9的人就扔到海里面，他后面的人接着从1开始报数，\\\n",
    "报到9的人继续扔到海里面，直到扔掉15个人。由于上帝的保佑，15个基督徒都幸免于难，问这些人最开始是怎么站的，\\\n",
    "哪些位置是基督徒哪些位置是非基督徒。\n",
    "\"\"\"\n",
    "\n",
    "\n",
    "def main():\n",
    "    persons = [True] * 30\n",
    "    counter, index, number = 0, 0, 0\n",
    "    while counter < 15:\n",
    "        if persons[index]:\n",
    "            number += 1\n",
    "            if number == 9:\n",
    "                persons[index] = False\n",
    "                counter += 1\n",
    "                number = 0\n",
    "        index += 1\n",
    "        index %= 30\n",
    "    for person in persons:\n",
    "        print('基' if person else '非', end='')\n",
    "\n",
    "\n",
    "if __name__ == '__main__':\n",
    "    main()"
   ]
  },
  {
   "cell_type": "markdown",
   "metadata": {},
   "source": [
    "3：[井字棋](https://zh.wikipedia.org/wiki/%E4%BA%95%E5%AD%97%E6%A3%8B)游戏。"
   ]
  },
  {
   "cell_type": "code",
   "execution_count": null,
   "metadata": {},
   "outputs": [],
   "source": [
    "import os\n",
    "\n",
    "\n",
    "def print_board(board):\n",
    "    print(board['TL'] + '|' + board['TM'] + '|' + board['TR'])\n",
    "    print('-+-+-')\n",
    "    print(board['ML'] + '|' + board['MM'] + '|' + board['MR'])\n",
    "    print('-+-+-')\n",
    "    print(board['BL'] + '|' + board['BM'] + '|' + board['BR'])\n",
    "\n",
    "\n",
    "def main():\n",
    "    init_board = {\n",
    "        'TL': ' ', 'TM': ' ', 'TR': ' ',\n",
    "        'ML': ' ', 'MM': ' ', 'MR': ' ',\n",
    "        'BL': ' ', 'BM': ' ', 'BR': ' '\n",
    "    }\n",
    "    begin = True\n",
    "    while begin:\n",
    "        curr_board = init_board.copy()\n",
    "        begin = False\n",
    "        turn = 'x'\n",
    "        counter = 0\n",
    "        os.system('clear')\n",
    "        print_board(curr_board)\n",
    "        while counter < 9:\n",
    "            move = input('轮到%s走棋, 请输入位置: ' % turn)\n",
    "            if curr_board[move] == ' ':\n",
    "                counter += 1\n",
    "                curr_board[move] = turn\n",
    "                if turn == 'x':\n",
    "                    turn = 'o'\n",
    "                else:\n",
    "                    turn = 'x'\n",
    "            os.system('clear')\n",
    "            print_board(curr_board)\n",
    "        choice = input('再玩一局?(yes|no)')\n",
    "        begin = choice == 'yes'\n",
    "\n",
    "\n",
    "if __name__ == '__main__':\n",
    "    main()"
   ]
  },
  {
   "cell_type": "markdown",
   "metadata": {},
   "source": [
    ">**说明：** 最后这个案例来自[《Python编程快速上手:让繁琐工作自动化》](https://item.jd.com/11943853.html)一书（这本书对有编程基础想迅速使用Python将日常工作自动化的人来说还是不错的选择），对代码做了一点点的调整。"
   ]
  },
  {
   "cell_type": "markdown",
   "metadata": {},
   "source": [
    "## 08 面向对象编程\n",
    "\n",
    "\n",
    "&quot;把一组数据结构和处理它们的方法组合在一起，构成对一种对象（object）的描述（比如麻雀），把具有相同行为特征的对象纳为一种类（class）（比如鸟），通过类的封装（encapsulation）隐藏内部细节，通过继承（inheritance）实现类的特化（specialization）和泛化（generalization），通过多态（polymorphism）实现基于对象类型的动态分派。&quot;"
   ]
  },
  {
   "cell_type": "markdown",
   "metadata": {},
   "source": [
    "**程序**是指令的集合;**函数**相对独立且经常重复使用的能实现一定功能的一段程序；如果一个函数的功能过于复杂和臃肿，则可以进一步将函数切分为**子函数**来降低复杂性。说明编程必须抛弃人类正常的思维模式去迎合计算机的这种程序-函数思维模式。特别地，当需要开发一个复杂的系统时，代码的复杂性会让开发和维护工作都变得举步维艰。"
   ]
  },
  {
   "cell_type": "markdown",
   "metadata": {},
   "source": [
    "上世纪70年代引入面向对象的编程思想（[Simula](https://zh.wikipedia.org/wiki/Simula)语言）。把程序中的数据和操作这些数据的函数看成一个逻辑上的整体，称“对象”，编程就是根据要解决的实际问题创建出所需要的各种对象，并让多个对象协同工作，从而最终构造出一种复杂的系统来以解决实际问题。"
   ]
  },
  {
   "cell_type": "markdown",
   "metadata": {},
   "source": [
    "### 类和对象\n",
    "\n",
    "类是对象的一种模板，对象是类的实例。类是抽象的，对象是具体的。对象具有具体的属性和行为，每个对象都是独一无二的存在，把一大堆拥有共同特征的对象的静态特征（属性）和动态特征（行为）抽取出来，得到这一“类”对象的共同属性和行为，构成一个类。"
   ]
  },
  {
   "cell_type": "markdown",
   "metadata": {},
   "source": [
    "### 定义类\n",
    "\n",
    "在Python中可以使用`class`关键字定义类，然后在类中通过之前学习过的函数来定义方法，这样就可以将对象的动态特征描述出来，代码如下所示。"
   ]
  },
  {
   "cell_type": "code",
   "execution_count": null,
   "metadata": {},
   "outputs": [],
   "source": [
    "class Student(object):  \n",
    "    # 这是一个学生类\n",
    "\n",
    "    # __init__在创建对象一个个具体的学生对象时进行初始化操作\n",
    "    # 比如给出每一个学生（对象）的静态属性（name,age,gender等）\n",
    "    def __init__(self, name, age):\n",
    "        self.name = name\n",
    "        self.age = age\n",
    "    \n",
    "    # 学生的学习行为，比如修了什么课\n",
    "    def study(self, course_name):\n",
    "        print('%s必须学习%s.' % (self.name, course_name))\n",
    "\n",
    "    # 规定学生的行为，比如看电影\n",
    "    def watch_movie(self):\n",
    "        if self.age > 18:\n",
    "            print('%s只能观看《熊出没》.' % self.name)\n",
    "        else:\n",
    "            print('%s只能观看《爱情》.' % self.name)"
   ]
  },
  {
   "cell_type": "markdown",
   "metadata": {},
   "source": [
    "### 创建和使用对象\n",
    "\n",
    "当我们定义好一个类之后，可以通过下面的方式来创建对象并给对象发消息。"
   ]
  },
  {
   "cell_type": "code",
   "execution_count": null,
   "metadata": {},
   "outputs": [],
   "source": [
    "def main():\n",
    "    # 创建学生对象并指定姓名和年龄\n",
    "    stu1 = Student('骆昊', 18)\n",
    "    # 给对象发study消息\n",
    "    stu1.study('Python程序设计')\n",
    "    # 给对象1发出watch_av消息\n",
    "    stu1.watch_movie()\n",
    "\n",
    "    stu2 = Student('王大锤', 19)\n",
    "    stu2.study('思想品德')\n",
    "    stu2.watch_movie()\n",
    "\n",
    "if __name__ == '__main__':\n",
    "    main()"
   ]
  },
  {
   "cell_type": "markdown",
   "metadata": {},
   "source": [
    "### 访问可见性问题\n",
    "\n",
    "在Python中，属性和方法的访问权限有公开和私有两种，如果希望属性或方法是私有的，在命名时用两个下划线开头。"
   ]
  },
  {
   "cell_type": "code",
   "execution_count": null,
   "metadata": {},
   "outputs": [],
   "source": [
    "class Test:\n",
    "\n",
    "    def __init__(self, foo):\n",
    "        self.__foo = foo\n",
    "\n",
    "    def __bar(self):\n",
    "        print(self.__foo)\n",
    "        print('__bar')\n",
    "\n",
    "\n",
    "def main():\n",
    "    test = Test('hello')\n",
    "    # AttributeError: 'Test' object has no attribute '__bar'\n",
    "    test.__bar()\n",
    "    # AttributeError: 'Test' object has no attribute '__foo'\n",
    "    print(test.__foo)\n",
    "\n",
    "\n",
    "if __name__ == \"__main__\":\n",
    "    main()"
   ]
  },
  {
   "cell_type": "markdown",
   "metadata": {},
   "source": [
    "但是，Python并没有从语法上严格保证私有属性或方法的私密性，它只是给私有的属性和方法换了一个名字来妨碍对它们的访问，事实上如果你知道更换名字的规则仍然可以访问到它们，下面的代码就可以验证这一点。之所以这样设定，可以用这样一句名言加以解释，就是&quot;**We are all consenting adults here**&quot;。因为绝大多数程序员都认为开放比封闭要好，而且程序员要自己为自己的行为负责。"
   ]
  },
  {
   "cell_type": "code",
   "execution_count": null,
   "metadata": {},
   "outputs": [],
   "source": [
    "class Test:\n",
    "\n",
    "    def __init__(self, foo):\n",
    "        self.__foo = foo\n",
    "\n",
    "    def __bar(self):\n",
    "        print(self.__foo)\n",
    "        print('__bar')\n",
    "\n",
    "\n",
    "def main():\n",
    "    test = Test('hello')\n",
    "    test._Test__bar()\n",
    "    print(test._Test__foo)\n",
    "\n",
    "\n",
    "if __name__ == \"__main__\":\n",
    "    main()"
   ]
  },
  {
   "cell_type": "markdown",
   "metadata": {},
   "source": [
    "在实际开发中，我们并不建议将属性设置为私有的。大多数Python程序员遵循的一种命名惯例是让属性名以单下划线开头来表示受保护属性，但外界仍然是可以访问的。这更多的只是一种暗示或隐喻。"
   ]
  },
  {
   "cell_type": "markdown",
   "metadata": {},
   "source": [
    "### 面向对象的支柱\n",
    "\n",
    "面向对象有三大支柱：**封装**、**继承**和**多态**。封装是&quot;隐藏一切可以隐藏的实现细节，只向外界暴露（提供）简单的编程接口&quot;。我们在类中定义的方法其实就是把数据和对数据的操作封装起来了，在我们创建了对象之后，只需要给对象发送一个消息（调用方法）就可以执行方法中的代码，也就是说我们只需要知道方法的名字和传入的参数，而不需要知道方法内部的实现细节。"
   ]
  },
  {
   "cell_type": "markdown",
   "metadata": {},
   "source": [
    "### 练习\n",
    "\n",
    "1：定义一个类描述数字时钟。"
   ]
  },
  {
   "cell_type": "code",
   "execution_count": null,
   "metadata": {},
   "outputs": [],
   "source": [
    "from time import sleep\n",
    "\n",
    "\n",
    "class Clock(object):\n",
    "    \"\"\"数字时钟\"\"\"\n",
    "\n",
    "    def __init__(self, hour=0, minute=0, second=0):\n",
    "        \"\"\"初始化方法\n",
    "\n",
    "        :param hour: 时\n",
    "        :param minute: 分\n",
    "        :param second: 秒\n",
    "        \"\"\"\n",
    "        self._hour = hour\n",
    "        self._minute = minute\n",
    "        self._second = second\n",
    "\n",
    "    def run(self):\n",
    "        \"\"\"走字\"\"\"\n",
    "        self._second += 1\n",
    "        if self._second == 60:\n",
    "            self._second = 0\n",
    "            self._minute += 1\n",
    "            if self._minute == 60:\n",
    "                self._minute = 0\n",
    "                self._hour += 1\n",
    "                if self._hour == 24:\n",
    "                    self._hour = 0\n",
    "\n",
    "    def show(self):\n",
    "        \"\"\"显示时间\"\"\"\n",
    "        return '%02d:%02d:%02d' % \\\n",
    "               (self._hour, self._minute, self._second)\n",
    "\n",
    "\n",
    "def main():\n",
    "    clock = Clock(23, 59, 58)\n",
    "    while True:\n",
    "        print(clock.show())\n",
    "        sleep(1)\n",
    "        clock.run()\n",
    "\n",
    "\n",
    "if __name__ == '__main__':\n",
    "    main()"
   ]
  },
  {
   "cell_type": "markdown",
   "metadata": {},
   "source": [
    "2：定义一个类描述平面上的点并提供移动点和计算到另一个点距离的方法。"
   ]
  },
  {
   "cell_type": "code",
   "execution_count": null,
   "metadata": {},
   "outputs": [],
   "source": [
    "from math import sqrt\n",
    "\n",
    "\n",
    "class Point(object):\n",
    "\n",
    "    def __init__(self, x=0, y=0):\n",
    "        \"\"\"初始化方法\n",
    "        \n",
    "        :param x: 横坐标\n",
    "        :param y: 纵坐标\n",
    "        \"\"\"\n",
    "        self.x = x\n",
    "        self.y = y\n",
    "\n",
    "    def move_to(self, x, y):\n",
    "        \"\"\"移动到指定位置\n",
    "        \n",
    "        :param x: 新的横坐标\n",
    "        \"param y: 新的纵坐标\n",
    "        \"\"\"\n",
    "        self.x = x\n",
    "        self.y = y\n",
    "\n",
    "    def move_by(self, dx, dy):\n",
    "        \"\"\"移动指定的增量\n",
    "        \n",
    "        :param dx: 横坐标的增量\n",
    "        \"param dy: 纵坐标的增量\n",
    "        \"\"\"\n",
    "        self.x += dx\n",
    "        self.y += dy\n",
    "\n",
    "    def distance_to(self, other):\n",
    "        \"\"\"计算与另一个点的距离\n",
    "        \n",
    "        :param other: 另一个点\n",
    "        \"\"\"\n",
    "        dx = self.x - other.x\n",
    "        dy = self.y - other.y\n",
    "        return sqrt(dx ** 2 + dy ** 2)\n",
    "\n",
    "    def __str__(self):\n",
    "        return '(%s, %s)' % (str(self.x), str(self.y))\n",
    "\n",
    "\n",
    "def main():\n",
    "    p1 = Point(3, 5)\n",
    "    p2 = Point()\n",
    "    print(p1)\n",
    "    print(p2)\n",
    "    p2.move_by(-1, 2)\n",
    "    print(p2)\n",
    "    print(p1.distance_to(p2))\n",
    "\n",
    "\n",
    "if __name__ == '__main__':\n",
    "    main()"
   ]
  },
  {
   "cell_type": "markdown",
   "metadata": {},
   "source": [
    "### @property装饰器\n",
    "\n",
    "提供访问私有属性的方法"
   ]
  },
  {
   "cell_type": "code",
   "execution_count": null,
   "metadata": {},
   "outputs": [],
   "source": [
    "class Rect:\n",
    "    def __init__(self,area):\n",
    "        self.__area = area\n",
    "    @property\n",
    "    def area(self):\n",
    "        return self.__area\n",
    "    \n",
    "rect = Rect(30)\n",
    "\n",
    "#print(\"矩形的面积是：\",rect.__area())\n",
    "\n",
    "#print(\"矩形的面积是：\",rect.__area)\n",
    "      \n",
    "#print(\"矩形的面积是：\",rect.area())  \n",
    "# TypeError: 'int' object is not callable\n",
    "print(\"矩形的面积是：\",rect.area)"
   ]
  },
  {
   "cell_type": "code",
   "execution_count": null,
   "metadata": {},
   "outputs": [],
   "source": [
    "class Person(object):\n",
    "\n",
    "    def __init__(self, name, age):\n",
    "        self._name = name\n",
    "        self._age = age\n",
    "\n",
    "    # 访问器 - getter方法\n",
    "    @property\n",
    "    def name(self):\n",
    "        return self._name\n",
    "\n",
    "    # 访问器 - getter方法\n",
    "    @property\n",
    "    def age(self):\n",
    "        return self._age\n",
    "\n",
    "    # 修改器 - setter方法\n",
    "    @age.setter\n",
    "    def age(self, age):\n",
    "        self._age = age\n",
    "\n",
    "    def play(self):\n",
    "        if self._age <= 16:\n",
    "            print('%s正在玩飞行棋.' % self._name)\n",
    "        else:\n",
    "            print('%s正在玩斗地主.' % self._name)\n",
    "\n",
    "\n",
    "def main():\n",
    "    person = Person('王大锤', 12)\n",
    "    person.play()\n",
    "    person.age = 22   # 使用了@age.setter 把 self._age 修改为 22 \n",
    "    person.play()\n",
    "    # person.name = '白元芳'  # AttributeError: can't set attribute\n",
    "\n",
    "\n",
    "if __name__ == '__main__':\n",
    "    main()"
   ]
  },
  {
   "cell_type": "markdown",
   "metadata": {},
   "source": [
    "### \\_\\_slots\\_\\_魔法\n",
    "\n",
    "Python是一门动态语言，允许我们在程序运行时给对象绑定新的属性或方法，当然也可以对已经绑定的属性和方法进行解绑定。但是如果我们需要限定自定义类型的对象只能绑定某些属性，可以通过在类中定义\\_\\_slots\\_\\_变量来进行限定。需要注意的是\\_\\_slots\\_\\_的限定只对当前类的对象生效，对子类并不起任何作用。"
   ]
  },
  {
   "cell_type": "code",
   "execution_count": null,
   "metadata": {},
   "outputs": [],
   "source": [
    "class Person(object):\n",
    "\n",
    "    # 限定Person对象只能绑定_name, _age和_gender属性\n",
    "    __slots__ = ('_name', '_age', '_gender')\n",
    "\n",
    "    def __init__(self, name, age):\n",
    "        self._name = name\n",
    "        self._age = age\n",
    "\n",
    "    @property\n",
    "    def name(self):\n",
    "        return self._name\n",
    "\n",
    "    @property\n",
    "    def age(self):\n",
    "        return self._age\n",
    "\n",
    "    @age.setter\n",
    "    def age(self, age):\n",
    "        self._age = age\n",
    "\n",
    "    def play(self):\n",
    "        if self._age <= 16:\n",
    "            print('%s正在玩飞行棋.' % self._name)\n",
    "        else:\n",
    "            print('%s正在玩斗地主.' % self._name)\n",
    "\n",
    "\n",
    "def main():\n",
    "    person = Person('王大锤', 22)\n",
    "    person.play()\n",
    "    person._gender = '男'    # 可以绑定新属性_gender， 不能绑定新属性_is_gay\n",
    "    # AttributeError: 'Person' object has no attribute '_is_gay'\n",
    "    # person._is_gay = True\n",
    "\n",
    "if __name__ == '__main__':\n",
    "    main()"
   ]
  },
  {
   "cell_type": "markdown",
   "metadata": {},
   "source": [
    "### 静态方法和类方法\n",
    "\n",
    "我们定义一个“三角形”类，通过传入三条边长来构造三角形，并提供计算周长和面积的方法。\n",
    "但是传入的三条边长未必能构造出三角形对象，所以得先写一个方法来验证三条边长是否可以构成三角形。\n",
    "这个方法很显然不是对象方法（动态方法），称为静态方法（@staticmethod）。"
   ]
  },
  {
   "cell_type": "code",
   "execution_count": null,
   "metadata": {},
   "outputs": [],
   "source": [
    "from math import sqrt\n",
    "\n",
    "\n",
    "class Triangle(object):\n",
    "\n",
    "    def __init__(self, a, b, c):\n",
    "        self._a = a\n",
    "        self._b = b\n",
    "        self._c = c\n",
    "\n",
    "    @staticmethod\n",
    "    def is_valid(a, b, c):\n",
    "        return a + b > c and b + c > a and a + c > b\n",
    "\n",
    "    def perimeter(self):\n",
    "        return self._a + self._b + self._c\n",
    "\n",
    "    def area(self):\n",
    "        half = self.perimeter() / 2\n",
    "        return sqrt(half * (half - self._a) *\n",
    "                    (half - self._b) * (half - self._c))\n",
    "\n",
    "\n",
    "def main():\n",
    "    a, b, c = 3, 4, 5\n",
    "    # 静态方法和类方法都是通过给类发消息来调用的\n",
    "    if Triangle.is_valid(a, b, c):  # Triangle 是类\n",
    "        # is_valid 在建立对象之前被用于类 Triangle\n",
    "        t = Triangle(a, b, c)       # t 是对象\n",
    "        print(t.perimeter())\n",
    "        print(t.area())\n",
    "        # perimeter 和 area 都是对象方法。\n",
    "    else:\n",
    "        print('无法构成三角形.')\n",
    "\n",
    "\n",
    "if __name__ == '__main__':\n",
    "    main()"
   ]
  },
  {
   "cell_type": "markdown",
   "metadata": {},
   "source": [
    "Python还可以在类中直接定义方法，称为类方法（@classmethod）。类方法的第一个参数约定名为cls"
   ]
  },
  {
   "cell_type": "code",
   "execution_count": null,
   "metadata": {},
   "outputs": [],
   "source": [
    "from time import time, localtime, sleep\n",
    "\n",
    "\n",
    "class Clock(object):\n",
    "    \"\"\"数字时钟\"\"\"\n",
    "\n",
    "    def __init__(self, hour=0, minute=0, second=0):\n",
    "        self._hour = hour\n",
    "        self._minute = minute\n",
    "        self._second = second\n",
    "\n",
    "    @classmethod\n",
    "    def now(cls):\n",
    "        ctime = localtime(time())\n",
    "        return cls(ctime.tm_hour, ctime.tm_min, ctime.tm_sec)\n",
    "\n",
    "    def run(self):\n",
    "        \"\"\"走字\"\"\"\n",
    "        self._second += 1\n",
    "        if self._second == 60:\n",
    "            self._second = 0\n",
    "            self._minute += 1\n",
    "            if self._minute == 60:\n",
    "                self._minute = 0\n",
    "                self._hour += 1\n",
    "                if self._hour == 24:\n",
    "                    self._hour = 0\n",
    "\n",
    "    def show(self):\n",
    "        \"\"\"显示时间\"\"\"\n",
    "        return '%02d:%02d:%02d' % \\\n",
    "               (self._hour, self._minute, self._second)\n",
    "\n",
    "\n",
    "def main():\n",
    "    # 通过类方法创建对象并获取系统时间\n",
    "    clock = Clock.now()\n",
    "    while True:\n",
    "        print(clock.show())\n",
    "        sleep(1)\n",
    "        clock.run()\n",
    "\n",
    "\n",
    "if __name__ == '__main__':\n",
    "    main()"
   ]
  },
  {
   "cell_type": "markdown",
   "metadata": {},
   "source": [
    "### 类之间的关系\n",
    "\n",
    "简单的说，类和类之间的关系有三种：is-a、has-a和use-a关系。"
   ]
  },
  {
   "cell_type": "markdown",
   "metadata": {},
   "source": [
    "- is-a 叫继承或泛化，比如学生和人的关系、手机和电子产品的关系都属于继承关系。\n",
    "  student is a person\n",
    "\n",
    "- has-a 通常称之为关联，比如部门和员工的关系，汽车和引擎的关系都属于关联关系；关联关系如果是整体和部分的关联，称为聚合关系；如果整体进一步负责了部分的生命周期（整体和部分是不可分割的，同时在也同时消亡），则是最强的关联关系，我们称之为合成关系。\n",
    "  \n",
    "- use-a关系通常称之为依赖，比如司机有一个驾驶的行为（方法），其中司机（的参数里）使用到了汽车，司机和汽车构成依赖关系。"
   ]
  },
  {
   "cell_type": "markdown",
   "metadata": {},
   "source": [
    "利用类之间的这些关系，我们可以在已有类的基础上来完成某些操作，也可以在已有类的基础上创建新的类，是实现代码复用的重要手段。复用现有的代码不仅可以减少开发的工作量，也有利于代码的管理和维护，这是我们在日常工作中都会使用到的技术手段。"
   ]
  },
  {
   "cell_type": "markdown",
   "metadata": {},
   "source": [
    "### 继承和多态\n",
    "\n",
    "**继承**： 在已有类的基础上创建新类，让一个类从另一个类那里将属性和方法直接继承下来，从而减少重复代码的编写。提供继承信息的景父类，也叫超类或基类；得到继承信息的我们称之为子类，也叫派生类或衍生类。\n",
    "\n",
    "子类除了继承父类提供的属性和方法，还可以定义自己特有的属性和方法，所以子类比父类拥有的更多的能力，"
   ]
  },
  {
   "cell_type": "code",
   "execution_count": null,
   "metadata": {},
   "outputs": [],
   "source": [
    "class Person(object):\n",
    "    \"\"\"人\"\"\"\n",
    "\n",
    "    def __init__(self, name, age):\n",
    "        self._name = name\n",
    "        self._age = age\n",
    "\n",
    "    @property\n",
    "    def name(self):\n",
    "        return self._name\n",
    "\n",
    "    @property\n",
    "    def age(self):\n",
    "        return self._age\n",
    "\n",
    "    @age.setter\n",
    "    def age(self, age):\n",
    "        self._age = age\n",
    "\n",
    "    def play(self):\n",
    "        print('%s正在愉快的玩耍.' % self._name)\n",
    "\n",
    "    def watch_av(self):\n",
    "        if self._age >= 18:\n",
    "            print('%s正在观看爱情动作片.' % self._name)\n",
    "        else:\n",
    "            print('%s只能观看《熊出没》.' % self._name)\n",
    "\n",
    "\n",
    "class Student(Person):\n",
    "    \"\"\"学生\"\"\"\n",
    "\n",
    "    def __init__(self, name, age, grade):\n",
    "        super().__init__(name, age)\n",
    "        self._grade = grade\n",
    "\n",
    "    @property\n",
    "    def grade(self):\n",
    "        return self._grade\n",
    "\n",
    "    @grade.setter\n",
    "    def grade(self, grade):\n",
    "        self._grade = grade\n",
    "\n",
    "    def study(self, course):\n",
    "        print('%s的%s正在学习%s.' % (self._grade, self._name, course))\n",
    "\n",
    "\n",
    "class Teacher(Person):\n",
    "    \"\"\"老师\"\"\"\n",
    "\n",
    "    def __init__(self, name, age, title):\n",
    "        super().__init__(name, age)\n",
    "        self._title = title\n",
    "\n",
    "    @property\n",
    "    def title(self):\n",
    "        return self._title\n",
    "\n",
    "    @title.setter\n",
    "    def title(self, title):\n",
    "        self._title = title\n",
    "\n",
    "    def teach(self, course):\n",
    "        print('%s%s正在讲%s.' % (self._name, self._title, course))\n",
    "\n",
    "\n",
    "def main():\n",
    "    stu = Student('王大锤', 15, '初三')\n",
    "    stu.study('数学')\n",
    "    stu.watch_av()\n",
    "    t = Teacher('骆昊', 38, '砖家')\n",
    "    t.teach('Python程序设计')\n",
    "    t.watch_av()\n",
    "\n",
    "\n",
    "if __name__ == '__main__':\n",
    "    main()"
   ]
  },
  {
   "cell_type": "markdown",
   "metadata": {},
   "source": [
    "**多态**：子类在继承了父类的方法后，可以对父类已有的方法给出新的实现版本，这个动作称之为方法重写（override）。这样，父类的同一个行为在子类中拥有不同的实现版本，当我们调用这个经过子类重写的方法时，不同的子类对象表现出不同的行为，称为多态（poly-morphism）。"
   ]
  },
  {
   "cell_type": "code",
   "execution_count": null,
   "metadata": {},
   "outputs": [],
   "source": [
    "from abc import ABCMeta, abstractmethod\n",
    "\n",
    "\n",
    "class Pet(object, metaclass=ABCMeta):\n",
    "    \"\"\"宠物\"\"\"\n",
    "\n",
    "    def __init__(self, nickname):\n",
    "        self._nickname = nickname\n",
    "\n",
    "    @abstractmethod\n",
    "    def make_voice(self):\n",
    "        \"\"\"发出声音\"\"\"\n",
    "        pass\n",
    "\n",
    "\n",
    "class Dog(Pet):\n",
    "    \"\"\"狗\"\"\"\n",
    "\n",
    "    def make_voice(self):\n",
    "        print('%s: 汪汪汪...' % self._nickname)\n",
    "\n",
    "\n",
    "class Cat(Pet):\n",
    "    \"\"\"猫\"\"\"\n",
    "\n",
    "    def make_voice(self):\n",
    "        print('%s: 喵...喵...' % self._nickname)\n",
    "\n",
    "\n",
    "def main():\n",
    "    pets = [Dog('旺财'), Cat('凯蒂'), Dog('大黄')]\n",
    "    for pet in pets:\n",
    "        pet.make_voice()\n",
    "\n",
    "\n",
    "if __name__ == '__main__':\n",
    "    main()"
   ]
  },
  {
   "cell_type": "markdown",
   "metadata": {},
   "source": [
    "**抽象类**： 在上面的代码中，`Pet`类是一个抽象类，不能够基于它创建对象。是专门用于让其他类去继承它的类。\n",
    "Python从语法层面并没有像Java或C#那样提供对抽象类的支持，但是我们可以通过`abc`模块的`ABCMeta`元类和`abstractmethod`包装器来达到抽象类的效果。\n",
    "\n",
    "**抽象方法**： `make_voice`是抽象方法，`Dog`和`Cat`两个子类分别对`Pet`类中的`make_voice`抽象方法进行了重写并给出了不同的实现版本，当我们在`main`函数中调用该方法时，这个方法就表现出了多态行为（同样的方法做了不同的事情）。"
   ]
  },
  {
   "cell_type": "markdown",
   "metadata": {},
   "source": [
    "### 综合案例\n",
    "\n",
    "1：奥特曼打小怪兽。"
   ]
  },
  {
   "cell_type": "code",
   "execution_count": null,
   "metadata": {},
   "outputs": [],
   "source": [
    "from abc import ABCMeta, abstractmethod\n",
    "from random import randint, randrange\n",
    "\n",
    "\n",
    "class Fighter(object, metaclass=ABCMeta):\n",
    "    \"\"\"战斗者\"\"\"\n",
    "\n",
    "    # 通过__slots__魔法限定对象可以绑定的成员变量\n",
    "    __slots__ = ('_name', '_hp')\n",
    "\n",
    "    def __init__(self, name, hp):\n",
    "        \"\"\"初始化方法\n",
    "\n",
    "        :param name: 名字\n",
    "        :param hp: 生命值\n",
    "        \"\"\"\n",
    "        self._name = name\n",
    "        self._hp = hp\n",
    "\n",
    "    @property\n",
    "    def name(self):\n",
    "        return self._name\n",
    "\n",
    "    @property\n",
    "    def hp(self):\n",
    "        return self._hp\n",
    "\n",
    "    @hp.setter\n",
    "    def hp(self, hp):\n",
    "        self._hp = hp if hp >= 0 else 0\n",
    "\n",
    "    @property\n",
    "    def alive(self):\n",
    "        return self._hp > 0\n",
    "\n",
    "    @abstractmethod\n",
    "    def attack(self, other):\n",
    "        \"\"\"攻击\n",
    "\n",
    "        :param other: 被攻击的对象\n",
    "        \"\"\"\n",
    "        pass\n",
    "\n",
    "\n",
    "class Ultraman(Fighter):\n",
    "    \"\"\"奥特曼\"\"\"\n",
    "\n",
    "    __slots__ = ('_name', '_hp', '_mp')\n",
    "\n",
    "    def __init__(self, name, hp, mp):\n",
    "        \"\"\"初始化方法\n",
    "\n",
    "        :param name: 名字\n",
    "        :param hp: 生命值\n",
    "        :param mp: 魔法值\n",
    "        \"\"\"\n",
    "        super().__init__(name, hp)\n",
    "        self._mp = mp\n",
    "\n",
    "    def attack(self, other):\n",
    "        other.hp -= randint(15, 25)\n",
    "\n",
    "    def huge_attack(self, other):\n",
    "        \"\"\"究极必杀技(打掉对方至少50点或四分之三的血)\n",
    "\n",
    "        :param other: 被攻击的对象\n",
    "\n",
    "        :return: 使用成功返回True否则返回False\n",
    "        \"\"\"\n",
    "        if self._mp >= 50:\n",
    "            self._mp -= 50\n",
    "            injury = other.hp * 3 // 4\n",
    "            injury = injury if injury >= 50 else 50\n",
    "            other.hp -= injury\n",
    "            return True\n",
    "        else:\n",
    "            self.attack(other)\n",
    "            return False\n",
    "\n",
    "    def magic_attack(self, others):\n",
    "        \"\"\"魔法攻击\n",
    "\n",
    "        :param others: 被攻击的群体\n",
    "\n",
    "        :return: 使用魔法成功返回True否则返回False\n",
    "        \"\"\"\n",
    "        if self._mp >= 20:\n",
    "            self._mp -= 20\n",
    "            for temp in others:\n",
    "                if temp.alive:\n",
    "                    temp.hp -= randint(10, 15)\n",
    "            return True\n",
    "        else:\n",
    "            return False\n",
    "\n",
    "    def resume(self):\n",
    "        \"\"\"恢复魔法值\"\"\"\n",
    "        incr_point = randint(1, 10)\n",
    "        self._mp += incr_point\n",
    "        return incr_point\n",
    "\n",
    "    def __str__(self):\n",
    "        return '~~~%s奥特曼~~~\\n' % self._name + \\\n",
    "            '生命值: %d\\n' % self._hp + \\\n",
    "            '魔法值: %d\\n' % self._mp\n",
    "\n",
    "\n",
    "class Monster(Fighter):\n",
    "    \"\"\"小怪兽\"\"\"\n",
    "\n",
    "    __slots__ = ('_name', '_hp')\n",
    "\n",
    "    def attack(self, other):\n",
    "        other.hp -= randint(10, 20)\n",
    "\n",
    "    def __str__(self):\n",
    "        return '~~~%s小怪兽~~~\\n' % self._name + \\\n",
    "            '生命值: %d\\n' % self._hp\n",
    "\n",
    "\n",
    "def is_any_alive(monsters):\n",
    "    \"\"\"判断有没有小怪兽是活着的\"\"\"\n",
    "    for monster in monsters:\n",
    "        if monster.alive > 0:\n",
    "            return True\n",
    "    return False\n",
    "\n",
    "\n",
    "def select_alive_one(monsters):\n",
    "    \"\"\"选中一只活着的小怪兽\"\"\"\n",
    "    monsters_len = len(monsters)\n",
    "    while True:\n",
    "        index = randrange(monsters_len)\n",
    "        monster = monsters[index]\n",
    "        if monster.alive > 0:\n",
    "            return monster\n",
    "\n",
    "\n",
    "def display_info(ultraman, monsters):\n",
    "    \"\"\"显示奥特曼和小怪兽的信息\"\"\"\n",
    "    print(ultraman)\n",
    "    for monster in monsters:\n",
    "        print(monster, end='')\n",
    "\n",
    "\n",
    "def main():\n",
    "    u = Ultraman('骆昊', 1000, 120)\n",
    "    m1 = Monster('狄仁杰', 250)\n",
    "    m2 = Monster('白元芳', 500)\n",
    "    m3 = Monster('王大锤', 750)\n",
    "    ms = [m1, m2, m3]\n",
    "    fight_round = 1\n",
    "    while u.alive and is_any_alive(ms):\n",
    "        print('========第%02d回合========' % fight_round)\n",
    "        m = select_alive_one(ms)  # 选中一只小怪兽\n",
    "        skill = randint(1, 10)   # 通过随机数选择使用哪种技能\n",
    "        if skill <= 6:  # 60%的概率使用普通攻击\n",
    "            print('%s使用普通攻击打了%s.' % (u.name, m.name))\n",
    "            u.attack(m)\n",
    "            print('%s的魔法值恢复了%d点.' % (u.name, u.resume()))\n",
    "        elif skill <= 9:  # 30%的概率使用魔法攻击(可能因魔法值不足而失败)\n",
    "            if u.magic_attack(ms):\n",
    "                print('%s使用了魔法攻击.' % u.name)\n",
    "            else:\n",
    "                print('%s使用魔法失败.' % u.name)\n",
    "        else:  # 10%的概率使用究极必杀技(如果魔法值不足则使用普通攻击)\n",
    "            if u.huge_attack(m):\n",
    "                print('%s使用究极必杀技虐了%s.' % (u.name, m.name))\n",
    "            else:\n",
    "                print('%s使用普通攻击打了%s.' % (u.name, m.name))\n",
    "                print('%s的魔法值恢复了%d点.' % (u.name, u.resume()))\n",
    "        if m.alive > 0:  # 如果选中的小怪兽没有死就回击奥特曼\n",
    "            print('%s回击了%s.' % (m.name, u.name))\n",
    "            m.attack(u)\n",
    "        display_info(u, ms)  # 每个回合结束后显示奥特曼和小怪兽的信息\n",
    "        fight_round += 1\n",
    "    print('\\n========战斗结束!========\\n')\n",
    "    if u.alive > 0:\n",
    "        print('%s奥特曼胜利!' % u.name)\n",
    "    else:\n",
    "        print('小怪兽胜利!')\n",
    "\n",
    "\n",
    "if __name__ == '__main__':\n",
    "    main()"
   ]
  },
  {
   "cell_type": "markdown",
   "metadata": {},
   "source": [
    "2：扑克游戏。"
   ]
  },
  {
   "cell_type": "code",
   "execution_count": null,
   "metadata": {},
   "outputs": [],
   "source": [
    "import random\n",
    "\n",
    "\n",
    "class Card(object):\n",
    "    \"\"\"一张牌\"\"\"\n",
    "\n",
    "    def __init__(self, suite, face):\n",
    "        self._suite = suite\n",
    "        self._face = face\n",
    "\n",
    "    @property\n",
    "    def face(self):\n",
    "        return self._face\n",
    "\n",
    "    @property\n",
    "    def suite(self):\n",
    "        return self._suite\n",
    "\n",
    "    def __str__(self):\n",
    "        if self._face == 1:\n",
    "            face_str = 'A'\n",
    "        elif self._face == 11:\n",
    "            face_str = 'J'\n",
    "        elif self._face == 12:\n",
    "            face_str = 'Q'\n",
    "        elif self._face == 13:\n",
    "            face_str = 'K'\n",
    "        else:\n",
    "            face_str = str(self._face)\n",
    "        return '%s%s' % (self._suite, face_str)\n",
    "    \n",
    "    def __repr__(self):\n",
    "        return self.__str__()\n",
    "\n",
    "\n",
    "class Poker(object):\n",
    "    \"\"\"一副牌\"\"\"\n",
    "\n",
    "    def __init__(self):\n",
    "        self._cards = [Card(suite, face) \n",
    "                       for suite in '♠♥♣♦'\n",
    "                       for face in range(1, 14)]\n",
    "        self._current = 0\n",
    "\n",
    "    @property\n",
    "    def cards(self):\n",
    "        return self._cards\n",
    "\n",
    "    def shuffle(self):\n",
    "        \"\"\"洗牌(随机乱序)\"\"\"\n",
    "        self._current = 0\n",
    "        random.shuffle(self._cards)\n",
    "\n",
    "    @property\n",
    "    def next(self):\n",
    "        \"\"\"发牌\"\"\"\n",
    "        card = self._cards[self._current]\n",
    "        self._current += 1\n",
    "        return card\n",
    "\n",
    "    @property\n",
    "    def has_next(self):\n",
    "        \"\"\"还有没有牌\"\"\"\n",
    "        return self._current < len(self._cards)\n",
    "\n",
    "\n",
    "class Player(object):\n",
    "    \"\"\"玩家\"\"\"\n",
    "\n",
    "    def __init__(self, name):\n",
    "        self._name = name\n",
    "        self._cards_on_hand = []\n",
    "\n",
    "    @property\n",
    "    def name(self):\n",
    "        return self._name\n",
    "\n",
    "    @property\n",
    "    def cards_on_hand(self):\n",
    "        return self._cards_on_hand\n",
    "\n",
    "    def get(self, card):\n",
    "        \"\"\"摸牌\"\"\"\n",
    "        self._cards_on_hand.append(card)\n",
    "\n",
    "    def arrange(self, card_key):\n",
    "        \"\"\"玩家整理手上的牌\"\"\"\n",
    "        self._cards_on_hand.sort(key=card_key)\n",
    "\n",
    "\n",
    "# 排序规则-先根据花色再根据点数排序\n",
    "def get_key(card):\n",
    "    return (card.suite, card.face)\n",
    "\n",
    "\n",
    "def main():\n",
    "    p = Poker()\n",
    "    p.shuffle()\n",
    "    players = [Player('东邪'), Player('西毒'), Player('南帝'), Player('北丐')]\n",
    "    for _ in range(13):\n",
    "        for player in players:\n",
    "            player.get(p.next)\n",
    "    for player in players:\n",
    "        print(player.name + ':', end=' ')\n",
    "        player.arrange(get_key)\n",
    "        print(player.cards_on_hand)\n",
    "\n",
    "\n",
    "if __name__ == '__main__':\n",
    "    main()"
   ]
  },
  {
   "cell_type": "markdown",
   "metadata": {},
   "source": [
    ">**说明：** 大家可以自己尝试在上面代码的基础上写一个简单的扑克游戏，例如21点(Black Jack)，游戏的规则可以自己在网上找一找。"
   ]
  },
  {
   "cell_type": "markdown",
   "metadata": {},
   "source": [
    "3：工资结算系统。"
   ]
  },
  {
   "cell_type": "code",
   "execution_count": null,
   "metadata": {},
   "outputs": [],
   "source": [
    "\n",
    "\"\"\"\n",
    "某公司有三种类型的员工 分别是部门经理、程序员和销售员\n",
    "需要设计一个工资结算系统 根据提供的员工信息来计算月薪\n",
    "部门经理的月薪是每月固定15000元\n",
    "程序员的月薪按本月工作时间计算 每小时150元\n",
    "销售员的月薪是1200元的底薪加上销售额5%的提成\n",
    "\"\"\"\n",
    "from abc import ABCMeta, abstractmethod\n",
    "\n",
    "\n",
    "class Employee(object, metaclass=ABCMeta):\n",
    "    \"\"\"员工\"\"\"\n",
    "\n",
    "    def __init__(self, name):\n",
    "        \"\"\"\n",
    "        初始化方法\n",
    "\n",
    "        :param name: 姓名\n",
    "        \"\"\"\n",
    "        self._name = name\n",
    "\n",
    "    @property\n",
    "    def name(self):\n",
    "        return self._name\n",
    "\n",
    "    @abstractmethod\n",
    "    def get_salary(self):\n",
    "        \"\"\"\n",
    "        获得月薪\n",
    "\n",
    "        :return: 月薪\n",
    "        \"\"\"\n",
    "        pass\n",
    "\n",
    "\n",
    "class Manager(Employee):\n",
    "    \"\"\"部门经理\"\"\"\n",
    "\n",
    "    def get_salary(self):\n",
    "        return 15000.0\n",
    "\n",
    "\n",
    "class Programmer(Employee):\n",
    "    \"\"\"程序员\"\"\"\n",
    "\n",
    "    def __init__(self, name, working_hour=0):\n",
    "        super().__init__(name)\n",
    "        self._working_hour = working_hour\n",
    "\n",
    "    @property\n",
    "    def working_hour(self):\n",
    "        return self._working_hour\n",
    "\n",
    "    @working_hour.setter\n",
    "    def working_hour(self, working_hour):\n",
    "        self._working_hour = working_hour if working_hour > 0 else 0\n",
    "\n",
    "    def get_salary(self):\n",
    "        return 150.0 * self._working_hour\n",
    "\n",
    "\n",
    "class Salesman(Employee):\n",
    "    \"\"\"销售员\"\"\"\n",
    "\n",
    "    def __init__(self, name, sales=0):\n",
    "        super().__init__(name)\n",
    "        self._sales = sales\n",
    "\n",
    "    @property\n",
    "    def sales(self):\n",
    "        return self._sales\n",
    "\n",
    "    @sales.setter\n",
    "    def sales(self, sales):\n",
    "        self._sales = sales if sales > 0 else 0\n",
    "\n",
    "    def get_salary(self):\n",
    "        return 1200.0 + self._sales * 0.05\n",
    "\n",
    "\n",
    "def main():\n",
    "    emps = [\n",
    "        Manager('刘备'), Programmer('诸葛亮'),\n",
    "        Manager('曹操'), Salesman('荀彧'),\n",
    "        Salesman('吕布'), Programmer('张辽'),\n",
    "        Programmer('赵云')\n",
    "    ]\n",
    "    for emp in emps:\n",
    "        if isinstance(emp, Programmer):\n",
    "            emp.working_hour = int(input('请输入%s本月工作时间: ' % emp.name))\n",
    "        elif isinstance(emp, Salesman):\n",
    "            emp.sales = float(input('请输入%s本月销售额: ' % emp.name))\n",
    "        # 同样是接收get_salary这个消息但是不同的员工表现出了不同的行为(多态)\n",
    "        print('%s本月工资为: ￥%s元' %\n",
    "              (emp.name, emp.get_salary()))\n",
    "\n",
    "\n",
    "if __name__ == '__main__':\n",
    "    main()\n"
   ]
  },
  {
   "cell_type": "code",
   "execution_count": null,
   "metadata": {},
   "outputs": [],
   "source": [
    "import pygame\n",
    "\n",
    "\n",
    "def main():\n",
    "    # 初始化导入的pygame中的模块\n",
    "    pygame.init()\n",
    "    # 初始化用于显示的窗口并设置窗口尺寸\n",
    "    screen = pygame.display.set_mode((800, 600))\n",
    "    # 设置当前窗口的标题\n",
    "    pygame.display.set_caption('大球吃小球')\n",
    "    # 设置窗口的背景色(颜色是由红绿蓝三原色构成的元组)\n",
    "    screen.fill((255, 255, 255))\n",
    "    # 通过指定的文件名加载图像\n",
    "    ball_image = pygame.image.load('./res/ball.png')\n",
    "    # 在窗口上渲染图像\n",
    "    screen.blit(ball_image, (50, 50))\n",
    "    # 刷新当前窗口(渲染窗口将绘制的图像呈现出来)\n",
    "    pygame.display.flip()\n",
    "    running = True\n",
    "    # 开启一个事件循环处理发生的事件\n",
    "    while running:\n",
    "        # 从消息队列中获取事件并对事件进行处理\n",
    "        for event in pygame.event.get():\n",
    "            if event.type == pygame.QUIT:\n",
    "                running = False\n",
    "\n",
    "\n",
    "if __name__ == '__main__':\n",
    "    main()"
   ]
  },
  {
   "cell_type": "markdown",
   "metadata": {},
   "source": [
    "#### 实现动画效果 "
   ]
  },
  {
   "cell_type": "code",
   "execution_count": null,
   "metadata": {},
   "outputs": [],
   "source": [
    "import pygame\n",
    "\n",
    "\n",
    "def main():\n",
    "    # 初始化导入的pygame中的模块\n",
    "    pygame.init()\n",
    "    # 初始化用于显示的窗口并设置窗口尺寸\n",
    "    screen = pygame.display.set_mode((800, 600))\n",
    "    # 设置当前窗口的标题\n",
    "    pygame.display.set_caption('大球吃小球')\n",
    "    # 定义变量来表示小球在屏幕上的位置\n",
    "    x, y = 50, 50\n",
    "    running = True\n",
    "    # 开启一个事件循环处理发生的事件\n",
    "    while running:\n",
    "        # 从消息队列中获取事件并对事件进行处理\n",
    "        for event in pygame.event.get():\n",
    "            if event.type == pygame.QUIT:\n",
    "                running = False\n",
    "        screen.fill((255, 255, 255))\n",
    "        pygame.draw.circle(screen, (255, 0, 0,), (x, y), 30, 0)\n",
    "        pygame.display.flip()\n",
    "        # 每隔50毫秒就改变小球的位置再刷新窗口\n",
    "        pygame.time.delay(50)\n",
    "        x, y = x + 5, y + 5\n",
    "\n",
    "\n",
    "if __name__ == '__main__':\n",
    "    main()"
   ]
  },
  {
   "cell_type": "markdown",
   "metadata": {},
   "source": [
    "#### 碰撞检测"
   ]
  },
  {
   "cell_type": "code",
   "execution_count": null,
   "metadata": {},
   "outputs": [],
   "source": [
    "from enum import Enum, unique\n",
    "from math import sqrt\n",
    "from random import randint\n",
    "\n",
    "import pygame\n",
    "\n",
    "\n",
    "@unique\n",
    "class Color(Enum):\n",
    "    \"\"\"颜色\"\"\"\n",
    "\n",
    "    RED = (255, 0, 0)\n",
    "    GREEN = (0, 255, 0)\n",
    "    BLUE = (0, 0, 255)\n",
    "    BLACK = (0, 0, 0)\n",
    "    WHITE = (255, 255, 255)\n",
    "    GRAY = (242, 242, 242)\n",
    "\n",
    "    @staticmethod\n",
    "    def random_color():\n",
    "        \"\"\"获得随机颜色\"\"\"\n",
    "        r = randint(0, 255)\n",
    "        g = randint(0, 255)\n",
    "        b = randint(0, 255)\n",
    "        return (r, g, b)\n",
    "\n",
    "\n",
    "class Ball(object):\n",
    "    \"\"\"球\"\"\"\n",
    "\n",
    "    def __init__(self, x, y, radius, sx, sy, color=Color.RED):\n",
    "        \"\"\"初始化方法\"\"\"\n",
    "        self.x = x\n",
    "        self.y = y\n",
    "        self.radius = radius\n",
    "        self.sx = sx\n",
    "        self.sy = sy\n",
    "        self.color = color\n",
    "        self.alive = True\n",
    "\n",
    "    def move(self, screen):\n",
    "        \"\"\"移动\"\"\"\n",
    "        self.x += self.sx\n",
    "        self.y += self.sy\n",
    "        if self.x - self.radius <= 0 or \\\n",
    "                self.x + self.radius >= screen.get_width():\n",
    "            self.sx = -self.sx\n",
    "        if self.y - self.radius <= 0 or \\\n",
    "                self.y + self.radius >= screen.get_height():\n",
    "            self.sy = -self.sy\n",
    "\n",
    "    def eat(self, other):\n",
    "        \"\"\"吃其他球\"\"\"\n",
    "        if self.alive and other.alive and self != other:\n",
    "            dx, dy = self.x - other.x, self.y - other.y\n",
    "            distance = sqrt(dx ** 2 + dy ** 2)\n",
    "            if distance < self.radius + other.radius \\\n",
    "                    and self.radius > other.radius:\n",
    "                other.alive = False\n",
    "                self.radius = self.radius + int(other.radius * 0.146)\n",
    "\n",
    "    def draw(self, screen):\n",
    "        \"\"\"在窗口上绘制球\"\"\"\n",
    "        pygame.draw.circle(screen, self.color,\n",
    "                           (self.x, self.y), self.radius, 0)"
   ]
  },
  {
   "cell_type": "markdown",
   "metadata": {},
   "source": [
    "#### 事件处理\n",
    "\n",
    "可以在事件循环中对鼠标事件进行处理，通过事件对象的`type`属性可以判定事件类型，再通过`pos`属性就可以获得鼠标点击的位置。如果要处理键盘事件也是在这个地方，做法与处理鼠标事件类似。"
   ]
  },
  {
   "cell_type": "code",
   "execution_count": null,
   "metadata": {},
   "outputs": [],
   "source": [
    "def main():\n",
    "    # 定义用来装所有球的容器\n",
    "    balls = []\n",
    "    # 初始化导入的pygame中的模块\n",
    "    pygame.init()\n",
    "    # 初始化用于显示的窗口并设置窗口尺寸\n",
    "    screen = pygame.display.set_mode((800, 600))\n",
    "    # 设置当前窗口的标题\n",
    "    pygame.display.set_caption('大球吃小球')\n",
    "    running = True\n",
    "    # 开启一个事件循环处理发生的事件\n",
    "    while running:\n",
    "        # 从消息队列中获取事件并对事件进行处理\n",
    "        for event in pygame.event.get():\n",
    "            if event.type == pygame.QUIT:\n",
    "                running = False\n",
    "            # 处理鼠标事件的代码\n",
    "            if event.type == pygame.MOUSEBUTTONDOWN and event.button == 1:\n",
    "                # 获得点击鼠标的位置\n",
    "                x, y = event.pos\n",
    "                radius = randint(10, 100)\n",
    "                sx, sy = randint(-10, 10), randint(-10, 10)\n",
    "                color = Color.random_color()\n",
    "                # 在点击鼠标的位置创建一个球(大小、速度和颜色随机)\n",
    "                ball = Ball(x, y, radius, sx, sy, color)\n",
    "                # 将球添加到列表容器中\n",
    "                balls.append(ball)\n",
    "        screen.fill((255, 255, 255))\n",
    "        # 取出容器中的球 如果没被吃掉就绘制 被吃掉了就移除\n",
    "        for ball in balls:\n",
    "            if ball.alive:\n",
    "                ball.draw(screen)\n",
    "            else:\n",
    "                balls.remove(ball)\n",
    "        pygame.display.flip()\n",
    "        # 每隔50毫秒就改变球的位置再刷新窗口\n",
    "        pygame.time.delay(50)\n",
    "        for ball in balls:\n",
    "            ball.move(screen)\n",
    "            # 检查球有没有吃到其他的球\n",
    "            for other in balls:\n",
    "                ball.eat(other)\n",
    "\n",
    "\n",
    "if __name__ == '__main__':\n",
    "    main()"
   ]
  },
  {
   "cell_type": "markdown",
   "metadata": {},
   "source": [
    "上面的两段代码合在一起，我们就完成了“大球吃小球”的游戏（如下图所示）"
   ]
  },
  {
   "cell_type": "markdown",
   "metadata": {},
   "source": [
    "## 11. 文件和异常\n",
    "\n",
    "实际开发中常常会遇到对数据进行持久性操作，最直接简单的方式就是将数据保存到文件中。\n",
    "\n",
    "通过Python内置的`open`函数，并指定文件名、操作模式、编码信息等来获得操作文件的对象"
   ]
  },
  {
   "cell_type": "markdown",
   "metadata": {},
   "source": [
    "| 操作模式 | 具体含义                         |\n",
    "| -------- | -------------------------------- |\n",
    "| `'r'`    | 读取 （默认）                    |\n",
    "| `'w'`    | 写入（会先截断之前的内容）       |\n",
    "| `'x'`    | 写入，如果文件已经存在会产生异常 |\n",
    "| `'a'`    | 追加，将内容写入到已有文件的末尾 |\n",
    "| `'b'`    | 二进制模式                       |\n",
    "| `'t'`    | 文本模式（默认）                 |\n",
    "| `'+'`    | 更新（既可以读又可以写）         |"
   ]
  },
  {
   "cell_type": "markdown",
   "metadata": {},
   "source": [
    "### 读写文本文件"
   ]
  },
  {
   "cell_type": "code",
   "execution_count": null,
   "metadata": {},
   "outputs": [],
   "source": [
    "def main():\n",
    "    f = open('mymodule.py', 'r', encoding='utf-8')\n",
    "    print(f.read())\n",
    "    f.close()\n",
    "\n",
    "\n",
    "if __name__ == '__main__':\n",
    "    main()"
   ]
  },
  {
   "cell_type": "markdown",
   "metadata": {},
   "source": [
    "为了让代码有一定的健壮性和容错性，我们可以使用Python的异常机制对可能在运行时发生状况的代码进行适当的处理"
   ]
  },
  {
   "cell_type": "code",
   "execution_count": null,
   "metadata": {},
   "outputs": [],
   "source": [
    "def main():\n",
    "    f = None\n",
    "    try:\n",
    "        f = open('mymodule.py', 'r', encoding='utf-8')\n",
    "        print(f.read())\n",
    "    except FileNotFoundError:\n",
    "        print('无法打开指定的文件!')\n",
    "    except LookupError:\n",
    "        print('指定了未知的编码!')\n",
    "    except UnicodeDecodeError:\n",
    "        print('读取文件时解码错误!')\n",
    "    finally:\n",
    "        if f:\n",
    "            f.close()\n",
    "\n",
    "\n",
    "if __name__ == '__main__':\n",
    "    main()\n"
   ]
  },
  {
   "cell_type": "markdown",
   "metadata": {},
   "source": [
    "`finally`代码块来关闭打开的文件，释放掉程序中获取的外部资源。如果不愿意在`finally`代码块中关闭文件对象释放资源，也可以使用上下文语法，通过`with`关键字指定文件对象的上下文环境并在离开上下文环境时自动释放文件资源"
   ]
  },
  {
   "cell_type": "code",
   "execution_count": null,
   "metadata": {},
   "outputs": [],
   "source": [
    "def main():\n",
    "    try:\n",
    "        with open('mymodule.py', 'r', encoding='utf-8') as f:\n",
    "            print(f.read())\n",
    "    except FileNotFoundError:\n",
    "        print('无法打开指定的文件!')\n",
    "    except LookupError:\n",
    "        print('指定了未知的编码!')\n",
    "    except UnicodeDecodeError:\n",
    "        print('读取文件时解码错误!')\n",
    "\n",
    "\n",
    "if __name__ == '__main__':\n",
    "    main()"
   ]
  },
  {
   "cell_type": "markdown",
   "metadata": {},
   "source": [
    "除了使用文件对象的`read`方法读取文件之外，还可以使用`for-in`循环逐行读取或者用`readlines`方法将文件按行读取到一个列表容器中"
   ]
  },
  {
   "cell_type": "code",
   "execution_count": null,
   "metadata": {},
   "outputs": [],
   "source": [
    "import time\n",
    "\n",
    "\n",
    "def main():\n",
    "    # 一次性读取整个文件内容\n",
    "    with open('mymodule.py', 'r', encoding='utf-8') as f:\n",
    "        print(f.read())\n",
    "\n",
    "    # 通过for-in循环逐行读取\n",
    "    with open('mymodule.py', mode='r') as f:\n",
    "        for line in f:\n",
    "            print(line, end='')\n",
    "            time.sleep(0.5)\n",
    "    print()\n",
    "\n",
    "    # 读取文件按行读取到列表中\n",
    "    with open('mymodule.py') as f:\n",
    "        lines = f.readlines()\n",
    "    print(lines)\n",
    "    \n",
    "\n",
    "if __name__ == '__main__':\n",
    "    main()"
   ]
  },
  {
   "cell_type": "markdown",
   "metadata": {},
   "source": [
    "要将文本信息写入文件也非常简单，在使用`open`函数时指定好文件名并将文件模式设置为`'w'`即可。注意如果需要对文件内容进行追加式写入，应该将模式设置为`'a'`。"
   ]
  },
  {
   "cell_type": "code",
   "execution_count": null,
   "metadata": {},
   "outputs": [],
   "source": [
    "from math import sqrt\n",
    "\n",
    "\n",
    "def is_prime(n):\n",
    "    \"\"\"判断素数的函数\"\"\"\n",
    "    assert n > 0\n",
    "    for factor in range(2, int(sqrt(n)) + 1):\n",
    "        if n % factor == 0:\n",
    "            return False\n",
    "    return True if n != 1 else False\n",
    "\n",
    "\n",
    "def main():\n",
    "    filenames = ('a.txt', 'b.txt', 'c.txt')\n",
    "    fs_list = []\n",
    "    try:\n",
    "        for filename in filenames:\n",
    "            fs_list.append(open(filename, 'w', encoding='utf-8'))\n",
    "        for number in range(1, 10000):\n",
    "            if is_prime(number):\n",
    "                if number < 100:\n",
    "                    fs_list[0].write(str(number) + '\\n')\n",
    "                elif number < 1000:\n",
    "                    fs_list[1].write(str(number) + '\\n')\n",
    "                else:\n",
    "                    fs_list[2].write(str(number) + '\\n')\n",
    "    except IOError as ex:\n",
    "        print(ex)\n",
    "        print('写文件时发生错误!')\n",
    "    finally:\n",
    "        for fs in fs_list:\n",
    "            fs.close()\n",
    "    print('操作完成!')\n",
    "\n",
    "\n",
    "if __name__ == '__main__':\n",
    "    main()"
   ]
  },
  {
   "cell_type": "markdown",
   "metadata": {},
   "source": [
    "### 读写二进制文件\n",
    "\n",
    "知道了如何读写文本文件要读写二进制文件也就很简单了，下面的代码实现了复制图片文件的功能。"
   ]
  },
  {
   "cell_type": "code",
   "execution_count": null,
   "metadata": {},
   "outputs": [],
   "source": [
    "def main():\n",
    "    try:\n",
    "        with open('guido.jpg', 'rb') as fs1:\n",
    "            data = fs1.read()\n",
    "            print(type(data))  # <class 'bytes'>\n",
    "        with open('吉多.jpg', 'wb') as fs2:\n",
    "            fs2.write(data)\n",
    "    except FileNotFoundError as e:\n",
    "        print('指定的文件无法打开.')\n",
    "    except IOError as e:\n",
    "        print('读写文件时出现错误.')\n",
    "    print('程序执行结束.')\n",
    "\n",
    "\n",
    "if __name__ == '__main__':\n",
    "    main()"
   ]
  },
  {
   "cell_type": "markdown",
   "metadata": {},
   "source": [
    "### 读写JSON文件\n",
    "\n",
    "JSON是“JavaScript Object Notation”的缩写，JSON文件广泛地应用于跨平台跨语言的数据交换。目前JSON基本上已经取代了XML作为异构系统间交换数据的事实标准。\n",
    "\n",
    "```JSON\n",
    "{\n",
    "    \"name\": \"骆昊\",\n",
    "    \"age\": 38,\n",
    "    \"qq\": 957658,\n",
    "    \"friends\": [\"王大锤\", \"白元芳\"],\n",
    "    \"cars\": [\n",
    "        {\"brand\": \"BYD\", \"max_speed\": 180},\n",
    "        {\"brand\": \"Audi\", \"max_speed\": 280},\n",
    "        {\"brand\": \"Benz\", \"max_speed\": 320}\n",
    "    ]\n",
    "}\n",
    "```"
   ]
  },
  {
   "cell_type": "markdown",
   "metadata": {},
   "source": [
    "事实上，JSON的数据类型和Python的数据类型是很容易找到对应关系的。\n",
    "\n",
    "| JSON                | Python       |\n",
    "| ------------------- | ------------ |\n",
    "| object              | dict         |\n",
    "| array               | list         |\n",
    "| string              | str          |\n",
    "| number (int / real) | int / float  |\n",
    "| true / false        | True / False |\n",
    "| null                | None         |"
   ]
  },
  {
   "cell_type": "markdown",
   "metadata": {},
   "source": [
    "| Python                                 | JSON         |\n",
    "| -------------------------------------- | ------------ |\n",
    "| dict                                   | object       |\n",
    "| list, tuple                            | array        |\n",
    "| str                                    | string       |\n",
    "| int, float, int- & float-derived Enums | number       |\n",
    "| True / False                           | true / false |\n",
    "| None                                   | null         |"
   ]
  },
  {
   "cell_type": "markdown",
   "metadata": {},
   "source": [
    "使用Python中的json模块就可以将字典或列表以JSON格式保存到文件中"
   ]
  },
  {
   "cell_type": "code",
   "execution_count": null,
   "metadata": {},
   "outputs": [],
   "source": [
    "import json\n",
    "\n",
    "\n",
    "def main():\n",
    "    mydict = {\n",
    "        'name': '骆昊',\n",
    "        'age': 38,\n",
    "        'qq': 957658,\n",
    "        'friends': ['王大锤', '白元芳'],\n",
    "        'cars': [\n",
    "            {'brand': 'BYD', 'max_speed': 180},\n",
    "            {'brand': 'Audi', 'max_speed': 280},\n",
    "            {'brand': 'Benz', 'max_speed': 320}\n",
    "        ]\n",
    "    }\n",
    "    try:\n",
    "        with open('data.json', 'w', encoding='utf-8') as fs:\n",
    "            json.dump(mydict, fs)\n",
    "    except IOError as e:\n",
    "        print(e)\n",
    "    print('保存数据完成!')\n",
    "\n",
    "\n",
    "if __name__ == '__main__':\n",
    "    main()"
   ]
  },
  {
   "cell_type": "markdown",
   "metadata": {},
   "source": [
    "json模块主要有四个比较重要的函数，分别是：\n",
    "\n",
    "- `dump` - 将Python对象按照JSON格式序列化到文件中\n",
    "- `dumps` - 将Python对象处理成JSON格式的字符串\n",
    "- `load` - 将文件中的JSON数据反序列化成对象\n",
    "- `loads` - 将字符串的内容反序列化成Python对象"
   ]
  },
  {
   "cell_type": "markdown",
   "metadata": {},
   "source": [
    "绝大多数网络数据服务（或称之为网络API）都是基于HTTP协议，提供的是JSON格式的数据\n",
    "\n",
    "下面的例子演示了如何使用[requests](http://docs.python-requests.org/zh_CN/latest/)模块访问网络API获取国内新闻，如何通过json模块解析JSON数据并显示新闻标题，这个例子使用了[天行数据](https://www.tianapi.com/)提供的国内新闻数据接口，其中的APIKey需要自己到该网站申请。"
   ]
  },
  {
   "cell_type": "code",
   "execution_count": null,
   "metadata": {},
   "outputs": [],
   "source": [
    "import requests\n",
    "import json\n",
    "\n",
    "\n",
    "def main():\n",
    "    resp = requests.get('http://api.tianapi.com/guonei/?key=APIKey&num=10')\n",
    "    data_model = json.loads(resp.text)\n",
    "    for news in data_model['newslist']:\n",
    "        print(news['title'])\n",
    "\n",
    "\n",
    "if __name__ == '__main__':\n",
    "    main()"
   ]
  },
  {
   "cell_type": "markdown",
   "metadata": {},
   "source": [
    "在Python中要实现序列化和反序列化除了使用json模块之外，还可以使用pickle和shelve模块"
   ]
  },
  {
   "cell_type": "markdown",
   "metadata": {},
   "source": [
    "## 12. 正则表达式\n",
    "\n",
    "\n",
    "Python通过标准库中的re模块来支持正则表达式操作。\n",
    "\n",
    "我们可以考虑下面一个问题：我们从某个地方获得了一个字符串，希望在字符串中找出手机号和座机号。如果不使用正则表达式要完成这个任务就会很麻烦。"
   ]
  },
  {
   "cell_type": "markdown",
   "metadata": {},
   "source": [
    "关于正则表达式的相关知识，大家可以阅读一篇非常有名的博客叫[《正则表达式30分钟入门教程》](https://deerchao.net/tutorials/regex/regex.htm)，读完这篇文章后你就可以看懂下面的表格，这是我们对正则表达式中的一些基本符号进行的扼要总结。\n",
    "\n",
    "| 符号               | 解释                                      | 示例             | 说明                                               |\n",
    "| ------------------ | ----------------------------------------- | ---------------- | -------------------------------------------------- |\n",
    "| .                  | 匹配任意字符                              | b.t              | 可以匹配bat / but / b#t / b1t等                    |\n",
    "| \\\\w                | 匹配字母/数字/下划线                      | b\\\\wt            | 可以匹配bat / b1t / b_t等<br>但不能匹配b#t         |\n",
    "| \\\\s                | 匹配空白字符（包括\\r、\\n、\\t等）          | love\\\\syou       | 可以匹配love you                                   |\n",
    "| \\\\d                | 匹配数字                                  | \\\\d\\\\d           | 可以匹配01 / 23 / 99等                             |\n",
    "| \\\\b                | 匹配单词的边界                            | \\\\bThe\\\\b        |                                                    |\n",
    "| ^                  | 匹配字符串的开始                          | ^The             | 可以匹配The开头的字符串                            |\n",
    "| $                  | 匹配字符串的结束                          | .exe$            | 可以匹配.exe结尾的字符串                           |\n",
    "| \\\\W                 | 匹配非字母/数字/下划线                    | b\\\\Wt            | 可以匹配b#t / b@t等<br>但不能匹配but / b1t / b_t等 |\n",
    "| \\\\S                 | 匹配非空白字符                            | love\\\\Syou       | 可以匹配love#you等<br>但不能匹配love you           |\n",
    "| \\\\D                 | 匹配非数字                                | \\\\d\\\\D           | 可以匹配9a / 3# / 0F等                             |\n",
    "| \\\\B                 | 匹配非单词边界                            | \\\\Bio\\\\B         |                                                    |\n",
    "| []                 | 匹配来自字符集的任意单一字符              | [aeiou]          | 可以匹配任一元音字母字符                           |\n",
    "| [^]                | 匹配不在字符集中的任意单一字符            | [^aeiou]         | 可以匹配任一非元音字母字符                         |\n",
    "| *                  | 匹配0次或多次                             | \\\\w*             |                                                    |\n",
    "| +                  | 匹配1次或多次                             | \\\\w+             |                                                    |\n",
    "| ?                  | 匹配0次或1次                              | \\\\w?             |                                                    |\n",
    "| {N}                | 匹配N次                                   | \\\\w{3}            |                                                    |\n",
    "| {M,}               | 匹配至少M次                               | \\\\w{3,}           |                                                    |\n",
    "| {M,N}              | 匹配至少M次至多N次                        | \\\\w{3,6}          |                                                    |\n",
    "| \\|                 | 分支                                      | foo\\|bar         | 可以匹配foo或者bar                                 |\n",
    "| (?#)               | 注释                                      |                  |                                                    |\n",
    "| (exp)              | 匹配exp并捕获到自动命名的组中             |                  |                                                    |\n",
    "| (?&lt;name&gt;exp) | 匹配exp并捕获到名为name的组中             |                  |                                                    |\n",
    "| (?:exp)            | 匹配exp但是不捕获匹配的文本               |                  |                                                    |\n",
    "| (?=exp)            | 匹配exp前面的位置                         | \\\\b\\\\w+(?=ing)     | 可以匹配I'm dancing中的danc                        |\n",
    "| (?<=exp)           | 匹配exp后面的位置                         | (?<=\\\\bdanc)\\\\w+\\\\b | 可以匹配I love dancing and reading中的第一个ing    |\n",
    "| (?!exp)            | 匹配后面不是exp的位置                     |                  |                                                    |\n",
    "| (?<!exp)           | 匹配前面不是exp的位置                     |                  |                                                    |\n",
    "| *?                 | 重复任意次，但尽可能少重复 | a.\\*b<br>a.\\*?b | 将正则表达式应用于aabab，前者会匹配整个字符串aabab，后者会匹配aab和ab两个字符串 |\n",
    "| +?                 | 重复1次或多次，但尽可能少重复 |                  |                                                    |\n",
    "| ??                 | 重复0次或1次，但尽可能少重复 |                  |                                                    |\n",
    "| {M,N}?             | 重复M到N次，但尽可能少重复 |                  |                                                    |\n",
    "| {M,}?              | 重复M次以上，但尽可能少重复 |                  |                                                    |"
   ]
  },
  {
   "cell_type": "markdown",
   "metadata": {},
   "source": [
    "> **说明：** 如果需要匹配的字符是正则表达式中的特殊字符，那么可以使用\\\\进行转义处理，例如想匹配小数点可以写成\\\\.就可以了，因为直接写.会匹配任意字符；同理，想匹配圆括号必须写成\\\\(和\\\\)，否则圆括号被视为正则表达式中的分组。"
   ]
  },
  {
   "cell_type": "markdown",
   "metadata": {},
   "source": [
    "### Python对正则表达式的支持\n",
    "\n",
    "Python提供了re模块来支持正则表达式相关操作，下面是re模块中的核心函数。"
   ]
  },
  {
   "cell_type": "markdown",
   "metadata": {},
   "source": [
    "| 函数                                         | 说明                                                         |\n",
    "| -------------------------------------------- | ------------------------------------------------------------ |\n",
    "| compile(pattern, flags=0)                    | 编译正则表达式返回正则表达式对象                             |\n",
    "| match(pattern, string, flags=0)              | 用正则表达式匹配字符串 成功返回匹配对象 否则返回None         |\n",
    "| search(pattern, string, flags=0)             | 搜索字符串中第一次出现正则表达式的模式 成功返回匹配对象 否则返回None |\n",
    "| split(pattern, string, maxsplit=0, flags=0)  | 用正则表达式指定的模式分隔符拆分字符串 返回列表              |\n",
    "| sub(pattern, repl, string, count=0, flags=0) | 用指定的字符串替换原字符串中与正则表达式匹配的模式 可以用count指定替换的次数 |\n",
    "| fullmatch(pattern, string, flags=0)          | match函数的完全匹配（从字符串开头到结尾）版本                |\n",
    "| findall(pattern, string, flags=0)            | 查找字符串所有与正则表达式匹配的模式 返回字符串的列表        |\n",
    "| finditer(pattern, string, flags=0)           | 查找字符串所有与正则表达式匹配的模式 返回一个迭代器          |\n",
    "| purge()                                      | 清除隐式编译的正则表达式的缓存                               |\n",
    "| re.I / re.IGNORECASE                         | 忽略大小写匹配标记                                           |\n",
    "| re.M / re.MULTILINE                          | 多行匹配标记                                   "
   ]
  },
  {
   "cell_type": "markdown",
   "metadata": {},
   "source": [
    "|\n",
    "\n",
    "> **说明：** 上面提到的re模块中的这些函数，实际开发中也可以用正则表达式对象的方法替代对这些函数的使用，如果一个正则表达式需要重复的使用，那么先通过compile函数编译正则表达式并创建出正则表达式对象无疑是更为明智的选择。"
   ]
  },
  {
   "cell_type": "markdown",
   "metadata": {},
   "source": [
    "#### 例子\n",
    "\n",
    "1：验证输入用户名和QQ号是否有效并给出对应的提示信息。"
   ]
  },
  {
   "cell_type": "code",
   "execution_count": null,
   "metadata": {},
   "outputs": [],
   "source": [
    "\"\"\"\n",
    "验证输入用户名和QQ号是否有效并给出对应的提示信息\n",
    "\n",
    "要求：用户名必须由字母、数字或下划线构成且长度在6~20个字符之间，QQ号是5~12的数字且首位不能为0\n",
    "\"\"\"\n",
    "import re\n",
    "\n",
    "\n",
    "def main():\n",
    "    username = input('请输入用户名: ')\n",
    "    qq = input('请输入QQ号: ')\n",
    "    # match函数的第一个参数是正则表达式字符串或正则表达式对象\n",
    "    # 第二个参数是要跟正则表达式做匹配的字符串对象\n",
    "    m1 = re.match(r'^[0-9a-zA-Z_]{6,20}$', username)\n",
    "    if not m1:\n",
    "        print('请输入有效的用户名.')\n",
    "    m2 = re.match(r'^[1-9]\\d{4,11}$', qq)\n",
    "    if not m2:\n",
    "        print('请输入有效的QQ号.')\n",
    "    if m1 and m2:\n",
    "        print('你输入的信息是有效的!')\n",
    "\n",
    "\n",
    "if __name__ == '__main__':\n",
    "    main()"
   ]
  },
  {
   "cell_type": "markdown",
   "metadata": {},
   "source": [
    "> **提示：** `r`: 原始字符串（在字符串前面加上了r）没有所谓的转义字符啦。 `' '`: 正则表达式字符串 `^`: 匹配字符串开始 `[0-9a-zA-Z_]`:用户名由字母、数字或下划线构 `{6,20}`：长度为6到20 `$`:匹配字符串结束 `\\d` 匹配数字 "
   ]
  },
  {
   "cell_type": "markdown",
   "metadata": {},
   "source": [
    "2：从一段文字中提取出国内手机号码。"
   ]
  },
  {
   "cell_type": "code",
   "execution_count": null,
   "metadata": {},
   "outputs": [],
   "source": [
    "import re\n",
    "\n",
    "\n",
    "def main():\n",
    "    # 创建正则表达式对象 使用了前瞻和回顾来保证手机号前后不应该出现数字\n",
    "    pattern = re.compile(r'(?<=\\D)1[34578]\\d{9}(?=\\D)')\n",
    "    sentence = '''\n",
    "    重要的事情说8130123456789遍，我的手机号是13512346789这个靓号，\n",
    "    不是15600998765，也是110或119，王大锤的手机号才是15600998765。\n",
    "    '''\n",
    "    # 查找所有匹配并保存到一个列表中\n",
    "    mylist = re.findall(pattern, sentence)\n",
    "    print(mylist)\n",
    "    print('--------华丽的分隔线--------')\n",
    "    # 通过迭代器取出匹配对象并获得匹配的内容\n",
    "    for temp in pattern.finditer(sentence):\n",
    "        print(temp.group())\n",
    "    print('--------华丽的分隔线--------')\n",
    "    # 通过search函数指定搜索位置找出所有匹配\n",
    "    m = pattern.search(sentence)\n",
    "    while m:\n",
    "        print(m.group())\n",
    "        m = pattern.search(sentence, m.end())\n",
    "\n",
    "\n",
    "if __name__ == '__main__':\n",
    "    main()"
   ]
  },
  {
   "cell_type": "markdown",
   "metadata": {},
   "source": [
    "> **说明：** 要匹配国内手机号，更好的正则表达式的写法是：`(?<=\\D)(1[38]\\d{9}|14[57]\\d{8}|15[0-35-9]\\d{8}|17[678]\\d{8})(?=\\D)`，`(?<=\\D)`: `\\D` 非数字, 匹配字符串中非数字后的内容， `(?=\\D)` 匹配字符串中非数字前的内容 `(1[38]\\d{9}|14[57]\\d{8}|15[0-35-9]\\d{8}|17[678]\\d{8})` "
   ]
  },
  {
   "cell_type": "markdown",
   "metadata": {},
   "source": [
    "3：替换字符串中的不良内容"
   ]
  },
  {
   "cell_type": "code",
   "execution_count": null,
   "metadata": {},
   "outputs": [],
   "source": [
    "import re\n",
    "\n",
    "\n",
    "def main():\n",
    "    sentence = '你丫是傻叉吗? 我操你大爷的. Fuck you.'\n",
    "    purified = re.sub('[操肏艹]|fuck|shit|傻[比屄逼叉缺吊屌]|煞笔',\n",
    "                      '*', sentence, flags=re.IGNORECASE)\n",
    "    print(purified)  # 你丫是*吗? 我*你大爷的. * you.\n",
    "\n",
    "\n",
    "if __name__ == '__main__':\n",
    "    main()"
   ]
  },
  {
   "cell_type": "markdown",
   "metadata": {},
   "source": [
    "> **说明：** re模块的正则表达式相关函数中都有一个flags参数，它代表了正则表达式的匹配标记，可以通过该标记来指定匹配时是否忽略大小写、是否进行多行匹配、是否显示调试信息等。如果需要为flags参数指定多个值，"
   ]
  },
  {
   "cell_type": "markdown",
   "metadata": {},
   "source": [
    "4：拆分长字符串"
   ]
  },
  {
   "cell_type": "code",
   "execution_count": null,
   "metadata": {},
   "outputs": [],
   "source": [
    "import re\n",
    "\n",
    "\n",
    "def main():\n",
    "    poem = '窗前明月光，疑是地上霜。举头望明月，低头思故乡。'\n",
    "    sentence_list = re.split(r'[，。,.]', poem)\n",
    "    while '' in sentence_list:\n",
    "        sentence_list.remove('')\n",
    "    print(sentence_list)  # ['窗前明月光', '疑是地上霜', '举头望明月', '低头思故乡']\n",
    "\n",
    "\n",
    "if __name__ == '__main__':\n",
    "    main()"
   ]
  },
  {
   "cell_type": "markdown",
   "metadata": {},
   "source": [
    "### 后话\n",
    "\n",
    "如果要从事爬虫类应用的开发，那么正则表达式一定是一个非常好的助手，因为它可以帮助我们迅速的从网页代码中发现某种我们指定的模式并提取出我们需要的信息，当然对于初学者来收，要编写一个正确的适当的正则表达式可能并不是一件容易的事情（当然有些常用的正则表达式可以直接在网上找找），所以实际开发爬虫应用的时候，有很多人会选择[Beautiful Soup](https://www.crummy.com/software/BeautifulSoup/)或[Lxml](http://lxml.de/)来进行匹配和信息的提取"
   ]
  },
  {
   "cell_type": "markdown",
   "metadata": {},
   "source": [
    "## 13 进程和线程\n",
    "\n",
    "今天我们使用的计算机早已进入多CPU或多核时代，程序同时执行多个任务--“并发编程”，应该是程序员必备技能之一。为此，我们需要先讨论两个概念，一个叫进程，一个叫线程。"
   ]
  },
  {
   "cell_type": "markdown",
   "metadata": {},
   "source": [
    "### 概念\n",
    "\n",
    "**进程**就是操作系统中执行的一个程序，进程可以通过fork或spawn的方式来创建新的进程，进程间必须通过通信机制（IPC，Inter-Process Communication）来实现数据共享，具体的方式包括管道、信号、套接字、共享内存区等。\n",
    "\n",
    "**线程**一个程序（进程）可拥有多个并发执行线索，即拥有多个CPU，这就是所谓的线程。在单核CPU系统中，真正的并发是不可能的，因为在某个时刻能够获得CPU的只有唯一的一个线程，多个线程共享了CPU的执行时间。\n",
    "\n",
    "Python既支持多进程又支持多线程，因此使用Python实现并发编程主要有3种方式：多进程、多线程、多进程+多线程。"
   ]
  },
  {
   "cell_type": "markdown",
   "metadata": {},
   "source": [
    "### Python中的多进程\n",
    "\n",
    "Unix和Linux操作系统上提供了`fork()`系统调用来创建进程，调用`fork()`函数的是父进程，创建出的是子进程，子进程是父进程的一个拷贝，但是子进程拥有自己的PID。`fork()`函数非常特殊它会返回两次，父进程中可以通过`fork()`函数的返回值得到子进程的PID，而子进程中的返回值永远都是0。Python的os模块提供了`fork()`函数。由于Windows系统没有`fork()`调用，因此要实现跨平台的多进程编程，可以使用multiprocessing模块的`Process`类来创建子进程，而且该模块还提供了更高级的封装，例如批量启动进程的进程池（`Pool`）、用于进程间通信的队列（`Queue`）和管道（`Pipe`）等。"
   ]
  },
  {
   "cell_type": "code",
   "execution_count": null,
   "metadata": {},
   "outputs": [],
   "source": [
    "from random import randint\n",
    "from time import time, sleep\n",
    "\n",
    "\n",
    "def download_task(filename):\n",
    "    print('开始下载%s...' % filename)\n",
    "    time_to_download = randint(5, 10)\n",
    "    sleep(time_to_download)\n",
    "    print('%s下载完成! 耗费了%d秒' % (filename, time_to_download))\n",
    "\n",
    "\n",
    "def main():\n",
    "    start = time()\n",
    "    download_task('Python从入门到住院.pdf')\n",
    "    download_task('Peking Hot.avi')\n",
    "    end = time()\n",
    "    print('总共耗费了%.2f秒.' % (end - start))\n",
    "\n",
    "\n",
    "if __name__ == '__main__':\n",
    "    main()"
   ]
  },
  {
   "cell_type": "markdown",
   "metadata": {},
   "source": [
    "上面的程序中的代码是按顺序一点点的往下执行，即使执行两个毫不相关的下载任务，也需要先等待一个文件下载完成后才能开始下一个下载任务，很显然这并不合理也没有效率。使用多进程的方式可将两个下载任务放到不同的进程中。"
   ]
  },
  {
   "cell_type": "code",
   "execution_count": null,
   "metadata": {},
   "outputs": [],
   "source": [
    "from multiprocessing import Process\n",
    "from os import getpid\n",
    "from random import randint\n",
    "from time import time, sleep\n",
    "\n",
    "\n",
    "def download_task(filename):\n",
    "    print('启动下载进程，进程号[%d].' % getpid())\n",
    "    print('开始下载%s...' % filename)\n",
    "    time_to_download = randint(5, 10)\n",
    "    sleep(time_to_download)\n",
    "    print('%s下载完成! 耗费了%d秒' % (filename, time_to_download))\n",
    "\n",
    "\n",
    "def main():\n",
    "    start = time()\n",
    "    p1 = Process(target=download_task, args=('Python从入门到住院.pdf', ))\n",
    "    p1.start()\n",
    "    p2 = Process(target=download_task, args=('Peking Hot.avi', ))\n",
    "    p2.start()\n",
    "    p1.join()\n",
    "    p2.join()\n",
    "    end = time()\n",
    "    print('总共耗费了%.2f秒.' % (end - start))\n",
    "\n",
    "\n",
    "if __name__ == '__main__':\n",
    "    main()"
   ]
  },
  {
   "cell_type": "markdown",
   "metadata": {},
   "source": [
    "通过`Process`类创建了进程对象，通过`target`参数我们传入一个函数来表示进程启动后要执行的代码，后面的`args`是一个元组，它代表了传递给函数的参数。`Process`对象的`start`方法用来启动进程，而`join`方法表示等待进程执行结束。运行上面的代码可以明显发现两个下载任务“同时”启动了。 "
   ]
  },
  {
   "cell_type": "markdown",
   "metadata": {},
   "source": [
    "也可以用subprocess模块中的类和函数来创建和启动子进程，然后通过管道来和子进程通信，"
   ]
  },
  {
   "cell_type": "code",
   "execution_count": null,
   "metadata": {},
   "outputs": [],
   "source": [
    "from multiprocessing import Process\n",
    "from time import sleep\n",
    "\n",
    "counter = 0\n",
    "\n",
    "\n",
    "def sub_task(string):\n",
    "    global counter\n",
    "    while counter < 10:\n",
    "        print(string, end='', flush=True)\n",
    "        counter += 1\n",
    "        sleep(0.01)\n",
    "\n",
    "        \n",
    "def main():\n",
    "    Process(target=sub_task, args=('Ping', )).start()\n",
    "    Process(target=sub_task, args=('Pong', )).start()\n",
    "\n",
    "\n",
    "if __name__ == '__main__':\n",
    "    main()"
   ]
  },
  {
   "cell_type": "markdown",
   "metadata": {},
   "source": [
    "看起来没毛病，但是最后的结果是Ping和Pong各输出了10个，Why？当我们在程序中创建进程的时候，子进程复制了父进程及其所有的数据结构，每个子进程有自己独立的内存空间，这也就意味着两个子进程中各有一个`counter`变量，所以结果也就可想而知了。要解决这个问题比较简单的办法是使用multiprocessing模块中的`Queue`类，它是可以被多个进程共享的队列，"
   ]
  },
  {
   "cell_type": "markdown",
   "metadata": {},
   "source": [
    "### Python中的多线程\n",
    "\n",
    "Python的多线程开发推荐使用threading模块，该模块对多线程编程提供了更好的面向对象的封装。"
   ]
  },
  {
   "cell_type": "code",
   "execution_count": null,
   "metadata": {},
   "outputs": [],
   "source": [
    "from random import randint\n",
    "from threading import Thread\n",
    "from time import time, sleep\n",
    "\n",
    "\n",
    "def download(filename):\n",
    "    print('开始下载%s...' % filename)\n",
    "    time_to_download = randint(5, 10)\n",
    "    sleep(time_to_download)\n",
    "    print('%s下载完成! 耗费了%d秒' % (filename, time_to_download))\n",
    "\n",
    "\n",
    "def main():\n",
    "    start = time()\n",
    "    t1 = Thread(target=download, args=('Python从入门到住院.pdf',))\n",
    "    t1.start()\n",
    "    t2 = Thread(target=download, args=('Peking Hot.avi',))\n",
    "    t2.start()\n",
    "    t1.join()\n",
    "    t2.join()\n",
    "    end = time()\n",
    "    print('总共耗费了%.3f秒' % (end - start))\n",
    "\n",
    "\n",
    "if __name__ == '__main__':\n",
    "    main()"
   ]
  },
  {
   "cell_type": "markdown",
   "metadata": {},
   "source": [
    "我们可以直接使用threading模块的`Thread`类来创建线程，也可以通过继承`Thread`类的方式来创建自定义的线程类，然后再创建线程对象并启动线程。代码如下所示。"
   ]
  },
  {
   "cell_type": "code",
   "execution_count": null,
   "metadata": {},
   "outputs": [],
   "source": [
    "from random import randint\n",
    "from threading import Thread\n",
    "from time import time, sleep\n",
    "\n",
    "\n",
    "class DownloadTask(Thread):\n",
    "\n",
    "    def __init__(self, filename):\n",
    "        super().__init__()\n",
    "        self._filename = filename\n",
    "\n",
    "    def run(self):\n",
    "        print('开始下载%s...' % self._filename)\n",
    "        time_to_download = randint(5, 10)\n",
    "        sleep(time_to_download)\n",
    "        print('%s下载完成! 耗费了%d秒' % (self._filename, time_to_download))\n",
    "\n",
    "\n",
    "def main():\n",
    "    start = time()\n",
    "    t1 = DownloadTask('Python从入门到住院.pdf')\n",
    "    t1.start()\n",
    "    t2 = DownloadTask('Peking Hot.avi')\n",
    "    t2.start()\n",
    "    t1.join()\n",
    "    t2.join()\n",
    "    end = time()\n",
    "    print('总共耗费了%.2f秒.' % (end - start))\n",
    "\n",
    "\n",
    "if __name__ == '__main__':\n",
    "    main()"
   ]
  },
  {
   "cell_type": "markdown",
   "metadata": {},
   "source": [
    "多个线程共享一个进程的内存空间，多个线程间的通信相可直接设置一个全局变量来实现。\n",
    "一个变量（资源）被多个线程竞争使用，称为“临界资源”\n",
    "“临界资源”的访问需要加上保护，否则资源会处于“混乱”的状态。下\n",
    "面的例子演示了100个线程向同一个银行账户转账（转入1元钱）的场景，在这个例子中，银行账户就是一个临界资源，在没有保护的情况下我们很有可能会得到错误的结果。"
   ]
  },
  {
   "cell_type": "code",
   "execution_count": null,
   "metadata": {},
   "outputs": [],
   "source": [
    "from time import sleep\n",
    "from threading import Thread\n",
    "\n",
    "\n",
    "class Account(object):\n",
    "\n",
    "    def __init__(self):\n",
    "        self._balance = 0\n",
    "\n",
    "    def deposit(self, money):\n",
    "        # 计算存款后的余额\n",
    "        new_balance = self._balance + money\n",
    "        # 模拟受理存款业务需要0.01秒的时间\n",
    "        sleep(0.01)\n",
    "        # 修改账户余额\n",
    "        self._balance = new_balance\n",
    "\n",
    "    @property\n",
    "    def balance(self):\n",
    "        return self._balance\n",
    "\n",
    "\n",
    "class AddMoneyThread(Thread):\n",
    "\n",
    "    def __init__(self, account, money):\n",
    "        super().__init__()\n",
    "        self._account = account\n",
    "        self._money = money\n",
    "\n",
    "    def run(self):\n",
    "        self._account.deposit(self._money)\n",
    "\n",
    "\n",
    "def main():\n",
    "    account = Account()\n",
    "    threads = []\n",
    "    # 创建100个存款的线程向同一个账户中存钱\n",
    "    for _ in range(100):\n",
    "        t = AddMoneyThread(account, 1)\n",
    "        threads.append(t)\n",
    "        t.start()\n",
    "    # 等所有存款的线程都执行完毕\n",
    "    for t in threads:\n",
    "        t.join()\n",
    "    print('账户余额为: ￥%d元' % account.balance)\n",
    "\n",
    "\n",
    "if __name__ == '__main__':\n",
    "    main()"
   ]
  },
  {
   "cell_type": "markdown",
   "metadata": {},
   "source": [
    "运行上面的程序，结果让人大跌眼镜，100个线程分别向账户中转入1元钱，结果居然远远小于100元。\n",
    "可以通过“锁”来保护“临界资源”，只有获得“锁”的线程才能访问“临界资源”，而其他没有得到“锁”的线程只能被阻塞起来，直到获得“锁”的线程释放了“锁”，其他线程才有机会获得“锁”，进而访问被保护的“临界资源”。下面的代码演示了如何使用“锁”来保护对银行账户的操作，从而获得正确的结果。"
   ]
  },
  {
   "cell_type": "code",
   "execution_count": null,
   "metadata": {},
   "outputs": [],
   "source": [
    "from time import sleep\n",
    "from threading import Thread, Lock\n",
    "\n",
    "\n",
    "class Account(object):\n",
    "\n",
    "    def __init__(self):\n",
    "        self._balance = 0\n",
    "        self._lock = Lock()\n",
    "\n",
    "    def deposit(self, money):\n",
    "        # 先获取锁才能执行后续的代码\n",
    "        self._lock.acquire()\n",
    "        try:\n",
    "            new_balance = self._balance + money\n",
    "            sleep(0.01)\n",
    "            self._balance = new_balance\n",
    "        finally:\n",
    "            # 在finally中执行释放锁的操作保证正常异常锁都能释放\n",
    "            self._lock.release()\n",
    "\n",
    "    @property\n",
    "    def balance(self):\n",
    "        return self._balance\n",
    "\n",
    "\n",
    "class AddMoneyThread(Thread):\n",
    "\n",
    "    def __init__(self, account, money):\n",
    "        super().__init__()\n",
    "        self._account = account\n",
    "        self._money = money\n",
    "\n",
    "    def run(self):\n",
    "        self._account.deposit(self._money)\n",
    "\n",
    "\n",
    "def main():\n",
    "    account = Account()\n",
    "    threads = []\n",
    "    for _ in range(100):\n",
    "        t = AddMoneyThread(account, 1)\n",
    "        threads.append(t)\n",
    "        t.start()\n",
    "    for t in threads:\n",
    "        t.join()\n",
    "    print('账户余额为: ￥%d元' % account.balance)\n",
    "\n",
    "\n",
    "if __name__ == '__main__':\n",
    "    main()"
   ]
  },
  {
   "cell_type": "markdown",
   "metadata": {},
   "source": [
    "### 多进程还是多线程\n",
    "\n",
    "\n",
    "除了计算密集型任务，其他的涉及到网络、存储介质I/O的任务都可以视为I/O密集型任务，这类任务的特点是CPU消耗很少，任务的大部分时间都在等待I/O操作完成。启动多任务，就可以减少I/O等待时间从而让CPU高效率的运转。有一大类的任务都属于I/O密集型任务，这其中包括了我们很快会涉及到的网络应用和Web应用。"
   ]
  },
  {
   "cell_type": "markdown",
   "metadata": {},
   "source": [
    "### 单线程+异步I/O\n",
    "\n",
    "现代操作系统对I/O操作的改进中最为重要的就是支持异步I/O。如果充分利用操作系统提供的异步I/O支持，就可以用单进程单线程模型来执行多任务，这种全新的模型称为事件驱动模型。\n",
    "\n",
    "在Python语言中，单线程+异步I/O的编程模型称为协程，有了协程的支持，就可以基于事件驱动编写高效的多任务程序。协程最大的优势就是极高的执行效率，因为子程序切换不是线程切换，而是由程序自身控制，\n",
    "\n",
    "如果想充分利用CPU的多核特性，最简单的方法是多进程+协程，既充分利用多核，又充分发挥协程的高效率，可获得极高的性能。"
   ]
  },
  {
   "cell_type": "markdown",
   "metadata": {},
   "source": [
    "### 应用案例\n",
    "\n",
    "1：将耗时间的任务放到线程中以获得更好的用户体验。\n",
    "\n",
    "如下所示的界面中，有“下载”和“关于”两个按钮，用休眠的方式模拟点击“下载”按钮会联网下载文件需要耗费10秒的时间，如果不使用“多线程”，我们会发现，当点击“下载”按钮后整个程序的其他部分都被这个耗时间的任务阻塞而无法执行了，这显然是非常糟糕的用户体验"
   ]
  },
  {
   "cell_type": "code",
   "execution_count": null,
   "metadata": {},
   "outputs": [],
   "source": [
    "import time\n",
    "import tkinter\n",
    "import tkinter.messagebox\n",
    "\n",
    "\n",
    "def download():\n",
    "    # 模拟下载任务需要花费10秒钟时间\n",
    "    time.sleep(10)\n",
    "    tkinter.messagebox.showinfo('提示', '下载完成!')\n",
    "\n",
    "\n",
    "def show_about():\n",
    "    tkinter.messagebox.showinfo('关于', '作者: 骆昊(v1.0)')\n",
    "\n",
    "\n",
    "def main():\n",
    "    top = tkinter.Tk()\n",
    "    top.title('单线程')\n",
    "    top.geometry('200x150')\n",
    "    top.wm_attributes('-topmost', True)\n",
    "\n",
    "    panel = tkinter.Frame(top)\n",
    "    button1 = tkinter.Button(panel, text='下载', command=download)\n",
    "    button1.pack(side='left')\n",
    "    button2 = tkinter.Button(panel, text='关于', command=show_about)\n",
    "    button2.pack(side='right')\n",
    "    panel.pack(side='bottom')\n",
    "\n",
    "    tkinter.mainloop()\n",
    "\n",
    "\n",
    "if __name__ == '__main__':\n",
    "    main()"
   ]
  },
  {
   "cell_type": "markdown",
   "metadata": {},
   "source": [
    "如果使用多线程将耗时间的任务放到一个独立的线程中执行，这样就不会因为执行耗时间的任务而阻塞了主线程，修改后的代码如下所示。"
   ]
  },
  {
   "cell_type": "code",
   "execution_count": null,
   "metadata": {},
   "outputs": [],
   "source": [
    "import time\n",
    "import tkinter\n",
    "import tkinter.messagebox\n",
    "from threading import Thread\n",
    "\n",
    "\n",
    "def main():\n",
    "\n",
    "    class DownloadTaskHandler(Thread):\n",
    "\n",
    "        def run(self):\n",
    "            time.sleep(10)\n",
    "            tkinter.messagebox.showinfo('提示', '下载完成!')\n",
    "            # 启用下载按钮\n",
    "            button1.config(state=tkinter.NORMAL)\n",
    "\n",
    "    def download():\n",
    "        # 禁用下载按钮\n",
    "        button1.config(state=tkinter.DISABLED)\n",
    "        # 通过daemon参数将线程设置为守护线程(主程序退出就不再保留执行)\n",
    "        # 在线程中处理耗时间的下载任务\n",
    "        DownloadTaskHandler(daemon=True).start()\n",
    "\n",
    "    def show_about():\n",
    "        tkinter.messagebox.showinfo('关于', '作者: 骆昊(v1.0)')\n",
    "\n",
    "    top = tkinter.Tk()\n",
    "    top.title('单线程')\n",
    "    top.geometry('200x150')\n",
    "    top.wm_attributes('-topmost', 1)\n",
    "\n",
    "    panel = tkinter.Frame(top)\n",
    "    button1 = tkinter.Button(panel, text='下载', command=download)\n",
    "    button1.pack(side='left')\n",
    "    button2 = tkinter.Button(panel, text='关于', command=show_about)\n",
    "    button2.pack(side='right')\n",
    "    panel.pack(side='bottom')\n",
    "\n",
    "    tkinter.mainloop()\n",
    "\n",
    "\n",
    "if __name__ == '__main__':\n",
    "    main()"
   ]
  },
  {
   "cell_type": "markdown",
   "metadata": {},
   "source": [
    "2：使用多进程对复杂任务进行“分而治之”。\n",
    "\n",
    "我们来完成1~100000000求和的计算密集型任务，这个问题本身非常简单，有点循环的知识就能解决，代码如下所示。"
   ]
  },
  {
   "cell_type": "code",
   "execution_count": null,
   "metadata": {},
   "outputs": [],
   "source": [
    "from time import time\n",
    "\n",
    "\n",
    "def main():\n",
    "    total = 0\n",
    "    number_list = [x for x in range(1, 100000001)]\n",
    "    start = time()\n",
    "    for number in number_list:\n",
    "        total += number\n",
    "    print(total)\n",
    "    end = time()\n",
    "    print('Execution time: %.3fs' % (end - start))\n",
    "\n",
    "\n",
    "if __name__ == '__main__':\n",
    "    main()"
   ]
  },
  {
   "cell_type": "markdown",
   "metadata": {},
   "source": [
    "在上面的代码中，我故意先去创建了一个列表容器然后填入了100000000个数，这一步其实是比较耗时间的，所以为了公平起见，当我们将这个任务分解到8个进程中去执行的时候，我们暂时也不考虑列表切片操作花费的时间，只是把做运算和合并运算结果的时间统计出来。"
   ]
  },
  {
   "cell_type": "code",
   "execution_count": null,
   "metadata": {},
   "outputs": [],
   "source": [
    "from multiprocessing import Process, Queue\n",
    "from random import randint\n",
    "from time import time\n",
    "\n",
    "\n",
    "def task_handler(curr_list, result_queue):\n",
    "    total = 0\n",
    "    for number in curr_list:\n",
    "        total += number\n",
    "    result_queue.put(total)\n",
    "\n",
    "\n",
    "def main():\n",
    "    processes = []\n",
    "    number_list = [x for x in range(1, 100000001)]\n",
    "    result_queue = Queue()\n",
    "    index = 0\n",
    "    # 启动8个进程将数据切片后进行运算\n",
    "    for _ in range(8):\n",
    "        p = Process(target=task_handler,\n",
    "                    args=(number_list[index:index + 12500000], result_queue))\n",
    "        index += 12500000\n",
    "        processes.append(p)\n",
    "        p.start()\n",
    "    # 开始记录所有进程执行完成花费的时间\n",
    "    start = time()\n",
    "    for p in processes:\n",
    "        p.join()\n",
    "    # 合并执行结果\n",
    "    total = 0\n",
    "    while not result_queue.empty():\n",
    "        total += result_queue.get()\n",
    "    print(total)\n",
    "    end = time()\n",
    "    print('Execution time: ', (end - start), 's', sep='')\n",
    "\n",
    "\n",
    "if __name__ == '__main__':\n",
    "    main()"
   ]
  },
  {
   "cell_type": "markdown",
   "metadata": {},
   "source": [
    "## 14. 网络编程入门\n",
    "\n",
    "\n",
    "计算机网络是独立自主的计算机互联而成的系统的总称，组建计算机网络最主要的目的是实现多台计算机之间的通信和资源共享。今天计算机网络中的设备和计算机网络的用户已经多得不可计数，而计算机网络也可以称得上是一个“复杂巨系统”，对于这样的系统，我们不可能用一两篇文章把它讲清楚，有兴趣的读者可以自行阅读Andrew S.Tanenbaum老师的经典之作《计算机网络》或Kurose和Ross老师合著的《计算机网络:自顶向下方法》来了解计算机网络的相关知识。"
   ]
  },
  {
   "cell_type": "markdown",
   "metadata": {},
   "source": [
    "#### TCP/IP模型\n",
    "\n",
    "实现网络通信的基础是网络通信协议. 网络协议的三要素是：语法、语义和时序。\n",
    "构成Internet的基础的是TCP/IP协议族，通常也把这套东西称为TCP/IP模型。\n",
    "TCP/IP是一个四层模型，把网络从逻辑上分解为：网络接口层、网络层、传输层和应用层"
   ]
  },
  {
   "cell_type": "markdown",
   "metadata": {},
   "source": [
    "**IP**是网际协议，服务于网络层，主要实现了寻址和路由的功能。接入网络的每一台主机都需要有自己的IP地址\n",
    "\n",
    "**路由器**是网络中继设备，它们会存储转发我们发送到网络上的数据分组，让从源头发出的数据最终能够找到传送到目的地通路。"
   ]
  },
  {
   "cell_type": "markdown",
   "metadata": {},
   "source": [
    "**TCP**是传输控制协议，它是基于IP提供的寻址和路由服务而建立起来的负责实现端到端可靠传输的协议。\n",
    "TCP向调用者承诺了三件事情：\n",
    "\n",
    "1. 数据不传丢不传错（利用握手、校验和重传机制可以实现）。\n",
    "2. 流量控制（通过滑动窗口匹配数据发送者和接收者之间的传输速度）。\n",
    "3. 拥塞控制（通过RTT时间以及对滑动窗口的控制缓解网络拥堵）。"
   ]
  },
  {
   "cell_type": "markdown",
   "metadata": {},
   "source": [
    "#### 网络应用模式\n",
    "\n",
    "1. C/S模式和B/S模式。\n",
    "  - 这里的C指的是Client（客户端），通常是一个需要安装到某个宿主操作系统上的应用程序；\n",
    "  - B指的是Browser（浏览器）\n",
    "  - 通过C或B都可以实现对S（服务器）的访问。\n",
    "  - 不管是B/S还是C/S都需要服务器的存在，服务器就是整个应用模式的中心，\n",
    "2. 去中心化的网络应用模式。没有固定的服务器或者固定的客户端，所有应用的使用者既可以作为资源的提供者也可以作为资源的访问者。"
   ]
  },
  {
   "cell_type": "markdown",
   "metadata": {},
   "source": [
    "### 基于HTTP协议的网络资源访问\n",
    "\n",
    "#### HTTP（超文本传输协议）\n",
    "\n",
    "HTTP是超文本传输协议（Hyper-Text Transfer Proctol）的简称，设计HTTP最初的目的是为了提供一种发布和接收页面的方法，通过HTTP或者HTTPS请求的资源由URI来标识。通过HTTP，我们可以获取网络上的（基于字符的）资源，网络API就是基于HTTP来实现数据传输的。"
   ]
  },
  {
   "cell_type": "markdown",
   "metadata": {},
   "source": [
    "#### JSON格式\n",
    "\n",
    "**JSON** 是一种轻量级的数据交换语言，Python内置的json模块。"
   ]
  },
  {
   "cell_type": "markdown",
   "metadata": {},
   "source": [
    "XML的例子：\n",
    "\n",
    "```XML\n",
    "<?xml version=\"1.0\" encoding=\"UTF-8\"?>\n",
    "<message>\n",
    "\t<from>Alice</from>\n",
    "\t<to>Bob</to>\n",
    "\t<content>Will you marry me?</content>\n",
    "</message>\n",
    "```"
   ]
  },
  {
   "cell_type": "markdown",
   "metadata": {},
   "source": [
    "JSON的例子：\n",
    "\n",
    "```JSON\n",
    "{\n",
    "    \"from\": \"Alice\",\n",
    "    \"to\": \"Bob\",\n",
    "    \"content\": \"Will you marry me?\"\n",
    "}\n",
    "```"
   ]
  },
  {
   "cell_type": "markdown",
   "metadata": {},
   "source": [
    "#### requests库\n",
    "\n",
    "requests是一个基于HTTP协议来使用网络的第三方库，使用requests库可以非常方便的使用HTTP。\n",
    "\n",
    "下面通过requests来实现一个访问网络数据接口并从中获取美女图片下载链接然后下载美女图片到本地的例程。"
   ]
  },
  {
   "cell_type": "code",
   "execution_count": null,
   "metadata": {},
   "outputs": [],
   "source": [
    "from time import time\n",
    "from threading import Thread\n",
    "\n",
    "import requests\n",
    "\n",
    "\n",
    "# 继承Thread类创建自定义的线程类\n",
    "class DownloadHanlder(Thread):\n",
    "\n",
    "    def __init__(self, url):\n",
    "        super().__init__()\n",
    "        self.url = url\n",
    "\n",
    "    def run(self):\n",
    "        filename = self.url[self.url.rfind('/') + 1:]\n",
    "        resp = requests.get(self.url)\n",
    "        with open('/Users/Hao/' + filename, 'wb') as f:\n",
    "            f.write(resp.content)\n",
    "\n",
    "\n",
    "def main():\n",
    "    # 通过requests模块的get函数获取网络资源\n",
    "    # 下面的代码中使用了天行数据接口提供的网络API\n",
    "    # 要使用该数据接口需要在天行数据的网站上注册\n",
    "    # 然后用自己的Key替换掉下面代码的中APIKey即可\n",
    "    resp = requests.get(\n",
    "        'http://api.tianapi.com/meinv/?key=APIKey&num=10')\n",
    "    # 将服务器返回的JSON格式的数据解析为字典\n",
    "    data_model = resp.json()\n",
    "    for mm_dict in data_model['newslist']:\n",
    "        url = mm_dict['picUrl']\n",
    "        # 通过多线程的方式实现图片下载\n",
    "        DownloadHanlder(url).start()\n",
    "\n",
    "\n",
    "if __name__ == '__main__':\n",
    "    main()\n",
    "    "
   ]
  },
  {
   "cell_type": "markdown",
   "metadata": {},
   "source": [
    "### 基于传输层协议的套接字编程\n",
    "\n",
    "Python开发中使用的套接字可以分为三类：流套接字（TCP套接字）、数据报套接字和原始套接字。"
   ]
  },
  {
   "cell_type": "markdown",
   "metadata": {},
   "source": [
    "#### TCP套接字\n",
    "\n",
    "所谓TCP套接字就是使用TCP协议提供的传输服务来实现网络通信的编程接口。在Python中可以通过创建socket对象并指定type属性为SOCK_STREAM来使用TCP套接字。\n",
    "\n",
    "\n",
    "下面的代码实现了一个提供时间日期的服务器。"
   ]
  },
  {
   "cell_type": "code",
   "execution_count": null,
   "metadata": {},
   "outputs": [],
   "source": [
    "from socket import socket, SOCK_STREAM, AF_INET\n",
    "from datetime import datetime\n",
    "\n",
    "\n",
    "def main():\n",
    "    # 1.创建套接字对象并指定使用哪种传输服务\n",
    "    # family=AF_INET - IPv4地址\n",
    "    # family=AF_INET6 - IPv6地址\n",
    "    # type=SOCK_STREAM - TCP套接字\n",
    "    # type=SOCK_DGRAM - UDP套接字\n",
    "    # type=SOCK_RAW - 原始套接字\n",
    "    server = socket(family=AF_INET, type=SOCK_STREAM)\n",
    "    # 2.绑定IP地址和端口(端口用于区分不同的服务)\n",
    "    # 同一时间在同一个端口上只能绑定一个服务否则报错\n",
    "    server.bind(('192.168.1.2', 6789))\n",
    "    # 3.开启监听 - 监听客户端连接到服务器\n",
    "    # 参数512可以理解为连接队列的大小\n",
    "    server.listen(512)\n",
    "    print('服务器启动开始监听...')\n",
    "    while True:\n",
    "        # 4.通过循环接收客户端的连接并作出相应的处理(提供服务)\n",
    "        # accept方法是一个阻塞方法如果没有客户端连接到服务器代码不会向下执行\n",
    "        # accept方法返回一个元组其中的第一个元素是客户端对象\n",
    "        # 第二个元素是连接到服务器的客户端的地址(由IP和端口两部分构成)\n",
    "        client, addr = server.accept()\n",
    "        print(str(addr) + '连接到了服务器.')\n",
    "        # 5.发送数据\n",
    "        client.send(str(datetime.now()).encode('utf-8'))\n",
    "        # 6.断开连接\n",
    "        client.close()\n",
    "\n",
    "\n",
    "if __name__ == '__main__':\n",
    "    main()\n",
    "    \n"
   ]
  },
  {
   "cell_type": "markdown",
   "metadata": {},
   "source": [
    "运行服务器程序后我们可以通过Windows系统的telnet来访问该服务器，结果如下图所示。\n",
    "\n",
    "```Shell\n",
    "telnet 192.168.1.2 6789\n",
    "```"
   ]
  },
  {
   "cell_type": "markdown",
   "metadata": {},
   "source": [
    "当然我们可直接通过Python实现TCP客户端功能"
   ]
  },
  {
   "cell_type": "code",
   "execution_count": null,
   "metadata": {},
   "outputs": [],
   "source": [
    "from socket import socket\n",
    "\n",
    "\n",
    "def main():\n",
    "    # 1.创建套接字对象默认使用IPv4和TCP协议\n",
    "    client = socket()\n",
    "    # 2.连接到服务器(需要指定IP地址和端口)\n",
    "    client.connect(('192.168.1.2', 6789))\n",
    "    # 3.从服务器接收数据\n",
    "    print(client.recv(1024).decode('utf-8'))\n",
    "    client.close()\n",
    "\n",
    "\n",
    "if __name__ == '__main__':\n",
    "    main()"
   ]
  },
  {
   "cell_type": "markdown",
   "metadata": {},
   "source": [
    "上面的服务器并没有使用多线程或者异步I/O的处理方式。下面我们来设计一个使用多线程技术处理多个用户请求的服务器，该服务器会向连接到服务器的客户端发送一张图片。\n",
    "\n",
    "服务器端代码："
   ]
  },
  {
   "cell_type": "code",
   "execution_count": null,
   "metadata": {},
   "outputs": [],
   "source": [
    "from socket import socket, SOCK_STREAM, AF_INET\n",
    "from base64 import b64encode\n",
    "from json import dumps\n",
    "from threading import Thread\n",
    "\n",
    "\n",
    "def main():\n",
    "    \n",
    "    # 自定义线程类\n",
    "    class FileTransferHandler(Thread):\n",
    "\n",
    "        def __init__(self, cclient):\n",
    "            super().__init__()\n",
    "            self.cclient = cclient\n",
    "\n",
    "        def run(self):\n",
    "            my_dict = {}\n",
    "            my_dict['filename'] = 'guido.jpg'\n",
    "            # JSON是纯文本不能携带二进制数据\n",
    "            # 所以图片的二进制数据要处理成base64编码\n",
    "            my_dict['filedata'] = data\n",
    "            # 通过dumps函数将字典处理成JSON字符串\n",
    "            json_str = dumps(my_dict)\n",
    "            # 发送JSON字符串\n",
    "            self.cclient.send(json_str.encode('utf-8'))\n",
    "            self.cclient.close()\n",
    "\n",
    "    # 1.创建套接字对象并指定使用哪种传输服务\n",
    "    server = socket()\n",
    "    # 2.绑定IP地址和端口(区分不同的服务)\n",
    "    server.bind(('192.168.1.2', 5566))\n",
    "    # 3.开启监听 - 监听客户端连接到服务器\n",
    "    server.listen(512)\n",
    "    print('服务器启动开始监听...')\n",
    "    with open('guido.jpg', 'rb') as f:\n",
    "        # 将二进制数据处理成base64再解码成字符串\n",
    "        data = b64encode(f.read()).decode('utf-8')\n",
    "    while True:\n",
    "        client, addr = server.accept()\n",
    "        # 启动一个线程来处理客户端的请求\n",
    "        FileTransferHandler(client).start()\n",
    "\n",
    "\n",
    "if __name__ == '__main__':\n",
    "    main()"
   ]
  },
  {
   "cell_type": "markdown",
   "metadata": {},
   "source": [
    "客户端代码："
   ]
  },
  {
   "cell_type": "code",
   "execution_count": null,
   "metadata": {},
   "outputs": [],
   "source": [
    "from socket import socket\n",
    "from json import loads\n",
    "from base64 import b64decode\n",
    "\n",
    "\n",
    "def main():\n",
    "    client = socket()\n",
    "    client.connect(('192.168.1.2', 5566))\n",
    "    # 定义一个保存二进制数据的对象\n",
    "    in_data = bytes()\n",
    "    # 由于不知道服务器发送的数据有多大每次接收1024字节\n",
    "    data = client.recv(1024)\n",
    "    while data:\n",
    "        # 将收到的数据拼接起来\n",
    "        in_data += data\n",
    "        data = client.recv(1024)\n",
    "    # 将收到的二进制数据解码成JSON字符串并转换成字典\n",
    "    # loads函数的作用就是将JSON字符串转成字典对象\n",
    "    my_dict = loads(in_data.decode('utf-8'))\n",
    "    filename = my_dict['filename']\n",
    "    filedata = my_dict['filedata'].encode('utf-8')\n",
    "    with open('/Users/Hao/' + filename, 'wb') as f:\n",
    "        # 将base64格式的数据解码成二进制数据并写入文件\n",
    "        f.write(b64decode(filedata))\n",
    "    print('图片已保存.')\n",
    "\n",
    "\n",
    "if __name__ == '__main__':\n",
    "    main()"
   ]
  },
  {
   "cell_type": "markdown",
   "metadata": {},
   "source": [
    "在这个案例中，我们使用了JSON作为数据传输的格式，但JSON不能携带二进制数据，因此对图片的二进制数据进行了Base64编码的处理。Base64是一种用64个字符表示所有二进制数据的编码方式，"
   ]
  },
  {
   "cell_type": "markdown",
   "metadata": {},
   "source": [
    "> **说明：** 上面的代码主要为了讲解网络编程的相关内容因此并没有对异常状况进行处理，请读者自行添加异常处理代码来增强程序的健壮性。"
   ]
  },
  {
   "cell_type": "markdown",
   "metadata": {},
   "source": [
    "#### UDP套接字\n",
    "\n",
    "传输层除了有可靠的传输协议TCP之外，还有一种非常轻便的传输协议叫做用户数据报协议，简称UDP。\n",
    "\n",
    "UDP不对传输的可靠性和可达性做出任何承诺。大家在观看网络视频时，有时会出现卡顿，有时会出现花屏，这无非就是部分数据传丢或传错造成的。"
   ]
  },
  {
   "cell_type": "markdown",
   "metadata": {},
   "source": [
    "### 网络应用开发\n",
    "\n",
    "#### 发送电子邮件\n",
    "\n",
    "发送邮件要使用SMTP（简单邮件传输协议）。 SMTP也是一个建立在TCP（传输控制协议）提供的可靠数据传输服务的基础上的应用级协议。 Python中的smtplib模块将这些操作简化成了几个简单的函数。"
   ]
  },
  {
   "cell_type": "code",
   "execution_count": null,
   "metadata": {},
   "outputs": [],
   "source": [
    "from smtplib import SMTP\n",
    "from email.header import Header\n",
    "from email.mime.text import MIMEText\n",
    "\n",
    "\n",
    "def main():\n",
    "    # 请自行修改下面的邮件发送者和接收者\n",
    "    sender = 'abcdefg@126.com'\n",
    "    receivers = ['uvwxyz@qq.com', 'uvwxyz@126.com']\n",
    "    message = MIMEText('用Python发送邮件的示例代码.', 'plain', 'utf-8')\n",
    "    message['From'] = Header('王大锤', 'utf-8')\n",
    "    message['To'] = Header('骆昊', 'utf-8')\n",
    "    message['Subject'] = Header('示例代码实验邮件', 'utf-8')\n",
    "    smtper = SMTP('smtp.126.com')\n",
    "    # 请自行修改下面的登录口令\n",
    "    smtper.login(sender, 'secretpass')\n",
    "    smtper.sendmail(sender, receivers, message.as_string())\n",
    "    print('邮件发送完成!')\n",
    "\n",
    "\n",
    "if __name__ == '__main__':\n",
    "    main()"
   ]
  },
  {
   "cell_type": "markdown",
   "metadata": {},
   "source": [
    "如果要发送带有附件的邮件，那么可以按照下面的方式进行操作。"
   ]
  },
  {
   "cell_type": "code",
   "execution_count": null,
   "metadata": {},
   "outputs": [],
   "source": [
    "from smtplib import SMTP\n",
    "from email.header import Header\n",
    "from email.mime.text import MIMEText\n",
    "from email.mime.image import MIMEImage\n",
    "from email.mime.multipart import MIMEMultipart\n",
    "\n",
    "import urllib\n",
    "\n",
    "\n",
    "def main():\n",
    "    # 创建一个带附件的邮件消息对象\n",
    "    message = MIMEMultipart()\n",
    "    \n",
    "    # 创建文本内容\n",
    "    text_content = MIMEText('附件中有本月数据请查收', 'plain', 'utf-8')\n",
    "    message['Subject'] = Header('本月数据', 'utf-8')\n",
    "    # 将文本内容添加到邮件消息对象中\n",
    "    message.attach(text_content)\n",
    "\n",
    "    # 读取文件并将文件作为附件添加到邮件消息对象中\n",
    "    with open('/Users/Hao/Desktop/hello.txt', 'rb') as f:\n",
    "        txt = MIMEText(f.read(), 'base64', 'utf-8')\n",
    "        txt['Content-Type'] = 'text/plain'\n",
    "        txt['Content-Disposition'] = 'attachment; filename=hello.txt'\n",
    "        message.attach(txt)\n",
    "    # 读取文件并将文件作为附件添加到邮件消息对象中\n",
    "    with open('/Users/Hao/Desktop/汇总数据.xlsx', 'rb') as f:\n",
    "        xls = MIMEText(f.read(), 'base64', 'utf-8')\n",
    "        xls['Content-Type'] = 'application/vnd.ms-excel'\n",
    "        xls['Content-Disposition'] = 'attachment; filename=month-data.xlsx'\n",
    "        message.attach(xls)\n",
    "    \n",
    "    # 创建SMTP对象\n",
    "    smtper = SMTP('smtp.126.com')\n",
    "    # 开启安全连接\n",
    "    # smtper.starttls()\n",
    "    sender = 'abcdefg@126.com'\n",
    "    receivers = ['uvwxyz@qq.com']\n",
    "    # 登录到SMTP服务器\n",
    "    # 请注意此处不是使用密码而是邮件客户端授权码进行登录\n",
    "    # 对此有疑问的读者可以联系自己使用的邮件服务器客服\n",
    "    smtper.login(sender, 'secretpass')\n",
    "    # 发送邮件\n",
    "    smtper.sendmail(sender, receivers, message.as_string())\n",
    "    # 与邮件服务器断开连接\n",
    "    smtper.quit()\n",
    "    print('发送完成!')\n",
    "\n",
    "\n",
    "if __name__ == '__main__':\n",
    "    main()"
   ]
  },
  {
   "cell_type": "markdown",
   "metadata": {},
   "source": [
    "#### 发送短信"
   ]
  },
  {
   "cell_type": "code",
   "execution_count": null,
   "metadata": {},
   "outputs": [],
   "source": [
    "\n",
    "import urllib.parse\n",
    "import http.client\n",
    "import json\n",
    "\n",
    "\n",
    "def main():\n",
    "    host  = \"106.ihuyi.com\"\n",
    "    sms_send_uri = \"/webservice/sms.php?method=Submit\"\n",
    "    # 下面的参数需要填入自己注册的账号和对应的密码\n",
    "    params = urllib.parse.urlencode({'account': '你自己的账号', 'password' : '你自己的密码', 'content': '您的验证码是：147258。请不要把验证码泄露给其他人。', 'mobile': '接收者的手机号', 'format':'json' })\n",
    "    print(params)\n",
    "    headers = {'Content-type': 'application/x-www-form-urlencoded', 'Accept': 'text/plain'}\n",
    "    conn = http.client.HTTPConnection(host, port=80, timeout=30)\n",
    "    conn.request('POST', sms_send_uri, params, headers)\n",
    "    response = conn.getresponse()\n",
    "    response_str = response.read()\n",
    "    jsonstr = response_str.decode('utf-8')\n",
    "    print(json.loads(jsonstr))\n",
    "    conn.close()\n",
    "\n",
    "\n",
    "if __name__ == '__main__':\n",
    "    main()\n"
   ]
  },
  {
   "cell_type": "markdown",
   "metadata": {},
   "source": [
    "## 15 图像和办公文档处理\n",
    "\n",
    "Python的标准库中虽然没有直接支持这些操作的模块，但我们可以通过Python生态圈中的第三方模块来完成这些操作。"
   ]
  },
  {
   "cell_type": "markdown",
   "metadata": {},
   "source": [
    "### 操作图像\n",
    "\n",
    "#### 计算机图像相关知识\n",
    "\n",
    "1. 颜色。如果你有使用颜料画画的经历，那么一定知道混合红、黄、蓝三种颜料可以得到其他的颜色，事实上这三种颜色就是被我们称为美术三原色的东西，它们是不能再分解的基本颜色。在计算机中，我们可以将红、绿、蓝三种色光以不同的比例叠加来组合成其他的颜色，因此这三种颜色就是色光三原色，所以我们通常会将一个颜色表示为一个RGB值或RGBA值（其中的A表示Alpha通道，它决定了透过这个图像的像素，也就是透明度）。\n",
    "\n",
    "   | 名称  |        RGBA值        |  名称  |       RGBA值       |\n",
    "   | :---: | :------------------: | :----: | :----------------: |\n",
    "   | White | (255, 255, 255, 255) |  Red   |  (255, 0, 0, 255)  |\n",
    "   | Green |   (0, 255, 0, 255)   |  Blue  |  (0, 0, 255, 255)  |\n",
    "   | Gray  | (128, 128, 128, 255) | Yellow | (255, 255, 0, 255) |\n",
    "   | Black |    (0, 0, 0, 255)    | Purple | (128, 0, 128, 255) |\n",
    "\n",
    "2. 像素。对于一个由数字序列表示的图像来说，最小的单位就是图像上单一颜色的小方格，这些小方块都有一个明确的位置和被分配的色彩数值，而这些一小方格的颜色和位置决定了该图像最终呈现出来的样子，它们是不可分割的单位，我们通常称之为像素（pixel）。每一个图像都包含了一定量的像素，这些像素决定图像在屏幕上所呈现的大小。"
   ]
  },
  {
   "cell_type": "markdown",
   "metadata": {},
   "source": [
    "#### 用Pillow操作图像\n",
    "\n",
    "Pillow是由从著名的Python图像处理库PIL发展出来的一个分支，可以实现图像压缩和图像处理等各种操作。\n",
    "\n",
    "Pillow中最为重要的是Image类"
   ]
  },
  {
   "cell_type": "markdown",
   "metadata": {},
   "source": [
    "#### 用Pillow操作图像\n",
    "\n",
    "Pillow是由从著名的Python图像处理库PIL发展出来的一个分支，可以实现图像压缩和图像处理等各种操作。\n",
    "\n",
    "Pillow中最为重要的是Image类"
   ]
  },
  {
   "cell_type": "code",
   "execution_count": null,
   "metadata": {},
   "outputs": [],
   "source": [
    "from PIL import Image\n",
    "\n",
    "image = Image.open('./res/guido.jpg')\n",
    "image.format, image.size, image.mode\n",
    "('JPEG', (500, 750), 'RGB')\n",
    " image.show()"
   ]
  },
  {
   "cell_type": "markdown",
   "metadata": {},
   "source": [
    "1. 剪裁图像"
   ]
  },
  {
   "cell_type": "code",
   "execution_count": null,
   "metadata": {},
   "outputs": [],
   "source": [
    "image = Image.open('./res/guido.jpg')\n",
    "rect = 80, 20, 310, 360\n",
    "image.crop(rect).show()"
   ]
  },
  {
   "cell_type": "markdown",
   "metadata": {},
   "source": [
    "2. 生成缩略图"
   ]
  },
  {
   "cell_type": "code",
   "execution_count": null,
   "metadata": {},
   "outputs": [],
   "source": [
    "image = Image.open('./res/guido.jpg')\n",
    "size = 128, 128\n",
    "image.thumbnail(size)\n",
    "image.show()"
   ]
  },
  {
   "cell_type": "markdown",
   "metadata": {},
   "source": [
    "3. 缩放和黏贴图像"
   ]
  },
  {
   "cell_type": "code",
   "execution_count": null,
   "metadata": {},
   "outputs": [],
   "source": [
    "image1 = Image.open('./res/luohao.png')\n",
    "image2 = Image.open('./res/guido.jpg')\n",
    "rect = 80, 20, 310, 360\n",
    "guido_head = image2.crop(rect)\n",
    "width, height = guido_head.size\n",
    "image1.paste(guido_head.resize((int(width / 1.5), int(height / 1.5))), (172, 40))"
   ]
  },
  {
   "cell_type": "markdown",
   "metadata": {},
   "source": [
    "4. 旋转和翻转"
   ]
  },
  {
   "cell_type": "code",
   "execution_count": null,
   "metadata": {},
   "outputs": [],
   "source": [
    "image = Image.open('./res/guido.png')\n",
    "image.rotate(180).show()\n",
    "image.transpose(Image.FLIP_LEFT_RIGHT).show()"
   ]
  },
  {
   "cell_type": "markdown",
   "metadata": {},
   "source": [
    "5. 操作像素"
   ]
  },
  {
   "cell_type": "code",
   "execution_count": null,
   "metadata": {},
   "outputs": [],
   "source": [
    "image = Image.open('./res/guido.jpg')\n",
    "for x in range(80, 310):\n",
    "    for y in range(20, 360):\n",
    "        image.putpixel((x, y), (128, 128, 128))\n",
    "\n",
    "image.show()"
   ]
  },
  {
   "cell_type": "markdown",
   "metadata": {},
   "source": [
    "6. 滤镜效果"
   ]
  },
  {
   "cell_type": "code",
   "execution_count": null,
   "metadata": {},
   "outputs": [],
   "source": [
    "from PIL import Image, ImageFilter\n",
    "\n",
    "image = Image.open('./res/guido.jpg')\n",
    "image.filter(ImageFilter.CONTOUR).show()"
   ]
  },
  {
   "cell_type": "markdown",
   "metadata": {},
   "source": [
    "### 处理Excel电子表格\n",
    "\n",
    "Python的openpyxl模块可处理之。"
   ]
  },
  {
   "cell_type": "code",
   "execution_count": null,
   "metadata": {},
   "outputs": [],
   "source": [
    "import datetime\n",
    "\n",
    "from openpyxl import Workbook\n",
    "\n",
    "wb = Workbook()\n",
    "ws = wb.active\n",
    "\n",
    "ws['A1'] = 42\n",
    "ws.append([1, 2, 3])\n",
    "ws['A2'] = datetime.datetime.now()\n",
    "\n",
    "wb.save(\"sample.xlsx\")"
   ]
  },
  {
   "cell_type": "markdown",
   "metadata": {},
   "source": [
    "### 处理Word文档\n",
    "\n",
    "利用python的docx模块，Python可以创建和修改Word文档。"
   ]
  },
  {
   "cell_type": "code",
   "execution_count": null,
   "metadata": {},
   "outputs": [],
   "source": [
    "\n",
    "from docx import Document\n",
    "from docx.shared import Inches\n",
    "\n",
    "document = Document()\n",
    "\n",
    "document.add_heading('Document Title', 0)\n",
    "\n",
    "p = document.add_paragraph('A plain paragraph having some ')\n",
    "p.add_run('bold').bold = True\n",
    "p.add_run(' and some ')\n",
    "p.add_run('italic.').italic = True\n",
    "\n",
    "document.add_heading('Heading, level 1', level=1)\n",
    "document.add_paragraph('Intense quote', style='Intense Quote')\n",
    "\n",
    "document.add_paragraph(\n",
    "    'first item in unordered list', style='List Bullet'\n",
    ")\n",
    "document.add_paragraph(\n",
    "    'first item in ordered list', style='List Number'\n",
    ")\n",
    "\n",
    "document.add_picture('monty-truth.png', width=Inches(1.25))\n",
    "\n",
    "records = (\n",
    "    (3, '101', 'Spam'),\n",
    "    (7, '422', 'Eggs'),\n",
    "    (4, '631', 'Spam, spam, eggs, and spam')\n",
    ")\n",
    "\n",
    "table = document.add_table(rows=1, cols=3)\n",
    "hdr_cells = table.rows[0].cells\n",
    "hdr_cells[0].text = 'Qty'\n",
    "hdr_cells[1].text = 'Id'\n",
    "hdr_cells[2].text = 'Desc'\n",
    "for qty, id, desc in records:\n",
    "    row_cells = table.add_row().cells\n",
    "    row_cells[0].text = str(qty)\n",
    "    row_cells[1].text = id\n",
    "    row_cells[2].text = desc\n",
    "\n",
    "document.add_page_break()\n",
    "\n",
    "document.save('demo.docx')\n"
   ]
  },
  {
   "cell_type": "markdown",
   "metadata": {},
   "source": [
    "## 16-20 Python语言进阶\n",
    "\n",
    "### 重要知识点"
   ]
  },
  {
   "cell_type": "code",
   "execution_count": 1,
   "metadata": {},
   "outputs": [
    {
     "name": "stdout",
     "output_type": "stream",
     "text": [
      "{'AAPL': 191.88, 'GOOG': 1186.96, 'IBM': 149.24, 'ACN': 166.89, 'FB': 208.09}\n"
     ]
    }
   ],
   "source": [
    "\n",
    "\n",
    "\"\"\"\n",
    "生成式（推导式）可以用来生成列表、集合和字典。\n",
    "\"\"\"\n",
    " \n",
    "prices = {\n",
    "      'AAPL': 191.88,\n",
    "      'GOOG': 1186.96,\n",
    "      'IBM': 149.24,\n",
    "      'ORCL': 48.44,\n",
    "      'ACN': 166.89,\n",
    "      'FB': 208.09,\n",
    "      'SYMC': 21.29\n",
    "}\n",
    "  # 用股票价格大于100元的股票构造一个新的字典\n",
    "prices2 = {key: value for key, value in prices.items() if value > 100}\n",
    "print(prices2)\n"
   ]
  },
  {
   "cell_type": "code",
   "execution_count": 2,
   "metadata": {},
   "outputs": [
    {
     "name": "stdout",
     "output_type": "stream",
     "text": [
      "请输入关羽的语文成绩: 34\n",
      "请输入关羽的数学成绩: 56\n",
      "请输入关羽的英语成绩: 78\n",
      "请输入张飞的语文成绩: 90\n",
      "请输入张飞的数学成绩: 89\n",
      "请输入张飞的英语成绩: 67\n",
      "请输入赵云的语文成绩: 56\n",
      "请输入赵云的数学成绩: 45\n",
      "请输入赵云的英语成绩: 34\n",
      "请输入马超的语文成绩: 34\n",
      "请输入马超的数学成绩: 23\n",
      "请输入马超的英语成绩: 45\n",
      "请输入黄忠的语文成绩: 56\n",
      "请输入黄忠的数学成绩: 67\n",
      "请输入黄忠的英语成绩: 78\n",
      "[[34.0, 56.0, 78.0], [90.0, 89.0, 67.0], [56.0, 45.0, 34.0], [34.0, 23.0, 45.0], [56.0, 67.0, 78.0]]\n"
     ]
    }
   ],
   "source": [
    "\"\"\"\n",
    "嵌套的列表的坑\n",
    "\"\"\"\n",
    "names = ['关羽', '张飞', '赵云', '马超', '黄忠']\n",
    "courses = ['语文', '数学', '英语']\n",
    "# 录入五个学生三门课程的成绩\n",
    "# 错误 - 参考http://pythontutor.com/visualize.html#mode=edit\n",
    "# scores = [[None] * len(courses)] * len(names)\n",
    "scores = [[None] * len(courses) for _ in range(len(names))]\n",
    "for row, name in enumerate(names):\n",
    "    for col, course in enumerate(courses):\n",
    "        scores[row][col] = float(input(f'请输入{name}的{course}成绩: '))\n",
    "print(scores)"
   ]
  },
  {
   "cell_type": "code",
   "execution_count": 3,
   "metadata": {},
   "outputs": [
    {
     "name": "stdout",
     "output_type": "stream",
     "text": [
      "[99, 92, 88]\n",
      "[12, 25, 34]\n",
      "[{'name': 'AAPL', 'shares': 50, 'price': 543.22}, {'name': 'ACME', 'shares': 75, 'price': 115.65}]\n",
      "[{'name': 'FB', 'shares': 200, 'price': 21.09}, {'name': 'IBM', 'shares': 100, 'price': 91.1}]\n"
     ]
    }
   ],
   "source": [
    "\"\"\"\n",
    "`heapq`模块（堆排序）\n",
    "\"\"\" \n",
    "\n",
    "\"\"\"\n",
    "从列表中找出最大的或最小的N个元素\n",
    "堆结构(大根堆/小根堆)\n",
    "\"\"\"\n",
    "import heapq\n",
    "  \n",
    "list1 = [34, 25, 12, 99, 87, 63, 58, 78, 88, 92]\n",
    "list2 = [\n",
    "      {'name': 'IBM', 'shares': 100, 'price': 91.1},\n",
    "      {'name': 'AAPL', 'shares': 50, 'price': 543.22},\n",
    "      {'name': 'FB', 'shares': 200, 'price': 21.09},\n",
    "      {'name': 'HPQ', 'shares': 35, 'price': 31.75},\n",
    "      {'name': 'YHOO', 'shares': 45, 'price': 16.35},\n",
    "      {'name': 'ACME', 'shares': 75, 'price': 115.65}\n",
    "]\n",
    "print(heapq.nlargest(3, list1))\n",
    "print(heapq.nsmallest(3, list1))\n",
    "print(heapq.nlargest(2, list2, key=lambda x: x['price']))\n",
    "print(heapq.nlargest(2, list2, key=lambda x: x['shares']))\n"
   ]
  },
  {
   "cell_type": "code",
   "execution_count": null,
   "metadata": {},
   "outputs": [],
   "source": [
    "\n",
    "\"\"\"\n",
    "迭代工具模块 itertools\n",
    "\"\"\"\n",
    "import itertools\n",
    "  \n",
    "# 产生ABCD的全排列\n",
    "itertools.permutations('ABCD')\n",
    "# 产生ABCDE的五选三组合\n",
    "itertools.combinations('ABCDE', 3)\n",
    "# 产生ABCD和123的笛卡尔积\n",
    "itertools.product('ABCD', '123')\n",
    "# 产生ABC的无限循环序列\n",
    "itertools.cycle(('A', 'B', 'C'))"
   ]
  },
  {
   "cell_type": "markdown",
   "metadata": {},
   "source": [
    "- `collections`模块\n",
    "\n",
    "  常用的工具类：\n",
    "\n",
    "  - `namedtuple`：命令元组，它是一个类工厂，接受类型的名称和属性列表来创建一个类。\n",
    "  - `deque`：双端队列，是列表的替代实现。Python中的列表底层是基于数组来实现的，而deque底层是双向链表，因此当你需要在头尾添加和删除元素时，deque会表现出更好的性能，渐近时间复杂度为$O(1)$。\n",
    "  - `Counter`：`dict`的子类，键是元素，值是元素的计数，它的`most_common()`方法可以帮助我们获取出现频率最高的元素。`Counter`和`dict`的继承关系我认为是值得商榷的，按照CARP原则，`Counter`跟`dict`的关系应该设计为关联关系更为合理。\n",
    "  - `OrderedDict`：`dict`的子类，它记录了键值对插入的顺序，看起来既有字典的行为，也有链表的行为。\n",
    "  - `defaultdict`：类似于字典类型，但是可以通过默认的工厂函数来获得键对应的默认值，相比字典中的`setdefault()`方法，这种做法更加高效。"
   ]
  },
  {
   "cell_type": "code",
   "execution_count": 8,
   "metadata": {},
   "outputs": [
    {
     "name": "stdout",
     "output_type": "stream",
     "text": [
      "[('eyes', 8), ('the', 5), ('look', 4)]\n"
     ]
    }
   ],
   "source": [
    "\"\"\"\n",
    "找出序列中出现次数最多的元素\n",
    "\"\"\"\n",
    "from collections import Counter\n",
    "  \n",
    "words = [\n",
    "      'look', 'into', 'my', 'eyes', 'look', 'into', 'my', 'eyes',\n",
    "      'the', 'eyes', 'the', 'eyes', 'the', 'eyes', 'not', 'around',\n",
    "      'the', 'eyes', \"don't\", 'look', 'around', 'the', 'eyes',\n",
    "      'look', 'into', 'my', 'eyes', \"you're\", 'under'\n",
    "]\n",
    "counter = Counter(words)\n",
    "print(counter.most_common(3))"
   ]
  },
  {
   "cell_type": "markdown",
   "metadata": {},
   "source": [
    "### 数据结构和算法\n",
    "\n",
    "- 算法：解决问题的方法和步骤\n",
    "\n",
    "- 评价算法的好坏：渐近时间复杂度和渐近空间复杂度。\n",
    "\n",
    "- 渐近时间复杂度的大O标记：\n",
    "  - <img src=\"http://latex.codecogs.com/gif.latex?O(c)\" /> - 常量时间复杂度 - 布隆过滤器 / 哈希存储\n",
    "  - <img src=\"http://latex.codecogs.com/gif.latex?O(log_2n)\" /> - 对数时间复杂度 - 折半查找（二分查找）\n",
    "  - <img src=\"http://latex.codecogs.com/gif.latex?O(n)\" /> - 线性时间复杂度 - 顺序查找 / 计数排序\n",
    "  - <img src=\"http://latex.codecogs.com/gif.latex?O(n*log_2n)\" /> - 对数线性时间复杂度 - 高级排序算法（归并排序、快速排序）\n",
    "  - <img src=\"http://latex.codecogs.com/gif.latex?O(n^2)\" /> - 平方时间复杂度 - 简单排序算法（选择排序、插入排序、冒泡排序）\n",
    "  - <img src=\"http://latex.codecogs.com/gif.latex?O(n^3)\" /> - 立方时间复杂度 - Floyd算法 / 矩阵乘法运算\n",
    "  - <img src=\"http://latex.codecogs.com/gif.latex?O(2^n)\" /> - 几何级数时间复杂度 - 汉诺塔\n",
    "  - <img src=\"http://latex.codecogs.com/gif.latex?O(n!)\" /> - 阶乘时间复杂度 - 旅行经销商问题 - NPC"
   ]
  },
  {
   "cell_type": "markdown",
   "metadata": {},
   "source": [
    "- 排序算法（选择、冒泡和归并）和查找算法（顺序和折半）"
   ]
  },
  {
   "cell_type": "code",
   "execution_count": 9,
   "metadata": {},
   "outputs": [],
   "source": [
    "  def select_sort(items, comp=lambda x, y: x < y):\n",
    "      \"\"\"简单选择排序\"\"\"\n",
    "      items = items[:]\n",
    "      for i in range(len(items) - 1):\n",
    "          min_index = i\n",
    "          for j in range(i + 1, len(items)):\n",
    "              if comp(items[j], items[min_index]):\n",
    "                  min_index = j\n",
    "          items[i], items[min_index] = items[min_index], items[i]\n",
    "      return items"
   ]
  },
  {
   "cell_type": "code",
   "execution_count": 10,
   "metadata": {},
   "outputs": [],
   "source": [
    "  def bubble_sort(items, comp=lambda x, y: x > y):\n",
    "      \"\"\"冒泡排序\"\"\"\n",
    "      items = items[:]\n",
    "      for i in range(len(items) - 1):\n",
    "          swapped = False\n",
    "          for j in range(len(items) - 1 - i):\n",
    "              if comp(items[j], items[j + 1]):\n",
    "                  items[j], items[j + 1] = items[j + 1], items[j]\n",
    "                  swapped = True\n",
    "          if not swapped:\n",
    "              break\n",
    "      return items"
   ]
  },
  {
   "cell_type": "code",
   "execution_count": 12,
   "metadata": {},
   "outputs": [],
   "source": [
    "  def bubble_sort(items, comp=lambda x, y: x > y):\n",
    "      \"\"\"搅拌排序(冒泡排序升级版)\"\"\"\n",
    "      items = items[:]\n",
    "      for i in range(len(items) - 1):\n",
    "          swapped = False\n",
    "          for j in range(len(items) - 1 - i):\n",
    "              if comp(items[j], items[j + 1]):\n",
    "                  items[j], items[j + 1] = items[j + 1], items[j]\n",
    "                  swapped = True\n",
    "          if swapped:\n",
    "              swapped = False\n",
    "              for j in range(len(items) - 2 - i, i, -1):\n",
    "                  if comp(items[j - 1], items[j]):\n",
    "                      items[j], items[j - 1] = items[j - 1], items[j]\n",
    "                      swapped = True\n",
    "          if not swapped:\n",
    "              break\n",
    "      return items"
   ]
  },
  {
   "cell_type": "code",
   "execution_count": 13,
   "metadata": {},
   "outputs": [],
   "source": [
    "  def merge(items1, items2, comp=lambda x, y: x < y):\n",
    "      \"\"\"合并(将两个有序的列表合并成一个有序的列表)\"\"\"\n",
    "      items = []\n",
    "      index1, index2 = 0, 0\n",
    "      while index1 < len(items1) and index2 < len(items2):\n",
    "          if comp(items1[index1], items2[index2]):\n",
    "              items.append(items1[index1])\n",
    "              index1 += 1\n",
    "          else:\n",
    "              items.append(items2[index2])\n",
    "              index2 += 1\n",
    "      items += items1[index1:]\n",
    "      items += items2[index2:]\n",
    "      return items\n",
    "  \n",
    "  \n",
    "  def merge_sort(items, comp=lambda x, y: x < y):\n",
    "      return _merge_sort(list(items), comp)\n",
    "  \n",
    "  \n",
    "  def _merge_sort(items, comp):\n",
    "      \"\"\"归并排序\"\"\"\n",
    "      if len(items) < 2:\n",
    "          return items\n",
    "      mid = len(items) // 2\n",
    "      left = _merge_sort(items[:mid], comp)\n",
    "      right = _merge_sort(items[mid:], comp)\n",
    "      return merge(left, right, comp)"
   ]
  },
  {
   "cell_type": "code",
   "execution_count": 14,
   "metadata": {},
   "outputs": [],
   "source": [
    "  def seq_search(items, key):\n",
    "      \"\"\"顺序查找\"\"\"\n",
    "      for index, item in enumerate(items):\n",
    "          if item == key:\n",
    "              return index\n",
    "      return -1"
   ]
  },
  {
   "cell_type": "code",
   "execution_count": null,
   "metadata": {},
   "outputs": [],
   "source": [
    "  def bin_search(items, key):\n",
    "      \"\"\"折半查找\"\"\"\n",
    "      start, end = 0, len(items) - 1\n",
    "      while start <= end:\n",
    "          mid = (start + end) // 2\n",
    "          if key > items[mid]:\n",
    "              start = mid + 1\n",
    "          elif key < items[mid]:\n",
    "              end = mid - 1\n",
    "          else:\n",
    "              return mid\n",
    "      return -1"
   ]
  },
  {
   "cell_type": "markdown",
   "metadata": {},
   "source": [
    "- 常用算法：\n",
    "\n",
    "  - 穷举法 - 又称为暴力破解法，对所有的可能性进行验证，直到找到正确答案。\n",
    "  - 贪婪法 - 在对问题求解时，总是做出在当前看来\n",
    "  - 最好的选择，不追求最优解，快速找到满意解。\n",
    "  - 分治法 - 把一个复杂的问题分成两个或更多的相同或相似的子问题，再把子问题分成更小的子问题，直到可以直接求解的程度，最后将子问题的解进行合并得到原问题的解。\n",
    "  - 回溯法 - 回溯法又称为试探法，按选优条件向前搜索，当搜索到某一步发现原先选择并不优或达不到目标时，就退回一步重新选择。\n",
    "  - 动态规划 - 基本思想也是将待求解问题分解成若干个子问题，先求解并保存这些子问题的解，避免产生大量的重复运算。"
   ]
  },
  {
   "cell_type": "code",
   "execution_count": 16,
   "metadata": {},
   "outputs": [
    {
     "name": "stdout",
     "output_type": "stream",
     "text": [
      "0 25 75\n",
      "4 18 78\n",
      "8 11 81\n",
      "12 4 84\n"
     ]
    }
   ],
   "source": [
    "  \n",
    "\n",
    "\n",
    "# 穷举法例子：百钱百鸡和五人分鱼。\n",
    "# 公鸡5元一只 母鸡3元一只 小鸡1元三只\n",
    "# 用100元买100只鸡 问公鸡/母鸡/小鸡各多少只\n",
    "for x in range(20):\n",
    "    for y in range(33):\n",
    "        z = 100 - x - y\n",
    "        if 5 * x + 3 * y + z // 3 == 100 and z % 3 == 0:\n",
    "            print(x, y, z)\n",
    "  "
   ]
  },
  {
   "cell_type": "code",
   "execution_count": 18,
   "metadata": {},
   "outputs": [
    {
     "name": "stdout",
     "output_type": "stream",
     "text": [
      "3121\n"
     ]
    }
   ],
   "source": [
    "  # A、B、C、D、E五人在某天夜里合伙捕鱼 最后疲惫不堪各自睡觉\n",
    "  # 第二天A第一个醒来 他将鱼分为5份 扔掉多余的1条 拿走自己的一份\n",
    "  # B第二个醒来 也将鱼分为5份 扔掉多余的1条 拿走自己的一份\n",
    "  # 然后C、D、E依次醒来也按同样的方式分鱼 问他们至少捕了多少条鱼\n",
    "fish = 6\n",
    "while True:\n",
    "    total = fish\n",
    "    enough = True\n",
    "    for _ in range(5):\n",
    "        if (total - 1) % 5 == 0:\n",
    "            total = (total - 1) // 5 * 4\n",
    "        else:\n",
    "            enough = False\n",
    "            break\n",
    "    if enough:\n",
    "        print(fish)\n",
    "        break\n",
    "    fish += 5"
   ]
  },
  {
   "cell_type": "markdown",
   "metadata": {},
   "source": [
    "  贪婪法例子：假设小偷有一个背包，最多能装20公斤赃物，他闯入一户人家，发现如下表所示的物品。很显然，他不能把所有物品都装进背包，所以必须确定拿走哪些物品，留下哪些物品。\n",
    "\n",
    "  |  名称  | 价格（美元） | 重量（kg） |\n",
    "  | :----: | :----------: | :--------: |\n",
    "  |  电脑  |     200      |     20     |\n",
    "  | 收音机 |      20      |     4      |\n",
    "  |   钟   |     175      |     10     |\n",
    "  |  花瓶  |      50      |     2      |\n",
    "  |   书   |      10      |     1      |\n",
    "  |  油画  |      90      |     9      |"
   ]
  },
  {
   "cell_type": "code",
   "execution_count": null,
   "metadata": {},
   "outputs": [],
   "source": [
    "  \"\"\"\n",
    "  贪婪法：在对问题求解时，总是做出在当前看来是最好的选择，不追求最优解，快速找到满意解。\n",
    "  输入：\n",
    "  20 6\n",
    "  电脑 200 20\n",
    "  收音机 20 4\n",
    "  钟 175 10\n",
    "  花瓶 50 2\n",
    "  书 10 1\n",
    "  油画 90 9\n",
    "  \"\"\"\n",
    "class Thing(object):\n",
    "    \"\"\"物品\"\"\"\n",
    "    def __init__(self, name, price, weight):\n",
    "        self.name = name\n",
    "        self.price = price\n",
    "        self.weight = weight\n",
    "  \n",
    "    @property\n",
    "    def value(self):\n",
    "        \"\"\"价格重量比\"\"\"\n",
    "        return self.price / self.weight\n",
    "  \n",
    "  \n",
    "    def input_thing():\n",
    "        \"\"\"输入物品信息\"\"\"\n",
    "        name_str, price_str, weight_str = input().split()\n",
    "        return name_str, int(price_str), int(weight_str)\n",
    "  \n",
    "  \n",
    "def main():\n",
    "    \"\"\"主函数\"\"\"\n",
    "    max_weight, num_of_things = map(int, input().split())\n",
    "    all_things = []\n",
    "    for _ in range(num_of_things):\n",
    "        all_things.append(Thing(*input_thing()))\n",
    "        all_things.sort(key=lambda x: x.value, reverse=True)\n",
    "        total_weight = 0\n",
    "        total_price = 0\n",
    "    for thing in all_things:\n",
    "        if total_weight + thing.weight <= max_weight:\n",
    "            print(f'小偷拿走了{thing.name}')\n",
    "            total_weight += thing.weight\n",
    "            total_price += thing.price\n",
    "    print(f'总价值: {total_price}美元')\n",
    "  \n",
    "  \n",
    "if __name__ == '__main__':\n",
    "    main()"
   ]
  },
  {
   "cell_type": "code",
   "execution_count": 20,
   "metadata": {},
   "outputs": [],
   "source": [
    "  \"\"\"\n",
    "  分治法快速排序 - 选择枢轴对元素进行划分，左边都比枢轴小右边都比枢轴大\n",
    "  \"\"\"\n",
    "  def quick_sort(items, comp=lambda x, y: x <= y):\n",
    "      items = list(items)[:]\n",
    "      _quick_sort(items, 0, len(items) - 1, comp)\n",
    "      return items\n",
    "  \n",
    "  \n",
    "  def _quick_sort(items, start, end, comp):\n",
    "      if start < end:\n",
    "          pos = _partition(items, start, end, comp)\n",
    "          _quick_sort(items, start, pos - 1, comp)\n",
    "          _quick_sort(items, pos + 1, end, comp)\n",
    "  \n",
    "  \n",
    "  def _partition(items, start, end, comp):\n",
    "      pivot = items[end]\n",
    "      i = start - 1\n",
    "      for j in range(start, end):\n",
    "          if comp(items[j], pivot):\n",
    "              i += 1\n",
    "              items[i], items[j] = items[j], items[i]\n",
    "      items[i + 1], items[end] = items[end], items[i + 1]\n",
    "      return i + 1"
   ]
  },
  {
   "cell_type": "markdown",
   "metadata": {},
   "source": [
    "  \"\"\"\n",
    "  递归回溯法：叫称为试探法，按选优条件向前搜索，当搜索到某一步，发现原先选择并不优或达不到目标时，就退回一步重新选择，比较经典的问题包括骑士巡逻、八皇后和迷宫寻路等。\n",
    "  \"\"\""
   ]
  },
  {
   "cell_type": "code",
   "execution_count": null,
   "metadata": {},
   "outputs": [],
   "source": [
    "  import sys\n",
    "  import time\n",
    "  \n",
    "  SIZE = 5\n",
    "  total = 0\n",
    "  \n",
    "  \n",
    "  def print_board(board):\n",
    "      for row in board:\n",
    "          for col in row:\n",
    "              print(str(col).center(4), end='')\n",
    "          print()\n",
    "  \n",
    "  \n",
    "  def patrol(board, row, col, step=1):\n",
    "      if row >= 0 and row < SIZE and \\\n",
    "          col >= 0 and col < SIZE and \\\n",
    "          board[row][col] == 0:\n",
    "          board[row][col] = step\n",
    "          if step == SIZE * SIZE:\n",
    "              global total\n",
    "              total += 1\n",
    "              print(f'第{total}种走法: ')\n",
    "              print_board(board)\n",
    "          patrol(board, row - 2, col - 1, step + 1)\n",
    "          patrol(board, row - 1, col - 2, step + 1)\n",
    "          patrol(board, row + 1, col - 2, step + 1)\n",
    "          patrol(board, row + 2, col - 1, step + 1)\n",
    "          patrol(board, row + 2, col + 1, step + 1)\n",
    "          patrol(board, row + 1, col + 2, step + 1)\n",
    "          patrol(board, row - 1, col + 2, step + 1)\n",
    "          patrol(board, row - 2, col + 1, step + 1)\n",
    "          board[row][col] = 0\n",
    "  \n",
    "  \n",
    "  def main():\n",
    "      board = [[0] * SIZE for _ in range(SIZE)]\n",
    "      patrol(board, SIZE - 1, SIZE - 1)\n",
    "  \n",
    "  \n",
    "  if __name__ == '__main__':\n",
    "      main()"
   ]
  },
  {
   "cell_type": "markdown",
   "metadata": {},
   "source": [
    "  \n",
    "  动态规划例子：子列表元素之和的最大值。\n",
    "\n",
    "  > 说明：子列表指的是列表中索引（下标）连续的元素构成的列表；列表中的元素是int类型，可能包含正整数、0、负整数；程序输入列表中的元素，输出子列表元素求和的最大值，例如：\n",
    "  >\n",
    "  > 输入：1 -2 3 5 -3 2\n",
    "  >\n",
    "  > 输出：8\n",
    "  >\n",
    "  > 输入：0 -2 3 5 -1 2\n",
    "  >\n",
    "  > 输出：9\n",
    "  >\n",
    "  > 输入：-9 -2 -3 -5 -3\n",
    "  >\n",
    "  > 输出：-2\n",
    " "
   ]
  },
  {
   "cell_type": "code",
   "execution_count": null,
   "metadata": {},
   "outputs": [],
   "source": [
    "def main():\n",
    "    items = list(map(int, input().split()))\n",
    "    overall = partial = items[0]\n",
    "    for i in range(1, len(items)):\n",
    "        partial = max(items[i], partial + items[i])\n",
    "        overall = max(partial, overall)\n",
    "    print(overall)\n",
    "    \n",
    "  \n",
    "if __name__ == '__main__':\n",
    "    main()"
   ]
  },
  {
   "cell_type": "markdown",
   "metadata": {},
   "source": [
    "> **说明**：这个题目最容易想到的解法是使用二重循环，但是代码的时间性能将会变得非常的糟糕。使用动态规划的思想，仅仅是多用了两个变量，就将原来$O(N^2)$复杂度的问题变成了$O(N)$。"
   ]
  },
  {
   "cell_type": "markdown",
   "metadata": {},
   "source": [
    "  \n",
    "\n",
    "### 函数的使用方式\n",
    "\n",
    "- 将函数视为“一等公民”\n",
    "\n",
    "  - 函数可以赋值给变量\n",
    "  - 函数可以作为函数的参数\n",
    "  - 函数可以作为函数的返回值"
   ]
  },
  {
   "cell_type": "markdown",
   "metadata": {},
   "source": [
    "- 高阶函数的用法（`filter`、`map`以及它们的替代品）"
   ]
  },
  {
   "cell_type": "code",
   "execution_count": null,
   "metadata": {},
   "outputs": [],
   "source": [
    "  items1 = list(map(lambda x: x ** 2, filter(lambda x: x % 2, range(1, 10))))\n",
    "  items2 = [x ** 2 for x in range(1, 10) if x % 2]"
   ]
  },
  {
   "cell_type": "markdown",
   "metadata": {},
   "source": [
    "- 位置参数、可变参数、关键字参数、命名关键字参数\n",
    "\n",
    "- 参数的元信息（代码可读性问题）\n",
    "\n",
    "- 匿名函数和内联函数的用法（`lambda`函数）"
   ]
  },
  {
   "cell_type": "markdown",
   "metadata": {},
   "source": [
    "- 闭包和作用域问题\n",
    "\n",
    "  - Python搜索变量的LEGB顺序（Local >>> Embedded >>> Global >>> Built-in）\n",
    "\n",
    "  - `global`和`nonlocal`关键字的作用\n",
    "\n",
    "    `global`：声明或定义全局变量（要么直接使用现有的全局作用域的变量，要么定义一个变量放到全局作用域）。\n",
    "\n",
    "    `nonlocal`：声明使用嵌套作用域的变量（嵌套作用域必须存在该变量，否则报错）。"
   ]
  },
  {
   "cell_type": "markdown",
   "metadata": {},
   "source": [
    "- 装饰器函数（使用装饰器和取消装饰器）\n",
    "\n",
    "  例子：输出函数执行时间的装饰器。"
   ]
  },
  {
   "cell_type": "code",
   "execution_count": null,
   "metadata": {},
   "outputs": [],
   "source": [
    "def record_time(func):\n",
    "    \"\"\"自定义装饰函数的装饰器\"\"\"\n",
    "    \n",
    "    @wraps(func)\n",
    "    def wrapper(*args, **kwargs):\n",
    "        start = time()\n",
    "        result = func(*args, **kwargs)\n",
    "        print(f'{func.__name__}: {time() - start}秒')\n",
    "        return result\n",
    "        \n",
    "    return wrapper"
   ]
  },
  {
   "cell_type": "markdown",
   "metadata": {},
   "source": [
    " 如果装饰器不希望跟`print`函数耦合，可以编写可以参数化的装饰器。"
   ]
  },
  {
   "cell_type": "code",
   "execution_count": null,
   "metadata": {},
   "outputs": [],
   "source": [
    "from functools import wraps\n",
    "from time import time\n",
    "  \n",
    "  \n",
    "def record(output):\n",
    "    \"\"\"可以参数化的装饰器\"\"\"\n",
    "\t\n",
    "\tdef decorate(func):\n",
    "\t\t\n",
    "\t\t@wraps(func)\n",
    "\t\tdef wrapper(*args, **kwargs):\n",
    "\t\t\tstart = time()\n",
    "\t\t\tresult = func(*args, **kwargs)\n",
    "\t\t\toutput(func.__name__, time() - start)\n",
    "\t\t\treturn result\n",
    "            \n",
    "\t\treturn wrapper\n",
    "\t\n",
    "\treturn decorate\n"
   ]
  },
  {
   "cell_type": "code",
   "execution_count": null,
   "metadata": {},
   "outputs": [],
   "source": [
    "from functools import wraps\n",
    "from time import time\n",
    "  \n",
    "  \n",
    "class Record():\n",
    "    \"\"\"通过定义类的方式定义装饰器\"\"\"\n",
    "  \n",
    "    def __init__(self, output):\n",
    "        self.output = output\n",
    "  \n",
    "    def __call__(self, func):\n",
    "  \n",
    "        @wraps(func)\n",
    "         def wrapper(*args, **kwargs):\n",
    "             start = time()\n",
    "             result = func(*args, **kwargs)\n",
    "             self.output(func.__name__, time() - start)\n",
    "             return result\n",
    "  \n",
    "        return wrapper"
   ]
  },
  {
   "cell_type": "markdown",
   "metadata": {},
   "source": [
    "  > **说明**：由于对带装饰功能的函数添加了@wraps装饰器，可以通过`func.__wrapped__`方式获得被装饰之前的函数或类来取消装饰器的作用。\n",
    "\n",
    "  例子：用装饰器来实现单例模式。"
   ]
  },
  {
   "cell_type": "code",
   "execution_count": null,
   "metadata": {},
   "outputs": [],
   "source": [
    "  from functools import wraps\n",
    "  \n",
    "  \n",
    "  def singleton(cls):\n",
    "      \"\"\"装饰类的装饰器\"\"\"\n",
    "      instances = {}\n",
    "  \n",
    "      @wraps(cls)\n",
    "      def wrapper(*args, **kwargs):\n",
    "          if cls not in instances:\n",
    "              instances[cls] = cls(*args, **kwargs)\n",
    "          return instances[cls]\n",
    "  \n",
    "      return wrapper\n",
    "  \n",
    "  \n",
    "  @singleton\n",
    "  class President:\n",
    "      \"\"\"总统(单例类)\"\"\"\n",
    "      pass"
   ]
  },
  {
   "cell_type": "markdown",
   "metadata": {},
   "source": [
    "  > **提示**：上面的代码中用到了闭包（closure），不知道你是否已经意识到了。还没有一个小问题就是，上面的代码并没有实现线程安全的单例，如果要实现线程安全的单例应该怎么做呢？\n",
    "\n",
    "  线程安全的单例装饰器。"
   ]
  },
  {
   "cell_type": "code",
   "execution_count": null,
   "metadata": {},
   "outputs": [],
   "source": [
    "  from functools import wraps\n",
    "  from threading import RLock\n",
    "  \n",
    "  \n",
    "  def singleton(cls):\n",
    "      \"\"\"线程安全的单例装饰器\"\"\"\n",
    "      instances = {}\n",
    "      locker = RLock()\n",
    "  \n",
    "      @wraps(cls)\n",
    "      def wrapper(*args, **kwargs):\n",
    "          if cls not in instances:\n",
    "              with locker:\n",
    "                  if cls not in instances:\n",
    "                      instances[cls] = cls(*args, **kwargs)\n",
    "          return instances[cls]\n",
    "  \n",
    "      return wrapper"
   ]
  },
  {
   "cell_type": "markdown",
   "metadata": {},
   "source": [
    "  > **提示**：上面的代码用到了`with`上下文语法来进行锁操作，因为锁对象本身就是上下文管理器对象（支持`__enter__`和`__exit__`魔术方法）。在`wrapper`函数中，我们先做了一次不带锁的检查，然后再做带锁的检查，这样做比直接加锁检查性能要更好，如果对象已经创建就没有必须再去加锁而是直接返回该对象就可以了。"
   ]
  },
  {
   "cell_type": "markdown",
   "metadata": {},
   "source": [
    "### 面向对象相关知识\n",
    "\n",
    "- 三大支柱：封装、继承、多态"
   ]
  },
  {
   "cell_type": "markdown",
   "metadata": {},
   "source": [
    "  例子：工资结算系统。"
   ]
  },
  {
   "cell_type": "code",
   "execution_count": null,
   "metadata": {},
   "outputs": [],
   "source": [
    "  \"\"\"\n",
    "  月薪结算系统 - 部门经理每月15000 程序员每小时200 销售员1800底薪加销售额5%提成\n",
    "  \"\"\"\n",
    "  from abc import ABCMeta, abstractmethod\n",
    "  \n",
    "  \n",
    "  class Employee(metaclass=ABCMeta):\n",
    "      \"\"\"员工(抽象类)\"\"\"\n",
    "  \n",
    "      def __init__(self, name):\n",
    "          self.name = name\n",
    "  \n",
    "      @abstractmethod\n",
    "      def get_salary(self):\n",
    "          \"\"\"结算月薪(抽象方法)\"\"\"\n",
    "          pass\n",
    "  \n",
    "  \n",
    "  class Manager(Employee):\n",
    "      \"\"\"部门经理\"\"\"\n",
    "  \n",
    "      def get_salary(self):\n",
    "          return 15000.0\n",
    "  \n",
    "  \n",
    "  class Programmer(Employee):\n",
    "      \"\"\"程序员\"\"\"\n",
    "  \n",
    "      def __init__(self, name, working_hour=0):\n",
    "          self.working_hour = working_hour\n",
    "          super().__init__(name)\n",
    "  \n",
    "      def get_salary(self):\n",
    "          return 200.0 * self.working_hour\n",
    "  \n",
    "  \n",
    "  class Salesman(Employee):\n",
    "      \"\"\"销售员\"\"\"\n",
    "  \n",
    "      def __init__(self, name, sales=0.0):\n",
    "          self.sales = sales\n",
    "          super().__init__(name)\n",
    "  \n",
    "      def get_salary(self):\n",
    "          return 1800.0 + self.sales * 0.05\n",
    "  \n",
    "  \n",
    "  class EmployeeFactory:\n",
    "      \"\"\"创建员工的工厂（工厂模式 - 通过工厂实现对象使用者和对象之间的解耦合）\"\"\"\n",
    "  \n",
    "      @staticmethod\n",
    "      def create(emp_type, *args, **kwargs):\n",
    "          \"\"\"创建员工\"\"\"\n",
    "          all_emp_types = {'M': Manager, 'P': Programmer, 'S': Salesman}\n",
    "          cls = all_emp_types[emp_type.upper()]\n",
    "          return cls(*args, **kwargs) if cls else None\n",
    "  \n",
    "  \n",
    "  def main():\n",
    "      \"\"\"主函数\"\"\"\n",
    "      emps = [\n",
    "          EmployeeFactory.create('M', '曹操'), \n",
    "          EmployeeFactory.create('P', '荀彧', 120),\n",
    "          EmployeeFactory.create('P', '郭嘉', 85), \n",
    "          EmployeeFactory.create('S', '典韦', 123000),\n",
    "      ]\n",
    "      for emp in emps:\n",
    "          print(f'{emp.name}: {emp.get_salary():.2f}元')\n",
    "  \n",
    "  \n",
    "  if __name__ == '__main__':\n",
    "      main()"
   ]
  },
  {
   "cell_type": "markdown",
   "metadata": {},
   "source": [
    "- 类与类之间的关系\n",
    "\n",
    "  - is-a关系：继承\n",
    "  - has-a关系：关联 / 聚合 / 合成\n",
    "  - use-a关系：依赖"
   ]
  },
  {
   "cell_type": "markdown",
   "metadata": {},
   "source": [
    "  例子：扑克游戏。"
   ]
  },
  {
   "cell_type": "code",
   "execution_count": null,
   "metadata": {},
   "outputs": [],
   "source": [
    "  \"\"\"\n",
    "  经验：符号常量总是优于字面常量，枚举类型是定义符号常量的最佳选择\n",
    "  \"\"\"\n",
    "  from enum import Enum, unique\n",
    "  \n",
    "  import random\n",
    "  \n",
    "  \n",
    "  @unique\n",
    "  class Suite(Enum):\n",
    "      \"\"\"花色\"\"\"\n",
    "  \n",
    "      SPADE, HEART, CLUB, DIAMOND = range(4)\n",
    "  \n",
    "      def __lt__(self, other):\n",
    "          return self.value < other.value\n",
    "  \n",
    "  \n",
    "  class Card():\n",
    "      \"\"\"牌\"\"\"\n",
    "  \n",
    "      def __init__(self, suite, face):\n",
    "          \"\"\"初始化方法\"\"\"\n",
    "          self.suite = suite\n",
    "          self.face = face\n",
    "  \n",
    "      def show(self):\n",
    "          \"\"\"显示牌面\"\"\"\n",
    "          suites = ['♠︎', '♥︎', '♣︎', '♦︎']\n",
    "          faces = ['', 'A', '2', '3', '4', '5', '6', '7', '8', '9', '10', 'J', 'Q', 'K']\n",
    "          return f'{suites[self.suite.value]}{faces[self.face]}'\n",
    "  \n",
    "      def __repr__(self):\n",
    "          return self.show()\n",
    "  \n",
    "  \n",
    "  class Poker():\n",
    "      \"\"\"扑克\"\"\"\n",
    "  \n",
    "      def __init__(self):\n",
    "          self.index = 0\n",
    "          self.cards = [Card(suite, face)\n",
    "                        for suite in Suite\n",
    "                        for face in range(1, 14)]\n",
    "  \n",
    "      def shuffle(self):\n",
    "          \"\"\"洗牌（随机乱序）\"\"\"\n",
    "          random.shuffle(self.cards)\n",
    "          self.index = 0\n",
    "  \n",
    "      def deal(self):\n",
    "          \"\"\"发牌\"\"\"\n",
    "          card = self.cards[self.index]\n",
    "          self.index += 1\n",
    "          return card\n",
    "  \n",
    "      @property\n",
    "      def has_more(self):\n",
    "          return self.index < len(self.cards)\n",
    "  \n",
    "  \n",
    "  class Player():\n",
    "      \"\"\"玩家\"\"\"\n",
    "  \n",
    "      def __init__(self, name):\n",
    "          self.name = name\n",
    "          self.cards = []\n",
    "  \n",
    "      def get_one(self, card):\n",
    "          \"\"\"摸一张牌\"\"\"\n",
    "          self.cards.append(card)\n",
    "  \n",
    "      def sort(self, comp=lambda card: (card.suite, card.face)):\n",
    "          \"\"\"整理手上的牌\"\"\"\n",
    "          self.cards.sort(key=comp)\n",
    "  \n",
    "  \n",
    "  def main():\n",
    "      \"\"\"主函数\"\"\"\n",
    "      poker = Poker()\n",
    "      poker.shuffle()\n",
    "      players = [Player('东邪'), Player('西毒'), Player('南帝'), Player('北丐')]\n",
    "      while poker.has_more:\n",
    "          for player in players:\n",
    "                  player.get_one(poker.deal())\n",
    "      for player in players:\n",
    "          player.sort()\n",
    "          print(player.name, end=': ')\n",
    "          print(player.cards)\n",
    "  \n",
    "  \n",
    "  if __name__ == '__main__':\n",
    "      main()"
   ]
  },
  {
   "cell_type": "markdown",
   "metadata": {},
   "source": [
    "  > **说明**：上面的代码中使用了Emoji字符来表示扑克牌的四种花色，在某些不支持Emoji字符的系统上可能无法显示。"
   ]
  },
  {
   "cell_type": "markdown",
   "metadata": {},
   "source": [
    "- 对象的复制（深复制/深拷贝/深度克隆和浅复制/浅拷贝/影子克隆）\n",
    "\n",
    "- 垃圾回收、循环引用和弱引用\n",
    "\n",
    "  Python使用了自动化内存管理，这种管理机制以**引用计数**为基础，同时也引入了**标记-清除**和**分代收集**两种机制为辅的策略。"
   ]
  },
  {
   "cell_type": "markdown",
   "metadata": {},
   "source": [
    "  ```C\n",
    "  typedef struct _object {\n",
    "      /* 引用计数 */\n",
    "      int ob_refcnt;\n",
    "      /* 对象指针 */\n",
    "      struct _typeobject *ob_type;\n",
    "  } PyObject;\n",
    "  ```\n",
    "\n",
    "  ```C\n",
    "  /* 增加引用计数的宏定义 */\n",
    "  #define Py_INCREF(op)   ((op)->ob_refcnt++)\n",
    "  /* 减少引用计数的宏定义 */\n",
    "  #define Py_DECREF(op) \\ //减少计数\n",
    "      if (--(op)->ob_refcnt != 0) \\\n",
    "          ; \\\n",
    "      else \\\n",
    "          __Py_Dealloc((PyObject *)(op))\n",
    "  ```"
   ]
  },
  {
   "cell_type": "markdown",
   "metadata": {},
   "source": [
    "  导致引用计数+1的情况：\n",
    "\n",
    "  - 对象被创建，例如`a = 23`\n",
    "  - 对象被引用，例如`b = a`\n",
    "  - 对象被作为参数，传入到一个函数中，例如`f(a)`\n",
    "  - 对象作为一个元素，存储在容器中，例如`list1 = [a, a]`"
   ]
  },
  {
   "cell_type": "markdown",
   "metadata": {},
   "source": [
    "  导致引用计数-1的情况：\n",
    "\n",
    "  - 对象的别名被显式销毁，例如`del a`\n",
    "  - 对象的别名被赋予新的对象，例如`a = 24`\n",
    "  - 一个对象离开它的作用域，例如f函数执行完毕时，f函数中的局部变量（全局变量不会）\n",
    "  - 对象所在的容器被销毁，或从容器中删除对象"
   ]
  },
  {
   "cell_type": "markdown",
   "metadata": {},
   "source": [
    "  引用计数可能会导致循环引用问题，而循环引用会导致内存泄露，如下面的代码所示。为了解决这个问题，Python中引入了“标记-清除”和“分代收集”。在创建一个对象的时候，对象被放在第一代中，如果在第一代的垃圾检查中对象存活了下来，该对象就会被放到第二代中，同理在第二代的垃圾检查中对象存活下来，该对象就会被放到第三代中。"
   ]
  },
  {
   "cell_type": "code",
   "execution_count": null,
   "metadata": {},
   "outputs": [],
   "source": [
    "  # 循环引用会导致内存泄露 - Python除了引用技术还引入了标记清理和分代回收\n",
    "  # 在Python 3.6以前如果重写__del__魔术方法会导致循环引用处理失效\n",
    "  # 如果不想造成循环引用可以使用弱引用\n",
    "  list1 = []\n",
    "  list2 = [] \n",
    "  list1.append(list2)\n",
    "  list2.append(list1)\n"
   ]
  },
  {
   "cell_type": "markdown",
   "metadata": {},
   "source": [
    "  以下情况会导致垃圾回收：\n",
    "\n",
    "  - 调用`gc.collect()`\n",
    "  - `gc`模块的计数器达到阀值\n",
    "  - 程序退出"
   ]
  },
  {
   "cell_type": "markdown",
   "metadata": {},
   "source": [
    "  如果循环引用中两个对象都定义了`__del__`方法，`gc`模块不会销毁这些不可达对象，因为gc模块不知道应该先调用哪个对象的`__del__`方法，这个问题在Python 3.6中得到了解决。\n",
    "\n",
    "  也可以通过`weakref`模块构造弱引用的方式来解决循环引用的问题。"
   ]
  },
  {
   "cell_type": "markdown",
   "metadata": {},
   "source": [
    "- 魔法属性和方法（请参考《Python魔法方法指南》）\n",
    "\n",
    "  有几个小问题请大家思考：\n",
    "\n",
    "  - 自定义的对象能不能使用运算符做运算？\n",
    "  - 自定义的对象能不能放到`set`中？能去重吗？\n",
    "  - 自定义的对象能不能作为`dict`的键？\n",
    "  - 自定义的对象能不能使用上下文语法？"
   ]
  },
  {
   "cell_type": "markdown",
   "metadata": {},
   "source": [
    "- 混入（Mixin）\n",
    "\n",
    "  例子：自定义字典限制只有在指定的key不存在时才能在字典中设置键值对。"
   ]
  },
  {
   "cell_type": "code",
   "execution_count": null,
   "metadata": {},
   "outputs": [],
   "source": [
    "  class SetOnceMappingMixin:\n",
    "      \"\"\"自定义混入类\"\"\"\n",
    "      __slots__ = ()\n",
    "  \n",
    "      def __setitem__(self, key, value):\n",
    "          if key in self:\n",
    "              raise KeyError(str(key) + ' already set')\n",
    "          return super().__setitem__(key, value)\n",
    "  \n",
    "  \n",
    "  class SetOnceDict(SetOnceMappingMixin, dict):\n",
    "      \"\"\"自定义字典\"\"\"\n",
    "      pass\n",
    "  \n",
    "  \n",
    "  my_dict= SetOnceDict()\n",
    "  try:\n",
    "      my_dict['username'] = 'jackfrued'\n",
    "      my_dict['username'] = 'hellokitty'\n",
    "  except KeyError:\n",
    "      pass\n",
    "  print(my_dict)"
   ]
  },
  {
   "cell_type": "markdown",
   "metadata": {},
   "source": [
    "- 元编程和元类\n",
    "\n",
    "  对象是通过类创建的，类是通过元类创建的，元类提供了创建类的元信息。所有的类都直接或间接的继承自`object`，所有的元类都直接或间接的继承自`type`。\n",
    "\n",
    "  例子：用元类实现单例模式。"
   ]
  },
  {
   "cell_type": "code",
   "execution_count": null,
   "metadata": {},
   "outputs": [],
   "source": [
    "  import threading\n",
    "  \n",
    "  \n",
    "  class SingletonMeta(type):\n",
    "      \"\"\"自定义元类\"\"\"\n",
    "  \n",
    "      def __init__(cls, *args, **kwargs):\n",
    "          cls.__instance = None\n",
    "          cls.__lock = threading.RLock()\n",
    "          super().__init__(*args, **kwargs)\n",
    "  \n",
    "      def __call__(cls, *args, **kwargs):\n",
    "          if cls.__instance is None:\n",
    "              with cls.__lock:\n",
    "                  if cls.__instance is None:\n",
    "                      cls.__instance = super().__call__(*args, **kwargs)\n",
    "          return cls.__instance\n",
    "  \n",
    "  \n",
    "  class President(metaclass=SingletonMeta):\n",
    "      \"\"\"总统(单例类)\"\"\"\n",
    "      \n",
    "      pass"
   ]
  },
  {
   "cell_type": "markdown",
   "metadata": {},
   "source": [
    "- 面向对象设计原则\n",
    "\n",
    "  - 单一职责原则 （**S**RP）- 一个类只做该做的事情（类的设计要高内聚）\n",
    "  - 开闭原则 （**O**CP）- 软件实体应该对扩展开发对修改关闭\n",
    "  - 依赖倒转原则（DIP）- 面向抽象编程（在弱类型语言中已经被弱化）\n",
    "  - 里氏替换原则（**L**SP） - 任何时候可以用子类对象替换掉父类对象\n",
    "  - 接口隔离原则（**I**SP）- 接口要小而专不要大而全（Python中没有接口的概念）\n",
    "  - 合成聚合复用原则（CARP） - 优先使用强关联关系而不是继承关系复用代码\n",
    "  - 最少知识原则（迪米特法则，Lo**D**）- 不要给没有必然联系的对象发消息\n",
    "\n",
    "  > **说明**：上面加粗的字母放在一起称为面向对象的**SOLID**原则。"
   ]
  },
  {
   "cell_type": "markdown",
   "metadata": {},
   "source": [
    "- GoF设计模式\n",
    "\n",
    "  - 创建型模式：单例、工厂、建造者、原型\n",
    "  - 结构型模式：适配器、门面（外观）、代理\n",
    "  - 行为型模式：迭代器、观察者、状态、策略\n",
    "\n",
    "  例子：可插拔的哈希算法（策略模式）。"
   ]
  },
  {
   "cell_type": "code",
   "execution_count": null,
   "metadata": {},
   "outputs": [],
   "source": [
    "  class StreamHasher():\n",
    "      \"\"\"哈希摘要生成器\"\"\"\n",
    "  \n",
    "      def __init__(self, alg='md5', size=4096):\n",
    "          self.size = size\n",
    "          alg = alg.lower()\n",
    "          self.hasher = getattr(__import__('hashlib'), alg.lower())()\n",
    "  \n",
    "      def __call__(self, stream):\n",
    "          return self.to_digest(stream)\n",
    "  \n",
    "      def to_digest(self, stream):\n",
    "          \"\"\"生成十六进制形式的摘要\"\"\"\n",
    "          for buf in iter(lambda: stream.read(self.size), b''):\n",
    "              self.hasher.update(buf)\n",
    "          return self.hasher.hexdigest()\n",
    "  \n",
    "  def main():\n",
    "      \"\"\"主函数\"\"\"\n",
    "      hasher1 = StreamHasher()\n",
    "      with open('Python-3.7.6.tgz', 'rb') as stream:\n",
    "          print(hasher1.to_digest(stream))\n",
    "      hasher2 = StreamHasher('sha1')\n",
    "      with open('Python-3.7.6.tgz', 'rb') as stream:\n",
    "          print(hasher2(stream))\n",
    "  \n",
    "  \n",
    "  if __name__ == '__main__':\n",
    "      main()"
   ]
  },
  {
   "cell_type": "markdown",
   "metadata": {},
   "source": [
    "### 迭代器和生成器\n",
    "\n",
    "- 迭代器是实现了迭代器协议的对象。\n",
    "\n",
    "  - Python中没有像`protocol`或`interface`这样的定义协议的关键字。\n",
    "  - Python中用魔术方法表示协议。\n",
    "  - `__iter__`和`__next__`魔术方法就是迭代器协议。\n",
    "  "
   ]
  },
  {
   "cell_type": "code",
   "execution_count": null,
   "metadata": {},
   "outputs": [],
   "source": [
    "  class Fib(object):\n",
    "      \"\"\"迭代器\"\"\"\n",
    "      \n",
    "      def __init__(self, num):\n",
    "          self.num = num\n",
    "          self.a, self.b = 0, 1\n",
    "          self.idx = 0\n",
    "     \n",
    "      def __iter__(self):\n",
    "          return self\n",
    "  \n",
    "      def __next__(self):\n",
    "          if self.idx < self.num:\n",
    "              self.a, self.b = self.b, self.a + self.b\n",
    "              self.idx += 1\n",
    "              return self.a\n",
    "          raise StopIteration()"
   ]
  },
  {
   "cell_type": "markdown",
   "metadata": {},
   "source": [
    "- 生成器是语法简化版的迭代器。"
   ]
  },
  {
   "cell_type": "code",
   "execution_count": null,
   "metadata": {},
   "outputs": [],
   "source": [
    "  def fib(num):\n",
    "      \"\"\"生成器\"\"\"\n",
    "      a, b = 0, 1\n",
    "      for _ in range(num):\n",
    "          a, b = b, a + b\n",
    "          yield a"
   ]
  },
  {
   "cell_type": "markdown",
   "metadata": {},
   "source": [
    "- 生成器进化为协程。\n",
    "\n",
    "  生成器对象可以使用`send()`方法发送数据，发送的数据会成为生成器函数中通过`yield`表达式获得的值。这样，生成器就可以作为协程使用，协程简单的说就是可以相互协作的子程序。"
   ]
  },
  {
   "cell_type": "code",
   "execution_count": null,
   "metadata": {},
   "outputs": [],
   "source": [
    "  def calc_avg():\n",
    "      \"\"\"流式计算平均值\"\"\"\n",
    "      total, counter = 0, 0\n",
    "      avg_value = None\n",
    "      while True:\n",
    "          value = yield avg_value\n",
    "          total, counter = total + value, counter + 1\n",
    "          avg_value = total / counter\n",
    "  \n",
    "  \n",
    "  gen = calc_avg()\n",
    "  next(gen)\n",
    "  print(gen.send(10))\n",
    "  print(gen.send(20))\n",
    "  print(gen.send(30))"
   ]
  },
  {
   "cell_type": "markdown",
   "metadata": {},
   "source": [
    "### 并发编程\n",
    "\n",
    "Python中实现并发编程的三种方案：多线程、多进程和异步I/O。并发编程的好处在于可以提升程序的执行效率以及改善用户体验；坏处在于并发的程序不容易开发和调试，同时对其他程序来说它并不友好。"
   ]
  },
  {
   "cell_type": "markdown",
   "metadata": {},
   "source": [
    "- 多线程：Python中提供了`Thread`类并辅以`Lock`、`Condition`、`Event`、`Semaphore`和`Barrier`。Python中有GIL来防止多个线程同时执行本地字节码，这个锁对于CPython是必须的，因为CPython的内存管理并不是线程安全的，因为GIL的存在多线程并不能发挥CPU的多核特性。"
   ]
  },
  {
   "cell_type": "code",
   "execution_count": null,
   "metadata": {},
   "outputs": [],
   "source": [
    "  \"\"\"\n",
    "  面试题：进程和线程的区别和联系？\n",
    "  进程 - 操作系统分配内存的基本单位 - 一个进程可以包含一个或多个线程\n",
    "  线程 - 操作系统分配CPU的基本单位\n",
    "  并发编程（concurrent programming）\n",
    "  1. 提升执行性能 - 让程序中没有因果关系的部分可以并发的执行\n",
    "  2. 改善用户体验 - 让耗时间的操作不会造成程序的假死\n",
    "  \"\"\"\n",
    "  import glob\n",
    "  import os\n",
    "  import threading\n",
    "  \n",
    "  from PIL import Image\n",
    "  \n",
    "  PREFIX = 'thumbnails'\n",
    "  \n",
    "  \n",
    "  def generate_thumbnail(infile, size, format='PNG'):\n",
    "      \"\"\"生成指定图片文件的缩略图\"\"\"\n",
    "  \tfile, ext = os.path.splitext(infile)\n",
    "  \tfile = file[file.rfind('/') + 1:]\n",
    "  \toutfile = f'{PREFIX}/{file}_{size[0]}_{size[1]}.{ext}'\n",
    "  \timg = Image.open(infile)\n",
    "  \timg.thumbnail(size, Image.ANTIALIAS)\n",
    "  \timg.save(outfile, format)\n",
    "  \n",
    "  \n",
    "  def main():\n",
    "      \"\"\"主函数\"\"\"\n",
    "  \tif not os.path.exists(PREFIX):\n",
    "  \t\tos.mkdir(PREFIX)\n",
    "  \tfor infile in glob.glob('images/*.png'):\n",
    "  \t\tfor size in (32, 64, 128):\n",
    "              # 创建并启动线程\n",
    "  \t\t\tthreading.Thread(\n",
    "  \t\t\t\ttarget=generate_thumbnail, \n",
    "  \t\t\t\targs=(infile, (size, size))\n",
    "  \t\t\t).start()\n",
    "  \t\t\t\n",
    "  \n",
    "  if __name__ == '__main__':\n",
    "  \tmain()"
   ]
  },
  {
   "cell_type": "code",
   "execution_count": null,
   "metadata": {},
   "outputs": [],
   "source": [
    "  \"\"\"\n",
    "  多线程程序如果没有竞争资源处理起来通常也比较简单\n",
    "  当多个线程竞争临界资源的时候如果缺乏必要的保护措施就会导致数据错乱\n",
    "  说明：临界资源就是被多个线程竞争的资源\n",
    "  \"\"\"\n",
    "  import time\n",
    "  import threading\n",
    "  \n",
    "  from concurrent.futures import ThreadPoolExecutor\n",
    "  \n",
    "  \n",
    "  class Account(object):\n",
    "      \"\"\"银行账户\"\"\"\n",
    "  \n",
    "      def __init__(self):\n",
    "          self.balance = 0.0\n",
    "          self.lock = threading.Lock()\n",
    "  \n",
    "      def deposit(self, money):\n",
    "          # 通过锁保护临界资源\n",
    "          with self.lock:\n",
    "              new_balance = self.balance + money\n",
    "              time.sleep(0.001)\n",
    "              self.balance = new_balance\n",
    "  \n",
    "  \n",
    "  def main():\n",
    "      \"\"\"主函数\"\"\"\n",
    "      account = Account()\n",
    "      # 创建线程池\n",
    "      pool = ThreadPoolExecutor(max_workers=10)\n",
    "      futures = []\n",
    "      for _ in range(100):\n",
    "          future = pool.submit(account.deposit, 1)\n",
    "          futures.append(future)\n",
    "      # 关闭线程池\n",
    "      pool.shutdown()\n",
    "      for future in futures:\n",
    "          future.result()\n",
    "      print(account.balance)\n",
    "  \n",
    "  \n",
    "  if __name__ == '__main__':\n",
    "      main()"
   ]
  },
  {
   "cell_type": "markdown",
   "metadata": {},
   "source": [
    "  \n",
    "  修改上面的程序，启动5个线程向账户中存钱，5个线程从账户中取钱，取钱时如果余额不足就暂停线程进行等待。为了达到上述目标，需要对存钱和取钱的线程进行调度，在余额不足时取钱的线程暂停并释放锁，而存钱的线程将钱存入后要通知取钱的线程，使其从暂停状态被唤醒。可以使用`threading`模块的`Condition`来实现线程调度，该对象也是基于锁来创建的，代码如下所示：\n",
    " "
   ]
  },
  {
   "cell_type": "code",
   "execution_count": null,
   "metadata": {},
   "outputs": [],
   "source": [
    "  \"\"\"\n",
    "  多个线程竞争一个资源 - 保护临界资源 - 锁（Lock/RLock）\n",
    "  多个线程竞争多个资源（线程数>资源数） - 信号量（Semaphore）\n",
    "  多个线程的调度 - 暂停线程执行/唤醒等待中的线程 - Condition\n",
    "  \"\"\"\n",
    "  from concurrent.futures import ThreadPoolExecutor\n",
    "  from random import randint\n",
    "  from time import sleep\n",
    "  \n",
    "  import threading\n",
    "  \n",
    "  \n",
    "  class Account:\n",
    "      \"\"\"银行账户\"\"\"\n",
    "  \n",
    "      def __init__(self, balance=0):\n",
    "          self.balance = balance\n",
    "          lock = threading.RLock()\n",
    "          self.condition = threading.Condition(lock)\n",
    "  \n",
    "      def withdraw(self, money):\n",
    "          \"\"\"取钱\"\"\"\n",
    "          with self.condition:\n",
    "              while money > self.balance:\n",
    "                  self.condition.wait()\n",
    "              new_balance = self.balance - money\n",
    "              sleep(0.001)\n",
    "              self.balance = new_balance\n",
    "  \n",
    "      def deposit(self, money):\n",
    "          \"\"\"存钱\"\"\"\n",
    "          with self.condition:\n",
    "              new_balance = self.balance + money\n",
    "              sleep(0.001)\n",
    "              self.balance = new_balance\n",
    "              self.condition.notify_all()\n",
    "  \n",
    "  \n",
    "  def add_money(account):\n",
    "      while True:\n",
    "          money = randint(5, 10)\n",
    "          account.deposit(money)\n",
    "          print(threading.current_thread().name, \n",
    "                ':', money, '====>', account.balance)\n",
    "          sleep(0.5)\n",
    "  \n",
    "  \n",
    "  def sub_money(account):\n",
    "      while True:\n",
    "          money = randint(10, 30)\n",
    "          account.withdraw(money)\n",
    "          print(threading.current_thread().name, \n",
    "                ':', money, '<====', account.balance)\n",
    "          sleep(1)\n",
    "  \n",
    "  \n",
    "  def main():\n",
    "      account = Account()\n",
    "      with ThreadPoolExecutor(max_workers=15) as pool:\n",
    "          for _ in range(5):\n",
    "              pool.submit(add_money, account)\n",
    "          for _ in range(10):\n",
    "              pool.submit(sub_money, account)\n",
    "  \n",
    "  \n",
    "  if __name__ == '__main__':\n",
    "      main()"
   ]
  },
  {
   "cell_type": "markdown",
   "metadata": {},
   "source": [
    "  \n",
    "- 多进程：多进程可以有效的解决GIL的问题，实现多进程主要的类是`Process`，其他辅助的类跟`threading`模块中的类似，进程间共享数据可以使用管道、套接字等，在`multiprocessing`模块中有一个`Queue`类，它基于管道和锁机制提供了多个进程共享的队列。下面是官方文档上关于多进程和进程池的一个示例。"
   ]
  },
  {
   "cell_type": "code",
   "execution_count": null,
   "metadata": {},
   "outputs": [],
   "source": [
    "  \"\"\"\n",
    "  多进程和进程池的使用\n",
    "  多线程因为GIL的存在不能够发挥CPU的多核特性\n",
    "  对于计算密集型任务应该考虑使用多进程\n",
    "  time python3 example22.py\n",
    "  real    0m11.512s\n",
    "  user    0m39.319s\n",
    "  sys     0m0.169s\n",
    "  使用多进程后实际执行时间为11.512秒，而用户时间39.319秒约为实际执行时间的4倍\n",
    "  这就证明我们的程序通过多进程使用了CPU的多核特性，而且这台计算机配置了4核的CPU\n",
    "  \"\"\"\n",
    "  import concurrent.futures\n",
    "  import math\n",
    "  \n",
    "  PRIMES = [\n",
    "      1116281,\n",
    "      1297337,\n",
    "      104395303,\n",
    "      472882027,\n",
    "      533000389,\n",
    "      817504243,\n",
    "      982451653,\n",
    "      112272535095293,\n",
    "      112582705942171,\n",
    "      112272535095293,\n",
    "      115280095190773,\n",
    "      115797848077099,\n",
    "      1099726899285419\n",
    "  ] * 5\n",
    "  \n",
    "  \n",
    "  def is_prime(n):\n",
    "      \"\"\"判断素数\"\"\"\n",
    "      if n % 2 == 0:\n",
    "          return False\n",
    "  \n",
    "      sqrt_n = int(math.floor(math.sqrt(n)))\n",
    "      for i in range(3, sqrt_n + 1, 2):\n",
    "          if n % i == 0:\n",
    "              return False\n",
    "      return True\n",
    "  \n",
    "  \n",
    "  def main():\n",
    "      \"\"\"主函数\"\"\"\n",
    "      with concurrent.futures.ProcessPoolExecutor() as executor:\n",
    "          for number, prime in zip(PRIMES, executor.map(is_prime, PRIMES)):\n",
    "              print('%d is prime: %s' % (number, prime))\n",
    "  \n",
    "  \n",
    "  if __name__ == '__main__':\n",
    "      main()"
   ]
  },
  {
   "cell_type": "markdown",
   "metadata": {},
   "source": [
    "  > **重点**：**多线程和多进程的比较**。\n",
    "  >\n",
    "  > 以下情况需要使用多线程：\n",
    "  >\n",
    "  > 1. 程序需要维护许多共享的状态（尤其是可变状态），Python中的列表、字典、集合都是线程安全的，所以使用线程而不是进程维护共享状态的代价相对较小。\n",
    "  > 2. 程序会花费大量时间在I/O操作上，没有太多并行计算的需求且不需占用太多的内存。\n",
    "  >\n",
    "  > 以下情况需要使用多进程：\n",
    "  >\n",
    "  > 1. 程序执行计算密集型任务（如：字节码操作、数据处理、科学计算）。\n",
    "  > 2. 程序的输入可以并行的分成块，并且可以将运算结果合并。\n",
    "  > 3. 程序在内存使用方面没有任何限制且不强依赖于I/O操作（如：读写文件、套接字等）。\n",
    "  "
   ]
  },
  {
   "cell_type": "markdown",
   "metadata": {},
   "source": [
    "- 异步处理：从调度程序的任务队列中挑选任务，该调度程序以交叉的形式执行这些任务，我们并不能保证任务将以某种顺序去执行，因为执行顺序取决于队列中的一项任务是否愿意将CPU处理时间让位给另一项任务。异步任务通常通过多任务协作处理的方式来实现，由于执行时间和顺序的不确定，因此需要通过回调式编程或者`future`对象来获取任务执行的结果。Python 3通过`asyncio`模块和`await`和`async`关键字（在Python 3.7中正式被列为关键字）来支持异步处理。"
   ]
  },
  {
   "cell_type": "code",
   "execution_count": null,
   "metadata": {},
   "outputs": [],
   "source": [
    "  \"\"\"\n",
    "  异步I/O - async / await\n",
    "  \"\"\"\n",
    "  import asyncio\n",
    "  \n",
    "  \n",
    "  def num_generator(m, n):\n",
    "      \"\"\"指定范围的数字生成器\"\"\"\n",
    "      yield from range(m, n + 1)\n",
    "  \n",
    "  \n",
    "  async def prime_filter(m, n):\n",
    "      \"\"\"素数过滤器\"\"\"\n",
    "      primes = []\n",
    "      for i in num_generator(m, n):\n",
    "          flag = True\n",
    "          for j in range(2, int(i ** 0.5 + 1)):\n",
    "              if i % j == 0:\n",
    "                  flag = False\n",
    "                  break\n",
    "          if flag:\n",
    "              print('Prime =>', i)\n",
    "              primes.append(i)\n",
    "  \n",
    "          await asyncio.sleep(0.001)\n",
    "      return tuple(primes)\n",
    "  \n",
    "  \n",
    "  async def square_mapper(m, n):\n",
    "      \"\"\"平方映射器\"\"\"\n",
    "      squares = []\n",
    "      for i in num_generator(m, n):\n",
    "          print('Square =>', i * i)\n",
    "          squares.append(i * i)\n",
    "  \n",
    "          await asyncio.sleep(0.001)\n",
    "      return squares\n",
    "  \n",
    "  \n",
    "  def main():\n",
    "      \"\"\"主函数\"\"\"\n",
    "      loop = asyncio.get_event_loop()\n",
    "      future = asyncio.gather(prime_filter(2, 100), square_mapper(1, 100))\n",
    "      future.add_done_callback(lambda x: print(x.result()))\n",
    "      loop.run_until_complete(future)\n",
    "      loop.close()\n",
    "  \n",
    "  \n",
    "  if __name__ == '__main__':\n",
    "      main()"
   ]
  },
  {
   "cell_type": "markdown",
   "metadata": {},
   "source": [
    "  > **说明**：上面的代码使用`get_event_loop`函数获得系统默认的事件循环，通过`gather`函数可以获得一个`future`对象，`future`对象的`add_done_callback`可以添加执行完成时的回调函数，`loop`对象的`run_until_complete`方法可以等待通过`future`对象获得协程执行结果。"
   ]
  },
  {
   "cell_type": "markdown",
   "metadata": {},
   "source": [
    "  Python中有一个名为`aiohttp`的三方库，它提供了异步的HTTP客户端和服务器，这个三方库可以跟`asyncio`模块一起工作，并提供了对`Future`对象的支持。Python 3.6中引入了`async`和`await`来定义异步执行的函数以及创建异步上下文，在Python 3.7中它们正式成为了关键字。下面的代码异步的从5个URL中获取页面并通过正则表达式的命名捕获组提取了网站的标题。\n",
    "  "
   ]
  },
  {
   "cell_type": "code",
   "execution_count": null,
   "metadata": {},
   "outputs": [],
   "source": [
    "  import asyncio\n",
    "  import re\n",
    "  \n",
    "  import aiohttp\n",
    "  \n",
    "  PATTERN = re.compile(r'\\<title\\>(?P<title>.*)\\<\\/title\\>')\n",
    "  \n",
    "  \n",
    "  async def fetch_page(session, url):\n",
    "      async with session.get(url, ssl=False) as resp:\n",
    "          return await resp.text()\n",
    "  \n",
    "  \n",
    "  async def show_title(url):\n",
    "      async with aiohttp.ClientSession() as session:\n",
    "          html = await fetch_page(session, url)\n",
    "          print(PATTERN.search(html).group('title'))\n",
    "  \n",
    "  \n",
    "  def main():\n",
    "      urls = ('https://www.python.org/',\n",
    "              'https://git-scm.com/',\n",
    "              'https://www.jd.com/',\n",
    "              'https://www.taobao.com/',\n",
    "              'https://www.douban.com/')\n",
    "      loop = asyncio.get_event_loop()\n",
    "      cos = [show_title(url) for url in urls]\n",
    "      loop.run_until_complete(asyncio.wait(cos))\n",
    "      loop.close()\n",
    "  \n",
    "  \n",
    "  if __name__ == '__main__':\n",
    "      main()"
   ]
  },
  {
   "cell_type": "markdown",
   "metadata": {},
   "source": [
    "  > **重点**：**异步I/O与多进程的比较**。\n",
    "  >\n",
    "  > 当程序不需要真正的并发性或并行性，而是更多的依赖于异步处理和回调时，`asyncio`就是一种很好的选择。如果程序中有大量的等待与休眠时，也应该考虑`asyncio`，它很适合编写没有实时数据处理需求的Web应用服务器。\n",
    "  "
   ]
  },
  {
   "cell_type": "markdown",
   "metadata": {},
   "source": [
    " 处理并行任务的三方库：`joblib`、`PyMP`等。共享的分布式消息队列就是原来程序中的Queue。消息队列（面向消息的中间件）的最流行和最标准化的实现是AMQP（高级消息队列协议），AMQP源于金融行业，提供了排队、路由、可靠传输、安全等功能，最著名的实现包括：Apache的ActiveMQ、RabbitMQ等。\n",
    " "
   ]
  },
  {
   "cell_type": "markdown",
   "metadata": {},
   "source": [
    "  要实现任务的异步化，可以使用名为`Celery`的三方库。`Celery`是Python编写的分布式任务队列，它使用分布式消息进行工作，可以基于RabbitMQ或Redis来作为后端的消息代理。"
   ]
  },
  {
   "cell_type": "markdown",
   "metadata": {},
   "source": [
    "## Web前端概述\n",
    "\n",
    "> **说明**：本文使用的部分插图来自*Jon Duckett*先生的*[HTML and CSS: Design and Build Websites](https://www.amazon.cn/dp/1118008189/ref=sr_1_5?__mk_zh_CN=%E4%BA%9A%E9%A9%AC%E9%80%8A%E7%BD%91%E7%AB%99&keywords=html+%26+css&qid=1554609325&s=gateway&sr=8-5)*一书，这是一本非常棒的前端入门书，有兴趣的读者可以在亚马逊或者其他网站上找到该书的购买链接。"
   ]
  },
  {
   "cell_type": "markdown",
   "metadata": {},
   "source": [
    "### HTML简史\n",
    "\n",
    "1. 1991年10月：一个非正式CERN（[欧洲核子研究中心](https://zh.wikipedia.org/wiki/%E6%AD%90%E6%B4%B2%E6%A0%B8%E5%AD%90%E7%A0%94%E7%A9%B6%E7%B5%84%E7%B9%94)）文件首次公开18个HTML标签，这个文件的作者是物理学家[蒂姆·伯纳斯-李](https://zh.wikipedia.org/wiki/%E8%92%82%E5%A7%86%C2%B7%E4%BC%AF%E7%BA%B3%E6%96%AF-%E6%9D%8E)，他是[万维网](https://zh.wikipedia.org/wiki/%E4%B8%87%E7%BB%B4%E7%BD%91)的发明者，也是[万维网联盟](https://zh.wikipedia.org/wiki/%E4%B8%87%E7%BB%B4%E7%BD%91%E8%81%94%E7%9B%9F)的主席。\n",
    "\n",
    "2. 1995年11月：HTML 2.0标准发布（RFC 1866）。\n",
    "3. 1997年1月：HTML 3.2作为[W3C](https://zh.wikipedia.org/wiki/W3C)推荐标准发布。\n",
    "4. 1997年12月：HTML 4.0作为W3C推荐标准发布。\n",
    "5.  1999年12月：HTML4.01作为W3C推荐标准发布。\n",
    "6. 2008年1月：HTML5由W3C作为工作草案发布。\n",
    "7. 2011年5月：W3C将HTML5推进至“最终征求”（Last Call）阶段。\n",
    "8. 2012年12月：W3C指定HTML5作为“候选推荐”阶段。\n",
    "9. 2014年10月：HTML5作为稳定W3C推荐标准发布，这意味着HTML5的标准化已经完成。"
   ]
  },
  {
   "cell_type": "markdown",
   "metadata": {},
   "source": [
    "#### HTML5新特性\n",
    "\n",
    "1. 引入原生多媒体支持（audio和video标签）\n",
    "2. 引入可编程内容（canvas标签）\n",
    "3. 引入语义Web（article、aside、details、figure、footer、header、nav、section、summary等标签）\n",
    "4. 引入新的表单控件（日历、邮箱、搜索、滑条等）\n",
    "5. 引入对离线存储更好的支持（localStorage和sessionStorage）\n",
    "6. 引入对定位、拖放、WebSocket、后台任务等的支持"
   ]
  },
  {
   "cell_type": "markdown",
   "metadata": {},
   "source": [
    "### 使用标签承载内容\n",
    "\n",
    "<img src=\"https://gitee.com/jackfrued/mypic/raw/master/20211107163448.png\" style=\"zoom:35%\">\n",
    "\n",
    "<img src=\"https://gitee.com/jackfrued/mypic/raw/master/20211107163741.png\" style=\"zoom:75%\">"
   ]
  },
  {
   "cell_type": "markdown",
   "metadata": {},
   "source": [
    "####  结构\n",
    "\n",
    "- html\n",
    "  - head\n",
    "    - title\n",
    "    - meta\n",
    "  - body"
   ]
  },
  {
   "cell_type": "markdown",
   "metadata": {},
   "source": [
    "#### 文本\n",
    "\n",
    "- 标题（heading）和段落（paragraph）\n",
    "  - h1 ~ h6\n",
    "  - p\n",
    "- 上标（superscript）和下标（subscript）\n",
    "  - sup\n",
    "  - sub\n",
    "- 空白（白色空间折叠）\n",
    "- 折行（break）和水平标尺（horizontal ruler）\n",
    "  - br\n",
    "  - hr"
   ]
  },
  {
   "cell_type": "markdown",
   "metadata": {},
   "source": [
    "- 语义化标签\n",
    "  - 加粗和强调 - strong\n",
    "  - 引用 - blockquote\n",
    "  - 缩写词和首字母缩写词 - abbr / acronym\n",
    "  - 引文 - cite\n",
    "  - 所有者联系信息 - address\n",
    "  - 内容的修改 - ins / del"
   ]
  },
  {
   "cell_type": "markdown",
   "metadata": {},
   "source": [
    "#### 列表（list）\n",
    "\n",
    " - 有序列表（ordered list）- ol / li\n",
    " - 无序列表（unordered list）- ul / li\n",
    " - 定义列表（definition list）- dl / dt / dd"
   ]
  },
  {
   "cell_type": "markdown",
   "metadata": {},
   "source": [
    "#### 链接（anchor）\n",
    "\n",
    "- 页面链接\n",
    "- 锚链接\n",
    "- 功能链接"
   ]
  },
  {
   "cell_type": "markdown",
   "metadata": {},
   "source": [
    "#### 图像（image）\n",
    "\n",
    "- 图像存储位置\n",
    "\n",
    "  ![](./res/相对路径.png)\n",
    "\n",
    "- 图像及其宽高\n",
    "\n",
    "- 选择正确的图像格式\n",
    "  - JPEG\n",
    "  - GIF\n",
    "  - PNG\n",
    "\n",
    "- 矢量图\n",
    "\n",
    "- 语义化标签 - figure / figcaption"
   ]
  },
  {
   "cell_type": "markdown",
   "metadata": {},
   "source": [
    "#### 表格（table）\n",
    "\n",
    "- 基本的表格结构 - table / tr / td / th\n",
    "- 表格的标题 - caption\n",
    "- 跨行和跨列 - rowspan属性 / colspan属性\n",
    "- 长表格 - thead / tbody / tfoot"
   ]
  },
  {
   "cell_type": "markdown",
   "metadata": {},
   "source": [
    "#### 表单（form）\n",
    "\n",
    "- 重要属性 - action / method / enctype\n",
    "- 表单控件（input）- type属性\n",
    "  - 文本框 - `text` / 密码框 - `password` / 数字框 - `number`\n",
    "  - 邮箱 - `email` / 电话 - `tel` / 日期 - `date` / 滑条 - `range` / URL - `url` / 搜索 - `search`\n",
    "  - 单选按钮 - `radio` / 复选按钮 - `checkbox`\n",
    "  - 文件上传 - `file` / 隐藏域 - `hidden`\n",
    "  - 提交按钮 - `submit` / 图像按钮 - `image`  / 重置按钮 - `reset`\n",
    "- 下拉列表 - select / option\n",
    "- 文本域（多行文本）- textarea\n",
    "- 组合表单元素 - fieldset / legend"
   ]
  },
  {
   "cell_type": "markdown",
   "metadata": {},
   "source": [
    "#### 音视频（audio / video）\n",
    "\n",
    "- 视频格式和播放器\n",
    "- 视频托管服务\n",
    "- 添加视频的准备工作\n",
    "- video标签和属性 - autoplay / controls / loop / muted / preload / src\n",
    "- audio标签和属性 - autoplay / controls / loop / muted / preload / src / width / height / poster"
   ]
  },
  {
   "cell_type": "markdown",
   "metadata": {},
   "source": [
    "#### 窗口（frame）\n",
    "\n",
    "- 框架集（过时，不建议使用） - frameset / frame\n",
    "\n",
    "- 内嵌窗口 - iframe"
   ]
  },
  {
   "cell_type": "markdown",
   "metadata": {},
   "source": [
    "#### 其他\n",
    "\n",
    "- 文档类型\n",
    "\n",
    "  ```HTML\n",
    "  <!doctype html>\n",
    "  ```\n",
    "\n",
    "  ```HTML\n",
    "  <!DOCTYPE HTML PUBLIC \"-//W3C//DTD HTML 4.01//EN\" \"http://www.w3.org/TR/html4/strict.dtd\">\n",
    "  ```\n",
    "\n",
    "  ```HTML\n",
    "  <!DOCTYPE HTML PUBLIC \"-//W3C//DTD HTML 4.01 Transitional//EN\" \"http://www.w3.org/TR/html4/loose.dtd\">\n",
    "  ```"
   ]
  },
  {
   "cell_type": "markdown",
   "metadata": {},
   "source": [
    "- 注释\n",
    "\n",
    "  ```HTML\n",
    "  <!-- 这是一段注释，注释不能够嵌套 -->\n",
    "  ```"
   ]
  },
  {
   "cell_type": "markdown",
   "metadata": {},
   "source": [
    "- 属性\n",
    "  - id：唯一标识\n",
    "  - class：元素所属的类，用于区分不同的元素\n",
    "  - title：元素的额外信息（鼠标悬浮时会显示工具提示文本）\n",
    "  - tabindex：Tab键切换顺序\n",
    "  - contenteditable：元素是否可编辑\n",
    "  - draggable：元素是否可拖拽"
   ]
  },
  {
   "cell_type": "markdown",
   "metadata": {},
   "source": [
    "- 块级元素 / 行级元素\n",
    "\n",
    "- 字符实体（实体替换符）\n",
    "\n",
    "  ![](./res/字符实体.png)"
   ]
  },
  {
   "cell_type": "markdown",
   "metadata": {},
   "source": [
    "### 使用CSS渲染页面\n",
    "\n",
    "#### 简介\n",
    "\n",
    "- CSS的作用\n",
    "\n",
    "- CSS的工作原理\n",
    "\n",
    "- 规则、属性和值\n",
    "\n",
    "  ![](./res/选择器语法.png)\n",
    "\n",
    "- 常用选择器\n",
    "\n",
    "  ![](./res/常用选择器.png)\n",
    "  \n",
    "  "
   ]
  },
  {
   "cell_type": "markdown",
   "metadata": {},
   "source": [
    "#### 颜色（color）\n",
    "\n",
    "- 如何指定颜色\n",
    "- 颜色术语和颜色对比\n",
    "- 背景色"
   ]
  },
  {
   "cell_type": "markdown",
   "metadata": {},
   "source": [
    "#### 文本（text / font）\n",
    "\n",
    "- 文本的大小和字型(font-size / font-family)\n",
    "\n",
    "  ![](./res/尺寸单位.png)\n",
    "\n",
    "  ![](./res/衬线字体+非衬线字体+等宽字体.png)\n",
    "\n",
    "- 粗细、样式、拉伸和装饰(font-weight / font-style / font-stretch / text-decoration)\n",
    "\n",
    "  ![](./res/字体样式.png)\n",
    "\n",
    "- 行间距(line-height)、字母间距(letter-spacing)和单词间距(word-spacing)\n",
    "\n",
    "- 对齐(text-align)方式和缩进(text-ident)\n",
    "\n",
    "- 链接样式（:link / :visited / :active / :hover）\n",
    "\n",
    "- CSS3新属性\n",
    "  - 阴影效果 - text-shadow\n",
    "  - 首字母和首行文本(:first-letter / :first-line)\n",
    "  - 响应用户"
   ]
  },
  {
   "cell_type": "markdown",
   "metadata": {},
   "source": [
    "#### 盒子（box model）\n",
    "\n",
    "- 盒子大小的控制（width / height）\n",
    "\n",
    "  ![](./res/尺寸单位.png)\n",
    "\n",
    "- 盒子的边框、外边距和内边距（border /  margin / padding）\n",
    "\n",
    "  ![](./res/盒子模型.png)\n",
    "\n",
    "- 盒子的显示和隐藏（display / visibility）\n",
    "\n",
    "- CSS3新属性\n",
    "  - 边框图像（border-image）\n",
    "  - 投影（border-shadow）\n",
    "  - 圆角（border-radius）"
   ]
  },
  {
   "cell_type": "markdown",
   "metadata": {},
   "source": [
    "#### 列表、表格和表单\n",
    "\n",
    "- 列表的项目符号（list-style）\n",
    "- 表格的边框和背景（border-collapse）\n",
    "- 表单控件的外观\n",
    "- 表单控件的对齐\n",
    "- 浏览器的开发者工具"
   ]
  },
  {
   "cell_type": "markdown",
   "metadata": {},
   "source": [
    "#### 图像\n",
    "\n",
    "- 控制图像的大小（display: inline-block）\n",
    "- 对齐图像\n",
    "- 背景图像（background / background-image / background-repeat / background-position）"
   ]
  },
  {
   "cell_type": "markdown",
   "metadata": {},
   "source": [
    "#### 布局\n",
    "\n",
    "- 控制元素的位置（position / z-index）\n",
    "  - 普通流\n",
    "  - 相对定位\n",
    "  - 绝对定位\n",
    "  - 固定定位\n",
    "  - 浮动元素（float / clear）\n",
    "  "
   ]
  },
  {
   "cell_type": "markdown",
   "metadata": {},
   "source": [
    "- 网站布局\n",
    "\n",
    "  - HTML5布局\n",
    "\n",
    "    ![](./res/经典布局-2.png)\n",
    "- 适配屏幕尺寸\n",
    "  - 固定宽度布局\n",
    "  - 流体布局\n",
    "  - 布局网格"
   ]
  },
  {
   "cell_type": "markdown",
   "metadata": {},
   "source": [
    "### 使用JavaScript控制行为\n",
    "\n",
    "#### JavaScript基本语法\n",
    "\n",
    "- 语句和注释\n",
    "- 变量和数据类型\n",
    "  - 声明和赋值\n",
    "  - 简单数据类型和复杂数据类型\n",
    "  - 变量的命名规则"
   ]
  },
  {
   "cell_type": "markdown",
   "metadata": {},
   "source": [
    "- 表达式和运算符\n",
    "  - 赋值运算符\n",
    "  - 算术运算符\n",
    "  - 比较运算符\n",
    "  - 逻辑运算符：`&&`、`||`、`!`\n",
    "  "
   ]
  },
  {
   "cell_type": "markdown",
   "metadata": {},
   "source": [
    "- 分支结构\n",
    "  - `if...else...`\n",
    "  - `switch...cas...default...`\n",
    "  "
   ]
  },
  {
   "cell_type": "markdown",
   "metadata": {},
   "source": [
    "- 循环结构\n",
    "  - `for`循环\n",
    "  - `while`循环\n",
    "  - `do...while`循环"
   ]
  },
  {
   "cell_type": "markdown",
   "metadata": {},
   "source": [
    "- 数组\n",
    "  - 创建数组\n",
    "  - 操作数组中的元素"
   ]
  },
  {
   "cell_type": "markdown",
   "metadata": {},
   "source": [
    "- 函数\n",
    "  - 声明函数\n",
    "  - 调用函数\n",
    "  - 参数和返回值\n",
    "  - 匿名函数\n",
    "  - 立即调用函数"
   ]
  },
  {
   "cell_type": "markdown",
   "metadata": {},
   "source": [
    "#### 面向对象\n",
    "\n",
    " - 对象的概念\n",
    " - 创建对象的字面量语法\n",
    " - 访问成员运算符\n",
    " - 创建对象的构造函数语法\n",
    "    - `this`关键字\n",
    " - 添加和删除属性\n",
    "    - `delete`关键字\n",
    " - 标准对象\n",
    "    - `Number` / `String` / `Boolean` / `Symbol` / `Array` / `Function` \n",
    "    - `Date` / `Error` / `Math` / `RegExp` / `Object` / `Map` / `Set`\n",
    "    - `JSON` / `Promise` / `Generator` / `Reflect` / `Proxy`"
   ]
  },
  {
   "cell_type": "markdown",
   "metadata": {},
   "source": [
    "#### BOM\n",
    "\n",
    " - `window`对象的属性和方法\n",
    " - `history`对象\n",
    "    - `forward()` / `back()` / `go()`\n",
    " - `location`对象\n",
    " - `navigator`对象\n",
    " - `screen`对象"
   ]
  },
  {
   "cell_type": "markdown",
   "metadata": {},
   "source": [
    "#### DOM\n",
    "\n",
    " - DOM树\n",
    " - 访问元素\n",
    "    - `getElementById()` / `querySelector()`\n",
    "    - `getElementsByClassName()` / `getElementsByTagName()` / `querySelectorAll()`\n",
    "    - `parentNode` / `previousSibling` / `nextSibling` / `children` / `firstChild` / `lastChild`\n",
    "- 操作元素\n",
    "  - `nodeValue`\n",
    "  - `innerHTML` / `textContent` / `createElement()` / `createTextNode()` / `appendChild()` / `insertBefore()` / `removeChild()`\n",
    "  - `className` / `id` / `hasAttribute()` / `getAttribute()` / `setAttribute()` / `removeAttribute()`\n",
    "- 事件处理\n",
    "  - 事件类型\n",
    "    - UI事件：`load` / `unload` / `error` / `resize` / `scroll`\n",
    "    - 键盘事件：`keydown` / `keyup` / `keypress`\n",
    "    - 鼠标事件：`click` / `dbclick` / `mousedown` / `mouseup` / `mousemove` / `mouseover` / `mouseout`\n",
    "    - 焦点事件：`focus` / `blur`\n",
    "    - 表单事件：`input` / `change` / `submit` / `reset` / `cut` / `copy` / `paste` / `select`\n",
    "  - 事件绑定\n",
    "    - HTML事件处理程序（不推荐使用，因为要做到标签与代码分离）\n",
    "    - 传统的DOM事件处理程序（只能附加一个回调函数）\n",
    "    - 事件监听器（旧的浏览器中不被支持）\n",
    "  - 事件流：事件捕获 / 事件冒泡\n",
    "  - 事件对象（低版本IE中的window.event）\n",
    "    - `target`（有些浏览器使用srcElement）\n",
    "    - `type`\n",
    "    - `cancelable`\n",
    "    - `preventDefault()`\n",
    "    - `stopPropagation()`（低版本IE中的cancelBubble）\n",
    "  - 鼠标事件 - 事件发生的位置\n",
    "    - 屏幕位置：`screenX`和`screenY`\n",
    "    - 页面位置：`pageX`和`pageY`\n",
    "    - 客户端位置：`clientX`和`clientY`\n",
    "  - 键盘事件 - 哪个键被按下了\n",
    "    - `keyCode`属性（有些浏览器使用`which`）\n",
    "    - `String.fromCharCode(event.keyCode)`\n",
    "  - HTML5事件\n",
    "    - `DOMContentLoaded`\n",
    "    - `hashchange`\n",
    "    - `beforeunload`"
   ]
  },
  {
   "cell_type": "markdown",
   "metadata": {},
   "source": [
    "#### JavaScript API\n",
    "\n",
    "- 客户端存储 - `localStorage`和`sessionStorage`\n",
    "\n",
    "  ```JavaScript\n",
    "  localStorage.colorSetting = '#a4509b';\n",
    "  localStorage['colorSetting'] = '#a4509b';\n",
    "  localStorage.setItem('colorSetting', '#a4509b');\n",
    "  ```\n",
    "\n",
    "- 获取位置信息 - `geolocation`\n",
    "\n",
    "  ```JavaScript\n",
    "  navigator.geolocation.getCurrentPosition(function(pos) { \t\t  \n",
    "      console.log(pos.coords.latitude)\n",
    "      console.log(pos.coords.longitude)\n",
    "  })\n",
    "  ```\n",
    "\n",
    "- 从服务器获取数据 - Fetch API\n",
    "- 绘制图形 - `<canvas>`的API\n",
    "- 音视频 - `<audio>`和`<video>`的API"
   ]
  },
  {
   "cell_type": "markdown",
   "metadata": {},
   "source": [
    "### 使用jQuery\n",
    "\n",
    "#### jQuery概述\n",
    "\n",
    "1. Write Less Do More（用更少的代码来完成更多的工作）\n",
    "2. 使用CSS选择器来查找元素（更简单更方便）\n",
    "3. 使用jQuery方法来操作元素（解决浏览器兼容性问题、应用于所有元素并施加多个方法）"
   ]
  },
  {
   "cell_type": "markdown",
   "metadata": {},
   "source": [
    "#### 引入jQuery\n",
    "\n",
    "- 下载jQuery的开发版和压缩版\n",
    "- 从CDN加载jQuery"
   ]
  },
  {
   "cell_type": "markdown",
   "metadata": {},
   "source": [
    "```HTML\n",
    "<script src=\"https://cdn.bootcss.com/jquery/3.3.1/jquery.min.js\"></script>\n",
    "<script>\n",
    "    window.jQuery || \n",
    "        document.write('<script src=\"js/jquery-3.3.1.min.js\"></script>')\n",
    "</script>\n",
    "```\n",
    "\n",
    "#### 查找元素\n",
    "\n",
    "- 选择器\n",
    "  - \\* / element / #id / .class / selector1, selector2\n",
    "  - ancestor descendant / parent>child / previous+next / previous~siblings \n",
    "  "
   ]
  },
  {
   "cell_type": "markdown",
   "metadata": {},
   "source": [
    "- 筛选器\n",
    "  - 基本筛选器：:not(selector) / :first / :last / :even / :odd / :eq(index) / :gt(index) / :lt(index) / :animated / :focus\n",
    "  - 内容筛选器：:contains('…') / :empty / :parent / :has(selector)\n",
    "  - 可见性筛选器：:hidden / :visible\n",
    "  - 子节点筛选器：:nth-child(expr) / :first-child / :last-child / :only-child\n",
    "  - 属性筛选器：[attribute] / [attribute='value'] / [attribute!='value'] / [attribute^='value'] / [attribute$='value'] / [attribute|='value'] / [attribute~='value']\n",
    "  "
   ]
  },
  {
   "cell_type": "markdown",
   "metadata": {},
   "source": [
    "- 表单：:input / :text / :password / :radio / :checkbox / :submit / :image / :reset / :button / :file / :selected / :enabled / :disabled / :checked"
   ]
  },
  {
   "cell_type": "markdown",
   "metadata": {},
   "source": [
    "#### 执行操作\n",
    "\n",
    "- 内容操作\n",
    "  - 获取/修改内容：`html()` / `text()` / `replaceWith()` / `remove()`\n",
    "  - 获取/设置元素：`before()` / `after()` / `prepend()` / `append()` / `remove()` / `clone()` / `unwrap()` / `detach()` / `empty()` / `add()`\n",
    "  - 获取/修改属性：`attr()` / `removeAttr()` / `addClass()` / `removeClass()` / `css()`\n",
    "  - 获取/设置表单值：`val()`\n",
    "- 查找操作\n",
    "  - 查找方法：`find()` /  `parent()` / `children()` / `siblings()` / `next()` / `nextAll()` / `prev()` / `prevAll()`\n",
    "  - 筛选器：`filter()` / `not()` / `has()` / `is()` / `contains()`\n",
    "  - 索引编号：`eq()`\n",
    "- 尺寸和位置\n",
    "  - 尺寸相关：`height()` / `width()` / `innerHeight()` / `innerWidth()` / `outerWidth()` / `outerHeight()`\n",
    "  - 位置相关：`offset()` / `position()` / `scrollLeft()` / `scrollTop()`\n",
    "- 特效和动画\n",
    "  - 基本动画：`show()` / `hide()` / `toggle()`\n",
    "  - 消失出现：`fadeIn()` / `fadeOut()` / `fadeTo()` / `fadeToggle()`\n",
    "  - 滑动效果：`slideDown()` / `slideUp()` / `slideToggle()`\n",
    "  - 自定义：`delay()` / `stop()` / `animate()`\n",
    "- 事件\n",
    "  - 文档加载：`ready()` / `load()`\n",
    "  - 用户交互：`on()` / `off()`"
   ]
  },
  {
   "cell_type": "markdown",
   "metadata": {},
   "source": [
    "#### 链式操作\n",
    "\n",
    "#### 检测页面是否可用\n",
    "\n",
    "```HTML\n",
    "<script>\n",
    "    $(document).ready(function() {\n",
    "        \n",
    "    });\n",
    "</script>\n",
    "```\n",
    "\n",
    "```HTML\n",
    "<script>\n",
    "    $(function() {\n",
    "        \n",
    "    });\n",
    "</script>\n",
    "```"
   ]
  },
  {
   "cell_type": "markdown",
   "metadata": {},
   "source": [
    "#### jQuery插件\n",
    "\n",
    "- jQuery Validation\n",
    "- jQuery Treeview\n",
    "- jQuery Autocomplete\n",
    "- jQuery UI"
   ]
  },
  {
   "cell_type": "markdown",
   "metadata": {},
   "source": [
    "#### 避免和其他库的冲突\n",
    "\n",
    "先引入其他库再引入jQuery的情况。\n",
    "\n",
    "```HTML\n",
    "<script src=\"other.js\"></script>\n",
    "<script src=\"jquery.js\"></script>\n",
    "<script>\n",
    "\tjQuery.noConflict();\n",
    "    jQuery(function() {\n",
    "        jQuery('div').hide();\n",
    "    });\n",
    "</script>\n",
    "```"
   ]
  },
  {
   "cell_type": "markdown",
   "metadata": {},
   "source": [
    "先引入jQuery再引入其他库的情况。\n",
    "\n",
    "```HTML\n",
    "\n",
    "<script src=\"jquery.js\"></script>\n",
    "<script src=\"other.js\"></script>\n",
    "<script>\n",
    "    jQuery(function() {\n",
    "        jQuery('div').hide();\n",
    "    });\n",
    "</script>\n",
    "```"
   ]
  },
  {
   "cell_type": "markdown",
   "metadata": {},
   "source": [
    "#### 使用Ajax\n",
    "\n",
    "Ajax是一种在无需重新加载整个网页的情况下，能够更新部分网页的技术。\n",
    "\n",
    "- 原生的Ajax\n",
    "- 基于jQuery的Ajax\n",
    "  - 加载内容\n",
    "  - 提交表单"
   ]
  },
  {
   "cell_type": "markdown",
   "metadata": {},
   "source": [
    "### 前端框架\n",
    "\n",
    "#### 渐进式框架 - [Vue.js](<https://cn.vuejs.org/>)\n",
    "\n",
    "前后端分离开发（前端渲染）必选框架。"
   ]
  },
  {
   "cell_type": "markdown",
   "metadata": {},
   "source": [
    "##### 快速上手\n",
    "\n",
    "1. 引入Vue的JavaScript文件，我们仍然推荐从CDN服务器加载它。\n",
    "\n",
    "   ```HTML\n",
    "   <script src=\"https://cdn.jsdelivr.net/npm/vue\"></script>\n",
    "   ```"
   ]
  },
  {
   "cell_type": "markdown",
   "metadata": {},
   "source": [
    "2. 数据绑定（声明式渲染 ）。\n",
    "\n",
    "   ```HTML\n",
    "   <div id=\"app\">\n",
    "   \t<h1>{{ product }}库存信息</h1>\n",
    "   </div>\n",
    "   \n",
    "   <script src=\"https://cdn.jsdelivr.net/npm/vue\"></script>\n",
    "   <script>\n",
    "   \tconst app = new Vue({\n",
    "   \t\tel: '#app',\n",
    "   \t\tdata: {\n",
    "   \t\t\tproduct: 'iPhone X'\n",
    "   \t\t}\n",
    "   \t});\n",
    "   </script>\n",
    "   ```"
   ]
  },
  {
   "cell_type": "markdown",
   "metadata": {},
   "source": [
    "3. 条件与循环。\n",
    "\n",
    "   ```HTML\n",
    "   <div id=\"app\">\n",
    "   \t<h1>库存信息</h1>\n",
    "       <hr>\n",
    "   \t<ul>\n",
    "   \t\t<li v-for=\"product in products\">\n",
    "   \t\t\t{{ product.name }} - {{ product.quantity }}\n",
    "   \t\t\t<span v-if=\"product.quantity === 0\">\n",
    "   \t\t\t\t已经售罄\n",
    "   \t\t\t</span>\n",
    "   \t\t</li>\n",
    "   \t</ul>\n",
    "   </div>\n",
    "   \n",
    "   <script src=\"https://cdn.jsdelivr.net/npm/vue\"></script>\n",
    "   <script>\n",
    "   \tconst app = new Vue({\n",
    "   \t\tel: '#app',\n",
    "   \t\tdata: {\n",
    "   \t\t\tproducts: [\n",
    "   \t\t\t\t{\"id\": 1, \"name\": \"iPhone X\", \"quantity\": 20},\n",
    "   \t\t\t\t{\"id\": 2, \"name\": \"华为 Mate20\", \"quantity\": 0},\n",
    "   \t\t\t\t{\"id\": 3, \"name\": \"小米 Mix3\", \"quantity\": 50}\n",
    "   \t\t\t]\n",
    "   \t\t}\n",
    "   \t});\n",
    "   </script>\n",
    "   ```"
   ]
  },
  {
   "cell_type": "markdown",
   "metadata": {},
   "source": [
    "4. 计算属性。\n",
    "\n",
    "   ```HTML\n",
    "   <div id=\"app\">\n",
    "   \t<h1>库存信息</h1>\n",
    "   \t<hr>\n",
    "   \t<ul>\n",
    "   \t\t<li v-for=\"product in products\">\n",
    "   \t\t\t{{ product.name }} - {{ product.quantity }}\n",
    "   \t\t\t<span v-if=\"product.quantity === 0\">\n",
    "   \t\t\t\t已经售罄\n",
    "   \t\t\t</span>\n",
    "   \t\t</li>\n",
    "   \t</ul>\n",
    "   \t<h2>库存总量：{{ totalQuantity }}台</h2>\n",
    "   </div>\n",
    "   \n",
    "   <script src=\"https://cdn.jsdelivr.net/npm/vue\"></script>\n",
    "   <script>\n",
    "   \tconst app = new Vue({\n",
    "   \t\tel: '#app',\n",
    "   \t\tdata: {\n",
    "   \t\t\tproducts: [\n",
    "   \t\t\t\t{\"id\": 1, \"name\": \"iPhone X\", \"quantity\": 20},\n",
    "   \t\t\t\t{\"id\": 2, \"name\": \"华为 Mate20\", \"quantity\": 0},\n",
    "   \t\t\t\t{\"id\": 3, \"name\": \"小米 Mix3\", \"quantity\": 50}\n",
    "   \t\t\t]\n",
    "   \t\t},\n",
    "   \t\tcomputed: {\n",
    "   \t\t\ttotalQuantity() {\n",
    "   \t\t\t\treturn this.products.reduce((sum, product) => {\n",
    "   \t\t\t\t\treturn sum + product.quantity\n",
    "   \t\t\t\t}, 0);\n",
    "   \t\t\t}\n",
    "   \t\t}\n",
    "   \t});\n",
    "   </script>\n",
    "   ```"
   ]
  },
  {
   "cell_type": "markdown",
   "metadata": {},
   "source": [
    "5. 处理事件。\n",
    "\n",
    "   ```HTML\n",
    "   <div id=\"app\">\n",
    "   \t<h1>库存信息</h1>\n",
    "   \t<hr>\n",
    "   \t<ul>\n",
    "   \t\t<li v-for=\"product in products\">\n",
    "   \t\t\t{{ product.name }} - {{ product.quantity }}\n",
    "   \t\t\t<span v-if=\"product.quantity === 0\">\n",
    "   \t\t\t\t已经售罄\n",
    "   \t\t\t</span>\n",
    "   \t\t\t<button @click=\"product.quantity += 1\">\n",
    "   \t\t\t\t增加库存\n",
    "   \t\t\t</button>\n",
    "   \t\t</li>\n",
    "   \t</ul>\n",
    "   \t<h2>库存总量：{{ totalQuantity }}台</h2>\n",
    "   </div>\n",
    "   \n",
    "   <script src=\"https://cdn.jsdelivr.net/npm/vue\"></script>\n",
    "   <script>\n",
    "   \tconst app = new Vue({\n",
    "   \t\tel: '#app',\n",
    "   \t\tdata: {\n",
    "   \t\t\tproducts: [\n",
    "   \t\t\t\t{\"id\": 1, \"name\": \"iPhone X\", \"quantity\": 20},\n",
    "   \t\t\t\t{\"id\": 2, \"name\": \"华为 Mate20\", \"quantity\": 0},\n",
    "   \t\t\t\t{\"id\": 3, \"name\": \"小米 Mix3\", \"quantity\": 50}\n",
    "   \t\t\t]\n",
    "   \t\t},\n",
    "   \t\tcomputed: {\n",
    "   \t\t\ttotalQuantity() {\n",
    "   \t\t\t\treturn this.products.reduce((sum, product) => {\n",
    "   \t\t\t\t\treturn sum + product.quantity\n",
    "   \t\t\t\t}, 0);\n",
    "   \t\t\t}\n",
    "   \t\t}\n",
    "   \t});\n",
    "   </script>\n",
    "   ```"
   ]
  },
  {
   "cell_type": "markdown",
   "metadata": {},
   "source": [
    "6. 用户输入。\n",
    "\n",
    "   ```HTML\n",
    "   <div id=\"app\">\n",
    "   \t<h1>库存信息</h1>\n",
    "   \t<hr>\n",
    "   \t<ul>\n",
    "   \t\t<li v-for=\"product in products\">\n",
    "   \t\t\t{{ product.name }} - \n",
    "   \t\t\t<input type=\"number\" v-model.number=\"product.quantity\" min=\"0\">\n",
    "   \t\t\t<span v-if=\"product.quantity === 0\">\n",
    "   \t\t\t\t已经售罄\n",
    "   \t\t\t</span>\n",
    "   \t\t\t<button @click=\"product.quantity += 1\">\n",
    "   \t\t\t\t增加库存\n",
    "   \t\t\t</button>\n",
    "   \t\t</li>\n",
    "   \t</ul>\n",
    "   \t<h2>库存总量：{{ totalQuantity }}台</h2>\n",
    "   </div>\n",
    "   \n",
    "   <script src=\"https://cdn.jsdelivr.net/npm/vue\"></script>\n",
    "   <script>\n",
    "   \tconst app = new Vue({\n",
    "   \t\tel: '#app',\n",
    "   \t\tdata: {\n",
    "   \t\t\tproducts: [\n",
    "   \t\t\t\t{\"id\": 1, \"name\": \"iPhone X\", \"quantity\": 20},\n",
    "   \t\t\t\t{\"id\": 2, \"name\": \"华为 Mate20\", \"quantity\": 0},\n",
    "   \t\t\t\t{\"id\": 3, \"name\": \"小米 Mix3\", \"quantity\": 50}\n",
    "   \t\t\t]\n",
    "   \t\t},\n",
    "   \t\tcomputed: {\n",
    "   \t\t\ttotalQuantity() {\n",
    "   \t\t\t\treturn this.products.reduce((sum, product) => {\n",
    "   \t\t\t\t\treturn sum + product.quantity\n",
    "   \t\t\t\t}, 0);\n",
    "   \t\t\t}\n",
    "   \t\t}\n",
    "   \t});\n",
    "   </script>\n",
    "   ```"
   ]
  },
  {
   "cell_type": "markdown",
   "metadata": {},
   "source": [
    "7. 通过网络加载JSON数据。\n",
    "\n",
    "   ```HTML\n",
    "   <div id=\"app\">\n",
    "   \t<h2>库存信息</h2>\n",
    "   \t<ul>\n",
    "   \t\t<li v-for=\"product in products\">\n",
    "   \t\t\t{{ product.name }} - {{ product.quantity }}\n",
    "   \t\t\t<span v-if=\"product.quantity === 0\">\n",
    "   \t\t\t\t已经售罄\n",
    "   \t\t\t</span>\n",
    "   \t\t</li>\n",
    "   \t</ul>\n",
    "   </div>\n",
    "   \n",
    "   <script src=\"https://cdn.jsdelivr.net/npm/vue\"></script>\n",
    "   <script>\n",
    "   \tconst app = new Vue({\n",
    "   \t\tel: '#app',\n",
    "   \t\tdata: {\n",
    "   \t\t\tproducts: []\n",
    "   \t\t}，\n",
    "   \t\tcreated() {\n",
    "   \t\t\tfetch('https://jackfrued.top/api/products')\n",
    "   \t\t\t\t.then(response => response.json())\n",
    "   \t\t\t\t.then(json => {\n",
    "   \t\t\t\t\tthis.products = json\n",
    "   \t\t\t\t});\n",
    "   \t\t}\n",
    "   \t});\n",
    "   </script>\n",
    "   ```"
   ]
  },
  {
   "cell_type": "markdown",
   "metadata": {},
   "source": [
    "##### 使用脚手架 - vue-cli\n",
    "\n",
    "Vue为商业项目开发提供了非常便捷的脚手架工具vue-cli，通过工具可以省去手工配置开发环境、测试环境和运行环境的步骤，让开发者只需要关注要解决的问题。\n",
    "\n",
    "1. 安装脚手架。\n",
    "2. 创建项目。\n",
    "3. 安装依赖包。\n",
    "4. 运行项目。"
   ]
  },
  {
   "cell_type": "markdown",
   "metadata": {},
   "source": [
    "#### UI框架 - [Element](<http://element-cn.eleme.io/#/zh-CN>)\n",
    "\n",
    "基于Vue 2.0的桌面端组件库，用于构造用户界面，支持响应式布局。"
   ]
  },
  {
   "cell_type": "markdown",
   "metadata": {},
   "source": [
    "1. 引入Element的CSS和JavaScript文件。\n",
    "\n",
    "   ```HTML\n",
    "   <!-- 引入样式 -->\n",
    "   <link rel=\"stylesheet\" href=\"https://unpkg.com/element-ui/lib/theme-chalk/index.css\">\n",
    "   <!-- 引入组件库 -->\n",
    "   <script src=\"https://unpkg.com/element-ui/lib/index.js\"></script>\n",
    "   ```"
   ]
  },
  {
   "cell_type": "markdown",
   "metadata": {},
   "source": [
    "2. 一个简单的例子。\n",
    "\n",
    "   ```HTML\n",
    "   <!DOCTYPE html>\n",
    "   <html>\n",
    "   \t<head>\n",
    "   \t\t<meta charset=\"UTF-8\">\n",
    "   \t\t<link rel=\"stylesheet\" href=\"https://unpkg.com/element-ui/lib/theme-chalk/index.css\">\n",
    "   \t</head>\n",
    "   \t<body>\n",
    "   \t\t<div id=\"app\">\n",
    "   \t\t\t<el-button @click=\"visible = true\">点我</el-button>\n",
    "   \t\t\t<el-dialog :visible.sync=\"visible\" title=\"Hello world\">\n",
    "   \t\t\t\t<p>开始使用Element吧</p>\n",
    "   \t\t\t</el-dialog>\n",
    "               </div>\n",
    "   \t</body>\n",
    "   \t<script src=\"https://unpkg.com/vue/dist/vue.js\"></script>\n",
    "   \t<script src=\"https://unpkg.com/element-ui/lib/index.js\"></script>\n",
    "   \t<script>\n",
    "   \t\tnew Vue({\n",
    "   \t\t\tel: '#app',\n",
    "   \t\t\tdata: {\n",
    "   \t\t\t\tvisible: false,\n",
    "   \t\t\t}\n",
    "   \t\t})\n",
    "   \t</script>\n",
    "   </html>\n",
    "   ```"
   ]
  },
  {
   "cell_type": "markdown",
   "metadata": {},
   "source": [
    "3. 使用组件。\n",
    "\n",
    "   ```HTML\n",
    "   <!DOCTYPE html>\n",
    "   <html>\n",
    "   \t<head>\n",
    "   \t\t<meta charset=\"UTF-8\">\n",
    "   \t\t<link rel=\"stylesheet\" href=\"https://unpkg.com/element-ui/lib/theme-chalk/index.css\">\n",
    "   \t</head>\n",
    "   \t<body>\n",
    "   \t\t<div id=\"app\">\n",
    "   \t\t\t<el-table :data=\"tableData\" stripe style=\"width: 100%\">\n",
    "   \t\t\t\t<el-table-column prop=\"date\" label=\"日期\" width=\"180\">\n",
    "   \t\t\t\t</el-table-column>\n",
    "   \t\t\t\t<el-table-column prop=\"name\" label=\"姓名\" width=\"180\">\n",
    "   \t\t\t\t</el-table-column>\n",
    "   \t\t\t\t<el-table-column prop=\"address\" label=\"地址\">\n",
    "   \t\t\t\t</el-table-column>\n",
    "   \t\t\t</el-table>\n",
    "   \t\t</div>\n",
    "   \t</body>\n",
    "   \t<script src=\"https://unpkg.com/vue/dist/vue.js\"></script>\n",
    "   \t<script src=\"https://unpkg.com/element-ui/lib/index.js\"></script>\n",
    "   \t<script>\n",
    "   \t\tnew Vue({\n",
    "   \t\t\tel: '#app',\n",
    "   \t\t\tdata: {\n",
    "   \t\t\t\ttableData:  [\n",
    "   \t\t\t\t\t{\n",
    "   \t\t\t\t\t\tdate: '2016-05-02',\n",
    "   \t\t\t\t\t\tname: '王一霸',\n",
    "   \t\t\t\t\t\taddress: '上海市普陀区金沙江路 1518 弄'\n",
    "   \t\t\t\t\t}, \n",
    "   \t\t\t\t\t{\n",
    "   \t\t\t\t\t\tdate: '2016-05-04',\n",
    "   \t\t\t\t\t\tname: '刘二狗',\n",
    "   \t\t\t\t\t\taddress: '上海市普陀区金沙江路 1517 弄'\n",
    "   \t\t\t\t\t}, \n",
    "   \t\t\t\t\t{\n",
    "   \t\t\t\t\t\tdate: '2016-05-01',\n",
    "   \t\t\t\t\t\tname: '杨三萌',\n",
    "   \t\t\t\t\t\taddress: '上海市普陀区金沙江路 1519 弄'\n",
    "   \t\t\t\t\t}, \n",
    "   \t\t\t\t\t{\n",
    "   \t\t\t\t\t\tdate: '2016-05-03',\n",
    "   \t\t\t\t\t\tname: '陈四吹',\n",
    "   \t\t\t\t\t\taddress: '上海市普陀区金沙江路 1516 弄'\n",
    "   \t\t\t\t\t}\n",
    "   \t\t\t\t]\n",
    "   \t\t\t}\n",
    "   \t\t})\n",
    "   \t</script>\n",
    "   </html>\n",
    "   ```"
   ]
  },
  {
   "cell_type": "markdown",
   "metadata": {},
   "source": [
    "#### 报表框架 - [ECharts](<https://echarts.baidu.com>)\n",
    "\n",
    "百度出品的开源可视化库，常用于生成各种类型的报表。\n",
    "![](./res/baidu_echarts.png)"
   ]
  },
  {
   "cell_type": "markdown",
   "metadata": {},
   "source": [
    "#### 基于弹性盒子的CSS框架 - [Bulma](<https://bulma.io/>)\n",
    "\n",
    "Bulma是一个基于Flexbox的现代化的CSS框架，其初衷就是移动优先（Mobile First），模块化设计，可以轻松用来实现各种简单或者复杂的内容布局，即使不懂CSS的开发者也能够使用它定制出漂亮的页面。"
   ]
  },
  {
   "cell_type": "markdown",
   "metadata": {},
   "source": [
    "```HTML\n",
    "<!DOCTYPE html>\n",
    "<html lang=\"en\">\n",
    "<head>\n",
    "\t<meta charset=\"UTF-8\">\n",
    "\t<title>Bulma</title>\n",
    "\t<link href=\"https://cdn.bootcss.com/bulma/0.7.4/css/bulma.min.css\" rel=\"stylesheet\">\n",
    "\t<style type=\"text/css\">\n",
    "\t\tdiv { margin-top: 10px; }\n",
    "\t\t.column { color: #fff; background-color: #063; margin: 10px 10px; text-align: center; }\n",
    "\t</style>\n",
    "</head>\n",
    "<body>\n",
    "\t<div class=\"columns\">\n",
    "\t\t<div class=\"column\">1</div>\n",
    "\t\t<div class=\"column\">2</div>\n",
    "\t\t<div class=\"column\">3</div>\n",
    "\t\t<div class=\"column\">4</div>\n",
    "\t</div>\n",
    "\t<div>\n",
    "\t\t<a class=\"button is-primary\">Primary</a>\n",
    "\t\t<a class=\"button is-link\">Link</a>\n",
    "\t\t<a class=\"button is-info\">Info</a>\n",
    "\t\t<a class=\"button is-success\">Success</a>\n",
    "\t\t<a class=\"button is-warning\">Warning</a>\n",
    "\t\t<a class=\"button is-danger\">Danger</a>\n",
    "\t</div>\n",
    "\t<div>\n",
    "\t\t<progress class=\"progress is-danger is-medium\" max=\"100\">60%</progress>\n",
    "\t</div>\n",
    "\t<div>\n",
    "\t\t<table class=\"table is-hoverable\">\n",
    "\t\t\t<tr>\n",
    "\t\t\t\t<th>One</th>\n",
    "\t\t\t\t<th>Two</th>\n",
    "\t\t\t</tr>\n",
    "\t\t\t<tr>\n",
    "\t\t\t\t<td>Three</td>\n",
    "\t\t\t\t<td>Four</td>\n",
    "\t\t\t</tr>\n",
    "\t\t\t<tr>\n",
    "\t\t\t\t<td>Five</td>\n",
    "\t\t\t\t<td>Six</td>\n",
    "\t\t\t</tr>\n",
    "\t\t\t<tr>\n",
    "\t\t\t\t<td>Seven</td>\n",
    "\t\t\t\t<td>Eight</td>\n",
    "\t\t\t</tr>\n",
    "\t\t\t<tr>\n",
    "\t\t\t\t<td>Nine</td>\n",
    "\t\t\t\t<td>Ten</td>\n",
    "\t\t\t</tr>\n",
    "\t\t\t<tr>\n",
    "\t\t\t\t<td>Eleven</td>\n",
    "\t\t\t\t<td>Twelve</td>\n",
    "\t\t\t</tr>\n",
    "\t\t</table>\n",
    "\t</div>\n",
    "</body>\n",
    "</html>\n",
    "```"
   ]
  },
  {
   "cell_type": "markdown",
   "metadata": {},
   "source": [
    "#### 响应式布局框架 - [Bootstrap](<http://www.bootcss.com/>)\n",
    "\n",
    "用于快速开发Web应用程序的前端框架，支持响应式布局。"
   ]
  },
  {
   "cell_type": "markdown",
   "metadata": {},
   "source": [
    "1. 特点\n",
    "   - 支持主流的浏览器和移动设备\n",
    "   - 容易上手\n",
    "   - 响应式设计"
   ]
  },
  {
   "cell_type": "markdown",
   "metadata": {},
   "source": [
    "2. 内容\n",
    "   - 网格系统\n",
    "   - 封装的CSS\n",
    "   - 现成的组件\n",
    "   - JavaScript插件"
   ]
  },
  {
   "cell_type": "markdown",
   "metadata": {},
   "source": [
    "3. 可视化\n",
    "\n",
    "   ![](./res/bootstrap-layoutit.png)    "
   ]
  },
  {
   "cell_type": "markdown",
   "metadata": {},
   "source": [
    "## 玩转Linux操作系统\n",
    "\n",
    "> **说明**：本文中对Linux命令的讲解都是基于名为CentOS的Linux发行版本，我自己使用的是阿里云服务器，系统版本为CentOS Linux release 7.6.1810。不同的Linux发行版本在Shell命令和工具程序上会有一些差别，但是这些差别是很小的。"
   ]
  },
  {
   "cell_type": "markdown",
   "metadata": {},
   "source": [
    "### 操作系统发展史\n",
    "\n",
    "只有硬件没有软件的计算机系统被称之为“裸机”，我们很难用“裸机”来完成计算机日常的工作（如存储和运算），所以必须用特定的软件来控制硬件的工作。最靠近计算机硬件的软件是系统软件，其中最为重要的就是“操作系统”。“操作系统”是控制和管理整个计算机硬件和软件资源、实现资源分配和任务调配、为系统用户以及其他软件提供接口和环境的程序的集合。"
   ]
  },
  {
   "cell_type": "markdown",
   "metadata": {},
   "source": [
    "#### 没有操作系统（手工操作）\n",
    "\n",
    "在计算机诞生之初没有操作系统的年代，人们先把程序纸带（或卡片）装上计算机，然后启动输入机把程序送入计算机，接着通过控制台开关启动程序运行。当程序执行完毕，打印机输出计算的结果，用户卸下并取走纸带（或卡片）。第二个用户上机，重复同样的步骤。在整个过程中用户独占机器，CPU等待手工操作，资源利用率极低。"
   ]
  },
  {
   "cell_type": "markdown",
   "metadata": {},
   "source": [
    "#### 批处理系统\n",
    "\n",
    "首先启动计算机上的一个监督程序，在监督程序的控制下，计算机能够自动的、成批的处理一个或多个用户的作业。完成一批作业后，监督程度又从输入机读取作业存入磁带机。按照上面的步骤重复处理任务。监督程序不停的处理各个作业，实现了作业的自动转接，减少了作业的建立时间和手工操作时间，提高了计算机资源的利用率。 批处理系统又可以分为单道批处理系统、多道批处理系统、联机批处理系统、脱机批处理系统。"
   ]
  },
  {
   "cell_type": "markdown",
   "metadata": {},
   "source": [
    "#### 分时系统和实时系统\n",
    "\n",
    "分时系统是把处理器的运行时间分成很短的时间片，按时间片轮流把处理机分配给各联机作业使用。 若某个作业在分配给它的时间片内不能完成其计算，则该作业暂时中断，把处理机让给另一作业使用，等待下一轮调度时再继续其运行。由于计算机速度很快，作业运行轮转得很快，给每个用户的感觉是他独占了一台计算机。而每个用户可以通过自己的终端向系统发出各种操作控制命令，在充分的人机交互情况下，完成作业的运行。为了解决分时系统不能及时响应用户指令的情况，又出现了能够在在严格的时间范围内完成事件处理，及时响应随机外部事件的实时系统。"
   ]
  },
  {
   "cell_type": "markdown",
   "metadata": {},
   "source": [
    "#### 通用操作系统\n",
    "\n",
    "1. 1960s：IBM的System/360系列的机器有了统一的操作系统OS/360。\n",
    "\n",
    "2. 1965年：AT&T的贝尔实验室加入GE和MIT的合作计划开始开发MULTICS。\n",
    "\n",
    "3. 1969年：MULTICS项目失败，Ken Tompson赋闲在家，为了玩“Space Travel”游戏用汇编语言在当时已经被淘汰的PDP-7上开发了Unics。\n",
    "\n",
    "   > 注：很难想象，Unix这么伟大的系统，居然是一个赋闲在家的程序员（关键是老婆回娘家还带上了孩子）在一台被淘汰的设备上为了玩游戏开发出来的。\n",
    "\n",
    "4. 1970年~1971年：Ken Tompson和Dennis Ritchie用B语言在PDP-11上重写了Unics，并在Brian Kernighan的建议下将其更名为Unix。\n",
    "\n",
    "   ![](./res/ken-and-dennis-pdp-11.png)\n",
    "\n",
    "5. 1972年~1973年：Dennis Ritchie发明了C语言来取代可移植性较差的B语言，并开启了用C语言重写Unix的工作。\n",
    "\n",
    "6. 1974年：Unix推出了里程碑意义的第5版，几乎完全用C语言来实现。\n",
    "\n",
    "7. 1979年：从Unix第7版开始，AT&T发布新的使用条款，将Unix私有化。\n",
    "\n",
    "8. 1987年：Andrew S. Tanenbaum教授为了能在课堂上为学生讲解操作系统运作的细节，决定在不使用任何AT&T的源代码前提下，自行开发与Unix兼容的操作系统以避免版权上的争议，该系统被命名为Minix。\n",
    "\n",
    "   ![](./res/andrew.jpg)\n",
    "\n",
    "9. 1991年：Linus Torvalds就读于芬兰赫尔辛基大学期间，尝试在Minix上做一些开发工作，但因为Minix只是作为教学用途的操作系统，功能并不强大，为了方便在学校的新闻组和邮件系统中读写和下载文件，Linus编写了磁盘驱动程序和文件系统，这些东西形成了Linux系统内核的雏形。\n",
    "\n",
    "   ![](./res/linus.png)\n",
    "\n",
    "下图是Unix操作系统家族的图谱。\n",
    "\n",
    "![](./res/history-of-unix.png)"
   ]
  },
  {
   "cell_type": "markdown",
   "metadata": {},
   "source": [
    "### Linux概述\n",
    "\n",
    "Linux是一个通用操作系统。一个操作系统要负责任务调度、内存分配、处理外围设备I/O等操作。操作系统通常由内核（运行其他程序，管理像磁盘、打印机等硬件设备的核心程序）和系统程序（设备驱动、底层库、shell、服务程序等）两部分组成。"
   ]
  },
  {
   "cell_type": "markdown",
   "metadata": {},
   "source": [
    "Linux内核是芬兰人Linus Torvalds开发的，于1991年9月发布。而Linux操作系统作为Internet时代的产物，它是由全世界许多开发者共同合作开发的，是一个自由的操作系统（注意自由和免费并不是同一个概念，想了解二者的差别可以[点击这里](https://www.debian.org/intro/free)）。"
   ]
  },
  {
   "cell_type": "markdown",
   "metadata": {},
   "source": [
    "### Linux系统优点\n",
    "\n",
    "1. 通用操作系统，不跟特定的硬件绑定。\n",
    "2. 用C语言编写，可移植性强，有内核编程接口。\n",
    "3. 支持多用户和多任务，支持安全的分层文件系统。\n",
    "4. 大量的实用程序，完善的网络功能以及强大的支持文档。\n",
    "5. 可靠的安全性和良好的稳定性，对开发者更友好。"
   ]
  },
  {
   "cell_type": "markdown",
   "metadata": {},
   "source": [
    "### Linux系统发行版本\n",
    "\n",
    "1. [Redhat](https://www.redhat.com/en)\n",
    "2. [Ubuntu](https://www.ubuntu.com/)\n",
    "3. [CentOS](https://www.centos.org/)\n",
    "4. [Fedora](https://getfedora.org/)\n",
    "5. [Debian](https://www.debian.org/)\n",
    "6. [openSUSE](https://www.opensuse.org/)"
   ]
  },
  {
   "cell_type": "markdown",
   "metadata": {},
   "source": [
    "### 基础命令\n",
    "\n",
    "Linux系统的命令通常都是如下所示的格式：\n",
    "\n",
    "```Shell\n",
    "命令名称 [命名参数] [命令对象]\n",
    "```"
   ]
  },
  {
   "cell_type": "markdown",
   "metadata": {},
   "source": [
    "1. 获取登录信息 - **w** / **who** / **last**/ **lastb**。\n",
    "\n",
    "   ```Shell\n",
    "   [root ~]# w\n",
    "    23:31:16 up 12:16,  2 users,  load average: 0.00, 0.01, 0.05\n",
    "   USER     TTY      FROM             LOGIN@   IDLE   JCPU   PCPU WHAT\n",
    "   root     pts/0    182.139.66.250   23:03    4.00s  0.02s  0.00s w\n",
    "   jackfrue pts/1    182.139.66.250   23:26    3:56   0.00s  0.00s -bash\n",
    "   [root ~]# who\n",
    "   root     pts/0        2018-04-12 23:03 (182.139.66.250)\n",
    "   jackfrued pts/1        2018-04-12 23:26 (182.139.66.250)\n",
    "   [root ~]# who am i\n",
    "   root     pts/0        2018-04-12 23:03 (182.139.66.250)\n",
    "   [root ~]# who mom likes\n",
    "   root     pts/0        2018-04-12 23:03 (182.139.66.250)\n",
    "   [root ~]# last\n",
    "   root     pts/0        117.136.63.184   Sun May 26 18:57   still logged in   \n",
    "   reboot   system boot  3.10.0-957.10.1. Mon May 27 02:52 - 19:10  (-7:-42)   \n",
    "   root     pts/4        117.136.63.184   Sun May 26 18:51 - crash  (08:01)    \n",
    "   root     pts/4        117.136.63.184   Sun May 26 18:49 - 18:49  (00:00)    \n",
    "   root     pts/3        117.136.63.183   Sun May 26 18:35 - crash  (08:17)    \n",
    "   root     pts/2        117.136.63.183   Sun May 26 18:34 - crash  (08:17)    \n",
    "   root     pts/0        117.136.63.183   Sun May 26 18:10 - crash  (08:42)    \n",
    "   ```"
   ]
  },
  {
   "cell_type": "markdown",
   "metadata": {},
   "source": [
    "2. 查看自己使用的Shell - **ps**。\n",
    "\n",
    "   Shell也被称为“壳”或“壳程序”，它是用户与操作系统内核交流的翻译官，简单的说就是人与计算机交互的界面和接口。目前很多Linux系统默认的Shell都是bash（<u>B</u>ourne <u>A</u>gain <u>SH</u>ell），因为它可以使用tab键进行命令和路径补全、可以保存历史命令、可以方便的配置环境变量以及执行批处理操作。\n",
    "\n",
    "   ```Shell\n",
    "   [root ~]# ps\n",
    "     PID TTY          TIME CMD\n",
    "    3531 pts/0    00:00:00 bash\n",
    "    3553 pts/0    00:00:00 ps\n",
    "   ```"
   ]
  },
  {
   "cell_type": "markdown",
   "metadata": {},
   "source": [
    "3. 查看命令的说明和位置 - **whatis** / **which** / **whereis**。\n",
    "\n",
    "   ```Shell\n",
    "   [root ~]# whatis ps\n",
    "   ps (1)        - report a snapshot of the current processes.\n",
    "   [root ~]# whatis python\n",
    "   python (1)    - an interpreted, interactive, object-oriented programming language\n",
    "   [root ~]# whereis ps\n",
    "   ps: /usr/bin/ps /usr/share/man/man1/ps.1.gz\n",
    "   [root ~]# whereis python\n",
    "   python: /usr/bin/python /usr/bin/python2.7 /usr/lib/python2.7 /usr/lib64/python2.7 /etc/python /usr/include/python2.7 /usr/share/man/man1/python.1.gz\n",
    "   [root ~]# which ps\n",
    "   /usr/bin/ps\n",
    "   [root ~]# which python\n",
    "   /usr/bin/python\n",
    "   ```"
   ]
  },
  {
   "cell_type": "markdown",
   "metadata": {},
   "source": [
    "4. 清除屏幕上显示的内容 - **clear**。"
   ]
  },
  {
   "cell_type": "markdown",
   "metadata": {},
   "source": [
    "5. 查看帮助文档 - **man** / **info** / **--help** / **apropos**。\n",
    "   ```Shell\n",
    "   [root@izwz97tbgo9lkabnat2lo8z ~]# ps --help\n",
    "   Usage:\n",
    "    ps [options]\n",
    "    Try 'ps --help <simple|list|output|threads|misc|all>'\n",
    "     or 'ps --help <s|l|o|t|m|a>'\n",
    "    for additional help text.\n",
    "   For more details see ps(1).\n",
    "   [root@izwz97tbgo9lkabnat2lo8z ~]# man ps\n",
    "   PS(1)                                User Commands                                PS(1)\n",
    "   NAME\n",
    "          ps - report a snapshot of the current processes.\n",
    "   SYNOPSIS\n",
    "          ps [options]\n",
    "   DESCRIPTION\n",
    "   ...\n",
    "   ```"
   ]
  },
  {
   "cell_type": "markdown",
   "metadata": {},
   "source": [
    "6. 查看系统和主机名 - **uname** / **hostname**。\n",
    "\n",
    "   ```Shell\n",
    "   [root@izwz97tbgo9lkabnat2lo8z ~]# uname\n",
    "   Linux\n",
    "   [root@izwz97tbgo9lkabnat2lo8z ~]# hostname\n",
    "   izwz97tbgo9lkabnat2lo8z\n",
    "   [root@iZwz97tbgo9lkabnat2lo8Z ~]# cat /etc/centos-release\n",
    "   CentOS Linux release 7.6.1810 (Core)\n",
    "   ```"
   ]
  },
  {
   "cell_type": "markdown",
   "metadata": {},
   "source": [
    "   > 说明：`cat`是连接文件内容并打印到标准输出的命令，后面会讲到该命令；`/etc`是Linux系统上的一个非常重要的目录，它保存了很多的配置文件；`centos-release`是该目录下的一个文件，因为我自己使用的Linux发行版本是CentOS 7.6，因此这里会有一个这样的文件。"
   ]
  },
  {
   "cell_type": "markdown",
   "metadata": {},
   "source": [
    "7. 时间和日期 - **date** / **cal**。\n",
    "\n",
    "   ```Shell\n",
    "   [root@iZwz97tbgo9lkabnat2lo8Z ~]# date\n",
    "   Wed Jun 20 12:53:19 CST 2018\n",
    "   [root@iZwz97tbgo9lkabnat2lo8Z ~]# cal\n",
    "         June 2018\n",
    "   Su Mo Tu We Th Fr Sa\n",
    "                   1  2\n",
    "    3  4  5  6  7  8  9\n",
    "   10 11 12 13 14 15 16\n",
    "   17 18 19 20 21 22 23\n",
    "   24 25 26 27 28 29 30\n",
    "   [root@iZwz97tbgo9lkabnat2lo8Z ~]# cal 5 2017\n",
    "         May 2017\n",
    "   Su Mo Tu We Th Fr Sa\n",
    "       1  2  3  4  5  6\n",
    "    7  8  9 10 11 12 13\n",
    "   14 15 16 17 18 19 20\n",
    "   21 22 23 24 25 26 27\n",
    "   28 29 30 31\n",
    "   ```"
   ]
  },
  {
   "cell_type": "markdown",
   "metadata": {},
   "source": [
    "8. 重启和关机 - **reboot** / **shutdown**。\n",
    "\n",
    "   ```Shell\n",
    "   [root ~]# shutdown -h +5\n",
    "   Shutdown scheduled for Sun 2019-05-26 19:34:27 CST, use 'shutdown -c' to cancel.\n",
    "   [root ~]# \n",
    "   Broadcast message from root (Sun 2019-05-26 19:29:27 CST):\n",
    "   \n",
    "   The system is going down for power-off at Sun 2019-05-26 19:34:27 CST!\n",
    "   [root ~]# shutdown -c\n",
    "   \n",
    "   Broadcast message from root (Sun 2019-05-26 19:30:22 CST):\n",
    "   \n",
    "   The system shutdown has been cancelled at Sun 2019-05-26 19:31:22 CST!\n",
    "   [root ~]# shutdown -r 23:58\n",
    "   Shutdown scheduled for Sun 2019-05-26 23:58:00 CST, use 'shutdown -c' to cancel.\n",
    "   [root ~]# shutdown -c\n",
    "   \n",
    "   Broadcast message from root (Sun 2019-05-26 19:31:06 CST):\n",
    "   \n",
    "   The system shutdown has been cancelled at Sun 2019-05-26 19:32:06 CST!\n",
    "   ```"
   ]
  },
  {
   "cell_type": "markdown",
   "metadata": {},
   "source": [
    "   > 说明：在执行`shutdown`命令时会向登录系统的用户发出警告，可以在命令后面跟上警告消息来替换默认的警告消息，也可以在`-h`参数后通过`now`来表示立刻关机。"
   ]
  },
  {
   "cell_type": "markdown",
   "metadata": {},
   "source": [
    "9. 退出登录 -  **exit** / **logout**。"
   ]
  },
  {
   "cell_type": "markdown",
   "metadata": {},
   "source": [
    "10. 查看历史命令 - **history**。\n",
    "\n",
    "  ```Shell\n",
    "  [root@iZwz97tbgo9lkabnat2lo8Z ~]# history\n",
    "  ...\n",
    "  452  ls\n",
    "  453  cd Python-3.6.5/\n",
    "  454  clear\n",
    "  455  history\n",
    "  [root@iZwz97tbgo9lkabnat2lo8Z ~]# !454\n",
    "  ```"
   ]
  },
  {
   "cell_type": "markdown",
   "metadata": {},
   "source": [
    "  > **说明**：查看到历史命令之后，可以用`!历史命令编号`来重新执行该命令；通过`history -c`可以清除历史命令。"
   ]
  },
  {
   "cell_type": "markdown",
   "metadata": {},
   "source": [
    "### 实用程序\n",
    "\n",
    "#### 文件和文件夹操作\n",
    "\n",
    "1. 创建/删除空目录 - **mkdir** / **rmdir**。\n",
    "\n",
    "   ```Shell\n",
    "   [root ~]# mkdir abc\n",
    "   [root ~]# mkdir -p xyz/abc\n",
    "   [root ~]# rmdir abc\n",
    "    ```"
   ]
  },
  {
   "cell_type": "markdown",
   "metadata": {},
   "source": [
    "  \n",
    "\n",
    "2. 创建/删除文件 - **touch** / **rm**。\n",
    "\n",
    "   ```Shell\n",
    "   [root ~]# touch readme.txt\n",
    "   [root ~]# touch error.txt\n",
    "   [root ~]# rm error.txt\n",
    "   rm: remove regular empty file ‘error.txt’? y\n",
    "   [root ~]# rm -rf xyz\n",
    "   ```"
   ]
  },
  {
   "cell_type": "markdown",
   "metadata": {},
   "source": [
    "   - `touch`命令用于创建空白文件或修改文件时间。在Linux系统中一个文件有三种时间：\n",
    "     - 更改内容的时间 - mtime。\n",
    "     - 更改权限的时间 - ctime。\n",
    "     - 最后访问时间 - atime。\n",
    "   - `rm`的几个重要参数：\n",
    "     - `-i`：交互式删除，每个删除项都会进行询问。\n",
    "     - `-r`：删除目录并递归的删除目录中的文件和目录。\n",
    "     - `-f`：强制删除，忽略不存在的文件，没有任何提示。"
   ]
  },
  {
   "cell_type": "markdown",
   "metadata": {},
   "source": [
    "3. 切换和查看当前工作目录 - **cd** / **pwd**。\n",
    "\n",
    "   > 说明：`cd`命令后面可以跟相对路径（以当前路径作为参照）或绝对路径（以`/`开头）来切换到指定的目录，也可以用`cd ..`来返回上一级目录。请大家想一想，如果要返回到上上一级目录应该给`cd`命令加上什么样的参数呢？"
   ]
  },
  {
   "cell_type": "markdown",
   "metadata": {},
   "source": [
    "4. 查看目录内容 - **ls**。\n",
    "\n",
    "   - `-l`：以长格式查看文件和目录。\n",
    "   - `-a`：显示以点开头的文件和目录（隐藏文件）。\n",
    "   - `-R`：遇到目录要进行递归展开（继续列出目录下面的文件和目录）。\n",
    "   - `-d`：只列出目录，不列出其他内容。\n",
    "   - `-S` / `-t`：按大小/时间排序。"
   ]
  },
  {
   "cell_type": "markdown",
   "metadata": {},
   "source": [
    "5. 查看文件内容 - **cat** / **tac** / **head** / **tail** / **more** / **less** / **rev** / **od**。"
   ]
  },
  {
   "cell_type": "markdown",
   "metadata": {},
   "source": [
    "   ```Shell\n",
    "   [root ~]# wget http://www.sohu.com/ -O sohu.html\n",
    "   --2018-06-20 18:42:34--  http://www.sohu.com/\n",
    "   Resolving www.sohu.com (www.sohu.com)... 14.18.240.6\n",
    "   Connecting to www.sohu.com (www.sohu.com)|14.18.240.6|:80... connected.\n",
    "   HTTP request sent, awaiting response... 200 OK\n",
    "   Length: 212527 (208K) [text/html]\n",
    "   Saving to: ‘sohu.html’\n",
    "   100%[==================================================>] 212,527     --.-K/s   in 0.03s\n",
    "   2018-06-20 18:42:34 (7.48 MB/s) - ‘sohu.html’ saved [212527/212527]\n",
    "   [root ~]# cat sohu.html\n",
    "   ...\n",
    "   [root ~]# head -10 sohu.html\n",
    "   <!DOCTYPE html>\n",
    "   <html>\n",
    "   <head>\n",
    "   <title>搜狐</title>\n",
    "   <meta name=\"Keywords\" content=\"搜狐,门户网站,新媒体,网络媒体,新闻,财经,体育,娱乐,时尚,汽车,房产,科技,图片,论坛,微博,博客,视频,电影,电视剧\"/>\n",
    "   <meta name=\"Description\" content=\"搜狐网为用户提供24小时不间断的最新资讯，及搜索、邮件等网络服务。内容包括全球热点事件、突发新闻、时事评论、热播影视剧、体育赛事、行业动态、生活服务信息，以及论坛、博客、微博、我的搜狐等互动空间。\" />\n",
    "   <meta name=\"shenma-site-verification\" content=\"1237e4d02a3d8d73e96cbd97b699e9c3_1504254750\">\n",
    "   <meta charset=\"utf-8\"/>\n",
    "   <meta http-equiv=\"X-UA-Compatible\" content=\"IE=Edge,chrome=1\"/>\n",
    "   [root ~]# tail -2 sohu.html\n",
    "   </body>\n",
    "   </html>\n",
    "   [root ~]# less sohu.html\n",
    "   ...\n",
    "   [root ~]# cat -n sohu.html | more\n",
    "   ...\n",
    "   ```"
   ]
  },
  {
   "cell_type": "markdown",
   "metadata": {},
   "source": [
    "   > **说明**：上面用到了一个名为`wget`的命令，它是一个网络下载器程序，可以从指定的URL下载资源。"
   ]
  },
  {
   "cell_type": "markdown",
   "metadata": {},
   "source": [
    "6. 拷贝/移动文件 - **cp** / **mv**。\n",
    "\n",
    "   ```Shell\n",
    "   [root ~]# mkdir backup\n",
    "   [root ~]# cp sohu.html backup/\n",
    "   [root ~]# cd backup\n",
    "   [root backup]# ls\n",
    "   sohu.html\n",
    "   [root backup]# mv sohu.html sohu_index.html\n",
    "   [root backup]# ls\n",
    "   sohu_index.html\n",
    "   ```"
   ]
  },
  {
   "cell_type": "markdown",
   "metadata": {},
   "source": [
    "7. 文件重命名 - **rename**。\n",
    "\n",
    "  ```Shell\n",
    "  [root@iZwz97tbgo9lkabnat2lo8Z ~]# rename .htm .html *.htm\n",
    "  ```"
   ]
  },
  {
   "cell_type": "markdown",
   "metadata": {},
   "source": [
    "8. 查找文件和查找内容 - **find** / **grep**。\n",
    "\n",
    "   ```Shell\n",
    "   [root@iZwz97tbgo9lkabnat2lo8Z ~]# find / -name \"*.html\"\n",
    "   /root/sohu.html\n",
    "   /root/backup/sohu_index.html\n",
    "   [root@izwz97tbgo9lkabnat2lo8z ~]# find . -atime 7 -type f -print\n",
    "   [root@izwz97tbgo9lkabnat2lo8z ~]# find . -type f -size +2k\n",
    "   [root@izwz97tbgo9lkabnat2lo8z ~]# find . -type f -name \"*.swp\" -delete\n",
    "   [root@iZwz97tbgo9lkabnat2lo8Z ~]# grep \"<script>\" sohu.html -n\n",
    "   20:<script>\n",
    "   [root@iZwz97tbgo9lkabnat2lo8Z ~]# grep -E \\<\\/?script.*\\> sohu.html -n\n",
    "   20:<script>\n",
    "   22:</script>\n",
    "   24:<script src=\"//statics.itc.cn/web/v3/static/js/es5-shim-08e41cfc3e.min.js\"></script>\n",
    "   25:<script src=\"//statics.itc.cn/web/v3/static/js/es5-sham-1d5fa1124b.min.js\"></script>\n",
    "   26:<script src=\"//statics.itc.cn/web/v3/static/js/html5shiv-21fc8c2ba6.js\"></script>\n",
    "   29:<script type=\"text/javascript\">\n",
    "   52:</script>\n",
    "   ...\n",
    "   ```"
   ]
  },
  {
   "cell_type": "markdown",
   "metadata": {},
   "source": [
    "   > **说明**：`grep`在搜索字符串时可以使用正则表达式，如果需要使用正则表达式可以用`grep -E`或者直接使用`egrep`。"
   ]
  },
  {
   "cell_type": "markdown",
   "metadata": {},
   "source": [
    "9. 创建链接和查看链接 - **ln** / **readlink**。\n",
    "\n",
    "   ```Shell\n",
    "   [root@iZwz97tbgo9lkabnat2lo8Z ~]# ls -l sohu.html\n",
    "   -rw-r--r-- 1 root root 212131 Jun 20 19:15 sohu.html\n",
    "   [root@iZwz97tbgo9lkabnat2lo8Z ~]# ln /root/sohu.html /root/backup/sohu_backup\n",
    "   [root@iZwz97tbgo9lkabnat2lo8Z ~]# ls -l sohu.html\n",
    "   -rw-r--r-- 2 root root 212131 Jun 20 19:15 sohu.html\n",
    "   [root@iZwz97tbgo9lkabnat2lo8Z ~]# ln /root/sohu.html /root/backup/sohu_backup2\n",
    "   [root@iZwz97tbgo9lkabnat2lo8Z ~]# ls -l sohu.html\n",
    "   -rw-r--r-- 3 root root 212131 Jun 20 19:15 sohu.html\n",
    "   [root@iZwz97tbgo9lkabnat2lo8Z ~]# ln -s /etc/centos-release sysinfo\n",
    "   [root@iZwz97tbgo9lkabnat2lo8Z ~]# ls -l sysinfo\n",
    "   lrwxrwxrwx 1 root root 19 Jun 20 19:21 sysinfo -> /etc/centos-release\n",
    "   [root@iZwz97tbgo9lkabnat2lo8Z ~]# cat sysinfo\n",
    "   CentOS Linux release 7.4.1708 (Core)\n",
    "   [root@iZwz97tbgo9lkabnat2lo8Z ~]# cat /etc/centos-release\n",
    "   CentOS Linux release 7.4.1708 (Core)\n",
    "   ```"
   ]
  },
  {
   "cell_type": "markdown",
   "metadata": {},
   "source": [
    "   > **说明**：链接可以分为硬链接和软链接（符号链接）。硬链接可以认为是一个指向文件数据的指针，就像Python中对象的引用计数，每添加一个硬链接，文件的对应链接数就增加1，只有当文件的链接数为0时，文件所对应的存储空间才有可能被其他文件覆盖。我们平常删除文件时其实并没有删除硬盘上的数据，我们删除的只是一个指针，或者说是数据的一条使用记录，所以类似于“文件粉碎机”之类的软件在“粉碎”文件时除了删除文件指针，还会在文件对应的存储区域填入数据来保证文件无法再恢复。软链接类似于Windows系统下的快捷方式，当软链接链接的文件被删除时，软链接也就失效了。"
   ]
  },
  {
   "cell_type": "markdown",
   "metadata": {},
   "source": [
    "10. 压缩/解压缩和归档/解归档 - **gzip** / **gunzip** / **xz**。\n",
    "\n",
    "  ```Shell\n",
    "  [root@iZwz97tbgo9lkabnat2lo8Z ~]# wget http://download.redis.io/releases/redis-4.0.10.tar.gz\n",
    "  --2018-06-20 19:29:59--  http://download.redis.io/releases/redis-4.0.10.tar.gz\n",
    "  Resolving download.redis.io (download.redis.io)... 109.74.203.151\n",
    "  Connecting to download.redis.io (download.redis.io)|109.74.203.151|:80... connected.\n",
    "  HTTP request sent, awaiting response... 200 OK\n",
    "  Length: 1738465 (1.7M) [application/x-gzip]\n",
    "  Saving to: ‘redis-4.0.10.tar.gz’\n",
    "  100%[==================================================>] 1,738,465   70.1KB/s   in 74s\n",
    "  2018-06-20 19:31:14 (22.9 KB/s) - ‘redis-4.0.10.tar.gz’ saved [1738465/1738465]\n",
    "  [root@iZwz97tbgo9lkabnat2lo8Z ~]# ls redis*\n",
    "  redis-4.0.10.tar.gz\n",
    "  [root@iZwz97tbgo9lkabnat2lo8Z ~]# gunzip redis-4.0.10.tar.gz\n",
    "  [root@iZwz97tbgo9lkabnat2lo8Z ~]# ls redis*\n",
    "  redis-4.0.10.tar\n",
    "  ```"
   ]
  },
  {
   "cell_type": "markdown",
   "metadata": {},
   "source": [
    "11. 归档和解归档 - **tar**。\n",
    "\n",
    "   ```Shell\n",
    "   [root@iZwz97tbgo9lkabnat2lo8Z ~]# tar -xvf redis-4.0.10.tar\n",
    "   redis-4.0.10/\n",
    "   redis-4.0.10/.gitignore\n",
    "   redis-4.0.10/00-RELEASENOTES\n",
    "   redis-4.0.10/BUGS\n",
    "   redis-4.0.10/CONTRIBUTING\n",
    "   redis-4.0.10/COPYING\n",
    "   redis-4.0.10/INSTALL\n",
    "   redis-4.0.10/MANIFESTO\n",
    "   redis-4.0.10/Makefile\n",
    "   redis-4.0.10/README.md\n",
    "   redis-4.0.10/deps/\n",
    "   redis-4.0.10/deps/Makefile\n",
    "   redis-4.0.10/deps/README.md\n",
    "   ...\n",
    "   ```"
   ]
  },
  {
   "cell_type": "markdown",
   "metadata": {},
   "source": [
    "   > 说明：归档（也称为创建归档）和解归档都使用`tar`命令，通常创建归档需要`-cvf`三个参数，其中`c`表示创建（create），`v`表示显示创建归档详情（verbose），`f`表示指定归档的文件（file）；解归档需要加上`-xvf`参数，其中`x`表示抽取（extract），其他两个参数跟创建归档相同。"
   ]
  },
  {
   "cell_type": "markdown",
   "metadata": {},
   "source": [
    "12. 将标准输入转成命令行参数 - **xargs**。\n",
    "\n",
    "   下面的命令会将查找当前路径下的html文件，然后通过`xargs`将这些文件作为参数传给`rm`命令，实现查找并删除文件的操作。\n",
    "\n",
    "   ```Shell\n",
    "   [root@iZwz97tbgo9lkabnat2lo8Z ~]# find . -type f -name \"*.html\" | xargs rm -f\n",
    "   ```\n",
    "\n",
    "   下面的命令将a.txt文件中的多行内容变成一行输出到b.txt文件中，其中`<`表示从a.txt中读取输入，`>`表示将命令的执行结果输出到b.txt中。\n",
    "\n",
    "   ```Shell\n",
    "   [root@iZwz97tbgo9lkabnat2lo8Z ~]# xargs < a.txt > b.txt\n",
    "   ```"
   ]
  },
  {
   "cell_type": "markdown",
   "metadata": {},
   "source": [
    "   > **说明**：这个命令就像上面演示的那样常在管道（实现进程间通信的一种方式）和重定向（重新指定输入输出的位置）操作中用到，后面的内容中会讲到管道操作和输入输出重定向操作。"
   ]
  },
  {
   "cell_type": "markdown",
   "metadata": {},
   "source": [
    "13. 显示文件或目录 - **basename** / **dirname**。"
   ]
  },
  {
   "cell_type": "markdown",
   "metadata": {},
   "source": [
    "14. 其他相关工具。 \n",
    "\n",
    "   - **sort** - 对内容排序\n",
    "   - **uniq** - 去掉相邻重复内容\n",
    "   - **tr** - 替换指定内容为新内容\n",
    "   - **cut** / **paste** - 剪切/黏贴内容\n",
    "   - **split** - 拆分文件\n",
    "   - **file** - 判断文件类型\n",
    "   - **wc** - 统计文件行数、单词数、字节数\n",
    "   - **iconv** - 编码转换"
   ]
  },
  {
   "cell_type": "markdown",
   "metadata": {},
   "source": [
    "   ```Shell\n",
    "   [root ~]# cat foo.txt\n",
    "   grape\n",
    "   apple\n",
    "   pitaya\n",
    "   [root ~]# cat bar.txt\n",
    "   100\n",
    "   200\n",
    "   300\n",
    "   400\n",
    "   [root ~]# paste foo.txt bar.txt\n",
    "   grape   100\n",
    "   apple   200\n",
    "   pitaya  300\n",
    "           400\n",
    "   [root ~]# paste foo.txt bar.txt > hello.txt\n",
    "   [root ~]# cut -b 4-8 hello.txt\n",
    "   pe      10\n",
    "   le      20\n",
    "   aya     3\n",
    "   0\n",
    "   [root ~]# cat hello.txt | tr '\\t' ','\n",
    "   grape,100\n",
    "   apple,200\n",
    "   pitaya,300\n",
    "   ,400\n",
    "   [root ~]# split -l 100 sohu.html hello\n",
    "   [root ~]# wget https://www.baidu.com/img/bd_logo1.png\n",
    "   [root ~]# file bd_logo1.png\n",
    "   bd_logo1.png: PNG image data, 540 x 258, 8-bit colormap, non-interlaced\n",
    "   [root ~]# wc sohu.html\n",
    "     2979   6355 212527 sohu.html\n",
    "   [root ~]# wc -l sohu.html\n",
    "   2979 sohu.html\n",
    "   [root ~]# wget http://www.qq.com -O qq.html\n",
    "   [root ~]# iconv -f gb2312 -t utf-8 qq.html\n",
    "   ```"
   ]
  },
  {
   "cell_type": "markdown",
   "metadata": {},
   "source": [
    "#### 管道和重定向\n",
    "\n",
    "1. 管道的使用 - **\\|**。\n",
    "\n",
    "   例子：查找当前目录下文件个数。\n",
    "\n",
    "   ```Shell\n",
    "   [root ~]# find ./ | wc -l\n",
    "   6152\n",
    "   ```"
   ]
  },
  {
   "cell_type": "markdown",
   "metadata": {},
   "source": [
    "   例子：列出当前路径下的文件和文件夹，给每一项加一个编号。\n",
    "\n",
    "   ```Shell\n",
    "   [root ~]# ls | cat -n\n",
    "        1  dump.rdb\n",
    "        2  mongodb-3.6.5\n",
    "        3  Python-3.6.5\n",
    "        4  redis-3.2.11\n",
    "        5  redis.conf\n",
    "   ```"
   ]
  },
  {
   "cell_type": "markdown",
   "metadata": {},
   "source": [
    "   例子：查找record.log中包含AAA，但不包含BBB的记录的总数\n",
    "\n",
    "   ```Shell\n",
    "   [root ~]# cat record.log | grep AAA | grep -v BBB | wc -l\n",
    "   ```"
   ]
  },
  {
   "cell_type": "markdown",
   "metadata": {},
   "source": [
    "2. 输出重定向和错误重定向 - **\\>** / **>>** / **2\\>**。\n",
    "\n",
    "   ```Shell\n",
    "   [root ~]# cat readme.txt\n",
    "   banana\n",
    "   apple\n",
    "   grape\n",
    "   apple\n",
    "   grape\n",
    "   watermelon\n",
    "   pear\n",
    "   pitaya\n",
    "   [root ~]# cat readme.txt | sort | uniq > result.txt\n",
    "   [root ~]# cat result.txt\n",
    "   apple\n",
    "   banana\n",
    "   grape\n",
    "   pear\n",
    "   pitaya\n",
    "   watermelon\n",
    "   ```"
   ]
  },
  {
   "cell_type": "markdown",
   "metadata": {},
   "source": [
    "3. 输入重定向 - **\\<**。\n",
    "\n",
    "   ```Shell\n",
    "   [root ~]# echo 'hello, world!' > hello.txt\n",
    "   [root ~]# wall < hello.txt\n",
    "   [root ~]#\n",
    "   Broadcast message from root (Wed Jun 20 19:43:05 2018):\n",
    "   hello, world!\n",
    "   [root ~]# echo 'I will show you some code.' >> hello.txt\n",
    "   [root ~]# wall < hello.txt\n",
    "   [root ~]#\n",
    "   Broadcast message from root (Wed Jun 20 19:43:55 2018):\n",
    "   hello, world!\n",
    "   I will show you some code.\n",
    "   ```"
   ]
  },
  {
   "cell_type": "markdown",
   "metadata": {},
   "source": [
    "4. 多重定向 - **tee**。\n",
    "\n",
    "   下面的命令除了在终端显示命令`ls`的结果之外，还会追加输出到`ls.txt`文件中。\n",
    "\n",
    "   ```Shell\n",
    "   [root ~]# ls | tee -a ls.txt\n",
    "   ```"
   ]
  },
  {
   "cell_type": "markdown",
   "metadata": {},
   "source": [
    "#### 别名\n",
    "\n",
    "1. **alias**\n",
    "\n",
    "   ```Shell\n",
    "   [root ~]# alias ll='ls -l'\n",
    "   [root ~]# alias frm='rm -rf'\n",
    "   [root ~]# ll\n",
    "   ...\n",
    "   drwxr-xr-x  2 root       root   4096 Jun 20 12:52 abc\n",
    "   ...\n",
    "   [root ~]# frm abc\n",
    "   ```"
   ]
  },
  {
   "cell_type": "markdown",
   "metadata": {},
   "source": [
    "2. **unalias**\n",
    "\n",
    "   ```Shell\n",
    "   [root ~]# unalias frm\n",
    "   [root ~]# frm sohu.html\n",
    "   -bash: frm: command not found\n",
    "   ```"
   ]
  },
  {
   "cell_type": "markdown",
   "metadata": {},
   "source": [
    "#### 文本处理\n",
    "\n",
    "1. 字符流编辑器 - **sed**。\n",
    "\n",
    "   sed是操作、过滤和转换文本内容的工具。假设有一个名为fruit.txt的文件，内容如下所示。\n",
    "\n",
    "   ```Shell\n",
    "   [root ~]# cat -n fruit.txt \n",
    "        1  banana\n",
    "        2  grape\n",
    "        3  apple\n",
    "        4  watermelon\n",
    "        5  orange\n",
    "   ```"
   ]
  },
  {
   "cell_type": "markdown",
   "metadata": {},
   "source": [
    "   接下来，我们在第2行后面添加一个pitaya。\n",
    "\n",
    "   ```Shell\n",
    "   [root ~]# sed '2a pitaya' fruit.txt \n",
    "   banana\n",
    "   grape\n",
    "   pitaya\n",
    "   apple\n",
    "   watermelon\n",
    "   orange\n",
    "   ```"
   ]
  },
  {
   "cell_type": "markdown",
   "metadata": {},
   "source": [
    "   > 注意：刚才的命令和之前我们讲过的很多命令一样并没有改变fruit.txt文件，而是将添加了新行的内容输出到终端中，如果想保存到fruit.txt中，可以使用输出重定向操作。"
   ]
  },
  {
   "cell_type": "markdown",
   "metadata": {},
   "source": [
    "   在第2行前面插入一个waxberry。\n",
    "\n",
    "   ```Shell\n",
    "   [root ~]# sed '2i waxberry' fruit.txt\n",
    "   banana\n",
    "   waxberry\n",
    "   grape\n",
    "   apple\n",
    "   watermelon\n",
    "   orange\n",
    "   ```"
   ]
  },
  {
   "cell_type": "markdown",
   "metadata": {},
   "source": [
    "   删除第3行。\n",
    "\n",
    "   ```Shell\n",
    "   [root ~]# sed '3d' fruit.txt\n",
    "   banana\n",
    "   grape\n",
    "   watermelon\n",
    "   orange\n",
    "   ```"
   ]
  },
  {
   "cell_type": "markdown",
   "metadata": {},
   "source": [
    "   删除第2行到第4行。\n",
    "\n",
    "   ```Shell\n",
    "   [root ~]# sed '2,4d' fruit.txt\n",
    "   banana\n",
    "   orange\n",
    "   ```"
   ]
  },
  {
   "cell_type": "markdown",
   "metadata": {},
   "source": [
    "   将文本中的字符a替换为@。\n",
    "\n",
    "   ```Shell\n",
    "   [root ~]# sed 's#a#@#' fruit.txt \n",
    "   b@nana\n",
    "   gr@pe\n",
    "   @pple\n",
    "   w@termelon\n",
    "   or@nge\n",
    "   ```"
   ]
  },
  {
   "cell_type": "markdown",
   "metadata": {},
   "source": [
    "   将文本中的字符a替换为@，使用全局模式。\n",
    "\n",
    "   ```Shell\n",
    "   [root ~]# sed 's#a#@#g' fruit.txt \n",
    "   b@n@n@\n",
    "   gr@pe\n",
    "   @pple\n",
    "   w@termelon\n",
    "   or@nge\n",
    "   ```"
   ]
  },
  {
   "cell_type": "markdown",
   "metadata": {},
   "source": [
    "2. 模式匹配和处理语言 - **awk**。\n",
    "\n",
    "   awk是一种编程语言，也是Linux系统中处理文本最为强大的工具，它的作者之一和现在的维护者就是之前提到过的Brian Kernighan（ken和dmr最亲密的伙伴）。通过该命令可以从文本中提取出指定的列、用正则表达式从文本中取出我们想要的内容、显示指定的行以及进行统计和运算，总之它非常强大。"
   ]
  },
  {
   "cell_type": "markdown",
   "metadata": {},
   "source": [
    "   假设有一个名为fruit2.txt的文件，内容如下所示。\n",
    "\n",
    "   ```Shell\n",
    "   [root ~]# cat fruit2.txt \n",
    "   1       banana      120\n",
    "   2       grape       500\n",
    "   3       apple       1230\n",
    "   4       watermelon  80\n",
    "   5       orange      400\n",
    "   ```"
   ]
  },
  {
   "cell_type": "markdown",
   "metadata": {},
   "source": [
    "   显示文件的第3行。\n",
    "\n",
    "   ```Shell\n",
    "   [root ~]# awk 'NR==3' fruit2.txt \n",
    "   3       apple       1230\n",
    "   ```"
   ]
  },
  {
   "cell_type": "markdown",
   "metadata": {},
   "source": [
    "   显示文件的第2列。\n",
    "\n",
    "   ```Shell\n",
    "   [root ~]# awk '{print $2}' fruit2.txt \n",
    "   banana\n",
    "   grape\n",
    "   apple\n",
    "   watermelon\n",
    "   orange\n",
    "   ```"
   ]
  },
  {
   "cell_type": "markdown",
   "metadata": {},
   "source": [
    "   显示文件的最后一列。\n",
    "\n",
    "   ```Shell\n",
    "   [root ~]# awk '{print $NF}' fruit2.txt \n",
    "   120\n",
    "   500\n",
    "   1230\n",
    "   80\n",
    "   400\n",
    "   ```"
   ]
  },
  {
   "cell_type": "markdown",
   "metadata": {},
   "source": [
    "   输出末尾数字大于等于300的行。\n",
    "\n",
    "   ```Shell\n",
    "   [root ~]# awk '{if($3 >= 300) {print $0}}' fruit2.txt \n",
    "   2       grape       500\n",
    "   3       apple       1230\n",
    "   5       orange      400\n",
    "   ```"
   ]
  },
  {
   "cell_type": "markdown",
   "metadata": {},
   "source": [
    "   上面展示的只是awk命令的冰山一角，更多的内容留给读者自己在实践中去探索。"
   ]
  },
  {
   "cell_type": "markdown",
   "metadata": {},
   "source": [
    "### 用户管理\n",
    "\n",
    "1. 创建和删除用户 - **useradd** / **userdel**。\n",
    "\n",
    "   ```Shell\n",
    "   [root home]# useradd hellokitty\n",
    "   [root home]# userdel hellokitty\n",
    "   ```\n",
    "\n",
    "   - `-d` - 创建用户时为用户指定用户主目录\n",
    "   - `-g` - 创建用户时指定用户所属的用户组"
   ]
  },
  {
   "cell_type": "markdown",
   "metadata": {},
   "source": [
    "2. 创建和删除用户组 - **groupadd** / **groupdel**。\n",
    "\n",
    "   > 说明：用户组主要是为了方便对一个组里面所有用户的管理。"
   ]
  },
  {
   "cell_type": "markdown",
   "metadata": {},
   "source": [
    "3. 修改密码 - **passwd**。\n",
    "\n",
    "   ```Shell\n",
    "   [root ~]# passwd hellokitty\n",
    "   New password: \n",
    "   Retype new password: \n",
    "   passwd: all authentication tokens updated successfully.\n",
    "   ```"
   ]
  },
  {
   "cell_type": "markdown",
   "metadata": {},
   "source": [
    "   > 说明：输入密码和确认密码没有回显且必须一气呵成的输入完成（不能使用退格键），密码和确认密码需要一致。如果使用`passwd`命令时没有指定命令作用的对象，则表示要修改当前用户的密码。如果想批量修改用户密码，可以使用`chpasswd`命令。\n",
    "\n",
    "   - `-l` / `-u` - 锁定/解锁用户。\n",
    "   - `-d` - 清除用户密码。\n",
    "   - `-e` - 设置密码立即过期，用户登录时会强制要求修改密码。\n",
    "   - `-i` - 设置密码过期多少天以后禁用该用户。"
   ]
  },
  {
   "cell_type": "markdown",
   "metadata": {},
   "source": [
    "4. 查看和修改密码有效期 - **chage**。\n",
    "\n",
    "   设置hellokitty用户100天后必须修改密码，过期前15天通知该用户，过期后7天禁用该用户。\n",
    "\n",
    "   ```Shell\n",
    "   chage -M 100 -W 15 -I 7 hellokitty\n",
    "   ```"
   ]
  },
  {
   "cell_type": "markdown",
   "metadata": {},
   "source": [
    "5. 切换用户 - **su**。\n",
    "\n",
    "   ```Shell\n",
    "   [root ~]# su hellokitty\n",
    "   [hellokitty root]$\n",
    "   ```"
   ]
  },
  {
   "cell_type": "markdown",
   "metadata": {},
   "source": [
    "6. 以管理员身份执行命令 - **sudo**。\n",
    "\n",
    "   ```Shell\n",
    "   [hellokitty ~]$ ls /root\n",
    "   ls: cannot open directory /root: Permission denied\n",
    "   [hellokitty ~]$ sudo ls /root\n",
    "   [sudo] password for hellokitty:\n",
    "   ```"
   ]
  },
  {
   "cell_type": "markdown",
   "metadata": {},
   "source": [
    "   > **说明**：如果希望用户能够以管理员身份执行命令，用户必须要出现在sudoers名单中，sudoers文件在 `/etc`目录下，如果希望直接编辑该文件也可以使用下面的命令。"
   ]
  },
  {
   "cell_type": "markdown",
   "metadata": {},
   "source": [
    "7. 编辑sudoers文件 - **visudo**。\n",
    "\n",
    "   这里使用的编辑器是vi，关于vi的知识在后面有讲解。该文件的部分内容如下所示：\n",
    "\n",
    "   ```\n",
    "   ## Allow root to run any commands anywhere \n",
    "   root    ALL=(ALL)   ALL\n",
    "   \n",
    "   ## Allows members of the 'sys' group to run networking, software, \n",
    "   ## service management apps and more.\n",
    "   # %sys ALL = NETWORKING, SOFTWARE, SERVICES, STORAGE, DELEGATING, PROCESSES, LOCATE, DRIVERS\n",
    "   ## Allows people in group wheel to run all commands\n",
    "   %wheel  ALL=(ALL)   ALL\n",
    "   \n",
    "   ## Same thing without a password\n",
    "   # %wheel    ALL=(ALL)   NOPASSWD: ALL\n",
    "   \n",
    "   ## Allows members of the users group to mount and unmount the\n",
    "   ## cdrom as root\n",
    "   # %users  ALL=/sbin/mount /mnt/cdrom, /sbin/umount /mnt/cdrom\n",
    "   \n",
    "   ## Allows members of the users group to shutdown this system\n",
    "   # %users  localhost=/sbin/shutdown -h now\n",
    "   ```"
   ]
  },
  {
   "cell_type": "markdown",
   "metadata": {},
   "source": [
    "8. 显示用户与用户组的信息 - **id**。"
   ]
  },
  {
   "cell_type": "markdown",
   "metadata": {},
   "source": [
    "9. 给其他用户发消息 -**write** / **wall**。\n",
    "\n",
    "   发送方：\n",
    "\n",
    "   ```Shell\n",
    "   [root ~]# write hellokitty\n",
    "   Dinner is on me.\n",
    "   Call me at 6pm.\n",
    "   ```"
   ]
  },
  {
   "cell_type": "markdown",
   "metadata": {},
   "source": [
    "   接收方：\n",
    "\n",
    "   ```Shell\n",
    "   [hellokitty ~]$ \n",
    "   Message from root on pts/0 at 17:41 ...\n",
    "   Dinner is on me.\n",
    "   Call me at 6pm.\n",
    "   EOF\n",
    "   ```"
   ]
  },
  {
   "cell_type": "markdown",
   "metadata": {},
   "source": [
    " \n",
    "\n",
    "10. 查看/设置是否接收其他用户发送的消息 - **mesg**。\n",
    "\n",
    "   ```Shell\n",
    "   [hellokitty ~]$ mesg\n",
    "   is y\n",
    "   [hellokitty ~]$ mesg n\n",
    "   [hellokitty ~]$ mesg\n",
    "   is n\n",
    "   ```"
   ]
  },
  {
   "cell_type": "markdown",
   "metadata": {},
   "source": [
    "### 文件系统\n",
    "\n",
    "#### 文件和路径\n",
    "\n",
    "1. 命名规则：文件名的最大长度与文件系统类型有关，一般情况下，文件名不应该超过255个字符，虽然绝大多数的字符都可以用于文件名，但是最好使用英文大小写字母、数字、下划线、点这样的符号。文件名中虽然可以使用空格，但应该尽可能避免使用空格，否则在输入文件名时需要用将文件名放在双引号中或者通过`\\`对空格进行转义。\n",
    "2. 扩展名：在Linux系统下文件的扩展名是可选的，但是使用扩展名有助于对文件内容的理解。有些应用程序要通过扩展名来识别文件，但是更多的应用程序并不依赖文件的扩展名，就像`file`命令在识别文件时并不是依据扩展名来判定文件的类型。\n",
    "3. 隐藏文件：以点开头的文件在Linux系统中是隐藏文件（不可见文件）。"
   ]
  },
  {
   "cell_type": "markdown",
   "metadata": {},
   "source": [
    "#### 目录结构\n",
    "\n",
    "1. /bin - 基本命令的二进制文件。\n",
    "2. /boot - 引导加载程序的静态文件。\n",
    "3. /dev - 设备文件。\n",
    "4. **/etc** - 配置文件。\n",
    "5. /home - 普通用户主目录的父目录。\n",
    "6. /lib - 共享库文件。\n",
    "7. /lib64 - 共享64位库文件。\n",
    "8. /lost+found - 存放未链接文件。\n",
    "9. /media - 自动识别设备的挂载目录。\n",
    "10. /mnt - 临时挂载文件系统的挂载点。\n",
    "11. /opt - 可选插件软件包安装位置。\n",
    "12. /proc -  内核和进程信息。\n",
    "13. **/root** - 超级管理员用户主目录。\n",
    "14. /run - 存放系统运行时需要的东西。\n",
    "15. /sbin - 超级用户的二进制文件。\n",
    "16. /sys - 设备的伪文件系统。\n",
    "17. /tmp - 临时文件夹。\n",
    "18. **/usr** - 用户应用目录。\n",
    "19. /var - 变量数据目录。"
   ]
  },
  {
   "cell_type": "markdown",
   "metadata": {},
   "source": [
    "#### 访问权限\n",
    "\n",
    "1. **chmod** - 改变文件模式比特。\n",
    "\n",
    "   ```Shell\n",
    "   [root ~]# ls -l\n",
    "   ...\n",
    "   -rw-r--r--  1 root       root 211878 Jun 19 16:06 sohu.html\n",
    "   ...\n",
    "   [root ~]# chmod g+w,o+w sohu.html\n",
    "   [root ~]# ls -l\n",
    "   ...\n",
    "   -rw-rw-rw-  1 root       root 211878 Jun 19 16:06 sohu.html\n",
    "   ...\n",
    "   [root ~]# chmod 644 sohu.html\n",
    "   [root ~]# ls -l\n",
    "   ...\n",
    "   -rw-r--r--  1 root       root 211878 Jun 19 16:06 sohu.html\n",
    "   ...\n",
    "   ```"
   ]
  },
  {
   "cell_type": "markdown",
   "metadata": {},
   "source": [
    "   > 说明：通过上面的例子可以看出，用`chmod`改变文件模式比特有两种方式：一种是字符设定法，另一种是数字设定法。除了`chmod`之外，可以通过`umask`来设定哪些权限将在新文件的默认权限中被删除。"
   ]
  },
  {
   "cell_type": "markdown",
   "metadata": {},
   "source": [
    "   长格式查看目录或文件时显示结果及其对应权限的数值如下表所示。\n",
    "\n",
    "   ![](./res/file-mode.png)"
   ]
  },
  {
   "cell_type": "markdown",
   "metadata": {},
   "source": [
    "2. **chown** - 改变文件所有者。\n",
    "\n",
    "    ```Shell\n",
    "    [root ~]# ls -l\n",
    "    ...\n",
    "    -rw-r--r--  1 root root     54 Jun 20 10:06 readme.txt\n",
    "    ...\n",
    "    [root ~]# chown hellokitty readme.txt\n",
    "    [root ~]# ls -l\n",
    "    ...\n",
    "    -rw-r--r--  1 hellokitty root     54 Jun 20 10:06 readme.txt\n",
    "    ...\n",
    "    ```"
   ]
  },
  {
   "cell_type": "markdown",
   "metadata": {},
   "source": [
    "3. **chgrp** - 改变用户组。"
   ]
  },
  {
   "cell_type": "markdown",
   "metadata": {},
   "source": [
    "#### 磁盘管理\n",
    "\n",
    "1. 列出文件系统的磁盘使用状况 - **df**。\n",
    "\n",
    "   ```Shell\n",
    "   [root ~]# df -h\n",
    "   Filesystem      Size  Used Avail Use% Mounted on\n",
    "   /dev/vda1        40G  5.0G   33G  14% /\n",
    "   devtmpfs        486M     0  486M   0% /dev\n",
    "   tmpfs           497M     0  497M   0% /dev/shm\n",
    "   tmpfs           497M  356K  496M   1% /run\n",
    "   tmpfs           497M     0  497M   0% /sys/fs/cgroup\n",
    "   tmpfs           100M     0  100M   0% /run/user/0\n",
    "   ```"
   ]
  },
  {
   "cell_type": "markdown",
   "metadata": {},
   "source": [
    "2. 磁盘分区表操作 - **fdisk**。\n",
    "\n",
    "   ```Shell\n",
    "   [root ~]# fdisk -l\n",
    "   Disk /dev/vda: 42.9 GB, 42949672960 bytes, 83886080 sectors\n",
    "   Units = sectors of 1 * 512 = 512 bytes\n",
    "   Sector size (logical/physical): 512 bytes / 512 bytes\n",
    "   I/O size (minimum/optimal): 512 bytes / 512 bytes\n",
    "   Disk label type: dos\n",
    "   Disk identifier: 0x000a42f4\n",
    "      Device Boot      Start         End      Blocks   Id  System\n",
    "   /dev/vda1   *        2048    83884031    41940992   83  Linux\n",
    "   Disk /dev/vdb: 21.5 GB, 21474836480 bytes, 41943040 sectors\n",
    "   Units = sectors of 1 * 512 = 512 bytes\n",
    "   Sector size (logical/physical): 512 bytes / 512 bytes\n",
    "   I/O size (minimum/optimal): 512 bytes / 512 bytes\n",
    "   ```"
   ]
  },
  {
   "cell_type": "markdown",
   "metadata": {},
   "source": [
    "3. 磁盘分区工具 - **parted**。"
   ]
  },
  {
   "cell_type": "markdown",
   "metadata": {},
   "source": [
    "4. 格式化文件系统 - **mkfs**。\n",
    "\n",
    "   ```Shell\n",
    "   [root ~]# mkfs -t ext4 -v /dev/sdb\n",
    "   ```\n",
    "\n",
    "   - `-t` - 指定文件系统的类型。\n",
    "   - `-c` - 创建文件系统时检查磁盘损坏情况。\n",
    "   - `-v` - 显示详细信息。"
   ]
  },
  {
   "cell_type": "markdown",
   "metadata": {},
   "source": [
    "5. 文件系统检查 - **fsck**。"
   ]
  },
  {
   "cell_type": "markdown",
   "metadata": {},
   "source": [
    "6. 转换或拷贝文件 - **dd**。"
   ]
  },
  {
   "cell_type": "markdown",
   "metadata": {},
   "source": [
    "7. 挂载/卸载 - **mount** / **umount**。"
   ]
  },
  {
   "cell_type": "markdown",
   "metadata": {},
   "source": [
    "8. 创建/激活/关闭交换分区 - **mkswap** / **swapon** / **swapoff**。"
   ]
  },
  {
   "cell_type": "markdown",
   "metadata": {},
   "source": [
    "> **说明**：执行上面这些命令会带有一定的风险，如果不清楚这些命令的用法，最好不用随意使用，在使用的过程中，最好对照参考资料进行操作，并在操作前确认是否要这么做。"
   ]
  },
  {
   "cell_type": "markdown",
   "metadata": {},
   "source": [
    "### 编辑器 - vim\n",
    "\n",
    "1. 启动vim。可以通过`vi`或`vim`命令来启动vim，启动时可以指定文件名来打开一个文件，如果没有指定文件名，也可以在保存的时候指定文件名。\n",
    "\n",
    "   ```Shell\n",
    "   [root ~]# vim guess.py\n",
    "   ```"
   ]
  },
  {
   "cell_type": "markdown",
   "metadata": {},
   "source": [
    "2. 命令模式、编辑模式和末行模式：启动vim进入的是命令模式（也称为Normal模式），在命令模式下输入英文字母`i`会进入编辑模式（Insert模式），屏幕下方出现`-- INSERT --`提示；在编辑模式下按下`Esc`会回到命令模式，此时如果输入英文`:`会进入末行模式，在末行模式下输入`q!`可以在不保存当前工作的情况下强行退出vim；在命令模式下输入`v`会进入可视模式（Visual模式），可以用光标选择一个区域再完成对应的操作。"
   ]
  },
  {
   "cell_type": "markdown",
   "metadata": {},
   "source": [
    "3. 保存和退出vim：在命令模式下输入`:` 进入末行模式，输入`wq`可以实现保存退出；如果想放弃编辑的内容输入`q!`强行退出，这一点刚才已经提到过了；在命令模式下也可以直接输入`ZZ`实现保存退出。如果只想保存文件不退出，那么可以在末行模式下输入`w`；可以在`w`后面输入空格再指定要保存的文件名。"
   ]
  },
  {
   "cell_type": "markdown",
   "metadata": {},
   "source": [
    "4. 光标操作。\n",
    "\n",
    "   - 在命令模式下可以通过`h`、`j`、`k`、`l`来控制光标向左、下、上、右的方向移动，可以在字母前输入数字来表示移动的距离，例如：`10h`表示向左移动10个字符。\n",
    "   - 在命令模式下可以通过`Ctrl+y`和`Ctrl+e`来实现向上、向下滚动一行文本的操作，可以通过`Ctrl+f`和`Ctrl+b`来实现向前和向后翻页的操作。\n",
    "   - 在命令模式下可以通过输入英文字母`G`将光标移到文件的末尾，可以通过`gg`将光标移到文件的开始，也可以通过在`G`前输入数字来将光标移动到指定的行。"
   ]
  },
  {
   "cell_type": "markdown",
   "metadata": {},
   "source": [
    "5. 文本操作。\n",
    "\n",
    "   - 删除：在命令模式下可以用`dd`来删除整行；可以在`dd`前加数字来指定删除的行数；可以用`d$`来实现删除从光标处删到行尾的操作，也可以通过`d0`来实现从光标处删到行首的操作；如果想删除一个单词，可以使用`dw`；如果要删除全文，可以在输入`:%d`（其中`:`用来从命令模式进入末行模式）。\n",
    "   - 复制和粘贴：在命令模式下可以用`yy`来复制整行；可以在`yy`前加数字来指定复制的行数；可以通过`p`将复制的内容粘贴到光标所在的地方。\n",
    "   - 撤销和恢复：在命令模式下输入`u`可以撤销之前的操作；通过`Ctrl+r`可以恢复被撤销的操作。\n",
    "   - 对内容进行排序：在命令模式下输入`%!sort`。"
   ]
  },
  {
   "cell_type": "markdown",
   "metadata": {},
   "source": [
    "6. 查找和替换。\n",
    "\n",
    "   - 查找操作需要输入`/`进入末行模式并提供正则表达式来匹配与之对应的内容，例如：`/doc.*\\.`，输入`n`来向前搜索，也可以输入`N`来向后搜索。\n",
    "   - 替换操作需要输入`:`进入末行模式并指定搜索的范围、正则表达式以及替换后的内容和匹配选项，例如：`:1,$s/doc.*/hello/gice`，其中：\n",
    "     - `g` - global：全局匹配。\n",
    "     - `i` - ignore case：忽略大小写匹配。\n",
    "     - `c` - confirm：替换时需要确认。\n",
    "     - `e` - error：忽略错误。"
   ]
  },
  {
   "cell_type": "markdown",
   "metadata": {},
   "source": [
    "7. 参数设定：在输入`:`进入末行模式后可以对vim进行设定。\n",
    "\n",
    "   - 设置Tab键的空格数：`set ts=4`\n",
    "\n",
    "   - 设置显示/不显示行号：`set nu` / `set nonu`\n",
    "\n",
    "   - 设置启用/关闭高亮语法：`syntax on` / `syntax off`\n",
    "\n",
    "   - 设置显示标尺（光标所在的行和列）： `set ruler`\n",
    "\n",
    "   - 设置启用/关闭搜索结果高亮：`set hls` / `set nohls`\n",
    "\n",
    "     > 说明：如果希望上面的这些设定在每次启动vim时都能自动生效，需要将这些设定写到用户主目录下的.vimrc文件中。"
   ]
  },
  {
   "cell_type": "markdown",
   "metadata": {},
   "source": [
    "8. 高级技巧\n",
    "\n",
    "   - 比较多个文件。\n",
    "\n",
    "     ```Shell\n",
    "     [root ~]# vim -d foo.txt bar.txt\n",
    "     ```\n",
    "     ![](./res/vim-diff.png)\n",
    "\n",
    "   - 打开多个文件。\n",
    "\n",
    "     ```Shell\n",
    "     [root ~]# vim foo.txt bar.txt hello.txt\n",
    "     ```"
   ]
  },
  {
   "cell_type": "markdown",
   "metadata": {},
   "source": [
    "     启动vim后只有一个窗口显示的是foo.txt，可以在末行模式中输入`ls`查看到打开的三个文件，也可以在末行模式中输入`b <num>`来显示另一个文件，例如可以用`:b 2`将bar.txt显示出来，可以用`:b 3`将hello.txt显示出来。"
   ]
  },
  {
   "cell_type": "markdown",
   "metadata": {},
   "source": [
    "   - 拆分和切换窗口。\n",
    "\n",
    "     可以在末行模式中输入`sp`或`vs`来实现对窗口的水平或垂直拆分，这样我们就可以同时打开多个编辑窗口，通过按两次`Ctrl+w`就可以实现编辑窗口的切换，在一个窗口中执行退出操作只会关闭对应的窗口，其他的窗口继续保留。"
   ]
  },
  {
   "cell_type": "markdown",
   "metadata": {},
   "source": [
    "   - 映射快捷键：在vim下可以将一些常用操作映射为快捷键来提升工作效率。\n",
    "     - 例子1：在命令模式下输入`F4`执行从第一行开始删除10000行代码的操作。\n",
    "\n",
    "       `:map <F4> gg10000dd`。\n",
    "\n",
    "       例子2：在编辑模式下输入`__main`直接补全为`if __name__ == '__main__':`。\n",
    "\n",
    "       `:inoremap __main if __name__ == '__main__':`"
   ]
  },
  {
   "cell_type": "markdown",
   "metadata": {},
   "source": [
    "     > 说明：上面例子2的`inoremap`中的`i`表示映射的键在编辑模式使用， `nore`表示不要递归，这一点非常重要，否则如果键对应的内容中又出现键本身，就会引发递归（相当于进入了死循环）。如果希望映射的快捷键每次启动vim时都能生效，需要将映射写到用户主目录下的.vimrc文件中。"
   ]
  },
  {
   "cell_type": "markdown",
   "metadata": {},
   "source": [
    "   - 录制宏。\n",
    "\n",
    "     - 在命令模式下输入`qa`开始录制宏（其中`a`是寄存器的名字，也可以是其他英文字母或0-9的数字）。\n",
    "\n",
    "     - 执行你的操作（光标操作、编辑操作等），这些操作都会被录制下来。\n",
    "\n",
    "     - 如果录制的操作已经完成了，按`q`结束录制。\n",
    "\n",
    "     - 通过`@a`（`a`是刚才使用的寄存器的名字）播放宏，如果要多次执行宏可以在前面加数字，例如`100@a`表示将宏播放100次。\n",
    "\n",
    "     - 可以试一试下面的例子来体验录制宏的操作，该例子来源于[Harttle Land网站](https://harttle.land/tags.html#Vim)，该网站上提供了很多关于vim的使用技巧，有兴趣的可以了解一下。"
   ]
  },
  {
   "cell_type": "markdown",
   "metadata": {},
   "source": [
    "### 软件安装和配置\n",
    "\n",
    "#### 使用包管理工具\n",
    "\n",
    "1. **yum** - Yellowdog Updater Modified。\n",
    "   - `yum search`：搜索软件包，例如`yum search nginx`。\n",
    "   - `yum list installed`：列出已经安装的软件包，例如`yum list installed | grep zlib`。\n",
    "   - `yum install`：安装软件包，例如`yum install nginx`。\n",
    "   - `yum remove`：删除软件包，例如`yum remove nginx`。\n",
    "   - `yum update`：更新软件包，例如`yum update`可以更新所有软件包，而`yum update tar`只会更新tar。\n",
    "   - `yum check-update`：检查有哪些可以更新的软件包。\n",
    "   - `yum info`：显示软件包的相关信息，例如`yum info nginx`。\n",
    "   "
   ]
  },
  {
   "cell_type": "markdown",
   "metadata": {},
   "source": [
    "2. **rpm** - Redhat Package Manager。\n",
    "   - 安装软件包：`rpm -ivh <packagename>.rpm`。\n",
    "   - 移除软件包：`rpm -e <packagename>`。\n",
    "   - 查询软件包：`rpm -qa`，例如可以用`rpm -qa | grep mysql`来检查是否安装了MySQL相关的软件包。"
   ]
  },
  {
   "cell_type": "markdown",
   "metadata": {},
   "source": [
    "下面以Nginx为例，演示如何使用yum安装软件。\n",
    "\n",
    "```Shell\n",
    "[root ~]# yum -y install nginx\n",
    "...\n",
    "Installed:\n",
    "  nginx.x86_64 1:1.12.2-2.el7\n",
    "Dependency Installed:\n",
    "  nginx-all-modules.noarch 1:1.12.2-2.el7\n",
    "  nginx-mod-http-geoip.x86_64 1:1.12.2-2.el7\n",
    "  nginx-mod-http-image-filter.x86_64 1:1.12.2-2.el7\n",
    "  nginx-mod-http-perl.x86_64 1:1.12.2-2.el7\n",
    "  nginx-mod-http-xslt-filter.x86_64 1:1.12.2-2.el7\n",
    "  nginx-mod-mail.x86_64 1:1.12.2-2.el7\n",
    "  nginx-mod-stream.x86_64 1:1.12.2-2.el7\n",
    "Complete!\n",
    "[root ~]# yum info nginx\n",
    "Loaded plugins: fastestmirror\n",
    "Loading mirror speeds from cached hostfile\n",
    "Installed Packages\n",
    "Name        : nginx\n",
    "Arch        : x86_64\n",
    "Epoch       : 1\n",
    "Version     : 1.12.2\n",
    "Release     : 2.el7\n",
    "Size        : 1.5 M\n",
    "Repo        : installed\n",
    "From repo   : epel\n",
    "Summary     : A high performance web server and reverse proxy server\n",
    "URL         : http://nginx.org/\n",
    "License     : BSD\n",
    "Description : Nginx is a web server and a reverse proxy server for HTTP, SMTP, POP3 and\n",
    "            : IMAP protocols, with a strong focus on high concurrency, performance and low\n",
    "            : memory usage.\n",
    "[root ~]# nginx -v\n",
    "nginx version: nginx/1.12.2\n",
    "```"
   ]
  },
  {
   "cell_type": "markdown",
   "metadata": {},
   "source": [
    "移除Nginx。\n",
    "\n",
    "```Shell\n",
    "[root ~]# yum -y remove nginx\n",
    "```"
   ]
  },
  {
   "cell_type": "markdown",
   "metadata": {},
   "source": [
    "下面以MySQL为例，演示如何使用rpm安装软件。要安装MySQL需要先到[MySQL官方网站](https://www.mysql.com/)下载对应的[RPM文件](https://dev.mysql.com/downloads/mysql/)，当然要选择和你使用的Linux系统对应的版本。MySQL现在是Oracle公司旗下的产品，在MySQL被收购后，MySQL的作者重新制作了一个MySQL的分支MariaDB，可以通过yum进行安装。"
   ]
  },
  {
   "cell_type": "markdown",
   "metadata": {},
   "source": [
    "```Shell\n",
    "[root mysql]# ls\n",
    "mysql-community-client-5.7.22-1.el7.x86_64.rpm\n",
    "mysql-community-common-5.7.22-1.el7.x86_64.rpm\n",
    "mysql-community-libs-5.7.22-1.el7.x86_64.rpm\n",
    "mysql-community-server-5.7.22-1.el7.x86_64.rpm\n",
    "[root mysql]# yum -y remove mariadb-libs\n",
    "[root mysql]# yum -y install libaio\n",
    "[root mysql]#rpm -ivh mysql-community-common-5.7.26-1.el7.x86_64.rpm\n",
    "...\n",
    "[root mysql]#rpm -ivh mysql-community-libs-5.7.26-1.el7.x86_64.rpm\n",
    "...\n",
    "[root mysql]#rpm -ivh mysql-community-client-5.7.26-1.el7.x86_64.rpm\n",
    "...\n",
    "[root mysql]#rpm -ivh mysql-community-server-5.7.26-1.el7.x86_64.rpm\n",
    "...\n",
    "```"
   ]
  },
  {
   "cell_type": "markdown",
   "metadata": {},
   "source": [
    "> 说明：由于MySQL和[MariaDB](https://mariadb.org/)的底层依赖库是有冲突的，所以上面我们首先用`yum`移除了名为mariadb-libs的依赖库并安装了名为libaio支持异步I/O操作的依赖库。关于MySQL和MariaDB之间的关系，可以阅读[维基百科](https://zh.wikipedia.org/wiki/MariaDB)上关于MariaDB的介绍。"
   ]
  },
  {
   "cell_type": "markdown",
   "metadata": {},
   "source": [
    "移除安装的MySQL。\n",
    "\n",
    "```Shell\n",
    "[root ~]# rpm -qa | grep mysql | xargs rpm -e\n",
    "```"
   ]
  },
  {
   "cell_type": "markdown",
   "metadata": {},
   "source": [
    "#### 下载解压配置环境变量\n",
    "\n",
    "下面以安装MongoDB为例，演示这类软件应该如何安装。"
   ]
  },
  {
   "cell_type": "markdown",
   "metadata": {},
   "source": [
    "```Shell\n",
    "[root ~]# wget https://fastdl.mongodb.org/linux/mongodb-linux-x86_64-rhel70-3.6.5.tgz\n",
    "--2018-06-21 18:32:53--  https://fastdl.mongodb.org/linux/mongodb-linux-x86_64-rhel70-3.6.5.tgz\n",
    "Resolving fastdl.mongodb.org (fastdl.mongodb.org)... 52.85.83.16, 52.85.83.228, 52.85.83.186, ...\n",
    "Connecting to fastdl.mongodb.org (fastdl.mongodb.org)|52.85.83.16|:443... connected.\n",
    "HTTP request sent, awaiting response... 200 OK\n",
    "Length: 100564462 (96M) [application/x-gzip]\n",
    "Saving to: ‘mongodb-linux-x86_64-rhel70-3.6.5.tgz’\n",
    "100%[==================================================>] 100,564,462  630KB/s   in 2m 9s\n",
    "2018-06-21 18:35:04 (760 KB/s) - ‘mongodb-linux-x86_64-rhel70-3.6.5.tgz’ saved [100564462/100564462]\n",
    "[root ~]# gunzip mongodb-linux-x86_64-rhel70-3.6.5.tgz\n",
    "[root ~]# tar -xvf mongodb-linux-x86_64-rhel70-3.6.5.tar\n",
    "mongodb-linux-x86_64-rhel70-3.6.5/README\n",
    "mongodb-linux-x86_64-rhel70-3.6.5/THIRD-PARTY-NOTICES\n",
    "mongodb-linux-x86_64-rhel70-3.6.5/MPL-2\n",
    "mongodb-linux-x86_64-rhel70-3.6.5/GNU-AGPL-3.0\n",
    "mongodb-linux-x86_64-rhel70-3.6.5/bin/mongodump\n",
    "mongodb-linux-x86_64-rhel70-3.6.5/bin/mongorestore\n",
    "mongodb-linux-x86_64-rhel70-3.6.5/bin/mongoexport\n",
    "mongodb-linux-x86_64-rhel70-3.6.5/bin/mongoimport\n",
    "mongodb-linux-x86_64-rhel70-3.6.5/bin/mongostat\n",
    "mongodb-linux-x86_64-rhel70-3.6.5/bin/mongotop\n",
    "mongodb-linux-x86_64-rhel70-3.6.5/bin/bsondump\n",
    "mongodb-linux-x86_64-rhel70-3.6.5/bin/mongofiles\n",
    "mongodb-linux-x86_64-rhel70-3.6.5/bin/mongoreplay\n",
    "mongodb-linux-x86_64-rhel70-3.6.5/bin/mongoperf\n",
    "mongodb-linux-x86_64-rhel70-3.6.5/bin/mongod\n",
    "mongodb-linux-x86_64-rhel70-3.6.5/bin/mongos\n",
    "mongodb-linux-x86_64-rhel70-3.6.5/bin/mongo\n",
    "mongodb-linux-x86_64-rhel70-3.6.5/bin/install_compass\n",
    "[root ~]# vim .bash_profile\n",
    "...\n",
    "PATH=$PATH:$HOME/bin:$HOME/mongodb-linux-x86_64-rhel70-3.6.5/bin\n",
    "export PATH\n",
    "...\n",
    "[root ~]# source .bash_profile\n",
    "[root ~]# mongod --version\n",
    "db version v3.6.5\n",
    "git version: a20ecd3e3a174162052ff99913bc2ca9a839d618\n",
    "OpenSSL version: OpenSSL 1.0.1e-fips 11 Feb 2013\n",
    "allocator: tcmalloc\n",
    "modules: none\n",
    "build environment:\n",
    "    distmod: rhel70\n",
    "    distarch: x86_64\n",
    "    target_arch: x86_64\n",
    "[root ~]# mongo --version\n",
    "MongoDB shell version v3.6.5\n",
    "git version: a20ecd3e3a174162052ff99913bc2ca9a839d618\n",
    "OpenSSL version: OpenSSL 1.0.1e-fips 11 Feb 2013\n",
    "allocator: tcmalloc\n",
    "modules: none\n",
    "build environment:\n",
    "    distmod: rhel70\n",
    "    distarch: x86_64\n",
    "    target_arch: x86_64\n",
    "```"
   ]
  },
  {
   "cell_type": "markdown",
   "metadata": {},
   "source": [
    "> 说明：当然也可以通过yum来安装MongoDB，具体可以参照[官方网站](https://docs.mongodb.com/master/administration/install-on-linux/)上给出的说明。"
   ]
  },
  {
   "cell_type": "markdown",
   "metadata": {},
   "source": [
    "#### 源代码构建安装\n",
    "\n",
    "1. 安装Python 3.6。\n",
    "\n",
    "   ```Shell\n",
    "   [root ~]# yum install gcc\n",
    "   [root ~]# wget https://www.python.org/ftp/python/3.6.5/Python-3.6.5.tgz\n",
    "   [root ~]# gunzip Python-3.6.5.tgz\n",
    "   [root ~]# tar -xvf Python-3.6.5.tar\n",
    "   [root ~]# cd Python-3.6.5\n",
    "   [root ~]# ./configure --prefix=/usr/local/python36 --enable-optimizations\n",
    "   [root ~]# yum -y install zlib-devel bzip2-devel openssl-devel ncurses-devel sqlite-devel readline-devel tk-devel gdbm-devel db4-devel libpcap-devel xz-devel\n",
    "   [root ~]# make && make install\n",
    "   ...\n",
    "   [root ~]# ln -s /usr/local/python36/bin/python3.6 /usr/bin/python3\n",
    "   [root ~]# python3 --version\n",
    "   Python 3.6.5\n",
    "   [root ~]# python3 -m pip install -U pip\n",
    "   [root ~]# pip3 --version\n",
    "   ```"
   ]
  },
  {
   "cell_type": "markdown",
   "metadata": {},
   "source": [
    "   > 说明：上面在安装好Python之后还需要注册PATH环境变量，将Python安装路径下bin文件夹的绝对路径注册到PATH环境变量中。注册环境变量可以修改用户主目录下的.bash_profile或者/etc目录下的profile文件，二者的区别在于前者相当于是用户环境变量，而后者相当于是系统环境变量。"
   ]
  },
  {
   "cell_type": "markdown",
   "metadata": {},
   "source": [
    "2. 安装Redis-3.2.12。\n",
    "\n",
    "   ```Shell\n",
    "   [root ~]# wget http://download.redis.io/releases/redis-3.2.12.tar.gz\n",
    "   [root ~]# gunzip redis-3.2.12.tar.gz\n",
    "   [root ~]# tar -xvf redis-3.2.12.tar\n",
    "   [root ~]# cd redis-3.2.12\n",
    "   [root ~]# make && make install\n",
    "   [root ~]# redis-server --version\n",
    "   Redis server v=3.2.12 sha=00000000:0 malloc=jemalloc-4.0.3 bits=64 build=5bc5cd3c03d6ceb6\n",
    "   [root ~]# redis-cli --version\n",
    "   redis-cli 3.2.12\n",
    "   ```"
   ]
  },
  {
   "cell_type": "markdown",
   "metadata": {},
   "source": [
    "### 配置服务\n",
    "\n",
    "我们可以Linux系统下安装和配置各种服务，也就是说我们可以把Linux系统打造成数据库服务器、Web服务器、缓存服务器、文件服务器、消息队列服务器等等。Linux下的大多数服务都被设置为守护进程（驻留在系统后台运行，但不会因为服务还在运行而导致Linux无法停止运行），所以我们安装的服务通常名字后面都有一个字母`d`，它是英文单词`daemon`的缩写，例如：防火墙服务叫firewalld，我们之前安装的MySQL服务叫mysqld，Apache服务器叫httpd等。在安装好服务之后，可以使用`systemctl`命令或`service`命令来完成对服务的启动、停止等操作，具体操作如下所示。"
   ]
  },
  {
   "cell_type": "markdown",
   "metadata": {},
   "source": [
    "1. 启动防火墙服务。\n",
    "\n",
    "   ```Shell\n",
    "   [root ~]# systemctl start firewalld\n",
    "   ```"
   ]
  },
  {
   "cell_type": "markdown",
   "metadata": {},
   "source": [
    "2. 终止防火墙服务。\n",
    "\n",
    "   ```Shell\n",
    "   [root ~]# systemctl stop firewalld\n",
    "   ```"
   ]
  },
  {
   "cell_type": "markdown",
   "metadata": {},
   "source": [
    "3. 重启防火墙服务。\n",
    "\n",
    "   ```Shell\n",
    "   [root ~]# systemctl restart firewalld\n",
    "   ```"
   ]
  },
  {
   "cell_type": "markdown",
   "metadata": {},
   "source": [
    "4. 查看防火墙服务状态。\n",
    "\n",
    "    ```Shell\n",
    "    [root ~]# systemctl status firewalld\n",
    "    ```"
   ]
  },
  {
   "cell_type": "markdown",
   "metadata": {},
   "source": [
    "5. 设置/禁用防火墙服务开机自启。\n",
    "\n",
    "   ```Shell\n",
    "   [root ~]# systemctl enable firewalld\n",
    "   Created symlink from /etc/systemd/system/dbus-org.fedoraproject.FirewallD1.service to /usr/lib/systemd/system/firewalld.service.\n",
    "   Created symlink from /etc/systemd/system/multi-user.target.wants/firewalld.service to /usr/lib/systemd/system/firewalld.service.\n",
    "   [root ~]# systemctl disable firewalld\n",
    "   Removed symlink /etc/systemd/system/multi-user.target.wants/firewalld.service.\n",
    "   Removed symlink /etc/systemd/system/dbus-org.fedoraproject.FirewallD1.service.\n",
    "   ```"
   ]
  },
  {
   "cell_type": "markdown",
   "metadata": {},
   "source": [
    "### 计划任务\n",
    "\n",
    "1. 在指定的时间执行命令。\n",
    "\n",
    "   - **at** - 将任务排队，在指定的时间执行。\n",
    "   - **atq** - 查看待执行的任务队列。\n",
    "   - **atrm** - 从队列中删除待执行的任务。"
   ]
  },
  {
   "cell_type": "markdown",
   "metadata": {},
   "source": [
    "   指定3天以后下午5点要执行的任务。\n",
    "\n",
    "   ```Shell\n",
    "   [root ~]# at 5pm+3days\n",
    "   at> rm -f /root/*.html\n",
    "   at> <EOT>\n",
    "   job 9 at Wed Jun  5 17:00:00 2019\n",
    "   ```"
   ]
  },
  {
   "cell_type": "markdown",
   "metadata": {},
   "source": [
    "   查看待执行的任务队列。\n",
    "\n",
    "   ```Shell\n",
    "   [root ~]# atq\n",
    "   9       Wed Jun  5 17:00:00 2019 a root\n",
    "   ```"
   ]
  },
  {
   "cell_type": "markdown",
   "metadata": {},
   "source": [
    "   从队列中删除指定的任务。\n",
    "\n",
    "   ```Shell\n",
    "   [root ~]$ atrm 9\n",
    "   ```"
   ]
  },
  {
   "cell_type": "markdown",
   "metadata": {},
   "source": [
    "2. 计划任务表 - **crontab**。\n",
    "\n",
    "   ```Shell\n",
    "   [root ~]# crontab -e\n",
    "   * * * * * echo \"hello, world!\" >> /root/hello.txt\n",
    "   59 23 * * * rm -f /root/*.log\n",
    "   ```"
   ]
  },
  {
   "cell_type": "markdown",
   "metadata": {},
   "source": [
    "   > 说明：输入`crontab -e`命令会打开vim来编辑Cron表达式并指定触发的任务，上面我们定制了两个计划任务，一个是每分钟向/root目录下的hello.txt中追加输出`hello, world!`；另一个是每天23时59分执行删除/root目录下以log为后缀名的文件。如果不知道Cron表达式如何书写，可以参照/etc/crontab文件中的提示（下面会讲到）或者用搜索引擎找一下“Cron表达式在线生成器”来生成Cron表达式。"
   ]
  },
  {
   "cell_type": "markdown",
   "metadata": {},
   "source": [
    "   和crontab相关的文件在`/etc`目录下，通过修改`/etc`目录下的crontab文件也能够定制计划任务。"
   ]
  },
  {
   "cell_type": "markdown",
   "metadata": {},
   "source": [
    "   ```Shell\n",
    "   [root ~]# cd /etc\n",
    "   [root etc]# ls -l | grep cron\n",
    "   -rw-------.  1 root root      541 Aug  3  2017 anacrontab\n",
    "   drwxr-xr-x.  2 root root     4096 Mar 27 11:56 cron.d\n",
    "   drwxr-xr-x.  2 root root     4096 Mar 27 11:51 cron.daily\n",
    "   -rw-------.  1 root root        0 Aug  3  2017 cron.deny\n",
    "   drwxr-xr-x.  2 root root     4096 Mar 27 11:50 cron.hourly\n",
    "   drwxr-xr-x.  2 root root     4096 Jun 10  2014 cron.monthly\n",
    "   -rw-r--r--   1 root root      493 Jun 23 15:09 crontab\n",
    "   drwxr-xr-x.  2 root root     4096 Jun 10  2014 cron.weekly\n",
    "   [root etc]# vim crontab\n",
    "     1 SHELL=/bin/bash\n",
    "     2 PATH=/sbin:/bin:/usr/sbin:/usr/bin\n",
    "     3 MAILTO=root\n",
    "     4\n",
    "     5 # For details see man 4 crontabs\n",
    "     6\n",
    "     7 # Example of job definition:\n",
    "     8 # .---------------- minute (0 - 59)\n",
    "     9 # |  .------------- hour (0 - 23)\n",
    "    10 # |  |  .---------- day of month (1 - 31)\n",
    "    11 # |  |  |  .------- month (1 - 12) OR jan,feb,mar,apr ...\n",
    "    12 # |  |  |  |  .---- day of week (0 - 6) (Sunday=0 or 7) OR sun,mon,tue,wed,thu,fri,sat\n",
    "    13 # |  |  |  |  |\n",
    "    14 # *  *  *  *  * user-name  command to be executed\n",
    "   ```"
   ]
  },
  {
   "cell_type": "markdown",
   "metadata": {},
   "source": [
    "### 网络访问和管理\n",
    "\n",
    "1. 安全远程连接 - **ssh**。\n",
    "\n",
    "    ```Shell\n",
    "    [root ~]$ ssh root@120.77.222.217\n",
    "    The authenticity of host '120.77.222.217 (120.77.222.217)' can't be established.\n",
    "    ECDSA key fingerprint is SHA256:BhUhykv+FvnIL03I9cLRpWpaCxI91m9n7zBWrcXRa8w.\n",
    "    ECDSA key fingerprint is MD5:cc:85:e9:f0:d7:07:1a:26:41:92:77:6b:7f:a0:92:65.\n",
    "    Are you sure you want to continue connecting (yes/no)? yes\n",
    "    Warning: Permanently added '120.77.222.217' (ECDSA) to the list of known hosts.\n",
    "    root@120.77.222.217's password: \n",
    "    ```"
   ]
  },
  {
   "cell_type": "markdown",
   "metadata": {},
   "source": [
    "2. 通过网络获取资源 - **wget**。\n",
    "\n",
    "   - -b 后台下载模式\n",
    "   - -O 下载到指定的目录\n",
    "   - -r 递归下载"
   ]
  },
  {
   "cell_type": "markdown",
   "metadata": {},
   "source": [
    "3. 发送和接收邮件 - **mail**。"
   ]
  },
  {
   "cell_type": "markdown",
   "metadata": {},
   "source": [
    "4. 网络配置工具（旧） - **ifconfig**。\n",
    "\n",
    "   ```Shell\n",
    "   [root ~]# ifconfig eth0\n",
    "   eth0: flags=4163<UP,BROADCAST,RUNNING,MULTICAST>  mtu 1500\n",
    "           inet 172.18.61.250  netmask 255.255.240.0  broadcast 172.18.63.255\n",
    "           ether 00:16:3e:02:b6:46  txqueuelen 1000  (Ethernet)\n",
    "           RX packets 1067841  bytes 1296732947 (1.2 GiB)\n",
    "           RX errors 0  dropped 0  overruns 0  frame 0\n",
    "           TX packets 409912  bytes 43569163 (41.5 MiB)\n",
    "           TX errors 0  dropped 0 overruns 0  carrier 0  collisions \n",
    "   ```"
   ]
  },
  {
   "cell_type": "markdown",
   "metadata": {},
   "source": [
    "5. 网络配置工具（新） - **ip**。\n",
    "\n",
    "   ```Shell\n",
    "   [root ~]# ip address\n",
    "   1: lo: <LOOPBACK,UP,LOWER_UP> mtu 65536 qdisc noqueue state UNKNOWN qlen 1\n",
    "       link/loopback 00:00:00:00:00:00 brd 00:00:00:00:00:00\n",
    "       inet 127.0.0.1/8 scope host lo\n",
    "          valid_lft forever preferred_lft forever\n",
    "   2: eth0: <BROADCAST,MULTICAST,UP,LOWER_UP> mtu 1500 qdisc pfifo_fast state UP qlen 1000\n",
    "       link/ether 00:16:3e:02:b6:46 brd ff:ff:ff:ff:ff:ff\n",
    "       inet 172.18.61.250/20 brd 172.18.63.255 scope global eth0\n",
    "          valid_lft forever preferred_lft forever\n",
    "   ```"
   ]
  },
  {
   "cell_type": "markdown",
   "metadata": {},
   "source": [
    "6. 网络可达性检查 - **ping**。\n",
    "\n",
    "   ```Shell\n",
    "   [root ~]# ping www.baidu.com -c 3\n",
    "   PING www.a.shifen.com (220.181.111.188) 56(84) bytes of data.\n",
    "   64 bytes from 220.181.111.188 (220.181.111.188): icmp_seq=1 ttl=51 time=36.3 ms\n",
    "   64 bytes from 220.181.111.188 (220.181.111.188): icmp_seq=2 ttl=51 time=36.4 ms\n",
    "   64 bytes from 220.181.111.188 (220.181.111.188): icmp_seq=3 ttl=51 time=36.4 ms\n",
    "   --- www.a.shifen.com ping statistics ---\n",
    "   3 packets transmitted, 3 received, 0% packet loss, time 2002ms\n",
    "   rtt min/avg/max/mdev = 36.392/36.406/36.427/0.156 ms\n",
    "   ```"
   ]
  },
  {
   "cell_type": "markdown",
   "metadata": {},
   "source": [
    "7. 显示或管理路由表 - **route**。"
   ]
  },
  {
   "cell_type": "markdown",
   "metadata": {},
   "source": [
    "8. 查看网络服务和端口 - **netstat** / **ss**。\n",
    "\n",
    "   ```Shell\n",
    "   [root ~]# netstat -nap | grep nginx\n",
    "   ```"
   ]
  },
  {
   "cell_type": "markdown",
   "metadata": {},
   "source": [
    "9. 网络监听抓包 - **tcpdump**。"
   ]
  },
  {
   "cell_type": "markdown",
   "metadata": {},
   "source": [
    "10. 安全文件拷贝 - **scp**。\n",
    "\n",
    "  ```Shell\n",
    "      [root ~]# scp root@1.2.3.4:/root/guido.jpg hellokitty@4.3.2.1:/home/hellokitty/pic.jpg\n",
    "   ```"
   ]
  },
  {
   "cell_type": "markdown",
   "metadata": {},
   "source": [
    " \n",
    "\n",
    "11. 文件同步工具 - **rsync**。\n",
    "\n",
    "    > 说明：使用`rsync`可以实现文件的自动同步，这个对于文件服务器来说相当重要。关于这个命令的用法，我们在后面讲项目部署的时候为大家详细说明。"
   ]
  },
  {
   "cell_type": "markdown",
   "metadata": {},
   "source": [
    "12. 安全文件传输 - **sftp**。\n",
    "\n",
    "    ```Shell\n",
    "    [root ~]# sftp root@1.2.3.4\n",
    "    root@1.2.3.4's password:\n",
    "    Connected to 1.2.3.4.\n",
    "    sftp>\n",
    "    ```"
   ]
  },
  {
   "cell_type": "markdown",
   "metadata": {},
   "source": [
    "    - `help`：显示帮助信息。\n",
    "\n",
    "    - `ls`/`lls`：显示远端/本地目录列表。\n",
    "\n",
    "    - `cd`/`lcd`：切换远端/本地路径。\n",
    "\n",
    "    - `mkdir`/`lmkdir`：创建远端/本地目录。\n",
    "\n",
    "    - `pwd`/`lpwd`：显示远端/本地当前工作目录。\n",
    "\n",
    "    - `get`：下载文件。\n",
    "\n",
    "    - `put`：上传文件。\n",
    "\n",
    "    - `rm`：删除远端文件。\n",
    "\n",
    "    - `bye`/`exit`/`quit`：退出sftp。"
   ]
  },
  {
   "cell_type": "markdown",
   "metadata": {},
   "source": [
    "### 进程管理\n",
    "\n",
    "1. 查看进程 - **ps**。\n",
    "\n",
    "   ```Shell\n",
    "   [root ~]# ps -ef\n",
    "   UID        PID  PPID  C STIME TTY          TIME CMD\n",
    "   root         1     0  0 Jun23 ?        00:00:05 /usr/lib/systemd/systemd --switched-root --system --deserialize 21\n",
    "   root         2     0  0 Jun23 ?        00:00:00 [kthreadd]\n",
    "   ...\n",
    "   [root ~]# ps -ef | grep mysqld\n",
    "   root      4943  4581  0 22:45 pts/0    00:00:00 grep --color=auto mysqld\n",
    "   mysql    25257     1  0 Jun25 ?        00:00:39 /usr/sbin/mysqld --daemonize --pid-file=/var/run/mysqld/mysqld.pid"
   ]
  },
  {
   "cell_type": "markdown",
   "metadata": {},
   "source": [
    "### 进程管理\n",
    "\n",
    "1. 查看进程 - **ps**。\n",
    "\n",
    "   ```Shell\n",
    "   [root ~]# ps -ef\n",
    "   UID        PID  PPID  C STIME TTY          TIME CMD\n",
    "   root         1     0  0 Jun23 ?        00:00:05 /usr/lib/systemd/systemd --switched-root --system --deserialize 21\n",
    "   root         2     0  0 Jun23 ?        00:00:00 [kthreadd]\n",
    "   ...\n",
    "   [root ~]# ps -ef | grep mysqld\n",
    "   root      4943  4581  0 22:45 pts/0    00:00:00 grep --color=auto mysqld\n",
    "   mysql    25257     1  0 Jun25 ?        00:00:39 /usr/sbin/mysqld --daemonize --pid-file=/var/run/mysqld/mysqld.pid\n",
    "   ```"
   ]
  },
  {
   "cell_type": "markdown",
   "metadata": {},
   "source": [
    "2. 显示进程状态树 - **pstree**。\n",
    "\n",
    "    ```Shell\n",
    "    [root ~]# pstree\n",
    "    systemd─┬─AliYunDun───18*[{AliYunDun}]\n",
    "            ├─AliYunDunUpdate───3*[{AliYunDunUpdate}]\n",
    "            ├─2*[agetty]\n",
    "            ├─aliyun-service───2*[{aliyun-service}]\n",
    "            ├─atd\n",
    "            ├─auditd───{auditd}\n",
    "            ├─dbus-daemon\n",
    "            ├─dhclient\n",
    "            ├─irqbalance\n",
    "            ├─lvmetad\n",
    "            ├─mysqld───28*[{mysqld}]\n",
    "            ├─nginx───2*[nginx]\n",
    "            ├─ntpd\n",
    "            ├─polkitd───6*[{polkitd}]\n",
    "            ├─rsyslogd───2*[{rsyslogd}]\n",
    "            ├─sshd───sshd───bash───pstree\n",
    "            ├─systemd-journal\n",
    "            ├─systemd-logind\n",
    "            ├─systemd-udevd\n",
    "            └─tuned───4*[{tuned}]\n",
    "    ```"
   ]
  },
  {
   "cell_type": "markdown",
   "metadata": {},
   "source": [
    "3. 查找与指定条件匹配的进程 - **pgrep**。\n",
    "\n",
    "   ```Shell\n",
    "   [root ~]$ pgrep mysqld\n",
    "   3584\n",
    "   ```\n",
    "\n",
    "4. 通过进程号终止进程 - **kill**。\n",
    "\n",
    "   ```Shell\n",
    "   [root ~]$ kill -l\n",
    "    1) SIGHUP       2) SIGINT       3) SIGQUIT      4) SIGILL       5) SIGTRAP\n",
    "    6) SIGABRT      7) SIGBUS       8) SIGFPE       9) SIGKILL     10) SIGUSR1\n",
    "   11) SIGSEGV     12) SIGUSR2     13) SIGPIPE     14) SIGALRM     15) SIGTERM\n",
    "   16) SIGSTKFLT   17) SIGCHLD     18) SIGCONT     19) SIGSTOP     20) SIGTSTP\n",
    "   21) SIGTTIN     22) SIGTTOU     23) SIGURG      24) SIGXCPU     25) SIGXFSZ\n",
    "   26) SIGVTALRM   27) SIGPROF     28) SIGWINCH    29) SIGIO       30) SIGPWR\n",
    "   31) SIGSYS      34) SIGRTMIN    35) SIGRTMIN+1  36) SIGRTMIN+2  37) SIGRTMIN+3\n",
    "   38) SIGRTMIN+4  39) SIGRTMIN+5  40) SIGRTMIN+6  41) SIGRTMIN+7  42) SIGRTMIN+8\n",
    "   43) SIGRTMIN+9  44) SIGRTMIN+10 45) SIGRTMIN+11 46) SIGRTMIN+12 47) SIGRTMIN+13\n",
    "   48) SIGRTMIN+14 49) SIGRTMIN+15 50) SIGRTMAX-14 51) SIGRTMAX-13 52) SIGRTMAX-12\n",
    "   53) SIGRTMAX-11 54) SIGRTMAX-10 55) SIGRTMAX-9  56) SIGRTMAX-8  57) SIGRTMAX-7\n",
    "   58) SIGRTMAX-6  59) SIGRTMAX-5  60) SIGRTMAX-4  61) SIGRTMAX-3  62) SIGRTMAX-2\n",
    "   63) SIGRTMAX-1  64) SIGRTMAX\n",
    "   [root ~]# kill 1234\n",
    "   [root ~]# kill -9 1234\n",
    "   ```"
   ]
  },
  {
   "cell_type": "markdown",
   "metadata": {},
   "source": [
    "   例子：用一条命令强制终止正在运行的Redis进程。\n",
    "\n",
    "    ```Shell\n",
    "   ps -ef | grep redis | grep -v grep | awk '{print $2}' | xargs kill\n",
    "    ```"
   ]
  },
  {
   "cell_type": "markdown",
   "metadata": {},
   "source": [
    "5. 通过进程名终止进程 - **killall** / **pkill**。\n",
    "\n",
    "    结束名为mysqld的进程。\n",
    "\n",
    "    ```Shell\n",
    "    [root ~]# pkill mysqld\n",
    "    ```"
   ]
  },
  {
   "cell_type": "markdown",
   "metadata": {},
   "source": [
    "    结束hellokitty用户的所有进程。\n",
    "\n",
    "    ```Shell\n",
    "    [root ~]# pkill -u hellokitty\n",
    "    ```"
   ]
  },
  {
   "cell_type": "markdown",
   "metadata": {},
   "source": [
    "    > 说明：这样的操作会让hellokitty用户和服务器断开连接。"
   ]
  },
  {
   "cell_type": "markdown",
   "metadata": {},
   "source": [
    "6. 将进程置于后台运行。\n",
    "\n",
    "   - `Ctrl+Z` - 快捷键，用于停止进程并置于后台。\n",
    "   - `&` - 将进程置于后台运行。\n",
    "\n",
    "   ```Shell\n",
    "   [root ~]# mongod &\n",
    "   [root ~]# redis-server\n",
    "   ...\n",
    "   ^Z\n",
    "   [4]+  Stopped                 redis-server\n",
    "   ```"
   ]
  },
  {
   "cell_type": "markdown",
   "metadata": {},
   "source": [
    "7. 查询后台进程 - **jobs**。\n",
    "\n",
    "   ```Shell\n",
    "   [root ~]# jobs\n",
    "   [2]   Running                 mongod &\n",
    "   [3]-  Stopped                 cat\n",
    "   [4]+  Stopped                 redis-server\n",
    "   ```"
   ]
  },
  {
   "cell_type": "markdown",
   "metadata": {},
   "source": [
    "8. 让进程在后台继续运行 - **bg**。\n",
    "\n",
    "   ```Shell\n",
    "   [root ~]# bg %4\n",
    "   [4]+ redis-server &\n",
    "   [root ~]# jobs\n",
    "   [2]   Running                 mongod &\n",
    "   [3]+  Stopped                 cat\n",
    "   [4]-  Running                 redis-server &\n",
    "   ```"
   ]
  },
  {
   "cell_type": "markdown",
   "metadata": {},
   "source": [
    "9. 将后台进程置于前台 - **fg**。\n",
    "\n",
    "    ```Shell\n",
    "    [root ~]# fg %4\n",
    "    redis-server\n",
    "    ```\n",
    "\n",
    "    > 说明：置于前台的进程可以使用`Ctrl+C`来终止它。"
   ]
  },
  {
   "cell_type": "markdown",
   "metadata": {},
   "source": [
    "10. 调整程序/进程运行时优先级 - **nice** / **renice**。"
   ]
  },
  {
   "cell_type": "markdown",
   "metadata": {},
   "source": [
    "11. 用户登出后进程继续工作 - **nohup**。\n",
    "\n",
    "     ```Shell\n",
    "     [root ~]# nohup ping www.baidu.com > result.txt &\n",
    "     ```"
   ]
  },
  {
   "cell_type": "markdown",
   "metadata": {},
   "source": [
    "12. 跟踪进程系统调用情况 - **strace**。\n",
    "\n",
    "     ```Shell\n",
    "     [root ~]# pgrep mysqld\n",
    "     8803\n",
    "     [root ~]# strace -c -p 8803\n",
    "     strace: Process 8803 attached\n",
    "     ^Cstrace: Process 8803 detached\n",
    "     % time     seconds  usecs/call     calls    errors syscall\n",
    "     ------ ----------- ----------- --------- --------- ----------------\n",
    "      99.18    0.005719        5719         1           restart_syscall\n",
    "       0.49    0.000028          28         1           mprotect\n",
    "       0.24    0.000014          14         1           clone\n",
    "       0.05    0.000003           3         1           mmap\n",
    "       0.03    0.000002           2         1           accept\n",
    "     ------ ----------- ----------- --------- --------- ----------------\n",
    "     100.00    0.005766                     5           total\n",
    "     ```"
   ]
  },
  {
   "cell_type": "markdown",
   "metadata": {},
   "source": [
    "     > 说明：这个命令的用法和参数都比较复杂，建议大家在真正用到这个命令的时候再根据实际需要进行了解。"
   ]
  },
  {
   "cell_type": "markdown",
   "metadata": {},
   "source": [
    "13. 查看当前运行级别 - **runlevel**。\n",
    "\n",
    "     ```Shell\n",
    "     [root ~]# runlevel\n",
    "     N 3\n",
    "     ```"
   ]
  },
  {
   "cell_type": "markdown",
   "metadata": {},
   "source": [
    "14. 实时监控进程占用资源状况 - **top**。\n",
    "\n",
    "     ```Shell\n",
    "     [root ~]# top\n",
    "     top - 23:04:23 up 3 days, 14:10,  1 user,  load average: 0.00, 0.01, 0.05\n",
    "     Tasks:  65 total,   1 running,  64 sleeping,   0 stopped,   0 zombie\n",
    "     %Cpu(s):  0.3 us,  0.3 sy,  0.0 ni, 99.3 id,  0.0 wa,  0.0 hi,  0.0 si,  0.0 st\n",
    "     KiB Mem :  1016168 total,   191060 free,   324700 used,   500408 buff/cache\n",
    "     KiB Swap:        0 total,        0 free,        0 used.   530944 avail Mem\n",
    "     ...\n",
    "     ```\n",
    "\n",
    "     - `-c` - 显示进程的整个路径。\n",
    "     - `-d` - 指定两次刷屏之间的间隔时间（秒为单位）。\n",
    "     - `-i` - 不显示闲置进程或僵尸进程。\n",
    "     - `-p` - 显示指定进程的信息。"
   ]
  },
  {
   "cell_type": "markdown",
   "metadata": {},
   "source": [
    "### 系统诊断\n",
    "\n",
    "1. 系统启动异常诊断 - **dmesg**。"
   ]
  },
  {
   "cell_type": "markdown",
   "metadata": {},
   "source": [
    "2. 查看系统活动信息 - **sar**。\n",
    "\n",
    "   ```Shell\n",
    "   [root ~]# sar -u -r 5 10\n",
    "   Linux 3.10.0-957.10.1.el7.x86_64 (izwz97tbgo9lkabnat2lo8z)      06/02/2019      _x86_64_        (2 CPU)\n",
    "   \n",
    "   06:48:30 PM     CPU     %user     %nice   %system   %iowait    %steal     %idle\n",
    "   06:48:35 PM     all      0.10      0.00      0.10      0.00      0.00     99.80\n",
    "   \n",
    "   06:48:30 PM kbmemfree kbmemused  %memused kbbuffers  kbcached  kbcommit   %commit  kbactive   kbinact   kbdirty\n",
    "   06:48:35 PM   1772012   2108392     54.33    102816   1634528    784940     20.23    793328   1164704         0\n",
    "   ```\n",
    "\n",
    "   - `-A` - 显示所有设备（CPU、内存、磁盘）的运行状况。\n",
    "   - `-u` - 显示所有CPU的负载情况。\n",
    "   - `-d` - 显示所有磁盘的使用情况。\n",
    "   - `-r` - 显示内存的使用情况。\n",
    "   - `-n` - 显示网络运行状态。"
   ]
  },
  {
   "cell_type": "markdown",
   "metadata": {},
   "source": [
    "3. 查看内存使用情况 - **free**。\n",
    "\n",
    "   ```Shell\n",
    "   [root ~]# free\n",
    "                 total        used        free      shared  buff/cache   available\n",
    "   Mem:        1016168      323924      190452         356      501792      531800\n",
    "   Swap:             0           0           0\n",
    "   ```"
   ]
  },
  {
   "cell_type": "markdown",
   "metadata": {},
   "source": [
    "4. 虚拟内存统计 - **vmstat**。\n",
    "\n",
    "   ```Shell\n",
    "   [root ~]# vmstat\n",
    "   procs -----------memory---------- ---swap-- -----io---- -system-- ------cpu-----\n",
    "    r  b   swpd   free   buff  cache   si   so    bi    bo   in   cs us sy id wa st\n",
    "    2  0      0 204020  79036 667532    0    0     5    18  101   58  1  0 99  0  0\n",
    "   ```"
   ]
  },
  {
   "cell_type": "markdown",
   "metadata": {},
   "source": [
    "5. CPU信息统计 - **mpstat**。\n",
    "\n",
    "   ```Shell\n",
    "   [root ~]# mpstat\n",
    "   Linux 3.10.0-957.5.1.el7.x86_64 (iZ8vba0s66jjlfmo601w4xZ)       05/30/2019      _x86_64_        (1 CPU)\n",
    "   \n",
    "   01:51:54 AM  CPU    %usr   %nice    %sys %iowait    %irq   %soft  %steal  %guest  %gnice   %idle\n",
    "   01:51:54 AM  all    0.71    0.00    0.17    0.04    0.00    0.00    0.00    0.00    0.00   99.07\n",
    "   ```"
   ]
  },
  {
   "cell_type": "markdown",
   "metadata": {},
   "source": [
    "6. 查看进程使用内存状况 - **pmap**。\n",
    "\n",
    "   ```Shell\n",
    "   [root ~]# ps\n",
    "     PID TTY          TIME CMD\n",
    "    4581 pts/0    00:00:00 bash\n",
    "    5664 pts/0    00:00:00 ps\n",
    "   [root ~]# pmap 4581\n",
    "   4581:   -bash\n",
    "   0000000000400000    884K r-x-- bash\n",
    "   00000000006dc000      4K r---- bash\n",
    "   00000000006dd000     36K rw--- bash\n",
    "   00000000006e6000     24K rw---   [ anon ]\n",
    "   0000000001de0000    400K rw---   [ anon ]\n",
    "   00007f82fe805000     48K r-x-- libnss_files-2.17.so\n",
    "   00007f82fe811000   2044K ----- libnss_files-2.17.so\n",
    "   ...\n",
    "   ```"
   ]
  },
  {
   "cell_type": "markdown",
   "metadata": {},
   "source": [
    "7. 报告设备CPU和I/O统计信息 - **iostat**。\n",
    "\n",
    "   ```Shell\n",
    "   [root ~]# iostat\n",
    "   Linux 3.10.0-693.11.1.el7.x86_64 (iZwz97tbgo9lkabnat2lo8Z)      06/26/2018      _x86_64_       (1 CPU)\n",
    "   avg-cpu:  %user   %nice %system %iowait  %steal   %idle\n",
    "              0.79    0.00    0.20    0.04    0.00   98.97\n",
    "   Device:            tps    kB_read/s    kB_wrtn/s    kB_read    kB_wrtn\n",
    "   vda               0.85         6.78        21.32    2106565    6623024\n",
    "   vdb               0.00         0.01         0.00       2088          0\n",
    "   ```"
   ]
  },
  {
   "cell_type": "markdown",
   "metadata": {},
   "source": [
    "8. 显示所有PCI设备 - **lspci**。\n",
    "\n",
    "   ```Shell\n",
    "   [root ~]# lspci\n",
    "   00:00.0 Host bridge: Intel Corporation 440FX - 82441FX PMC [Natoma] (rev 02)\n",
    "   00:01.0 ISA bridge: Intel Corporation 82371SB PIIX3 ISA [Natoma/Triton II]\n",
    "   00:01.1 IDE interface: Intel Corporation 82371SB PIIX3 IDE [Natoma/Triton II]\n",
    "   00:01.2 USB controller: Intel Corporation 82371SB PIIX3 USB [Natoma/Triton II] (rev 01)\n",
    "   00:01.3 Bridge: Intel Corporation 82371AB/EB/MB PIIX4 ACPI (rev 03)\n",
    "   00:02.0 VGA compatible controller: Cirrus Logic GD 5446\n",
    "   00:03.0 Ethernet controller: Red Hat, Inc. Virtio network device\n",
    "   00:04.0 Communication controller: Red Hat, Inc. Virtio console\n",
    "   00:05.0 SCSI storage controller: Red Hat, Inc. Virtio block device\n",
    "   00:06.0 SCSI storage controller: Red Hat, Inc. Virtio block device\n",
    "   00:07.0 Unclassified device [00ff]: Red Hat, Inc. Virtio memory balloon\n",
    "   ```"
   ]
  },
  {
   "cell_type": "markdown",
   "metadata": {},
   "source": [
    "9. 显示进程间通信设施的状态 - **ipcs**。\n",
    "\n",
    "   ```Shell\n",
    "   [root ~]# ipcs\n",
    "   \n",
    "   ------ Message Queues --------\n",
    "   key        msqid      owner      perms      used-bytes   messages    \n",
    "   \n",
    "   ------ Shared Memory Segments --------\n",
    "   key        shmid      owner      perms      bytes      nattch     status      \n",
    "   \n",
    "   ------ Semaphore Arrays --------\n",
    "   key        semid      owner      perms      nsems\n",
    "   ```"
   ]
  },
  {
   "cell_type": "markdown",
   "metadata": {},
   "source": [
    "### Shell编程\n",
    "\n",
    "之前我们提到过，Shell是一个连接用户和操作系统的应用程序，它提供了人机交互的界面（接口），用户通过这个界面访问操作系统内核的服务。Shell脚本是一种为Shell编写的脚本程序，我们可以通过Shell脚本来进行系统管理，同时也可以通过它进行文件操作。总之，编写Shell脚本对于使用Linux系统的人来说，应该是一项标配技能。"
   ]
  },
  {
   "cell_type": "markdown",
   "metadata": {},
   "source": [
    "互联网上有大量关于Shell脚本的相关知识，我不打算再此对Shell脚本做一个全面系统的讲解，我们通过下面的代码来感性的认识下Shell脚本就行了。"
   ]
  },
  {
   "cell_type": "markdown",
   "metadata": {},
   "source": [
    "例子1：输入两个整数m和n，计算从m到n的整数求和的结果。\n",
    "\n",
    "```Shell\n",
    "#!/usr/bin/bash\n",
    "printf 'm = '\n",
    "read m\n",
    "printf 'n = '\n",
    "read n\n",
    "a=$m\n",
    "sum=0\n",
    "while [ $a -le $n ]\n",
    "do\n",
    "    sum=$[ sum + a ]\n",
    "    a=$[ a + 1 ]\n",
    "done\n",
    "echo '结果: '$sum\n",
    "```"
   ]
  },
  {
   "cell_type": "markdown",
   "metadata": {},
   "source": [
    "例子2：自动创建文件夹和指定数量的文件。\n",
    "\n",
    "```Shell\n",
    "#!/usr/bin/bash\n",
    "printf '输入文件夹名: '\n",
    "read dir\n",
    "printf '输入文件名: '\n",
    "read file\n",
    "printf '输入文件数量(<1000): '\n",
    "read num\n",
    "if [ $num -ge 1000 ]\n",
    "then\n",
    "    echo '文件数量不能超过1000'\n",
    "else\n",
    "    if [ -e $dir -a -d $dir ]\n",
    "    then\n",
    "        rm -rf $dir\n",
    "    else\n",
    "        if [ -e $dir -a -f $dir ]\n",
    "        then\n",
    "            rm -f $dir\n",
    "        fi\n",
    "    fi\n",
    "    mkdir -p $dir\n",
    "    index=1\n",
    "    while [ $index -le $num ]\n",
    "    do\n",
    "        if [ $index -lt 10 ]\n",
    "        then\n",
    "            pre='00'\n",
    "        elif [ $index -lt 100 ]\n",
    "        then\n",
    "            pre='0'\n",
    "        else\n",
    "            pre=''\n",
    "        fi\n",
    "        touch $dir'/'$file'_'$pre$index\n",
    "        index=$[ index + 1 ]\n",
    "    done\n",
    "fi\n",
    "```"
   ]
  },
  {
   "cell_type": "markdown",
   "metadata": {},
   "source": [
    "例子3：自动安装指定版本的Redis。\n",
    "\n",
    "```Shell\n",
    "#!/usr/bin/bash\n",
    "install_redis() {\n",
    "    if ! which redis-server > /dev/null\n",
    "    then\n",
    "        cd /root\n",
    "        wget $1$2'.tar.gz' >> install.log\n",
    "        gunzip /root/$2'.tar.gz'\n",
    "        tar -xf /root/$2'.tar'\n",
    "        cd /root/$2\n",
    "        make >> install.log\n",
    "        make install >> install.log\n",
    "        echo '安装完成'\n",
    "    else\n",
    "        echo '已经安装过Redis'\n",
    "    fi\n",
    "}\n",
    "\n",
    "install_redis 'http://download.redis.io/releases/' $1\n",
    "```"
   ]
  },
  {
   "cell_type": "markdown",
   "metadata": {},
   "source": [
    "### 相关资源\n",
    "\n",
    "1. Linux命令行常用快捷键\n",
    "\n",
    "   | 快捷键     | 功能说明                                     |\n",
    "   | ---------- | -------------------------------------------- |\n",
    "   | tab        | 自动补全命令或路径                           |\n",
    "   | Ctrl+a     | 将光标移动到命令行行首                       |\n",
    "   | Ctrl+e     | 将光标移动到命令行行尾                       |\n",
    "   | Ctrl+f     | 将光标向右移动一个字符                       |\n",
    "   | Ctrl+b     | 将光标向左移动一个字符                       |\n",
    "   | Ctrl+k     | 剪切从光标到行尾的字符                       |\n",
    "   | Ctrl+u     | 剪切从光标到行首的字符                       |\n",
    "   | Ctrl+w     | 剪切光标前面的一个单词                       |\n",
    "   | Ctrl+y     | 复制剪切命名剪切的内容                       |\n",
    "   | Ctrl+c     | 中断正在执行的任务                           |\n",
    "   | Ctrl+h     | 删除光标前面的一个字符                       |\n",
    "   | Ctrl+d     | 退出当前命令行                               |\n",
    "   | Ctrl+r     | 搜索历史命令                                 |\n",
    "   | Ctrl+g     | 退出历史命令搜索                             |\n",
    "   | Ctrl+l     | 清除屏幕上所有内容在屏幕的最上方开启一个新行 |\n",
    "   | Ctrl+s     | 锁定终端使之暂时无法输入内容                 |\n",
    "   | Ctrl+q     | 退出终端锁定                                 |\n",
    "   | Ctrl+z     | 将正在终端执行的任务停下来放到后台           |\n",
    "   | !!         | 执行上一条命令                               |\n",
    "   | !数字      | 执行数字对应的历史命令                       |\n",
    "   | !字母      | 执行最近的以字母打头的命令                   |\n",
    "   | !$ / Esc+. | 获得上一条命令最后一个参数                   |\n",
    "   | Esc+b      | 移动到当前单词的开头                         |\n",
    "   | Esc+f      | 移动到当前单词的结尾                         |"
   ]
  },
  {
   "cell_type": "markdown",
   "metadata": {},
   "source": [
    "2. man查阅命令手册的内容说明\n",
    "\n",
    "   | 手册中的标题 | 功能说明                                                     |\n",
    "   | ------------ | ------------------------------------------------------------ |\n",
    "   | NAME         | 命令的说明和介绍                                             |\n",
    "   | SYNOPSIS     | 使用该命令的基本语法                                         |\n",
    "   | DESCRIPTION  | 使用该命令的详细描述，各个参数的作用，有时候这些信息会出现在OPTIONS中 |\n",
    "   | OPTIONS      | 命令相关参数选项的说明                                       |\n",
    "   | EXAMPLES     | 使用该命令的参考例子                                         |\n",
    "   | EXIT STATUS  | 命令结束的退出状态码，通常0表示成功执行                      |\n",
    "   | SEE ALSO     | 和命令相关的其他命令或信息                                   |\n",
    "   | BUGS         | 和命令相关的缺陷的描述                                       |\n",
    "   | AUTHOR       | 该命令的作者介绍                                             |"
   ]
  },
  {
   "cell_type": "markdown",
   "metadata": {},
   "source": [
    "## 关系型数据库和MySQL概述"
   ]
  },
  {
   "cell_type": "markdown",
   "metadata": {},
   "source": [
    "### 关系型数据库概述\n",
    "\n",
    "1. 数据持久化 - 将数据保存到能够长久保存数据的存储介质中，在掉电的情况下数据也不会丢失。\n",
    "\n",
    "2. 数据库发展史 - 网状数据库、层次数据库、关系数据库、NoSQL 数据库、NewSQL 数据库。\n",
    "\n",
    "   > 1970年，IBM的研究员E.F.Codd在*Communication of the ACM*上发表了名为*A Relational Model of Data for Large Shared Data Banks*的论文，提出了**关系模型**的概念，奠定了关系模型的理论基础。后来Codd又陆续发表多篇文章，论述了范式理论和衡量关系系统的12条标准，用数学理论奠定了关系数据库的基础。"
   ]
  },
  {
   "cell_type": "markdown",
   "metadata": {},
   "source": [
    "3. 关系数据库特点。\n",
    "\n",
    "   - 理论基础：**关系代数**（关系运算、集合论、一阶谓词逻辑）。\n",
    "\n",
    "   - 具体表象：用**二维表**（有行和列）组织数据。\n",
    "\n",
    "   - 编程语言：**结构化查询语言**（SQL）。"
   ]
  },
  {
   "cell_type": "markdown",
   "metadata": {},
   "source": [
    "4. ER模型（实体关系模型）和概念模型图。\n",
    "\n",
    "   **ER模型**，全称为**实体关系模型**（Entity-Relationship Model），由美籍华裔计算机科学家陈品山先生提出，是概念数据模型的高层描述方式，如下图所示。\n",
    "\n",
    "   <img src=\"https://gitee.com/jackfrued/mypic/raw/master/20210826003119.png\" width=\"75%\">\n",
    "\n",
    "   - 实体 - 矩形框\n",
    "   - 属性 - 椭圆框\n",
    "   - 关系 - 菱形框\n",
    "   - 重数 - 1:1（一对一） / 1:N（一对多） / M:N（多对多）"
   ]
  },
  {
   "cell_type": "markdown",
   "metadata": {},
   "source": [
    "   实际项目开发中，我们可以利用数据库建模工具（如：PowerDesigner）来绘制概念数据模型（其本质就是 ER 模型），然后再设置好目标数据库系统，将概念模型转换成物理模型，最终生成创建二维表的 SQL（很多工具都可以根据我们设计的物理模型图以及设定的目标数据库来导出 SQL 或直接生成数据表）。\n",
    "\n",
    "   ![](https://gitee.com/jackfrued/mypic/raw/master/20210826003212.png)"
   ]
  },
  {
   "cell_type": "markdown",
   "metadata": {},
   "source": [
    "5. 关系数据库产品。\n",
    "   - [Oracle](https://www.oracle.com/index.html) - 目前世界上使用最为广泛的数据库管理系统，作为一个通用的数据库系统，它具有完整的数据管理功能；作为一个关系数据库，它是一个完备关系的产品；作为分布式数据库，它实现了分布式处理的功能。在 Oracle 最新的 12c 版本中，还引入了多承租方架构，使用该架构可轻松部署和管理数据库云。\n",
    "   - [DB2](https://www.ibm.com/analytics/us/en/db2/) - IBM 公司开发的、主要运行于 Unix（包括 IBM 自家的 [AIX](https://zh.wikipedia.org/wiki/AIX)）、Linux、以及 Windows 服务器版等系统的关系数据库产品。DB2 历史悠久且被认为是最早使用 SQL 的数据库产品，它拥有较为强大的商业智能功能。\n",
    "   - [SQL Server](https://www.microsoft.com/en-us/sql-server/) - 由 Microsoft 开发和推广的关系型数据库产品，最初适用于中小企业的数据管理，但是近年来它的应用范围有所扩展，部分大企业甚至是跨国公司也开始基于它来构建自己的数据管理系统。\n",
    "   - [MySQL](https://www.mysql.com/) - MySQL 是开放源代码的，任何人都可以在 GPL（General Public License）的许可下下载并根据个性化的需要对其进行修改。MySQL 因为其速度、可靠性和适应性而备受关注。\n",
    "   - [PostgreSQL]() - 在 BSD 许可证下发行的开放源代码的关系数据库产品。"
   ]
  },
  {
   "cell_type": "markdown",
   "metadata": {},
   "source": [
    "### MySQL 简介\n",
    "\n",
    "MySQL 最早是由瑞典的 MySQL AB 公司开发的一个开放源码的关系数据库管理系统，该公司于2008年被昇阳微系统公司（Sun Microsystems）收购。在2009年，甲骨文公司（Oracle）收购昇阳微系统公司，因此 MySQL 目前也是 Oracle 旗下产品。"
   ]
  },
  {
   "cell_type": "markdown",
   "metadata": {},
   "source": [
    "MySQL 在过去由于性能高、成本低、可靠性好，已经成为最流行的开源数据库，因此被广泛地应用于中小型网站开发。随着 MySQL 的不断成熟，它也逐渐被应用于更多大规模网站和应用，比如维基百科、谷歌（Google）、脸书（Facebook）、淘宝网等网站都使用了 MySQL 来提供数据持久化服务。"
   ]
  },
  {
   "cell_type": "markdown",
   "metadata": {},
   "source": [
    "甲骨文公司收购后昇阳微系统公司，大幅调涨 MySQL 商业版的售价，且甲骨文公司不再支持另一个自由软件项目 [OpenSolaris ](https://zh.wikipedia.org/wiki/OpenSolaris) 的发展，因此导致自由软件社区对于 Oracle 是否还会持续支持 MySQL 社区版（MySQL 的各个发行版本中唯一免费的版本）有所担忧，MySQL 的创始人麦克尔·维德纽斯以 MySQL 为基础，创建了 [MariaDB](https://zh.wikipedia.org/wiki/MariaDB)（以他女儿的名字命名的数据库）分支。有许多原来使用 MySQL 数据库的公司（例如：维基百科）已经陆续完成了从 MySQL 数据库到 MariaDB 数据库的迁移。"
   ]
  },
  {
   "cell_type": "markdown",
   "metadata": {},
   "source": [
    "### 安装 MySQL\n",
    "\n",
    "#### Windows 环境\n",
    "\n",
    "1. 通过[官方网站](https://www.mysql.com/)提供的[下载链接](https://dev.mysql.com/downloads/windows/installer/8.0.html)下载“MySQL社区版服务器”安装程序，如下图所示，建议大家下载离线安装版的MySQL Installer。\n",
    "\n",
    "    <img src=\"https://gitee.com/jackfrued/mypic/raw/master/20211105230905.png\" style=\"zoom:50%\">\n",
    "\n",
    "2. 运行 Installer，按照下面的步骤进行安装。\n",
    "\n",
    "    - 选择自定义安装。\n",
    "\n",
    "    <img src=\"https://gitee.com/jackfrued/mypic/raw/master/20211105231152.jpg\" style=\"zoom:35%\">\n",
    "\n",
    "    - 选择需要安装的组件。\n",
    "\n",
    "    <img src=\"https://gitee.com/jackfrued/mypic/raw/master/20211105231255.jpg\" style=\"zoom:35%\">\n",
    "\n",
    "    - 如果缺少依赖项，需要先安装依赖项。\n",
    "\n",
    "    <img src=\"https://gitee.com/jackfrued/mypic/raw/master/20211105231620.png\" style=\"zoom:35%\">\n",
    "\n",
    "    - 准备开始安装。\n",
    "\n",
    "    <img src=\"https://gitee.com/jackfrued/mypic/raw/master/20211105231719.jpg\" style=\"zoom:35%\">\n",
    "\n",
    "    - 安装完成。\n",
    "\n",
    "    <img src=\"https://gitee.com/jackfrued/mypic/raw/master/20211105232024.jpg\" style=\"zoom:35%\">\n",
    "\n",
    "    - 准备执行配置向导。\n",
    "\n",
    "    <img src=\"https://gitee.com/jackfrued/mypic/raw/master/20211105231815.jpg\" style=\"zoom:35%\">\n",
    "\n",
    "3. 执行安装后的配置向导。\n",
    "\n",
    "    - 配置服务器类型和网络。\n",
    "\n",
    "    <img src=\"https://gitee.com/jackfrued/mypic/raw/master/20211105232109.jpg\" style=\"zoom:35%\">\n",
    "\n",
    "    - 配置认证方法（保护密码的方式）。\n",
    "\n",
    "        <img src=\"https://gitee.com/jackfrued/mypic/raw/master/20211105232408.jpg\" style=\"zoom:35%\">\n",
    "\n",
    "    - 配置用户和角色。\n",
    "\n",
    "        <img src=\"https://gitee.com/jackfrued/mypic/raw/master/20211105232521.jpg\" style=\"zoom:35%\">\n",
    "\n",
    "    - 配置Windows服务名以及是否开机自启。\n",
    "\n",
    "        <img src=\"https://gitee.com/jackfrued/mypic/raw/master/20211105232608.jpg\" style=\"zoom:35%\">\n",
    "\n",
    "    - 配置日志。\n",
    "\n",
    "        <img src=\"https://gitee.com/jackfrued/mypic/raw/master/20211105232641.jpg\" style=\"zoom:35%\">\n",
    "\n",
    "    - 配置高级选项。\n",
    "\n",
    "        <img src=\"https://gitee.com/jackfrued/mypic/raw/master/20211105232724.jpg\" alt=\"ACAC15B8633133B65476286A49BFBD7E\" style=\"zoom:35%\">\n",
    "\n",
    "    - 应用配置。\n",
    "\n",
    "        <img src=\"https://gitee.com/jackfrued/mypic/raw/master/20211105232800.jpg\" style=\"zoom:35%\">\n",
    "\n",
    "4. 可以在 Windows 系统的“服务”窗口中启动或停止 MySQL。\n",
    "\n",
    "    <img src=\"https://gitee.com/jackfrued/mypic/raw/master/20211105232926.jpg\" style=\"zoom:50%\">\n",
    "\n",
    "5. 配置 PATH 环境变量，以便在命令行提示符窗口使用 MySQL 客户端工具。\n",
    "\n",
    "    - 打开 Windows 的“系统”窗口并点击“高级系统设置”。\n",
    "\n",
    "        <img src=\"https://gitee.com/jackfrued/mypic/raw/master/20211105233054.jpg\" style=\"zoom:50%\">\n",
    "\n",
    "    - 在“系统属性”的“高级”窗口，点击“环境变量”按钮。\n",
    "\n",
    "        <img src=\"https://gitee.com/jackfrued/mypic/raw/master/20211105233312.jpg\" style=\"zoom:50%\">\n",
    "\n",
    "    - 修改PATH环境变量，将MySQL安装路径下的`bin`文件夹的路径配置到PATH环境变量中。\n",
    "\n",
    "        <img src=\"https://gitee.com/jackfrued/mypic/raw/master/20211105233359.jpg\" style=\"zoom:50%\">\n",
    "\n",
    "    - 配置完成后，可以尝试在“命令提示符”下使用 MySQL 的命令行工具。\n",
    "\n",
    "        <img src=\"https://gitee.com/jackfrued/mypic/raw/master/20211105233643.jpg\" style=\"zoom:50%\">"
   ]
  },
  {
   "cell_type": "markdown",
   "metadata": {},
   "source": [
    "#### Linux 环境\n",
    "\n",
    "下面以 CentOS 7.x 环境为例，演示如何安装 MySQL 5.7.x，如果需要在其他 Linux 系统下安装其他版本的 MySQL，请读者自行在网络上查找对应的安装教程。\n",
    "\n",
    "1. 安装 MySQL。\n",
    "\n",
    "   可以在 [MySQL 官方网站](<https://www.mysql.com/>)下载安装文件。首先在下载页面中选择平台和版本，然后找到对应的下载链接，直接下载包含所有安装文件的归档文件，解归档之后通过包管理工具进行安装。\n",
    "\n",
    "   ```Shell\n",
    "   wget https://dev.mysql.com/get/Downloads/MySQL-5.7/mysql-5.7.26-1.el7.x86_64.rpm-bundle.tar\n",
    "   tar -xvf mysql-5.7.26-1.el7.x86_64.rpm-bundle.tar\n",
    "   ```\n",
    "\n",
    "   如果系统上有 MariaDB 相关的文件，需要先移除 MariaDB 相关的文件。\n",
    "\n",
    "   ```Shell\n",
    "   yum list installed | grep mariadb | awk '{print $1}' | xargs yum erase -y\n",
    "   ```\n",
    "\n",
    "   更新和安装可能用到的底层依赖库。\n",
    "\n",
    "   ```Bash\n",
    "   yum update\n",
    "   yum install -y libaio libaio-devel\n",
    "   ```\n",
    "\n",
    "   接下来可以按照如下所示的顺序用 RPM（Redhat Package Manager）工具安装 MySQL。\n",
    "\n",
    "   ```Shell\n",
    "   rpm -ivh mysql-community-common-5.7.26-1.el7.x86_64.rpm\n",
    "   rpm -ivh mysql-community-libs-5.7.26-1.el7.x86_64.rpm\n",
    "   rpm -ivh mysql-community-libs-compat-5.7.26-1.el7.x86_64.rpm\n",
    "   rpm -ivh mysql-community-devel-5.7.26-1.el7.x86_64.rpm\n",
    "   rpm -ivh mysql-community-client-5.7.26-1.el7.x86_64.rpm\n",
    "   rpm -ivh mysql-community-server-5.7.26-1.el7.x86_64.rpm\n",
    "   ```\n",
    "\n",
    "   可以使用下面的命令查看已经安装的 MySQL 相关的包。\n",
    "\n",
    "   ```Shell\n",
    "   rpm -qa | grep mysql\n",
    "   ```\n",
    "\n",
    "2. 配置 MySQL。\n",
    "\n",
    "   MySQL 的配置文件在`/etc`目录下，名为`my.cnf`，默认的配置文件内容如下所示。\n",
    "\n",
    "   ```Shell\n",
    "   cat /etc/my.cnf\n",
    "   ```\n",
    "\n",
    "   ```INI\n",
    "   # For advice on how to change settings please see\n",
    "   # http://dev.mysql.com/doc/refman/5.7/en/server-configuration-defaults.html\n",
    "   \n",
    "   [mysqld]\n",
    "   #\n",
    "   # Remove leading # and set to the amount of RAM for the most important data\n",
    "   # cache in MySQL. Start at 70% of total RAM for dedicated server, else 10%.\n",
    "   # innodb_buffer_pool_size = 128M\n",
    "   #\n",
    "   # Remove leading # to turn on a very important data integrity option: logging\n",
    "   # changes to the binary log between backups.\n",
    "   # log_bin\n",
    "   #\n",
    "   # Remove leading # to set options mainly useful for reporting servers.\n",
    "   # The server defaults are faster for transactions and fast SELECTs.\n",
    "   # Adjust sizes as needed, experiment to find the optimal values.\n",
    "   # join_buffer_size = 128M\n",
    "   # sort_buffer_size = 2M\n",
    "   # read_rnd_buffer_size = 2M\n",
    "   datadir=/var/lib/mysql\n",
    "   socket=/var/lib/mysql/mysql.sock\n",
    "   \n",
    "   # Disabling symbolic-links is recommended to prevent assorted security risks\n",
    "   symbolic-links=0\n",
    "   \n",
    "   log-error=/var/log/mysqld.log\n",
    "   pid-file=/var/run/mysqld/mysqld.pid\n",
    "   ```\n",
    "\n",
    "   通过配置文件，我们可以修改 MySQL 服务使用的端口、字符集、最大连接数、套接字队列大小、最大数据包大小、日志文件的位置、日志过期时间等配置。当然，我们还可以通过修改配置文件来对 MySQL 服务器进行性能调优和安全管控。\n",
    "\n",
    "3. 启动 MySQL 服务。\n",
    "\n",
    "   可以使用下面的命令来启动 MySQL。\n",
    "\n",
    "   ```Shell\n",
    "   service mysqld start\n",
    "   ```\n",
    "\n",
    "   在 CentOS 7 中，更推荐使用下面的命令来启动 MySQL。\n",
    "\n",
    "   ```Shell\n",
    "   systemctl start mysqld\n",
    "   ```\n",
    "\n",
    "   启动 MySQL 成功后，可以通过下面的命令来检查网络端口使用情况，MySQL 默认使用`3306`端口。\n",
    "\n",
    "   ```Shell\n",
    "   netstat -ntlp | grep mysql\n",
    "   ```\n",
    "\n",
    "   也可以使用下面的命令查找是否有名为`mysqld`的进程。\n",
    "\n",
    "   ```Shell\n",
    "   pgrep mysqld\n",
    "   ```\n",
    "\n",
    "4. 使用 MySQL 客户端工具连接服务器。\n",
    "\n",
    "   命令行工具：\n",
    "\n",
    "   ```Shell\n",
    "   mysql -u root -p\n",
    "   ```\n",
    "\n",
    "   > 说明：启动客户端时，`-u`参数用来指定用户名，MySQL 默认的超级管理账号为`root`；`-p`表示要输入密码（用户口令）；如果连接的是其他主机而非本机，可以用`-h`来指定连接主机的主机名或IP地址。\n",
    "\n",
    "   如果是首次安装 MySQL，可以使用下面的命令来找到默认的初始密码。\n",
    "\n",
    "   ```Shell\n",
    "   cat /var/log/mysqld.log | grep password\n",
    "   ```\n",
    "\n",
    "   上面的命令会查看 MySQL 的日志带有`password`的行，在显示的结果中`root@localhost:`后面的部分就是默认设置的初始密码。\n",
    "\n",
    "   进入客户端工具后，可以通过下面的指令来修改超级管理员（root）的访问口令为`123456`。\n",
    "\n",
    "   ```SQL\n",
    "   set global validate_password_policy=0;\n",
    "   set global validate_password_length=6;\n",
    "   alter user 'root'@'localhost' identified by '123456';\n",
    "   ```\n",
    "\n",
    "   > **说明**：MySQL 较新的版本默认不允许使用弱口令作为用户口令，所以上面的代码修改了验证用户口令的策略和口令的长度。事实上我们不应该使用弱口令，因为存在用户口令被暴力破解的风险。近年来，**攻击数据库窃取数据和劫持数据库勒索比特币**的事件屡见不鲜，要避免这些潜在的风险，最为重要的一点是**不要让数据库服务器暴露在公网上**（最好的做法是将数据库置于内网，至少要做到不向公网开放数据库服务器的访问端口），另外要保管好`root`账号的口令，应用系统需要访问数据库时，通常不使用`root`账号进行访问，而是**创建其他拥有适当权限的账号来访问**。\n",
    "\n",
    "   再次使用客户端工具连接 MySQL 服务器时，就可以使用新设置的口令了。在实际开发中，为了方便用户操作，可以选择图形化的客户端工具来连接 MySQL 服务器，包括：\n",
    "\n",
    "   - MySQL Workbench（官方工具）\n",
    "\n",
    "       <img src=\"https://gitee.com/jackfrued/mypic/raw/master/20211106063939.png\" style=\"zoom:50%\">\n",
    "\n",
    "   - Navicat for MySQL（界面简单友好）\n",
    "\n",
    "       <img src=\"https://gitee.com/jackfrued/mypic/raw/master/20210521152457.png\" style=\"zoom:50%;\">\n",
    "   "
   ]
  },
  {
   "cell_type": "markdown",
   "metadata": {},
   "source": [
    "#### macOS环境\n",
    "\n",
    "macOS 系统安装 MySQL 是比较简单的，只需要从刚才说到的官方网站下载 DMG 安装文件并运行就可以了，下载的时候需要根据自己使用的是 Intel 的芯片还是苹果的 M1 芯片选择下载链接，如下图所示。\n",
    "\n",
    "<img src=\"https://gitee.com/jackfrued/mypic/raw/master/20211121215901.png\" style=\"zoom:50%;\">\n",
    "\n",
    "安装成功后，可以在“系统偏好设置”中找到“MySQL”，在如下所示的画面中，可以启动和停止 MySQL 服务器，也可以对 MySQL 核心文件的路径进行配置。\n",
    "\n",
    "<img src=\"https://gitee.com/jackfrued/mypic/raw/master/20211121215153.png\" style=\"zoom:40%;\">"
   ]
  },
  {
   "cell_type": "markdown",
   "metadata": {},
   "source": [
    "### MySQL 基本命令\n",
    "\n",
    "#### 查看命令\n",
    "\n",
    "1. 查看所有数据库\n",
    "\n",
    "```SQL\n",
    "show databases;\n",
    "```\n",
    "\n",
    "2. 查看所有字符集\n",
    "\n",
    "```SQL\n",
    "show character set;\n",
    "```\n",
    "\n",
    "3. 查看所有的排序规则\n",
    "\n",
    "```SQL\n",
    "show collation;\n",
    "```\n",
    "\n",
    "4. 查看所有的引擎\n",
    "\n",
    "```SQL\n",
    "show engines;\n",
    "```\n",
    "\n",
    "5. 查看所有日志文件\n",
    "\n",
    "```SQL\n",
    "show binary logs;\n",
    "```\n",
    "\n",
    "6. 查看数据库下所有表\n",
    "\n",
    "```SQL\n",
    "show tables;\n",
    "```"
   ]
  },
  {
   "cell_type": "markdown",
   "metadata": {},
   "source": [
    "#### 获取帮助\n",
    "\n",
    "在 MySQL 命令行工具中，可以使用`help`命令或`?`来获取帮助，如下所示。\n",
    "\n",
    "1. 查看`show`命令的帮助。\n",
    "\n",
    "    ```MySQL\n",
    "    ? show\n",
    "    ```\n",
    "\n",
    "2. 查看有哪些帮助内容。\n",
    "\n",
    "    ```MySQL\n",
    "    ? contents\n",
    "    ```\n",
    "\n",
    "3. 获取函数的帮助。\n",
    "\n",
    "    ```MySQL\n",
    "    ? functions\n",
    "    ```\n",
    "\n",
    "4. 获取数据类型的帮助。\n",
    "\n",
    "    ```MySQL\n",
    "    ? data types\n",
    "    ```"
   ]
  },
  {
   "cell_type": "markdown",
   "metadata": {},
   "source": [
    "#### 其他命令\n",
    "\n",
    "1. 新建/重建服务器连接 - `connect` / `resetconnection`。\n",
    "\n",
    "2. 清空当前输入 - `\\c`。在输入错误时，可以及时使用`\\c`清空当前输入并重新开始。\n",
    "\n",
    "3. 修改终止符（定界符）- `delimiter`。默认的终止符是`;`，可以使用该命令修改成其他的字符，例如修改为`$`符号，可以用`delimiter $`命令。\n",
    "\n",
    "4. 打开系统默认编辑器 - `edit`。编辑完成保存关闭之后，命令行会自动执行编辑的内容。\n",
    "\n",
    "5. 查看服务器状态 - `status`。\n",
    "\n",
    "6. 修改默认提示符 - `prompt`。\n",
    "\n",
    "7. 执行系统命令 - `system`。可以将系统命令跟在`system`命令的后面执行，`system`命令也可以缩写为`\\!`。\n",
    "\n",
    "8. 执行 SQL 文件 - `source`。`source`命令后面跟 SQL 文件路径。\n",
    "\n",
    "9. 重定向输出 - `tee` / `notee`。可以将命令的输出重定向到指定的文件中。\n",
    "\n",
    "10. 切换数据库 - `use`。\n",
    "\n",
    "11. 显示警告信息 - `warnings`。\n",
    "\n",
    "12. 退出命令行 - `quit`或`exit`。\n",
    "\n",
    "    "
   ]
  },
  {
   "cell_type": "markdown",
   "metadata": {},
   "source": [
    "## SQL 和 MySQL 详解\n",
    "\n",
    "### SQL 详解\n",
    "\n",
    "我们通常可以将 SQL 分为四类，分别是 DDL（数据定义语言）、DML（数据操作语言）、DQL（数据查询语言）和 DCL（数据控制语言）。DDL 主要用于创建、删除、修改数据库中的对象，比如创建、删除和修改二维表，核心的关键字包括`create`、`drop`和`alter`；DML 主要负责数据的插入、删除和更新，关键词包括`insert`、`delete`和`update`；DQL 负责数据查询，最重要的一个关键词是`select`；DCL 通常用于授予和召回权限，核心关键词是`grant`和`revoke`。"
   ]
  },
  {
   "cell_type": "markdown",
   "metadata": {},
   "source": [
    "> **说明**：SQL 是不区分大小写的语言，为了书写和识别方便，下面的 SQL 都使用了小写字母来书写。"
   ]
  },
  {
   "cell_type": "markdown",
   "metadata": {},
   "source": [
    "#### DDL（数据定义语言）\n",
    "\n",
    "下面我们来实现一个选课系统的数据库，如下所示的 SQL 创建了名为`school`的数据库和五张表，分别是学院表（`tb_college`）、学生表（`tb_student`）、教师表（`tb_teacher`）、课程表（`tb_course`）和选课记录表（`tb_record`），其中学生和教师跟学院之间是多对一关系，课程跟老师之间也是多对一关系，学生和课程是多对多关系，选课记录表就是维持学生跟课程多对多关系的中间表。"
   ]
  },
  {
   "cell_type": "markdown",
   "metadata": {},
   "source": [
    "```SQL\n",
    "-- 如果存在名为school的数据库就删除它\n",
    "drop database if exists `school`;\n",
    "\n",
    "-- 创建名为school的数据库并设置默认的字符集和排序方式\n",
    "create database `school` default character set utf8mb4 collate utf8mb4_general_ci;\n",
    "\n",
    "-- 切换到school数据库上下文环境\n",
    "use `school`;\n",
    "\n",
    "-- 创建学院表\n",
    "create table `tb_college`\n",
    "(\n",
    "`col_id` int unsigned auto_increment comment '编号',\n",
    "`col_name` varchar(50) not null comment '名称',\n",
    "`col_intro` varchar(500) default '' comment '介绍',\n",
    "primary key (`col_id`)\n",
    ") engine=innodb auto_increment=1 comment '学院表';\n",
    "\n",
    "-- 创建学生表\n",
    "create table `tb_student`\n",
    "(\n",
    "`stu_id` int unsigned not null comment '学号',\n",
    "`stu_name` varchar(20) not null comment '姓名',\n",
    "`stu_sex` boolean default 1 not null comment '性别',\n",
    "`stu_birth` date not null comment '出生日期',\n",
    "`stu_addr` varchar(255) default '' comment '籍贯',\n",
    "`col_id` int unsigned not null comment '所属学院',\n",
    "primary key (`stu_id`),\n",
    "constraint `fk_student_col_id` foreign key (`col_id`) references `tb_college` (`col_id`)\n",
    ") engine=innodb comment '学生表';\n",
    "\n",
    "-- 创建教师表\n",
    "create table `tb_teacher`\n",
    "(\n",
    "`tea_id` int unsigned not null comment '工号',\n",
    "`tea_name` varchar(20) not null comment '姓名',\n",
    "`tea_title` varchar(10) default '助教' comment '职称',\n",
    "`col_id` int unsigned not null comment '所属学院',\n",
    "primary key (`tea_id`),\n",
    "constraint `fk_teacher_col_id` foreign key (`col_id`) references `tb_college` (`col_id`)\n",
    ") engine=innodb comment '老师表';\n",
    "\n",
    "-- 创建课程表\n",
    "create table `tb_course`\n",
    "(\n",
    "`cou_id` int unsigned not null comment '编号',\n",
    "`cou_name` varchar(50) not null comment '名称',\n",
    "`cou_credit` int not null comment '学分',\n",
    "`tea_id` int unsigned not null comment '授课老师',\n",
    "primary key (`cou_id`),\n",
    "constraint `fk_course_tea_id` foreign key (`tea_id`) references `tb_teacher` (`tea_id`)\n",
    ") engine=innodb comment '课程表';\n",
    "\n",
    "-- 创建选课记录表\n",
    "create table `tb_record`\n",
    "(\n",
    "`rec_id` bigint unsigned auto_increment comment '选课记录号',\n",
    "`stu_id` int unsigned not null comment '学号',\n",
    "`cou_id` int unsigned not null comment '课程编号',\n",
    "`sel_date` date not null comment '选课日期',\n",
    "`score` decimal(4,1) comment '考试成绩',\n",
    "primary key (`rec_id`),\n",
    "constraint `fk_record_stu_id` foreign key (`stu_id`) references `tb_student` (`stu_id`),\n",
    "constraint `fk_record_cou_id` foreign key (`cou_id`) references `tb_course` (`cou_id`),\n",
    "constraint `uk_record_stu_cou` unique (`stu_id`, `cou_id`)\n",
    ") engine=innodb comment '选课记录表';\n",
    "```"
   ]
  },
  {
   "cell_type": "markdown",
   "metadata": {},
   "source": [
    "上面的DDL有几个地方需要强调一下：\n",
    "\n",
    "- 创建数据库时，我们通过`default character set utf8mb4`指定了数据库默认使用的字符集为`utf8mb4`（最大`4`字节的`utf-8`编码），我们推荐使用该字符集，它也是 MySQL 8.x 默认使用的字符集，因为它能够支持国际化编码，还可以存储 Emoji 字符。可以通过下面的命令查看 MySQL 支持的字符集以及默认的排序规则。"
   ]
  },
  {
   "cell_type": "markdown",
   "metadata": {},
   "source": [
    "  ```SQL\n",
    "  show character set;\n",
    "  ```\n",
    "\n",
    "  ```\n",
    "  +----------+---------------------------------+---------------------+--------+\n",
    "  | Charset  | Description                     | Default collation   | Maxlen |\n",
    "  +----------+---------------------------------+---------------------+--------+\n",
    "  | big5     | Big5 Traditional Chinese        | big5_chinese_ci     |      2 |\n",
    "  | dec8     | DEC West European               | dec8_swedish_ci     |      1 |\n",
    "  | cp850    | DOS West European               | cp850_general_ci    |      1 |\n",
    "  | hp8      | HP West European                | hp8_english_ci      |      1 |\n",
    "  | koi8r    | KOI8-R Relcom Russian           | koi8r_general_ci    |      1 |\n",
    "  | latin1   | cp1252 West European            | latin1_swedish_ci   |      1 |\n",
    "  | latin2   | ISO 8859-2 Central European     | latin2_general_ci   |      1 |\n",
    "  | swe7     | 7bit Swedish                    | swe7_swedish_ci     |      1 |\n",
    "  | ascii    | US ASCII                        | ascii_general_ci    |      1 |\n",
    "  | ujis     | EUC-JP Japanese                 | ujis_japanese_ci    |      3 |\n",
    "  | sjis     | Shift-JIS Japanese              | sjis_japanese_ci    |      2 |\n",
    "  | hebrew   | ISO 8859-8 Hebrew               | hebrew_general_ci   |      1 |\n",
    "  | tis620   | TIS620 Thai                     | tis620_thai_ci      |      1 |\n",
    "  | euckr    | EUC-KR Korean                   | euckr_korean_ci     |      2 |\n",
    "  | koi8u    | KOI8-U Ukrainian                | koi8u_general_ci    |      1 |\n",
    "  | gb2312   | GB2312 Simplified Chinese       | gb2312_chinese_ci   |      2 |\n",
    "  | greek    | ISO 8859-7 Greek                | greek_general_ci    |      1 |\n",
    "  | cp1250   | Windows Central European        | cp1250_general_ci   |      1 |\n",
    "  | gbk      | GBK Simplified Chinese          | gbk_chinese_ci      |      2 |\n",
    "  | latin5   | ISO 8859-9 Turkish              | latin5_turkish_ci   |      1 |\n",
    "  | armscii8 | ARMSCII-8 Armenian              | armscii8_general_ci |      1 |\n",
    "  | utf8     | UTF-8 Unicode                   | utf8_general_ci     |      3 |\n",
    "  | ucs2     | UCS-2 Unicode                   | ucs2_general_ci     |      2 |\n",
    "  | cp866    | DOS Russian                     | cp866_general_ci    |      1 |\n",
    "  | keybcs2  | DOS Kamenicky Czech-Slovak      | keybcs2_general_ci  |      1 |\n",
    "  | macce    | Mac Central European            | macce_general_ci    |      1 |\n",
    "  | macroman | Mac West European               | macroman_general_ci |      1 |\n",
    "  | cp852    | DOS Central European            | cp852_general_ci    |      1 |\n",
    "  | latin7   | ISO 8859-13 Baltic              | latin7_general_ci   |      1 |\n",
    "  | utf8mb4  | UTF-8 Unicode                   | utf8mb4_general_ci  |      4 |\n",
    "  | cp1251   | Windows Cyrillic                | cp1251_general_ci   |      1 |\n",
    "  | utf16    | UTF-16 Unicode                  | utf16_general_ci    |      4 |\n",
    "  | utf16le  | UTF-16LE Unicode                | utf16le_general_ci  |      4 |\n",
    "  | cp1256   | Windows Arabic                  | cp1256_general_ci   |      1 |\n",
    "  | cp1257   | Windows Baltic                  | cp1257_general_ci   |      1 |\n",
    "  | utf32    | UTF-32 Unicode                  | utf32_general_ci    |      4 |\n",
    "  | binary   | Binary pseudo charset           | binary              |      1 |\n",
    "  | geostd8  | GEOSTD8 Georgian                | geostd8_general_ci  |      1 |\n",
    "  | cp932    | SJIS for Windows Japanese       | cp932_japanese_ci   |      2 |\n",
    "  | eucjpms  | UJIS for Windows Japanese       | eucjpms_japanese_ci |      3 |\n",
    "  | gb18030  | China National Standard GB18030 | gb18030_chinese_ci  |      4 |\n",
    "  +----------+---------------------------------+---------------------+--------+\n",
    "  41 rows in set (0.00 sec)\n",
    "  ```"
   ]
  },
  {
   "cell_type": "markdown",
   "metadata": {},
   "source": [
    "  如果要设置 MySQL 服务启动时默认使用的字符集，可以修改MySQL的配置并添加以下内容。\n",
    "\n",
    "  ```INI\n",
    "  [mysqld]\n",
    "  character-set-server=utf8\n",
    "  ```"
   ]
  },
  {
   "cell_type": "markdown",
   "metadata": {},
   "source": [
    "- 在创建表的时候，可以自行选择底层的存储引擎。MySQL 支持多种存储引擎，可以通过`show engines`命令进行查看。MySQL 5.5 以后的版本默认使用的存储引擎是 InnoDB，它是我们推荐大家使用的存储引擎（因为更适合当下互联网应用对高并发、性能以及事务支持等方面的需求），为了 SQL 语句的向下兼容性，我们可以在建表语句结束处右圆括号的后面通过`engine=innodb`来指定使用 InnoDB 存储引擎。"
   ]
  },
  {
   "cell_type": "markdown",
   "metadata": {},
   "source": [
    "  ```SQL\n",
    "  show engines\\G\n",
    "  ```\n",
    "\n",
    "  ```\n",
    "  *************************** 1. row ***************************\n",
    "        Engine: InnoDB\n",
    "       Support: DEFAULT\n",
    "       Comment: Supports transactions, row-level locking, and foreign keys\n",
    "  Transactions: YES\n",
    "            XA: YES\n",
    "    Savepoints: YES\n",
    "  *************************** 2. row ***************************\n",
    "        Engine: MRG_MYISAM\n",
    "       Support: YES\n",
    "       Comment: Collection of identical MyISAM tables\n",
    "  Transactions: NO\n",
    "            XA: NO\n",
    "    Savepoints: NO\n",
    "  *************************** 3. row ***************************\n",
    "        Engine: MEMORY\n",
    "       Support: YES\n",
    "       Comment: Hash based, stored in memory, useful for temporary tables\n",
    "  Transactions: NO\n",
    "            XA: NO\n",
    "    Savepoints: NO\n",
    "  *************************** 4. row ***************************\n",
    "        Engine: BLACKHOLE\n",
    "       Support: YES\n",
    "       Comment: /dev/null storage engine (anything you write to it disappears)\n",
    "  Transactions: NO\n",
    "            XA: NO\n",
    "    Savepoints: NO\n",
    "  *************************** 5. row ***************************\n",
    "        Engine: MyISAM\n",
    "       Support: YES\n",
    "       Comment: MyISAM storage engine\n",
    "  Transactions: NO\n",
    "            XA: NO\n",
    "    Savepoints: NO\n",
    "  *************************** 6. row ***************************\n",
    "        Engine: CSV\n",
    "       Support: YES\n",
    "       Comment: CSV storage engine\n",
    "  Transactions: NO\n",
    "            XA: NO\n",
    "    Savepoints: NO\n",
    "  *************************** 7. row ***************************\n",
    "        Engine: ARCHIVE\n",
    "       Support: YES\n",
    "       Comment: Archive storage engine\n",
    "  Transactions: NO\n",
    "            XA: NO\n",
    "    Savepoints: NO\n",
    "  *************************** 8. row ***************************\n",
    "        Engine: PERFORMANCE_SCHEMA\n",
    "       Support: YES\n",
    "       Comment: Performance Schema\n",
    "  Transactions: NO\n",
    "            XA: NO\n",
    "    Savepoints: NO\n",
    "  *************************** 9. row ***************************\n",
    "        Engine: FEDERATED\n",
    "       Support: NO\n",
    "       Comment: Federated MySQL storage engine\n",
    "  Transactions: NULL\n",
    "            XA: NULL\n",
    "    Savepoints: NULL\n",
    "  9 rows in set (0.00 sec)\n",
    "  ```"
   ]
  },
  {
   "cell_type": "markdown",
   "metadata": {},
   "source": [
    "  下面的表格对MySQL几种常用的数据引擎进行了简单的对比。\n",
    "\n",
    "  | 特性         | InnoDB       | MRG_MYISAM | MEMORY | MyISAM |\n",
    "  | ------------ | ------------ | ---------- | ------ | ------ |\n",
    "  | 存储限制     | 有           | 没有       | 有     | 有     |\n",
    "  | 事务         | 支持         |            |        |        |\n",
    "  | 锁机制       | 行锁         | 表锁       | 表锁   | 表锁   |\n",
    "  | B树索引      | 支持         | 支持       | 支持   | 支持   |\n",
    "  | 哈希索引     |              |            | 支持   |        |\n",
    "  | 全文检索     | 支持（5.6+） |            |        | 支持   |\n",
    "  | 集群索引     | 支持         |            |        |        |\n",
    "  | 数据缓存     | 支持         |            | 支持   |        |\n",
    "  | 索引缓存     | 支持         | 支持       | 支持   | 支持   |\n",
    "  | 数据可压缩   |              |            |        | 支持   |\n",
    "  | 内存使用     | 高           | 低         | 中     | 低     |\n",
    "  | 存储空间使用 | 高           | 低         |        | 低     |\n",
    "  | 批量插入性能 | 低           | 高         | 高     | 高     |\n",
    "  | 是否支持外键 | 支持         |            |        |        |\n",
    "\n",
    "  通过上面的比较我们可以了解到，InnoDB 是唯一能够支持外键、事务以及行锁的存储引擎，所以我们之前说它更适合互联网应用，而且在较新版本的 MySQL 中，它也是默认使用的存储引擎。"
   ]
  },
  {
   "cell_type": "markdown",
   "metadata": {},
   "source": [
    "- 在定义表结构为每个字段选择数据类型时，如果不清楚哪个数据类型更合适，可以通过 MySQL 的帮助系统来了解每种数据类型的特性、数据的长度和精度等相关信息。"
   ]
  },
  {
   "cell_type": "markdown",
   "metadata": {},
   "source": [
    "  ```SQL\n",
    "  ? data types\n",
    "  ```\n",
    "\n",
    "  ```\n",
    "  You asked for help about help category: \"Data Types\"\n",
    "  For more information, type 'help <item>', where <item> is one of the following\n",
    "  topics:\n",
    "     AUTO_INCREMENT\n",
    "     BIGINT\n",
    "     BINARY\n",
    "     BIT\n",
    "     BLOB\n",
    "     BLOB DATA TYPE\n",
    "     BOOLEAN\n",
    "     CHAR\n",
    "     CHAR BYTE\n",
    "     DATE\n",
    "     DATETIME\n",
    "     DEC\n",
    "     DECIMAL\n",
    "     DOUBLE\n",
    "     DOUBLE PRECISION\n",
    "     ENUM\n",
    "     FLOAT\n",
    "     INT\n",
    "     INTEGER\n",
    "     LONGBLOB\n",
    "     LONGTEXT\n",
    "     MEDIUMBLOB\n",
    "     MEDIUMINT\n",
    "     MEDIUMTEXT\n",
    "     SET DATA TYPE\n",
    "     SMALLINT\n",
    "     TEXT\n",
    "     TIME\n",
    "     TIMESTAMP\n",
    "     TINYBLOB\n",
    "     TINYINT\n",
    "     TINYTEXT\n",
    "     VARBINARY\n",
    "     VARCHAR\n",
    "     YEAR DATA TYPE\n",
    "  ```"
   ]
  },
  {
   "cell_type": "markdown",
   "metadata": {},
   "source": [
    "  ```SQL\n",
    "  ? varchar\n",
    "  ```\n",
    "\n",
    "  ```\n",
    "  Name: 'VARCHAR'\n",
    "  Description:\n",
    "  [NATIONAL] VARCHAR(M) [CHARACTER SET charset_name] [COLLATE\n",
    "  collation_name]\n",
    "  \n",
    "  A variable-length string. M represents the maximum column length in\n",
    "  characters. The range of M is 0 to 65,535. The effective maximum length\n",
    "  of a VARCHAR is subject to the maximum row size (65,535 bytes, which is\n",
    "  shared among all columns) and the character set used. For example, utf8\n",
    "  characters can require up to three bytes per character, so a VARCHAR\n",
    "  column that uses the utf8 character set can be declared to be a maximum\n",
    "  of 21,844 characters. See\n",
    "  http://dev.mysql.com/doc/refman/5.7/en/column-count-limit.html.\n",
    "  \n",
    "  MySQL stores VARCHAR values as a 1-byte or 2-byte length prefix plus\n",
    "  data. The length prefix indicates the number of bytes in the value. A\n",
    "  VARCHAR column uses one length byte if values require no more than 255\n",
    "  bytes, two length bytes if values may require more than 255 bytes.\n",
    "  \n",
    "  *Note*:\n",
    "  \n",
    "  MySQL follows the standard SQL specification, and does not remove\n",
    "  trailing spaces from VARCHAR values.\n",
    "  \n",
    "  VARCHAR is shorthand for CHARACTER VARYING. NATIONAL VARCHAR is the\n",
    "  standard SQL way to define that a VARCHAR column should use some\n",
    "  predefined character set. MySQL uses utf8 as this predefined character\n",
    "  set. http://dev.mysql.com/doc/refman/5.7/en/charset-national.html.\n",
    "  NVARCHAR is shorthand for NATIONAL VARCHAR.\n",
    "  \n",
    "  URL: http://dev.mysql.com/doc/refman/5.7/en/string-type-overview.html\n",
    "  ```"
   ]
  },
  {
   "cell_type": "markdown",
   "metadata": {},
   "source": [
    "  在数据类型的选择上，保存字符串数据通常都使用`VARCHAR`和`CHAR`两种类型，前者通常称为变长字符串，而后者通常称为定长字符串；对于 InnoDB 存储引擎，行存储格式没有区分固定长度和可变长度列，因此`VARCHAR`类型和`CHAR`类型没有本质区别，后者不一定比前者性能更好。如果要保存的很大字符串，可以使用`TEXT`类型；如果要保存很大的字节串，可以使用`BLOB`（二进制大对象）类型。在 MySQL 中，`TEXT`和`BLOB`又分别包括`TEXT`、`MEDIUMTEXT`、`LONGTEXT`和`BLOB`、`MEDIUMBLOB`、`LONGBLOB`三种不同的类型，它们主要的区别在于存储数据的最大大小不同。保存浮点数可以用`FLOAT`或`DOUBLE`类型，`FLOAT`已经不推荐使用了，而且在 MySQL 后续的版本中可能会被移除掉。而保存定点数应该使用`DECIMAL`类型。如果要保存时间日期，`DATETIME`类型优于`TIMESTAMP`类型，因为前者能表示的时间日期范围更大。"
   ]
  },
  {
   "cell_type": "markdown",
   "metadata": {},
   "source": [
    "#### DML（数据操作语言）\n",
    "\n",
    "我们通过如下所示的 SQL 给上面创建的表添加数据。\n",
    "\n",
    "```SQL\n",
    "use school;\n",
    "\n",
    "-- 插入学院数据\n",
    "insert into `tb_college` \n",
    "    (`col_name`, `col_intro`) \n",
    "values \n",
    "    ('计算机学院', '计算机学院1958年设立计算机专业，1981年建立计算机科学系，1998年设立计算机学院，2005年5月，为了进一步整合教学和科研资源，学校决定，计算机学院和软件学院行政班子合并统一运作、实行教学和学生管理独立运行的模式。 学院下设三个系：计算机科学与技术系、物联网工程系、计算金融系；两个研究所：图象图形研究所、网络空间安全研究院（2015年成立）；三个教学实验中心：计算机基础教学实验中心、IBM技术中心和计算机专业实验中心。'),\n",
    "    ('外国语学院', '外国语学院设有7个教学单位，6个文理兼收的本科专业；拥有1个一级学科博士授予点，3个二级学科博士授予点，5个一级学科硕士学位授权点，5个二级学科硕士学位授权点，5个硕士专业授权领域，同时还有2个硕士专业学位（MTI）专业；有教职员工210余人，其中教授、副教授80余人，教师中获得中国国内外名校博士学位和正在职攻读博士学位的教师比例占专任教师的60%以上。'),\n",
    "    ('经济管理学院', '经济学院前身是创办于1905年的经济科；已故经济学家彭迪先、张与九、蒋学模、胡寄窗、陶大镛、胡代光，以及当代学者刘诗白等曾先后在此任教或学习。');\n",
    "\n",
    "-- 插入学生数据\n",
    "insert into `tb_student` \n",
    "    (`stu_id`, `stu_name`, `stu_sex`, `stu_birth`, `stu_addr`, `col_id`) \n",
    "values\n",
    "    (1001, '杨过', 1, '1990-3-4', '湖南长沙', 1),\n",
    "    (1002, '任我行', 1, '1992-2-2', '湖南长沙', 1),\n",
    "    (1033, '王语嫣', 0, '1989-12-3', '四川成都', 1),\n",
    "    (1572, '岳不群', 1, '1993-7-19', '陕西咸阳', 1),\n",
    "    (1378, '纪嫣然', 0, '1995-8-12', '四川绵阳', 1),\n",
    "    (1954, '林平之', 1, '1994-9-20', '福建莆田', 1),\n",
    "    (2035, '东方不败', 1, '1988-6-30', null, 2),\n",
    "    (3011, '林震南', 1, '1985-12-12', '福建莆田', 3),\n",
    "    (3755, '项少龙', 1, '1993-1-25', '四川成都', 3),\n",
    "    (3923, '杨不悔', 0, '1985-4-17', '四川成都', 3);\n",
    "\n",
    "-- 插入老师数据\n",
    "insert into `tb_teacher` \n",
    "    (`tea_id`, `tea_name`, `tea_title`, `col_id`) \n",
    "values \n",
    "    (1122, '张三丰', '教授', 1),\n",
    "    (1133, '宋远桥', '副教授', 1),\n",
    "    (1144, '杨逍', '副教授', 1),\n",
    "    (2255, '范遥', '副教授', 2),\n",
    "    (3366, '韦一笑', default, 3);\n",
    "\n",
    "-- 插入课程数据\n",
    "insert into `tb_course` \n",
    "    (`cou_id`, `cou_name`, `cou_credit`, `tea_id`) \n",
    "values \n",
    "    (1111, 'Python程序设计', 3, 1122),\n",
    "    (2222, 'Web前端开发', 2, 1122),\n",
    "    (3333, '操作系统', 4, 1122),\n",
    "    (4444, '计算机网络', 2, 1133),\n",
    "    (5555, '编译原理', 4, 1144),\n",
    "    (6666, '算法和数据结构', 3, 1144),\n",
    "    (7777, '经贸法语', 3, 2255),\n",
    "    (8888, '成本会计', 2, 3366),\n",
    "    (9999, '审计学', 3, 3366);\n",
    "\n",
    "-- 插入选课数据\n",
    "insert into `tb_record` \n",
    "    (`stu_id`, `cou_id`, `sel_date`, `score`) \n",
    "values \n",
    "    (1001, 1111, '2017-09-01', 95),\n",
    "    (1001, 2222, '2017-09-01', 87.5),\n",
    "    (1001, 3333, '2017-09-01', 100),\n",
    "    (1001, 4444, '2018-09-03', null),\n",
    "    (1001, 6666, '2017-09-02', 100),\n",
    "    (1002, 1111, '2017-09-03', 65),\n",
    "    (1002, 5555, '2017-09-01', 42),\n",
    "    (1033, 1111, '2017-09-03', 92.5),\n",
    "    (1033, 4444, '2017-09-01', 78),\n",
    "    (1033, 5555, '2017-09-01', 82.5),\n",
    "    (1572, 1111, '2017-09-02', 78),\n",
    "    (1378, 1111, '2017-09-05', 82),\n",
    "    (1378, 7777, '2017-09-02', 65.5),\n",
    "    (2035, 7777, '2018-09-03', 88),\n",
    "    (2035, 9999, '2019-09-02', null),\n",
    "    (3755, 1111, '2019-09-02', null),\n",
    "    (3755, 8888, '2019-09-02', null),\n",
    "    (3755, 9999, '2017-09-01', 92);\n",
    "```\n",
    "\n",
    "> **注意**：上面的`insert`语句使用了批处理的方式来插入数据，这种做法插入数据的效率比较高。"
   ]
  },
  {
   "cell_type": "markdown",
   "metadata": {},
   "source": [
    "#### DQL（数据查询语言）\n",
    "\n",
    "接下来，我们完成如下所示的查询。\n",
    "\n",
    "```SQL\n",
    "-- 查询所有学生的所有信息\n",
    "select * from `tb_student`;\n",
    "\n",
    "-- 查询学生的学号、姓名和籍贯(投影)\n",
    "select `stu_id`, `stu_name`, `stu_addr` from `tb_student`;\n",
    "\n",
    "-- 查询所有课程的名称及学分(投影和别名)\n",
    "select `cou_name` as 课程名称, `cou_credit` as 学分 from `tb_course`;\n",
    "\n",
    "-- 查询所有女学生的姓名和出生日期(筛选)\n",
    "select `stu_name`, `stu_birth` from `tb_student` where `stu_sex`=0;\n",
    "\n",
    "-- 查询籍贯为“四川成都”的女学生的姓名和出生日期(筛选)\n",
    "select `stu_name`, `stu_birth` from `tb_student` where `stu_sex`=0 and `stu_addr`='四川成都';\n",
    "\n",
    "-- 查询籍贯为“四川成都”或者性别为“女生”的学生\n",
    "select `stu_name`, `stu_birth` from `tb_student` where `stu_sex`=0 or `stu_addr`='四川成都';\n",
    "\n",
    "-- 查询所有80后学生的姓名、性别和出生日期(筛选)\n",
    "select `stu_name`, `stu_sex`, `stu_birth` from `tb_student` \n",
    "where `stu_birth`>='1980-1-1' and `stu_birth`<='1989-12-31';\n",
    "\n",
    "select `stu_name`, `stu_sex`, `stu_birth` from `tb_student` \n",
    "where `stu_birth` between '1980-1-1' and '1989-12-31';\n",
    "\n",
    "-- 补充：将表示性别的 1 和 0 处理成 “男” 和 “女”\n",
    "select \n",
    "    `stu_name` as 姓名, \n",
    "    if(`stu_sex`, '男', '女') as 性别, \n",
    "    `stu_birth` as 出生日期\n",
    "from `tb_student` \n",
    "where `stu_birth` between '1980-1-1' and '1989-12-31';\n",
    "\n",
    "select \n",
    "    `stu_name` as 姓名, \n",
    "    case `stu_sex` when 1 then '男' else '女' end as 性别, \n",
    "    `stu_birth` as 出生日期\n",
    "from `tb_student` \n",
    "where `stu_birth` between '1980-1-1' and '1989-12-31';\n",
    "\n",
    "-- 查询学分大于2的课程的名称和学分(筛选)\n",
    "select `cou_name`, `cou_credit` from `tb_course` where `cou_credit`>2;\n",
    "\n",
    "-- 查询学分是奇数的课程的名称和学分(筛选)\n",
    "select `cou_name`, `cou_credit` from `tb_course` where `cou_credit`%2<>0;\n",
    "\n",
    "select `cou_name`, `cou_credit` from `tb_course` where `cou_credit` mod 2<>0;\n",
    "\n",
    "-- 查询选择选了1111的课程考试成绩在90分以上的学生学号(筛选)\n",
    "select `stu_id` from `tb_record` where `cou_id`=1111 and `score`>90;\n",
    "\n",
    "-- 查询名字叫“杨过”的学生的姓名和性别\n",
    "select `stu_name`, `stu_sex` from `tb_student` where `stu_name`='杨过';\n",
    "    \n",
    "-- 查询姓“杨”的学生姓名和性别(模糊)\n",
    "-- % - 通配符（wildcard），它可以匹配0个或任意多个字符\n",
    "select `stu_name`, `stu_sex` from `tb_student` where `stu_name` like '杨%';\n",
    "\n",
    "-- 查询姓“杨”名字两个字的学生姓名和性别(模糊)\n",
    "-- _ - 通配符（wildcard），它可以精确匹配一个字符\n",
    "select `stu_name`, `stu_sex` from `tb_student` where `stu_name` like '杨_';\n",
    "\n",
    "-- 查询姓“杨”名字三个字的学生姓名和性别(模糊)\n",
    "select `stu_name`, `stu_sex` from `tb_student` where `stu_name` like '杨__';\n",
    "\n",
    "-- 查询名字中有“不”字或“嫣”字的学生的姓名(模糊)\n",
    "select `stu_name` from `tb_student` where `stu_name` like '%不%' or `stu_name` like '%嫣%';\n",
    "\n",
    "-- 将“岳不群”改名为“岳不嫣”，比较下面两个查询的区别\n",
    "update `tb_student` set `stu_name`='岳不嫣' where `stu_id`=1572;\n",
    "\n",
    "select `stu_name` from `tb_student` where `stu_name` like '%不%'\n",
    "union \n",
    "select `stu_name` from `tb_student` where `stu_name` like '%嫣%';\n",
    "\n",
    "select `stu_name` from `tb_student` where `stu_name` like '%不%'\n",
    "union all \n",
    "select `stu_name` from `tb_student` where `stu_name` like '%嫣%';\n",
    "\n",
    "-- 查询姓“杨”或姓“林”名字三个字的学生的姓名(正则表达式模糊查询)\n",
    "select `stu_name` from `tb_student` where `stu_name` regexp '[杨林].{2}';\n",
    "\n",
    "-- 查询没有录入籍贯的学生姓名(空值处理)\n",
    "select `stu_name` from `tb_student` where `stu_addr` is null;\n",
    "\n",
    "select `stu_name` from `tb_student` where `stu_addr` <=> null;\n",
    "\n",
    "-- 查询录入了籍贯的学生姓名(空值处理)\n",
    "select `stu_name` from `tb_student` where `stu_addr` is not null;\n",
    "\n",
    "-- 下面的查询什么也查不到，三值逻辑 --> true / false / unknown\n",
    "select `stu_name` from `tb_student` where `stu_addr`=null or `stu_addr`<>null;\n",
    "\n",
    "-- 查询学生选课的所有日期(去重)\n",
    "select distinct `sel_date` from `tb_record`;\n",
    "\n",
    "-- 查询学生的籍贯(去重)\n",
    "select distinct `stu_addr` from `tb_student` where `stu_addr` is not null;\n",
    "\n",
    "-- 查询男学生的姓名和生日按年龄从大到小排列(排序)\n",
    "-- 升序：从小到大 - asc，降序：从大到小 - desc\n",
    "select `stu_id`, `stu_name`, `stu_birth` from `tb_student` \n",
    "where `stu_sex`=1 order by `stu_birth` asc, `stu_id` desc;\n",
    "\n",
    "-- 补充：将上面的生日换算成年龄(日期函数、数值函数)\n",
    "select \n",
    "    `stu_id` as 学号,\n",
    "    `stu_name` as 姓名, \n",
    "    floor(datediff(curdate(), `stu_birth`)/365) as 年龄\n",
    "from `tb_student` \n",
    "where `stu_sex`=1 order by 年龄 desc, `stu_id` desc;\n",
    "\n",
    "-- 查询年龄最大的学生的出生日期(聚合函数)\n",
    "select min(`stu_birth`) from `tb_student`;\n",
    "\n",
    "-- 查询年龄最小的学生的出生日期(聚合函数)\n",
    "select max(`stu_birth`) from `tb_student`;\n",
    "\n",
    "-- 查询编号为1111的课程考试成绩的最高分(聚合函数)\n",
    "select max(`score`) from `tb_record` where `cou_id`=1111;\n",
    "\n",
    "-- 查询学号为1001的学生考试成绩的最低分(聚合函数)\n",
    "select min(`score`) from `tb_record` where `stu_id`=1001;\n",
    "\n",
    "-- 查询学号为1001的学生考试成绩的平均分(聚合函数)\n",
    "select avg(`score`) from `tb_record` where `stu_id`=1001;\n",
    "\n",
    "select sum(`score`) / count(`score`) from `tb_record` where `stu_id`=1001;\n",
    "\n",
    "-- 查询学号为1001的学生考试成绩的平均分，如果有null值，null值算0分(聚合函数)\n",
    "select sum(`score`) / count(*) from `tb_record` where `stu_id`=1001;\n",
    "\n",
    "select avg(ifnull(`score`, 0)) from `tb_record` where `stu_id`=1001;\n",
    "\n",
    "-- 查询学号为1001的学生考试成绩的标准差(聚合函数)\n",
    "select std(`score`), variance(`score`) from `tb_record` where `stu_id`=1001;\n",
    "\n",
    "-- 查询男女学生的人数(分组和聚合函数)\n",
    "select \n",
    "    case `stu_sex` when 1 then '男' else '女' end as 性别,\n",
    "    count(*) as 人数\n",
    "from `tb_student` group by `stu_sex`;\n",
    "\n",
    "-- 查询每个学院学生人数(分组和聚合函数)\n",
    "select \n",
    "    `col_id` as 学院,\n",
    "    count(*) as 人数\n",
    "from `tb_student` group by `col_id` with rollup;\n",
    "\n",
    "-- 查询每个学院男女学生人数(分组和聚合函数)\n",
    "select \n",
    "    `col_id` as 学院,\n",
    "    if(`stu_sex`, '男', '女') as 性别,\n",
    "    count(*) as 人数\n",
    "from `tb_student` group by `col_id`, `stu_sex`;\n",
    "\n",
    "-- 查询每个学生的学号和平均成绩(分组和聚合函数)\n",
    "select \n",
    "    `stu_id`, \n",
    "    round(avg(`score`), 1) as avg_score\n",
    "from `tb_record` group by `stu_id`;\n",
    "\n",
    "-- 查询平均成绩大于等于90分的学生的学号和平均成绩\n",
    "-- 分组以前的筛选使用where子句，分组以后的筛选使用having子句\n",
    "select \n",
    "    `stu_id`, \n",
    "    round(avg(`score`), 1) as avg_score\n",
    "from `tb_record`\n",
    "group by `stu_id` having avg_score>=90;\n",
    "\n",
    "-- 查询1111、2222、3333三门课程平均成绩大于等于90分的学生的学号和平均成绩\n",
    "select \n",
    "    `stu_id`, \n",
    "    round(avg(`score`), 1) as avg_score\n",
    "from `tb_record` where `cou_id` in (1111, 2222, 3333)\n",
    "group by `stu_id` having avg_score>=90;\n",
    "\n",
    "-- 查询年龄最大的学生的姓名(子查询/嵌套查询)\n",
    "-- 嵌套查询：把一个select的结果作为另一个select的一部分来使用\n",
    "select `stu_name` from `tb_student` \n",
    "where `stu_birth`=(\n",
    "    select min(`stu_birth`) from `tb_student`\n",
    ");\n",
    "\n",
    "-- 查询选了两门以上的课程的学生姓名(子查询/分组条件/集合运算)\n",
    "select `stu_name` from `tb_student` \n",
    "where `stu_id` in (\n",
    "    select `stu_id` from `tb_record` \n",
    "    group by `stu_id` having count(*)>2\n",
    ");\n",
    "\n",
    "-- 查询学生的姓名、生日和所在学院名称\n",
    "select `stu_name`, `stu_birth`, `col_name` \n",
    "from `tb_student`, `tb_college` \n",
    "where `tb_student`.`col_id`=`tb_college`.`col_id`;\n",
    "\n",
    "select `stu_name`, `stu_birth`, `col_name` \n",
    "from `tb_student` inner join `tb_college` \n",
    "on `tb_student`.`col_id`=`tb_college`.`col_id`;\n",
    "\n",
    "select `stu_name`, `stu_birth`, `col_name` \n",
    "from `tb_student` natural join `tb_college`;\n",
    "\n",
    "-- 查询学生姓名、课程名称以及成绩(连接查询/联结查询)\n",
    "select `stu_name`, `cou_name`, `score` \n",
    "from `tb_student`, `tb_course`, `tb_record` \n",
    "where `tb_student`.`stu_id`=`tb_record`.`stu_id` \n",
    "and `tb_course`.`cou_id`=`tb_record`.`cou_id` \n",
    "and `score` is not null;\n",
    "\n",
    "select `stu_name`, `cou_name`, `score` from `tb_student` \n",
    "inner join `tb_record` on `tb_student`.`stu_id`=`tb_record`.`stu_id` \n",
    "inner join `tb_course` on `tb_course`.`cou_id`=`tb_record`.`cou_id` \n",
    "where `score` is not null;\n",
    "\n",
    "select `stu_name`, `cou_name`, `score` from `tb_student` \n",
    "natural join `tb_record` \n",
    "natural join `tb_course`\n",
    "where `score` is not null;\n",
    "\n",
    "-- 补充：上面的查询结果取前5条数据(分页查询)\n",
    "select `stu_name`, `cou_name`, `score` \n",
    "from `tb_student`, `tb_course`, `tb_record` \n",
    "where `tb_student`.`stu_id`=`tb_record`.`stu_id` \n",
    "and `tb_course`.`cou_id`=`tb_record`.`cou_id` \n",
    "and `score` is not null \n",
    "order by `score` desc \n",
    "limit 0,5;\n",
    "\n",
    "-- 补充：上面的查询结果取第6-10条数据(分页查询)\n",
    "select `stu_name`, `cou_name`, `score` \n",
    "from `tb_student`, `tb_course`, `tb_record` \n",
    "where `tb_student`.`stu_id`=`tb_record`.`stu_id` \n",
    "and `tb_course`.`cou_id`=`tb_record`.`cou_id` \n",
    "and `score` is not null \n",
    "order by `score` desc \n",
    "limit 5 offset 5;\n",
    "\n",
    "-- 补充：上面的查询结果取第11-15条数据(分页查询)\n",
    "select `stu_name`, `cou_name`, `score` \n",
    "from `tb_student`, `tb_course`, `tb_record` \n",
    "where `tb_student`.`stu_id`=`tb_record`.`stu_id` \n",
    "and `tb_course`.`cou_id`=`tb_record`.`cou_id` \n",
    "and `score` is not null \n",
    "order by `score` desc \n",
    "limit 5 offset 10;\n",
    "\n",
    "-- 查询选课学生的姓名和平均成绩(子查询和连接查询)\n",
    "select `stu_name`, `avg_score` \n",
    "from `tb_student` inner join (\n",
    "    select `stu_id` as `sid`, round(avg(`score`), 1) as avg_score \n",
    "    from `tb_record` group by `stu_id`\n",
    ") as `t2` on `stu_id`=`sid`;\n",
    "\n",
    "-- 查询学生的姓名和选课的数量\n",
    "select `stu_name`, `total` from `tb_student` as `t1`\n",
    "inner join (\n",
    "    select `stu_id`, count(*) as `total`\n",
    "    from `tb_record` group by `stu_id`\n",
    ") as `t2` on `t1`.`stu_id`=`t2`.`stu_id`;\n",
    "\n",
    "-- 查询每个学生的姓名和选课数量(左外连接和子查询)\n",
    "-- 左外连接：左表（写在join左边的表）的每条记录都可以查出来，不满足连表条件的地方填充null。\n",
    "select `stu_name`, coalesce(`total`, 0) as `total`\n",
    "from `tb_student` as `t1`\n",
    "left outer join (\n",
    "    select `stu_id`, count(*) as `total`\n",
    "    from `tb_record` group by `stu_id`\n",
    ") as `t2` on `t1`.`stu_id`=`t2`.`stu_id`;\n",
    "\n",
    "-- 修改选课记录表，去掉 stu_id 列的外键约束\n",
    "alter table `tb_record` drop foreign key `fk_record_stu_id`;\n",
    "\n",
    "-- 插入两条新纪录（注意：没有学号为 5566 的学生）\n",
    "insert into `tb_record` \n",
    "values\n",
    "    (default, 5566, 1111, '2019-09-02', 80),\n",
    "    (default, 5566, 2222, '2019-09-02', 70);\n",
    "\n",
    "-- 右外连接：右表（写在join右边的表）的每条记录都可以查出来，不满足连表条件的地方填充null。\n",
    "select `stu_name`, `total` from `tb_student` as `t1`\n",
    "right outer join (\n",
    "    select `stu_id`, count(*) as `total`\n",
    "    from `tb_record` group by `stu_id`\n",
    ") as `t2` on `t1`.`stu_id`=`t2`.`stu_id`;\n",
    "\n",
    "-- 全外连接：左表和右表的每条记录都可以查出来，不满足连表条件的地方填充null。\n",
    "-- 说明：MySQL不支持全外连接，所以用左外连接和右外连接的并集来表示。\n",
    "select `stu_name`, `total`\n",
    "from `tb_student` as `t1`\n",
    "left outer join (\n",
    "    select `stu_id`, count(*) as `total`\n",
    "    from `tb_record` group by `stu_id`\n",
    ") as `t2` on `t1`.`stu_id`=`t2`.`stu_id`\n",
    "union \n",
    "select `stu_name`, `total` from `tb_student` as `t1`\n",
    "right outer join (\n",
    "    select `stu_id`, count(*) as `total`\n",
    "    from `tb_record` group by `stu_id`\n",
    ") as `t2` on `t1`.`stu_id`=`t2`.`stu_id`;\n",
    "```\n",
    "\n",
    "上面的DML有几个地方需要加以说明：\n",
    "\n",
    "1. MySQL目前的版本不支持全外连接，上面我们通过`union`操作，将左外连接和右外连接的结果求并集实现全外连接的效果。大家可以通过下面的图来加深对连表操作的认识。\n",
    "\n",
    "   <img src=\"https://gitee.com/jackfrued/mypic/raw/master/20211121135117.png\" style=\"zoom:50%\">\n",
    "\n",
    "2. MySQL 中支持多种类型的运算符，包括：算术运算符（`+`、`-`、`*`、`/`、`%`）、比较运算符（`=`、`<>`、`<=>`、`<`、`<=`、`>`、`>=`、`BETWEEN...AND..`.、`IN`、`IS NULL`、`IS NOT NULL`、`LIKE`、`RLIKE`、`REGEXP`）、逻辑运算符（`NOT`、`AND`、`OR`、`XOR`）和位运算符（`&`、`|`、`^`、`~`、`>>`、`<<`），我们可以在 DML 中使用这些运算符处理数据。\n",
    "\n",
    "3. 在查询数据时，可以在`SELECT`语句及其子句（如`WHERE`子句、`ORDER BY`子句、`HAVING`子句等）中使用函数，这些函数包括字符串函数、数值函数、时间日期函数、流程函数等，如下面的表格所示。\n",
    "\n",
    "   常用字符串函数。\n",
    "\n",
    "   | 函数                        | 功能                                                  |\n",
    "   | --------------------------- | ----------------------------------------------------- |\n",
    "   | `CONCAT`                    | 将多个字符串连接成一个字符串                          |\n",
    "   | `FORMAT`                    | 将数值格式化成字符串并指定保留几位小数                |\n",
    "   | `FROM_BASE64` / `TO_BASE64` | BASE64解码/编码                                       |\n",
    "   | `BIN` / `OCT` / `HEX`       | 将数值转换成二进制/八进制/十六进制字符串              |\n",
    "   | `LOCATE`                    | 在字符串中查找一个子串的位置                          |\n",
    "   | `LEFT` / `RIGHT`            | 返回一个字符串左边/右边指定长度的字符                 |\n",
    "   | `LENGTH` / `CHAR_LENGTH`    | 返回字符串的长度以字节/字符为单位                     |\n",
    "   | `LOWER` / `UPPER`           | 返回字符串的小写/大写形式                             |\n",
    "   | `LPAD` / `RPAD`             | 如果字符串的长度不足，在字符串左边/右边填充指定的字符 |\n",
    "   | `LTRIM` / `RTRIM`           | 去掉字符串前面/后面的空格                             |\n",
    "   | `ORD` / `CHAR`              | 返回字符对应的编码/返回编码对应的字符                 |\n",
    "   | `STRCMP`                    | 比较字符串，返回-1、0、1分别表示小于、等于、大于      |\n",
    "   | `SUBSTRING`                 | 返回字符串指定范围的子串                              |\n",
    "\n",
    "   常用数值函数。\n",
    "\n",
    "   | 函数                                                     | 功能                               |\n",
    "   | -------------------------------------------------------- | ---------------------------------- |\n",
    "   | `ABS`                                                    | 返回一个数的绝度值                 |\n",
    "   | `CEILING` / `FLOOR`                                      | 返回一个数上取整/下取整的结果      |\n",
    "   | `CONV`                                                   | 将一个数从一种进制转换成另一种进制 |\n",
    "   | `CRC32`                                                  | 计算循环冗余校验码                 |\n",
    "   | `EXP` / `LOG` / `LOG2` / `LOG10`                         | 计算指数/对数                      |\n",
    "   | `POW`                                                    | 求幂                               |\n",
    "   | `RAND`                                                   | 返回[0,1)范围的随机数              |\n",
    "   | `ROUND`                                                  | 返回一个数四舍五入后的结果         |\n",
    "   | `SQRT`                                                   | 返回一个数的平方根                 |\n",
    "   | `TRUNCATE`                                               | 截断一个数到指定的精度             |\n",
    "   | `SIN` / `COS` / `TAN` / `COT` / `ASIN` / `ACOS` / `ATAN` | 三角函数                           |\n",
    "\n",
    "   常用时间日期函数。\n",
    "\n",
    "   | 函数                          | 功能                                  |\n",
    "   | ----------------------------- | ------------------------------------- |\n",
    "   | `CURDATE` / `CURTIME` / `NOW` | 获取当前日期/时间/日期和时间          |\n",
    "   | `ADDDATE` / `SUBDATE`         | 将两个日期表达式相加/相减并返回结果   |\n",
    "   | `DATE` / `TIME`               | 从字符串中获取日期/时间               |\n",
    "   | `YEAR` / `MONTH` / `DAY`      | 从日期中获取年/月/日                  |\n",
    "   | `HOUR` / `MINUTE` / `SECOND`  | 从时间中获取时/分/秒                  |\n",
    "   | `DATEDIFF` / `TIMEDIFF`       | 返回两个时间日期表达式相差多少天/小时 |\n",
    "   | `MAKEDATE` / `MAKETIME`       | 制造一个日期/时间                     |\n",
    "\n",
    "   常用流程函数。\n",
    "\n",
    "   | 函数     | 功能                                             |\n",
    "   | -------- | ------------------------------------------------ |\n",
    "   | `IF`     | 根据条件是否成立返回不同的值                     |\n",
    "   | `IFNULL` | 如果为NULL则返回指定的值否则就返回本身           |\n",
    "   | `NULLIF` | 两个表达式相等就返回NULL否则返回第一个表达式的值 |\n",
    "\n",
    "   其他常用函数。\n",
    "\n",
    "   | 函数                       | 功能                          |\n",
    "   | -------------------------- | ----------------------------- |\n",
    "   | `MD5` / `SHA1` / `SHA2`    | 返回字符串对应的哈希摘要      |\n",
    "   | `CHARSET` / `COLLATION`    | 返回字符集/校对规则           |\n",
    "   | `USER` / `CURRENT_USER`    | 返回当前用户                  |\n",
    "   | `DATABASE`                 | 返回当前数据库名              |\n",
    "   | `VERSION`                  | 返回当前数据库版本            |\n",
    "   | `FOUND_ROWS` / `ROW_COUNT` | 返回查询到的行数/受影响的行数 |\n",
    "   | `LAST_INSERT_ID`           | 返回最后一个自增主键的值      |\n",
    "   | `UUID` / `UUID_SHORT`      | 返回全局唯一标识符            |"
   ]
  },
  {
   "cell_type": "markdown",
   "metadata": {},
   "source": [
    "#### DCL（数据控制语言）\n",
    "\n",
    "数据控制语言用于给指定的用户授权或者从召回指定用户的指定权限，这组操作对数据库管理员来说比较重要，将一个用户的权限最小化（刚好够用）是非常重要的，对数据库的安全至关重要。\n",
    "\n",
    "```SQL\n",
    "-- 创建名为 wangdachui 的账号并为其指定口令，允许该账号从任意主机访问\n",
    "create user 'wangdachui'@'%' identified by '123456';\n",
    "\n",
    "-- 授权 wangdachui 可以对名为school的数据库执行 select 和 insert 操作\n",
    "grant select, insert on `school`.* to 'wangdachui'@'%';\n",
    "\n",
    "-- 召回 wangdachui 对school数据库的 insert 权限\n",
    "revoke insert on `school`.* from 'wangdachui'@'%';\n",
    "```\n",
    "\n",
    "> **说明**：创建一个可以允许任意主机登录并且具有超级管理员权限的用户在现实中并不是一个明智的决定，因为一旦该账号的口令泄露或者被破解，数据库将会面临灾难级的风险。"
   ]
  },
  {
   "cell_type": "markdown",
   "metadata": {},
   "source": [
    "### MySQL 详解\n",
    "\n",
    "#### 索引\n",
    "\n",
    "索引是关系型数据库中用来提升查询性能最为重要的手段。关系型数据库中的索引就像一本书的目录，我们可以想象一下，如果要从一本书中找出某个知识点，但是这本书没有目录，这将是意见多么可怕的事情！我们估计得一篇一篇的翻下去，才能确定这个知识点到底在什么位置。创建索引虽然会带来存储空间上的开销，就像一本书的目录会占用一部分篇幅一样，但是在牺牲空间后换来的查询时间的减少也是非常显著的。\n",
    "\n",
    "MySQL 数据库中所有数据类型的列都可以被索引。对于MySQL 8.0 版本的 InnoDB 存储引擎来说，它支持三种类型的索引，分别是 B+ 树索引、全文索引和 R 树索引。这里，我们只介绍使用得最为广泛的 B+ 树索引。使用 B+ 树的原因非常简单，因为它是目前在基于磁盘进行海量数据存储和排序上最有效率的数据结构。B+ 树是一棵[平衡树](https://zh.wikipedia.org/zh-cn/%E5%B9%B3%E8%A1%A1%E6%A0%91)，树的高度通常为3或4，但是却可以保存从百万级到十亿级的数据，而从这些数据里面查询一条数据，只需要3次或4次 I/O 操作。\n",
    "\n",
    "B+ 树由根节点、中间节点和叶子节点构成，其中叶子节点用来保存排序后的数据。由于记录在索引上是排序过的，因此在一个叶子节点内查找数据时可以使用二分查找，这种查找方式效率非常的高。当数据很少的时候，B+ 树只有一个根节点，数据也就保存在根节点上。随着记录越来越多，B+ 树会发生分裂，根节点不再保存数据，而是提供了访问下一层节点的指针，帮助快速确定数据在哪个叶子节点上。\n",
    "\n",
    "在创建二维表时，我们通常都会为表指定主键列，主键列上默认会创建索引，而对于 MySQL InnoDB 存储引擎来说，因为它使用的是索引组织表这种数据存储结构，所以主键上的索引就是整张表的数据，而这种索引我们也将其称之为**聚集索引**（clustered index）。很显然，一张表只能有一个聚集索引，否则表的数据岂不是要保存多次。我们自己创建的索引都是二级索引（secondary index），更常见的叫法是**非聚集索引**（non-clustered index）。通过我们自定义的非聚集索引只能定位记录的主键，在获取数据时可能需要再通过主键上的聚集索引进行查询，这种现象称为“回表”，因此通过非聚集索引检索数据通常比使用聚集索引检索数据要慢。\n",
    "\n",
    "接下来我们通过一个简单的例子来说明索引的意义，比如我们要根据学生的姓名来查找学生，这个场景在实际开发中应该经常遇到，就跟通过商品名称查找商品是一个道理。我们可以使用 MySQL 的`explain`关键字来查看 SQL 的执行计划（数据库执行 SQL 语句的具体步骤）。\n",
    "\n",
    "```SQL\n",
    "explain select * from tb_student where stuname='林震南'\\G\n",
    "```\n",
    "\n",
    "```\n",
    "*************************** 1. row ***************************\n",
    "           id: 1\n",
    "  select_type: SIMPLE\n",
    "        table: tb_student\n",
    "   partitions: NULL\n",
    "         type: ALL\n",
    "possible_keys: NULL\n",
    "          key: NULL\n",
    "      key_len: NULL\n",
    "          ref: NULL\n",
    "         rows: 11\n",
    "     filtered: 10.00\n",
    "        Extra: Using where\n",
    "1 row in set, 1 warning (0.00 sec)\n",
    "```\n",
    "\n",
    "在上面的 SQL 执行计划中，有几项值得我们关注：\n",
    "\n",
    "1. `select_type`：查询的类型。\n",
    "    - `SIMPLE`：简单 SELECT，不需要使用 UNION 操作或子查询。\n",
    "    - `PRIMARY`：如果查询包含子查询，最外层的 SELECT 被标记为 PRIMARY。\n",
    "    - `UNION`：UNION 操作中第二个或后面的 SELECT 语句。\n",
    "    - `SUBQUERY`：子查询中的第一个 SELECT。\n",
    "    - `DERIVED`：派生表的 SELECT 子查询。\n",
    "2. `table`：查询对应的表。\n",
    "3. `type`：MySQL 在表中找到满足条件的行的方式，也称为访问类型，包括：`ALL`（全表扫描）、`index`（索引全扫描，只遍历索引树）、`range`（索引范围扫描）、`ref`（非唯一索引扫描）、`eq_ref`（唯一索引扫描）、`const` / `system`（常量级查询）、`NULL`（不需要访问表或索引）。在所有的访问类型中，很显然 ALL 是性能最差的，它代表的全表扫描是指要扫描表中的每一行才能找到匹配的行。\n",
    "4. `possible_keys`：MySQL 可以选择的索引，但是**有可能不会使用**。\n",
    "5. `key`：MySQL 真正使用的索引，如果为`NULL`就表示没有使用索引。\n",
    "6. `key_len`：使用的索引的长度，在不影响查询的情况下肯定是长度越短越好。\n",
    "7. `rows`：执行查询需要扫描的行数，这是一个**预估值**。\n",
    "8. `extra`：关于查询额外的信息。\n",
    "    - `Using filesort`：MySQL 无法利用索引完成排序操作。\n",
    "    - `Using index`：只使用索引的信息而不需要进一步查表来获取更多的信息。\n",
    "    - `Using temporary`：MySQL 需要使用临时表来存储结果集，常用于分组和排序。\n",
    "    - `Impossible where`：`where`子句会导致没有符合条件的行。\n",
    "    - `Distinct`：MySQL 发现第一个匹配行后，停止为当前的行组合搜索更多的行。\n",
    "    - `Using where`：查询的列未被索引覆盖，筛选条件并不是索引的前导列。\n",
    "\n",
    "从上面的执行计划可以看出，当我们通过学生名字查询学生时实际上是进行了全表扫描，不言而喻这个查询性能肯定是非常糟糕的，尤其是在表中的行很多的时候。如果我们需要经常通过学生姓名来查询学生，那么就应该在学生姓名对应的列上创建索引，通过索引来加速查询。\n",
    "\n",
    "```SQL\n",
    "create index idx_student_name on tb_student(stuname);\n",
    "```\n",
    "\n",
    "再次查看刚才的 SQL 对应的执行计划。\n",
    "\n",
    "```SQL\n",
    "explain select * from tb_student where stuname='林震南'\\G\n",
    "```\n",
    "\n",
    "```\n",
    "*************************** 1. row ***************************\n",
    "           id: 1\n",
    "  select_type: SIMPLE\n",
    "        table: tb_student\n",
    "   partitions: NULL\n",
    "         type: ref\n",
    "possible_keys: idx_student_name\n",
    "          key: idx_student_name\n",
    "      key_len: 62\n",
    "          ref: const\n",
    "         rows: 1\n",
    "     filtered: 100.00\n",
    "        Extra: NULL\n",
    "1 row in set, 1 warning (0.00 sec)\n",
    "```\n",
    "\n",
    "可以注意到，在对学生姓名创建索引后，刚才的查询已经不是全表扫描而是基于索引的查询，而且扫描的行只有唯一的一行，这显然大大的提升了查询的性能。MySQL 中还允许创建前缀索引，即对索引字段的前N个字符创建索引，这样的话可以减少索引占用的空间（但节省了空间很有可能会浪费时间，**时间和空间是不可调和的矛盾**），如下所示。\n",
    "\n",
    "```SQL\n",
    "create index idx_student_name_1 on tb_student(stuname(1));\n",
    "```\n",
    "\n",
    "上面的索引相当于是根据学生姓名的第一个字来创建的索引，我们再看看 SQL 执行计划。\n",
    "\n",
    "```SQL\n",
    "explain select * from tb_student where stuname='林震南'\\G\n",
    "```\n",
    "\n",
    "```\n",
    "*************************** 1. row ***************************\n",
    "           id: 1\n",
    "  select_type: SIMPLE\n",
    "        table: tb_student\n",
    "   partitions: NULL\n",
    "         type: ref\n",
    "possible_keys: idx_student_name\n",
    "          key: idx_student_name\n",
    "      key_len: 5\n",
    "          ref: const\n",
    "         rows: 2\n",
    "     filtered: 100.00\n",
    "        Extra: Using where\n",
    "1 row in set, 1 warning (0.00 sec)\n",
    "```\n",
    "\n",
    "不知道大家是否注意到，这一次扫描的行变成了2行，因为学生表中有两个姓“林”的学生，我们只用姓名的第一个字作为索引的话，在查询时通过索引就会找到这两行。\n",
    "\n",
    "如果要删除索引，可以使用下面的SQL。\n",
    "\n",
    "```SQL\n",
    "alter table tb_student drop index idx_student_name;\n",
    "```\n",
    "\n",
    "或者\n",
    "\n",
    "```SQL\n",
    "drop index idx_student_name on tb_student;\n",
    "```\n",
    "\n",
    "在创建索引时，我们还可以使用复合索引、函数索引（MySQL 5.7 开始支持），用好复合索引实现**索引覆盖**可以减少不必要的排序和回表操作，这样就会让查询的性能成倍的提升，有兴趣的读者可以自行研究。\n",
    "\n",
    "我们简单的为大家总结一下索引的设计原则：\n",
    "\n",
    "1. **最适合**索引的列是出现在**WHERE子句**和连接子句中的列。\n",
    "2. 索引列的基数越大（取值多、重复值少），索引的效果就越好。\n",
    "3. 使用**前缀索引**可以减少索引占用的空间，内存中可以缓存更多的索引。\n",
    "4. **索引不是越多越好**，虽然索引加速了读操作（查询），但是写操作（增、删、改）都会变得更慢，因为数据的变化会导致索引的更新，就如同书籍章节的增删需要更新目录一样。\n",
    "5. 使用 InnoDB 存储引擎时，表的普通索引都会保存主键的值，所以**主键要尽可能选择较短的数据类型**，这样可以有效的减少索引占用的空间，提升索引的缓存效果。\n",
    "\n",
    "最后，还有一点需要说明，InnoDB 使用的 B-tree 索引，数值类型的列除了等值判断时索引会生效之外，使用`>`、`<`、`>=`、`<=`、`BETWEEN...AND... `、`<>`时，索引仍然生效；对于字符串类型的列，如果使用不以通配符开头的模糊查询，索引也是起作用的，但是其他的情况会导致索引失效，这就意味着很有可能会做全表查询。"
   ]
  },
  {
   "cell_type": "markdown",
   "metadata": {},
   "source": [
    "#### 视图\n",
    "\n",
    "视图是关系型数据库中将一组查询指令构成的结果集组合成可查询的数据表的对象。简单的说，视图就是虚拟的表，但与数据表不同的是，数据表是一种实体结构，而视图是一种虚拟结构，你也可以将视图理解为保存在数据库中被赋予名字的 SQL 语句。\n",
    "\n",
    "使用视图可以获得以下好处：\n",
    "\n",
    "1. 可以将实体数据表隐藏起来，让外部程序无法得知实际的数据结构，让访问者可以使用表的组成部分而不是整个表，降低数据库被攻击的风险。\n",
    "2. 在大多数的情况下视图是只读的（更新视图的操作通常都有诸多的限制），外部程序无法直接透过视图修改数据。\n",
    "3. 重用 SQL 语句，将高度复杂的查询包装在视图表中，直接访问该视图即可取出需要的数据；也可以将视图视为数据表进行连接查询。\n",
    "4. 视图可以返回与实体数据表不同格式的数据，在创建视图的时候可以对数据进行格式化处理。\n",
    "\n",
    "创建视图。\n",
    "\n",
    "```SQL\n",
    "-- 创建视图\n",
    "create view `vw_avg_score` \n",
    "as \n",
    "    select `stu_id`, round(avg(`score`), 1) as `avg_score` \n",
    "    from `tb_record` group by `stu_id`;\n",
    "\n",
    "-- 基于已有的视图创建视图\n",
    "create view `vw_student_score` \n",
    "as \n",
    "    select `stu_name`, `avg_score` \n",
    "    from `tb_student` natural join `vw_avg_score`;\n",
    "```\n",
    "\n",
    "> **提示**：因为视图不包含数据，所以每次使用视图时，都必须执行查询以获得数据，如果你使用了连接查询、嵌套查询创建了较为复杂的视图，你可能会发现查询性能下降得很厉害。因此，在使用复杂的视图前，应该进行测试以确保其性能能够满足应用的需求。\n",
    "\n",
    "使用视图。\n",
    "\n",
    "```SQL\n",
    "select * from `vw_student_score` order by `avg_score` desc;\n",
    "```\n",
    "\n",
    "```\n",
    "+--------------+----------+\n",
    "| stuname      | avgscore |\n",
    "+--------------+----------+\n",
    "| 杨过         |     95.6 |\n",
    "| 任我行       |     53.5 |\n",
    "| 王语嫣       |     84.3 |\n",
    "| 纪嫣然       |     73.8 |\n",
    "| 岳不群       |     78.0 |\n",
    "| 东方不败     |     88.0 |\n",
    "| 项少龙       |     92.0 |\n",
    "+--------------+----------+\n",
    "```\n",
    "\n",
    "既然视图是一张虚拟的表，那么视图的中的数据可以更新吗？视图的可更新性要视具体情况而定，以下类型的视图是不能更新的：\n",
    "\n",
    "1. 使用了聚合函数（`SUM`、`MIN`、`MAX`、`AVG`、`COUNT`等）、`DISTINCT`、`GROUP BY`、`HAVING`、`UNION`或者`UNION ALL`的视图。\n",
    "2. `SELECT`中包含了子查询的视图。\n",
    "3. `FROM`子句中包含了一个不能更新的视图的视图。\n",
    "4. `WHERE`子句的子查询引用了`FROM`子句中的表的视图。\n",
    "\n",
    "删除视图。\n",
    "\n",
    "```SQL\n",
    "drop view vw_student_score;\n",
    "```\n",
    "\n",
    "> **说明**：如果希望更新视图，可以先用上面的命令删除视图，也可以通过`create or replace view`来更新视图。\n",
    "\n",
    "视图的规则和限制。\n",
    "\n",
    "1. 视图可以嵌套，可以利用从其他视图中检索的数据来构造一个新的视图。视图也可以和表一起使用。\n",
    "2. 创建视图时可以使用`order by`子句，但如果从视图中检索数据时也使用了`order by`，那么该视图中原先的`order by`会被覆盖。\n",
    "3. 视图无法使用索引，也不会激发触发器（实际开发中因为性能等各方面的考虑，通常不建议使用触发器，所以我们也不对这个概念进行介绍）的执行。\n",
    "\n",
    "#### 函数\n",
    "\n",
    "MySQL 中的函数跟 Python 中的函数太多的差异，因为函数都是用来封装功能上相对独立且会被重复使用的代码的。如果非要找出一些差别来，那么 MySQL 中的函数是可以执行 SQL 语句的。下面的例子，我们通过自定义函数实现了截断超长字符串的功能。\n",
    "\n",
    "```SQL\n",
    "delimiter $$\n",
    "\n",
    "create function truncate_string(\n",
    "    content varchar(10000),\n",
    "    max_length int unsigned\n",
    ") returns varchar(10000) no sql\n",
    "begin\n",
    "    declare result varchar(10000) default content;\n",
    "    if char_length(content) > max_length then\n",
    "        set result = left(content, max_length);\n",
    "        set result = concat(result, '……');\n",
    "    end if;\n",
    "    return result;\n",
    "end $$\n",
    "\n",
    "delimiter ;\n",
    "```\n",
    "\n",
    "> **说明1**：函数声明后面的`no sql`是声明函数体并没有使用 SQL 语句；如果函数体中需要通过 SQL 读取数据，需要声明为`reads sql data`。\n",
    ">\n",
    "> **说明2**：定义函数前后的`delimiter`命令是为了修改定界符，因为函数体中的语句都是用`;`表示结束，如果不重新定义定界符，那么遇到的`;`的时候代码就会被截断执行，显然这不是我们想要的效果。\n",
    "\n",
    "在查询中调用自定义函数。\n",
    "\n",
    "```SQL\n",
    "select truncate_string('和我在成都的街头走一走，直到所有的灯都熄灭了也不停留', 10) as short_string;\n",
    "```\n",
    "\n",
    "```\n",
    "+--------------------------------------+\n",
    "| short_string                         |\n",
    "+--------------------------------------+\n",
    "| 和我在成都的街头走一……                 |\n",
    "+--------------------------------------+\n",
    "```"
   ]
  },
  {
   "cell_type": "markdown",
   "metadata": {},
   "source": [
    "#### 过程\n",
    "\n",
    "过程（又称存储过程）是事先编译好存储在数据库中的一组 SQL 的集合，调用过程可以简化应用程序开发人员的工作，减少与数据库服务器之间的通信，对于提升数据操作的性能也是有帮助的。其实迄今为止，我们使用的 SQL 语句都是针对一个或多个表的单条语句，但在实际开发中经常会遇到某个操作需要多条 SQL 语句才能完成的情况。例如，电商网站在受理用户订单时，需要做以下一系列的处理。 \n",
    "\n",
    "1. 通过查询来核对库存中是否有对应的物品以及库存是否充足。\n",
    "2. 如果库存有物品，需要锁定库存以确保这些物品不再卖给别人， 并且要减少可用的物品数量以反映正确的库存量。\n",
    "3. 如果库存不足，可能需要进一步与供应商进行交互或者至少产生一条系统提示消息。 \n",
    "4. 不管受理订单是否成功，都需要产生流水记录，而且需要给对应的用户产生一条通知信息。 \n",
    "\n",
    "我们可以通过过程将复杂的操作封装起来，这样不仅有助于保证数据的一致性，而且将来如果业务发生了变动，只需要调整和修改过程即可。对于调用过程的用户来说，过程并没有暴露数据表的细节，而且执行过程比一条条的执行一组 SQL 要快得多。\n",
    "\n",
    "下面的过程实现了查询某门课程的最高分、最低分和平均分。\n",
    "\n",
    "```SQL\n",
    "drop procedure if exists sp_score_stat;\n",
    "\n",
    "delimiter $$\n",
    "\n",
    "create procedure sp_score_stat(\n",
    "\tcourseId int, \n",
    "\tout maxScore decimal(4,1), \n",
    "\tout minScore decimal(4,1),\n",
    "\tout avgScore decimal(4,1)\n",
    ")\n",
    "begin\n",
    "\tselect max(score) into maxScore from tb_record where cou_id=courseId;\n",
    "\tselect min(score) into minScore from tb_record where cou_id=courseId;\n",
    "\tselect avg(score) into avgScore from tb_record where cou_id=courseId;\n",
    "end $$\n",
    "\n",
    "delimiter ;\n",
    "```\n",
    "\n",
    "> **说明**：在定义过程时，因为可能需要书写多条 SQL，而分隔这些 SQL 需要使用分号作为分隔符，如果这个时候，仍然用分号表示整段代码结束，那么定义过程的 SQL 就会出现错误，所以上面我们用`delimiter $$`将整段代码结束的标记定义为`$$`，那么代码中的分号将不再表示整段代码的结束，整段代码只会在遇到`end $$`时才会执行。在定义完过程后，通过`delimiter ;`将结束符重新改回成分号（恢复现场）。\n",
    "\n",
    "上面定义的过程有四个参数，其中第一个参数是输入参数，代表课程的编号，后面的参数都是输出参数，因为过程不能定义返回值，只能通过输出参数将执行结果带出，定义输出参数的关键字是`out`，默认情况下参数都是输入参数。\n",
    "\n",
    "调用过程。\n",
    "\n",
    "```SQL\n",
    "call sp_score_stat(1111, @a, @b, @c);\n",
    "```\n",
    "\n",
    "获取输出参数的值。\n",
    "\n",
    "```SQL\n",
    "select @a as 最高分, @b as 最低分, @c as 平均分;\n",
    "```\n",
    "\n",
    "删除过程。\n",
    "\n",
    "```SQL\n",
    "drop procedure sp_score_stat;\n",
    "```\n",
    "\n",
    "在过程中，我们可以定义变量、条件，可以使用分支和循环语句，可以通过游标操作查询结果，还可以使用事件调度器，这些内容我们暂时不在此处进行介绍。虽然我们说了很多过程的好处，但是在实际开发中，如果频繁的使用过程并将大量复杂的运算放到过程中，会给据库服务器造成巨大的压力，而数据库往往都是性能瓶颈所在，使用过程无疑是雪上加霜的操作。所以，对于互联网产品开发，我们一般建议让数据库只做好存储，复杂的运算和处理交给应用服务器上的程序去完成，如果应用服务器变得不堪重负了，我们可以比较容易的部署多台应用服务器来分摊这些压力。\n",
    "\n",
    "如果大家对上面讲到的视图、函数、过程包括我们没有讲到的触发器这些知识有兴趣，建议大家阅读 MySQL 的入门读物[《MySQL必知必会》](https://item.jd.com/12818982.html)进行一般性了解即可，因为这些知识点在大家将来的工作中未必用得上，学了也可能仅仅是为了应付面试而已。"
   ]
  },
  {
   "cell_type": "markdown",
   "metadata": {},
   "source": [
    "### MySQL 新特性\n",
    "\n",
    "#### JSON类型\n",
    "\n",
    "很多开发者在使用关系型数据库做数据持久化的时候，常常感到结构化的存储缺乏灵活性，因为必须事先设计好所有的列以及对应的数据类型。在业务发展和变化的过程中，如果需要修改表结构，这绝对是比较麻烦和难受的事情。从 MySQL 5.7 版本开始，MySQL引入了对 JSON 数据类型的支持（MySQL 8.0 解决了 JSON 的日志性能瓶颈问题），用好 JSON 类型，其实就是打破了关系型数据库和非关系型数据库之间的界限，为数据持久化操作带来了更多的便捷。\n",
    "\n",
    "JSON 类型主要分为 JSON 对象和 JSON数组两种，如下所示。\n",
    "\n",
    "1. JSON 对象\n",
    "\n",
    "```JSON\n",
    "{\"name\": \"骆昊\", \"tel\": \"13122335566\", \"QQ\": \"957658\"}\n",
    "```\n",
    "\n",
    "2. JSON 数组\n",
    "\n",
    "```JSON\n",
    "[1, 2, 3]\n",
    "```\n",
    "\n",
    "```JSON\n",
    "[{\"name\": \"骆昊\", \"tel\": \"13122335566\"}, {\"name\": \"王大锤\", \"QQ\": \"123456\"}]\n",
    "```\n",
    "\n",
    "哪些地方需要用到JSON类型呢？举一个简单的例子，现在很多产品的用户登录都支持多种方式，例如手机号、微信、QQ、新浪微博等，但是一般情况下我们又不会要求用户提供所有的这些信息，那么用传统的设计方式，就需要设计多个列来对应多种登录方式，可能还需要允许这些列存在空值，这显然不是很好的选择；另一方面，如果产品又增加了一种登录方式，那么就必然要修改之前的表结构，这就更让人痛苦了。但是，有了 JSON 类型，刚才的问题就迎刃而解了，我们可以做出如下所示的设计。\n",
    "\n",
    "```SQL\n",
    "create table `tb_test`\n",
    "(\n",
    "`user_id` bigint unsigned,\n",
    "`login_info` json,\n",
    "primary key (`user_id`)\n",
    ") engine=innodb;\n",
    "\n",
    "insert into `tb_test` values \n",
    "    (1, '{\"tel\": \"13122335566\", \"QQ\": \"654321\", \"wechat\": \"jackfrued\"}'),\n",
    "    (2, '{\"tel\": \"13599876543\", \"weibo\": \"wangdachui123\"}');\n",
    "```\n",
    "\n",
    "如果要查询用户的手机和微信号，可以用如下所示的 SQL 语句。\n",
    "\n",
    "```SQL\n",
    "select \n",
    "    `user_id`,\n",
    "    json_unquote(json_extract(`login_info`, '$.tel')) as 手机号,\n",
    "    json_unquote(json_extract(`login_info`, '$.wechat')) as 微信 \n",
    "from `tb_test`;\n",
    "```\n",
    "\n",
    "```\n",
    "+---------+-------------+-----------+\n",
    "| user_id | 手机号      | 微信       |\n",
    "+---------+-------------+-----------+\n",
    "|       1 | 13122335566 | jackfrued |\n",
    "|       2 | 13599876543 | NULL      |\n",
    "+---------+-------------+-----------+\n",
    "```\n",
    "\n",
    "因为支持 JSON 类型，MySQL 也提供了配套的处理 JSON 数据的函数，就像上面用到的`json_extract`和`json_unquote`。当然，上面的 SQL 还有更为便捷的写法，如下所示。\n",
    "\n",
    "```SQL\n",
    "select \n",
    "\t`user_id`,\n",
    "    `login_info` ->> '$.tel' as 手机号,\n",
    "    `login_info` ->> '$.wechat' as 微信\n",
    "from `tb_test`;\n",
    "```\n",
    "\n",
    "再举个例子，如果我们的产品要实现用户画像功能（给用户打标签），然后基于用户画像给用户推荐平台的服务或消费品之类的东西，我们也可以使用 JSON 类型来保存用户画像数据，示意代码如下所示。\n",
    "\n",
    "创建画像标签表。\n",
    "\n",
    "```SQL\n",
    "create table `tb_tags`\n",
    "(\n",
    "`tag_id` int unsigned not null comment '标签ID',\n",
    "`tag_name` varchar(20) not null comment '标签名',\n",
    "primary key (`tag_id`)\n",
    ") engine=innodb;\n",
    "\n",
    "insert into `tb_tags` (`tag_id`, `tag_name`) \n",
    "values\n",
    "    (1, '70后'),\n",
    "    (2, '80后'),\n",
    "    (3, '90后'),\n",
    "    (4, '00后'),\n",
    "    (5, '爱运动'),\n",
    "    (6, '高学历'),\n",
    "    (7, '小资'),\n",
    "    (8, '有房'),\n",
    "    (9, '有车'),\n",
    "    (10, '爱看电影'),\n",
    "    (11, '爱网购'),\n",
    "    (12, '常点外卖');\n",
    "```\n",
    "\n",
    "为用户打标签。\n",
    "\n",
    "```SQL\n",
    "create table `tb_users_tags`\n",
    "(\n",
    "`user_id` bigint unsigned not null comment '用户ID',\n",
    "`user_tags` json not null comment '用户标签'\n",
    ") engine=innodb;\n",
    "\n",
    "insert into `tb_users_tags` values \n",
    "    (1, '[2, 6, 8, 10]'),\n",
    "    (2, '[3, 10, 12]'),\n",
    "    (3, '[3, 8, 9, 11]');\n",
    "```\n",
    "\n",
    "接下来，我们通过一组查询来了解 JSON 类型的巧妙之处。\n",
    "\n",
    "1. 查询爱看电影（有`10`这个标签）的用户ID。\n",
    "\n",
    "    ```SQL\n",
    "    select * from `tb_users` where 10 member of (user_tags->'$');\n",
    "    ```\n",
    "\n",
    "2. 查询爱看电影（有`10`这个标签）的80后（有`2`这个标签）用户ID。\n",
    "\n",
    "    ```\n",
    "    select * from `tb_users` where json_contains(user_tags->'$', '[2, 10]');\n",
    "\n",
    "3. 查询爱看电影或80后或90后的用户ID。\n",
    "\n",
    "    ```SQL\n",
    "    select `user_id` from `tb_users_tags` where json_overlaps(user_tags->'$', '[2, 3, 10]');\n",
    "    ```\n",
    "\n",
    "> **说明**：上面的查询用到了`member of`谓词和两个 JSON 函数，`json_contains`可以检查 JSON 数组是否包含了指定的元素，而`json_overlaps`可以检查 JSON 数组是否与指定的数组有重叠部分。\n",
    "\n",
    "#### 窗口函数\n",
    "\n",
    "MySQL 从8.0开始支持窗口函数，大多数商业数据库和一些开源数据库早已提供了对窗口函数的支持，有的也将其称之为 OLAP（联机分析和处理）函数，听名字就知道跟统计和分析相关。为了帮助大家理解窗口函数，我们先说说窗口的概念。\n",
    "\n",
    "窗口可以理解为记录的集合，窗口函数也就是在满足某种条件的记录集合上执行的特殊函数，对于每条记录都要在此窗口内执行函数。窗口函数和我们上面讲到的聚合函数比较容易混淆，二者的区别主要在于聚合函数是将多条记录聚合为一条记录，窗口函数是每条记录都会执行，执行后记录条数不会变。窗口函数不仅仅是几个函数，它是一套完整的语法，函数只是该语法的一部分，基本语法如下所示：\n",
    "\n",
    "```SQL\n",
    "<窗口函数> over (partition by <用于分组的列名> order by <用户排序的列名>)\n",
    "```\n",
    "\n",
    "上面语法中，窗口函数的位置可以放以下两种函数：\n",
    "\n",
    "1. 专用窗口函数，包括：`lead`、`lag`、`first_value`、`last_value`、`rank`、`dense_rank`和`row_number`等。\n",
    "2. 聚合函数，包括：`sum`、`avg`、`max`、`min`和`count`等。\n",
    "\n",
    "下面为大家举几个使用窗口函数的简单例子，我们先用如下所示的 SQL 建库建表。\n",
    "\n",
    "```SQL\n",
    "-- 创建名为hrs的数据库并指定默认的字符集\n",
    "create database `hrs` default charset utf8mb4;\n",
    "\n",
    "-- 切换到hrs数据库\n",
    "use `hrs`;\n",
    "\n",
    "-- 创建部门表\n",
    "create table `tb_dept`\n",
    "(\n",
    "`dno` int not null comment '编号',\n",
    "`dname` varchar(10) not null comment '名称',\n",
    "`dloc` varchar(20) not null comment '所在地',\n",
    "primary key (`dno`)\n",
    ");\n",
    "\n",
    "-- 插入4个部门\n",
    "insert into `tb_dept` values \n",
    "    (10, '会计部', '北京'),\n",
    "    (20, '研发部', '成都'),\n",
    "    (30, '销售部', '重庆'),\n",
    "    (40, '运维部', '深圳');\n",
    "\n",
    "-- 创建员工表\n",
    "create table `tb_emp`\n",
    "(\n",
    "`eno` int not null comment '员工编号',\n",
    "`ename` varchar(20) not null comment '员工姓名',\n",
    "`job` varchar(20) not null comment '员工职位',\n",
    "`mgr` int comment '主管编号',\n",
    "`sal` int not null comment '员工月薪',\n",
    "`comm` int comment '每月补贴',\n",
    "`dno` int not null comment '所在部门编号',\n",
    "primary key (`eno`),\n",
    "constraint `fk_emp_mgr` foreign key (`mgr`) references tb_emp (`eno`),\n",
    "constraint `fk_emp_dno` foreign key (`dno`) references tb_dept (`dno`)\n",
    ");\n",
    "\n",
    "-- 插入14个员工\n",
    "insert into `tb_emp` values \n",
    "    (7800, '张三丰', '总裁', null, 9000, 1200, 20),\n",
    "    (2056, '乔峰', '分析师', 7800, 5000, 1500, 20),\n",
    "    (3088, '李莫愁', '设计师', 2056, 3500, 800, 20),\n",
    "    (3211, '张无忌', '程序员', 2056, 3200, null, 20),\n",
    "    (3233, '丘处机', '程序员', 2056, 3400, null, 20),\n",
    "    (3251, '张翠山', '程序员', 2056, 4000, null, 20),\n",
    "    (5566, '宋远桥', '会计师', 7800, 4000, 1000, 10),\n",
    "    (5234, '郭靖', '出纳', 5566, 2000, null, 10),\n",
    "    (3344, '黄蓉', '销售主管', 7800, 3000, 800, 30),\n",
    "    (1359, '胡一刀', '销售员', 3344, 1800, 200, 30),\n",
    "    (4466, '苗人凤', '销售员', 3344, 2500, null, 30),\n",
    "    (3244, '欧阳锋', '程序员', 3088, 3200, null, 20),\n",
    "    (3577, '杨过', '会计', 5566, 2200, null, 10),\n",
    "    (3588, '朱九真', '会计', 5566, 2500, null, 10);\n",
    "```\n",
    "\n",
    "例子1：查询按月薪从高到低排在第4到第6名的员工的姓名和月薪。\n",
    "\n",
    "```SQL\n",
    "select * from (\n",
    "\tselect \n",
    "\t\t`ename`, `sal`,\n",
    "\t\trow_number() over (order by `sal` desc) as `rank`\n",
    "\tfrom `tb_emp`\n",
    ") `temp` where `rank` between 4 and 6;\n",
    "```\n",
    "\n",
    "> **说明**：上面使用的函数`row_number()`可以为每条记录生成一个行号，在实际工作中可以根据需要将其替换为`rank()`或`dense_rank()`函数，三者的区别可以参考官方文档或阅读[《通俗易懂的学会：SQL窗口函数》](https://zhuanlan.zhihu.com/p/92654574)进行了解。在MySQL 8以前的版本，我们可以通过下面的方式来完成类似的操作。\n",
    ">\n",
    "> ```SQL\n",
    "> select `rank`, `ename`, `sal` from (\n",
    ">     select @a:=@a+1 as `rank`, `ename`, `sal` \n",
    ">     from `tb_emp`, (select @a:=0) as t1 order by `sal` desc\n",
    "> ) t2 where `rank` between 4 and 6;\n",
    "> ```\n",
    "\n",
    "例子2：查询每个部门月薪最高的两名的员工的姓名和部门名称。\n",
    "\n",
    "```SQL\n",
    "select `ename`, `sal`, `dname` \n",
    "from (\n",
    "    select \n",
    "        `ename`, `sal`, `dno`,\n",
    "        rank() over (partition by `dno` order by `sal` desc) as `rank`\n",
    "    from `tb_emp`\n",
    ") as `temp` natural join `tb_dept` where `rank`<=2;\n",
    "```\n",
    "\n",
    "> 说明：在MySQL 8以前的版本，我们可以通过下面的方式来完成类似的操作。\n",
    ">\n",
    "> ```SQL\n",
    "> select `ename`, `sal`, `dname` from `tb_emp` as `t1` \n",
    "natural join `tb_dept` \n",
    "where (\n",
    "    select count(*) from `tb_emp` as `t2` \n",
    "    where `t1`.`dno`=`t2`.`dno` and `t2`.`sal`>`t1`.`sal` \n",
    ")<2 order by `dno` asc, `sal` desc;\n",
    "> ```"
   ]
  },
  {
   "cell_type": "markdown",
   "metadata": {},
   "source": [
    "###  其他内容\n",
    "\n",
    "#### 范式理论\n",
    "\n",
    "范式理论是设计关系型数据库中二维表的指导思想。\n",
    "\n",
    "1. 第一范式：数据表的每个列的值域都是由原子值组成的，不能够再分割。\n",
    "2. 第二范式：数据表里的所有数据都要和该数据表的键（主键与候选键）有完全依赖关系。\n",
    "3. 第三范式：所有非键属性都只和候选键有相关性，也就是说非键属性之间应该是独立无关的。\n",
    "\n",
    "> **说明**：实际工作中，出于效率的考虑，我们在设计表时很有可能做出反范式设计，即故意降低方式级别，增加冗余数据来获得更好的操作性能。\n",
    "\n",
    "#### 数据完整性\n",
    "\n",
    "1. 实体完整性 - 每个实体都是独一无二的\n",
    "\n",
    "   - 主键（`primary key`） / 唯一约束（`unique`）\n",
    "2. 引用完整性（参照完整性）- 关系中不允许引用不存在的实体\n",
    "\n",
    "   - 外键（`foreign key`）\n",
    "3. 域（domain）完整性 - 数据是有效的\n",
    "   - 数据类型及长度\n",
    "\n",
    "   - 非空约束（`not null`）\n",
    "\n",
    "   - 默认值约束（`default`）\n",
    "\n",
    "   - 检查约束（`check`）\n",
    "\n",
    "     > **说明**：在 MySQL 8.x 以前，检查约束并不起作用。\n",
    "\n",
    "#### 数据一致性\n",
    "\n",
    "1. 事务：一系列对数据库进行读/写的操作，这些操作要么全都成功，要么全都失败。\n",
    "\n",
    "2. 事务的 ACID 特性\n",
    "   - 原子性：事务作为一个整体被执行，包含在其中的对数据库的操作要么全部被执行，要么都不执行\n",
    "   - 一致性：事务应确保数据库的状态从一个一致状态转变为另一个一致状态\n",
    "   - 隔离性：多个事务并发执行时，一个事务的执行不应影响其他事务的执行\n",
    "   - 持久性：已被提交的事务对数据库的修改应该永久保存在数据库中\n",
    "\n",
    "3. MySQL 中的事务操作\n",
    "\n",
    "   - 开启事务环境\n",
    "\n",
    "     ```SQL\n",
    "     start transaction\n",
    "     ```\n",
    "\n",
    "   - 提交事务\n",
    "\n",
    "     ```SQL\n",
    "     commit\n",
    "     ```\n",
    "\n",
    "   - 回滚事务\n",
    "\n",
    "     ```SQL\n",
    "     rollback\n",
    "     ```\n",
    "\n",
    "4. 查看事务隔离级别\n",
    "\n",
    "    ```SQL\n",
    "    show variables like 'transaction_isolation';\n",
    "    ```\n",
    "\n",
    "    ```\n",
    "    +-----------------------+-----------------+\n",
    "    | Variable_name         | Value           |\n",
    "    +-----------------------+-----------------+\n",
    "    | transaction_isolation | REPEATABLE-READ |\n",
    "    +-----------------------+-----------------+\n",
    "    ```\n",
    "\n",
    "    可以看出，MySQL 默认的事务隔离级别是`REPEATABLE-READ`。\n",
    "\n",
    "5. 修改（当前会话）事务隔离级别\n",
    "\n",
    "    ```SQL\n",
    "    set session transaction isolation level read committed;\n",
    "    ```\n",
    "\n",
    "    重新查看事务隔离级别，结果如下所示。\n",
    "\n",
    "    ```\n",
    "    +-----------------------+----------------+\n",
    "    | Variable_name         | Value          |\n",
    "    +-----------------------+----------------+\n",
    "    | transaction_isolation | READ-COMMITTED |\n",
    "    +-----------------------+----------------+\n",
    "    ```\n",
    "\n",
    "关系型数据库的事务是一个很大的话题，因为当存在多个并发事务访问数据时，就有可能出现三类读数据的问题（脏读、不可重复读、幻读）和两类更新数据的问题（第一类丢失更新、第二类丢失更新）。想了解这五类问题的，可以阅读我发布在 CSDN 网站上的[《Java面试题全集（上）》](https://blog.csdn.net/jackfrued/article/details/44921941)一文的第80题。为了避免这些问题，关系型数据库底层是有对应的锁机制的，按锁定对象不同可以分为表级锁和行级锁，按并发事务锁定关系可以分为共享锁和独占锁。然而直接使用锁是非常麻烦的，为此数据库为用户提供了自动锁机制，只要用户指定适当的事务隔离级别，数据库就会通过分析 SQL 语句，然后为事务访问的资源加上合适的锁。此外，数据库还会维护这些锁通过各种手段提高系统的性能，这些对用户来说都是透明的。想了解 MySQL 事务和锁的细节知识，推荐大家阅读进阶读物[《高性能MySQL》](https://item.jd.com/11220393.html)，这也是数据库方面的经典书籍。\n",
    "\n",
    "ANSI/ISO SQL 92标准定义了4个等级的事务隔离级别，如下表所示。需要说明的是，事务隔离级别和数据访问的并发性是对立的，事务隔离级别越高并发性就越差。所以要根据具体的应用来确定到底使用哪种事务隔离级别，这个地方没有万能的原则。\n",
    "\n",
    "<img src=\"https://gitee.com/jackfrued/mypic/raw/master/20211121225327.png\" style=\"zoom:50%;\">"
   ]
  },
  {
   "cell_type": "markdown",
   "metadata": {},
   "source": [
    "### 总结\n",
    "\n",
    "关于 SQL 和 MySQL 的知识肯定远远不止上面列出的这些，比如 SQL 本身的优化、MySQL 性能调优、MySQL 运维相关工具、MySQL 数据的备份和恢复、监控 MySQL 服务、部署高可用架构等，这一系列的问题在这里都没有办法逐一展开来讨论，那就留到有需要的时候再进行讲解吧，各位读者也可以自行探索。"
   ]
  },
  {
   "cell_type": "markdown",
   "metadata": {},
   "source": [
    "## Python程序接入MySQL数据库\n",
    "\n",
    "在 Python3 中，我们可以使用`mysqlclient`或者`pymysql`三方库来接入 MySQL 数据库并实现数据持久化操作。二者的用法完全相同，只是导入的模块名不一样。我们推荐大家使用纯 Python 的三方库`pymysql`，因为它更容易安装成功。下面我们仍然以之前创建的名为`hrs`的数据库为例，为大家演示如何通过 Python 程序操作 MySQL 数据库实现数据持久化操作。"
   ]
  },
  {
   "cell_type": "markdown",
   "metadata": {},
   "source": [
    "### 建库建表\n",
    "\n",
    "```SQL\n",
    "-- 创建名为hrs的数据库并指定默认的字符集\n",
    "create database `hrs` default character set utf8mb4;\n",
    "\n",
    "-- 切换到hrs数据库\n",
    "use `hrs`;\n",
    "\n",
    "-- 创建部门表\n",
    "create table `tb_dept`\n",
    "(\n",
    "`dno` int not null comment '编号',\n",
    "`dname` varchar(10) not null comment '名称',\n",
    "`dloc` varchar(20) not null comment '所在地',\n",
    "primary key (`dno`)\n",
    ");\n",
    "\n",
    "-- 插入4个部门\n",
    "insert into `tb_dept` values \n",
    "    (10, '会计部', '北京'),\n",
    "    (20, '研发部', '成都'),\n",
    "    (30, '销售部', '重庆'),\n",
    "    (40, '运维部', '深圳');\n",
    "\n",
    "-- 创建员工表\n",
    "create table `tb_emp`\n",
    "(\n",
    "`eno` int not null comment '员工编号',\n",
    "`ename` varchar(20) not null comment '员工姓名',\n",
    "`job` varchar(20) not null comment '员工职位',\n",
    "`mgr` int comment '主管编号',\n",
    "`sal` int not null comment '员工月薪',\n",
    "`comm` int comment '每月补贴',\n",
    "`dno` int not null comment '所在部门编号',\n",
    "primary key (`eno`),\n",
    "constraint `fk_emp_mgr` foreign key (`mgr`) references tb_emp (`eno`),\n",
    "constraint `fk_emp_dno` foreign key (`dno`) references tb_dept (`dno`)\n",
    ");\n",
    "\n",
    "-- 插入14个员工\n",
    "insert into `tb_emp` values \n",
    "    (7800, '张三丰', '总裁', null, 9000, 1200, 20),\n",
    "    (2056, '乔峰', '分析师', 7800, 5000, 1500, 20),\n",
    "    (3088, '李莫愁', '设计师', 2056, 3500, 800, 20),\n",
    "    (3211, '张无忌', '程序员', 2056, 3200, null, 20),\n",
    "    (3233, '丘处机', '程序员', 2056, 3400, null, 20),\n",
    "    (3251, '张翠山', '程序员', 2056, 4000, null, 20),\n",
    "    (5566, '宋远桥', '会计师', 7800, 4000, 1000, 10),\n",
    "    (5234, '郭靖', '出纳', 5566, 2000, null, 10),\n",
    "    (3344, '黄蓉', '销售主管', 7800, 3000, 800, 30),\n",
    "    (1359, '胡一刀', '销售员', 3344, 1800, 200, 30),\n",
    "    (4466, '苗人凤', '销售员', 3344, 2500, null, 30),\n",
    "    (3244, '欧阳锋', '程序员', 3088, 3200, null, 20),\n",
    "    (3577, '杨过', '会计', 5566, 2200, null, 10),\n",
    "    (3588, '朱九真', '会计', 5566, 2500, null, 10);\n",
    "```"
   ]
  },
  {
   "cell_type": "markdown",
   "metadata": {},
   "source": [
    "### 接入MySQL\n",
    "\n",
    "首先，我们可以在命令行或者 PyCharm 的终端中通过下面的命令安装`pymysql`，如果需要接入 MySQL 8，还需要安装一个名为`cryptography`的三方库来支持 MySQL 8 的密码认证方式。\n",
    "\n",
    "```Shell\n",
    "pip install pymysql cryptography\n",
    "```"
   ]
  },
  {
   "cell_type": "markdown",
   "metadata": {},
   "source": [
    "使用`pymysql`操作 MySQL 的步骤如下所示：\n",
    "\n",
    "1. 创建连接。MySQL 服务器启动后，提供了基于 TCP （传输控制协议）的网络服务。我们可以通过`pymysql`模块的`connect`函数连接 MySQL 服务器。在调用`connect`函数时，需要指定主机（`host`）、端口（`port`）、用户名（`user`）、口令（`password`）、数据库（`database`）、字符集（`charset`）等参数，该函数会返回一个`Connection`对象。"
   ]
  },
  {
   "cell_type": "markdown",
   "metadata": {},
   "source": [
    "2. 获取游标。连接 MySQL 服务器成功后，接下来要做的就是向数据库服务器发送 SQL 语句，MySQL 会执行接收到的 SQL 并将执行结果通过网络返回。要实现这项操作，需要先通过连接对象的`cursor`方法获取游标（`Cursor`）对象。"
   ]
  },
  {
   "cell_type": "markdown",
   "metadata": {},
   "source": [
    "3. 发出 SQL。通过游标对象的`execute`方法，我们可以向数据库发出 SQL 语句。"
   ]
  },
  {
   "cell_type": "markdown",
   "metadata": {},
   "source": [
    "4. 如果执行`insert`、`delete`或`update`操作，需要根据实际情况提交或回滚事务。因为创建连接时，默认开启了事务环境，在操作完成后，需要使用连接对象的`commit`或`rollback`方法，实现事务的提交或回滚，`rollback`方法通常会放在异常捕获代码块`except`中。如果执行`select`操作，需要通过游标对象抓取查询的结果，对应的方法有三个，分别是：`fetchone`、`fetchmany`和`fetchall`。其中`fetchone`方法会抓取到一条记录，并以元组或字典的方式返回；`fetchmany`和`fetchall`方法会抓取到多条记录，以嵌套元组或列表装字典的方式返回。"
   ]
  },
  {
   "cell_type": "markdown",
   "metadata": {},
   "source": [
    "5. 关闭连接。在完成持久化操作后，请不要忘记关闭连接，释放外部资源。我们通常会在`finally`代码块中使用连接对象的`close`方法来关闭连接。"
   ]
  },
  {
   "cell_type": "markdown",
   "metadata": {},
   "source": [
    "### 代码实操\n",
    "\n",
    "下面，我们通过代码实操的方式为大家演示上面说的五个步骤。"
   ]
  },
  {
   "cell_type": "markdown",
   "metadata": {},
   "source": [
    "#### 插入数据\n",
    "\n",
    "```Python\n",
    "import pymysql\n",
    "\n",
    "no = int(input('部门编号: '))\n",
    "name = input('部门名称: ')\n",
    "location = input('部门所在地: ')\n",
    "\n",
    "# 1. 创建连接（Connection）\n",
    "conn = pymysql.connect(host='127.0.0.1', port=3306,\n",
    "                       user='guest', password='Guest.618',\n",
    "                       database='hrs', charset='utf8mb4')\n",
    "try:\n",
    "    # 2. 获取游标对象（Cursor）\n",
    "    with conn.cursor() as cursor:\n",
    "        # 3. 通过游标对象向数据库服务器发出SQL语句\n",
    "        affected_rows = cursor.execute(\n",
    "            'insert into `tb_dept` values (%s, %s, %s)',\n",
    "            (no, name, location)\n",
    "        )\n",
    "        if affected_rows == 1:\n",
    "            print('新增部门成功!!!')\n",
    "    # 4. 提交事务（transaction）\n",
    "    conn.commit()\n",
    "except pymysql.MySQLError as err:\n",
    "    # 4. 回滚事务\n",
    "    conn.rollback()\n",
    "    print(type(err), err)\n",
    "finally:\n",
    "    # 5. 关闭连接释放资源\n",
    "    conn.close()\n",
    "```"
   ]
  },
  {
   "cell_type": "markdown",
   "metadata": {},
   "source": [
    "> **说明**：上面的`127.0.0.1`称为回环地址，它代表的是本机。下面的`guest`是我提前创建好的用户，该用户拥有对`hrs`数据库的`insert`、`delete`、`update`和`select`权限。我们不建议大家在项目中直接使用`root`超级管理员账号访问数据库，这样做实在是太危险了。我们可以使用下面的命令创建名为`guest`的用户并为其授权。\n",
    ">"
   ]
  },
  {
   "cell_type": "markdown",
   "metadata": {},
   "source": [
    "> ```SQL\n",
    "> create user 'guest'@'%' identified by 'Guest.618';\n",
    "> grant insert, delete, update, select on `hrs`.* to 'guest'@'%';\n",
    "> ```\n",
    "\n",
    "如果要插入大量数据，建议使用游标对象的`executemany`方法做批处理（一个`insert`操作后面跟上多组数据），大家可以尝试向一张表插入10000条记录，然后看看不使用批处理一条条的插入和使用批处理有什么差别。游标对象的`executemany`方法第一个参数仍然是 SQL 语句，第二个参数可以是包含多组数据的列表或元组。"
   ]
  },
  {
   "cell_type": "markdown",
   "metadata": {},
   "source": [
    "#### 删除数据\n",
    "\n",
    "```Python\n",
    "import pymysql\n",
    "\n",
    "no = int(input('部门编号: '))\n",
    "\n",
    "# 1. 创建连接（Connection）\n",
    "conn = pymysql.connect(host='127.0.0.1', port=3306,\n",
    "                       user='guest', password='Guest.618',\n",
    "                       database='hrs', charset='utf8mb4',\n",
    "                       autocommit=True)\n",
    "try:\n",
    "    # 2. 获取游标对象（Cursor）\n",
    "    with conn.cursor() as cursor:\n",
    "        # 3. 通过游标对象向数据库服务器发出SQL语句\n",
    "        affected_rows = cursor.execute(\n",
    "            'delete from `tb_dept` where `dno`=%s',\n",
    "            (no, )\n",
    "        )\n",
    "        if affected_rows == 1:\n",
    "            print('删除部门成功!!!')\n",
    "finally:\n",
    "    # 5. 关闭连接释放资源\n",
    "    conn.close()\n",
    "```\n",
    "\n",
    "> **说明**：如果不希望每次 SQL 操作之后手动提交或回滚事务，可以`connect`函数中加一个名为`autocommit`的参数并将它的值设置为`True`，表示每次执行 SQL 成功后自动提交。但是我们建议大家手动提交或回滚，这样可以根据实际业务需要来构造事务环境。如果不愿意捕获异常并进行处理，可以在`try`代码块后直接跟`finally`块，省略`except`意味着发生异常时，代码会直接崩溃并将异常栈显示在终端中。"
   ]
  },
  {
   "cell_type": "markdown",
   "metadata": {},
   "source": [
    "#### 更新数据\n",
    "\n",
    "```Python\n",
    "import pymysql\n",
    "\n",
    "no = int(input('部门编号: '))\n",
    "name = input('部门名称: ')\n",
    "location = input('部门所在地: ')\n",
    "\n",
    "# 1. 创建连接（Connection）\n",
    "conn = pymysql.connect(host='127.0.0.1', port=3306,\n",
    "                       user='guest', password='Guest.618',\n",
    "                       database='hrs', charset='utf8mb4')\n",
    "try:\n",
    "    # 2. 获取游标对象（Cursor）\n",
    "    with conn.cursor() as cursor:\n",
    "        # 3. 通过游标对象向数据库服务器发出SQL语句\n",
    "        affected_rows = cursor.execute(\n",
    "            'update `tb_dept` set `dname`=%s, `dloc`=%s where `dno`=%s',\n",
    "            (name, location, no)\n",
    "        )\n",
    "        if affected_rows == 1:\n",
    "            print('更新部门信息成功!!!')\n",
    "    # 4. 提交事务\n",
    "    conn.commit()\n",
    "except pymysql.MySQLError as err:\n",
    "    # 4. 回滚事务\n",
    "    conn.rollback()\n",
    "    print(type(err), err)\n",
    "finally:\n",
    "    # 5. 关闭连接释放资源\n",
    "    conn.close()\n",
    "```"
   ]
  },
  {
   "cell_type": "markdown",
   "metadata": {},
   "source": [
    "#### 查询数据\n",
    "\n",
    "1. 查询部门表的数据。\n",
    "\n",
    "```Python\n",
    "import pymysql\n",
    "\n",
    "# 1. 创建连接（Connection）\n",
    "conn = pymysql.connect(host='127.0.0.1', port=3306,\n",
    "                       user='guest', password='Guest.618',\n",
    "                       database='hrs', charset='utf8mb4')\n",
    "try:\n",
    "    # 2. 获取游标对象（Cursor）\n",
    "    with conn.cursor() as cursor:\n",
    "        # 3. 通过游标对象向数据库服务器发出SQL语句\n",
    "        cursor.execute('select `dno`, `dname`, `dloc` from `tb_dept`')\n",
    "        # 4. 通过游标对象抓取数据\n",
    "        row = cursor.fetchone()\n",
    "        while row:\n",
    "            print(row)\n",
    "            row = cursor.fetchone()\n",
    "except pymysql.MySQLError as err:\n",
    "    print(type(err), err)\n",
    "finally:\n",
    "    # 5. 关闭连接释放资源\n",
    "    conn.close()\n",
    "```\n",
    ">**说明**：上面的代码中，我们通过构造一个`while`循环实现了逐行抓取查询结果的操作。这种方式特别适合查询结果有非常多行的场景。因为如果使用`fetchall`一次性将所有记录抓取到一个嵌套元组中，会造成非常大的内存开销，这在很多场景下并不是一个好主意。如果不愿意使用`while`循环，还可以考虑使用`iter`函数构造一个迭代器来逐行抓取数据，有兴趣的读者可以自行研究。"
   ]
  },
  {
   "cell_type": "markdown",
   "metadata": {},
   "source": [
    "2. 分页查询员工表的数据。\n",
    "\n",
    "```Python\n",
    "import pymysql\n",
    "\n",
    "page = int(input('页码: '))\n",
    "size = int(input('大小: '))\n",
    "\n",
    "# 1. 创建连接（Connection）\n",
    "con = pymysql.connect(host='127.0.0.1', port=3306,\n",
    "                      user='guest', password='Guest.618',\n",
    "                      database='hrs', charset='utf8')\n",
    "try:\n",
    "    # 2. 获取游标对象（Cursor）\n",
    "    with con.cursor(pymysql.cursors.DictCursor) as cursor:\n",
    "        # 3. 通过游标对象向数据库服务器发出SQL语句\n",
    "        cursor.execute(\n",
    "            'select `eno`, `ename`, `job`, `sal` from `tb_emp` order by `sal` desc limit %s,%s',\n",
    "            ((page - 1) * size, size)\n",
    "        )\n",
    "        # 4. 通过游标对象抓取数据\n",
    "        for emp_dict in cursor.fetchall():\n",
    "            print(emp_dict)\n",
    "finally:\n",
    "    # 5. 关闭连接释放资源\n",
    "    con.close()\n",
    "```"
   ]
  },
  {
   "cell_type": "markdown",
   "metadata": {},
   "source": [
    "### 案例讲解\n",
    "\n",
    "下面我们为大家讲解一个将数据库表数据导出到 Excel 文件的例子，我们需要先安装`openpyxl`三方库，命令如下所示。\n",
    "\n",
    "```Bash\n",
    "pip install openpyxl\n",
    "```\n",
    "\n",
    "接下来，我们通过下面的代码实现了将数据库`hrs`中所有员工的编号、姓名、职位、月薪、补贴和部门名称导出到一个 Excel 文件中。\n",
    "\n",
    "```Python\n",
    "import openpyxl\n",
    "import pymysql\n",
    "\n",
    "# 创建工作簿对象\n",
    "workbook = openpyxl.Workbook()\n",
    "# 获得默认的工作表\n",
    "sheet = workbook.active\n",
    "# 修改工作表的标题\n",
    "sheet.title = '员工基本信息'\n",
    "# 给工作表添加表头\n",
    "sheet.append(('工号', '姓名', '职位', '月薪', '补贴', '部门'))\n",
    "# 创建连接（Connection）\n",
    "conn = pymysql.connect(host='127.0.0.1', port=3306,\n",
    "                       user='guest', password='Guest.618',\n",
    "                       database='hrs', charset='utf8mb4')\n",
    "try:\n",
    "    # 获取游标对象（Cursor）\n",
    "    with conn.cursor() as cursor:\n",
    "        # 通过游标对象执行SQL语句\n",
    "        cursor.execute(\n",
    "            'select `eno`, `ename`, `job`, `sal`, coalesce(`comm`, 0), `dname` '\n",
    "            'from `tb_emp` natural join `tb_dept`'\n",
    "        )\n",
    "        # 通过游标抓取数据\n",
    "        row = cursor.fetchone()\n",
    "        while row:\n",
    "            # 将数据逐行写入工作表中\n",
    "            sheet.append(row)\n",
    "            row = cursor.fetchone()\n",
    "    # 保存工作簿\n",
    "    workbook.save('hrs.xlsx')\n",
    "except pymysql.MySQLError as err:\n",
    "    print(err)\n",
    "finally:\n",
    "    # 关闭连接释放资源\n",
    "    conn.close()\n",
    "```\n",
    "\n",
    "大家可以参考上面的例子，试一试把 Excel 文件的数据导入到指定数据库的指定表中，看看是否可以成功。"
   ]
  },
  {
   "cell_type": "markdown",
   "metadata": {},
   "source": [
    "## NoSQL入门\n",
    "\n",
    "### NoSQL概述\n",
    "\n",
    "如今，大多数的计算机系统（包括服务器、PC、移动设备等）都会产生庞大的数据量。其实，早在2012年的时候，全世界每天产生的数据量就达到了2.5EB（艾字节，$$1EB\\approx10^{18}B$$）。这些数据有很大一部分是由关系型数据库来存储和管理的。 早在1970年，E.F.Codd发表了论述关系型数据库的著名论文“*A relational model of data for large shared data banks*”，这篇文章奠定了关系型数据库的基础并在接下来的数十年时间内产生了深远的影响。实践证明，关系型数据库是实现数据持久化最为重要的方式，它也是大多数应用在选择持久化方案时的首选技术。"
   ]
  },
  {
   "cell_type": "markdown",
   "metadata": {},
   "source": [
    "NoSQL是一项全新的数据库革命性运动，虽然它的历史可以追溯到1998年，但是NoSQL真正深入人心并得到广泛的应用是在进入大数据时候以后，业界普遍认为NoSQL是更适合大数据存储的技术方案，这才使得NoSQL的发展达到了前所未有的高度。2012年《纽约时报》的一篇专栏中写到，大数据时代已经降临，在商业、经济及其他领域中，决策将不再基于经验和直觉而是基于数据和分析而作出。事实上，在天文学、气象学、基因组学、生物学、社会学、互联网搜索引擎、金融、医疗、社交网络、电子商务等诸多领域，由于数据过于密集和庞大，在数据的分析和处理上也遇到了前所未有的限制和阻碍，这一切都使得对大数据处理技术的研究被提升到了新的高度，也使得各种NoSQL的技术方案进入到了公众的视野。"
   ]
  },
  {
   "cell_type": "markdown",
   "metadata": {},
   "source": [
    "NoSQL数据库按照其存储类型可以大致分为以下几类：\n",
    "\n",
    "| 类型       | 部分代表                            | 特点                                                         |\n",
    "| ---------- | ----------------------------------- | ------------------------------------------------------------ |\n",
    "| 列族数据库 | HBase<br>Cassandra<br>Hypertable    | 顾名思义是按列存储数据的。最大的特点是方便存储结构化和半结构化数据，方便做数据压缩，对针对某一列或者某几列的查询有非常大的I/O优势，适合于批量数据处理和即时查询。 |\n",
    "| 文档数据库 | MongoDB<br>CouchDB<br>ElasticSearch | 文档数据库一般用类JSON格式存储数据，存储的内容是文档型的。这样也就有机会对某些字段建立索引，实现关系数据库的某些功能，但不提供对参照完整性和分布事务的支持。 |\n",
    "| KV数据库   | DynamoDB<br>Redis<br>LevelDB        | 可以通过key快速查询到其value，有基于内存和基于磁盘两种实现方案。 |\n",
    "| 图数据库   | Neo4J<br>FlockDB<br>JanusGraph      | 使用图结构进行语义查询的数据库，它使用节点、边和属性来表示和存储数据。图数据库从设计上，就可以简单快速的检索难以在关系系统中建模的复杂层次结构。 |\n",
    "| 对象数据库 | db4o<br>Versant                     | 通过类似面向对象语言的语法操作数据库，通过对象的方式存取数据。 |\n",
    "\n",
    "> **说明**：想了解更多的NoSQL数据库，可以访问<http://nosql-database.org/>。"
   ]
  },
  {
   "cell_type": "markdown",
   "metadata": {},
   "source": [
    "### Redis概述\n",
    "\n",
    "Redis是一种基于键值对的NoSQL数据库，它提供了对多种数据类型（字符串、哈希、列表、集合、有序集合、位图等）的支持，能够满足很多应用场景的需求。Redis将数据放在内存中，因此读写性能是非常惊人的。与此同时，Redis也提供了持久化机制，能够将内存中的数据保存到硬盘上，在发生意外状况时数据也不会丢掉。此外，Redis还支持键过期、地理信息运算、发布订阅、事务、管道、Lua脚本扩展等功能。\n",
    "\n",
    "总而言之，Redis的功能和性能都非常强大，如果项目中要实现高速缓存和消息队列这样的服务，直接交给Redis就可以了。目前，国内外很多著名的企业和商业项目都使用了Redis，包括：Twitter、Github、StackOverflow、新浪微博、百度、优酷土豆、美团、小米、唯品会等。\n",
    "\n",
    "\n",
    "#### Redis简介\n",
    "\n",
    "2008年，一个名为Salvatore Sanfilippo的程序员为他开发的LLOOGG项目定制了专属的数据库（因为之前他无论怎样优化MySQL，系统性能已经无法再提升了），这项工作的成果就是Redis的初始版本。后来他将Redis的代码放到了全球最大的代码托管平台[Github](<https://github.com/antirez/redis>)，从那以后，Redis引发了大量开发者的好评和关注，继而有数百人参与了Redis的开发和维护，这使得Redis的功能越来越强大和性能越来越好。"
   ]
  },
  {
   "cell_type": "markdown",
   "metadata": {},
   "source": [
    "Redis是REmote DIctionary Server的缩写，它是一个用ANSI C编写的高性能的key-value存储系统，与其他的key-value存储系统相比，Redis有以下一些特点（也是优点）：\n",
    "\n",
    "- Redis的读写性能极高，并且有丰富的特性（发布/订阅、事务、通知等）。\n",
    "- Redis支持数据的持久化（RDB和AOF两种方式），可以将内存中的数据保存在磁盘中，重启的时候可以再次加载进行使用。\n",
    "- Redis支持多种数据类型，包括：string、hash、list、set，zset、bitmap、hyperloglog等。\n",
    "- Redis支持主从复制（实现读写分析）以及哨兵模式（监控master是否宕机并自动调整配置）。\n",
    "- Redis支持分布式集群，可以很容易的通过水平扩展来提升系统的整体性能。\n",
    "- Redis基于TCP提供的可靠传输服务进行通信，很多编程语言都提供了Redis客户端支持。"
   ]
  },
  {
   "cell_type": "markdown",
   "metadata": {},
   "source": [
    "#### Redis的应用场景\n",
    "\n",
    "1. 高速缓存  - 将不常变化但又经常被访问的热点数据放到Redis数据库中，可以大大降低关系型数据库的压力，从而提升系统的响应性能。\n",
    "2. 排行榜 - 很多网站都有排行榜功能，利用Redis中的列表和有序集合可以非常方便的构造各种排行榜系统。\n",
    "3. 商品秒杀/投票点赞 - Redis提供了对计数操作的支持，网站上常见的秒杀、点赞等功能都可以利用Redis的计数器通过+1或-1的操作来实现，从而避免了使用关系型数据的`update`操作。\n",
    "4. 分布式锁 - 利用Redis可以跨多台服务器实现分布式锁（类似于线程锁，但是能够被多台机器上的多个线程或进程共享）的功能，用于实现一个阻塞式操作。\n",
    "5. 消息队列 - 消息队列和高速缓存一样，是一个大型网站不可缺少的基础服务，可以实现业务解耦和非实时业务削峰等特性，这些我们都会在后面的项目中为大家展示。"
   ]
  },
  {
   "cell_type": "markdown",
   "metadata": {},
   "source": [
    "#### Redis的安装和配置\n",
    "\n",
    "可以使用Linux系统的包管理工具（如yum）来安装Redis，也可以通过在Redis的[官方网站](https://redis.io/)下载Redis的源代码，解压缩解归档之后通过make工具对源代码进行构建并安装，在更新这篇文档时，Redis官方提供的最新稳定版本是[Redis 5.0.10](https://download.redis.io/releases/redis-5.0.10.tar.gz)。\n",
    "\n",
    "下载：\n",
    "\n",
    "```Bash\n",
    "wget https://download.redis.io/releases/redis-5.0.10.tar.gz\n",
    "```\n",
    "\n",
    "解压缩和解归档：\n",
    "\n",
    "```Bash\n",
    "tar -zxf redis-5.0.10.tar.gz\n",
    "```\n",
    "\n",
    "进入Redis源代码目录：\n",
    "\n",
    "```Bash\n",
    "cd redis-5.0.10\n",
    "```\n",
    "\n",
    "构建和安装：\n",
    "\n",
    "```Bash\n",
    "make && make install\n",
    "```\n",
    "\n",
    "在redis源代码目录下有一个名为redis.conf的配置文件，我们可以先查看一下该文件。\n",
    "\n",
    "```Bash\n",
    "vim redis.conf\n",
    "```\n",
    "\n",
    "下面我们对Redis的配置文件进行一个扼要的介绍。\n",
    "\n",
    "配置Redis服务的IP地址和端口：\n",
    "\n",
    "![](./res/redis-bind-and-port.png)\n",
    "\n",
    "配置底层有多少个数据库：\n",
    "\n",
    "![](./res/redis-databases.png)\n",
    "\n",
    "配置Redis的持久化机制 - RDB。\n",
    "\n",
    "![](./res/redis-rdb-1.png)\n",
    "\n",
    "![](./res/redis-rdb-3.png)\n",
    "\n",
    "配置Redis的持久化机制 - AOF：\n",
    "\n",
    "![](./res/redis-aof.png)\n",
    "\n",
    "配置访问Redis服务器的口令：\n",
    "\n",
    "![](./res/redis-security.png)\n",
    "\n",
    "配置Redis的主从复制（通过主从复制可以实现读写分离）：\n",
    "\n",
    "![](./res/redis-replication.png)\n",
    "\n",
    "配置慢查询：\n",
    "\n",
    "![](./res/redis-slow-logs.png)\n",
    "\n",
    "上面这些内容就是Redis的基本配置，如果你对上面的内容感到困惑也没有关系，先把Redis用起来再回头去推敲这些内容就行了。如果想找一些参考书，[《Redis开发与运维》](https://item.jd.com/12121730.html)是一本不错的入门读物，而[《Redis实战》](https://item.jd.com/11791607.html)是不错的进阶读物。"
   ]
  },
  {
   "cell_type": "markdown",
   "metadata": {},
   "source": [
    "#### Redis的服务器和客户端\n",
    "\n",
    "接下来启动Redis服务器，下面的方式将以默认的配置启动Redis服务。\n",
    "\n",
    "```Bash\n",
    "redis-server\n",
    "```\n",
    "\n",
    "如果希望修改Redis的配置（如端口、认证口令、持久化方式等），可以通过下面两种方式。\n",
    "\n",
    "**方式一**：通过参数指定认证口令和AOF持久化方式。\n",
    "\n",
    "```Bash\n",
    "redis-server --requirepass yourpass --appendonly yes\n",
    "```\n",
    "\n",
    "**方式二**：通过指定的配置文件来修改Redis的配置。\n",
    "\n",
    "```Bash\n",
    "redis-server /root/redis-5.0.10/redis.conf\n",
    "```\n",
    "\n",
    "下面我们使用第一种方式来启动Redis并将其置于后台运行，将Redis产生的输出重定向到名为redis.log的文件中。\n",
    "\n",
    "```Bash\n",
    "redis-server --requirepass yourpass > redis.log &\n",
    "```\n",
    "\n",
    "可以通过`ps`或者`netstat`来检查Redis服务器是否启动成功。\n",
    "\n",
    "```Bash\n",
    "ps -ef | grep redis-server\n",
    "netstat -nap | grep redis-server\n",
    "```"
   ]
  },
  {
   "cell_type": "markdown",
   "metadata": {},
   "source": [
    "接下来，我们尝试用Redis命令行工具`redis-cli`去连接服务器，该工具默认连接本机的`6379`端口，如果需要指定Redis服务器和端口，可以使用`-h`和`-p`参数分别进行指定。\n",
    "\n",
    "```Bash\n",
    "redis-cli\n",
    "```\n",
    "\n",
    "进入命令行工具后，就可以通过Redis的命令来操作Redis服务器，如下所示。\n",
    "\n",
    "```Bash\n",
    "127.0.0.1:6379> auth yourpass\n",
    "OK\n",
    "127.0.0.1:6379> ping\n",
    "PONG\n",
    "127.0.0.1:6379>\n",
    "```"
   ]
  },
  {
   "cell_type": "markdown",
   "metadata": {},
   "source": [
    "Redis有着非常丰富的数据类型，也有很多的命令来操作这些数据，具体的内容可以查看[Redis命令参考](http://redisdoc.com/)，在这个网站上，除了Redis的命令参考，还有Redis的详细文档，其中包括了通知、事务、主从复制、持久化、哨兵、集群等内容。\n",
    "\n",
    "![](./res/redis-data-types.png)\n",
    "\n",
    "> **说明**：上面的插图来自付磊和张益军编著的《Redis开发与运维》一书。\n",
    "\n",
    "```Bash\n",
    "127.0.0.1:6379> set username admin\n",
    "OK\n",
    "127.0.0.1:6379> get username\n",
    "\"admin\"\n",
    "127.0.0.1:6379> set password \"123456\" ex 300\n",
    "OK\n",
    "127.0.0.1:6379> get password\n",
    "\"123456\"\n",
    "127.0.0.1:6379> ttl username\n",
    "(integer) -1\n",
    "127.0.0.1:6379> ttl password\n",
    "(integer) 286\n",
    "127.0.0.1:6379> hset stu1 name hao\n",
    "(integer) 0\n",
    "127.0.0.1:6379> hset stu1 age 38\n",
    "(integer) 1\n",
    "127.0.0.1:6379> hset stu1 gender male\n",
    "(integer) 1\n",
    "127.0.0.1:6379> hgetall stu1\n",
    "1) \"name\"\n",
    "2) \"hao\"\n",
    "3) \"age\"\n",
    "4) \"38\"\n",
    "5) \"gender\"\n",
    "6) \"male\"\n",
    "127.0.0.1:6379> hvals stu1\n",
    "1) \"hao\"\n",
    "2) \"38\"\n",
    "3) \"male\"\n",
    "127.0.0.1:6379> hmset stu2 name wang age 18 gender female tel 13566778899\n",
    "OK\n",
    "127.0.0.1:6379> hgetall stu2\n",
    "1) \"name\"\n",
    "2) \"wang\"\n",
    "3) \"age\"\n",
    "4) \"18\"\n",
    "5) \"gender\"\n",
    "6) \"female\"\n",
    "7) \"tel\"\n",
    "8) \"13566778899\"\n",
    "127.0.0.1:6379> lpush nums 1 2 3 4 5\n",
    "(integer) 5\n",
    "127.0.0.1:6379> lrange nums 0 -1\n",
    "1) \"5\"\n",
    "2) \"4\"\n",
    "3) \"3\"\n",
    "4) \"2\"\n",
    "5) \"1\"\n",
    "127.0.0.1:6379> lpop nums\n",
    "\"5\"\n",
    "127.0.0.1:6379> lpop nums\n",
    "\"4\"\n",
    "127.0.0.1:6379> rpop nums\n",
    "\"1\"\n",
    "127.0.0.1:6379> rpop nums\n",
    "\"2\"\n",
    "127.0.0.1:6379> sadd fruits apple banana orange apple grape grape\n",
    "(integer) 4\n",
    "127.0.0.1:6379> scard fruits\n",
    "(integer) 4\n",
    "127.0.0.1:6379> smembers fruits\n",
    "1) \"grape\"\n",
    "2) \"orange\"\n",
    "3) \"banana\"\n",
    "4) \"apple\"\n",
    "127.0.0.1:6379> sismember fruits apple\n",
    "(integer) 1\n",
    "127.0.0.1:6379> sismember fruits durian\n",
    "(integer) 0\n",
    "127.0.0.1:6379> sadd nums1 1 2 3 4 5\n",
    "(integer) 5\n",
    "127.0.0.1:6379> sadd nums2 2 4 6 8\n",
    "(integer) 4\n",
    "127.0.0.1:6379> sinter nums1 nums2\n",
    "1) \"2\"\n",
    "2) \"4\"\n",
    "127.0.0.1:6379> sunion nums1 nums2\n",
    "1) \"1\"\n",
    "2) \"2\"\n",
    "3) \"3\"\n",
    "4) \"4\"\n",
    "5) \"5\"\n",
    "6) \"6\"\n",
    "7) \"8\"\n",
    "127.0.0.1:6379> sdiff nums1 nums2\n",
    "1) \"1\"\n",
    "2) \"3\"\n",
    "3) \"5\"\n",
    "127.0.0.1:6379> zadd topsinger 5234 zhangxy 1978 chenyx 2235 zhoujl 3520 xuezq\n",
    "(integer) 4\n",
    "127.0.0.1:6379> zrange topsinger 0 -1 withscores\n",
    "1) \"chenyx\"\n",
    "2) \"1978\"\n",
    "3) \"zhoujl\"\n",
    "4) \"2235\"\n",
    "5) \"xuezq\"\n",
    "6) \"3520\"\n",
    "7) \"zhangxy\"\n",
    "8) \"5234\"\n",
    "127.0.0.1:6379> zrevrange topsinger 0 -1\n",
    "1) \"zhangxy\"\n",
    "2) \"xuezq\"\n",
    "3) \"zhoujl\"\n",
    "4) \"chenyx\"\n",
    "127.0.0.1:6379> zrevrank topsinger zhoujl\n",
    "(integer) 2\n",
    "127.0.0.1:6379> geoadd pois 116.39738549206541 39.90862689286386 tiananmen\n",
    "(integer) 1\n",
    "127.0.0.1:6379> geoadd pois 116.27172936413572 39.99135172904494 yiheyuan\n",
    "(integer) 1\n",
    "127.0.0.1:6379> geoadd pois 117.27766503308104 40.65332064313784 gubeishuizhen\n",
    "(integer) 1\n",
    "127.0.0.1:6379> geodist pois tiananmen gubeishuizhen km\n",
    "\"111.5333\"\n",
    "127.0.0.1:6379> geodist pois tiananmen yiheyuan km\n",
    "\"14.1230\"\n",
    "127.0.0.1:6379> georadius pois 116.86499108288572 40.40149669363615 50 km withdist\n",
    "1) 1) \"gubeishuizhen\"\n",
    "   2) \"44.7408\"\n",
    "```"
   ]
  },
  {
   "cell_type": "markdown",
   "metadata": {},
   "source": [
    "#### 在Python程序中使用Redis\n",
    "\n",
    "可以使用pip安装名为`redis`的三方库，该三方库的核心是一个名为`Redis`的类，`Redis`对象代表一个Redis客户端，通过该客户端可以向Redis服务器发送命令并获取执行的结果。上面我们在Redis客户端中使用的命令基本上就是`Redis`对象可以接收的消息，所以如果了解了Redis的命令就可以在Python中玩转Redis。\n",
    "\n",
    "```Bash\n",
    "pip3 install redis\n",
    "```\n",
    "\n",
    "进入Python交互式环境，使用`redis`三方库来操作Redis。\n",
    "\n",
    "```Bash\n",
    ">>> import redis\n",
    ">>>\n",
    ">>> client = redis.Redis(host='127.0.0.1', port=6379, password='yourpass')\n",
    ">>>\n",
    ">>> client.set('username', 'admin')\n",
    "True\n",
    ">>> client.hset('student', 'name', 'luohao')\n",
    "1\n",
    ">>> client.hset('student', 'age', 40)\n",
    "1\n",
    ">>> client.keys('*')\n",
    "[b'username', b'student']\n",
    ">>> client.get('username')\n",
    "b'admin'\n",
    ">>> client.hgetall('student')\n",
    "{b'name': b'luohao', b'age': b'40'}\n",
    "```"
   ]
  },
  {
   "cell_type": "markdown",
   "metadata": {},
   "source": [
    "### MongoDB概述\n",
    "\n",
    "#### MongoDB简介\n",
    "\n",
    "MongoDB是2009年问世的一个面向文档的数据库管理系统，由C++语言编写，旨在为Web应用提供可扩展的高性能数据存储解决方案。虽然在划分类别的时候，MongoDB被认为是NoSQL的产品，但是它更像一个介于关系数据库和非关系数据库之间的产品，在非关系数据库中它功能最丰富，最像关系数据库。\n",
    "\n",
    "MongoDB将数据存储为一个文档，一个文档由一系列的“键值对”组成，其文档类似于JSON对象，但是MongoDB对JSON进行了二进制处理（能够更快的定位key和value），因此其文档的存储格式称为BSON。关于JSON和BSON的差别大家可以看看MongoDB官方网站的文章[《JSON and BSON》](https://www.mongodb.com/json-and-bson)。"
   ]
  },
  {
   "cell_type": "markdown",
   "metadata": {},
   "source": [
    "目前，MongoDB已经提供了对Windows、macOS、Linux、Solaris等多个平台的支持，而且也提供了多种开发语言的驱动程序，Python当然是其中之一。\n",
    "\n",
    "#### MongoDB的安装和启动\n",
    "\n",
    "可以从MongoDB的[官方下载链接](https://www.mongodb.com/try/download/community)下载MongoDB，官方提供了Windows、macOS和多种Linux版本的安装包。下面以CentOS为例，简单说一下如何安装和启动MongoDB。\n",
    "\n",
    "下载服务器和命令行的RPM安装包。\n",
    "\n",
    "```Bash\n",
    "wget https://repo.mongodb.org/yum/redhat/7/mongodb-org/4.4/x86_64/RPMS/mongodb-org-server-4.4.2-1.el7.x86_64.rpm\n",
    "rpm -ivh mongodb-org-server-4.4.2-1.el7.x86_64.rpm\n",
    "wget https://repo.mongodb.org/yum/redhat/7/mongodb-org/4.4/x86_64/RPMS/mongodb-org-shell-4.4.2-1.el7.x86_64.rpm\n",
    "rpm -ivh mongodb-org-shell-4.4.2-1.el7.x86_64.rpm\n",
    "```\n",
    "\n",
    "启动MongoDB服务器，需要先创建保存数据的文件夹。\n",
    "\n",
    "```Bash\n",
    "mkdir -p /data/db\n",
    "```\n",
    "\n",
    "修改MongoDB的配置文件，将其中`bindIp`选项的值修改为本机IP地址而不是默认的`127.0.0.1`，本机IP地址可以通过`ifconfig`命令进行查看。\n",
    "\n",
    "```Bash\n",
    "vim /etc/mongod.conf\n",
    "```\n",
    "\n",
    "使用`systemctl`命令启动服务。\n",
    "\n",
    "```Bash\n",
    "systemctl start mongod\n",
    "```\n",
    "\n",
    "#### MongoDB基本概念\n",
    "\n",
    "我们通过与关系型数据库的比较来说明MongoDB中的一些概念。\n",
    "\n",
    "| SQL                   | MongoDB            |\n",
    "| --------------------- | ------------------ |\n",
    "| database              | database           |\n",
    "| table（表）           | collection（集合） |\n",
    "| row（行）             | document（文档）   |\n",
    "| column（列）          | field（字段）      |\n",
    "| index                 | index              |\n",
    "| table joins（表连接） | （嵌套文档）       |\n",
    "| primary key           | primary key        |\n",
    "\n",
    "#### 通过Shell操作MongoDB\n",
    "\n",
    "0. 启动命令行工具，进入交互式环境。\n",
    "\n",
    "    ```Bash\n",
    "    mongo\n",
    "    ```\n",
    "\n",
    "    > **说明**：\n",
    "\n",
    "1. 查看、创建和删除数据库。\n",
    "\n",
    "   ```JavaScript\n",
    "   > // 显示所有数据库\n",
    "   > show dbs\n",
    "   admin   0.000GB\n",
    "   config  0.000GB\n",
    "   local   0.000GB\n",
    "   > // 创建并切换到school数据库\n",
    "   > use school\n",
    "   switched to db school\n",
    "   > // 删除当前数据库\n",
    "   > db.dropDatabase()\n",
    "   { \"ok\" : 1 }\n",
    "   ```\n",
    "\n",
    "2. 创建、删除和查看集合。\n",
    "\n",
    "   ```JavaScript\n",
    "   > // 创建并切换到school数据库\n",
    "   > use school\n",
    "   switched to db school\n",
    "   > // 创建colleges集合\n",
    "   > db.createCollection('colleges')\n",
    "   { \"ok\" : 1 }\n",
    "   > // 创建students集合\n",
    "   > db.createCollection('students')\n",
    "   { \"ok\" : 1 }\n",
    "   > // 查看所有集合\n",
    "   > show collections\n",
    "   colleges\n",
    "   students\n",
    "   > // 删除colleges集合\n",
    "   > db.colleges.drop()\n",
    "   true\n",
    "   ```\n",
    "\n",
    "   > **说明**：在MongoDB中插入文档时如果集合不存在会自动创建集合，所以也可以按照下面的方式通过插入文档来创建集合。\n",
    "\n",
    "3. 文档的CRUD操作。\n",
    "\n",
    "   ```JavaScript\n",
    "   > // 向students集合插入文档\n",
    "   > db.students.insert({stuid: 1001, name: '骆昊', age: 40})\n",
    "   WriteResult({ \"nInserted\" : 1 })\n",
    "   > // 向students集合插入文档\n",
    "   > db.students.save({stuid: 1002, name: '王大锤', tel: '13012345678', gender: '男'})\n",
    "   WriteResult({ \"nInserted\" : 1 })\n",
    "   > // 查看所有文档\n",
    "   > db.students.find()\n",
    "   { \"_id\" : ObjectId(\"5b13c72e006ad854460ee70b\"), \"stuid\" : 1001, \"name\" : \"骆昊\", \"age\" : 38 }\n",
    "   { \"_id\" : ObjectId(\"5b13c790006ad854460ee70c\"), \"stuid\" : 1002, \"name\" : \"王大锤\", \"tel\" : \"13012345678\", \"gender\" : \"男\" }\n",
    "   > // 更新stuid为1001的文档\n",
    "   > db.students.update({stuid: 1001}, {'$set': {tel: '13566778899', gender: '男'}})\n",
    "   WriteResult({ \"nMatched\" : 1, \"nUpserted\" : 0, \"nModified\" : 1 })\n",
    "   > // 插入或更新stuid为1003的文档\n",
    "   > db.students.update({stuid: 1003}, {'$set': {name: '白元芳', tel: '13022223333', gender: '男'}},  upsert=true)\n",
    "   WriteResult({\n",
    "           \"nMatched\" : 0,\n",
    "           \"nUpserted\" : 1,\n",
    "           \"nModified\" : 0,\n",
    "           \"_id\" : ObjectId(\"5b13c92dd185894d7283efab\")\n",
    "   })\n",
    "   > // 查询所有文档\n",
    "   > db.students.find().pretty()\n",
    "   {\n",
    "           \"_id\" : ObjectId(\"5b13c72e006ad854460ee70b\"),\n",
    "           \"stuid\" : 1001,\n",
    "           \"name\" : \"骆昊\",\n",
    "           \"age\" : 38,\n",
    "           \"gender\" : \"男\",\n",
    "           \"tel\" : \"13566778899\"\n",
    "   }\n",
    "   {\n",
    "           \"_id\" : ObjectId(\"5b13c790006ad854460ee70c\"),\n",
    "           \"stuid\" : 1002,\n",
    "           \"name\" : \"王大锤\",\n",
    "           \"tel\" : \"13012345678\",\n",
    "           \"gender\" : \"男\"\n",
    "   }\n",
    "   {\n",
    "           \"_id\" : ObjectId(\"5b13c92dd185894d7283efab\"),\n",
    "           \"stuid\" : 1003,\n",
    "           \"gender\" : \"男\",\n",
    "           \"name\" : \"白元芳\",\n",
    "           \"tel\" : \"13022223333\"\n",
    "   }\n",
    "   > // 查询stuid大于1001的文档\n",
    "   > db.students.find({stuid: {'$gt': 1001}}).pretty()\n",
    "   {\n",
    "           \"_id\" : ObjectId(\"5b13c790006ad854460ee70c\"),\n",
    "           \"stuid\" : 1002,\n",
    "           \"name\" : \"王大锤\",\n",
    "           \"tel\" : \"13012345678\",\n",
    "           \"gender\" : \"男\"\n",
    "   }\n",
    "   {\n",
    "           \"_id\" : ObjectId(\"5b13c92dd185894d7283efab\"),\n",
    "           \"stuid\" : 1003,\n",
    "           \"gender\" : \"男\",\n",
    "           \"name\" : \"白元芳\",\n",
    "           \"tel\" : \"13022223333\"\n",
    "   }\n",
    "   > // 查询stuid大于1001的文档只显示name和tel字段\n",
    "   > db.students.find({stuid: {'$gt': 1001}}, {_id: 0, name: 1, tel: 1}).pretty()\n",
    "   { \"name\" : \"王大锤\", \"tel\" : \"13012345678\" }\n",
    "   { \"name\" : \"白元芳\", \"tel\" : \"13022223333\" }\n",
    "   > // 查询name为“骆昊”或者tel为“13022223333”的文档\n",
    "   > db.students.find({'$or': [{name: '骆昊'}, {tel: '13022223333'}]}, {_id: 0, name: 1, tel: 1}).pretty()\n",
    "   { \"name\" : \"骆昊\", \"tel\" : \"13566778899\" }\n",
    "   { \"name\" : \"白元芳\", \"tel\" : \"13022223333\" }\n",
    "   > // 查询学生文档跳过第1条文档只查1条文档\n",
    "   > db.students.find().skip(1).limit(1).pretty()\n",
    "   {\n",
    "           \"_id\" : ObjectId(\"5b13c790006ad854460ee70c\"),\n",
    "           \"stuid\" : 1002,\n",
    "           \"name\" : \"王大锤\",\n",
    "           \"tel\" : \"13012345678\",\n",
    "           \"gender\" : \"男\"\n",
    "   }\n",
    "   > // 对查询结果进行排序(1表示升序，-1表示降序)\n",
    "   > db.students.find({}, {_id: 0, stuid: 1, name: 1}).sort({stuid: -1})\n",
    "   { \"stuid\" : 1003, \"name\" : \"白元芳\" }\n",
    "   { \"stuid\" : 1002, \"name\" : \"王大锤\" }\n",
    "   { \"stuid\" : 1001, \"name\" : \"骆昊\" }\n",
    "   > // 在指定的一个或多个字段上创建索引\n",
    "   > db.students.ensureIndex({name: 1})\n",
    "   {\n",
    "           \"createdCollectionAutomatically\" : false,\n",
    "           \"numIndexesBefore\" : 1,\n",
    "           \"numIndexesAfter\" : 2,\n",
    "           \"ok\" : 1\n",
    "   }\n",
    "   ```\n",
    "\n",
    "使用MongoDB可以非常方便的配置数据复制，通过冗余数据来实现数据的高可用以及灾难恢复，也可以通过数据分片来应对数据量迅速增长的需求。关于MongoDB更多的操作可以查阅[官方文档](https://mongodb-documentation.readthedocs.io/en/latest/) ，同时推荐大家阅读Kristina Chodorow写的[《MongoDB权威指南》](http://www.ituring.com.cn/book/1172)。"
   ]
  },
  {
   "cell_type": "markdown",
   "metadata": {},
   "source": [
    "#### 在Python程序中操作MongoDB\n",
    "\n",
    "可以通过pip安装`pymongo`来实现对MongoDB的操作。\n",
    "\n",
    "```Shell\n",
    "pip install pymongo\n",
    "```\n",
    "\n",
    "进入Python交互式环境，就可以执行以下的操作。\n",
    "\n",
    "```Python\n",
    ">>> from pymongo import MongoClient\n",
    ">>>\n",
    ">>> client = MongoClient('mongodb://127.0.0.1:27017') \n",
    ">>> db = client.school\n",
    ">>> for student in db.students.find():\n",
    "...     print('学号:', student['stuid'])\n",
    "...     print('姓名:', student['name'])\n",
    "...     print('电话:', student['tel'])\n",
    "... \n",
    "学号: 1001.0\n",
    "姓名: 骆昊\n",
    "电话: 13566778899\n",
    "学号: 1002.0\n",
    "姓名: 王大锤\n",
    "电话: 13012345678\n",
    "学号: 1003.0\n",
    "姓名: 白元芳\n",
    "电话: 13022223333\n",
    ">>> db.students.find().count()\n",
    "3\n",
    ">>> db.students.remove()\n",
    "{'n': 3, 'ok': 1.0}\n",
    ">>> db.students.find().count()\n",
    "0\n",
    ">>> from pymongo import ASCENDING\n",
    ">>>\n",
    ">>> coll = db.students\n",
    ">>> coll.create_index([('name', ASCENDING)], unique=True)\n",
    "'name_1'\n",
    ">>> coll.insert_one({'stuid': int(1001), 'name': '骆昊', 'gender': True})\n",
    "<pymongo.results.InsertOneResult object at 0x1050cc6c8>\n",
    ">>> coll.insert_many([{'stuid': int(1002), 'name': '王大锤', 'gender': False}, {'stuid': int(1003), 'name': '白元芳', 'gender': True}])\n",
    "<pymongo.results.InsertManyResult object at 0x1050cc8c8>\n",
    ">>> for student in coll.find({'gender': True}):\n",
    "...     print('学号:', student['stuid'])\n",
    "...     print('姓名:', student['name'])\n",
    "...     print('性别:', '男' if student['gender'] else '女')\n",
    "... \n",
    "学号: 1001\n",
    "姓名: 骆昊\n",
    "性别: 男\n",
    "学号: 1003\n",
    "姓名: 白元芳\n",
    "性别: 男\n",
    "```"
   ]
  },
  {
   "cell_type": "markdown",
   "metadata": {},
   "source": [
    "关于[`pymongo`](https://api.mongodb.com/python/current/tutorial.html)更多的知识可以通过它的官方文档进行了解，也可以使用[`MongoEngine`](<https://pypi.org/project/mongoengine/>)这样的库来简化Python程序对MongoDB的操作，除此之外，还有以异步I/O方式访问MongoDB的三方库[`motor`](<https://pypi.org/project/motor/>)都是不错的选择。"
   ]
  },
  {
   "cell_type": "markdown",
   "metadata": {},
   "source": [
    "## Django快速上手\n",
    "\n",
    "Web应用开发技术，有CGI（公共网关接口）、PHP、ASP、JSP等。"
   ]
  },
  {
   "cell_type": "markdown",
   "metadata": {},
   "source": [
    "### Web应用机制和术语\n",
    "\n",
    "涉及到的术语如下表所示。\n",
    "\n",
    "\n",
    "| 术语          | 解释                                                         |\n",
    "| ------------- | ------------------------------------------------------------ |\n",
    "| **URL/URI**   | 统一资源定位符/统一资源标识符，网络资源的唯一标识            |\n",
    "| **域名**      | 与Web服务器地址对应的一个易于记忆的字符串名字                |\n",
    "| **DNS**       | 域名解析服务，可以将域名转换成对应的IP地址                   |\n",
    "| **IP地址**    | 网络上的主机的身份标识，通过IP地址可以区分不同的主机         |\n",
    "| **HTTP**      | 超文本传输协议，构建在TCP之上的应用级协议，万维网数据通信的基础 |\n",
    "| **反向代理**  | 代理客户端向服务器发出请求，然后将服务器返回的资源返回给客户端 |\n",
    "| **Web服务器** | 接受HTTP请求，然后返回HTML文件、纯文本文件、图像等资源给请求者 |\n",
    "| **Nginx**     | 高性能的Web服务器，也可以用作[反向代理](https://zh.wikipedia.org/wiki/%E5%8F%8D%E5%90%91%E4%BB%A3%E7%90%86)，[负载均衡](https://zh.wikipedia.org/wiki/%E8%B4%9F%E8%BD%BD%E5%9D%87%E8%A1%A1) 和 [HTTP缓存](https://zh.wikipedia.org/wiki/HTTP%E7%BC%93%E5%AD%98) |"
   ]
  },
  {
   "cell_type": "markdown",
   "metadata": {},
   "source": [
    "### Django概述\n",
    "\n",
    "Python的Web框架有上百个，包括Django、Flask、Tornado、Sanic、Pyramid、Bottle、Web2py、web.py等。\n",
    "\n",
    "在上述Python的Web框架中，Django无疑是最有代表性的重量级选手，开发者可以基于Django快速的开发可靠的Web应用程序，因为它减少了Web开发中不必要的开销，对常用的设计和开发模式进行了封装，并对MVC架构提供了支持，Django中称之为MTV架构。MTV中的M跟MVC中的M没有区别，就是代表数据的模型，T代表了网页模板（显示数据的视图），而V代表了视图函数，在Django框架中，视图函数和Django框架本身一起扮演了MVC中C的角色。\n",
    "\n",
    "使用Django框架能用很短的时间构建出功能完备的网站，许多成功的网站和应用都是基于Python语言开发的，包括：知乎、豆瓣网、果壳网、搜狐闪电邮箱、101围棋网、海报时尚网、背书吧、堆糖、手机搜狐网、咕咚、爱福窝、果库等，其中不乏使用了Django框架的产品。"
   ]
  },
  {
   "cell_type": "markdown",
   "metadata": {},
   "source": [
    "### 快速上手\n",
    "\n",
    "#### 第一个Django项目\n",
    "\n",
    "1. 检查Python环境：Django 1.11需要Python 2.7或Python 3.4以上的版本；Django 2.0需要Python 3.4以上的版本；Django 2.1和2.2需要Python 3.5以上的版本；Django 3.0需要Python 3.6以上版本。"
   ]
  },
  {
   "cell_type": "markdown",
   "metadata": {},
   "source": [
    "   \n",
    "2. 更新包管理工具并安装Django环境（用于创建Django项目）。\n",
    "\n",
    "   \n",
    "   ```Bash\n",
    "   pip3 install -U pip\n",
    "   pip3 install django==2.2.13\n",
    "   ```"
   ]
  },
  {
   "cell_type": "markdown",
   "metadata": {},
   "source": [
    "   \n",
    "3. 检查Django环境并使用`django-admin`命令创建Django项目（项目名称为hellodjango）。\n",
    "\n",
    "   ```Shell\n",
    "   django-admin --version\n",
    "   django-admin startproject hellodjango\n",
    "   ```"
   ]
  },
  {
   "cell_type": "markdown",
   "metadata": {},
   "source": [
    "4. 用PyCharm打开创建好的Djang项目，并为其添加虚拟环境。\n",
    "\n",
    "   ![](res/pycharm-django-project.png)\n",
    "\n",
    "   如上图所示，PyCharm的项目浏览器中，最顶层的文件夹`hellodjango`是Python项目文件夹，这个文件夹的名字并不重要，Django项目也不关心这个文件夹叫什么名字。该文件夹下有一个同名的文件夹，它是Django项目文件夹，其中包含了`__init__.py`、`settings.py`、`urls.py`、`wsgi.py`四个文件，与名为`hellodjango`的Django项目文件夹同级的还有一个名为`manage.py` 的文件，这些文件的作用如下所示："
   ]
  },
  {
   "cell_type": "markdown",
   "metadata": {},
   "source": [
    "   - `hellodjango/__init__.py`：空文件，告诉Python解释器这个目录应该被视为一个Python的包。\n",
    "   - `hellodjango/settings.py`：Django项目的配置文件。\n",
    "   - `hellodjango/urls.py`：Django项目的URL映射声明，就像是网站的“目录”。\n",
    "   - `hellodjango/wsgi.py`：项目运行在WSGI兼容Web服务器上的入口文件。\n",
    "   - `manage.py`： 管理Django项目的脚本程序。\n",
    "\n",
    "   > 说明：WSGI全称是Web服务器网关接口，维基百科上给出的解释是“为Python语言定义的[Web服务器](https://zh.wikipedia.org/wiki/%E7%B6%B2%E9%A0%81%E4%BC%BA%E6%9C%8D%E5%99%A8)和[Web应用程序](https://zh.wikipedia.org/wiki/%E7%BD%91%E7%BB%9C%E5%BA%94%E7%94%A8%E7%A8%8B%E5%BA%8F)或框架之间的一种简单而通用的接口”。"
   ]
  },
  {
   "cell_type": "markdown",
   "metadata": {},
   "source": [
    "5. 安装项目依赖项。\n",
    "\n",
    "   | Django版本 | Python版本                                |\n",
    "   | ---------- | ----------------------------------------- |\n",
    "   | 1.8        | 2.7、3.2、3.3、3.4、3.5                   |\n",
    "   | 1.9、1.10  | 2.7、3.4、3.5                             |\n",
    "   | 1.11       | 2.7、3.4、3.5、3.6、3.7（Django 1.11.17） |\n",
    "   | 2.0        | 3.4、3.5、3.6、3.7                        |\n",
    "   | 2.1        | 3.5、3.6、3.7                             |\n",
    "   | 2.2        | 3.5、3.6、3.7、3.8（Django 2.2.8）        |\n",
    "   | 3.0        | 3.6、3.7、3.8                             |"
   ]
  },
  {
   "cell_type": "markdown",
   "metadata": {},
   "source": [
    "6. 启动Django自带的服务器运行项目。\n",
    "\n",
    "   方法一：在“Run”菜单选择“Edit Configuration”，配置“Django server”运行项目（适用于专业版PyCharm）。\n",
    "\n",
    "   ![](res/pycharm-django-server.png)\n",
    "\n",
    "   方法二：在“Run”菜单选择“Edit Configuration”，配置运行“Python”程序运行项目（适用于专业版和社区版PyCharm）。\n",
    "\n",
    "   ![](res/pycharm-python-manage.png)\n",
    "\n",
    "   方法三：在PyCharm的终端（Terminal）中通过命令运行项目（适用于专业版和社区版PyCharm）。\n",
    "\n",
    "   ```Shell\n",
    "   python manage.py runserver\n",
    "   ```"
   ]
  },
  {
   "cell_type": "markdown",
   "metadata": {},
   "source": [
    "7. 查看运行效果。\n",
    "\n",
    "  在浏览器中输入`http://127.0.0.1:8000`访问我们的服务器，效果如下图所示。\n",
    "\n",
    "   ![](./res/django-index-1.png)\n",
    "\n",
    "   > **说明**：\n",
    "   >\n",
    "   > 1. 刚刚启动的Django自带的服务器只能用于开发和测试环境，因为这个服务器是纯Python编写的轻量级Web服务器，不适合在生产环境中使用。\n",
    "   > 2. 如果修改了代码，不需要为了让修改的代码生效而重新启动Django自带的服务器。但是，在添加新的项目文件时，该服务器不会自动重新加载，这个时候就得手动重启服务器。\n",
    "   > 3. 可以在终端中通过`python manage.py help`命令查看Django管理脚本程序可用的命令参数。\n",
    "   > 4. 使用`python manage.py runserver`启动服务器时，可以在后面添加参数来指定IP地址和端口号，默认情况下启动的服务器将运行在本机的`8000`端口。\n",
    "   > 5. 在终端中运行的服务器，可以通过Ctrl+C来停止它 。通过PyCharm的“运行配置”运行的服务器直接点击窗口上的关闭按钮就可以终止服务器的运行。\n",
    "   > 6. 不能在同一个端口上启动多个服务器，因为会导致地址的冲突（端口是对IP地址的扩展，也是计算机网络地址的一部分）。\n",
    "   "
   ]
  },
  {
   "cell_type": "markdown",
   "metadata": {},
   "source": [
    "8. 修改项目的配置文件`settings.py`。\n",
    "\n",
    "   Django是一个支持国际化和本地化的框架，因此刚才我们看到的Django项目的默认首页也是支持国际化的，我们可以通过修改配置文件将默认语言修改为中文，时区设置为东八区。\n",
    "\n",
    "   找到修改前的配置（在`settings.py`文件第100行以后）。\n",
    "\n",
    "   ```Python\n",
    "   LANGUAGE_CODE = 'en-us'\n",
    "   TIME_ZONE = 'UTC'\n",
    "   ```\n",
    "\n",
    "   修改为以下内容。\n",
    "\n",
    "   ```Python\n",
    "   LANGUAGE_CODE = 'zh-hans'\n",
    "   TIME_ZONE = 'Asia/Chongqing'\n",
    "   ```"
   ]
  },
  {
   "cell_type": "markdown",
   "metadata": {},
   "source": [
    "#### 创建自己的应用\n",
    "\n",
    "如果要开发自己的Web应用，需要先在Django项目中创建“应用”，一个Django项目可以包含一个或多个应用。"
   ]
  },
  {
   "cell_type": "markdown",
   "metadata": {},
   "source": [
    "1. 在PyCharm的终端中执行下面的命令，创建名为`first`的应用。\n",
    "\n",
    "   ```Shell\n",
    "   python manage.py startapp first\n",
    "   ```"
   ]
  },
  {
   "cell_type": "markdown",
   "metadata": {},
   "source": [
    "   执行上面的命令会在当前路径下创建`first`目录，其目录结构如下所示：\n",
    "\n",
    "   - `__init__.py`：一个空文件，告诉Python解释器这个目录应该被视为一个Python的包。\n",
    "   - `admin.py`：可以用来注册模型，用于在Django框架自带的管理后台中管理模型。\n",
    "   -  `apps.py`：当前应用的配置文件。\n",
    "   - `migrations`：存放与模型有关的数据库迁移信息。\n",
    "     - `__init__.py`：一个空文件，告诉Python解释器这个目录应该被视为一个Python的包。\n",
    "   - `models.py`：存放应用的数据模型（MTV中的M）。\n",
    "   - `tests.py`：包含测试应用各项功能的测试类和测试函数。\n",
    "   - `views.py`：处理用户HTTP请求并返回HTTP响应的函数或类（MTV中的V）。"
   ]
  },
  {
   "cell_type": "markdown",
   "metadata": {},
   "source": [
    "2. 修改应用目录下的视图文件`views.py`。\n",
    "\n",
    "   ```Python\n",
    "   from django.http import HttpResponse\n",
    "   \n",
    "\n",
    "   def show_index(request):\n",
    "       return HttpResponse('<h1>Hello, Django!</h1>')\n",
    "   ```"
   ]
  },
  {
   "cell_type": "markdown",
   "metadata": {},
   "source": [
    "   \n",
    "4. 修改Django项目目录下的`urls.py`文件，将视图函数和用户在浏览器中请求的路径对应。\n",
    "\n",
    "   ```Python\n",
    "   from django.contrib import admin\n",
    "   from django.urls import path, include\n",
    "\n",
    "   from first.views import show_index\n",
    "   \n",
    "   urlpatterns = [\n",
    "       path('admin/', admin.site.urls),\n",
    "       path('hello/', show_index),\n",
    "   ]\n",
    "   ```"
   ]
  },
  {
   "cell_type": "markdown",
   "metadata": {},
   "source": [
    "   \n",
    "5. 重新运行项目，并打开浏览器中访问`http://127.0.0.1:8000/hello/`。"
   ]
  },
  {
   "cell_type": "markdown",
   "metadata": {},
   "source": [
    "6. 上面我们通过代码为浏览器生成了内容，但仍然是静态内容，如果要生成动态内容，可以修改`views.py`文件并添加如下所示的代码。\n",
    "\n",
    "   ```Python\n",
    "   from random import sample\n",
    "   \n",
    "   from django.http import HttpResponse\n",
    "   \n",
    "   \n",
    "   def show_index(request):\n",
    "       fruits = [\n",
    "           'Apple', 'Orange', 'Pitaya', 'Durian', 'Waxberry', 'Blueberry',\n",
    "           'Grape', 'Peach', 'Pear', 'Banana', 'Watermelon', 'Mango'\n",
    "       ]\n",
    "       selected_fruits = sample(fruits, 3)\n",
    "       content = '<h3>今天推荐的水果是：</h3>'\n",
    "       content += '<hr>'\n",
    "       content += '<ul>'\n",
    "       for fruit in selected_fruits:\n",
    "           content += f'<li>{fruit}</li>'\n",
    "       content += '</ul>'\n",
    "       return HttpResponse(content)\n",
    "   ```"
   ]
  },
  {
   "cell_type": "markdown",
   "metadata": {},
   "source": [
    "#### 使用模板\n",
    "\n",
    "Django框架中有一个名为`render`的便捷函数可以来完成渲染模板的操作。所谓的渲染就是用数据替换掉模板页中的模板指令和占位符，当然这里的渲染称为后端渲染，即在服务器端完成页面的渲染再输出到浏览器中。后端渲染的做法在Web应用的访问量较大时，会让服务器承受较大的负担，所以越来越多的Web应用会选择前端渲染的方式，即服务器只提供页面所需的数据（通常是JSON格式），在浏览器中通过JavaScript代码获取这些数据并渲染页面上。关于前端渲染的内容，我们会在后续的课程中为大家讲解，目前我们使用的是通过模板页进行后端渲染的做法，具体步骤如下所示。"
   ]
  },
  {
   "cell_type": "markdown",
   "metadata": {},
   "source": [
    "使用模板页的步骤如下所示。\n",
    "\n",
    "1. 在项目目录下创建名为templates文件夹。\n",
    "\n",
    "   ![](res/pycharm-django-template.png)\n",
    "   "
   ]
  },
  {
   "cell_type": "markdown",
   "metadata": {},
   "source": [
    "2. 添加模板页`index.html`。\n",
    "\n",
    "   > **说明**：实际项目开发中，静态页由前端开发者提供，后端开发者需要将静态页修改为模板页，以便通过Python程序对其进行渲染，这种做法就是上面提到的后端渲染。\n",
    "\n",
    "   ```HTML\n",
    "   <!DOCTYPE html>\n",
    "   <html lang=\"en\">\n",
    "       <head>\n",
    "           <meta charset=\"UTF-8\">\n",
    "           <title>首页</title>\n",
    "           <style>\n",
    "               #fruits {\n",
    "                   font-size: 1.25em;\n",
    "               }\n",
    "           </style>\n",
    "       </head>\n",
    "       <body>\n",
    "           <h1>今天推荐的水果是：</h1>\n",
    "           <hr>\n",
    "           <ul id=\"fruits\">\n",
    "               {% for fruit in fruits %}\n",
    "               <li>{{ fruit }}</li>\n",
    "               {% endfor %}\n",
    "           </ul>\n",
    "       </body>\n",
    "   </html>\n",
    "   ```\n",
    "   "
   ]
  },
  {
   "cell_type": "markdown",
   "metadata": {},
   "source": [
    "   在上面的模板页中我们使用了`{{ fruit }}`这样的模板占位符语法，也使用了`{% for %}`这样的模板指令，这些都是Django模板语言（DTL）的一部分。关于模板语法和指令，大家可以看看官方文档，相信这些内容还是很容易理解的，并不需要过多的赘述，大家也可以参考[官方文档]()了解模板指令和语法。"
   ]
  },
  {
   "cell_type": "markdown",
   "metadata": {},
   "source": [
    "3. 修改`views.py`文件，调用`render`函数渲染模板页。\n",
    "\n",
    "   ```Python\n",
    "   from random import sample\n",
    "   \n",
    "   from django.shortcuts import render\n",
    "   \n",
    "   \n",
    "   def show_index(request):\n",
    "       fruits = [\n",
    "           'Apple', 'Orange', 'Pitaya', 'Durian', 'Waxberry', 'Blueberry',\n",
    "           'Grape', 'Peach', 'Pear', 'Banana', 'Watermelon', 'Mango'\n",
    "       ]\n",
    "       selected_fruits = sample(fruits, 3)\n",
    "       return render(request, 'index.html', {'fruits': selected_fruits})\n",
    "   ```"
   ]
  },
  {
   "cell_type": "markdown",
   "metadata": {},
   "source": [
    "   `render`函数的第一个参数是请求对象request，第二个参数是我们要渲染的模板页的名字，第三个参数是要渲染到页面上的数据，我们通过一个字典将数据交给模板页，字典中的键就是模板页中使用的模板指令或占位符中的变量名。"
   ]
  },
  {
   "cell_type": "markdown",
   "metadata": {},
   "source": [
    "4. 到此为止，视图函数中的`render`还无法找到模板文件`index.html`，需要修改`settings.py`文件，配置模板文件所在的路径。修改`settings.py`文件，找到`TEMPLATES`配置，修改其中的`DIRS`配置。\n",
    "\n",
    "   ```Python\n",
    "   TEMPLATES = [\n",
    "       {\n",
    "           'BACKEND': 'django.template.backends.django.DjangoTemplates',\n",
    "           'DIRS': [os.path.join(BASE_DIR, 'templates'), ],\n",
    "           'APP_DIRS': True,\n",
    "           'OPTIONS': {\n",
    "               'context_processors': [\n",
    "                   'django.template.context_processors.debug',\n",
    "                   'django.template.context_processors.request',\n",
    "                   'django.contrib.auth.context_processors.auth',\n",
    "                   'django.contrib.messages.context_processors.messages',\n",
    "               ],\n",
    "           },\n",
    "       },\n",
    "   ]\n",
    "   ```"
   ]
  },
  {
   "cell_type": "markdown",
   "metadata": {},
   "source": [
    "5. 重新运行项目或直接刷新页面查看结果。"
   ]
  },
  {
   "cell_type": "markdown",
   "metadata": {},
   "source": [
    "### 总结\n",
    "\n",
    "至此，我们已经利用Django框架完成了一个非常小的Web应用，虽然它并没有任何的实际价值，但是可以通过这个项目对Django框架有一个感性的认识。学习Django最好的资料肯定是它的[官方文档](https://docs.djangoproject.com/zh-hans/2.0/)，官方文档提供了对多国语言的支持，而且有新手教程引导初学者学习使用Django框架，建议大家通过阅读Django的官方文档来学习和使用这个框架。 "
   ]
  },
  {
   "cell_type": "markdown",
   "metadata": {},
   "source": [
    "## 深入模型\n",
    "\n",
    "下面我们通过完成一个投票项目来讲解和模型相关的知识点。投票项目的首页会展示某在线教育平台所有的学科；点击学科可以查看到该学科的老师及其信息；用户登录后在查看老师的页面为老师投票，可以投赞成票和反对票；未登录的用户可以通过登录页进行登录；尚未注册的用户可以通过注册页输入个人信息进行注册。在这个项目中，我们使用MySQL数据库来实现数据持久化操作。"
   ]
  },
  {
   "cell_type": "markdown",
   "metadata": {},
   "source": [
    "### 创建项目和应用\n",
    "\n",
    "我们首先创建Django项目`vote`并为其添加虚拟环境和依赖项。接下来，在项目下创建名为`polls`的应用和保存模板页的文件夹`tempaltes`，项目文件夹的结构如下所示。\n",
    "\n",
    "![](res/pycharm-vote-project.png)\n",
    "\n",
    "根据上面描述的项目需求，我们准备了四个静态页面，分别是展示学科的页面`subjects.html`，显示学科老师的页面`teachers.html`，登录页面`login.html`，注册页面`register.html`，稍后我们会将静态页修改为Django项目所需的模板页。"
   ]
  },
  {
   "cell_type": "markdown",
   "metadata": {},
   "source": [
    "### 配置关系型数据库MySQL \n",
    "\n",
    "1. 在MySQL中创建数据库，创建用户，授权用户访问该数据库。\n",
    "\n",
    "   ```SQL\n",
    "   create database vote default charset utf8;\n",
    "   create user 'hellokitty'@'%' identified by 'Hellokitty.618';\n",
    "   grant all privileges on vote.* to 'hellokitty'@'%';\n",
    "   flush privileges;\n",
    "   ```"
   ]
  },
  {
   "cell_type": "markdown",
   "metadata": {},
   "source": [
    "2. 在MySQL中创建保存学科和老师信息的二维表（保存用户信息的表稍后处理）。\n",
    "\n",
    "   ```SQL\n",
    "   use vote;\n",
    "   \n",
    "   -- 创建学科表\n",
    "   create table `tb_subject`\n",
    "   (\n",
    "   \t`no` integer auto_increment comment '学科编号',\n",
    "       `name` varchar(50) not null comment '学科名称',\n",
    "       `intro` varchar(1000) not null default '' comment '学科介绍',\n",
    "       `is_hot` boolean not null default 0 comment '是不是热门学科',\n",
    "       primary key (`no`)\n",
    "   );\n",
    "   -- 创建老师表\n",
    "   create table `tb_teacher`\n",
    "   (\n",
    "       `no` integer auto_increment comment '老师编号',\n",
    "       `name` varchar(20) not null comment '老师姓名',\n",
    "       `sex` boolean not null default 1 comment '老师性别',\n",
    "       `birth` date not null comment '出生日期',\n",
    "       `intro` varchar(1000) not null default '' comment '老师介绍',\n",
    "       `photo` varchar(255) not null default '' comment '老师照片',\n",
    "       `gcount` integer not null default 0 comment '好评数',\n",
    "       `bcount` integer not null default 0 comment '差评数',\n",
    "       `sno` integer not null comment '所属学科',\n",
    "       primary key (`no`),\n",
    "       foreign key (`sno`) references `tb_subject` (`no`)\n",
    "   );\n",
    "   ```"
   ]
  },
  {
   "cell_type": "markdown",
   "metadata": {},
   "source": [
    "3. 在虚拟环境中安装连接MySQL数据库所需的依赖项。\n",
    "\n",
    "   ```Bash\n",
    "   pip install mysqlclient\n",
    "   ```\n",
    "\n",
    "   > **说明**：如果因为某些原因无法安装`mysqlclient`三方库，可以使用它的替代品`pymysql`，`pymysql`是用纯Python开发的连接MySQL的Python库，安装更容易成功，但是需要在Django项目文件夹的`__init__.py`中添加如下所示的代码。\n",
    "   >\n",
    "   > ```Python\n",
    "   > import pymysql\n",
    "   > \n",
    "   > pymysql.install_as_MySQLdb()\n",
    "   > ```\n",
    "   >\n",
    "   > 如果使用Django 2.2及以上版本，还会遇到PyMySQL跟Django框架的兼容性问题，兼容性问题会导致项目无法运行，需要按照GitHub上PyMySQL仓库[Issues](https://github.com/PyMySQL/PyMySQL/issues/790)中提供的方法进行处理。总体来说，使用`pymysql`会比较麻烦，强烈建议大家首选安装`mysqlclient`。"
   ]
  },
  {
   "cell_type": "markdown",
   "metadata": {},
   "source": [
    "4. 修改项目的settings.py文件，首先将我们创建的应用`polls`添加已安装的项目（`INSTALLED_APPS`）中，然后配置MySQL作为持久化方案。\n",
    "\n",
    "   ```Python\n",
    "   INSTALLED_APPS = [\n",
    "       'django.contrib.admin',\n",
    "       'django.contrib.auth',\n",
    "       'django.contrib.contenttypes',\n",
    "       'django.contrib.sessions',\n",
    "       'django.contrib.messages',\n",
    "       'django.contrib.staticfiles',\n",
    "       'polls',\n",
    "   ]\n",
    "   \n",
    "   DATABASES = {\n",
    "       'default': {\n",
    "           # 数据库引擎配置\n",
    "           'ENGINE': 'django.db.backends.mysql',\n",
    "           # 数据库的名字\n",
    "           'NAME': 'vote',\n",
    "           # 数据库服务器的IP地址（本机可以写localhost或127.0.0.1）\n",
    "           'HOST': 'localhost',\n",
    "           # 启动MySQL服务的端口号\n",
    "           'PORT': 3306,\n",
    "           # 数据库用户名和口令\n",
    "           'USER': 'hellokitty',\n",
    "           'PASSWORD': 'Hellokitty.618',\n",
    "           # 数据库使用的字符集\n",
    "           'CHARSET': 'utf8',\n",
    "           # 数据库时间日期的时区设定\n",
    "           'TIME_ZONE': 'Asia/Chongqing',\n",
    "       }\n",
    "   }\n",
    "   ```"
   ]
  },
  {
   "cell_type": "markdown",
   "metadata": {},
   "source": [
    "   在配置ENGINE属性时，常用的可选值包括：\n",
    "\n",
    "   - `'django.db.backends.sqlite3'`：SQLite嵌入式数据库。\n",
    "   - `'django.db.backends.postgresql'`：BSD许可证下发行的开源关系型数据库产品。\n",
    "   - `'django.db.backends.mysql'`：甲骨文公司经济高效的数据库产品。\n",
    "   - `'django.db.backends.oracle'`：甲骨文公司关系型数据库旗舰产品。\n",
    "\n",
    "   其他的配置可以参考官方文档中[数据库配置](https://docs.djangoproject.com/zh-hans/2.0/ref/databases/#third-party-notes)的部分。"
   ]
  },
  {
   "cell_type": "markdown",
   "metadata": {},
   "source": [
    "5. Django框架提供了ORM来解决数据持久化问题，ORM翻译成中文叫“对象关系映射”。因为Python是面向对象的编程语言，我们在Python程序中使用对象模型来保存数据，而关系型数据库使用关系模型，用二维表来保存数据，这两种模型并不匹配。使用ORM是为了实现对象模型到关系模型的**双向转换**，这样就不用在Python代码中书写SQL语句和游标操作，因为这些都会由ORM自动完成。利用Django的ORM，我们可以直接将刚才创建的学科表和老师表变成Django中的模型类。\n",
    "\n",
    "   ```Bash\n",
    "   python manage.py inspectdb > polls/models.py\n",
    "   ```"
   ]
  },
  {
   "cell_type": "markdown",
   "metadata": {},
   "source": [
    "   我们可以对自动生成的模型类稍作调整，代码如下所示。\n",
    "\n",
    "   ```Python\n",
    "   from django.db import models\n",
    "   \n",
    "   \n",
    "   class Subject(models.Model):\n",
    "       no = models.AutoField(primary_key=True, verbose_name='编号')\n",
    "       name = models.CharField(max_length=50, verbose_name='名称')\n",
    "       intro = models.CharField(max_length=1000, verbose_name='介绍')\n",
    "       is_hot = models.BooleanField(verbose_name='是否热门')\n",
    "   \n",
    "       class Meta:\n",
    "           managed = False\n",
    "           db_table = 'tb_subject'\n",
    "   \n",
    "   \n",
    "   class Teacher(models.Model):\n",
    "       no = models.AutoField(primary_key=True, verbose_name='编号')\n",
    "       name = models.CharField(max_length=20, verbose_name='姓名')\n",
    "       sex = models.BooleanField(default=True, verbose_name='性别')\n",
    "       birth = models.DateField(verbose_name='出生日期')\n",
    "       intro = models.CharField(max_length=1000, verbose_name='个人介绍')\n",
    "       photo = models.ImageField(max_length=255, verbose_name='照片')\n",
    "       good_count = models.IntegerField(default=0, db_column='gcount', verbose_name='好评数')\n",
    "       bad_count = models.IntegerField(default=0, db_column='bcount', verbose_name='差评数')\n",
    "       subject = models.ForeignKey(Subject, models.DO_NOTHING, db_column='sno')\n",
    "   \n",
    "       class Meta:\n",
    "           managed = False\n",
    "           db_table = 'tb_teacher'\n",
    "   ```\n",
    " "
   ]
  },
  {
   "cell_type": "markdown",
   "metadata": {},
   "source": [
    "  \n",
    "   > **说明**：模型类都直接或间接继承自`Model`类，模型类跟关系型数据库的二维表对应，模型对象跟表中的记录对应，模型对象的属性跟表中的字段对应。如果对上面模型类的属性定义不是特别理解，可以看看本文后面提供的“模型定义参考”部分的内容。"
   ]
  },
  {
   "cell_type": "markdown",
   "metadata": {},
   "source": [
    "### 使用ORM完成模型的CRUD操作\n",
    "\n",
    "有了Django框架的ORM，我们可以直接使用面向对象的方式来实现对数据的CRUD（增删改查）操作。我们可以在PyCharm的终端中输入下面的命令进入到Django项目的交互式环境，然后尝试对模型的操作。\n",
    "\n",
    "```Bash\n",
    "python manage.py shell\n",
    "```"
   ]
  },
  {
   "cell_type": "markdown",
   "metadata": {},
   "source": [
    "#### 新增\n",
    "\n",
    "```Python\n",
    "from polls.models import Subject\n",
    "\n",
    "subject1 = Subject(name='Python全栈开发', intro='当下最热门的学科', is_hot=True)\n",
    "subject1.save()\n",
    "subject2 = Subject(name='全栈软件测试', intro='学习自动化测试的学科', is_hot=False)\n",
    "subject2.save()\n",
    "subject3 = Subject(name='JavaEE分布式开发', intro='基于Java语言的服务器应用开发', is_hot=True)\n",
    "```"
   ]
  },
  {
   "cell_type": "markdown",
   "metadata": {},
   "source": [
    "#### 删除\n",
    "\n",
    "```Python\n",
    "subject = Subject.objects.get(no=2)\n",
    "subject.delete()\n",
    "```"
   ]
  },
  {
   "cell_type": "markdown",
   "metadata": {},
   "source": [
    "#### 更新\n",
    "\n",
    "```Shell\n",
    "subject = Subject.objects.get(no=1)\n",
    "subject.name = 'Python全栈+人工智能'\n",
    "subject.save()\n",
    "```"
   ]
  },
  {
   "cell_type": "markdown",
   "metadata": {},
   "source": [
    "#### 查询\n",
    "\n",
    "1. 查询所有对象。\n",
    "\n",
    "```Shell\n",
    "Subjects.objects.all()\n",
    "```"
   ]
  },
  {
   "cell_type": "markdown",
   "metadata": {},
   "source": [
    "2. 过滤数据。\n",
    "\n",
    "```Shell\n",
    "# 查询名称为“Python全栈+人工智能”的学科\n",
    "Subject.objects.filter(name='Python全栈+人工智能')\n",
    "\n",
    "# 查询名称包含“全栈”的学科（模糊查询）\n",
    "Subject.objects.filter(name__contains='全栈')\n",
    "Subject.objects.filter(name__startswith='全栈')\n",
    "Subject.objects.filter(name__endswith='全栈')\n",
    "\n",
    "# 查询所有热门学科\n",
    "Subject.objects.filter(is_hot=True)\n",
    "\n",
    "# 查询编号大于3小于10的学科\n",
    "Subject.objects.filter(no__gt=3).filter(no__lt=10)\n",
    "Subject.objects.filter(no__gt=3, no__lt=10)\n",
    "\n",
    "# 查询编号在3到7之间的学科\n",
    "Subject.objects.filter(no__ge=3, no__le=7)\n",
    "Subject.objects.filter(no__range=(3, 7))\n",
    "```"
   ]
  },
  {
   "cell_type": "markdown",
   "metadata": {},
   "source": [
    "3. 查询单个对象。\n",
    "\n",
    "```Shell\n",
    "# 查询主键为1的学科\n",
    "Subject.objects.get(pk=1)\n",
    "Subject.objects.get(no=1)\n",
    "Subject.objects.filter(no=1).first()\n",
    "Subject.objects.filter(no=1).last()\n",
    "```"
   ]
  },
  {
   "cell_type": "markdown",
   "metadata": {},
   "source": [
    "4. 排序。\n",
    "\n",
    "```Shell\n",
    "# 查询所有学科按编号升序排列\n",
    "Subject.objects.order_by('no')\n",
    "# 查询所有部门按部门编号降序排列\n",
    "Subject.objects.order_by('-no')\n",
    "```"
   ]
  },
  {
   "cell_type": "markdown",
   "metadata": {},
   "source": [
    "5. 切片（分页查询）。\n",
    "\n",
    "```Shell\n",
    "# 按编号从小到大查询前3个学科\n",
    "Subject.objects.order_by('no')[:3]\n",
    "```"
   ]
  },
  {
   "cell_type": "markdown",
   "metadata": {},
   "source": [
    "6. 计数。\n",
    "\n",
    "```Python\n",
    "# 查询一共有多少个学科\n",
    "Subject.objects.count()\n",
    "```"
   ]
  },
  {
   "cell_type": "markdown",
   "metadata": {},
   "source": [
    "7. 高级查询。\n",
    "\n",
    "```Shell\n",
    "# 查询编号为1的学科的老师\n",
    "Teacher.objects.filter(subject__no=1)\n",
    "Subject.objects.get(pk=1).teacher_set.all() \n",
    "\n",
    "# 查询学科名称有“全栈”二字的学科的老师\n",
    "Teacher.objects.filter(subject__name__contains='全栈') \n",
    "```"
   ]
  },
  {
   "cell_type": "markdown",
   "metadata": {},
   "source": [
    "> **说明1**：由于老师与学科之间存在多对一外键关联，所以能通过学科反向查询到该学科的老师（从一对多关系中“一”的一方查询“多”的一方），反向查询属性默认的名字是`类名小写_set`（如上面例子中的`teacher_set`），当然也可以在创建模型时通过`ForeingKey`的`related_name`属性指定反向查询属性的名字。如果不希望执行反向查询可以将`related_name`属性设置为`'+'`或者以`'+'`开头的字符串。"
   ]
  },
  {
   "cell_type": "markdown",
   "metadata": {},
   "source": [
    "> **说明2**：ORM查询多个对象时会返回QuerySet对象，QuerySet使用了惰性查询，即在创建QuerySet对象的过程中不涉及任何数据库活动，等真正用到对象时（对QuerySet求值）才向数据库发送SQL语句并获取对应的结果，这一点在实际开发中需要引起注意！"
   ]
  },
  {
   "cell_type": "markdown",
   "metadata": {},
   "source": [
    "> **说明3**：如果希望更新多条数据，不用先逐一获取模型对象再修改对象属性，可以直接使用QuerySet对象的`update()`方法一次性更新多条数据。"
   ]
  },
  {
   "cell_type": "markdown",
   "metadata": {},
   "source": [
    "### 利用Django后台管理模型\n",
    "\n",
    "在创建好模型类之后，可以通过Django框架自带的后台管理应用（`admin`应用）实现对模型的管理。虽然实际应用中，这个后台可能并不能满足我们的需求，但是在学习Django框架时，我们可以利用`admin`应用来管理我们的模型，同时也通过它来了解一个项目的后台管理系统需要哪些功能。使用Django自带的`admin`应用步骤如下所示。"
   ]
  },
  {
   "cell_type": "markdown",
   "metadata": {},
   "source": [
    "1. 将`admin`应用所需的表迁移到数据库中。`admin`应用本身也需要数据库的支持，而且在`admin`应用中已经定义好了相关的数据模型类，我们只需要通过模型迁移操作就能自动在数据库中生成所需的二维表。\n",
    "\n",
    "   ```Bash\n",
    "   python manage.py migrate\n",
    "   ```\n",
    " "
   ]
  },
  {
   "cell_type": "markdown",
   "metadata": {},
   "source": [
    "  \n",
    "2. 创建访问`admin`应用的超级用户账号，这里需要输入用户名、邮箱和口令。\n",
    "\n",
    "   ```Shell\n",
    "   python manage.py createsuperuser\n",
    "   ```\n",
    "\n",
    "   > **说明**：输入口令时没有回显也不能退格，需要一气呵成完成输入。"
   ]
  },
  {
   "cell_type": "markdown",
   "metadata": {},
   "source": [
    "3. 运行项目，在浏览器中访问`http://127.0.0.1:8000/admin`，输入刚才创建的超级用户账号和密码进行登录。\n",
    "\n",
    "   ![](/Users/Hao/Desktop/Python-100-Days/Day41-55/res/django-admin-login.png)\n",
    "\n",
    "   登录后进入管理员操作平台。\n",
    "\n",
    "   ![](res/django-admin-apps.png)\n",
    "\n",
    "   注意，我们暂时还没能在`admin`应用中看到之前创建的模型类，为此需要在`polls`应用的`admin.py`文件中对需要管理的模型进行注册。"
   ]
  },
  {
   "cell_type": "markdown",
   "metadata": {},
   "source": [
    "4. 注册模型类。\n",
    "\n",
    "   ```Python\n",
    "   from django.contrib import admin\n",
    "   \n",
    "   from polls.models import Subject, Teacher\n",
    "\n",
    "   admin.site.register(Subject)\n",
    "   admin.site.register(Teacher)\n",
    "   ```\n",
    "   \n",
    "   注册模型类后，就可以在后台管理系统中看到它们。\n",
    "   \n",
    "   ![](./res/django-admin-models.png)"
   ]
  },
  {
   "cell_type": "markdown",
   "metadata": {},
   "source": [
    "5. 对模型进行CRUD操作。\n",
    "\n",
    "   可以在管理员平台对模型进行C（新增）、R（查看）、U（更新）、D（删除）操作，如下图所示。\n",
    "\n",
    "   - 添加学科。\n",
    "\n",
    "       ![](res/django-admin-add-model.png)\n",
    "\n",
    "   - 查看所有学科。\n",
    "\n",
    "       ![](res/django-admin-view-models.png)\n",
    "\n",
    "   - 删除和更新学科。\n",
    "\n",
    "       ![](res/django-admin-delete-update-model.png)"
   ]
  },
  {
   "cell_type": "markdown",
   "metadata": {},
   "source": [
    "6. 注册模型管理类。\n",
    "\n",
    "   可能大家已经注意到了，刚才在后台查看部门信息的时候，显示的部门信息并不直观，为此我们再修改`admin.py`文件，通过注册模型管理类，可以在后台管理系统中更好的管理模型。"
   ]
  },
  {
   "cell_type": "markdown",
   "metadata": {},
   "source": [
    "   ```Python\n",
    "   from django.contrib import admin\n",
    "\n",
    "   from polls.models import Subject, Teacher\n",
    "   \n",
    "   \n",
    "   class SubjectModelAdmin(admin.ModelAdmin):\n",
    "       list_display = ('no', 'name', 'intro', 'is_hot')\n",
    "       search_fields = ('name', )\n",
    "       ordering = ('no', )\n",
    "   \n",
    "   \n",
    "   class TeacherModelAdmin(admin.ModelAdmin):\n",
    "       list_display = ('no', 'name', 'sex', 'birth', 'good_count', 'bad_count', 'subject')\n",
    "       search_fields = ('name', )\n",
    "       ordering = ('no', )\n",
    "   \n",
    "   \n",
    "   admin.site.register(Subject, SubjectModelAdmin)\n",
    "   admin.site.register(Teacher, TeacherModelAdmin)\n",
    "   ```\n",
    " "
   ]
  },
  {
   "cell_type": "markdown",
   "metadata": {},
   "source": [
    "  \n",
    "   ![](res/django-admin-view-models-subject.png)\n",
    "   \n",
    "   ![](res/django-admin-view-models-teacher.png)\n",
    "   \n",
    "   为了更好的查看模型，我们为`Subject`类添加`__str__`魔法方法，并在该方法中返回学科名字。这样在如上图所示的查看老师的页面上显示老师所属学科时，就不再是`Subject object(1)`这样晦涩的信息，而是学科的名称。"
   ]
  },
  {
   "cell_type": "markdown",
   "metadata": {},
   "source": [
    "### 实现学科页和老师页效果\n",
    "\n",
    "1. 修改`polls/views.py`文件，编写视图函数实现对学科页和老师页的渲染。"
   ]
  },
  {
   "cell_type": "markdown",
   "metadata": {},
   "source": [
    "    ```Python\n",
    "    from django.shortcuts import render, redirect\n",
    "    \n",
    "    from polls.models import Subject, Teacher\n",
    "    \n",
    "    \n",
    "    def show_subjects(request):\n",
    "        subjects = Subject.objects.all().order_by('no')\n",
    "        return render(request, 'subjects.html', {'subjects': subjects})\n",
    "    \n",
    "    \n",
    "    def show_teachers(request):\n",
    "        try:\n",
    "            sno = int(request.GET.get('sno'))\n",
    "            teachers = []\n",
    "            if sno:\n",
    "                subject = Subject.objects.only('name').get(no=sno)\n",
    "                teachers = Teacher.objects.filter(subject=subject).order_by('no')\n",
    "            return render(request, 'teachers.html', {\n",
    "                'subject': subject,\n",
    "                'teachers': teachers\n",
    "            })\n",
    "        except (ValueError, Subject.DoesNotExist):\n",
    "            return redirect('/')\n",
    "   ```"
   ]
  },
  {
   "cell_type": "markdown",
   "metadata": {},
   "source": [
    "2. 修改`templates/subjects.html`和`templates/teachers.html`模板页。"
   ]
  },
  {
   "cell_type": "markdown",
   "metadata": {},
   "source": [
    "    `subjects.html`\n",
    "\n",
    "     ```HTML\n",
    "    <!DOCTYPE html>\n",
    "    <html lang=\"en\">\n",
    "    <head>\n",
    "        <meta charset=\"UTF-8\">\n",
    "        <title>学科信息</title>\n",
    "        <style>\n",
    "            #container {\n",
    "                width: 80%;\n",
    "                margin: 10px auto;\n",
    "            }\n",
    "            .user {\n",
    "                float: right;\n",
    "                margin-right: 10px;\n",
    "            }\n",
    "            .user>a {\n",
    "                margin-right: 10px;\n",
    "            }\n",
    "            #main>dl>dt {\n",
    "                font-size: 1.5em;\n",
    "                font-weight: bold;\n",
    "            }\n",
    "            #main>dl>dd {\n",
    "                font-size: 1.2em;\n",
    "            }\n",
    "            a {\n",
    "                text-decoration: none;\n",
    "                color: darkcyan;\n",
    "            }\n",
    "        </style>\n",
    "    </head>\n",
    "    <body>\n",
    "        <div id=\"container\">\n",
    "            <div class=\"user\">\n",
    "                <a href=\"login.html\">用户登录</a>\n",
    "                <a href=\"register.html\">快速注册</a>\n",
    "            </div>\n",
    "            <h1>扣丁学堂所有学科</h1>\n",
    "            <hr>\n",
    "            <div id=\"main\">\n",
    "                {% for subject in subjects %}\n",
    "                <dl>\n",
    "                    <dt>\n",
    "                        <a href=\"/teachers/?sno={{ subject.no }}\">{{ subject.name }}</a>\n",
    "                        {% if subject.is_hot %}\n",
    "                        <img src=\"/static/images/hot-icon-small.png\">\n",
    "                        {% endif %}\n",
    "                    </dt>\n",
    "                    <dd>{{ subject.intro }}</dd>\n",
    "                </dl>\n",
    "                {% endfor %}\n",
    "            </div>\n",
    "        </div>\n",
    "    </body>\n",
    "    </html>\n",
    "     ```\n",
    "\n",
    "    `teachers.html`\n",
    "\n",
    "    ```HTML\n",
    "    <!DOCTYPE html>\n",
    "    <html lang=\"en\">\n",
    "    <head>\n",
    "        <meta charset=\"UTF-8\">\n",
    "        <title>老师信息</title>\n",
    "        <style>\n",
    "            #container {\n",
    "                width: 80%;\n",
    "                margin: 10px auto;\n",
    "            }\n",
    "            .teacher {\n",
    "                width: 100%;\n",
    "                margin: 0 auto;\n",
    "                padding: 10px 0;\n",
    "                border-bottom: 1px dashed gray;\n",
    "                overflow: auto;\n",
    "            }\n",
    "            .teacher>div {\n",
    "                float: left;\n",
    "            }\n",
    "            .photo {\n",
    "                height: 140px;\n",
    "                border-radius: 75px;\n",
    "                overflow: hidden;\n",
    "                margin-left: 20px;\n",
    "            }\n",
    "            .info {\n",
    "                width: 75%;\n",
    "                margin-left: 30px;\n",
    "            }\n",
    "            .info div {\n",
    "                clear: both;\n",
    "                margin: 5px 10px;\n",
    "            }\n",
    "            .info span {\n",
    "                margin-right: 25px;\n",
    "            }\n",
    "            .info a {\n",
    "                text-decoration: none;\n",
    "                color: darkcyan;\n",
    "            }\n",
    "        </style>\n",
    "    </head>\n",
    "    <body>\n",
    "        <div id=\"container\">\n",
    "            <h1>{{ subject.name }}学科的老师信息</h1>\n",
    "            <hr>\n",
    "            {% if not teachers %}\n",
    "                <h2>暂无该学科老师信息</h2>\n",
    "            {% endif %}\n",
    "            {% for teacher in teachers %}\n",
    "            <div class=\"teacher\">\n",
    "                <div class=\"photo\">\n",
    "                    <img src=\"/static/images/{{ teacher.photo }}\" height=\"140\" alt=\"\">\n",
    "                </div>\n",
    "                <div class=\"info\">\n",
    "                    <div>\n",
    "                        <span><strong>姓名：{{ teacher.name }}</strong></span>\n",
    "                        <span>性别：{{ teacher.sex | yesno:'男,女' }}</span>\n",
    "                        <span>出生日期：{{ teacher.birth | date:'Y年n月j日'}}</span>\n",
    "                    </div>\n",
    "                    <div class=\"intro\">{{ teacher.intro }}</div>\n",
    "                    <div class=\"comment\">\n",
    "                        <a href=\"\">好评</a>&nbsp;(<strong>{{ teacher.good_count }}</strong>)\n",
    "                        &nbsp;&nbsp;&nbsp;&nbsp;\n",
    "                        <a href=\"\">差评</a>&nbsp;<strong>{{ teacher.bad_count }}</strong>)\n",
    "                    </div>\n",
    "                </div>\n",
    "            </div>\n",
    "            {% endfor %}\n",
    "            <a href=\"/\">返回首页</a>\n",
    "        </div>\n",
    "    </body>\n",
    "    </html>\n",
    "    ```"
   ]
  },
  {
   "cell_type": "markdown",
   "metadata": {},
   "source": [
    "3. 修改`vote/urls.py`文件，实现映射URL。\n",
    "\n",
    "    ```Python\n",
    "    from django.contrib import admin\n",
    "    from django.urls import path\n",
    "    \n",
    "    from polls.views import show_subjects, show_teachers\n",
    "    \n",
    "    urlpatterns = [\n",
    "        path('admin/', admin.site.urls),\n",
    "        path('', show_subjects),\n",
    "        path('teachers/', show_teachers),\n",
    "    ]\n",
    "    ```"
   ]
  },
  {
   "cell_type": "markdown",
   "metadata": {},
   "source": [
    "到此为止，页面上需要的图片（静态资源）还没有能够正常展示，我们在下一章节中为大家介绍如何处理模板页上的需要的静态资源。"
   ]
  },
  {
   "cell_type": "markdown",
   "metadata": {},
   "source": [
    "### 补充内容\n",
    "\n",
    "#### Django模型最佳实践\n",
    "\n",
    "1. 正确的为模型和关系字段命名。\n",
    "2. 设置适当的`related_name`属性。\n",
    "3. 用`OneToOneField`代替`ForeignKeyField(unique=True)`。\n",
    "4. 通过“迁移操作”（migrate）来添加模型。\n",
    "5. 用NoSQL来应对需要降低范式级别的场景。\n",
    "6. 如果布尔类型可以为空要使用`NullBooleanField`。\n",
    "7. 在模型中放置业务逻辑。\n",
    "8. 用`<ModelName>.DoesNotExists`取代`ObjectDoesNotExists`。\n",
    "9. 在数据库中不要出现无效数据。\n",
    "10. 不要对`QuerySet`调用`len()`函数。\n",
    "11. 将`QuerySet`的`exists()`方法的返回值用于`if`条件。\n",
    "12. 用`DecimalField`来存储货币相关数据而不是`FloatField`。\n",
    "13. 定义`__str__`方法。\n",
    "14. 不要将数据文件放在同一个目录中。"
   ]
  },
  {
   "cell_type": "markdown",
   "metadata": {},
   "source": [
    "> **说明**：以上内容来自于STEELKIWI网站的[*Best Practice working with Django models in Python*](https://steelkiwi.com/blog/best-practices-working-django-models-python/)，有兴趣的小伙伴可以阅读原文。"
   ]
  },
  {
   "cell_type": "markdown",
   "metadata": {},
   "source": [
    "#### 模型定义参考\n",
    "\n",
    "##### 字段\n",
    "\n",
    "对字段名称的限制\n",
    "\n",
    "- 字段名不能是Python的保留字，否则会导致语法错误\n",
    "- 字段名不能有多个连续下划线，否则影响ORM查询操作\n",
    "\n",
    "Django模型字段类\n",
    "\n",
    "| 字段类                  | 说明                                                         |\n",
    "| ----------------------- | ------------------------------------------------------------ |\n",
    "| `AutoField`             | 自增ID字段                                                   |\n",
    "| `BigIntegerField`       | 64位有符号整数                                               |\n",
    "| `BinaryField`           | 存储二进制数据的字段，对应Python的`bytes`类型                |\n",
    "| `BooleanField`          | 存储`True`或`False`                                          |\n",
    "| `CharField`             | 长度较小的字符串                                             |\n",
    "| `DateField`             | 存储日期，有`auto_now`和`auto_now_add`属性                   |\n",
    "| `DateTimeField`         | 存储日期和日期，两个附加属性同上                             |\n",
    "| `DecimalField`          | 存储固定精度小数，有`max_digits`（有效位数）和`decimal_places`（小数点后面）两个必要的参数 |\n",
    "| `DurationField`         | 存储时间跨度                                                 |\n",
    "| `EmailField`            | 与`CharField`相同，可以用`EmailValidator`验证                |\n",
    "| `FileField`             | 文件上传字段                                                 |\n",
    "| `FloatField`            | 存储浮点数                                                   |\n",
    "| `ImageField`            | 其他同`FileFiled`，要验证上传的是不是有效图像                |\n",
    "| `IntegerField`          | 存储32位有符号整数。                                         |\n",
    "| `GenericIPAddressField` | 存储IPv4或IPv6地址                                           |\n",
    "| `NullBooleanField`      | 存储`True`、`False`或`null`值                                |\n",
    "| `PositiveIntegerField`  | 存储无符号整数（只能存储正数）                               |\n",
    "| `SlugField`             | 存储slug（简短标注）                                         |\n",
    "| `SmallIntegerField`     | 存储16位有符号整数                                           |\n",
    "| `TextField`             | 存储数据量较大的文本                                         |\n",
    "| `TimeField`             | 存储时间                                                     |\n",
    "| `URLField`              | 存储URL的`CharField`                                         |\n",
    "| `UUIDField`             | 存储全局唯一标识符                                           |"
   ]
  },
  {
   "cell_type": "markdown",
   "metadata": {},
   "source": [
    "##### 字段属性\n",
    "\n",
    "通用字段属性\n",
    "\n",
    "| 选项             | 说明                                                         |\n",
    "| ---------------- | ------------------------------------------------------------ |\n",
    "| `null`           | 数据库中对应的字段是否允许为`NULL`，默认为`False`            |\n",
    "| `blank`          | 后台模型管理验证数据时，是否允许为`NULL`，默认为`False`      |\n",
    "| `choices`        | 设定字段的选项，各元组中的第一个值是设置在模型上的值，第二值是人类可读的值 |\n",
    "| `db_column`      | 字段对应到数据库表中的列名，未指定时直接使用字段的名称       |\n",
    "| `db_index`       | 设置为`True`时将在该字段创建索引                             |\n",
    "| `db_tablespace`  | 为有索引的字段设置使用的表空间，默认为`DEFAULT_INDEX_TABLESPACE` |\n",
    "| `default`        | 字段的默认值                                                 |\n",
    "| `editable`       | 字段在后台模型管理或`ModelForm`中是否显示，默认为`True`      |\n",
    "| `error_messages` | 设定字段抛出异常时的默认消息的字典，其中的键包括`null`、`blank`、`invalid`、`invalid_choice`、`unique`和`unique_for_date` |\n",
    "| `help_text`      | 表单小组件旁边显示的额外的帮助文本。                         |\n",
    "| `primary_key`    | 将字段指定为模型的主键，未指定时会自动添加`AutoField`用于主键，只读。 |\n",
    "| `unique`         | 设置为`True`时，表中字段的值必须是唯一的                     |\n",
    "| `verbose_name`   | 字段在后台模型管理显示的名称，未指定时使用字段的名称         |"
   ]
  },
  {
   "cell_type": "markdown",
   "metadata": {},
   "source": [
    "`ForeignKey`属性\n",
    "\n",
    "1. `limit_choices_to`：值是一个Q对象或返回一个Q对象，用于限制后台显示哪些对象。\n",
    "2. `related_name`：用于获取关联对象的关联管理器对象（反向查询），如果不允许反向，该属性应该被设置为`'+'`，或者以`'+'`结尾。\n",
    "3. `to_field`：指定关联的字段，默认关联对象的主键字段。\n",
    "4. `db_constraint`：是否为外键创建约束，默认值为`True`。\n",
    "5. `on_delete`：外键关联的对象被删除时对应的动作，可取的值包括`django.db.models`中定义的：\n",
    "   - `CASCADE`：级联删除。\n",
    "   - `PROTECT`：抛出`ProtectedError`异常，阻止删除引用的对象。\n",
    "   - `SET_NULL`：把外键设置为`null`，当`null`属性被设置为`True`时才能这么做。\n",
    "   - `SET_DEFAULT`：把外键设置为默认值，提供了默认值才能这么做。"
   ]
  },
  {
   "cell_type": "markdown",
   "metadata": {},
   "source": [
    "`ManyToManyField`属性\n",
    "\n",
    "1. `symmetrical`：是否建立对称的多对多关系。\n",
    "2. `through`：指定维持多对多关系的中间表的Django模型。\n",
    "3. `throughfields`：定义了中间模型时可以指定建立多对多关系的字段。\n",
    "4. `db_table`：指定维持多对多关系的中间表的表名。"
   ]
  },
  {
   "cell_type": "markdown",
   "metadata": {},
   "source": [
    "##### 模型元数据选项\n",
    "\n",
    "| 选项                    | 说明                                                         |\n",
    "| ----------------------- | ------------------------------------------------------------ |\n",
    "| `abstract`              | 设置为True时模型是抽象父类                                   |\n",
    "| `app_label`             | 如果定义模型的应用不在INSTALLED_APPS中可以用该属性指定       |\n",
    "| `db_table`              | 模型使用的数据表名称                                         |\n",
    "| `db_tablespace`         | 模型使用的数据表空间                                         |\n",
    "| `default_related_name`  | 关联对象回指这个模型时默认使用的名称，默认为<model_name>_set |\n",
    "| `get_latest_by`         | 模型中可排序字段的名称。                                     |\n",
    "| `managed`               | 设置为True时，Django在迁移中创建数据表并在执行flush管理命令时把表移除 |\n",
    "| `order_with_respect_to` | 标记对象为可排序的                                           |\n",
    "| `ordering`              | 对象的默认排序                                               |\n",
    "| `permissions`           | 创建对象时写入权限表的额外权限                               |\n",
    "| `default_permissions`   | 默认为`('add', 'change', 'delete')`                          |\n",
    "| `unique_together`       | 设定组合在一起时必须独一无二的字段名                         |\n",
    "| `index_together`        | 设定一起建立索引的多个字段名                                 |\n",
    "| `verbose_name`          | 为对象设定人类可读的名称                                     |\n",
    "| `verbose_name_plural`   | 设定对象的复数名称                                           |"
   ]
  },
  {
   "cell_type": "markdown",
   "metadata": {},
   "source": [
    "#### 查询参考\n",
    "\n",
    "##### 按字段查找可以用的条件\n",
    "\n",
    "1. `exact` / `iexact`：精确匹配/忽略大小写的精确匹配查询\n",
    "2. `contains` / `icontains` / `startswith` / `istartswith` / `endswith` / `iendswith`：基于`like`的模糊查询\n",
    "3. `in` ：集合运算\n",
    "4. `gt` / `gte` / `lt` / `lte`：大于/大于等于/小于/小于等于关系运算\n",
    "5. `range`：指定范围查询（SQL中的`between…and…`）\n",
    "6. `year` / `month` / `day` / `week_day` / `hour` / `minute` / `second`：查询时间日期\n",
    "7. `isnull`：查询空值（True）或非空值（False）\n",
    "8. `search`：基于全文索引的全文检索（一般很少使用）\n",
    "9. `regex` / `iregex`：基于正则表达式的模糊匹配查询"
   ]
  },
  {
   "cell_type": "markdown",
   "metadata": {},
   "source": [
    "## 静态资源和Ajax请求\n",
    "\n",
    "### 加载静态资源\n",
    "\n",
    "如果要在Django项目中使用静态资源，可以先创建一个用于保存静态资源的目录。在`vote`项目中，我们将静态资源置于名为`static`的文件夹中，在该文件夹包含了三个子文件夹：css、js和images，分别用来保存外部CSS文件、外部JavaScript文件和图片资源，如下图所示。\n",
    "\n",
    "![](res/pycharm-django-static.png)"
   ]
  },
  {
   "cell_type": "markdown",
   "metadata": {},
   "source": [
    "为了能够找到保存静态资源的文件夹，我们还需要修改Django项目的配置文件`settings.py`，如下所示：\n",
    "\n",
    "```Python\n",
    "STATICFILES_DIRS = [os.path.join(BASE_DIR, 'static'), ]\n",
    "STATIC_URL = '/static/'\n",
    "```"
   ]
  },
  {
   "cell_type": "markdown",
   "metadata": {},
   "source": [
    "配置好静态资源之后，大家可以运行项目，然后看看之前我们写的页面上的图片是否能够正常加载出来。需要说明的是，在项目正式部署到线上环境后，我们通常会把静态资源交给专门的静态资源服务器（如Nginx、Apache）来处理，而不是有运行Python代码的服务器来管理静态资源，所以上面的配置并不适用于生产环境，仅供项目开发阶段测试使用。使用静态资源的正确姿势我们会在后续的章节为大家讲解。"
   ]
  },
  {
   "cell_type": "markdown",
   "metadata": {},
   "source": [
    "### Ajax概述\n",
    "\n",
    "接下来就可以实现“好评”和“差评”的功能了，很明显如果能够在不刷新页面的情况下实现这两个功能会带来更好的用户体验，因此我们考虑使用[Ajax](https://zh.wikipedia.org/wiki/AJAX)技术来实现“好评”和“差评”。Ajax是Asynchronous Javascript And XML的缩写 , 简单的说，使用Ajax技术可以在不重新加载整个页面的情况下对页面进行局部刷新。"
   ]
  },
  {
   "cell_type": "markdown",
   "metadata": {},
   "source": [
    "对于传统的Web应用，每次页面上需要加载新的内容都需要重新请求服务器并刷新整个页面，如果服务器短时间内无法给予响应或者网络状况并不理想，那么可能会造成浏览器长时间的空白并使得用户处于等待状态，在这个期间用户什么都做不了，如下图所示。很显然，这样的Web应用并不能带来很好的用户体验。\n",
    "\n",
    "![](res/synchronous-web-request.png)"
   ]
  },
  {
   "cell_type": "markdown",
   "metadata": {},
   "source": [
    "对于使用Ajax技术的Web应用，浏览器可以向服务器发起异步请求来获取数据。异步请求不会中断用户体验，当服务器返回了新的数据，我们可以通过JavaScript代码进行DOM操作来实现对页面的局部刷新，这样就相当于在不刷新整个页面的情况下更新了页面的内容，如下图所示。\n",
    "\n",
    "![](res/asynchronous-web-request.png)"
   ]
  },
  {
   "cell_type": "markdown",
   "metadata": {},
   "source": [
    "在使用Ajax技术时，浏览器跟服务器通常会交换XML或JSON格式的数据，XML是以前使用得非常多的一种数据格式，近年来几乎已经完全被JSON取代。"
   ]
  },
  {
   "cell_type": "markdown",
   "metadata": {},
   "source": [
    "### 用Ajax实现投票功能\n",
    "\n",
    "下面，我们使用Ajax技术来实现投票的功能，首先修改项目的`urls.py`文件，为“好评”和“差评”功能映射对应的URL。"
   ]
  },
  {
   "cell_type": "markdown",
   "metadata": {},
   "source": [
    "```Python\n",
    "from django.contrib import admin\n",
    "from django.urls import path\n",
    "\n",
    "from vote import views\n",
    "\n",
    "urlpatterns = [\n",
    "    path('', views.show_subjects),\n",
    "    path('teachers/', views.show_teachers),\n",
    "    path('praise/', views.praise_or_criticize),\n",
    "    path('criticize/', views.praise_or_criticize),\n",
    "    path('admin/', admin.site.urls),\n",
    "]\n",
    "```"
   ]
  },
  {
   "cell_type": "markdown",
   "metadata": {},
   "source": [
    "设计视图函数`praise_or_criticize`来支持“好评”和“差评”功能，该视图函数通过Django封装的JsonResponse类将字典序列化成JSON字符串作为返回给浏览器的响应内容。\n",
    "\n",
    "```Python\n",
    "def praise_or_criticize(request):\n",
    "    \"\"\"好评\"\"\"\n",
    "    try:\n",
    "        tno = int(request.GET.get('tno'))\n",
    "        teacher = Teacher.objects.get(no=tno)\n",
    "        if request.path.startswith('/praise'):\n",
    "            teacher.good_count += 1\n",
    "            count = teacher.good_count\n",
    "        else:\n",
    "            teacher.bad_count += 1\n",
    "            count = teacher.bad_count\n",
    "        teacher.save()\n",
    "        data = {'code': 20000, 'mesg': '操作成功', 'count': count}\n",
    "    except (ValueError, Teacher.DoseNotExist):\n",
    "        data = {'code': 20001, 'mesg': '操作失败'}\n",
    "    return JsonResponse(data)\n",
    "```"
   ]
  },
  {
   "cell_type": "markdown",
   "metadata": {},
   "source": [
    "修改显示老师信息的模板页，引入jQuery库来实现事件处理、Ajax请求和DOM操作。\n",
    "\n",
    "```HTML\n",
    "<!DOCTYPE html>\n",
    "<html lang=\"en\">\n",
    "<head>\n",
    "    <meta charset=\"UTF-8\">\n",
    "    <title>老师信息</title>\n",
    "    <style>\n",
    "        #container {\n",
    "            width: 80%;\n",
    "            margin: 10px auto;\n",
    "        }\n",
    "        .teacher {\n",
    "            width: 100%;\n",
    "            margin: 0 auto;\n",
    "            padding: 10px 0;\n",
    "            border-bottom: 1px dashed gray;\n",
    "            overflow: auto;\n",
    "        }\n",
    "        .teacher>div {\n",
    "            float: left;\n",
    "        }\n",
    "        .photo {\n",
    "            height: 140px;\n",
    "            border-radius: 75px;\n",
    "            overflow: hidden;\n",
    "            margin-left: 20px;\n",
    "        }\n",
    "        .info {\n",
    "            width: 75%;\n",
    "            margin-left: 30px;\n",
    "        }\n",
    "        .info div {\n",
    "            clear: both;\n",
    "            margin: 5px 10px;\n",
    "        }\n",
    "        .info span {\n",
    "            margin-right: 25px;\n",
    "        }\n",
    "        .info a {\n",
    "            text-decoration: none;\n",
    "            color: darkcyan;\n",
    "        }\n",
    "    </style>\n",
    "</head>\n",
    "<body>\n",
    "    <div id=\"container\">\n",
    "        <h1>{{ subject.name }}学科的老师信息</h1>\n",
    "        <hr>\n",
    "        {% if not teachers %}\n",
    "            <h2>暂无该学科老师信息</h2>\n",
    "        {% endif %}\n",
    "        {% for teacher in teachers %}\n",
    "        <div class=\"teacher\">\n",
    "            <div class=\"photo\">\n",
    "                <img src=\"/static/images/{{ teacher.photo }}\" height=\"140\" alt=\"\">\n",
    "            </div>\n",
    "            <div class=\"info\">\n",
    "                <div>\n",
    "                    <span><strong>姓名：{{ teacher.name }}</strong></span>\n",
    "                    <span>性别：{{ teacher.sex | yesno:'男,女' }}</span>\n",
    "                    <span>出生日期：{{ teacher.birth }}</span>\n",
    "                </div>\n",
    "                <div class=\"intro\">{{ teacher.intro }}</div>\n",
    "                <div class=\"comment\">\n",
    "                    <a href=\"/praise/?tno={{ teacher.no }}\">好评</a>&nbsp;&nbsp;\n",
    "                    (<strong>{{ teacher.good_count }}</strong>)\n",
    "                    &nbsp;&nbsp;&nbsp;&nbsp;\n",
    "                    <a href=\"/criticize/?tno={{ teacher.no }}\">差评</a>&nbsp;&nbsp;\n",
    "                    (<strong>{{ teacher.bad_count }}</strong>)\n",
    "                </div>\n",
    "            </div>\n",
    "        </div>\n",
    "        {% endfor %}\n",
    "        <a href=\"/\">返回首页</a>\n",
    "    </div>\n",
    "    <script src=\"https://cdn.bootcss.com/jquery/3.4.1/jquery.min.js\"></script>\n",
    "    <script>\n",
    "        $(() => {\n",
    "            $('.comment>a').on('click', (evt) => {\n",
    "                evt.preventDefault()\n",
    "                let url = $(evt.target).attr('href')\n",
    "                $.getJSON(url, (json) => {\n",
    "                    if (json.code == 20000) {\n",
    "                        $(evt.target).next().text(json.count)\n",
    "                    } else {\n",
    "                        alert(json.mesg)\n",
    "                    }\n",
    "                })\n",
    "            })\n",
    "        })\n",
    "    </script>\n",
    "</body>\n",
    "</html>\n",
    "```"
   ]
  },
  {
   "cell_type": "markdown",
   "metadata": {},
   "source": [
    "上面的前端代码中，使用了jQuery库封装的`getJSON`方法向服务器发送异步请求，如果不熟悉前端的jQuery库，可以参考[《jQuery API手册》](https://www.runoob.com/manual/jquery/)。"
   ]
  },
  {
   "cell_type": "markdown",
   "metadata": {},
   "source": [
    "### 小结\n",
    "\n",
    "到此为止，这个投票项目的核心功能已然完成，在下面的章节中我们会要求用户必须登录才能投票，没有账号的用户可以通过注册功能注册一个账号。"
   ]
  },
  {
   "cell_type": "markdown",
   "metadata": {},
   "source": [
    "## Cookie和Session\n",
    "\n",
    "我们继续来完成上一章节中的项目，实现“用户登录”的功能，并限制只有登录的用户才能投票。"
   ]
  },
  {
   "cell_type": "markdown",
   "metadata": {},
   "source": [
    "### 用户登录的准备工作\n",
    "\n",
    "我们先为实现用户登录做一些准备工作。\n",
    "\n",
    "1. 创建用户模型。之前我们讲解过如果通过Django的ORM实现从二维表到模型的转换（反向工程），这次我们尝试把模型变成二维表（正向工程）。\n",
    "\n",
    "    ```Python\n",
    "    class User(models.Model):\n",
    "        \"\"\"用户\"\"\"\n",
    "        no = models.AutoField(primary_key=True, verbose_name='编号')\n",
    "        username = models.CharField(max_length=20, unique=True, verbose_name='用户名')\n",
    "        password = models.CharField(max_length=32, verbose_name='密码')\n",
    "        tel = models.CharField(max_length=20, verbose_name='手机号')\n",
    "        reg_date = models.DateTimeField(auto_now_add=True, verbose_name='注册时间')\n",
    "        last_visit = models.DateTimeField(null=True, verbose_name='最后登录时间')\n",
    "    \n",
    "        class Meta:\n",
    "            db_table = 'tb_user'\n",
    "            verbose_name = '用户'\n",
    "            verbose_name_plural = '用户'\n",
    "    ```"
   ]
  },
  {
   "cell_type": "markdown",
   "metadata": {},
   "source": [
    "    \n",
    "2. 使用下面的命令生成迁移文件并执行迁移，将`User`模型直接变成关系型数据库中的二维表`tb_user`。\n",
    "\n",
    "    ```Bash\n",
    "    python manage.py makemigrations polls\n",
    "    python manage.py migrate polls\n",
    "    ```"
   ]
  },
  {
   "cell_type": "markdown",
   "metadata": {},
   "source": [
    "3. 用下面的SQL语句直接插入两条测试数据，通常不能将用户的密码直接保存在数据库中，因此我们将用户密码处理成对应的MD5摘要。MD5消息摘要算法是一种被广泛使用的密码哈希函数（散列函数），可以产生出一个128位（比特）的哈希值（散列值），用于确保信息传输完整一致。在使用哈希值时，通常会将哈希值表示为16进制字符串，因此128位的MD5摘要通常表示为32个十六进制符号。\n",
    "\n",
    "    ```SQL\n",
    "    insert into `tb_user`\n",
    "        (`username`, `password`, `tel`, `reg_date`)\n",
    "    values\n",
    "        ('wangdachui', '1c63129ae9db9c60c3e8aa94d3e00495', '13122334455', now()),\n",
    "        ('hellokitty', 'c6f8cf68e5f68b0aa4680e089ee4742c', '13890006789', now());\n",
    "    ```\n",
    "\n",
    "    > **说明**：上面创建的两个用户`wangdachui`和`hellokitty`密码分别是`1qaz2wsx`和`Abc123!!`。"
   ]
  },
  {
   "cell_type": "markdown",
   "metadata": {},
   "source": [
    "4. 我们在应用下增加一个名为`utils.py`的模块用来保存需要使用的工具函数。Python标准库中的`hashlib`模块封装了常用的哈希算法，包括：MD5、SHA1、SHA256等。下面是使用`hashlib`中的`md5`类将字符串处理成MD5摘要的函数如下所示。\n",
    "\n",
    "    ```Python\n",
    "    import hashlib\n",
    "    \n",
    "    \n",
    "    def gen_md5_digest(content):\n",
    "        return hashlib.md5(content.encode()).hexdigest()\n",
    "    ```"
   ]
  },
  {
   "cell_type": "markdown",
   "metadata": {},
   "source": [
    "5. 编写用户登录的视图函数和模板页。\n",
    "\n",
    "    添加渲染登录页面的视图函数：\n",
    "\n",
    "    ```Python\n",
    "    def login(request: HttpRequest) -> HttpResponse:\n",
    "        hint = ''\n",
    "        return render(request, 'login.html', {'hint': hint})\n",
    "    ```"
   ]
  },
  {
   "cell_type": "markdown",
   "metadata": {},
   "source": [
    "    增加`login.html`模板页：\n",
    "\n",
    "    ```HTML\n",
    "    <!DOCTYPE html>\n",
    "    <html lang=\"en\">\n",
    "    <head>\n",
    "        <meta charset=\"UTF-8\">\n",
    "        <title>用户登录</title>\n",
    "        <style>\n",
    "            #container {\n",
    "                width: 520px;\n",
    "                margin: 10px auto;\n",
    "            }\n",
    "            .input {\n",
    "                margin: 20px 0;\n",
    "                width: 460px;\n",
    "                height: 40px;\n",
    "            }\n",
    "            .input>label {\n",
    "                display: inline-block;\n",
    "                width: 140px;\n",
    "                text-align: right;\n",
    "            }\n",
    "            .input>img {\n",
    "                width: 150px;\n",
    "                vertical-align: middle;\n",
    "            }\n",
    "            input[name=captcha] {\n",
    "                vertical-align: middle;\n",
    "            }\n",
    "            form+div {\n",
    "                margin-top: 20px;\n",
    "            }\n",
    "            form+div>a {\n",
    "                text-decoration: none;\n",
    "                color: darkcyan;\n",
    "                font-size: 1.2em;\n",
    "            }\n",
    "            .button {\n",
    "                width: 500px;\n",
    "                text-align: center;\n",
    "                margin-top: 20px;\n",
    "            }\n",
    "            .hint {\n",
    "                color: red;\n",
    "                font-size: 12px;\n",
    "            }\n",
    "        </style>\n",
    "    </head>\n",
    "    <body>\n",
    "        <div id=\"container\">\n",
    "            <h1>用户登录</h1>\n",
    "            <hr>\n",
    "            <p class=\"hint\">{{ hint }}</p>\n",
    "            <form action=\"/login/\" method=\"post\">\n",
    "                {% csrf_token %}\n",
    "                <fieldset>\n",
    "                    <legend>用户信息</legend>\n",
    "                    <div class=\"input\">\n",
    "                        <label>用户名：</label>\n",
    "                        <input type=\"text\" name=\"username\">\n",
    "                    </div>\n",
    "                    <div class=\"input\">\n",
    "                        <label>密码：</label>\n",
    "                        <input type=\"password\" name=\"password\">\n",
    "                    </div>\n",
    "                    <div class=\"input\">\n",
    "                        <label>验证码：</label>\n",
    "                        <input type=\"text\" name=\"captcha\">\n",
    "                        <img id=\"code\" src=\"/captcha/\" alt=\"\" width=\"150\" height=\"40\">\n",
    "                    </div>\n",
    "                </fieldset>\n",
    "                <div class=\"button\">\n",
    "                    <input type=\"submit\" value=\"登录\">\n",
    "                    <input type=\"reset\" value=\"重置\">\n",
    "                </div>\n",
    "            </form>\n",
    "            <div>\n",
    "                <a href=\"/\">返回首页</a>\n",
    "                <a href=\"/register/\">注册新用户</a>\n",
    "            </div>\n",
    "        </div>\n",
    "    </body>\n",
    "    </html>\n",
    "    ```"
   ]
  },
  {
   "cell_type": "markdown",
   "metadata": {},
   "source": [
    "    注意，在上面的表单中，我们使用了模板指令`{% csrf_token %}`为表单添加一个隐藏域（大家可以在浏览器中显示网页源代码就可以看到这个指令生成的`type`属性为`hidden`的`input`标签），它的作用是在表单中生成一个随机令牌（token）来防范[跨站请求伪造](<https://zh.wikipedia.org/wiki/%E8%B7%A8%E7%AB%99%E8%AF%B7%E6%B1%82%E4%BC%AA%E9%80%A0>)（简称为CSRF），这也是Django在提交表单时的硬性要求。如果我们的表单中没有这样的令牌，那么提交表单时，Django框架会产生一个响应状态码为`403`的响应（禁止访问），除非我们设置了免除CSRF令牌。下图是一个关于CSRF简单生动的例子。\n",
    "\n",
    "    ![](./res/csrf-simple.png)"
   ]
  },
  {
   "cell_type": "markdown",
   "metadata": {},
   "source": [
    "接下来，我们可以编写提供验证码和实现用户登录的视图函数，在此之前，我们先说说一个Web应用实现用户跟踪的方式以及Django框架对实现用户跟踪所提供的支持。对一个Web应用来说，用户登录成功后必然要让服务器能够记住该用户已经登录，这样服务器才能为这个用户提供更好的服务，而且上面说到的CSRF也是通过钓鱼网站来套取用户登录信息进行恶意操作的攻击手段，这些都是以用户跟踪技术为基础的。在理解了这些背景知识后，我们就清楚用户登录时到底需要执行哪些操作。"
   ]
  },
  {
   "cell_type": "markdown",
   "metadata": {},
   "source": [
    "### 实现用户跟踪\n",
    "\n",
    "如今，一个网站如果不通过某种方式记住你是谁以及你之前在网站的活动情况，失去的就是网站的可用性和便利性，继而很有可能导致网站用户的流式，所以记住一个用户（更专业的说法叫**用户跟踪**）对绝大多数Web应用来说都是必需的功能。"
   ]
  },
  {
   "cell_type": "markdown",
   "metadata": {},
   "source": [
    "在服务器端，我们想记住一个用户最简单的办法就是创建一个对象，通过这个对象就可以把用户相关的信息都保存起来，这个对象就是我们常说的session（用户会话对象）。那么问题来了，HTTP本身是一个**无连接**（每次请求和响应的过程中，服务器一旦完成对客户端请求的响应之后就断开连接）、**无状态**（客户端再次发起对服务器的请求时，服务器无法得知这个客户端之前的任何信息）的协议，即便服务器通过session对象保留了用户数据，还得通过某种方式来确定当前的请求与之前保存过的哪一个session是有关联的。相信很多人都能想到，我们可以给每个session对象分配一个全局唯一的标识符来识别session对象，我们姑且称之为sessionid，每次客户端发起请求时，只要携带上这个sessionid，就有办法找到与之对应的session对象，从而实现在两次请求之间记住该用户的信息，也就是我们之前说的用户跟踪。"
   ]
  },
  {
   "cell_type": "markdown",
   "metadata": {},
   "source": [
    "要让客户端记住并在每次请求时带上sessionid又有以下几种做法：\n",
    "\n",
    "1. URL重写。所谓URL重写就是在URL中携带sessionid，例如：`http://www.example.com/index.html?sessionid=123456`，服务器通过获取sessionid参数的值来取到与之对应的session对象。"
   ]
  },
  {
   "cell_type": "markdown",
   "metadata": {},
   "source": [
    "2. 隐藏域（隐式表单域）。在提交表单的时候，可以通过在表单中设置隐藏域向服务器发送额外的数据。例如：`<input type=\"hidden\" name=\"sessionid\" value=\"123456\">`。"
   ]
  },
  {
   "cell_type": "markdown",
   "metadata": {},
   "source": [
    "3. 本地存储。现在的浏览器都支持多种本地存储方案，包括：cookie、localStorage、sessionStorage、IndexedDB等。在这些方案中，cookie是历史最为悠久也是被诟病得最多的一种方案，也是我们接下来首先为大家讲解的一种方案。简单的说，cookie是一种以键值对方式保存在浏览器临时文件中的数据，每次请求时，请求头中会携带本站点的cookie到服务器，那么只要将sessionid写入cookie，下次请求时服务器只要读取请求头中的cookie就能够获得这个sessionid，如下图所示。\n",
    "\n",
    "   ![](./res/sessionid_from_cookie.png)"
   ]
  },
  {
   "cell_type": "markdown",
   "metadata": {},
   "source": [
    "   在HTML5时代要，除了cookie，还可以使用新的本地存储API来保存数据，就是刚才提到的localStorage、sessionStorage、IndexedDB等技术，如下图所示。\n",
    "\n",
    "   ![](./res/cookie_xstorage_indexeddb.png)"
   ]
  },
  {
   "cell_type": "markdown",
   "metadata": {},
   "source": [
    "**总结一下**，要实现用户跟踪，服务器端可以为每个用户会话创建一个session对象并将session对象的ID写入到浏览器的cookie中；用户下次请求服务器时，浏览器会在HTTP请求头中携带该网站保存的cookie信息，这样服务器就可以从cookie中找到session对象的ID并根据此ID获取到之前创建的session对象；由于session对象可以用键值对的方式保存用户数据，这样之前保存在session对象中的信息可以悉数取出，服务器也可以根据这些信息判定用户身份和了解用户偏好，为用户提供更好的个性化服务。"
   ]
  },
  {
   "cell_type": "markdown",
   "metadata": {},
   "source": [
    "### Django框架对session的支持\n",
    "\n",
    "在创建Django项目时，默认的配置文件`settings.py`文件中已经激活了一个名为`SessionMiddleware`的中间件（关于中间件的知识我们在后面的章节做详细讲解，这里只需要知道它的存在即可），因为这个中间件的存在，我们可以直接通过请求对象的`session`属性来操作会话对象。前面我们说过，`session`属性是一个像字典一样可以读写数据的容器对象，因此我们可以使用“键值对”的方式来保留用户数据。与此同时，`SessionMiddleware`中间件还封装了对cookie的操作，在cookie中保存了sessionid，这一点我们在上面已经提到过了。"
   ]
  },
  {
   "cell_type": "markdown",
   "metadata": {},
   "source": [
    "在默认情况下，Django将session的数据序列化后保存在关系型数据库中，在Django 1.6以后的版本中，默认的序列化数据的方式是JSON序列化，而在此之前一直使用Pickle序列化。JSON序列化和Pickle序列化的差别在于前者将对象序列化为字符串（字符形式），而后者将对象序列化为字节串（二进制形式），因为安全方面的原因，JSON序列化成为了目前Django框架默认序列化数据的方式，这就要求在我们保存在session中的数据必须是能够JSON序列化的，否则就会引发异常。还有一点需要说明的是，使用关系型数据库保存session中的数据在大多数时候并不是最好的选择，因为数据库可能会承受巨大的压力而成为系统性能的瓶颈，在后面的章节中我们会告诉大家如何将session保存到缓存服务中以提升系统的性能。"
   ]
  },
  {
   "cell_type": "markdown",
   "metadata": {},
   "source": [
    "### 实现用户登录验证\n",
    "\n",
    "首先，我们在刚才的`polls/utils.py`文件中编写生成随机验证码的函数`gen_random_code`，内容如下所示。"
   ]
  },
  {
   "cell_type": "markdown",
   "metadata": {},
   "source": [
    "```Python\n",
    "import random\n",
    "\n",
    "ALL_CHARS = '0123456789abcdefghijklmnopqrstuvwxyzABCDEFGHIJKLMNOPQRSTUVWXYZ'\n",
    "\n",
    "\n",
    "def gen_random_code(length=4):\n",
    "    return ''.join(random.choices(ALL_CHARS, k=length))\n",
    "```"
   ]
  },
  {
   "cell_type": "markdown",
   "metadata": {},
   "source": [
    "编写生成验证码图片的类`Captcha`。\n",
    "\n",
    "\n",
    "\"\"\"\n",
    "图片验证码\n",
    "\"\"\"\n",
    "import os\n",
    "import random\n",
    "from io import BytesIO\n",
    "\n",
    "from PIL import Image\n",
    "from PIL import ImageFilter\n",
    "from PIL.ImageDraw import Draw\n",
    "from PIL.ImageFont import truetype"
   ]
  },
  {
   "cell_type": "markdown",
   "metadata": {},
   "source": [
    "class Bezier:\n",
    "    \"\"\"贝塞尔曲线\"\"\"\n",
    "\n",
    "    def __init__(self):\n",
    "        self.tsequence = tuple([t / 20.0 for t in range(21)])\n",
    "        self.beziers = {}\n",
    "\n",
    "    def make_bezier(self, n):\n",
    "        \"\"\"绘制贝塞尔曲线\"\"\"\n",
    "        try:\n",
    "            return self.beziers[n]\n",
    "        except KeyError:\n",
    "            combinations = pascal_row(n - 1)\n",
    "            result = []\n",
    "            for t in self.tsequence:\n",
    "                tpowers = (t ** i for i in range(n))\n",
    "                upowers = ((1 - t) ** i for i in range(n - 1, -1, -1))\n",
    "                coefs = [c * a * b for c, a, b in zip(combinations,\n",
    "                                                      tpowers, upowers)]\n",
    "                result.append(coefs)\n",
    "            self.beziers[n] = result\n",
    "            return result"
   ]
  },
  {
   "cell_type": "markdown",
   "metadata": {},
   "source": [
    "class Bezier:\n",
    "    \"\"\"贝塞尔曲线\"\"\"\n",
    "\n",
    "    def __init__(self):\n",
    "        self.tsequence = tuple([t / 20.0 for t in range(21)])\n",
    "        self.beziers = {}\n",
    "\n",
    "    def make_bezier(self, n):\n",
    "        \"\"\"绘制贝塞尔曲线\"\"\"\n",
    "        try:\n",
    "            return self.beziers[n]\n",
    "        except KeyError:\n",
    "            combinations = pascal_row(n - 1)\n",
    "            result = []\n",
    "            for t in self.tsequence:\n",
    "                tpowers = (t ** i for i in range(n))\n",
    "                upowers = ((1 - t) ** i for i in range(n - 1, -1, -1))\n",
    "                coefs = [c * a * b for c, a, b in zip(combinations,\n",
    "                                                      tpowers, upowers)]\n",
    "                result.append(coefs)\n",
    "            self.beziers[n] = result\n",
    "            return result"
   ]
  },
  {
   "cell_type": "markdown",
   "metadata": {},
   "source": [
    "class Captcha:\n",
    "    \"\"\"验证码\"\"\"\n",
    "\n",
    "    def __init__(self, width, height, fonts=None, color=None):\n",
    "        self._image = None\n",
    "        self._fonts = fonts if fonts else \\\n",
    "            [os.path.join(os.path.dirname(__file__), 'fonts', font)\n",
    "             for font in ['Arial.ttf', 'Georgia.ttf', 'Action.ttf']]\n",
    "        self._color = color if color else random_color(0, 200, random.randint(220, 255))\n",
    "        self._width, self._height = width, height\n",
    "\n",
    "    @classmethod\n",
    "    def instance(cls, width=200, height=75):\n",
    "        \"\"\"用于获取Captcha对象的类方法\"\"\"\n",
    "        prop_name = f'_instance_{width}_{height}'\n",
    "        if not hasattr(cls, prop_name):\n",
    "            setattr(cls, prop_name, cls(width, height))\n",
    "        return getattr(cls, prop_name)\n",
    "\n",
    "    def _background(self):\n",
    "        \"\"\"绘制背景\"\"\"\n",
    "        Draw(self._image).rectangle([(0, 0), self._image.size],\n",
    "                                    fill=random_color(230, 255))\n",
    "\n",
    "    def _smooth(self):\n",
    "        \"\"\"平滑图像\"\"\"\n",
    "        return self._image.filter(ImageFilter.SMOOTH)\n",
    "\n",
    "    def _curve(self, width=4, number=6, color=None):\n",
    "        \"\"\"绘制曲线\"\"\"\n",
    "        dx, height = self._image.size\n",
    "        dx /= number\n",
    "        path = [(dx * i, random.randint(0, height))\n",
    "                for i in range(1, number)]\n",
    "        bcoefs = Bezier().make_bezier(number - 1)\n",
    "        points = []\n",
    "        for coefs in bcoefs:\n",
    "            points.append(tuple(sum([coef * p for coef, p in zip(coefs, ps)])\n",
    "                                for ps in zip(*path)))\n",
    "        Draw(self._image).line(points, fill=color if color else self._color, width=width)\n",
    "\n",
    "    def _noise(self, number=50, level=2, color=None):\n",
    "        \"\"\"绘制扰码\"\"\"\n",
    "        width, height = self._image.size\n",
    "        dx, dy = width / 10, height / 10\n",
    "        width, height = width - dx, height - dy\n",
    "        draw = Draw(self._image)\n",
    "        for i in range(number):\n",
    "            x = int(random.uniform(dx, width))\n",
    "            y = int(random.uniform(dy, height))\n",
    "            draw.line(((x, y), (x + level, y)),\n",
    "                      fill=color if color else self._color, width=level)\n",
    "\n",
    "    def _text(self, captcha_text, fonts, font_sizes=None, drawings=None, squeeze_factor=0.75, color=None):\n",
    "        \"\"\"绘制文本\"\"\"\n",
    "        color = color if color else self._color\n",
    "        fonts = tuple([truetype(name, size)\n",
    "                       for name in fonts\n",
    "                       for size in font_sizes or (65, 70, 75)])\n",
    "        draw = Draw(self._image)\n",
    "        char_images = []\n",
    "        for c in captcha_text:\n",
    "            font = random.choice(fonts)\n",
    "            c_width, c_height = draw.textsize(c, font=font)\n",
    "            char_image = Image.new('RGB', (c_width, c_height), (0, 0, 0))\n",
    "            char_draw = Draw(char_image)\n",
    "            char_draw.text((0, 0), c, font=font, fill=color)\n",
    "            char_image = char_image.crop(char_image.getbbox())\n",
    "            for drawing in drawings:\n",
    "                d = getattr(self, drawing)\n",
    "                char_image = d(char_image)\n",
    "            char_images.append(char_image)\n",
    "        width, height = self._image.size\n",
    "        offset = int((width - sum(int(i.size[0] * squeeze_factor)\n",
    "                                  for i in char_images[:-1]) -\n",
    "                      char_images[-1].size[0]) / 2)\n",
    "        for char_image in char_images:\n",
    "            c_width, c_height = char_image.size\n",
    "            mask = char_image.convert('L').point(lambda i: i * 1.97)\n",
    "            self._image.paste(char_image,\n",
    "                              (offset, int((height - c_height) / 2)),\n",
    "                              mask)\n",
    "            offset += int(c_width * squeeze_factor)\n",
    "\n",
    "    @staticmethod\n",
    "    def _warp(image, dx_factor=0.3, dy_factor=0.3):\n",
    "        \"\"\"图像扭曲\"\"\"\n",
    "        width, height = image.size\n",
    "        dx = width * dx_factor\n",
    "        dy = height * dy_factor\n",
    "        x1 = int(random.uniform(-dx, dx))\n",
    "        y1 = int(random.uniform(-dy, dy))\n",
    "        x2 = int(random.uniform(-dx, dx))\n",
    "        y2 = int(random.uniform(-dy, dy))\n",
    "        warp_image = Image.new(\n",
    "            'RGB',\n",
    "            (width + abs(x1) + abs(x2), height + abs(y1) + abs(y2)))\n",
    "        warp_image.paste(image, (abs(x1), abs(y1)))\n",
    "        width2, height2 = warp_image.size\n",
    "        return warp_image.transform(\n",
    "            (width, height),\n",
    "            Image.QUAD,\n",
    "            (x1, y1, -x1, height2 - y2, width2 + x2, height2 + y2, width2 - x2, -y1))\n",
    "\n",
    "    @staticmethod\n",
    "    def _offset(image, dx_factor=0.1, dy_factor=0.2):\n",
    "        \"\"\"图像偏移\"\"\"\n",
    "        width, height = image.size\n",
    "        dx = int(random.random() * width * dx_factor)\n",
    "        dy = int(random.random() * height * dy_factor)\n",
    "        offset_image = Image.new('RGB', (width + dx, height + dy))\n",
    "        offset_image.paste(image, (dx, dy))\n",
    "        return offset_image\n",
    "\n",
    "    @staticmethod\n",
    "    def _rotate(image, angle=25):\n",
    "        \"\"\"图像旋转\"\"\"\n",
    "        return image.rotate(random.uniform(-angle, angle),\n",
    "                            Image.BILINEAR, expand=1)\n",
    "\n",
    "    def generate(self, captcha_text='', fmt='PNG'):\n",
    "        \"\"\"生成验证码(文字和图片)\n",
    "        :param captcha_text: 验证码文字\n",
    "        :param fmt: 生成的验证码图片格式\n",
    "        :return: 验证码图片的二进制数据\n",
    "        \"\"\"\n",
    "        self._image = Image.new('RGB', (self._width, self._height), (255, 255, 255))\n",
    "        self._background()\n",
    "        self._text(captcha_text, self._fonts,\n",
    "                   drawings=['_warp', '_rotate', '_offset'])\n",
    "        self._curve()\n",
    "        self._noise()\n",
    "        self._smooth()\n",
    "        image_bytes = BytesIO()\n",
    "        self._image.save(image_bytes, format=fmt)\n",
    "        return image_bytes.getvalue()"
   ]
  },
  {
   "cell_type": "markdown",
   "metadata": {},
   "source": [
    "def pascal_row(n=0):\n",
    "    \"\"\"生成毕达哥拉斯三角形（杨辉三角）\"\"\"\n",
    "    result = [1]\n",
    "    x, numerator = 1, n\n",
    "    for denominator in range(1, n // 2 + 1):\n",
    "        x *= numerator\n",
    "        x /= denominator\n",
    "        result.append(x)\n",
    "        numerator -= 1\n",
    "    if n & 1 == 0:\n",
    "        result.extend(reversed(result[:-1]))\n",
    "    else:\n",
    "        result.extend(reversed(result))\n",
    "    return result\n",
    "\n",
    "\n",
    "def random_color(start=0, end=255, opacity=255):\n",
    "    \"\"\"获得随机颜色\"\"\"\n",
    "    red = random.randint(start, end)\n",
    "    green = random.randint(start, end)\n",
    "    blue = random.randint(start, end)\n",
    "    if opacity is None:\n",
    "        return red, green, blue\n",
    "    return red, green, blue, opacity"
   ]
  },
  {
   "cell_type": "markdown",
   "metadata": {},
   "source": [
    "> **说明**：上面的代码中用到了三个字体文件，字体文件位于`polls/fonts`目录下，大家可以自行添加字体文件，但是需要注意字体文件的文件名跟上面代码的第45行保持一致。\n",
    "\n",
    "接下来，我们先完成提供验证码的视图函数。"
   ]
  },
  {
   "cell_type": "markdown",
   "metadata": {},
   "source": [
    "```Python\n",
    "def get_captcha(request: HttpRequest) -> HttpResponse:\n",
    "    \"\"\"验证码\"\"\"\n",
    "    captcha_text = gen_random_code()\n",
    "    request.session['captcha'] = captcha_text\n",
    "    image_data = Captcha.instance().generate(captcha_text)\n",
    "    return HttpResponse(image_data, content_type='image/png')\n",
    "```"
   ]
  },
  {
   "cell_type": "markdown",
   "metadata": {},
   "source": [
    "注意上面代码中的第4行，我们将随机生成的验证码字符串保存到session中，稍后用户登录时，我们要将保存在session中的验证码字符串和用户输入的验证码字符串进行比对，如果用户输入了正确的验证码才能够执行后续的登录流程，代码如下所示。"
   ]
  },
  {
   "cell_type": "markdown",
   "metadata": {},
   "source": [
    "```Python\n",
    "def login(request: HttpRequest) -> HttpResponse:\n",
    "    hint = ''\n",
    "    if request.method == 'POST':\n",
    "        username = request.POST.get('username')\n",
    "        password = request.POST.get('password')\n",
    "        if username and password:\n",
    "            password = gen_md5_digest(password)\n",
    "            user = User.objects.filter(username=username, password=password).first()\n",
    "            if user:\n",
    "                request.session['userid'] = user.no\n",
    "                request.session['username'] = user.username\n",
    "                return redirect('/')\n",
    "            else:\n",
    "                hint = '用户名或密码错误'\n",
    "        else:\n",
    "            hint = '请输入有效的用户名和密码'\n",
    "    return render(request, 'login.html', {'hint': hint})\n",
    "```"
   ]
  },
  {
   "cell_type": "markdown",
   "metadata": {},
   "source": [
    ">**说明**：上面的代码没有对用户名和密码没有进行验证，实际项目中建议使用正则表达式验证用户输入信息，否则有可能将无效的数据交给数据库进行处理或者造成其他安全方面的隐患。"
   ]
  },
  {
   "cell_type": "markdown",
   "metadata": {},
   "source": [
    "上面的代码中，我们设定了登录成功后会在session中保存用户的编号（`userid`）和用户名（`username`），页面会重定向到首页。接下来我们可以稍微对首页的代码进行调整，在页面的右上角显示出登录用户的用户名。我们将这段代码单独写成了一个名为header.html的HTML文件，首页中可以通过在`<body>`标签中添加`{% include 'header.html' %}`来包含这个页面，代码如下所示。"
   ]
  },
  {
   "cell_type": "markdown",
   "metadata": {},
   "source": [
    "```HTML\n",
    "<div class=\"user\">\n",
    "    {% if request.session.userid %}\n",
    "    <span>{{ request.session.username }}</span>\n",
    "    <a href=\"/logout\">注销</a>\n",
    "    {% else %}\n",
    "    <a href=\"/login\">登录</a>&nbsp;&nbsp;\n",
    "    {% endif %}\n",
    "    <a href=\"/register\">注册</a>\n",
    "</div>\n",
    "```"
   ]
  },
  {
   "cell_type": "markdown",
   "metadata": {},
   "source": [
    "如果用户没有登录，页面会显示登录和注册的超链接；而用户登录成功后，页面上会显示用户名和注销的链接，注销链接对应的视图函数如下所示，URL的映射与之前讲过的类似，不再赘述。\n",
    "\n",
    "```Python\n",
    "def logout(request):\n",
    "    \"\"\"注销\"\"\"\n",
    "    request.session.flush()\n",
    "    return redirect('/')\n",
    "```"
   ]
  },
  {
   "cell_type": "markdown",
   "metadata": {},
   "source": [
    "上面的代码通过session对象`flush`方法来销毁session，一方面清除了服务器上session对象保存的用户数据，一方面将保存在浏览器cookie中的sessionid删除掉，稍后我们会对如何读写cookie的操作加以说明。\n",
    "\n",
    "我们可以通过项目使用的数据库中名为`django_session` 的表来找到所有的session，该表的结构如下所示："
   ]
  },
  {
   "cell_type": "markdown",
   "metadata": {},
   "source": [
    "| session_key                      | session_data                    | expire_date                |\n",
    "| -------------------------------- | ------------------------------- | -------------------------- |\n",
    "| c9g2gt5cxo0k2evykgpejhic5ae7bfpl | MmI4YzViYjJhOGMyMDJkY2M5Yzg3... | 2019-05-25 23:16:13.898522 |"
   ]
  },
  {
   "cell_type": "markdown",
   "metadata": {},
   "source": [
    "其中，第1列就是浏览器cookie中保存的sessionid；第2列是经过BASE64编码后的session中的数据，如果使用Python的`base64`对其进行解码，解码的过程和结果如下所示。"
   ]
  },
  {
   "cell_type": "markdown",
   "metadata": {},
   "source": [
    "```Python\n",
    "import base64\n",
    "\n",
    "base64.b64decode('MmI4YzViYjJhOGMyMDJkY2M5Yzg3ZWIyZGViZmUzYmYxNzdlNDdmZjp7ImNhcHRjaGEiOiJzS3d0Iiwibm8iOjEsInVzZXJuYW1lIjoiamFja2ZydWVkIn0=')\n",
    "```"
   ]
  },
  {
   "cell_type": "markdown",
   "metadata": {},
   "source": [
    "第3列是session的过期时间，session过期后浏览器保存的cookie中的sessionid就会失效，但是数据库中的这条对应的记录仍然会存在，如果想清除过期的数据，可以使用下面的命令。\n",
    "\n",
    "```Shell\n",
    "python manage.py clearsessions\n",
    "```"
   ]
  },
  {
   "cell_type": "markdown",
   "metadata": {},
   "source": [
    "Django框架默认的session过期时间为两周（1209600秒），如果想修改这个时间，可以在项目的配置文件中添加如下所示的代码。\n",
    "\n",
    "```Python\n",
    "# 配置会话的超时时间为1天（86400秒）\n",
    "SESSION_COOKIE_AGE = 86400\n",
    "```"
   ]
  },
  {
   "cell_type": "markdown",
   "metadata": {},
   "source": [
    "有很多对安全性要求较高的应用都必须在关闭浏览器窗口时让会话过期，不再保留用户的任何信息，如果希望在关闭浏览器窗口时就让会话过期（cookie中的sessionid失效），可以加入如下所示的配置。\n",
    "\n",
    "```Python\n",
    "# 设置为True在关闭浏览器窗口时session就过期\n",
    "SESSION_EXPIRE_AT_BROWSER_CLOSE = True\n",
    "```"
   ]
  },
  {
   "cell_type": "markdown",
   "metadata": {},
   "source": [
    "如果不希望将session的数据保存在数据库中，可以将其放入缓存中，对应的配置如下所示，缓存的配置和使用我们在后面讲解。\n",
    "\n",
    "```Python\n",
    "# 配置将会话对象放到缓存中存储\n",
    "SESSION_ENGINE = 'django.contrib.sessions.backends.cache'\n",
    "# 配置使用哪一组缓存来保存会话\n",
    "SESSION_CACHE_ALIAS = 'default'\n",
    "```"
   ]
  },
  {
   "cell_type": "markdown",
   "metadata": {},
   "source": [
    "如果要修改session数据默认的序列化方式，可以将默认的`JSONSerializer`修改为`PickleSerializer`。\n",
    "\n",
    "```Python\n",
    "SESSION_SERIALIZER = 'django.contrib.sessions.serializers.PickleSerializer'\n",
    "```"
   ]
  },
  {
   "cell_type": "markdown",
   "metadata": {},
   "source": [
    "接下来，我们就可以限制只有登录用户才能为老师投票，修改后的`praise_or_criticize`函数如下所示，我们通过从`request.session`中获取`userid`来判定用户是否登录。"
   ]
  },
  {
   "cell_type": "markdown",
   "metadata": {},
   "source": [
    "```Python\n",
    "def praise_or_criticize(request: HttpRequest) -> HttpResponse:\n",
    "    if request.session.get('userid'):\n",
    "        try:\n",
    "            tno = int(request.GET.get('tno'))\n",
    "            teacher = Teacher.objects.get(no=tno)\n",
    "            if request.path.startswith('/praise/'):\n",
    "                teacher.good_count += 1\n",
    "                count = teacher.good_count\n",
    "            else:\n",
    "                teacher.bad_count += 1\n",
    "                count = teacher.bad_count\n",
    "            teacher.save()\n",
    "            data = {'code': 20000, 'mesg': '投票成功', 'count': count}\n",
    "        except (ValueError, Teacher.DoesNotExist):\n",
    "            data = {'code': 20001, 'mesg': '投票失败'}\n",
    "    else:\n",
    "        data = {'code': 20002, 'mesg': '请先登录'}\n",
    "    return JsonResponse(data)\n",
    "```"
   ]
  },
  {
   "cell_type": "markdown",
   "metadata": {},
   "source": [
    "当然，在修改了视图函数后，`teachers.html`也需要进行调整，用户如果没有登录，就将用户引导至登录页，登录成功再返回到投票页，此处不再赘述。"
   ]
  },
  {
   "cell_type": "markdown",
   "metadata": {},
   "source": [
    "### 在视图函数中读写cookie\n",
    "\n",
    "下面我们对如何使用cookie做一个更为细致的说明以便帮助大家在Web项目中更好的使用这项技术。Django封装的`HttpRequest`和`HttpResponse`对象分别提供了读写cookie的操作。"
   ]
  },
  {
   "cell_type": "markdown",
   "metadata": {},
   "source": [
    "HttpRequest封装的属性和方法：\n",
    "\n",
    "1. `COOKIES`属性 - 该属性包含了HTTP请求携带的所有cookie。\n",
    "2. `get_signed_cookie`方法 - 获取带签名的cookie，如果签名验证失败，会产生`BadSignature`异常。"
   ]
  },
  {
   "cell_type": "markdown",
   "metadata": {},
   "source": [
    "HttpResponse封装的方法：\n",
    "\n",
    "1. `set_cookie`方法 - 该方法可以设置一组键值对并将其最终将写入浏览器。\n",
    "2. `set_signed_cookie`方法 - 跟上面的方法作用相似，但是会对cookie进行签名来达到防篡改的作用。因为如果篡改了cookie中的数据，在不知道[密钥](<https://zh.wikipedia.org/wiki/%E5%AF%86%E9%92%A5>)和[盐](<https://zh.wikipedia.org/wiki/%E7%9B%90_(%E5%AF%86%E7%A0%81%E5%AD%A6)>)的情况下是无法生成有效的签名，这样服务器在读取cookie时会发现数据与签名不一致从而产生`BadSignature`异常。需要说明的是，这里所说的密钥就是我们在Django项目配置文件中指定的`SECRET_KEY`，而盐是程序中设定的一个字符串，你愿意设定为什么都可以，只要是一个有效的字符串。"
   ]
  },
  {
   "cell_type": "markdown",
   "metadata": {},
   "source": [
    "上面提到的方法，如果不清楚它们的具体用法，可以自己查阅一下Django的[官方文档](<https://docs.djangoproject.com/en/2.1/ref/request-response/>)，没有什么资料比官方文档能够更清楚的告诉你这些方法到底如何使用。"
   ]
  },
  {
   "cell_type": "markdown",
   "metadata": {},
   "source": [
    "刚才我们说过了，激活`SessionMiddleware`之后，每个`HttpRequest`对象都会绑定一个session属性，它是一个类似字典的对象，除了保存用户数据之外还提供了检测浏览器是否支持cookie的方法，包括："
   ]
  },
  {
   "cell_type": "markdown",
   "metadata": {},
   "source": [
    "1. `set_test_cookie`方法 - 设置用于测试的cookie。\n",
    "2. `test_cookie_worked`方法 - 检测测试cookie是否工作。\n",
    "3. `delete_test_cookie`方法 - 删除用于测试的cookie。\n",
    "4. `set_expiry`方法 - 设置会话的过期时间。\n",
    "5. `get_expire_age`/`get_expire_date`方法 - 获取会话的过期时间。\n",
    "6. `clear_expired`方法 - 清理过期的会话。"
   ]
  },
  {
   "cell_type": "markdown",
   "metadata": {},
   "source": [
    "下面是在执行登录之前检查浏览器是否支持cookie的代码。通常情况下，浏览器默认开启了对cookie的支持，但是可能因为某种原因，用户禁用了浏览器的cookie功能，遇到这种情况我们可以在视图函数中提供一个检查功能，如果检查到用户浏览器不支持cookie，可以给出相应的提示。"
   ]
  },
  {
   "cell_type": "markdown",
   "metadata": {},
   "source": [
    "```Python\n",
    "def login(request):\n",
    "    if request.method == 'POST':\n",
    "        if request.session.test_cookie_worked():\n",
    "            request.session.delete_test_cookie()\n",
    "            # Add your code to perform login process here\n",
    "        else:\n",
    "            return HttpResponse(\"Please enable cookies and try again.\")\n",
    "    request.session.set_test_cookie()\n",
    "    return render_to_response('login.html')\n",
    "```"
   ]
  },
  {
   "cell_type": "markdown",
   "metadata": {},
   "source": [
    "### Cookie的替代品\n",
    "\n",
    "之前我们说过了，cookie的名声一直都不怎么好，当然我们在实际开发中是不会在cookie中保存用户的敏感信息（如用户的密码、信用卡的账号等）的，而且保存在cookie中的数据一般也会做好编码和签名的工作。对于支持HTML5的浏览器来说，可以使用localStorage和sessionStorage做为cookie的替代方案，相信从名字上你就能听出二者的差别，存储在`localStorage`的数据可以长期保留；而存储在`sessionStorage`的数据会在浏览器关闭时会被清除 。关于这些cookie替代品的用法，建议大家查阅[MDN](<https://developer.mozilla.org/zh-CN/docs/Web>)来进行了解。 "
   ]
  },
  {
   "cell_type": "markdown",
   "metadata": {},
   "source": [
    "## 制作报表\n",
    "\n",
    "### 导出Excel报表\n",
    "\n",
    "报表就是用表格、图表等格式来动态显示数据，所以有人用这样的公式来描述报表：\n",
    "```\n",
    "报表 = 多样的格式 + 动态的数据\n",
    "```"
   ]
  },
  {
   "cell_type": "markdown",
   "metadata": {},
   "source": [
    "有很多的三方库支持在Python程序中写Excel文件，包括[`xlwt`](<https://xlwt.readthedocs.io/en/latest/>)、[`xlwings`](<https://docs.xlwings.org/en/latest/quickstart.html>)、[`openpyxl`](<https://openpyxl.readthedocs.io/en/latest/>)、[`xlswriter`](<https://xlsxwriter.readthedocs.io/>)等，其中的xlwt虽然只支持写xls格式的Excel文件，但在性能方面的表现还是不错的。下面我们就以`xlwt`为例，来演示如何在Django项目中导出Excel报表。"
   ]
  },
  {
   "cell_type": "markdown",
   "metadata": {},
   "source": [
    "安装`xlwt`。\n",
    "\n",
    "```Bash\n",
    "pip install xlwt\n",
    "```"
   ]
  },
  {
   "cell_type": "markdown",
   "metadata": {},
   "source": [
    "导出包含所有老师信息的Excel表格的视图函数。\n",
    "\n",
    "```Python\n",
    "def export_teachers_excel(request):\n",
    "    # 创建工作簿\n",
    "    wb = xlwt.Workbook()\n",
    "    # 添加工作表\n",
    "    sheet = wb.add_sheet('老师信息表')\n",
    "    # 查询所有老师的信息\n",
    "    queryset = Teacher.objects.all()\n",
    "    # 向Excel表单中写入表头\n",
    "    colnames = ('姓名', '介绍', '好评数', '差评数', '学科')\n",
    "    for index, name in enumerate(colnames):\n",
    "        sheet.write(0, index, name)\n",
    "    # 向单元格中写入老师的数据\n",
    "    props = ('name', 'detail', 'good_count', 'bad_count', 'subject')\n",
    "    for row, teacher in enumerate(queryset):\n",
    "        for col, prop in enumerate(props):\n",
    "            value = getattr(teacher, prop, '')\n",
    "            if isinstance(value, Subject):\n",
    "                value = value.name\n",
    "            sheet.write(row + 1, col, value)\n",
    "    # 保存Excel\n",
    "    buffer = BytesIO()\n",
    "    wb.save(buffer)\n",
    "    # 将二进制数据写入响应的消息体中并设置MIME类型\n",
    "    resp = HttpResponse(buffer.getvalue(), content_type='application/vnd.ms-excel')\n",
    "    # 中文文件名需要处理成百分号编码\n",
    "    filename = quote('老师.xls')\n",
    "    # 通过响应头告知浏览器下载该文件以及对应的文件名\n",
    "    resp['content-disposition'] = f'attachment; filename*=utf-8\\'\\'{filename}'\n",
    "    return resp\n",
    "```"
   ]
  },
  {
   "cell_type": "markdown",
   "metadata": {},
   "source": [
    "映射URL。\n",
    "\n",
    "```Python\n",
    "urlpatterns = [\n",
    "    \n",
    "    path('excel/', views.export_teachers_excel),\n",
    "    \n",
    "]\n",
    "```"
   ]
  },
  {
   "cell_type": "markdown",
   "metadata": {},
   "source": [
    "### 导出PDF报表\n",
    "\n",
    "在Django项目中，如果需要导出PDF报表，可以借助三方库`reportlab`来生成PDF文件的内容，再将文件的二进制数据输出给浏览器并指定MIME类型为`application/pdf`，具体的代码如下所示。"
   ]
  },
  {
   "cell_type": "markdown",
   "metadata": {},
   "source": [
    "```Python\n",
    "def export_pdf(request: HttpRequest) -> HttpResponse:\n",
    "    buffer = io.BytesIO()\n",
    "    pdf = canvas.Canvas(buffer)\n",
    "    pdf.setFont(\"Helvetica\", 80)\n",
    "    pdf.setFillColorRGB(0.2, 0.5, 0.3)\n",
    "    pdf.drawString(100, 550, 'hello, world!')\n",
    "    pdf.showPage()\n",
    "    pdf.save()\n",
    "    resp = HttpResponse(buffer.getvalue(), content_type='application/pdf')\n",
    "    resp['content-disposition'] = 'inline; filename=\"demo.pdf\"'\n",
    "    return resp\n",
    "```"
   ]
  },
  {
   "cell_type": "markdown",
   "metadata": {},
   "source": [
    "关于如何用`reportlab`定制PDF报表的内容，可以参考reportlab的[官方文档](https://www.reportlab.com/docs/reportlab-userguide.pdf)。"
   ]
  },
  {
   "cell_type": "markdown",
   "metadata": {},
   "source": [
    "### 生成前端统计图表\n",
    "\n",
    "如果项目中需要生成前端统计图表，可以使用百度的[ECharts](<https://echarts.baidu.com/>)。具体的做法是后端通过提供数据接口返回统计图表所需的数据，前端使用ECharts来渲染出柱状图、折线图、饼图、散点图等图表。例如我们要生成一个统计所有老师好评数和差评数的报表，可以按照下面的方式来做。"
   ]
  },
  {
   "cell_type": "markdown",
   "metadata": {},
   "source": [
    "```Python\n",
    "def get_teachers_data(request):\n",
    "    queryset = Teacher.objects.all()\n",
    "    names = [teacher.name for teacher in queryset]\n",
    "    good_counts = [teacher.good_count for teacher in queryset]\n",
    "    bad_counts = [teacher.bad_count for teacher in queryset]\n",
    "    return JsonResponse({'names': names, 'good': good_counts, 'bad': bad_counts})\n",
    "```"
   ]
  },
  {
   "cell_type": "markdown",
   "metadata": {},
   "source": [
    "映射URL。\n",
    "\n",
    "```Python\n",
    "urlpatterns = [\n",
    "    path('teachers_data/', views.get_teachers_data),\n",
    "]\n",
    "```"
   ]
  },
  {
   "cell_type": "markdown",
   "metadata": {},
   "source": [
    "使用ECharts生成柱状图。\n",
    "\n",
    "```HTML\n",
    "<!DOCTYPE html>\n",
    "<html lang=\"en\">\n",
    "<head>\n",
    "    <meta charset=\"UTF-8\">\n",
    "    <title>老师评价统计</title>\n",
    "</head>\n",
    "<body>\n",
    "    <div id=\"main\" style=\"width: 600px; height: 400px\"></div>\n",
    "    <p>\n",
    "        <a href=\"/\">返回首页</a>\n",
    "    </p>\n",
    "    <script src=\"https://cdn.bootcss.com/echarts/4.2.1-rc1/echarts.min.js\"></script>\n",
    "    <script>\n",
    "        var myChart = echarts.init(document.querySelector('#main'))\n",
    "        fetch('/teachers_data/')\n",
    "            .then(resp => resp.json())\n",
    "            .then(json => {\n",
    "                var option = {\n",
    "                    color: ['#f00', '#00f'],\n",
    "                    title: {\n",
    "                        text: '老师评价统计图'\n",
    "                    },\n",
    "                    tooltip: {},\n",
    "                    legend: {\n",
    "                        data:['好评', '差评']\n",
    "                    },\n",
    "                    xAxis: {\n",
    "                        data: json.names\n",
    "                    },\n",
    "                    yAxis: {},\n",
    "                    series: [\n",
    "                        {\n",
    "                            name: '好评',\n",
    "                            type: 'bar',\n",
    "                            data: json.good\n",
    "                        },\n",
    "                        {\n",
    "                            name: '差评',\n",
    "                            type: 'bar',\n",
    "                            data: json.bad\n",
    "                        }\n",
    "                    ]\n",
    "                }\n",
    "                myChart.setOption(option)\n",
    "            })\n",
    "    </script>\n",
    "</body>\n",
    "</html>\n",
    "```"
   ]
  },
  {
   "cell_type": "markdown",
   "metadata": {},
   "source": []
  }
 ],
 "metadata": {
  "celltoolbar": "原始单元格格式",
  "kernelspec": {
   "display_name": "Python 3 (ipykernel)",
   "language": "python",
   "name": "python3"
  },
  "language_info": {
   "codemirror_mode": {
    "name": "ipython",
    "version": 3
   },
   "file_extension": ".py",
   "mimetype": "text/x-python",
   "name": "python",
   "nbconvert_exporter": "python",
   "pygments_lexer": "ipython3",
   "version": "3.9.12"
  },
  "vscode": {
   "interpreter": {
    "hash": "4ac58c68a7555430f59ebde22571acf41a779f71ba338658c9667eabd9be8e0e"
   }
  }
 },
 "nbformat": 4,
 "nbformat_minor": 2
}
