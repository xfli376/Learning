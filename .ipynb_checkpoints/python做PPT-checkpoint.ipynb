{
 "cells": [
  {
   "cell_type": "markdown",
   "metadata": {
    "slideshow": {
     "slide_type": "-"
    }
   },
   "source": [
    "# 用Jupyter Notebook 制作PPT\n",
    "\n",
    "\n",
    " \n",
    "###           李小飞 @ 电子科技大学光电学院"
   ]
  },
  {
   "cell_type": "markdown",
   "metadata": {
    "slideshow": {
     "slide_type": "slide"
    }
   },
   "source": [
    "# 1. 定制\n",
    "\n",
    "\n",
    "Here's a list of things that can be customized. \n",
    "\n"
   ]
  },
  {
   "cell_type": "markdown",
   "metadata": {
    "slideshow": {
     "slide_type": "subslide"
    }
   },
   "source": [
    "### Choosing a theme\n",
    "\n",
    "You can configure the `theme` of your presentation (which controls the\n",
    "general look and feel of the presentation) with:\n",
    "\n",
    "    {\n",
    "     ...\n",
    "     \"rise\": {\"theme\": \"sky\"}\n",
    "    }\n",
    "\n",
    "A few different themes included: `black`，`white`, `league`, `beige`, `sky`, `night`, `serif`, `simple`,\t`solarized`, `blood`, `moon`\n"
   ]
  },
  {
   "cell_type": "markdown",
   "metadata": {
    "slideshow": {
     "slide_type": "subslide"
    }
   },
   "source": [
    "###  Choosing a transition\n",
    "\n",
    "The transition configuration defines what happens in between slides:\n",
    "\n",
    "    {\n",
    "     ...\n",
    "     \"rise\": {\"transition\": \"zoom\"}\n",
    "    }\n",
    "    \n",
    " Transition styles: `fade`,`slide`,`convex`, `concave`, `zoom`"
   ]
  },
  {
   "cell_type": "markdown",
   "metadata": {
    "slideshow": {
     "slide_type": "subslide"
    }
   },
   "source": [
    "### Automatically launch RISE\n",
    "\n",
    "You can setup your notebook to start immediately with the slideshow\n",
    "view using the `autolaunch` config option. This typically is very\n",
    "helpful if you plan on publishing slideshows through something like\n",
    "`mybinder.org`:\n",
    "\n",
    "\n",
    "    {\n",
    "     ...\n",
    "     \"rise\": {\"autolaunch\": true}\n",
    "    }"
   ]
  },
  {
   "cell_type": "markdown",
   "metadata": {
    "slideshow": {
     "slide_type": "fragment"
    }
   },
   "source": [
    "#### `header`, `footer` and `backimage`\n",
    "\n",
    "As a more limited, but often more convenient alternative, you can\n",
    "define any of the following 3 settings.\n",
    "\n",
    "In this case, minimal styling is applied (floor and ceiling), but user\n",
    "is still responsible for cosmetic styling:\n",
    "\n",
    "    {\n",
    "     ...\n",
    "     \"rise\": {\n",
    "         \"backimage\": \"mybackimage.png\",\n",
    "         \"header\": \"<h1>Hello</h1>\",\n",
    "         \"footer\": \"<h3>World!</h3>\"\n",
    "     }\n",
    "    }\n"
   ]
  },
  {
   "cell_type": "markdown",
   "metadata": {
    "slideshow": {
     "slide_type": "subslide"
    }
   },
   "source": [
    "### Enable a right scroll bar\n",
    "\n",
    "To enable a right scroll bar when your content exceeds the slide vertical height,\n",
    "use the following configuration:\n",
    "\n",
    "    {\n",
    "     ...\n",
    "     \"rise\": {\"scroll\": true}\n",
    "    }"
   ]
  },
  {
   "cell_type": "markdown",
   "metadata": {
    "slideshow": {
     "slide_type": "subslide"
    }
   },
   "source": [
    "### Enable chalkboard capabilities\n",
    "\n",
    "Starting RISE 5.4.1, we provide some new chalkboard capabilities.\n",
    "To enable them, use the following configuration:\n",
    "\n",
    "    {\n",
    "     ...\n",
    "     \"rise\": {\"enable_chalkboard\": true}\n",
    "    }\n",
    "\n",
    "It also reacts to the following additional keyboard commands:\n",
    "* `[` to turn the whole space into an empty chalkboard\n",
    "* `]` to start adding free drawings to the current slide\n",
    "* `\\` to download chalkboard drawing\n",
    "* `=` to reset chalkboard drawing on the current slide\n",
    "* `-` to clear the chalkboard"
   ]
  },
  {
   "cell_type": "markdown",
   "metadata": {
    "slideshow": {
     "slide_type": "subslide"
    }
   },
   "source": [
    "### Notebook metadata\n",
    "\n",
    "These settings can also be stored in your notebook metadata, which\n",
    "holds a JSON object, that can be edited through Jupyter's standard\n",
    "menu (Edit → Edit Notebook Metadata); typically it would look like\n",
    "this:\n",
    "\n",
    "    {\n",
    "        ...\n",
    "        \"rise\": {\n",
    "            \"theme\": \"serif\",\n",
    "            \"transition\": \"zoom\",\n",
    "            ...\n",
    "        },\n",
    "        ...\n",
    "    }\n",
    "You can edit notebook metadata as follows\n",
    "\n",
    "![](../examples/metadata.png)"
   ]
  },
  {
   "cell_type": "markdown",
   "metadata": {
    "slideshow": {
     "slide_type": "subslide"
    }
   },
   "source": [
    "## Keyboard shortcuts and Jupyter actions\n",
    "\n",
    "Here are the Jupyter actions registered by RISE:\n",
    "\n",
    "    action name                key      behaviour\n",
    "    ------------------------------------------------------\n",
    "    RISE:slideshow            alt-r  enter/exit RISE Slideshow\n"
   ]
  },
  {
   "cell_type": "markdown",
   "metadata": {
    "slideshow": {
     "slide_type": "subslide"
    }
   },
   "source": [
    "### Native keyboard shortcuts for reveal.js and reveal.js plug-ins\n",
    "\n",
    "Some custom keyboard shortcuts may be defined in RISE to override the default\n",
    "keyboard shortcuts of `reveal.js` and/or its plug-ins.\n",
    "\n",
    "The key bindings can be defined via the `nbextensions_configurator` or directly\n",
    "in JSON.\n",
    "\n",
    "The table below shows the avaialble key bindings:\n",
    "\n",
    "\tmodule      action               default key  behaviour\n",
    "    ---------------------------------------------------------\n",
    "    main        firstSlide           home         jump to first slide\n",
    "    main        lastSlide            end          jump to last slide\n",
    "    main        toggleOverview       w            toggles slide overview\n",
    "    main        fullscreenHelp       f            show fullscreen help\n",
    "    main        riseHelp             ?            show the RISE help\n",
    "    chalkboard  clear                -            clear full size chalkboard\n",
    "    chalkboard  reset                =            reset chalkboard data on current slide\n",
    "    chalkboard  toggleChalkboard     [            toggle full size chalkboard\n",
    "    chalkboard  toggleNotesCanvas    ]            toggle notes (slide-local)\n",
    "    chalkboard  download             \\            download recorded chalkboard drawing\n"
   ]
  },
  {
   "cell_type": "markdown",
   "metadata": {
    "slideshow": {
     "slide_type": "slide"
    }
   },
   "source": [
    "## 2. 首页"
   ]
  },
  {
   "cell_type": "markdown",
   "metadata": {
    "slideshow": {
     "slide_type": "slide"
    }
   },
   "source": [
    "## 3. 插入数学公式\n",
    "\n",
    "- 行内公式 $\\begin{aligned}\n",
    "\\dot{x} & = \\sigma(y-x) \\\\\n",
    "\\dot{y} & = \\rho x - y - xz \\\\\n",
    "\\dot{z} & = -\\beta z + xy\n",
    "\\end{aligned} $\n",
    "\n",
    "-\n"
   ]
  },
  {
   "cell_type": "markdown",
   "metadata": {
    "slideshow": {
     "slide_type": "fragment"
    }
   },
   "source": [
    "- 行间公式\n",
    "\n",
    "$$\\begin{aligned}\n",
    "\\dot{x} & = \\sigma(y-x) \\\\\n",
    "\\dot{y} & = \\rho x - y - xz \\\\\n",
    "\\dot{z} & = -\\beta z + xy\n",
    "\\end{aligned} $$"
   ]
  }
 ],
 "metadata": {
  "celltoolbar": "幻灯片",
  "jupytext": {
   "formats": "ipynb"
  },
  "kernelspec": {
   "display_name": "Python 3 (ipykernel)",
   "language": "python",
   "name": "python3"
  },
  "language_info": {
   "codemirror_mode": {
    "name": "ipython",
    "version": 3
   },
   "file_extension": ".py",
   "mimetype": "text/x-python",
   "name": "python",
   "nbconvert_exporter": "python",
   "pygments_lexer": "ipython3",
   "version": "3.9.12"
  },
  "rise": {
   "autolaunch": true,
   "backimage": "figs/uestcbg.png",
   "enable_chalkboard": true,
   "scroll": true,
   "theme": "white",
   "transition": "zoom"
  }
 },
 "nbformat": 4,
 "nbformat_minor": 2
}
