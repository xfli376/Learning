{
 "cells": [
  {
   "cell_type": "markdown",
   "metadata": {},
   "source": [
    "# Python 简介"
   ]
  },
  {
   "cell_type": "markdown",
   "metadata": {},
   "source": [
    "## 1. Python的历史\n",
    "\n",
    "1. 1989年圣诞节：Guido von Rossum 开始写 Python语言的编译器。\n",
    "2. 1991年2月：第一个Python编译器（同时也是解释器）诞生\n",
    "3. 1994年1月：Python 1.0正式发布。\n",
    "4. 2000年10月16日：Python 2.0发布，\n",
    "5. 2008年12月3日：Python 3.0发布，它并不完全兼容之前的Python代码。\n",
    "\n",
    "> 本文件处于 Python 3.9.12 环境"
   ]
  },
  {
   "cell_type": "markdown",
   "metadata": {},
   "source": [
    "## 2. Python的优缺点\n",
    "\n",
    "- Python的优点\n",
    "\n",
    "1. 简单明了，学习曲线低，比很多编程语言都容易上手。\n",
    "2. 开放源代码，拥有强大的社区和生态圈，尤其是在数据分析和机器学习领域。\n",
    "3. 解释型语言，天生具有平台可移植性，代码可以工作于不同的操作系统。\n",
    "4. 对两种主流的编程范式（面向对象编程和函数式编程）都提供了支持。\n",
    "5. 代码规范程度高，可读性强，适合有代码洁癖和强迫症的人群。"
   ]
  },
  {
   "cell_type": "markdown",
   "metadata": {},
   "source": [
    "- Python的缺点\n",
    "\n",
    "1. 执行效率稍低，对执行效率要求高的部分可以由其他语言（如：C、C++）编写。\n",
    "2. 代码无法加密，但是现在很多公司都不销售卖软件而是销售服务，这个问题会被弱化。\n",
    "3. 在开发时可以选择的框架太多（如Web框架就有100多个），有选择的地方就有错误。"
   ]
  },
  {
   "cell_type": "markdown",
   "metadata": {},
   "source": [
    "## 3. Python的应用领域\n",
    "\n",
    "目前，Python在\n",
    "1. Web应用后端开发\n",
    "1. 云基础设施建设 \n",
    "1. DevOps\n",
    "1. 网络数据采集（爬虫）\n",
    "1. 自动化测试\n",
    "1. 数据分析\n",
    "1. 机器学习\n",
    "1. 科学图表 \n",
    "\n",
    "等领域都有着广泛的应用。"
   ]
  },
  {
   "cell_type": "markdown",
   "metadata": {},
   "source": [
    "## 4. 安装Python\n",
    "\n",
    "官方的Python解释器是用C语言实现的，也是使用最为广泛的Python解释器，通常称之为CPython。除此之外，Python解释器还有Java语言实现的Jython、C#语言实现的IronPython以及PyPy、Brython、Pyston等版本。"
   ]
  },
  {
   "cell_type": "markdown",
   "metadata": {},
   "source": [
    "#### Windows环境\n",
    "\n",
    "#### Linux环境"
   ]
  },
  {
   "cell_type": "markdown",
   "metadata": {},
   "source": [
    "#### macOS环境\n",
    "\n",
    "macOS也自带了Python 2.7版本，安装Python 3.x版本 "
   ]
  },
  {
   "cell_type": "markdown",
   "metadata": {},
   "source": [
    "$ brew install python3"
   ]
  },
  {
   "cell_type": "markdown",
   "metadata": {},
   "source": [
    "## 5. 运行Python\n",
    "\n",
    "``` shell\n",
    "$ python3 \n",
    "```"
   ]
  },
  {
   "cell_type": "markdown",
   "metadata": {},
   "source": [
    "#### 确认Python的版本\n",
    "\n"
   ]
  },
  {
   "cell_type": "code",
   "execution_count": 4,
   "metadata": {},
   "outputs": [
    {
     "name": "stdout",
     "output_type": "stream",
     "text": [
      "sys.version_info(major=3, minor=9, micro=12, releaselevel='final', serial=0)\n",
      "3.9.12 (main, Apr  5 2022, 01:53:17) \n",
      "[Clang 12.0.0 ]\n"
     ]
    }
   ],
   "source": [
    "\"\"\"\n",
    "\n",
    "在 python 环境\n",
    "\n",
    "\"\"\"\n",
    "import sys\n",
    "\n",
    "print(sys.version_info)\n",
    "print(sys.version)"
   ]
  },
  {
   "cell_type": "markdown",
   "metadata": {},
   "source": [
    "在shell环境\n",
    "\n",
    "```shell\n",
    "$ python --version\n",
    "```\n"
   ]
  },
  {
   "cell_type": "markdown",
   "metadata": {},
   "source": [
    "## 6. 编写Python源代码\n",
    "\n",
    "用文本编辑工具编写Python源代码，并用py作为后缀名保存该文件 （hello-world-in-chinese.py）"
   ]
  },
  {
   "cell_type": "code",
   "execution_count": 1,
   "metadata": {
    "scrolled": true
   },
   "outputs": [
    {
     "name": "stdout",
     "output_type": "stream",
     "text": [
      "#!/usr/bin/env python\r\n",
      "# -*- coding: UTF-8 -*-\r\n",
      "\r\n",
      "print(\"您好，这个世界！\")"
     ]
    }
   ],
   "source": [
    "!cat scripts/hello-world-in-chinese.py"
   ]
  },
  {
   "cell_type": "markdown",
   "metadata": {},
   "source": [
    "#### 运行程序\n",
    "\n",
    "切换到源代码所在的目录并执行命令\n",
    "```shell\n",
    "$ python hello-world-in-chinese.py\n",
    "```\n",
    "\n",
    "或\n",
    "\n",
    "```shell\n",
    "$ python3 hello-world-in-chinese.py\n",
    "```"
   ]
  },
  {
   "cell_type": "markdown",
   "metadata": {},
   "source": [
    "#### 代码中的注释\n",
    "\n",
    "1. 单行注释 - 以#和空格（# ）开头的部分\n",
    "    \n",
    "2. 多行注释 - 三个引号开头（\"\"\"），三个引号结尾 （\"\"\"）"
   ]
  },
  {
   "cell_type": "markdown",
   "metadata": {},
   "source": [
    "## 7. Python开发环境\n",
    "\n",
    "#### IDLE - 自带的集成开发工具\n",
    "\n",
    "IDLE是安装Python环境时自带的集成开发工具，很少在实际开发中被采用。"
   ]
  },
  {
   "cell_type": "markdown",
   "metadata": {},
   "source": [
    "#### IPython - 更好的交互式编程工具\n",
    "\n",
    "IPython是一种基于Python的交互式解释器。相较于原生的Python交互式环境，IPython提供了更为强大的编辑和交互功能。安装IPython"
   ]
  },
  {
   "cell_type": "code",
   "execution_count": 1,
   "metadata": {},
   "outputs": [
    {
     "name": "stdout",
     "output_type": "stream",
     "text": [
      "/Users/xfli/miniconda3/lib/python3.9/site-packages/requests/__init__.py:102: RequestsDependencyWarning: urllib3 (1.26.8) or chardet (5.0.0)/charset_normalizer (2.0.4) doesn't match a supported version!\n",
      "  warnings.warn(\"urllib3 ({}) or chardet ({})/charset_normalizer ({}) doesn't match a supported \"\n",
      "Collecting package metadata (current_repodata.json): \\ ^C\n",
      "- "
     ]
    }
   ],
   "source": [
    "! conda install ipython"
   ]
  },
  {
   "cell_type": "markdown",
   "metadata": {},
   "source": [
    "#### Sublime Text - 高级文本编辑器\n",
    "\n",
    "#### Visual Studio Code 一种更好的选择\n",
    "\n",
    "```shell\n",
    "$ brew install vscode\n",
    "```\n",
    "\n",
    "#### PyCharm - Python开发神器"
   ]
  },
  {
   "cell_type": "markdown",
   "metadata": {},
   "source": [
    "## 8. 练习\n",
    "\n",
    "1. 在Python交互式环境中输入下面的代码并查看结果，请尝试将看到的内容翻译成中文。"
   ]
  },
  {
   "cell_type": "code",
   "execution_count": 6,
   "metadata": {},
   "outputs": [],
   "source": [
    "import this"
   ]
  },
  {
   "cell_type": "markdown",
   "metadata": {},
   "source": [
    "2. 学习使用turtle在屏幕上绘制图形。"
   ]
  },
  {
   "cell_type": "code",
   "execution_count": null,
   "metadata": {},
   "outputs": [],
   "source": [
    "import turtle\n",
    "    \n",
    "turtle.pensize(4)\n",
    "turtle.pencolor('red')\n",
    "    \n",
    "turtle.forward(100)\n",
    "turtle.right(90)\n",
    "turtle.forward(100)\n",
    "turtle.right(90)\n",
    "turtle.forward(100)\n",
    "turtle.right(90)\n",
    "turtle.forward(100)\n",
    "    \n",
    "turtle.mainloop()"
   ]
  },
  {
   "cell_type": "code",
   "execution_count": null,
   "metadata": {},
   "outputs": [],
   "source": [
    "from IPython.display import IFrame\n",
    "IFrame('https://arxiv.org/pdf/1406.2661.pdf', width=800, height=450)"
   ]
  },
  {
   "cell_type": "code",
   "execution_count": null,
   "metadata": {
    "scrolled": true
   },
   "outputs": [],
   "source": [
    "\n",
    "IFrame('https://www.uestc.edu.cn/', width=800, height=450)\n"
   ]
  }
 ],
 "metadata": {
  "celltoolbar": "原始单元格格式",
  "kernelspec": {
   "display_name": "Python 3 (ipykernel)",
   "language": "python",
   "name": "python3"
  },
  "language_info": {
   "codemirror_mode": {
    "name": "ipython",
    "version": 3
   },
   "file_extension": ".py",
   "mimetype": "text/x-python",
   "name": "python",
   "nbconvert_exporter": "python",
   "pygments_lexer": "ipython3",
   "version": "3.9.12"
  },
  "vscode": {
   "interpreter": {
    "hash": "4ac58c68a7555430f59ebde22571acf41a779f71ba338658c9667eabd9be8e0e"
   }
  }
 },
 "nbformat": 4,
 "nbformat_minor": 2
}
