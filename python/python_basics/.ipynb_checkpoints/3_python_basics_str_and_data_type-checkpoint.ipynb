{
 "cells": [
  {
   "cell_type": "markdown",
   "metadata": {},
   "source": [
    "## 字符串与常用数据类型\n",
    "\n"
   ]
  },
  {
   "cell_type": "markdown",
   "metadata": {},
   "source": [
    "## 1. 字符串 (Str)\n",
    "\n",
    "```python\n",
    "字符串名 = '字符串' or 字符串名 = “字符串”\n",
    "```"
   ]
  },
  {
   "cell_type": "markdown",
   "metadata": {},
   "source": [
    "数值运算是获得信息的一种方式，但更多的信息却是以文本等其他方式存在的。\n",
    "\n",
    "**字符串**（str）是由零个或多个字符组成的有限序列（用单引号或双引号包围起来）。\n",
    "\n",
    "一般记为$${\\displaystyle s=a_{1}a_{2}\\dots a_{n}(0\\leq n \\leq \\infty)}$$"
   ]
  },
  {
   "cell_type": "code",
   "execution_count": 1,
   "metadata": {},
   "outputs": [
    {
     "name": "stdout",
     "output_type": "stream",
     "text": [
      "hello, world! hello, world! \n",
      "hello, \n",
      "world!\n"
     ]
    }
   ],
   "source": [
    "s1 = 'hello, world!'\n",
    "s2 = \"hello, world!\"\n",
    "# 三个双引号或单引号的字符串是可以折行的\n",
    "s3 = \"\"\"\n",
    "hello, \n",
    "world!\n",
    "\"\"\"\n",
    "print(s1, s2, s3, end='')"
   ]
  },
  {
   "cell_type": "markdown",
   "metadata": {},
   "source": [
    "**转义**： 字符串中使用`\\`（反斜杠）来表示转义。\n",
    "1. `\\n`不再代表反斜杠和字符n，而是表示换行；\n",
    "2. `\\t`表示制表符。\n",
    "3. 字符串中表示`'`时，要写成`\\'`\n",
    "4. 同理，想表示`\\`要写成`\\\\`。"
   ]
  },
  {
   "cell_type": "code",
   "execution_count": 2,
   "metadata": {},
   "outputs": [
    {
     "name": "stdout",
     "output_type": "stream",
     "text": [
      "'hello, world!' \n",
      "\\hello, world!\\\n"
     ]
    }
   ],
   "source": [
    "s1 = '\\'hello, world!\\''\n",
    "s2 = '\\n\\\\hello, world!\\\\\\n'\n",
    "print(s1, s2, end='')"
   ]
  },
  {
   "cell_type": "code",
   "execution_count": 3,
   "metadata": {},
   "outputs": [
    {
     "name": "stdout",
     "output_type": "stream",
     "text": [
      "abcabc 骆昊\n"
     ]
    }
   ],
   "source": [
    "s1 = '\\141\\142\\143\\x61\\x62\\x63'\n",
    "s2 = '\\u9a86\\u660a'\n",
    "print(s1, s2)"
   ]
  },
  {
   "cell_type": "markdown",
   "metadata": {},
   "source": [
    "如果不希望字符串中的`\\`表示转义，我们可以通过在字符串的最前面加上字母`r`来加以说明"
   ]
  },
  {
   "cell_type": "code",
   "execution_count": 4,
   "metadata": {},
   "outputs": [
    {
     "name": "stdout",
     "output_type": "stream",
     "text": [
      "\\'hello, world!\\' \\n\\\\hello, world!\\\\\\n"
     ]
    }
   ],
   "source": [
    "s1 = r'\\'hello, world!\\''\n",
    "s2 = r'\\n\\\\hello, world!\\\\\\n'\n",
    "print(s1, s2, end='')"
   ]
  },
  {
   "cell_type": "markdown",
   "metadata": {},
   "source": [
    "### 字符串运算\n",
    "Python为字符串类型提供了非常丰富的运算符"
   ]
  },
  {
   "cell_type": "code",
   "execution_count": null,
   "metadata": {},
   "outputs": [],
   "source": [
    "s1 = 'hello ' * 3\n",
    "print(s1) # hello hello hello \n",
    "s2 = 'world'\n",
    "s1 += s2\n",
    "print(s1) # hello hello hello world"
   ]
  },
  {
   "cell_type": "code",
   "execution_count": null,
   "metadata": {},
   "outputs": [],
   "source": [
    "s1='Hello'\n",
    "print('ll' in s1) # True\n",
    "print('good' in s1) # False"
   ]
  },
  {
   "cell_type": "code",
   "execution_count": null,
   "metadata": {},
   "outputs": [],
   "source": [
    "str2 = 'abc123456'\n",
    "# 从字符串中取出指定位置的字符(下标运算)\n",
    "print(str2[2]) # c\n",
    "# 字符串切片(从指定的开始索引到指定的结束索引)\n",
    "print(str2[2:5]) # c12\n",
    "print(str2[2:]) # c123456\n",
    "print(str2[2::2]) # c246\n",
    "print(str2[::2]) # ac246\n",
    "print(str2[::-1]) # 654321cba\n",
    "print(str2[-3:-1]) # 45"
   ]
  },
  {
   "cell_type": "code",
   "execution_count": null,
   "metadata": {},
   "outputs": [],
   "source": [
    "str1 = 'hello, world!'\n",
    "\n",
    "# 通过内置函数len计算字符串的长度\n",
    "print(len(str1)) # 13\n",
    "\n",
    "# 获得字符串首字母大写的拷贝\n",
    "print(str1.capitalize()) # Hello, world!\n",
    "\n",
    "# 获得字符串每个单词首字母大写的拷贝\n",
    "print(str1.title()) # Hello, World!\n",
    "\n",
    "# 获得字符串变大写后的拷贝\n",
    "print(str1.upper()) # HELLO, WORLD!\n",
    "\n",
    "# 从字符串中查找子串所在位置\n",
    "print(str1.find('or')) # 8\n",
    "print(str1.find('shit')) # -1\n",
    "\n",
    "# 与find类似但找不到子串时会引发异常\n",
    "# print(str1.index('or'))\n",
    "# print(str1.index('shit'))\n",
    "\n",
    "# 检查字符串是否以指定的字符串开头\n",
    "print(str1.startswith('He')) # False\n",
    "print(str1.startswith('hel')) # True\n",
    "\n",
    "# 检查字符串是否以指定的字符串结尾\n",
    "print(str1.endswith('!')) # True\n",
    "\n",
    "# 将字符串以指定的宽度居中并在两侧填充指定的字符\n",
    "print(str1.center(50, '*'))\n",
    "# 将字符串以指定的宽度靠右放置左侧填充指定的字符\n",
    "print(str1.rjust(50, ' '))\n",
    "\n",
    "str2 = 'abc123456'\n",
    "# 检查字符串是否由数字构成\n",
    "print(str2.isdigit())  # False\n",
    "# 检查字符串是否以字母构成\n",
    "print(str2.isalpha())  # False\n",
    "# 检查字符串是否以数字和字母构成\n",
    "print(str2.isalnum())  # True\n",
    "str3 = '  jackfrued@126.com '\n",
    "print(str3)\n",
    "# 获得字符串修剪左右两侧空格之后的拷贝\n",
    "print(str3.strip())"
   ]
  },
  {
   "cell_type": "markdown",
   "metadata": {},
   "source": [
    "> 除了数值（整数，浮点数，`int`和`float`）和字符串（`str`)，Python还内置了多种类型的数据结构，常用的包括列表[]、元组()、集合{}和字典{}。"
   ]
  },
  {
   "cell_type": "markdown",
   "metadata": {},
   "source": [
    "## 2. 列表 (List)\n",
    "\n",
    "```python\n",
    "列表名 = [元素1,元素2,...,元素n]\n",
    "```"
   ]
  },
  {
   "cell_type": "code",
   "execution_count": null,
   "metadata": {},
   "outputs": [],
   "source": [
    "list1 = [1, 3, 5, 7, 100]\n",
    "print(list1) # [1, 3, 5, 7, 100]\n",
    "\n",
    "# 乘号表示列表元素的重复\n",
    "list2 = ['hello'] * 3\n",
    "print(list2) # ['hello', 'hello', 'hello']\n",
    "\n",
    "# 计算列表长度(元素个数)\n",
    "print(len(list1)) # 5\n",
    "# 下标(索引)运算\n",
    "print(list1[0]) # 1\n",
    "print(list1[4]) # 100\n",
    "# print(list1[5])  # IndexError: list index out of range\n",
    "\n",
    "# 下标(索引)倒着数\n",
    "print(list1[-1]) # 100\n",
    "print(list1[-3]) # 5\n",
    "\n",
    "#修改指定元素的值\n",
    "print(list1) # [1, 3, 5, 7, 100]\n",
    "list1[2] = 300\n",
    "print(list1) # [1, 3, 300, 7, 100]\n",
    "\n",
    "# 通过下标循环，遍历列表\n",
    "for index in range(len(list1)):\n",
    "    print(list1[index])\n",
    "\n",
    "# 通过元素循环，遍历列表\n",
    "for elem in list1:\n",
    "    print(elem)\n",
    "\n"
   ]
  },
  {
   "cell_type": "code",
   "execution_count": 6,
   "metadata": {},
   "outputs": [
    {
     "name": "stdout",
     "output_type": "stream",
     "text": [
      "0 1\n",
      "1 3\n",
      "2 5\n",
      "3 7\n",
      "4 100\n"
     ]
    }
   ],
   "source": [
    "list1 = [1, 3, 5, 7, 100]\n",
    "# 通过enumerate函数处理，以同时获得元素下标与元素值\n",
    "for index, elem in enumerate(list1):\n",
    "    print(index, elem)"
   ]
  },
  {
   "cell_type": "code",
   "execution_count": null,
   "metadata": {},
   "outputs": [],
   "source": [
    "list1 = [1, 3, 5, 7, 100]\n",
    "# 追加元素\n",
    "list1.append(200)\n",
    "print(list1) # [1, 3, 5, 7, 100，200]\n",
    "# 插入元素\n",
    "list1.insert(1, 400)\n",
    "print(list1) # [1, 400, 3, 5, 7, 100，200]\n",
    "# 并表\n",
    "# list1.extend([1000, 2000])\n",
    "list1 += [1000, 2000]\n",
    "print(list1) # [1, 400, 3, 5, 7, 100, 200, 1000, 2000]"
   ]
  },
  {
   "cell_type": "code",
   "execution_count": null,
   "metadata": {},
   "outputs": [],
   "source": [
    "# 删除元素\n",
    "# 先判断元素是否在列表中\n",
    "if 3 in list1:\n",
    "\tlist1.remove(3)\n",
    "if 1234 in list1:\n",
    "    list1.remove(1234)\n",
    "print(list1) # [1, 400, 5, 7, 100, 200, 1000, 2000]\n",
    "# 从指定的位置删除元素\n",
    "list1.pop(0)  # 删除第一个元素\n",
    "list1.pop(len(list1) - 1) # 删除最后一个元素\n",
    "print(list1) # [400, 5, 7, 100, 200, 1000]\n",
    "# 清空列表元素\n",
    "list1.clear()\n",
    "print(list1) # []"
   ]
  },
  {
   "cell_type": "code",
   "execution_count": null,
   "metadata": {},
   "outputs": [],
   "source": [
    "fruits = ['grape', 'apple', 'strawberry', 'waxberry']\n",
    "fruits += ['pitaya', 'pear', 'mango']\n",
    "# 列表切片\n",
    "fruits2 = fruits[1:4]\n",
    "print(fruits2) # ['apple', 'strawberry', 'waxberry']\n",
    "# 可以通过完整切片操作来复制列表\n",
    "fruits3 = fruits[:]\n",
    "print(fruits3) # ['grape', 'apple', 'strawberry', 'waxberry', 'pitaya', 'pear', 'mango']\n",
    "fruits4 = fruits3[-3:-1]\n",
    "print(fruits4) # ['pitaya', 'pear']\n",
    "# 可以通过反向切片操作来获得倒转后的列表的拷贝\n",
    "fruits5 = fruits[::-1]\n",
    "print(fruits5) # ['mango', 'pear', 'pitaya', 'waxberry', 'strawberry', 'apple', 'grape']"
   ]
  },
  {
   "cell_type": "code",
   "execution_count": 10,
   "metadata": {},
   "outputs": [
    {
     "name": "stdout",
     "output_type": "stream",
     "text": [
      "['orange', 'apple', 'zoo', 'internationalization', 'blueberry']\n",
      "['apple', 'blueberry', 'internationalization', 'orange', 'zoo']\n",
      "['zoo', 'orange', 'internationalization', 'blueberry', 'apple']\n",
      "['zoo', 'apple', 'orange', 'blueberry', 'internationalization']\n",
      "['zoo', 'orange', 'internationalization', 'blueberry', 'apple']\n"
     ]
    }
   ],
   "source": [
    "# 列表排序\n",
    "list1 = ['orange', 'apple', 'zoo', 'internationalization', 'blueberry']\n",
    "# sorted函数返回列表排序后的拷贝\n",
    "list2 = sorted(list1)\n",
    "# 逆序\n",
    "list3 = sorted(list1, reverse=True)\n",
    "# 按字符串长度排序\n",
    "list4 = sorted(list1, key=len)\n",
    "print(list1) # ['orange', 'apple', 'zoo', 'internationalization', 'blueberry']\n",
    "print(list2) # ['apple', 'blueberry', 'internationalization', 'orange', 'zoo']\n",
    "print(list3) # ['zoo', 'orange', 'internationalization', 'blueberry', 'apple']\n",
    "print(list4) # ['zoo', 'apple', 'orange', 'blueberry', 'internationalization']\n",
    "# 给列表对象发出排序消息直接在列表对象上进行排序\n",
    "list1.sort(reverse=True)\n",
    "print(list1) # ['zoo', 'orange', 'internationalization', 'blueberry', 'apple']"
   ]
  },
  {
   "cell_type": "markdown",
   "metadata": {},
   "source": [
    "### 生成式和生成器"
   ]
  },
  {
   "cell_type": "code",
   "execution_count": 11,
   "metadata": {},
   "outputs": [
    {
     "name": "stdout",
     "output_type": "stream",
     "text": [
      "[1, 2, 3, 4, 5, 6, 7, 8, 9]\n",
      "['A1', 'A2', 'A3', 'A4', 'A5', 'A6', 'A7', 'B1', 'B2', 'B3', 'B4', 'B5', 'B6', 'B7', 'C1', 'C2', 'C3', 'C4', 'C5', 'C6', 'C7', 'D1', 'D2', 'D3', 'D4', 'D5', 'D6', 'D7', 'E1', 'E2', 'E3', 'E4', 'E5', 'E6', 'E7']\n",
      "[1, 4, 9, 16, 25, 36, 49, 64, 81]\n",
      "184\n"
     ]
    }
   ],
   "source": [
    "import sys\n",
    "\n",
    "# 生成式语法\n",
    "f = [x for x in range(1, 10)]\n",
    "print(f) # [1, 2, 3, 4, 5, 6, 7, 8, 9]\n",
    "f = [x + y for x in 'ABCDE' for y in '1234567']\n",
    "print(f) # ['A1', 'A2', 'A3', 'A4', 'A5', 'A6', 'A7', 'B1', 'B2', 'B3', 'B4', 'B5', 'B6', 'B7', 'C1', 'C2', 'C3', 'C4', 'C5', 'C6', 'C7', 'D1', 'D2', 'D3', 'D4', 'D5', 'D6', 'D7', 'E1', 'E2', 'E3', 'E4', 'E5', 'E6', 'E7']\n",
    "# 用列表的生成表达式语法创建列表容器\n",
    "# 用这种语法创建列表之后元素已经准备就绪所以需要耗费较多的内存空间\n",
    "f = [x ** 2 for x in range(1, 10)]\n",
    "print(f) # [1, 4, 9, 16, 25, 36, 49, 64, 81]\n",
    "print(sys.getsizeof(f))  # 查看对象占用内存的字节数"
   ]
  },
  {
   "cell_type": "code",
   "execution_count": null,
   "metadata": {},
   "outputs": [],
   "source": [
    "# 生成器 \n",
    "\"\"\"\n",
    "使用的是（ ）而不是[ ]\n",
    "通过生成器也可获取数据，但不占用额外内存\n",
    "但每次需要数据的时候都要通过运算获取，因此是以时间换空间\n",
    "\"\"\"\n",
    "f = (x ** 2 for x in range(1, 10))\n",
    "print(sys.getsizeof(f))  # 相比生成式, 生成器不占用存储数据的空间\n",
    "print(f)  # <generator object <genexpr> at 0x7fb6ae843190>\n",
    "\n",
    "# 从生成器中取元素\n",
    "for val in f:\n",
    "    print(val)\n",
    "    \n",
    "f = (x ** 2 for x in range(1, 10))\n",
    "list_new =[]\n",
    "for vall in f:\n",
    "    list_new.append(vall)\n",
    "print(list_new)"
   ]
  },
  {
   "cell_type": "markdown",
   "metadata": {},
   "source": [
    "Python中还通过`yield`关键字将一个函数改造成生成器。"
   ]
  },
  {
   "cell_type": "code",
   "execution_count": null,
   "metadata": {},
   "outputs": [],
   "source": [
    "# 生成器函数\n",
    "\n",
    "def fib(n):\n",
    "    a, b = 0, 1\n",
    "    for _ in range(n):\n",
    "        a, b = b, a + b\n",
    "        yield a\n",
    "\n",
    "\n",
    "def main():\n",
    "    for val in fib(10):\n",
    "        print(val)\n",
    "\n",
    "\n",
    "if __name__ == '__main__':\n",
    "    main()"
   ]
  },
  {
   "cell_type": "markdown",
   "metadata": {},
   "source": [
    "## 3. 元组 (Tuple)\n",
    "\n",
    "```python\n",
    "元组名 = (元素1,元素2,...,元素n)\n",
    "```"
   ]
  },
  {
   "cell_type": "markdown",
   "metadata": {},
   "source": [
    "**元组**: [（不同类）元素的组合], 更象是数据库（Excel表）中的一条记录\n",
    "\n",
    "```python\n",
    "    t = ('骆昊', 38, True, '四川成都')\n",
    "```\n",
    "对应字段名(行首)可能是： 姓名，年龄，是否党员，籍贯"
   ]
  },
  {
   "cell_type": "code",
   "execution_count": 2,
   "metadata": {},
   "outputs": [
    {
     "name": "stdout",
     "output_type": "stream",
     "text": [
      "('骆昊', 38, True, '四川成都')\n",
      "骆昊\n",
      "四川成都\n"
     ]
    }
   ],
   "source": [
    "# 定义元组\n",
    "t = ('骆昊', 38, True, '四川成都')\n",
    "print(t)\n",
    "# 获取元组中的元素\n",
    "print(t[0])\n",
    "print(t[3])"
   ]
  },
  {
   "cell_type": "code",
   "execution_count": 3,
   "metadata": {},
   "outputs": [
    {
     "name": "stdout",
     "output_type": "stream",
     "text": [
      "骆昊\n",
      "38\n",
      "True\n",
      "四川成都\n",
      "['李小龙', 25, True, '四川成都']\n",
      "('李小龙', 25, True, '四川成都')\n"
     ]
    }
   ],
   "source": [
    "# 遍历元组中的值\n",
    "for member in t:\n",
    "    print(member)\n",
    "\"\"\"\n",
    "元组元素的值不能更改！\n",
    "t[0] = '王大锤'  # TypeError\n",
    "如果要改，得先将元组转换成列表，对列表进行修改\n",
    "然后，再将列表转换成元组\n",
    "\"\"\"\n",
    "person = list(t)\n",
    "# 列表是可以修改它的元素的\n",
    "person[0] = '李小龙'\n",
    "person[1] = 25\n",
    "print(person)\n",
    "\n",
    "# 再将列表转换成元组\n",
    "t = tuple(person)\n",
    "print(t)"
   ]
  },
  {
   "cell_type": "markdown",
   "metadata": {},
   "source": [
    "## 4. 集合 （Set）\n",
    "\n",
    "```python\n",
    "集合名 = {元素1,元素2,...,元素n}\n",
    "```"
   ]
  },
  {
   "cell_type": "markdown",
   "metadata": {},
   "source": [
    "Python中的集合跟数学上的集合是一致的，必须是同类元素且不允许有重复元素"
   ]
  },
  {
   "cell_type": "code",
   "execution_count": 25,
   "metadata": {},
   "outputs": [
    {
     "name": "stdout",
     "output_type": "stream",
     "text": [
      "{1, 2, 3}\n",
      "Length = 3\n"
     ]
    }
   ],
   "source": [
    "# 重复元素只取一个\n",
    "set1 = {1, 2, 3, 3, 3, 2}\n",
    "print(set1)\n",
    "print('Length =', len(set1))\n"
   ]
  },
  {
   "cell_type": "code",
   "execution_count": 53,
   "metadata": {},
   "outputs": [
    {
     "name": "stdout",
     "output_type": "stream",
     "text": [
      "{1, 2, 3, 4, 5, 6, 7, 8, 9, 10, 12}\n"
     ]
    }
   ],
   "source": [
    "# 向集合添加元素\n",
    "set1 = {1, 2, 3}\n",
    "set1.add(4) #  {1, 2, 3, 4}\n",
    "set1.add(5) #  {1, 2, 3, 4,5}\n",
    "\n",
    "set2 = {1, 2, 3, 4, 5, 6, 7, 8, 9}\n",
    "set2.update([10, 12])\n",
    "print(set2)\n",
    "\n"
   ]
  },
  {
   "cell_type": "code",
   "execution_count": 36,
   "metadata": {},
   "outputs": [
    {
     "name": "stdout",
     "output_type": "stream",
     "text": [
      "{1, 2, 3, 4, 6, 7, 8, 9}\n",
      "{1, 2, 3, 6, 7, 8, 9}\n"
     ]
    }
   ],
   "source": [
    "#  删除集合中的元素\n",
    "set2 = {1, 2, 3, 4, 5, 6, 7, 8, 9}\n",
    "set2.discard(5)\n",
    "print(set2)\n",
    "\n",
    "if 4 in set2:\n",
    "    set2.remove(4)\n",
    "\n",
    "print(set2)\n"
   ]
  },
  {
   "cell_type": "markdown",
   "metadata": {},
   "source": [
    "集合交集、并集、差集。"
   ]
  },
  {
   "cell_type": "code",
   "execution_count": 41,
   "metadata": {},
   "outputs": [
    {
     "name": "stdout",
     "output_type": "stream",
     "text": [
      "{4, 5, 6}\n",
      "{1, 2, 3, 4, 5, 6, 7, 8, 9}\n",
      "{1, 2, 3}\n",
      "{1, 2, 3, 7, 8, 9}\n",
      "False\n",
      "False\n",
      "True\n",
      "False\n"
     ]
    }
   ],
   "source": [
    "# 集合的交集、并集、差集、对称差集\n",
    "set1 = {1, 2, 3, 4, 5, 6}\n",
    "set2 = {4, 5, 6, 7, 8, 9}\n",
    "print(set1 & set2)  # 交集 {4, 5, 6}\n",
    "# print(set1.intersection(set2))\n",
    "print(set1 | set2)  # 并集 {1, 2, 3, 4, 5, 6, 7, 8, 9}\n",
    "# print(set1.union(set2))\n",
    "print(set1 - set2)  # 差集 {1, 2, 3}\n",
    "# print(set1.difference(set2))\n",
    "print(set1 ^ set2)  # 对称差集 {1, 2, 3, 7, 8, 9}\n",
    "# print(set1.symmetric_difference(set2))\n",
    "\n",
    "# 判断是不是子集\n",
    "print(set2 <= set1)\n",
    "# print(set2.issubset(set1))\n",
    "print(set1 >= set2)\n",
    "# print(set1.issuperset(set2))\n",
    "\n",
    "# 属于与不属于\n",
    "print(3 in set1)\n",
    "print(3 in set2)"
   ]
  },
  {
   "cell_type": "markdown",
   "metadata": {},
   "source": [
    "## 5. 字典 (dict)\n",
    "\n",
    "```python\n",
    "字典名 = {键名: 值, 键名: 值,,...,键名: 值}\n",
    "```"
   ]
  },
  {
   "cell_type": "markdown",
   "metadata": {},
   "source": [
    "```python\n",
    "电话本 = {'骆昊': 136...., '白元芳': 139..., '狄仁杰': 180...}\n",
    "身份证号 = {430....: '骆昊', 687...: '白元芳'}\n",
    "```\n",
    "\n",
    "键名具有唯一性，如果出现多次，以最后一次的值为准"
   ]
  },
  {
   "cell_type": "code",
   "execution_count": 51,
   "metadata": {},
   "outputs": [
    {
     "name": "stdout",
     "output_type": "stream",
     "text": [
      "{'骆昊': 95, '白元芳': 78, '狄仁杰': 82}\n",
      "{'骆昊': 92, '白元芳': 82, '狄仁杰': 82}\n",
      "{'骆昊': 95, '白元芳': 78, '狄仁杰': 82}\n",
      "{'骆昊': 95, '白元芳': 78, '狄仁杰': 83}\n",
      "{'骆昊': 95, '白元芳': 78, '狄仁杰': 84}\n"
     ]
    }
   ],
   "source": [
    "# 创建字典的字面量语法\n",
    "量子力学分数 = {'骆昊': 95, '白元芳': 78, '狄仁杰': 82}\n",
    "print(量子力学分数)\n",
    "量子力学分数 = {'骆昊': 95, '骆昊': 92, '白元芳': 82, '狄仁杰': 82}\n",
    "print(量子力学分数)\n",
    "\n",
    "scores_of_MQ= {'骆昊': 95, '白元芳': 78, '狄仁杰': 82}\n",
    "print(scores_of_MQ)\n",
    "\n",
    "# 创建字典的构造器语法\n",
    "scores_of_MQ = dict(骆昊=95, 白元芳=78, 狄仁杰=83)\n",
    "print(scores_of_MQ)\n",
    "\n",
    "# 通过zip函数将两个列表压成字典\n",
    "scores_of_MQ = dict( zip( ['骆昊', '白元芳', '狄仁杰'], [95, 78, 84]))\n",
    "print(scores_of_MQ)"
   ]
  },
  {
   "cell_type": "code",
   "execution_count": 85,
   "metadata": {},
   "outputs": [
    {
     "name": "stdout",
     "output_type": "stream",
     "text": [
      "{1: 1, 2: 4, 3: 9, 4: 16, 5: 25, 6: 36, 7: 49, 8: 64, 9: 81}\n",
      "{'骆昊': 95, '白元芳': 78, '狄仁杰': 84}\n"
     ]
    }
   ],
   "source": [
    "# 创建字典的推导式语法\n",
    "items3 = {num: num ** 2 for num in range(1, 10)}\n",
    "print(items3)\n",
    "\n",
    "key_names = ['骆昊', '白元芳', '狄仁杰']\n",
    "scores = [95, 78, 84]\n",
    "scores_of_MQ = {key_names[index1]: scores[index1] for index1 in range(3)}\n",
    "print(scores_of_MQ)"
   ]
  },
  {
   "cell_type": "code",
   "execution_count": 86,
   "metadata": {},
   "outputs": [
    {
     "name": "stdout",
     "output_type": "stream",
     "text": [
      "95\n",
      "84\n",
      "骆昊: 95\n",
      "白元芳: 78\n",
      "狄仁杰: 84\n"
     ]
    }
   ],
   "source": [
    "# 通过键可以获取字典中对应的值\n",
    "print(scores_of_MQ['骆昊'])\n",
    "print(scores_of_MQ['狄仁杰'])\n",
    "# 对字典中所有键值对进行遍历\n",
    "for key in scores_of_MQ:\n",
    "    print(f'{key}: {scores_of_MQ[key]}')"
   ]
  },
  {
   "cell_type": "code",
   "execution_count": 87,
   "metadata": {},
   "outputs": [
    {
     "name": "stdout",
     "output_type": "stream",
     "text": [
      "{'骆昊': 95, '白元芳': 65, '狄仁杰': 84, '诸葛王朗': 71, '冷面': 67, '方启鹤': 85}\n"
     ]
    }
   ],
   "source": [
    "# 更新字典中的元素\n",
    "scores_of_MQ['白元芳'] = 65\n",
    "scores_of_MQ['诸葛王朗'] = 71\n",
    "scores_of_MQ.update(冷面=67, 方启鹤=85)\n",
    "print(scores_of_MQ)"
   ]
  },
  {
   "cell_type": "code",
   "execution_count": 88,
   "metadata": {},
   "outputs": [
    {
     "name": "stdout",
     "output_type": "stream",
     "text": [
      "{'骆昊': 95, '白元芳': 65, '狄仁杰': 84, '诸葛王朗': 71, '冷面': 67, '方启鹤': 85, '武则天': 60}\n"
     ]
    }
   ],
   "source": [
    "if '武则天' in scores_of_MQ:\n",
    "    print(scores_of_MQ['武则天'])\n",
    "else:\n",
    "    scores_of_MQ['武则天'] = 60\n",
    "\n",
    "print(scores_of_MQ)"
   ]
  },
  {
   "cell_type": "code",
   "execution_count": 89,
   "metadata": {},
   "outputs": [
    {
     "name": "stdout",
     "output_type": "stream",
     "text": [
      "{'白元芳': 65, '狄仁杰': 84, '诸葛王朗': 71, '冷面': 67}\n",
      "{}\n"
     ]
    }
   ],
   "source": [
    "\n",
    "# 删除字典中的元素\n",
    "scores_of_MQ.popitem()\n",
    "scores_of_MQ.popitem()\n",
    "scores_of_MQ.pop('骆昊', 100)\n",
    "print(scores_of_MQ)\n",
    "# 清空字典\n",
    "scores_of_MQ.clear()\n",
    "print(scores_of_MQ)"
   ]
  },
  {
   "cell_type": "markdown",
   "metadata": {},
   "source": [
    "**练习**\n",
    "\n",
    "1. 设计一个函数产生指定长度的验证码，验证码由大小写字母和数字构成。"
   ]
  },
  {
   "cell_type": "code",
   "execution_count": 93,
   "metadata": {},
   "outputs": [
    {
     "name": "stdout",
     "output_type": "stream",
     "text": [
      "n3Ksfu\n"
     ]
    }
   ],
   "source": [
    "import random\n",
    "\n",
    "\n",
    "def generate_code(code_len=4):\n",
    "    \"\"\"\n",
    "    生成指定长度的验证码\n",
    "    :param code_len: 验证码的长度(默认4个字符)\n",
    "    :return: 由大小写英文字母和数字构成的随机验证码\n",
    "    \"\"\"\n",
    "    all_chars = '0123456789abcdefghijklmnopqrstuvwxyzABCDEFGHIJKLMNOPQRSTUVWXYZ_'\n",
    "    last_pos = len(all_chars) - 1\n",
    "    code = ''\n",
    "    for _ in range(code_len):\n",
    "        index = random.randint(0, last_pos)\n",
    "        code += all_chars[index]\n",
    "    return code\n",
    "\n",
    "def main(): \n",
    "    print(generate_code(6))\n",
    "\n",
    "if __name__ == '__main__':\n",
    "    main()"
   ]
  },
  {
   "cell_type": "markdown",
   "metadata": {},
   "source": [
    "2. 设计一个函数返回给定文件名的后缀名。"
   ]
  },
  {
   "cell_type": "code",
   "execution_count": 94,
   "metadata": {},
   "outputs": [],
   "source": [
    "def get_suffix(filename, has_dot=False):\n",
    "    \"\"\"\n",
    "    获取文件名的后缀名\n",
    "    :param filename: 文件名\n",
    "    :param has_dot: 返回的后缀名是否需要带点\n",
    "    :return: 文件的后缀名\n",
    "    \"\"\"\n",
    "    \n",
    "    pos = filename.rfind('.')\n",
    "    if 0 < pos < len(filename) - 1:\n",
    "        index = pos if has_dot else pos + 1\n",
    "        return filename[index:]\n",
    "    else:\n",
    "        return ''"
   ]
  },
  {
   "cell_type": "markdown",
   "metadata": {},
   "source": [
    "3. 设计一个函数返回传入的列表中最大和第二大的元素的值。"
   ]
  },
  {
   "cell_type": "code",
   "execution_count": 95,
   "metadata": {},
   "outputs": [],
   "source": [
    "def max2(x):\n",
    "    m1, m2 = (x[0], x[1]) if x[0] > x[1] else (x[1], x[0])\n",
    "    for index in range(2, len(x)):\n",
    "        if x[index] > m1:\n",
    "            m2 = m1\n",
    "            m1 = x[index]\n",
    "        elif x[index] > m2:\n",
    "            m2 = x[index]\n",
    "    return m1, m2"
   ]
  },
  {
   "cell_type": "markdown",
   "metadata": {},
   "source": [
    "4. 计算指定的年月日是这一年的第几天。"
   ]
  },
  {
   "cell_type": "code",
   "execution_count": 96,
   "metadata": {},
   "outputs": [
    {
     "name": "stdout",
     "output_type": "stream",
     "text": [
      "333\n",
      "365\n",
      "1\n",
      "61\n"
     ]
    }
   ],
   "source": [
    "def is_leap_year(year):\n",
    "    \"\"\"\n",
    "    判断指定的年份是不是闰年\n",
    "\n",
    "    :param year: 年份\n",
    "    :return: 闰年返回True平年返回False\n",
    "    \"\"\"\n",
    "    return year % 4 == 0 and year % 100 != 0 or year % 400 == 0\n",
    "\n",
    "\n",
    "def which_day(year, month, date):\n",
    "    \"\"\"\n",
    "    计算传入的日期是这一年的第几天\n",
    "\n",
    "    :param year: 年\n",
    "    :param month: 月\n",
    "    :param date: 日\n",
    "    :return: 第几天\n",
    "    \"\"\"\n",
    "    days_of_month = [\n",
    "        [31, 28, 31, 30, 31, 30, 31, 31, 30, 31, 30, 31],\n",
    "        [31, 29, 31, 30, 31, 30, 31, 31, 30, 31, 30, 31]\n",
    "    ][is_leap_year(year)]\n",
    "    total = 0\n",
    "    for index in range(month - 1):\n",
    "        total += days_of_month[index]\n",
    "    return total + date\n",
    "\n",
    "\n",
    "def main():\n",
    "    print(which_day(1980, 11, 28))\n",
    "    print(which_day(1981, 12, 31))\n",
    "    print(which_day(2018, 1, 1))\n",
    "    print(which_day(2016, 3, 1))\n",
    "\n",
    "\n",
    "if __name__ == '__main__':\n",
    "    main()"
   ]
  },
  {
   "cell_type": "markdown",
   "metadata": {},
   "source": [
    "5. 打印[杨辉三角](https://zh.wikipedia.org/wiki/%E6%9D%A8%E8%BE%89%E4%B8%89%E8%A7%92%E5%BD%A2)。"
   ]
  },
  {
   "cell_type": "code",
   "execution_count": 97,
   "metadata": {},
   "outputs": [
    {
     "name": "stdout",
     "output_type": "stream",
     "text": [
      "1\t\n",
      "1\t1\t\n",
      "1\t2\t1\t\n",
      "1\t3\t3\t1\t\n",
      "1\t4\t6\t4\t1\t\n"
     ]
    }
   ],
   "source": [
    "def main():\n",
    "    num = int(input('Number of rows: '))\n",
    "    yh = [[]] * num\n",
    "    for row in range(len(yh)):\n",
    "        yh[row] = [None] * (row + 1)\n",
    "        for col in range(len(yh[row])):\n",
    "            if col == 0 or col == row:\n",
    "                yh[row][col] = 1\n",
    "            else:\n",
    "                yh[row][col] = yh[row - 1][col] + yh[row - 1][col - 1]\n",
    "            print(yh[row][col], end='\\t')\n",
    "        print()\n",
    "\n",
    "\n",
    "if __name__ == '__main__':\n",
    "    main()"
   ]
  },
  {
   "cell_type": "markdown",
   "metadata": {},
   "source": [
    "## 6. 综合案例\n",
    "\n",
    "1：双色球选号。"
   ]
  },
  {
   "cell_type": "code",
   "execution_count": null,
   "metadata": {},
   "outputs": [],
   "source": [
    "from random import randrange, randint, sample\n",
    "\n",
    "\n",
    "def display(balls):\n",
    "    \"\"\"\n",
    "    输出列表中的双色球号码\n",
    "    \"\"\"\n",
    "    for index, ball in enumerate(balls):\n",
    "        if index == len(balls) - 1:\n",
    "            print('|', end=' ')\n",
    "        print('%02d' % ball, end=' ')\n",
    "    print()\n",
    "\n",
    "\n",
    "def random_select():\n",
    "    \"\"\"\n",
    "    随机选择一组号码\n",
    "    \"\"\"\n",
    "    red_balls = [x for x in range(1, 34)]\n",
    "    selected_balls = []\n",
    "    selected_balls = sample(red_balls, 6)\n",
    "    selected_balls.sort()\n",
    "    selected_balls.append(randint(1, 16))\n",
    "    return selected_balls\n",
    "\n",
    "\n",
    "def main():\n",
    "    n = int(input('机选几注: '))\n",
    "    for _ in range(n):\n",
    "        display(random_select())\n",
    "\n",
    "\n",
    "if __name__ == '__main__':\n",
    "    main()"
   ]
  },
  {
   "cell_type": "markdown",
   "metadata": {},
   "source": [
    "> **说明：** 上面使用random模块的sample函数来实现从列表中选择不重复的n个元素。"
   ]
  },
  {
   "cell_type": "markdown",
   "metadata": {},
   "source": [
    "2：[约瑟夫环问题](https://zh.wikipedia.org/wiki/%E7%BA%A6%E7%91%9F%E5%A4%AB%E6%96%AF%E9%97%AE%E9%A2%98)。"
   ]
  },
  {
   "cell_type": "code",
   "execution_count": null,
   "metadata": {},
   "outputs": [],
   "source": [
    "\"\"\"\n",
    "《幸运的基督徒》\n",
    "有15个基督徒和15个非基督徒在海上遇险，为了能让一部分人活下来不得不将其中15个人扔到海里面去，\\\n",
    "有个人想了个办法就是大家围成一个圈，由某个人开始从1报数，报到9的人就扔到海里面，他后面的人接着从1开始报数，\\\n",
    "报到9的人继续扔到海里面，直到扔掉15个人。由于上帝的保佑，15个基督徒都幸免于难，问这些人最开始是怎么站的，\\\n",
    "哪些位置是基督徒哪些位置是非基督徒。\n",
    "\"\"\"\n",
    "\n",
    "\n",
    "def main():\n",
    "    persons = [True] * 30\n",
    "    counter, index, number = 0, 0, 0\n",
    "    while counter < 15:\n",
    "        if persons[index]:\n",
    "            number += 1\n",
    "            if number == 9:\n",
    "                persons[index] = False\n",
    "                counter += 1\n",
    "                number = 0\n",
    "        index += 1\n",
    "        index %= 30\n",
    "    for person in persons:\n",
    "        print('基' if person else '非', end='')\n",
    "\n",
    "\n",
    "if __name__ == '__main__':\n",
    "    main()"
   ]
  },
  {
   "cell_type": "markdown",
   "metadata": {},
   "source": [
    "3：[井字棋](https://zh.wikipedia.org/wiki/%E4%BA%95%E5%AD%97%E6%A3%8B)游戏。"
   ]
  },
  {
   "cell_type": "code",
   "execution_count": null,
   "metadata": {},
   "outputs": [],
   "source": [
    "import os\n",
    "\n",
    "\n",
    "def print_board(board):\n",
    "    print(board['TL'] + '|' + board['TM'] + '|' + board['TR'])\n",
    "    print('-+-+-')\n",
    "    print(board['ML'] + '|' + board['MM'] + '|' + board['MR'])\n",
    "    print('-+-+-')\n",
    "    print(board['BL'] + '|' + board['BM'] + '|' + board['BR'])\n",
    "\n",
    "\n",
    "def main():\n",
    "    init_board = {\n",
    "        'TL': ' ', 'TM': ' ', 'TR': ' ',\n",
    "        'ML': ' ', 'MM': ' ', 'MR': ' ',\n",
    "        'BL': ' ', 'BM': ' ', 'BR': ' '\n",
    "    }\n",
    "    begin = True\n",
    "    while begin:\n",
    "        curr_board = init_board.copy()\n",
    "        begin = False\n",
    "        turn = 'x'\n",
    "        counter = 0\n",
    "        os.system('clear')\n",
    "        print_board(curr_board)\n",
    "        while counter < 9:\n",
    "            move = input('轮到%s走棋, 请输入位置: ' % turn)\n",
    "            if curr_board[move] == ' ':\n",
    "                counter += 1\n",
    "                curr_board[move] = turn\n",
    "                if turn == 'x':\n",
    "                    turn = 'o'\n",
    "                else:\n",
    "                    turn = 'x'\n",
    "            os.system('clear')\n",
    "            print_board(curr_board)\n",
    "        choice = input('再玩一局?(yes|no)')\n",
    "        begin = choice == 'yes'\n",
    "\n",
    "\n",
    "if __name__ == '__main__':\n",
    "    main()"
   ]
  },
  {
   "cell_type": "markdown",
   "metadata": {},
   "source": [
    ">**说明：** 最后这个案例来自[《Python编程快速上手:让繁琐工作自动化》](https://item.jd.com/11943853.html)一书（这本书对有编程基础想迅速使用Python将日常工作自动化的人来说还是不错的选择），对代码做了一点点的调整。"
   ]
  },
  {
   "cell_type": "markdown",
   "metadata": {},
   "source": [
    "## 7. Python语言进阶"
   ]
  },
  {
   "cell_type": "code",
   "execution_count": 122,
   "metadata": {},
   "outputs": [],
   "source": [
    "\"\"\"\n",
    "由分数总表（字典）求平均分表。\n",
    "\"\"\"\n",
    "def average_dict(scores):\n",
    "      average_score = {}\n",
    "      for key in scores:\n",
    "            aver = 0\n",
    "            for member in scores[key]:\n",
    "                  aver += member/len(scores[key])\n",
    "            average_score[key] = round(aver,1)  # 保留一位小数\n",
    "      return average_score     "
   ]
  },
  {
   "cell_type": "code",
   "execution_count": 119,
   "metadata": {},
   "outputs": [
    {
     "name": "stdout",
     "output_type": "stream",
     "text": [
      "{'ORCL': 48.44, 'SYMC': 21.29}\n"
     ]
    }
   ],
   "source": [
    "\n",
    "\n",
    "\"\"\"\n",
    "生成式（推导式）可以用来生成列表、集合和字典。\n",
    "\"\"\"\n",
    " \n",
    "prices = {\n",
    "      'AAPL': 191.88,\n",
    "      'GOOG': 1186.96,\n",
    "      'IBM': 149.24,\n",
    "      'ORCL': 48.44,\n",
    "      'ACN': 166.89,\n",
    "      'FB': 208.09,\n",
    "      'SYMC': 21.29\n",
    "}\n",
    "  # 用股票价格小于100元的股票构造一个新的字典\n",
    "prices2 = {key: value for key, value in prices.items() if value < 100}\n",
    "print(prices2)\n"
   ]
  },
  {
   "cell_type": "code",
   "execution_count": 125,
   "metadata": {},
   "outputs": [
    {
     "name": "stdout",
     "output_type": "stream",
     "text": [
      "{'关羽': [34.0, 45.0, 66.0], '张飞': [78.0, 56.0, 45.0], '赵云': [34.0, 23.0, 45.0], '马超': [67.0, 4.0, 78.0], '黄忠': [89.0, 79.0, 78.0]}\n",
      "{'关羽': 48.3, '张飞': 59.7, '赵云': 34.0, '马超': 49.7, '黄忠': 82.0}\n"
     ]
    }
   ],
   "source": [
    "\"\"\"\n",
    "嵌套的列表的坑\n",
    "\"\"\"\n",
    "def average_dict(scores):\n",
    "      average_score = {}\n",
    "      for key in scores:\n",
    "            aver = 0\n",
    "            for member in scores[key]:\n",
    "                  aver += member/len(scores[key])\n",
    "            average_score[key] = round(aver,1) \n",
    "      return average_score   \n",
    "\n",
    "def main():\n",
    "      names = ['关羽', '张飞', '赵云', '马超', '黄忠']\n",
    "      courses = ['语文', '数学', '英语']\n",
    "# 录入五个学生三门课程的成绩\n",
    "# 错误 - 参考http://pythontutor.com/visualize.html#mode=edit\n",
    "# scores = [[None] * len(courses)] * len(names)\n",
    "      scores = [[None] * len(courses) for _ in range(len(names))]\n",
    "      for row, name in enumerate(names):\n",
    "            for col, course in enumerate(courses):\n",
    "                  scores[row][col] = float(input(f'请输入{name}的{course}成绩: '))\n",
    "      scores_dict = dict(zip(names,scores))\n",
    "\n",
    "if __name__ == '__main__':\n",
    "      main()\n",
    "      print(scores_dict)\n",
    "      print(average_dict(scores_dict))"
   ]
  },
  {
   "cell_type": "code",
   "execution_count": 3,
   "metadata": {},
   "outputs": [
    {
     "name": "stdout",
     "output_type": "stream",
     "text": [
      "[99, 92, 88]\n",
      "[12, 25, 34]\n",
      "[{'name': 'AAPL', 'shares': 50, 'price': 543.22}, {'name': 'ACME', 'shares': 75, 'price': 115.65}]\n",
      "[{'name': 'FB', 'shares': 200, 'price': 21.09}, {'name': 'IBM', 'shares': 100, 'price': 91.1}]\n"
     ]
    }
   ],
   "source": [
    "\"\"\"\n",
    "`heapq`模块（堆排序）\n",
    "\"\"\" \n",
    "\n",
    "\"\"\"\n",
    "从列表中找出最大的或最小的N个元素\n",
    "堆结构(大根堆/小根堆)\n",
    "\"\"\"\n",
    "import heapq\n",
    "  \n",
    "list1 = [34, 25, 12, 99, 87, 63, 58, 78, 88, 92]\n",
    "list2 = [\n",
    "      {'name': 'IBM', 'shares': 100, 'price': 91.1},\n",
    "      {'name': 'AAPL', 'shares': 50, 'price': 543.22},\n",
    "      {'name': 'FB', 'shares': 200, 'price': 21.09},\n",
    "      {'name': 'HPQ', 'shares': 35, 'price': 31.75},\n",
    "      {'name': 'YHOO', 'shares': 45, 'price': 16.35},\n",
    "      {'name': 'ACME', 'shares': 75, 'price': 115.65}\n",
    "]\n",
    "print(heapq.nlargest(3, list1))\n",
    "print(heapq.nsmallest(3, list1))\n",
    "print(heapq.nlargest(2, list2, key=lambda x: x['price']))\n",
    "print(heapq.nlargest(2, list2, key=lambda x: x['shares']))\n"
   ]
  },
  {
   "cell_type": "code",
   "execution_count": null,
   "metadata": {},
   "outputs": [],
   "source": [
    "\n",
    "\"\"\"\n",
    "迭代工具模块 itertools\n",
    "\"\"\"\n",
    "import itertools\n",
    "  \n",
    "# 产生ABCD的全排列\n",
    "itertools.permutations('ABCD')\n",
    "# 产生ABCDE的五选三组合\n",
    "itertools.combinations('ABCDE', 3)\n",
    "# 产生ABCD和123的笛卡尔积\n",
    "itertools.product('ABCD', '123')\n",
    "# 产生ABC的无限循环序列\n",
    "itertools.cycle(('A', 'B', 'C'))"
   ]
  },
  {
   "cell_type": "markdown",
   "metadata": {},
   "source": [
    "- `collections`模块\n",
    "\n",
    "  常用的工具类：\n",
    "\n",
    "  - `namedtuple`：命令元组，它是一个类工厂，接受类型的名称和属性列表来创建一个类。\n",
    "  - `deque`：双端队列，是列表的替代实现。Python中的列表底层是基于数组来实现的，而deque底层是双向链表，因此当你需要在头尾添加和删除元素时，deque会表现出更好的性能，渐近时间复杂度为$O(1)$。\n",
    "  - `Counter`：`dict`的子类，键是元素，值是元素的计数，它的`most_common()`方法可以帮助我们获取出现频率最高的元素。`Counter`和`dict`的继承关系我认为是值得商榷的，按照CARP原则，`Counter`跟`dict`的关系应该设计为关联关系更为合理。\n",
    "  - `OrderedDict`：`dict`的子类，它记录了键值对插入的顺序，看起来既有字典的行为，也有链表的行为。\n",
    "  - `defaultdict`：类似于字典类型，但是可以通过默认的工厂函数来获得键对应的默认值，相比字典中的`setdefault()`方法，这种做法更加高效。"
   ]
  },
  {
   "cell_type": "code",
   "execution_count": 8,
   "metadata": {},
   "outputs": [
    {
     "name": "stdout",
     "output_type": "stream",
     "text": [
      "[('eyes', 8), ('the', 5), ('look', 4)]\n"
     ]
    }
   ],
   "source": [
    "\"\"\"\n",
    "找出序列中出现次数最多的元素\n",
    "\"\"\"\n",
    "from collections import Counter\n",
    "  \n",
    "words = [\n",
    "      'look', 'into', 'my', 'eyes', 'look', 'into', 'my', 'eyes',\n",
    "      'the', 'eyes', 'the', 'eyes', 'the', 'eyes', 'not', 'around',\n",
    "      'the', 'eyes', \"don't\", 'look', 'around', 'the', 'eyes',\n",
    "      'look', 'into', 'my', 'eyes', \"you're\", 'under'\n",
    "]\n",
    "counter = Counter(words)\n",
    "print(counter.most_common(3))"
   ]
  },
  {
   "cell_type": "markdown",
   "metadata": {},
   "source": [
    "### 数据结构和算法\n",
    "\n",
    "- 算法：解决问题的方法和步骤\n",
    "\n",
    "- 评价算法的好坏：渐近时间复杂度和渐近空间复杂度。\n",
    "\n",
    "- 渐近时间复杂度的大O标记：\n",
    "  - <img src=\"http://latex.codecogs.com/gif.latex?O(c)\" /> - 常量时间复杂度 - 布隆过滤器 / 哈希存储\n",
    "  - <img src=\"http://latex.codecogs.com/gif.latex?O(log_2n)\" /> - 对数时间复杂度 - 折半查找（二分查找）\n",
    "  - <img src=\"http://latex.codecogs.com/gif.latex?O(n)\" /> - 线性时间复杂度 - 顺序查找 / 计数排序\n",
    "  - <img src=\"http://latex.codecogs.com/gif.latex?O(n*log_2n)\" /> - 对数线性时间复杂度 - 高级排序算法（归并排序、快速排序）\n",
    "  - <img src=\"http://latex.codecogs.com/gif.latex?O(n^2)\" /> - 平方时间复杂度 - 简单排序算法（选择排序、插入排序、冒泡排序）\n",
    "  - <img src=\"http://latex.codecogs.com/gif.latex?O(n^3)\" /> - 立方时间复杂度 - Floyd算法 / 矩阵乘法运算\n",
    "  - <img src=\"http://latex.codecogs.com/gif.latex?O(2^n)\" /> - 几何级数时间复杂度 - 汉诺塔\n",
    "  - <img src=\"http://latex.codecogs.com/gif.latex?O(n!)\" /> - 阶乘时间复杂度 - 旅行经销商问题 - NPC"
   ]
  },
  {
   "cell_type": "markdown",
   "metadata": {},
   "source": [
    "- 排序算法（选择、冒泡和归并）和查找算法（顺序和折半）"
   ]
  },
  {
   "cell_type": "code",
   "execution_count": 9,
   "metadata": {},
   "outputs": [],
   "source": [
    "  def select_sort(items, comp=lambda x, y: x < y):\n",
    "      \"\"\"简单选择排序\"\"\"\n",
    "      items = items[:]\n",
    "      for i in range(len(items) - 1):\n",
    "          min_index = i\n",
    "          for j in range(i + 1, len(items)):\n",
    "              if comp(items[j], items[min_index]):\n",
    "                  min_index = j\n",
    "          items[i], items[min_index] = items[min_index], items[i]\n",
    "      return items"
   ]
  },
  {
   "cell_type": "code",
   "execution_count": 10,
   "metadata": {},
   "outputs": [],
   "source": [
    "  def bubble_sort(items, comp=lambda x, y: x > y):\n",
    "      \"\"\"冒泡排序\"\"\"\n",
    "      items = items[:]\n",
    "      for i in range(len(items) - 1):\n",
    "          swapped = False\n",
    "          for j in range(len(items) - 1 - i):\n",
    "              if comp(items[j], items[j + 1]):\n",
    "                  items[j], items[j + 1] = items[j + 1], items[j]\n",
    "                  swapped = True\n",
    "          if not swapped:\n",
    "              break\n",
    "      return items"
   ]
  },
  {
   "cell_type": "code",
   "execution_count": 12,
   "metadata": {},
   "outputs": [],
   "source": [
    "  def bubble_sort(items, comp=lambda x, y: x > y):\n",
    "      \"\"\"搅拌排序(冒泡排序升级版)\"\"\"\n",
    "      items = items[:]\n",
    "      for i in range(len(items) - 1):\n",
    "          swapped = False\n",
    "          for j in range(len(items) - 1 - i):\n",
    "              if comp(items[j], items[j + 1]):\n",
    "                  items[j], items[j + 1] = items[j + 1], items[j]\n",
    "                  swapped = True\n",
    "          if swapped:\n",
    "              swapped = False\n",
    "              for j in range(len(items) - 2 - i, i, -1):\n",
    "                  if comp(items[j - 1], items[j]):\n",
    "                      items[j], items[j - 1] = items[j - 1], items[j]\n",
    "                      swapped = True\n",
    "          if not swapped:\n",
    "              break\n",
    "      return items"
   ]
  },
  {
   "cell_type": "code",
   "execution_count": 13,
   "metadata": {},
   "outputs": [],
   "source": [
    "  def merge(items1, items2, comp=lambda x, y: x < y):\n",
    "      \"\"\"合并(将两个有序的列表合并成一个有序的列表)\"\"\"\n",
    "      items = []\n",
    "      index1, index2 = 0, 0\n",
    "      while index1 < len(items1) and index2 < len(items2):\n",
    "          if comp(items1[index1], items2[index2]):\n",
    "              items.append(items1[index1])\n",
    "              index1 += 1\n",
    "          else:\n",
    "              items.append(items2[index2])\n",
    "              index2 += 1\n",
    "      items += items1[index1:]\n",
    "      items += items2[index2:]\n",
    "      return items\n",
    "  \n",
    "  \n",
    "  def merge_sort(items, comp=lambda x, y: x < y):\n",
    "      return _merge_sort(list(items), comp)\n",
    "  \n",
    "  \n",
    "  def _merge_sort(items, comp):\n",
    "      \"\"\"归并排序\"\"\"\n",
    "      if len(items) < 2:\n",
    "          return items\n",
    "      mid = len(items) // 2\n",
    "      left = _merge_sort(items[:mid], comp)\n",
    "      right = _merge_sort(items[mid:], comp)\n",
    "      return merge(left, right, comp)"
   ]
  },
  {
   "cell_type": "code",
   "execution_count": 14,
   "metadata": {},
   "outputs": [],
   "source": [
    "  def seq_search(items, key):\n",
    "      \"\"\"顺序查找\"\"\"\n",
    "      for index, item in enumerate(items):\n",
    "          if item == key:\n",
    "              return index\n",
    "      return -1"
   ]
  },
  {
   "cell_type": "code",
   "execution_count": null,
   "metadata": {},
   "outputs": [],
   "source": [
    "  def bin_search(items, key):\n",
    "      \"\"\"折半查找\"\"\"\n",
    "      start, end = 0, len(items) - 1\n",
    "      while start <= end:\n",
    "          mid = (start + end) // 2\n",
    "          if key > items[mid]:\n",
    "              start = mid + 1\n",
    "          elif key < items[mid]:\n",
    "              end = mid - 1\n",
    "          else:\n",
    "              return mid\n",
    "      return -1"
   ]
  },
  {
   "cell_type": "markdown",
   "metadata": {},
   "source": [
    "- 常用算法：\n",
    "\n",
    "  - 穷举法 - 又称为暴力破解法，对所有的可能性进行验证，直到找到正确答案。\n",
    "  - 贪婪法 - 在对问题求解时，总是做出在当前看来\n",
    "  - 最好的选择，不追求最优解，快速找到满意解。\n",
    "  - 分治法 - 把一个复杂的问题分成两个或更多的相同或相似的子问题，再把子问题分成更小的子问题，直到可以直接求解的程度，最后将子问题的解进行合并得到原问题的解。\n",
    "  - 回溯法 - 回溯法又称为试探法，按选优条件向前搜索，当搜索到某一步发现原先选择并不优或达不到目标时，就退回一步重新选择。\n",
    "  - 动态规划 - 基本思想也是将待求解问题分解成若干个子问题，先求解并保存这些子问题的解，避免产生大量的重复运算。"
   ]
  },
  {
   "cell_type": "code",
   "execution_count": 16,
   "metadata": {},
   "outputs": [
    {
     "name": "stdout",
     "output_type": "stream",
     "text": [
      "0 25 75\n",
      "4 18 78\n",
      "8 11 81\n",
      "12 4 84\n"
     ]
    }
   ],
   "source": [
    "  \n",
    "\n",
    "\n",
    "# 穷举法例子：百钱百鸡和五人分鱼。\n",
    "# 公鸡5元一只 母鸡3元一只 小鸡1元三只\n",
    "# 用100元买100只鸡 问公鸡/母鸡/小鸡各多少只\n",
    "for x in range(20):\n",
    "    for y in range(33):\n",
    "        z = 100 - x - y\n",
    "        if 5 * x + 3 * y + z // 3 == 100 and z % 3 == 0:\n",
    "            print(x, y, z)\n",
    "  "
   ]
  },
  {
   "cell_type": "code",
   "execution_count": 18,
   "metadata": {},
   "outputs": [
    {
     "name": "stdout",
     "output_type": "stream",
     "text": [
      "3121\n"
     ]
    }
   ],
   "source": [
    "  # A、B、C、D、E五人在某天夜里合伙捕鱼 最后疲惫不堪各自睡觉\n",
    "  # 第二天A第一个醒来 他将鱼分为5份 扔掉多余的1条 拿走自己的一份\n",
    "  # B第二个醒来 也将鱼分为5份 扔掉多余的1条 拿走自己的一份\n",
    "  # 然后C、D、E依次醒来也按同样的方式分鱼 问他们至少捕了多少条鱼\n",
    "fish = 6\n",
    "while True:\n",
    "    total = fish\n",
    "    enough = True\n",
    "    for _ in range(5):\n",
    "        if (total - 1) % 5 == 0:\n",
    "            total = (total - 1) // 5 * 4\n",
    "        else:\n",
    "            enough = False\n",
    "            break\n",
    "    if enough:\n",
    "        print(fish)\n",
    "        break\n",
    "    fish += 5"
   ]
  },
  {
   "cell_type": "markdown",
   "metadata": {},
   "source": [
    "  贪婪法例子：假设小偷有一个背包，最多能装20公斤赃物，他闯入一户人家，发现如下表所示的物品。很显然，他不能把所有物品都装进背包，所以必须确定拿走哪些物品，留下哪些物品。\n",
    "\n",
    "  |  名称  | 价格（美元） | 重量（kg） |\n",
    "  | :----: | :----------: | :--------: |\n",
    "  |  电脑  |     200      |     20     |\n",
    "  | 收音机 |      20      |     4      |\n",
    "  |   钟   |     175      |     10     |\n",
    "  |  花瓶  |      50      |     2      |\n",
    "  |   书   |      10      |     1      |\n",
    "  |  油画  |      90      |     9      |"
   ]
  },
  {
   "cell_type": "code",
   "execution_count": null,
   "metadata": {},
   "outputs": [],
   "source": [
    "  \"\"\"\n",
    "  贪婪法：在对问题求解时，总是做出在当前看来是最好的选择，不追求最优解，快速找到满意解。\n",
    "  输入：\n",
    "  20 6\n",
    "  电脑 200 20\n",
    "  收音机 20 4\n",
    "  钟 175 10\n",
    "  花瓶 50 2\n",
    "  书 10 1\n",
    "  油画 90 9\n",
    "  \"\"\"\n",
    "class Thing(object):\n",
    "    \"\"\"物品\"\"\"\n",
    "    def __init__(self, name, price, weight):\n",
    "        self.name = name\n",
    "        self.price = price\n",
    "        self.weight = weight\n",
    "  \n",
    "    @property\n",
    "    def value(self):\n",
    "        \"\"\"价格重量比\"\"\"\n",
    "        return self.price / self.weight\n",
    "  \n",
    "  \n",
    "    def input_thing():\n",
    "        \"\"\"输入物品信息\"\"\"\n",
    "        name_str, price_str, weight_str = input().split()\n",
    "        return name_str, int(price_str), int(weight_str)\n",
    "  \n",
    "  \n",
    "def main():\n",
    "    \"\"\"主函数\"\"\"\n",
    "    max_weight, num_of_things = map(int, input().split())\n",
    "    all_things = []\n",
    "    for _ in range(num_of_things):\n",
    "        all_things.append(Thing(*input_thing()))\n",
    "        all_things.sort(key=lambda x: x.value, reverse=True)\n",
    "        total_weight = 0\n",
    "        total_price = 0\n",
    "    for thing in all_things:\n",
    "        if total_weight + thing.weight <= max_weight:\n",
    "            print(f'小偷拿走了{thing.name}')\n",
    "            total_weight += thing.weight\n",
    "            total_price += thing.price\n",
    "    print(f'总价值: {total_price}美元')\n",
    "  \n",
    "  \n",
    "if __name__ == '__main__':\n",
    "    main()"
   ]
  },
  {
   "cell_type": "code",
   "execution_count": 20,
   "metadata": {},
   "outputs": [],
   "source": [
    "  \"\"\"\n",
    "  分治法快速排序 - 选择枢轴对元素进行划分，左边都比枢轴小右边都比枢轴大\n",
    "  \"\"\"\n",
    "  def quick_sort(items, comp=lambda x, y: x <= y):\n",
    "      items = list(items)[:]\n",
    "      _quick_sort(items, 0, len(items) - 1, comp)\n",
    "      return items\n",
    "  \n",
    "  \n",
    "  def _quick_sort(items, start, end, comp):\n",
    "      if start < end:\n",
    "          pos = _partition(items, start, end, comp)\n",
    "          _quick_sort(items, start, pos - 1, comp)\n",
    "          _quick_sort(items, pos + 1, end, comp)\n",
    "  \n",
    "  \n",
    "  def _partition(items, start, end, comp):\n",
    "      pivot = items[end]\n",
    "      i = start - 1\n",
    "      for j in range(start, end):\n",
    "          if comp(items[j], pivot):\n",
    "              i += 1\n",
    "              items[i], items[j] = items[j], items[i]\n",
    "      items[i + 1], items[end] = items[end], items[i + 1]\n",
    "      return i + 1"
   ]
  },
  {
   "cell_type": "markdown",
   "metadata": {},
   "source": [
    "  \"\"\"\n",
    "  递归回溯法：叫称为试探法，按选优条件向前搜索，当搜索到某一步，发现原先选择并不优或达不到目标时，就退回一步重新选择，比较经典的问题包括骑士巡逻、八皇后和迷宫寻路等。\n",
    "  \"\"\""
   ]
  },
  {
   "cell_type": "code",
   "execution_count": null,
   "metadata": {},
   "outputs": [],
   "source": [
    "  import sys\n",
    "  import time\n",
    "  \n",
    "  SIZE = 5\n",
    "  total = 0\n",
    "  \n",
    "  \n",
    "  def print_board(board):\n",
    "      for row in board:\n",
    "          for col in row:\n",
    "              print(str(col).center(4), end='')\n",
    "          print()\n",
    "  \n",
    "  \n",
    "  def patrol(board, row, col, step=1):\n",
    "      if row >= 0 and row < SIZE and \\\n",
    "          col >= 0 and col < SIZE and \\\n",
    "          board[row][col] == 0:\n",
    "          board[row][col] = step\n",
    "          if step == SIZE * SIZE:\n",
    "              global total\n",
    "              total += 1\n",
    "              print(f'第{total}种走法: ')\n",
    "              print_board(board)\n",
    "          patrol(board, row - 2, col - 1, step + 1)\n",
    "          patrol(board, row - 1, col - 2, step + 1)\n",
    "          patrol(board, row + 1, col - 2, step + 1)\n",
    "          patrol(board, row + 2, col - 1, step + 1)\n",
    "          patrol(board, row + 2, col + 1, step + 1)\n",
    "          patrol(board, row + 1, col + 2, step + 1)\n",
    "          patrol(board, row - 1, col + 2, step + 1)\n",
    "          patrol(board, row - 2, col + 1, step + 1)\n",
    "          board[row][col] = 0\n",
    "  \n",
    "  \n",
    "  def main():\n",
    "      board = [[0] * SIZE for _ in range(SIZE)]\n",
    "      patrol(board, SIZE - 1, SIZE - 1)\n",
    "  \n",
    "  \n",
    "  if __name__ == '__main__':\n",
    "      main()"
   ]
  },
  {
   "cell_type": "markdown",
   "metadata": {},
   "source": [
    "  \n",
    "  动态规划例子：子列表元素之和的最大值。\n",
    "\n",
    "  > 说明：子列表指的是列表中索引（下标）连续的元素构成的列表；列表中的元素是int类型，可能包含正整数、0、负整数；程序输入列表中的元素，输出子列表元素求和的最大值，例如：\n",
    "  >\n",
    "  > 输入：1 -2 3 5 -3 2\n",
    "  >\n",
    "  > 输出：8\n",
    "  >\n",
    "  > 输入：0 -2 3 5 -1 2\n",
    "  >\n",
    "  > 输出：9\n",
    "  >\n",
    "  > 输入：-9 -2 -3 -5 -3\n",
    "  >\n",
    "  > 输出：-2\n",
    " "
   ]
  },
  {
   "cell_type": "code",
   "execution_count": null,
   "metadata": {},
   "outputs": [],
   "source": [
    "def main():\n",
    "    items = list(map(int, input().split()))\n",
    "    overall = partial = items[0]\n",
    "    for i in range(1, len(items)):\n",
    "        partial = max(items[i], partial + items[i])\n",
    "        overall = max(partial, overall)\n",
    "    print(overall)\n",
    "    \n",
    "  \n",
    "if __name__ == '__main__':\n",
    "    main()"
   ]
  },
  {
   "cell_type": "markdown",
   "metadata": {},
   "source": [
    "> **说明**：这个题目最容易想到的解法是使用二重循环，但是代码的时间性能将会变得非常的糟糕。使用动态规划的思想，仅仅是多用了两个变量，就将原来$O(N^2)$复杂度的问题变成了$O(N)$。"
   ]
  },
  {
   "cell_type": "markdown",
   "metadata": {},
   "source": [
    "  \n",
    "\n",
    "### 函数的使用方式\n",
    "\n",
    "- 将函数视为“一等公民”\n",
    "\n",
    "  - 函数可以赋值给变量\n",
    "  - 函数可以作为函数的参数\n",
    "  - 函数可以作为函数的返回值"
   ]
  },
  {
   "cell_type": "markdown",
   "metadata": {},
   "source": [
    "- 高阶函数的用法（`filter`、`map`以及它们的替代品）"
   ]
  },
  {
   "cell_type": "code",
   "execution_count": null,
   "metadata": {},
   "outputs": [],
   "source": [
    "  items1 = list(map(lambda x: x ** 2, filter(lambda x: x % 2, range(1, 10))))\n",
    "  items2 = [x ** 2 for x in range(1, 10) if x % 2]"
   ]
  },
  {
   "cell_type": "markdown",
   "metadata": {},
   "source": [
    "- 位置参数、可变参数、关键字参数、命名关键字参数\n",
    "\n",
    "- 参数的元信息（代码可读性问题）\n",
    "\n",
    "- 匿名函数和内联函数的用法（`lambda`函数）"
   ]
  },
  {
   "cell_type": "markdown",
   "metadata": {},
   "source": [
    "- 闭包和作用域问题\n",
    "\n",
    "  - Python搜索变量的LEGB顺序（Local >>> Embedded >>> Global >>> Built-in）\n",
    "\n",
    "  - `global`和`nonlocal`关键字的作用\n",
    "\n",
    "    `global`：声明或定义全局变量（要么直接使用现有的全局作用域的变量，要么定义一个变量放到全局作用域）。\n",
    "\n",
    "    `nonlocal`：声明使用嵌套作用域的变量（嵌套作用域必须存在该变量，否则报错）。"
   ]
  },
  {
   "cell_type": "markdown",
   "metadata": {},
   "source": [
    "- 装饰器函数（使用装饰器和取消装饰器）\n",
    "\n",
    "  例子：输出函数执行时间的装饰器。"
   ]
  },
  {
   "cell_type": "code",
   "execution_count": null,
   "metadata": {},
   "outputs": [],
   "source": [
    "def record_time(func):\n",
    "    \"\"\"自定义装饰函数的装饰器\"\"\"\n",
    "    \n",
    "    @wraps(func)\n",
    "    def wrapper(*args, **kwargs):\n",
    "        start = time()\n",
    "        result = func(*args, **kwargs)\n",
    "        print(f'{func.__name__}: {time() - start}秒')\n",
    "        return result\n",
    "        \n",
    "    return wrapper"
   ]
  },
  {
   "cell_type": "markdown",
   "metadata": {},
   "source": [
    " 如果装饰器不希望跟`print`函数耦合，可以编写可以参数化的装饰器。"
   ]
  },
  {
   "cell_type": "code",
   "execution_count": null,
   "metadata": {},
   "outputs": [],
   "source": [
    "from functools import wraps\n",
    "from time import time\n",
    "  \n",
    "  \n",
    "def record(output):\n",
    "    \"\"\"可以参数化的装饰器\"\"\"\n",
    "\t\n",
    "\tdef decorate(func):\n",
    "\t\t\n",
    "\t\t@wraps(func)\n",
    "\t\tdef wrapper(*args, **kwargs):\n",
    "\t\t\tstart = time()\n",
    "\t\t\tresult = func(*args, **kwargs)\n",
    "\t\t\toutput(func.__name__, time() - start)\n",
    "\t\t\treturn result\n",
    "            \n",
    "\t\treturn wrapper\n",
    "\t\n",
    "\treturn decorate\n"
   ]
  },
  {
   "cell_type": "code",
   "execution_count": null,
   "metadata": {},
   "outputs": [],
   "source": [
    "from functools import wraps\n",
    "from time import time\n",
    "  \n",
    "  \n",
    "class Record():\n",
    "    \"\"\"通过定义类的方式定义装饰器\"\"\"\n",
    "  \n",
    "    def __init__(self, output):\n",
    "        self.output = output\n",
    "  \n",
    "    def __call__(self, func):\n",
    "  \n",
    "        @wraps(func)\n",
    "         def wrapper(*args, **kwargs):\n",
    "             start = time()\n",
    "             result = func(*args, **kwargs)\n",
    "             self.output(func.__name__, time() - start)\n",
    "             return result\n",
    "  \n",
    "        return wrapper"
   ]
  },
  {
   "cell_type": "markdown",
   "metadata": {},
   "source": [
    "  > **说明**：由于对带装饰功能的函数添加了@wraps装饰器，可以通过`func.__wrapped__`方式获得被装饰之前的函数或类来取消装饰器的作用。\n",
    "\n",
    "  例子：用装饰器来实现单例模式。"
   ]
  },
  {
   "cell_type": "code",
   "execution_count": null,
   "metadata": {},
   "outputs": [],
   "source": [
    "  from functools import wraps\n",
    "  \n",
    "  \n",
    "  def singleton(cls):\n",
    "      \"\"\"装饰类的装饰器\"\"\"\n",
    "      instances = {}\n",
    "  \n",
    "      @wraps(cls)\n",
    "      def wrapper(*args, **kwargs):\n",
    "          if cls not in instances:\n",
    "              instances[cls] = cls(*args, **kwargs)\n",
    "          return instances[cls]\n",
    "  \n",
    "      return wrapper\n",
    "  \n",
    "  \n",
    "  @singleton\n",
    "  class President:\n",
    "      \"\"\"总统(单例类)\"\"\"\n",
    "      pass"
   ]
  },
  {
   "cell_type": "markdown",
   "metadata": {},
   "source": [
    "  > **提示**：上面的代码中用到了闭包（closure），不知道你是否已经意识到了。还没有一个小问题就是，上面的代码并没有实现线程安全的单例，如果要实现线程安全的单例应该怎么做呢？\n",
    "\n",
    "  线程安全的单例装饰器。"
   ]
  },
  {
   "cell_type": "code",
   "execution_count": null,
   "metadata": {},
   "outputs": [],
   "source": [
    "  from functools import wraps\n",
    "  from threading import RLock\n",
    "  \n",
    "  \n",
    "  def singleton(cls):\n",
    "      \"\"\"线程安全的单例装饰器\"\"\"\n",
    "      instances = {}\n",
    "      locker = RLock()\n",
    "  \n",
    "      @wraps(cls)\n",
    "      def wrapper(*args, **kwargs):\n",
    "          if cls not in instances:\n",
    "              with locker:\n",
    "                  if cls not in instances:\n",
    "                      instances[cls] = cls(*args, **kwargs)\n",
    "          return instances[cls]\n",
    "  \n",
    "      return wrapper"
   ]
  },
  {
   "cell_type": "markdown",
   "metadata": {},
   "source": [
    "  > **提示**：上面的代码用到了`with`上下文语法来进行锁操作，因为锁对象本身就是上下文管理器对象（支持`__enter__`和`__exit__`魔术方法）。在`wrapper`函数中，我们先做了一次不带锁的检查，然后再做带锁的检查，这样做比直接加锁检查性能要更好，如果对象已经创建就没有必须再去加锁而是直接返回该对象就可以了。"
   ]
  },
  {
   "cell_type": "markdown",
   "metadata": {},
   "source": [
    "### 面向对象相关知识\n",
    "\n",
    "- 三大支柱：封装、继承、多态"
   ]
  },
  {
   "cell_type": "markdown",
   "metadata": {},
   "source": [
    "  例子：工资结算系统。"
   ]
  },
  {
   "cell_type": "code",
   "execution_count": null,
   "metadata": {},
   "outputs": [],
   "source": [
    "  \"\"\"\n",
    "  月薪结算系统 - 部门经理每月15000 程序员每小时200 销售员1800底薪加销售额5%提成\n",
    "  \"\"\"\n",
    "  from abc import ABCMeta, abstractmethod\n",
    "  \n",
    "  \n",
    "  class Employee(metaclass=ABCMeta):\n",
    "      \"\"\"员工(抽象类)\"\"\"\n",
    "  \n",
    "      def __init__(self, name):\n",
    "          self.name = name\n",
    "  \n",
    "      @abstractmethod\n",
    "      def get_salary(self):\n",
    "          \"\"\"结算月薪(抽象方法)\"\"\"\n",
    "          pass\n",
    "  \n",
    "  \n",
    "  class Manager(Employee):\n",
    "      \"\"\"部门经理\"\"\"\n",
    "  \n",
    "      def get_salary(self):\n",
    "          return 15000.0\n",
    "  \n",
    "  \n",
    "  class Programmer(Employee):\n",
    "      \"\"\"程序员\"\"\"\n",
    "  \n",
    "      def __init__(self, name, working_hour=0):\n",
    "          self.working_hour = working_hour\n",
    "          super().__init__(name)\n",
    "  \n",
    "      def get_salary(self):\n",
    "          return 200.0 * self.working_hour\n",
    "  \n",
    "  \n",
    "  class Salesman(Employee):\n",
    "      \"\"\"销售员\"\"\"\n",
    "  \n",
    "      def __init__(self, name, sales=0.0):\n",
    "          self.sales = sales\n",
    "          super().__init__(name)\n",
    "  \n",
    "      def get_salary(self):\n",
    "          return 1800.0 + self.sales * 0.05\n",
    "  \n",
    "  \n",
    "  class EmployeeFactory:\n",
    "      \"\"\"创建员工的工厂（工厂模式 - 通过工厂实现对象使用者和对象之间的解耦合）\"\"\"\n",
    "  \n",
    "      @staticmethod\n",
    "      def create(emp_type, *args, **kwargs):\n",
    "          \"\"\"创建员工\"\"\"\n",
    "          all_emp_types = {'M': Manager, 'P': Programmer, 'S': Salesman}\n",
    "          cls = all_emp_types[emp_type.upper()]\n",
    "          return cls(*args, **kwargs) if cls else None\n",
    "  \n",
    "  \n",
    "  def main():\n",
    "      \"\"\"主函数\"\"\"\n",
    "      emps = [\n",
    "          EmployeeFactory.create('M', '曹操'), \n",
    "          EmployeeFactory.create('P', '荀彧', 120),\n",
    "          EmployeeFactory.create('P', '郭嘉', 85), \n",
    "          EmployeeFactory.create('S', '典韦', 123000),\n",
    "      ]\n",
    "      for emp in emps:\n",
    "          print(f'{emp.name}: {emp.get_salary():.2f}元')\n",
    "  \n",
    "  \n",
    "  if __name__ == '__main__':\n",
    "      main()"
   ]
  },
  {
   "cell_type": "markdown",
   "metadata": {},
   "source": [
    "- 类与类之间的关系\n",
    "\n",
    "  - is-a关系：继承\n",
    "  - has-a关系：关联 / 聚合 / 合成\n",
    "  - use-a关系：依赖"
   ]
  },
  {
   "cell_type": "markdown",
   "metadata": {},
   "source": [
    "  例子：扑克游戏。"
   ]
  },
  {
   "cell_type": "code",
   "execution_count": null,
   "metadata": {},
   "outputs": [],
   "source": [
    "  \"\"\"\n",
    "  经验：符号常量总是优于字面常量，枚举类型是定义符号常量的最佳选择\n",
    "  \"\"\"\n",
    "  from enum import Enum, unique\n",
    "  \n",
    "  import random\n",
    "  \n",
    "  \n",
    "  @unique\n",
    "  class Suite(Enum):\n",
    "      \"\"\"花色\"\"\"\n",
    "  \n",
    "      SPADE, HEART, CLUB, DIAMOND = range(4)\n",
    "  \n",
    "      def __lt__(self, other):\n",
    "          return self.value < other.value\n",
    "  \n",
    "  \n",
    "  class Card():\n",
    "      \"\"\"牌\"\"\"\n",
    "  \n",
    "      def __init__(self, suite, face):\n",
    "          \"\"\"初始化方法\"\"\"\n",
    "          self.suite = suite\n",
    "          self.face = face\n",
    "  \n",
    "      def show(self):\n",
    "          \"\"\"显示牌面\"\"\"\n",
    "          suites = ['♠︎', '♥︎', '♣︎', '♦︎']\n",
    "          faces = ['', 'A', '2', '3', '4', '5', '6', '7', '8', '9', '10', 'J', 'Q', 'K']\n",
    "          return f'{suites[self.suite.value]}{faces[self.face]}'\n",
    "  \n",
    "      def __repr__(self):\n",
    "          return self.show()\n",
    "  \n",
    "  \n",
    "  class Poker():\n",
    "      \"\"\"扑克\"\"\"\n",
    "  \n",
    "      def __init__(self):\n",
    "          self.index = 0\n",
    "          self.cards = [Card(suite, face)\n",
    "                        for suite in Suite\n",
    "                        for face in range(1, 14)]\n",
    "  \n",
    "      def shuffle(self):\n",
    "          \"\"\"洗牌（随机乱序）\"\"\"\n",
    "          random.shuffle(self.cards)\n",
    "          self.index = 0\n",
    "  \n",
    "      def deal(self):\n",
    "          \"\"\"发牌\"\"\"\n",
    "          card = self.cards[self.index]\n",
    "          self.index += 1\n",
    "          return card\n",
    "  \n",
    "      @property\n",
    "      def has_more(self):\n",
    "          return self.index < len(self.cards)\n",
    "  \n",
    "  \n",
    "  class Player():\n",
    "      \"\"\"玩家\"\"\"\n",
    "  \n",
    "      def __init__(self, name):\n",
    "          self.name = name\n",
    "          self.cards = []\n",
    "  \n",
    "      def get_one(self, card):\n",
    "          \"\"\"摸一张牌\"\"\"\n",
    "          self.cards.append(card)\n",
    "  \n",
    "      def sort(self, comp=lambda card: (card.suite, card.face)):\n",
    "          \"\"\"整理手上的牌\"\"\"\n",
    "          self.cards.sort(key=comp)\n",
    "  \n",
    "  \n",
    "  def main():\n",
    "      \"\"\"主函数\"\"\"\n",
    "      poker = Poker()\n",
    "      poker.shuffle()\n",
    "      players = [Player('东邪'), Player('西毒'), Player('南帝'), Player('北丐')]\n",
    "      while poker.has_more:\n",
    "          for player in players:\n",
    "                  player.get_one(poker.deal())\n",
    "      for player in players:\n",
    "          player.sort()\n",
    "          print(player.name, end=': ')\n",
    "          print(player.cards)\n",
    "  \n",
    "  \n",
    "  if __name__ == '__main__':\n",
    "      main()"
   ]
  },
  {
   "cell_type": "markdown",
   "metadata": {},
   "source": [
    "  > **说明**：上面的代码中使用了Emoji字符来表示扑克牌的四种花色，在某些不支持Emoji字符的系统上可能无法显示。"
   ]
  },
  {
   "cell_type": "markdown",
   "metadata": {},
   "source": [
    "- 对象的复制（深复制/深拷贝/深度克隆和浅复制/浅拷贝/影子克隆）\n",
    "\n",
    "- 垃圾回收、循环引用和弱引用\n",
    "\n",
    "  Python使用了自动化内存管理，这种管理机制以**引用计数**为基础，同时也引入了**标记-清除**和**分代收集**两种机制为辅的策略。"
   ]
  },
  {
   "cell_type": "markdown",
   "metadata": {},
   "source": [
    "  ```C\n",
    "  typedef struct _object {\n",
    "      /* 引用计数 */\n",
    "      int ob_refcnt;\n",
    "      /* 对象指针 */\n",
    "      struct _typeobject *ob_type;\n",
    "  } PyObject;\n",
    "  ```\n",
    "\n",
    "  ```C\n",
    "  /* 增加引用计数的宏定义 */\n",
    "  #define Py_INCREF(op)   ((op)->ob_refcnt++)\n",
    "  /* 减少引用计数的宏定义 */\n",
    "  #define Py_DECREF(op) \\ //减少计数\n",
    "      if (--(op)->ob_refcnt != 0) \\\n",
    "          ; \\\n",
    "      else \\\n",
    "          __Py_Dealloc((PyObject *)(op))\n",
    "  ```"
   ]
  },
  {
   "cell_type": "markdown",
   "metadata": {},
   "source": [
    "  导致引用计数+1的情况：\n",
    "\n",
    "  - 对象被创建，例如`a = 23`\n",
    "  - 对象被引用，例如`b = a`\n",
    "  - 对象被作为参数，传入到一个函数中，例如`f(a)`\n",
    "  - 对象作为一个元素，存储在容器中，例如`list1 = [a, a]`"
   ]
  },
  {
   "cell_type": "markdown",
   "metadata": {},
   "source": [
    "  导致引用计数-1的情况：\n",
    "\n",
    "  - 对象的别名被显式销毁，例如`del a`\n",
    "  - 对象的别名被赋予新的对象，例如`a = 24`\n",
    "  - 一个对象离开它的作用域，例如f函数执行完毕时，f函数中的局部变量（全局变量不会）\n",
    "  - 对象所在的容器被销毁，或从容器中删除对象"
   ]
  },
  {
   "cell_type": "markdown",
   "metadata": {},
   "source": [
    "  引用计数可能会导致循环引用问题，而循环引用会导致内存泄露，如下面的代码所示。为了解决这个问题，Python中引入了“标记-清除”和“分代收集”。在创建一个对象的时候，对象被放在第一代中，如果在第一代的垃圾检查中对象存活了下来，该对象就会被放到第二代中，同理在第二代的垃圾检查中对象存活下来，该对象就会被放到第三代中。"
   ]
  },
  {
   "cell_type": "code",
   "execution_count": null,
   "metadata": {},
   "outputs": [],
   "source": [
    "  # 循环引用会导致内存泄露 - Python除了引用技术还引入了标记清理和分代回收\n",
    "  # 在Python 3.6以前如果重写__del__魔术方法会导致循环引用处理失效\n",
    "  # 如果不想造成循环引用可以使用弱引用\n",
    "  list1 = []\n",
    "  list2 = [] \n",
    "  list1.append(list2)\n",
    "  list2.append(list1)\n"
   ]
  },
  {
   "cell_type": "markdown",
   "metadata": {},
   "source": [
    "  以下情况会导致垃圾回收：\n",
    "\n",
    "  - 调用`gc.collect()`\n",
    "  - `gc`模块的计数器达到阀值\n",
    "  - 程序退出"
   ]
  },
  {
   "cell_type": "markdown",
   "metadata": {},
   "source": [
    "  如果循环引用中两个对象都定义了`__del__`方法，`gc`模块不会销毁这些不可达对象，因为gc模块不知道应该先调用哪个对象的`__del__`方法，这个问题在Python 3.6中得到了解决。\n",
    "\n",
    "  也可以通过`weakref`模块构造弱引用的方式来解决循环引用的问题。"
   ]
  },
  {
   "cell_type": "markdown",
   "metadata": {},
   "source": [
    "- 魔法属性和方法（请参考《Python魔法方法指南》）\n",
    "\n",
    "  有几个小问题请大家思考：\n",
    "\n",
    "  - 自定义的对象能不能使用运算符做运算？\n",
    "  - 自定义的对象能不能放到`set`中？能去重吗？\n",
    "  - 自定义的对象能不能作为`dict`的键？\n",
    "  - 自定义的对象能不能使用上下文语法？"
   ]
  },
  {
   "cell_type": "markdown",
   "metadata": {},
   "source": [
    "- 混入（Mixin）\n",
    "\n",
    "  例子：自定义字典限制只有在指定的key不存在时才能在字典中设置键值对。"
   ]
  },
  {
   "cell_type": "code",
   "execution_count": null,
   "metadata": {},
   "outputs": [],
   "source": [
    "  class SetOnceMappingMixin:\n",
    "      \"\"\"自定义混入类\"\"\"\n",
    "      __slots__ = ()\n",
    "  \n",
    "      def __setitem__(self, key, value):\n",
    "          if key in self:\n",
    "              raise KeyError(str(key) + ' already set')\n",
    "          return super().__setitem__(key, value)\n",
    "  \n",
    "  \n",
    "  class SetOnceDict(SetOnceMappingMixin, dict):\n",
    "      \"\"\"自定义字典\"\"\"\n",
    "      pass\n",
    "  \n",
    "  \n",
    "  my_dict= SetOnceDict()\n",
    "  try:\n",
    "      my_dict['username'] = 'jackfrued'\n",
    "      my_dict['username'] = 'hellokitty'\n",
    "  except KeyError:\n",
    "      pass\n",
    "  print(my_dict)"
   ]
  },
  {
   "cell_type": "markdown",
   "metadata": {},
   "source": []
  }
 ],
 "metadata": {
  "celltoolbar": "原始单元格格式",
  "kernelspec": {
   "display_name": "Python 3 (ipykernel)",
   "language": "python",
   "name": "python3"
  },
  "language_info": {
   "codemirror_mode": {
    "name": "ipython",
    "version": 3
   },
   "file_extension": ".py",
   "mimetype": "text/x-python",
   "name": "python",
   "nbconvert_exporter": "python",
   "pygments_lexer": "ipython3",
   "version": "3.9.12"
  },
  "toc": {
   "base_numbering": 1,
   "nav_menu": {},
   "number_sections": true,
   "sideBar": true,
   "skip_h1_title": true,
   "title_cell": "Table of Contents",
   "title_sidebar": "Contents",
   "toc_cell": false,
   "toc_position": {},
   "toc_section_display": true,
   "toc_window_display": true
  },
  "vscode": {
   "interpreter": {
    "hash": "4ac58c68a7555430f59ebde22571acf41a779f71ba338658c9667eabd9be8e0e"
   }
  }
 },
 "nbformat": 4,
 "nbformat_minor": 2
}
