{
 "cells": [
  {
   "cell_type": "markdown",
   "id": "5574d261",
   "metadata": {},
   "source": [
    "# 元组 (Tuple)"
   ]
  },
  {
   "cell_type": "markdown",
   "id": "30ecc23e",
   "metadata": {},
   "source": [
    "**元组**: 顾名思义：是（不同类）元素的组合, \n",
    "\n",
    "```python\n",
    "    ('张三', '男', 18, True, '成都', 80, 90 ,80, 90,95)\n",
    "```\n",
    "象是数据库（Excel表）中的一条记录, \n",
    "\n",
    "对应字段(行首)是： 姓名，性别，年龄，是否党员，籍贯, 数学，　..."
   ]
  },
  {
   "cell_type": "markdown",
   "id": "a3153656",
   "metadata": {},
   "source": [
    "## 基本操作"
   ]
  },
  {
   "cell_type": "markdown",
   "id": "183ab751",
   "metadata": {},
   "source": [
    "　生成元组:"
   ]
  },
  {
   "cell_type": "code",
   "execution_count": 18,
   "id": "23ff5295",
   "metadata": {
    "collapsed": false
   },
   "outputs": [
    {
     "data": {
      "text/plain": [
       "('张三', '男', 18, True, '成都', 80, 90, 80, 90, 95)"
      ]
     },
     "execution_count": 18,
     "metadata": {},
     "output_type": "execute_result"
    }
   ],
   "source": [
    "t = ('张三', '男', 18, True, '成都', 80, 90 ,80, 90,95)\n",
    "t"
   ]
  },
  {
   "cell_type": "code",
   "execution_count": 2,
   "id": "8e44734c",
   "metadata": {
    "collapsed": false
   },
   "outputs": [
    {
     "name": "stdout",
     "output_type": "stream",
     "text": [
      "(10,)\n",
      "<class 'tuple'>\n"
     ]
    }
   ],
   "source": [
    "a = (10,) \n",
    "print(a)\n",
    "print(type(a))"
   ]
  },
  {
   "cell_type": "code",
   "execution_count": 25,
   "id": "92d4aa92",
   "metadata": {
    "collapsed": false
   },
   "outputs": [
    {
     "name": "stdout",
     "output_type": "stream",
     "text": [
      "(10, 11, 12, 10, 14)\n"
     ]
    }
   ],
   "source": [
    "a = tuple([10, 11, 12, 10, 14])\n",
    "print(a)"
   ]
  },
  {
   "cell_type": "code",
   "execution_count": 35,
   "id": "27951bad",
   "metadata": {},
   "outputs": [
    {
     "data": {
      "text/plain": [
       "generator"
      ]
     },
     "execution_count": 35,
     "metadata": {},
     "output_type": "execute_result"
    }
   ],
   "source": [
    "b = (x for x in range(5))  # 生成式\n",
    "type(b)"
   ]
  },
  {
   "cell_type": "markdown",
   "id": "ee110e84",
   "metadata": {},
   "source": [
    "索引，切片："
   ]
  },
  {
   "cell_type": "code",
   "execution_count": 19,
   "id": "12fbe987",
   "metadata": {
    "collapsed": false
   },
   "outputs": [
    {
     "data": {
      "text/plain": [
       "'张三'"
      ]
     },
     "execution_count": 19,
     "metadata": {},
     "output_type": "execute_result"
    }
   ],
   "source": [
    "t[0]"
   ]
  },
  {
   "cell_type": "code",
   "execution_count": 20,
   "id": "e9562226",
   "metadata": {
    "collapsed": false
   },
   "outputs": [
    {
     "name": "stdout",
     "output_type": "stream",
     "text": [
      "('张三', '男', 18, True, '成都')\n",
      "(80, 90, 80, 90, 95)\n"
     ]
    }
   ],
   "source": [
    "t_1 = t[:5]\n",
    "t_2= t[5:]\n",
    "print(t_1)\n",
    "print(t_2)"
   ]
  },
  {
   "cell_type": "markdown",
   "id": "688e5c49",
   "metadata": {},
   "source": [
    "合并:"
   ]
  },
  {
   "cell_type": "code",
   "execution_count": 22,
   "id": "3021b60b",
   "metadata": {},
   "outputs": [
    {
     "data": {
      "text/plain": [
       "('张三', '男', 18, True, '成都', '张三', '男', 18, True, '成都', 80, 90, 80, 90, 95)"
      ]
     },
     "execution_count": 22,
     "metadata": {},
     "output_type": "execute_result"
    }
   ],
   "source": [
    "t = t_1 *2 +t_2\n",
    "t"
   ]
  },
  {
   "cell_type": "markdown",
   "id": "749e1905",
   "metadata": {},
   "source": [
    "求长度:"
   ]
  },
  {
   "cell_type": "code",
   "execution_count": 43,
   "id": "bbe79724",
   "metadata": {},
   "outputs": [
    {
     "data": {
      "text/plain": [
       "15"
      ]
     },
     "execution_count": 43,
     "metadata": {},
     "output_type": "execute_result"
    }
   ],
   "source": [
    "len(t)"
   ]
  },
  {
   "cell_type": "markdown",
   "id": "14743ab8",
   "metadata": {},
   "source": [
    "求最值:"
   ]
  },
  {
   "cell_type": "code",
   "execution_count": 41,
   "id": "c94463d4",
   "metadata": {},
   "outputs": [
    {
     "data": {
      "text/plain": [
       "5"
      ]
     },
     "execution_count": 41,
     "metadata": {},
     "output_type": "execute_result"
    }
   ],
   "source": [
    "numbers = (1,2,3,4,5)\n",
    "\n",
    "max(numbers)"
   ]
  },
  {
   "cell_type": "markdown",
   "id": "834b9fc1",
   "metadata": {},
   "source": [
    "删除:"
   ]
  },
  {
   "cell_type": "code",
   "execution_count": 44,
   "id": "60115c41",
   "metadata": {},
   "outputs": [],
   "source": [
    "del numbers"
   ]
  },
  {
   "cell_type": "markdown",
   "id": "296c0250",
   "metadata": {},
   "source": [
    "元组不可变："
   ]
  },
  {
   "cell_type": "code",
   "execution_count": null,
   "id": "df9707b9",
   "metadata": {
    "collapsed": false
   },
   "outputs": [],
   "source": [
    "# 报错\n",
    "t[0] = 1\n",
    "# TypeError: 'tuple' object does not support item assignment"
   ]
  },
  {
   "cell_type": "markdown",
   "id": "699f9ee3",
   "metadata": {},
   "source": [
    "## 元组方法"
   ]
  },
  {
   "cell_type": "markdown",
   "id": "7b330651",
   "metadata": {},
   "source": [
    "元组是不可变的，只能有一些不可变的方法，例如计算元素出现次数 `count` 和给出元素的位置 `index` 等。"
   ]
  },
  {
   "cell_type": "code",
   "execution_count": 26,
   "id": "d99c0113",
   "metadata": {
    "collapsed": false
   },
   "outputs": [
    {
     "data": {
      "text/plain": [
       "2"
      ]
     },
     "execution_count": 26,
     "metadata": {},
     "output_type": "execute_result"
    }
   ],
   "source": [
    "a.count(10)"
   ]
  },
  {
   "cell_type": "code",
   "execution_count": 27,
   "id": "6d6ab476",
   "metadata": {
    "collapsed": false
   },
   "outputs": [
    {
     "data": {
      "text/plain": [
       "2"
      ]
     },
     "execution_count": 27,
     "metadata": {},
     "output_type": "execute_result"
    }
   ],
   "source": [
    "a.index(12)"
   ]
  },
  {
   "cell_type": "markdown",
   "id": "7abb0fca",
   "metadata": {},
   "source": [
    "遍历元组"
   ]
  },
  {
   "cell_type": "code",
   "execution_count": 38,
   "id": "ea2aad89",
   "metadata": {},
   "outputs": [
    {
     "name": "stdout",
     "output_type": "stream",
     "text": [
      "0\n",
      "1\n",
      "2\n",
      "3\n",
      "4\n"
     ]
    }
   ],
   "source": [
    "b = (x for x in range(5))  # 生成式\n",
    "for member in b:\n",
    "    print(member)\n"
   ]
  }
 ],
 "metadata": {
  "kernelspec": {
   "display_name": "Python 3.10.3 64-bit",
   "language": "python",
   "name": "python3"
  },
  "language_info": {
   "codemirror_mode": {
    "name": "ipython",
    "version": 3
   },
   "file_extension": ".py",
   "mimetype": "text/x-python",
   "name": "python",
   "nbconvert_exporter": "python",
   "pygments_lexer": "ipython3",
   "version": "3.10.3"
  },
  "toc": {
   "base_numbering": 1,
   "nav_menu": {},
   "number_sections": true,
   "sideBar": true,
   "skip_h1_title": true,
   "title_cell": "Table of Contents",
   "title_sidebar": "Contents",
   "toc_cell": false,
   "toc_position": {},
   "toc_section_display": true,
   "toc_window_display": true
  },
  "vscode": {
   "interpreter": {
    "hash": "7e1998ff7f8aa20ada591c520b972326324e5ea05489af9e422744c7c09f6dad"
   }
  }
 },
 "nbformat": 4,
 "nbformat_minor": 5
}
