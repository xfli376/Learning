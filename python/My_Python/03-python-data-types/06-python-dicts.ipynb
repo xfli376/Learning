{
 "cells": [
  {
   "cell_type": "markdown",
   "id": "b6991bbd",
   "metadata": {},
   "source": [
    "# 字典 （Dict）"
   ]
  },
  {
   "cell_type": "markdown",
   "id": "caa699c2",
   "metadata": {},
   "source": [
    "字典 `dictionary` ，在一些编程语言中也称为 `hash` ， `map` ，是一种由`键值对`组成的数据结构。\n",
    "\n",
    "顾名思义，我们把键想象成字典中的单词，值想象成与词对应的意义"
   ]
  },
  {
   "cell_type": "markdown",
   "id": "bfe5fe26",
   "metadata": {},
   "source": [
    "## 基本操作"
   ]
  },
  {
   "cell_type": "markdown",
   "id": "ab62b1e5",
   "metadata": {},
   "source": [
    "### 字典的建立"
   ]
  },
  {
   "cell_type": "code",
   "execution_count": 1,
   "id": "950512b0",
   "metadata": {},
   "outputs": [
    {
     "data": {
      "text/plain": [
       "{'man': 'an adult male human being', 'woman': 'an adult female human being'}"
      ]
     },
     "execution_count": 1,
     "metadata": {},
     "output_type": "execute_result"
    }
   ],
   "source": [
    "dc = dict()\n",
    "dc[\"man\"] = \"an adult male human being\"\n",
    "dc[\"woman\"] = \"an adult female human being\"\n",
    "dc"
   ]
  },
  {
   "cell_type": "code",
   "execution_count": null,
   "id": "7a1374f9",
   "metadata": {},
   "outputs": [
    {
     "data": {
      "text/plain": [
       "{'one': 'this is number 1', 'two': 'this is number 2'}"
      ]
     },
     "metadata": {},
     "output_type": "display_data"
    }
   ],
   "source": [
    "b = {'one': 'this is number 1', 'two': 'this is number 2'}\n",
    "b"
   ]
  },
  {
   "cell_type": "markdown",
   "id": "ccc66801",
   "metadata": {},
   "source": [
    "### 查看键值"
   ]
  },
  {
   "cell_type": "code",
   "execution_count": null,
   "id": "9a256dc0",
   "metadata": {},
   "outputs": [
    {
     "data": {
      "text/plain": [
       "'an adult male human being'"
      ]
     },
     "metadata": {},
     "output_type": "display_data"
    }
   ],
   "source": [
    "dc['man']"
   ]
  },
  {
   "cell_type": "markdown",
   "id": "1548fa00",
   "metadata": {},
   "source": [
    "### 更新键值"
   ]
  },
  {
   "cell_type": "code",
   "execution_count": null,
   "id": "04376320",
   "metadata": {},
   "outputs": [
    {
     "data": {
      "text/plain": [
       "{'man': 'An adult male human being', 'woman': 'an adult female human being'}"
      ]
     },
     "metadata": {},
     "output_type": "display_data"
    }
   ],
   "source": [
    "dc['man'] = \"An adult male human being\"\n",
    "dc"
   ]
  },
  {
   "cell_type": "markdown",
   "id": "124ff7d0",
   "metadata": {},
   "source": [
    "### 初始化字典"
   ]
  },
  {
   "cell_type": "markdown",
   "id": "51fae699",
   "metadata": {},
   "source": [
    "可以看到，Python使用`key: value`这样的结构来表示字典中的元素结构，事实上，可以直接使用这样的结构来初始化一个字典："
   ]
  },
  {
   "cell_type": "markdown",
   "id": "e32c061d",
   "metadata": {},
   "source": [
    "### 字典没有顺序"
   ]
  },
  {
   "cell_type": "markdown",
   "id": "604484ac",
   "metadata": {},
   "source": [
    "因此，**Python**中不支持用数字索引按顺序查看字典中的值,注意不要引起混淆："
   ]
  },
  {
   "cell_type": "code",
   "execution_count": null,
   "id": "a262bb98",
   "metadata": {},
   "outputs": [
    {
     "data": {
      "text/plain": [
       "{'man': 'An adult male human being',\n",
       " 'woman': 'an adult female human being',\n",
       " 0: 'Did you spell it correctly'}"
      ]
     },
     "metadata": {},
     "output_type": "display_data"
    }
   ],
   "source": [
    "dc[0] = \"Did you spell it correctly\"\n",
    "dc"
   ]
  },
  {
   "cell_type": "code",
   "execution_count": null,
   "id": "50f7c680",
   "metadata": {},
   "outputs": [
    {
     "data": {
      "text/plain": [
       "'Did you spell it correctly'"
      ]
     },
     "metadata": {},
     "output_type": "display_data"
    }
   ],
   "source": [
    "dc[0]"
   ]
  },
  {
   "cell_type": "code",
   "execution_count": null,
   "id": "0d6cb37f",
   "metadata": {},
   "outputs": [
    {
     "data": {
      "text/plain": [
       "{'man': 'An adult male human being',\n",
       " 'woman': 'an adult female human being',\n",
       " 0: 'Did you spell it correctly',\n",
       " '0': '哈哈哈'}"
      ]
     },
     "metadata": {},
     "output_type": "display_data"
    }
   ],
   "source": [
    "dc['0'] = \"哈哈哈\"\n",
    "dc"
   ]
  },
  {
   "cell_type": "code",
   "execution_count": null,
   "id": "86e0317b",
   "metadata": {},
   "outputs": [
    {
     "data": {
      "text/plain": [
       "'哈哈哈'"
      ]
     },
     "metadata": {},
     "output_type": "display_data"
    }
   ],
   "source": [
    "dc['0']"
   ]
  },
  {
   "cell_type": "markdown",
   "id": "030866c8",
   "metadata": {},
   "source": [
    "### 键必须是不可变的类型"
   ]
  },
  {
   "cell_type": "markdown",
   "id": "f51603d5",
   "metadata": {},
   "source": [
    "Python要求**键**必须是**不可变类型**的数据对象（数，字符串，元组），而值可以是任意类型的对象。"
   ]
  },
  {
   "cell_type": "markdown",
   "id": "904bb916",
   "metadata": {},
   "source": [
    "键值是列表："
   ]
  },
  {
   "cell_type": "code",
   "execution_count": null,
   "id": "67b30ab6",
   "metadata": {},
   "outputs": [
    {
     "data": {
      "text/plain": [
       "{'mutable': ['changeable',\n",
       "  'variable',\n",
       "  'varying',\n",
       "  'fluctuating',\n",
       "  'shifting',\n",
       "  'inconsistent',\n",
       "  'unpredictable',\n",
       "  'inconstant',\n",
       "  'fickle',\n",
       "  'uneven',\n",
       "  'unstable',\n",
       "  'protean'],\n",
       " 'immutable': ['fixed',\n",
       "  'set',\n",
       "  'rigid',\n",
       "  'inflexible',\n",
       "  'permanent',\n",
       "  'established',\n",
       "  'carved in stone']}"
      ]
     },
     "metadata": {},
     "output_type": "display_data"
    }
   ],
   "source": [
    "synonyms = {}\n",
    "synonyms['mutable'] = ['changeable', 'variable', 'varying', 'fluctuating',\n",
    "                       'shifting', 'inconsistent', 'unpredictable', 'inconstant',\n",
    "                       'fickle', 'uneven', 'unstable', 'protean']\n",
    "synonyms['immutable'] = ['fixed', 'set', 'rigid', 'inflexible', \n",
    "                         'permanent', 'established', 'carved in stone']\n",
    "synonyms"
   ]
  },
  {
   "cell_type": "markdown",
   "id": "8cf67772",
   "metadata": {},
   "source": [
    "键值是字典："
   ]
  },
  {
   "cell_type": "code",
   "execution_count": null,
   "id": "22e4cfa8",
   "metadata": {},
   "outputs": [
    {
     "data": {
      "text/plain": [
       "{500: {'mag': 0.05, 'width': 20},\n",
       " 760: {'mag': 0.04, 'width': 25},\n",
       " 3001: {'mag': 0.05, 'width': 80},\n",
       " 4180: {'mag': 0.03, 'width': 30}}"
      ]
     },
     "metadata": {},
     "output_type": "display_data"
    }
   ],
   "source": [
    "# 定义四个字典\n",
    "e1 = {'mag': 0.05, 'width': 20}\n",
    "e2 = {'mag': 0.04, 'width': 25}\n",
    "e3 = {'mag': 0.05, 'width': 80}\n",
    "e4 = {'mag': 0.03, 'width': 30}\n",
    "# 以字典作为值传入新的字典\n",
    "events = {500: e1, 760: e2, 3001: e3, 4180: e4}\n",
    "events"
   ]
  },
  {
   "cell_type": "markdown",
   "id": "1710a90b",
   "metadata": {},
   "source": [
    "### 使用 dict 初始化字典"
   ]
  },
  {
   "cell_type": "markdown",
   "id": "da5e1e43",
   "metadata": {},
   "source": [
    "除了通常的定义方式，还可以通过 `dict()` 把一个列表转化成字典："
   ]
  },
  {
   "cell_type": "code",
   "execution_count": null,
   "id": "2101d63b",
   "metadata": {},
   "outputs": [
    {
     "data": {
      "text/plain": [
       "{'foozelator': 123, 'frombicator': 18, 'spatzleblock': 34, 'snitzelhogen': 23}"
      ]
     },
     "metadata": {},
     "output_type": "display_data"
    }
   ],
   "source": [
    "inventory = dict(\n",
    "    [('张三', 93),\n",
    "     ('李四', 18), \n",
    "     ('王五', 88), \n",
    "     ('赵六', 70)\n",
    "    ])\n",
    "inventory"
   ]
  },
  {
   "cell_type": "code",
   "execution_count": null,
   "id": "314cef49",
   "metadata": {},
   "outputs": [
    {
     "data": {
      "text/plain": [
       "{'张三': [93, 23, 56],\n",
       " '李四': [18, 90, 80],\n",
       " '王五': [88, 22, 76],\n",
       " '赵六': [70, 72, 76]}"
      ]
     },
     "metadata": {},
     "output_type": "display_data"
    }
   ],
   "source": [
    "scores = dict(\n",
    "    [('张三', [93,23,56]),\n",
    "     ('李四', [18,90,80]), \n",
    "     ('王五', [88,22,76]), \n",
    "     ('赵六', [70,72,76])\n",
    "    ])\n",
    "scores"
   ]
  },
  {
   "cell_type": "markdown",
   "id": "155f8eb0",
   "metadata": {},
   "source": [
    "利用索引直接更新键值对："
   ]
  },
  {
   "cell_type": "code",
   "execution_count": null,
   "id": "fde49c63",
   "metadata": {},
   "outputs": [
    {
     "data": {
      "text/plain": [
       "{'张三': [95, 23, 56],\n",
       " '李四': [18, 90, 80],\n",
       " '王五': [88, 22, 76],\n",
       " '赵六': [70, 72, 76]}"
      ]
     },
     "metadata": {},
     "output_type": "display_data"
    }
   ],
   "source": [
    "scores['张三'] = [95, 23, 56]\n",
    "scores"
   ]
  },
  {
   "cell_type": "markdown",
   "id": "5af26783",
   "metadata": {},
   "source": [
    "## 适合做键的类型"
   ]
  },
  {
   "cell_type": "markdown",
   "id": "f9fe84e5",
   "metadata": {},
   "source": [
    "在不可变类型中，整数和字符串是字典中最常用的类型；而浮点数通常不推荐用来做键，原因如下："
   ]
  },
  {
   "cell_type": "code",
   "execution_count": null,
   "id": "5f3eaa59",
   "metadata": {},
   "outputs": [
    {
     "ename": "KeyError",
     "evalue": "3.3",
     "output_type": "error",
     "traceback": [
      "\u001b[0;31m---------------------------------------------------------------------------\u001b[0m\n",
      "\u001b[0;31mKeyError\u001b[0m                                  Traceback (most recent call last)\n",
      "Cell \u001b[0;32mIn [41], line 4\u001b[0m\n",
      "\u001b[1;32m      2\u001b[0m data[\u001b[38;5;241m1.1\u001b[39m \u001b[38;5;241m+\u001b[39m \u001b[38;5;241m2.2\u001b[39m] \u001b[38;5;241m=\u001b[39m \u001b[38;5;241m6.6\u001b[39m\n",
      "\u001b[1;32m      3\u001b[0m \u001b[38;5;66;03m# 会报错\u001b[39;00m\n",
      "\u001b[0;32m----> 4\u001b[0m \u001b[43mdata\u001b[49m\u001b[43m[\u001b[49m\u001b[38;5;241;43m3.3\u001b[39;49m\u001b[43m]\u001b[49m\n",
      "\n",
      "\u001b[0;31mKeyError\u001b[0m: 3.3"
     ]
    }
   ],
   "source": [
    "data = {}\n",
    "data[1.1 + 2.2] = 6.6\n",
    "# 会报错\n",
    "data[3.3]"
   ]
  },
  {
   "cell_type": "markdown",
   "id": "e7d8f7a9",
   "metadata": {},
   "source": [
    "事实上，观察`data`的值就会发现，这个错误是由浮点数的精度问题所引起的："
   ]
  },
  {
   "cell_type": "code",
   "execution_count": null,
   "id": "97abee39",
   "metadata": {},
   "outputs": [
    {
     "data": {
      "text/plain": [
       "{3.3000000000000003: 6.6}"
      ]
     },
     "metadata": {},
     "output_type": "display_data"
    }
   ],
   "source": [
    "data"
   ]
  },
  {
   "cell_type": "markdown",
   "id": "1051ceb1",
   "metadata": {},
   "source": [
    "有时候，也可以使用元组作为键值，例如，可以用元组做键来表示从第一个城市飞往第二个城市航班数的多少："
   ]
  },
  {
   "cell_type": "code",
   "execution_count": null,
   "id": "bb47a344",
   "metadata": {
    "collapsed": true
   },
   "outputs": [],
   "source": [
    "connections = {}\n",
    "connections[('New York', 'Seattle')] = 100\n",
    "connections[('Austin', 'New York')] = 200\n",
    "connections[('New York', 'Austin')] = 400"
   ]
  },
  {
   "cell_type": "markdown",
   "id": "aea943a9",
   "metadata": {},
   "source": [
    "元组是有序的，因此`('New York', 'Austin')` 和 `('Austin', 'New York')` 是两个不同的键："
   ]
  },
  {
   "cell_type": "code",
   "execution_count": null,
   "id": "a385fc23",
   "metadata": {},
   "outputs": [
    {
     "name": "stdout",
     "output_type": "stream",
     "text": [
      "200\n",
      "400\n"
     ]
    }
   ],
   "source": [
    "print(connections[('Austin', 'New York')])\n",
    "print(connections[('New York', 'Austin')])"
   ]
  },
  {
   "cell_type": "markdown",
   "id": "ec7de236",
   "metadata": {},
   "source": [
    "## 字典方法"
   ]
  },
  {
   "cell_type": "markdown",
   "id": "c0284c6e",
   "metadata": {},
   "source": [
    "###  `get` 方法"
   ]
  },
  {
   "cell_type": "markdown",
   "id": "857353cb",
   "metadata": {},
   "source": [
    "之前已经见过，用索引可以找到一个键对应的值，但是当字典中没有这个键的时候，Python会报错，这时候可以使用字典的 `get` 方法来处理这种情况，其用法如下：\n",
    "\n",
    "    `d.get(key, default = None)`\n",
    "\n",
    "返回字典中键 `key` 对应的值，如果没有这个键，返回 `default` 指定的值（默认是 `None` ）。"
   ]
  },
  {
   "cell_type": "code",
   "execution_count": null,
   "id": "e3bc7cf5",
   "metadata": {
    "collapsed": true
   },
   "outputs": [],
   "source": [
    "a = {}\n",
    "a[\"one\"] = \"this is number 1\"\n",
    "a[\"two\"] = \"this is number 2\""
   ]
  },
  {
   "cell_type": "markdown",
   "id": "f77083df",
   "metadata": {},
   "source": [
    "索引不存在的键值会报错："
   ]
  },
  {
   "cell_type": "code",
   "execution_count": null,
   "id": "995f9e67",
   "metadata": {},
   "outputs": [
    {
     "ename": "KeyError",
     "evalue": "'three'",
     "output_type": "error",
     "traceback": [
      "\u001b[0;31m---------------------------------------------------------------------------\u001b[0m\n",
      "\u001b[0;31mKeyError\u001b[0m                                  Traceback (most recent call last)\n",
      "Cell \u001b[0;32mIn [47], line 1\u001b[0m\n",
      "\u001b[0;32m----> 1\u001b[0m \u001b[43ma\u001b[49m\u001b[43m[\u001b[49m\u001b[38;5;124;43m\"\u001b[39;49m\u001b[38;5;124;43mthree\u001b[39;49m\u001b[38;5;124;43m\"\u001b[39;49m\u001b[43m]\u001b[49m\n",
      "\n",
      "\u001b[0;31mKeyError\u001b[0m: 'three'"
     ]
    }
   ],
   "source": [
    "a[\"three\"]"
   ]
  },
  {
   "cell_type": "markdown",
   "id": "2096437a",
   "metadata": {},
   "source": [
    "改用get方法："
   ]
  },
  {
   "cell_type": "code",
   "execution_count": null,
   "id": "69866db4",
   "metadata": {},
   "outputs": [
    {
     "name": "stdout",
     "output_type": "stream",
     "text": [
      "None\n"
     ]
    }
   ],
   "source": [
    "print(a.get(\"three\"))"
   ]
  },
  {
   "cell_type": "markdown",
   "id": "fe0ec0a6",
   "metadata": {},
   "source": [
    "### `pop` 方法删除元素"
   ]
  },
  {
   "cell_type": "markdown",
   "id": "2e932db0",
   "metadata": {},
   "source": [
    "`pop` 方法可以用来弹出字典中某个键对应的值，同时也可以指定默认参数：\n",
    "\n",
    "    `d.pop(key, default = None)`\n",
    "\n",
    "删除并返回字典中键 `key` 对应的值，如果没有这个键，返回 `default` 指定的值（默认是 `None` ）。"
   ]
  },
  {
   "cell_type": "code",
   "execution_count": null,
   "id": "fa0ebbef",
   "metadata": {},
   "outputs": [
    {
     "data": {
      "text/plain": [
       "{'one': 'this is number 1', 'two': 'this is number 2'}"
      ]
     },
     "metadata": {},
     "output_type": "display_data"
    }
   ],
   "source": [
    "a"
   ]
  },
  {
   "cell_type": "markdown",
   "id": "bb3a346f",
   "metadata": {},
   "source": [
    "弹出并返回值："
   ]
  },
  {
   "cell_type": "code",
   "execution_count": null,
   "id": "5725099b",
   "metadata": {
    "scrolled": true
   },
   "outputs": [
    {
     "data": {
      "text/plain": [
       "{'one': 'this is number 1'}"
      ]
     },
     "metadata": {},
     "output_type": "display_data"
    }
   ],
   "source": [
    "a.pop(\"two\")\n",
    "a"
   ]
  },
  {
   "cell_type": "code",
   "execution_count": null,
   "id": "7317b2af",
   "metadata": {},
   "outputs": [
    {
     "data": {
      "text/plain": [
       "{'one': 'this is number 1'}"
      ]
     },
     "metadata": {},
     "output_type": "display_data"
    }
   ],
   "source": [
    "a"
   ]
  },
  {
   "cell_type": "markdown",
   "id": "7ba1509b",
   "metadata": {},
   "source": [
    "弹出不存在的键值："
   ]
  },
  {
   "cell_type": "code",
   "execution_count": null,
   "id": "da88fb27",
   "metadata": {},
   "outputs": [
    {
     "data": {
      "text/plain": [
       "'not exist'"
      ]
     },
     "metadata": {},
     "output_type": "display_data"
    }
   ],
   "source": [
    "a.pop(\"two\", 'not exist')"
   ]
  },
  {
   "cell_type": "markdown",
   "id": "f0167cba",
   "metadata": {},
   "source": [
    "与列表一样，`del` 函数可以用来删除字典中特定的键值对，例如："
   ]
  },
  {
   "cell_type": "code",
   "execution_count": null,
   "id": "06115c6c",
   "metadata": {},
   "outputs": [
    {
     "data": {
      "text/plain": [
       "{}"
      ]
     },
     "metadata": {},
     "output_type": "display_data"
    }
   ],
   "source": [
    "del a[\"one\"]\n",
    "a"
   ]
  },
  {
   "cell_type": "markdown",
   "id": "fd2f652c",
   "metadata": {},
   "source": [
    "### `update`方法更新字典"
   ]
  },
  {
   "cell_type": "markdown",
   "id": "05e5bb8c",
   "metadata": {},
   "source": [
    "之前已经知道，可以通过索引来插入、修改单个键值对，但是如果想对多个键值对进行操作，这种方法就显得比较麻烦，好在有 `update` 方法：\n",
    "\n",
    "    `d.update(newd)`\n",
    "\n",
    "将字典`newd`中的内容更新到`d`中去。"
   ]
  },
  {
   "cell_type": "code",
   "execution_count": null,
   "id": "28dbe0a8",
   "metadata": {},
   "outputs": [
    {
     "data": {
      "text/plain": [
       "{'first': 'Jmes', 'last': 'Maxwell', 'born': 1831}"
      ]
     },
     "metadata": {},
     "output_type": "display_data"
    }
   ],
   "source": [
    "person = {}\n",
    "person['first'] = \"Jmes\"\n",
    "person['last'] = \"Maxwell\"\n",
    "person['born'] = 1831\n",
    "person"
   ]
  },
  {
   "cell_type": "markdown",
   "id": "f77e81aa",
   "metadata": {},
   "source": [
    "把'first'改成'James'，同时插入'middle'的值'Clerk'："
   ]
  },
  {
   "cell_type": "code",
   "execution_count": null,
   "id": "78d225d9",
   "metadata": {},
   "outputs": [
    {
     "data": {
      "text/plain": [
       "{'first': 'James', 'last': 'Maxwell', 'born': 1831, 'middle': 'Clerk'}"
      ]
     },
     "metadata": {},
     "output_type": "display_data"
    }
   ],
   "source": [
    "person_modifications = {'first': 'James', 'middle': 'Clerk'}\n",
    "person.update(person_modifications)\n",
    "person"
   ]
  },
  {
   "cell_type": "markdown",
   "id": "f3dbcbf8",
   "metadata": {},
   "source": [
    "### `in`查询字典中是否有该键"
   ]
  },
  {
   "cell_type": "code",
   "execution_count": null,
   "id": "cf953cdc",
   "metadata": {
    "collapsed": true
   },
   "outputs": [],
   "source": [
    "barn = {'cows': 1, 'dogs': 5, 'cats': 3}"
   ]
  },
  {
   "cell_type": "markdown",
   "id": "55927e6d",
   "metadata": {},
   "source": [
    "`in` 可以用来判断字典中是否有某个特定的键："
   ]
  },
  {
   "cell_type": "code",
   "execution_count": null,
   "id": "ee0b38aa",
   "metadata": {},
   "outputs": [
    {
     "data": {
      "text/plain": [
       "False"
      ]
     },
     "metadata": {},
     "output_type": "display_data"
    }
   ],
   "source": [
    "'chickens' in barn"
   ]
  },
  {
   "cell_type": "code",
   "execution_count": null,
   "id": "a8d4c2b1",
   "metadata": {},
   "outputs": [
    {
     "data": {
      "text/plain": [
       "True"
      ]
     },
     "metadata": {},
     "output_type": "display_data"
    }
   ],
   "source": [
    "'cows' in barn"
   ]
  },
  {
   "cell_type": "markdown",
   "id": "b3c5bbd5",
   "metadata": {},
   "source": [
    "### `keys` 方法，`values` 方法和`items` 方法"
   ]
  },
  {
   "cell_type": "markdown",
   "id": "bd7ca5f1",
   "metadata": {},
   "source": [
    "    `d.keys()` \n",
    "\n",
    "返回一个由所有键组成的列表；\n",
    "\n",
    "    `d.values()` \n",
    "\n",
    "返回一个由所有值组成的列表；\n",
    "\n",
    "    `d.items()` \n",
    "\n",
    "返回一个由所有键值对元组组成的列表；"
   ]
  },
  {
   "cell_type": "code",
   "execution_count": null,
   "id": "a1b961f0",
   "metadata": {},
   "outputs": [
    {
     "data": {
      "text/plain": [
       "dict_keys(['cows', 'dogs', 'cats'])"
      ]
     },
     "metadata": {},
     "output_type": "display_data"
    }
   ],
   "source": [
    "barn.keys()"
   ]
  },
  {
   "cell_type": "code",
   "execution_count": null,
   "id": "5ade5150",
   "metadata": {},
   "outputs": [
    {
     "data": {
      "text/plain": [
       "dict_values([1, 5, 3])"
      ]
     },
     "metadata": {},
     "output_type": "display_data"
    }
   ],
   "source": [
    "barn.values()"
   ]
  },
  {
   "cell_type": "code",
   "execution_count": null,
   "id": "c0dac70b",
   "metadata": {},
   "outputs": [
    {
     "data": {
      "text/plain": [
       "dict_items([('cows', 1), ('dogs', 5), ('cats', 3)])"
      ]
     },
     "metadata": {},
     "output_type": "display_data"
    }
   ],
   "source": [
    "barn.items()"
   ]
  }
 ],
 "metadata": {
  "kernelspec": {
   "display_name": "Python 3.10.3 64-bit",
   "language": "python",
   "name": "python3"
  },
  "language_info": {
   "codemirror_mode": {
    "name": "ipython",
    "version": 3
   },
   "file_extension": ".py",
   "mimetype": "text/x-python",
   "name": "python",
   "nbconvert_exporter": "python",
   "pygments_lexer": "ipython3",
   "version": "3.10.3"
  },
  "toc": {
   "base_numbering": 1,
   "nav_menu": {},
   "number_sections": true,
   "sideBar": true,
   "skip_h1_title": true,
   "title_cell": "Table of Contents",
   "title_sidebar": "Contents",
   "toc_cell": false,
   "toc_position": {},
   "toc_section_display": true,
   "toc_window_display": true
  },
  "vscode": {
   "interpreter": {
    "hash": "7e1998ff7f8aa20ada591c520b972326324e5ea05489af9e422744c7c09f6dad"
   }
  }
 },
 "nbformat": 4,
 "nbformat_minor": 5
}
