{
 "cells": [
  {
   "cell_type": "markdown",
   "id": "0a884e76",
   "metadata": {},
   "source": [
    "# 列表 (List)"
   ]
  },
  {
   "cell_type": "markdown",
   "id": "9c2fd71d",
   "metadata": {},
   "source": [
    "## 生成列表"
   ]
  },
  {
   "cell_type": "markdown",
   "id": "4196bd26",
   "metadata": {},
   "source": [
    "列表用 `[]` 生成，用 `','` 隔开，元素不需要是同一类型"
   ]
  },
  {
   "cell_type": "code",
   "execution_count": null,
   "id": "2030218e",
   "metadata": {},
   "outputs": [
    {
     "data": {
      "text/plain": [
       "[1, 2.0, 'hello']"
      ]
     },
     "metadata": {},
     "output_type": "display_data"
    }
   ],
   "source": [
    "l = [1, 2.0, 'hello']\n",
    "l"
   ]
  },
  {
   "cell_type": "markdown",
   "id": "700ad543",
   "metadata": {},
   "source": [
    "用`list()`由别的数据类型转化生成"
   ]
  },
  {
   "cell_type": "code",
   "execution_count": 3,
   "id": "fe4b0912",
   "metadata": {},
   "outputs": [
    {
     "data": {
      "text/plain": [
       "['H', 'e', 'l', 'l', 'o']"
      ]
     },
     "execution_count": 3,
     "metadata": {},
     "output_type": "execute_result"
    }
   ],
   "source": [
    "l = list('Hello')\n",
    "l"
   ]
  },
  {
   "cell_type": "markdown",
   "id": "517a58e1",
   "metadata": {},
   "source": [
    "## 列表操作"
   ]
  },
  {
   "cell_type": "markdown",
   "id": "d55a203c",
   "metadata": {},
   "source": [
    "与字符串类似，列表也支持以下的操作："
   ]
  },
  {
   "cell_type": "markdown",
   "id": "0a914284",
   "metadata": {},
   "source": [
    "### 长度"
   ]
  },
  {
   "cell_type": "markdown",
   "id": "31515538",
   "metadata": {},
   "source": [
    "用 `len` 查看列表长度："
   ]
  },
  {
   "cell_type": "code",
   "execution_count": 4,
   "id": "eb49d593",
   "metadata": {},
   "outputs": [
    {
     "data": {
      "text/plain": [
       "5"
      ]
     },
     "execution_count": 4,
     "metadata": {},
     "output_type": "execute_result"
    }
   ],
   "source": [
    "len(l)"
   ]
  },
  {
   "cell_type": "markdown",
   "id": "17415a63",
   "metadata": {},
   "source": [
    "### 加法和乘法"
   ]
  },
  {
   "cell_type": "markdown",
   "id": "86405a02",
   "metadata": {},
   "source": [
    "并表:"
   ]
  },
  {
   "cell_type": "code",
   "execution_count": 5,
   "id": "27b26fbf",
   "metadata": {},
   "outputs": [
    {
     "data": {
      "text/plain": [
       "[1, 2, 3, 3.2, 'hello']"
      ]
     },
     "execution_count": 5,
     "metadata": {},
     "output_type": "execute_result"
    }
   ],
   "source": [
    "a = [1, 2, 3]\n",
    "b = [3.2, 'hello']\n",
    "a + b"
   ]
  },
  {
   "cell_type": "markdown",
   "id": "76ec3b56",
   "metadata": {},
   "source": [
    "重复列表"
   ]
  },
  {
   "cell_type": "code",
   "execution_count": 8,
   "id": "71c9b934",
   "metadata": {},
   "outputs": [
    {
     "data": {
      "text/plain": [
       "[1, 2, 3, 3.2, 'hello', 1, 2, 3, 3.2, 'hello']"
      ]
     },
     "execution_count": 8,
     "metadata": {},
     "output_type": "execute_result"
    }
   ],
   "source": [
    "c = (a+b) * 2\n",
    "c"
   ]
  },
  {
   "cell_type": "markdown",
   "id": "78ec53fc",
   "metadata": {},
   "source": [
    "### 索引,分片,修改"
   ]
  },
  {
   "cell_type": "markdown",
   "id": "08ebdfc3",
   "metadata": {},
   "source": [
    "列表和字符串一样可以通过索引和分片来查看它的元素。"
   ]
  },
  {
   "cell_type": "markdown",
   "id": "4c72b4cf",
   "metadata": {},
   "source": [
    "索引："
   ]
  },
  {
   "cell_type": "code",
   "execution_count": 13,
   "id": "8dd28553",
   "metadata": {},
   "outputs": [
    {
     "data": {
      "text/plain": [
       "1"
      ]
     },
     "execution_count": 13,
     "metadata": {},
     "output_type": "execute_result"
    }
   ],
   "source": [
    "c[0]"
   ]
  },
  {
   "cell_type": "code",
   "execution_count": 14,
   "id": "c88212ae",
   "metadata": {},
   "outputs": [
    {
     "data": {
      "text/plain": [
       "'hello'"
      ]
     },
     "execution_count": 14,
     "metadata": {},
     "output_type": "execute_result"
    }
   ],
   "source": [
    "c[-1]"
   ]
  },
  {
   "cell_type": "markdown",
   "id": "8c1e37e8",
   "metadata": {},
   "source": [
    "分片："
   ]
  },
  {
   "cell_type": "code",
   "execution_count": 11,
   "id": "21591181",
   "metadata": {},
   "outputs": [
    {
     "data": {
      "text/plain": [
       "[3, 3.2, 'hello', 1, 2, 3, 3.2]"
      ]
     },
     "execution_count": 11,
     "metadata": {},
     "output_type": "execute_result"
    }
   ],
   "source": [
    "c[2:-1]"
   ]
  },
  {
   "cell_type": "markdown",
   "id": "b05a5063",
   "metadata": {},
   "source": [
    "修改:"
   ]
  },
  {
   "cell_type": "code",
   "execution_count": 12,
   "id": "9a21248b",
   "metadata": {},
   "outputs": [
    {
     "data": {
      "text/plain": [
       "[100, 11, 12, 13, 14]"
      ]
     },
     "execution_count": 12,
     "metadata": {},
     "output_type": "execute_result"
    }
   ],
   "source": [
    "a = [10, 11, 12, 13, 14]\n",
    "a[0] = 100\n",
    "a"
   ]
  },
  {
   "cell_type": "code",
   "execution_count": 15,
   "id": "d0a4cc25",
   "metadata": {},
   "outputs": [
    {
     "data": {
      "text/plain": [
       "[100, 50, 60, 13, 14]"
      ]
     },
     "execution_count": 15,
     "metadata": {},
     "output_type": "execute_result"
    }
   ],
   "source": [
    "a[1:3] = [50, 60]\n",
    "a"
   ]
  },
  {
   "cell_type": "markdown",
   "id": "2c773462",
   "metadata": {},
   "source": [
    "### 删除元素"
   ]
  },
  {
   "cell_type": "markdown",
   "id": "33fc9f5e",
   "metadata": {},
   "source": [
    "del 删除一个元素"
   ]
  },
  {
   "cell_type": "code",
   "execution_count": 19,
   "id": "baae4743",
   "metadata": {
    "scrolled": true
   },
   "outputs": [
    {
     "data": {
      "text/plain": [
       "['a', 'b', 'c']"
      ]
     },
     "execution_count": 19,
     "metadata": {},
     "output_type": "execute_result"
    }
   ],
   "source": [
    "a = [1002, 'a', 'b', 'c']\n",
    "del a[0]\n",
    "a"
   ]
  },
  {
   "cell_type": "markdown",
   "id": "710bc4ec",
   "metadata": {},
   "source": [
    "连片删除"
   ]
  },
  {
   "cell_type": "code",
   "execution_count": 16,
   "id": "fbf82eab",
   "metadata": {},
   "outputs": [
    {
     "data": {
      "text/plain": [
       "[10, 11, 12]"
      ]
     },
     "execution_count": 16,
     "metadata": {},
     "output_type": "execute_result"
    }
   ],
   "source": [
    "a = [10, 1, 2, 11, 12]\n",
    "a[1:3] = []\n",
    "a"
   ]
  },
  {
   "cell_type": "code",
   "execution_count": 18,
   "id": "6e1bf33e",
   "metadata": {},
   "outputs": [
    {
     "data": {
      "text/plain": [
       "[1002]"
      ]
     },
     "execution_count": 18,
     "metadata": {},
     "output_type": "execute_result"
    }
   ],
   "source": [
    "a = [1002, 'a', 'b', 'c']\n",
    "del a[1:]\n",
    "a"
   ]
  },
  {
   "cell_type": "markdown",
   "id": "9ffc8e3b",
   "metadata": {},
   "source": [
    "删除间隔元素："
   ]
  },
  {
   "cell_type": "code",
   "execution_count": 20,
   "id": "3389ded0",
   "metadata": {
    "scrolled": true
   },
   "outputs": [
    {
     "data": {
      "text/plain": [
       "[1, 2]"
      ]
     },
     "execution_count": 20,
     "metadata": {},
     "output_type": "execute_result"
    }
   ],
   "source": [
    "a = ['a', 1, 'b', 2, 'c']\n",
    "del a[::2]\n",
    "a"
   ]
  },
  {
   "cell_type": "code",
   "execution_count": 23,
   "id": "294bcaf4",
   "metadata": {
    "scrolled": true
   },
   "outputs": [],
   "source": [
    "# del a[1,3,5]\n",
    "# TypeError: list indices must be integers or slices, not tuple"
   ]
  },
  {
   "cell_type": "markdown",
   "id": "f84f50b0",
   "metadata": {},
   "source": [
    "### 测试从属关系"
   ]
  },
  {
   "cell_type": "markdown",
   "id": "f99b373f",
   "metadata": {},
   "source": [
    "用 `in` 来看某个元素是否在某个序列"
   ]
  },
  {
   "cell_type": "code",
   "execution_count": 27,
   "id": "b40177ca",
   "metadata": {},
   "outputs": [
    {
     "name": "stdout",
     "output_type": "stream",
     "text": [
      "False\n",
      "True\n",
      "False\n"
     ]
    }
   ],
   "source": [
    "a = ['10', 11, [12, 13, 14]]\n",
    "print(10 in a)\n",
    "print(11 in a)\n",
    "print(12 in a)"
   ]
  },
  {
   "cell_type": "markdown",
   "id": "7892c89c",
   "metadata": {},
   "source": [
    "a[2]是列表，可以对它再进行索引："
   ]
  },
  {
   "cell_type": "code",
   "execution_count": 28,
   "id": "a78cf327",
   "metadata": {},
   "outputs": [
    {
     "data": {
      "text/plain": [
       "13"
      ]
     },
     "execution_count": 28,
     "metadata": {},
     "output_type": "execute_result"
    }
   ],
   "source": [
    "a[2][1]"
   ]
  },
  {
   "cell_type": "code",
   "execution_count": 29,
   "id": "fe8b7be8",
   "metadata": {},
   "outputs": [
    {
     "data": {
      "text/plain": [
       "['10', 11, [12, 88, 14]]"
      ]
     },
     "execution_count": 29,
     "metadata": {},
     "output_type": "execute_result"
    }
   ],
   "source": [
    "a[2][1] = 88\n",
    "a"
   ]
  },
  {
   "cell_type": "markdown",
   "id": "cf7d69de",
   "metadata": {},
   "source": [
    "## 列表方法"
   ]
  },
  {
   "cell_type": "markdown",
   "id": "aa381088",
   "metadata": {},
   "source": [
    "### 元素出现次数"
   ]
  },
  {
   "cell_type": "code",
   "execution_count": 8,
   "id": "9cfae22c",
   "metadata": {},
   "outputs": [
    {
     "data": {
      "text/plain": [
       "2"
      ]
     },
     "execution_count": 8,
     "metadata": {},
     "output_type": "execute_result"
    }
   ],
   "source": [
    "a = [11, 12, 13, 12, 11, '11', [11,12]]\n",
    "a.count(11)"
   ]
  },
  {
   "cell_type": "markdown",
   "id": "940e1a8b",
   "metadata": {},
   "source": [
    "### 出现位置"
   ]
  },
  {
   "cell_type": "markdown",
   "id": "b7f76b66",
   "metadata": {},
   "source": [
    "第一次的位置"
   ]
  },
  {
   "cell_type": "code",
   "execution_count": 13,
   "id": "952c5be3",
   "metadata": {},
   "outputs": [
    {
     "data": {
      "text/plain": [
       "0"
      ]
     },
     "execution_count": 13,
     "metadata": {},
     "output_type": "execute_result"
    }
   ],
   "source": [
    "a = [11, 12, 13, 12, 11, '11', [11,12]]\n",
    "a.index(11)"
   ]
  },
  {
   "cell_type": "markdown",
   "id": "3c0dc470",
   "metadata": {},
   "source": [
    "所有的位置"
   ]
  },
  {
   "cell_type": "code",
   "execution_count": 9,
   "id": "2208b731",
   "metadata": {},
   "outputs": [
    {
     "name": "stdout",
     "output_type": "stream",
     "text": [
      "[0, 4]\n"
     ]
    }
   ],
   "source": [
    "index_11 = [ i for i in range(len(a)) if a[i] == 11 ]\n",
    "print(index_11)"
   ]
  },
  {
   "cell_type": "markdown",
   "id": "d27f9c45",
   "metadata": {},
   "source": [
    "### 向列表添加一个元素"
   ]
  },
  {
   "cell_type": "markdown",
   "id": "fd534b51",
   "metadata": {},
   "source": [
    "`l.append(ob)` 将元素 `ob` 添加到列表 `l` 的最后。"
   ]
  },
  {
   "cell_type": "code",
   "execution_count": 14,
   "id": "ef499f50",
   "metadata": {},
   "outputs": [
    {
     "name": "stdout",
     "output_type": "stream",
     "text": [
      "[11, 12, 13, 12, 11, '11', [11, 12], [11, 12, 13]]\n"
     ]
    }
   ],
   "source": [
    "a.append([11, 12, 13])\n",
    "print(a)"
   ]
  },
  {
   "cell_type": "markdown",
   "id": "55bbee07",
   "metadata": {},
   "source": [
    "### 向列表添加一个序列"
   ]
  },
  {
   "cell_type": "markdown",
   "id": "cdcd5d26",
   "metadata": {},
   "source": [
    "`l.extend(lst)` 将序列 `lst` 的元素依次添加到列表 `l` 的最后，作用相当于 `l += lst`。"
   ]
  },
  {
   "cell_type": "code",
   "execution_count": 47,
   "id": "fbe3b167",
   "metadata": {},
   "outputs": [
    {
     "name": "stdout",
     "output_type": "stream",
     "text": [
      "[11, 12, 13, 12, 11, '11', [11, 12], 11, 12, 13]\n"
     ]
    }
   ],
   "source": [
    "a = [11, 12, 13, 12, 11, '11', [11,12]]\n",
    "a.extend([11, 12, 13])\n",
    "print(a)"
   ]
  },
  {
   "cell_type": "code",
   "execution_count": 48,
   "id": "b8460d34",
   "metadata": {},
   "outputs": [
    {
     "name": "stdout",
     "output_type": "stream",
     "text": [
      "[11, 12, 13, 12, 11, '11', [11, 12], 11, 12, 13, 'a', 'b', 'c', 'e', 'd']\n"
     ]
    }
   ],
   "source": [
    "a.extend('abced')\n",
    "print(a)"
   ]
  },
  {
   "cell_type": "markdown",
   "id": "e259bef6",
   "metadata": {},
   "source": [
    "### 插入元素"
   ]
  },
  {
   "cell_type": "markdown",
   "id": "cb9938f4",
   "metadata": {},
   "source": [
    "`l.insert(idx, ob)` 在索引 `idx` 处插入 `ob` ，之后的元素依次后移。"
   ]
  },
  {
   "cell_type": "code",
   "execution_count": 51,
   "id": "632ae519",
   "metadata": {},
   "outputs": [
    {
     "name": "stdout",
     "output_type": "stream",
     "text": [
      "[10, 11, 12, 'abcde', 13, 11]\n"
     ]
    }
   ],
   "source": [
    "a = [10, 11, 12, 13, 11]\n",
    "# 在索引 3 插入 'a'\n",
    "a.insert(3, 'abcde')\n",
    "print(a)"
   ]
  },
  {
   "cell_type": "markdown",
   "id": "392fd89f",
   "metadata": {},
   "source": [
    "### 移除元素"
   ]
  },
  {
   "cell_type": "markdown",
   "id": "ad3138f0",
   "metadata": {},
   "source": [
    "`l.remove(ob)` 会将列表中第一个出现的 `ob` 删除，如果 `ob` 不在 `l` 中会报错。"
   ]
  },
  {
   "cell_type": "code",
   "execution_count": 53,
   "id": "70e8ddbc",
   "metadata": {},
   "outputs": [
    {
     "name": "stdout",
     "output_type": "stream",
     "text": [
      "[10, 12, 13, 11]\n"
     ]
    }
   ],
   "source": [
    "a = [10, 11, 12, 13, 11]\n",
    "# 移除了第一个 11\n",
    "a.remove(11)\n",
    "print(a)"
   ]
  },
  {
   "cell_type": "markdown",
   "id": "aeb95d59",
   "metadata": {},
   "source": [
    "### 弹出元素"
   ]
  },
  {
   "cell_type": "markdown",
   "id": "d4018542",
   "metadata": {},
   "source": [
    "`l.pop(idx)` 会将索引 `idx` 处的元素删除，并返回这个元素。"
   ]
  },
  {
   "cell_type": "code",
   "execution_count": 57,
   "id": "100aabf3",
   "metadata": {},
   "outputs": [
    {
     "data": {
      "text/plain": [
       "12"
      ]
     },
     "execution_count": 57,
     "metadata": {},
     "output_type": "execute_result"
    }
   ],
   "source": [
    "a = [10, 11, 12, 13, 11]\n",
    "a.pop(2)"
   ]
  },
  {
   "cell_type": "code",
   "execution_count": 56,
   "id": "6a6441c6",
   "metadata": {},
   "outputs": [
    {
     "data": {
      "text/plain": [
       "[10, 11, 13, 11]"
      ]
     },
     "execution_count": 56,
     "metadata": {},
     "output_type": "execute_result"
    }
   ],
   "source": [
    "a"
   ]
  },
  {
   "cell_type": "markdown",
   "id": "36b43a98",
   "metadata": {},
   "source": [
    "### 排序"
   ]
  },
  {
   "cell_type": "markdown",
   "id": "b2b1579d",
   "metadata": {},
   "source": [
    "`l.sort()` 会将列表中的元素按照一定的规则排序："
   ]
  },
  {
   "cell_type": "code",
   "execution_count": 60,
   "id": "fbc97f2b",
   "metadata": {},
   "outputs": [
    {
     "data": {
      "text/plain": [
       "[1, 2, 10, 11, 11, 13]"
      ]
     },
     "execution_count": 60,
     "metadata": {},
     "output_type": "execute_result"
    }
   ],
   "source": [
    "a = [10, 1, 11, 13, 11, 2]\n",
    "a.sort()\n",
    "a"
   ]
  },
  {
   "cell_type": "markdown",
   "id": "8d51a085",
   "metadata": {},
   "source": [
    "如果不想改变原来列表中的值，可以使用 `sorted` 函数："
   ]
  },
  {
   "cell_type": "code",
   "execution_count": 61,
   "id": "eeb8a592",
   "metadata": {},
   "outputs": [
    {
     "name": "stdout",
     "output_type": "stream",
     "text": [
      "[10, 1, 11, 13, 11, 2]\n",
      "[1, 2, 10, 11, 11, 13]\n"
     ]
    }
   ],
   "source": [
    "a = [10, 1, 11, 13, 11, 2]\n",
    "b = sorted(a)\n",
    "print(a)\n",
    "print(b)"
   ]
  },
  {
   "cell_type": "markdown",
   "id": "1cca1b3e",
   "metadata": {},
   "source": [
    "排序要比较大小, 只能在同类数据结构之间进行"
   ]
  },
  {
   "cell_type": "code",
   "execution_count": 67,
   "id": "637d1bbf",
   "metadata": {},
   "outputs": [
    {
     "ename": "TypeError",
     "evalue": "'<' not supported between instances of 'str' and 'int'",
     "output_type": "error",
     "traceback": [
      "\u001b[0;31m---------------------------------------------------------------------------\u001b[0m",
      "\u001b[0;31mTypeError\u001b[0m                                 Traceback (most recent call last)",
      "Cell \u001b[0;32mIn [67], line 2\u001b[0m\n\u001b[1;32m      1\u001b[0m a \u001b[38;5;241m=\u001b[39m [\u001b[38;5;241m10\u001b[39m, \u001b[38;5;241m1\u001b[39m, \u001b[38;5;241m11\u001b[39m,\u001b[38;5;124m'\u001b[39m\u001b[38;5;124m11\u001b[39m\u001b[38;5;124m'\u001b[39m,\u001b[38;5;241m13\u001b[39m, \u001b[38;5;241m11\u001b[39m, \u001b[38;5;241m2\u001b[39m]\n\u001b[0;32m----> 2\u001b[0m b \u001b[38;5;241m=\u001b[39m \u001b[38;5;28;43msorted\u001b[39;49m\u001b[43m(\u001b[49m\u001b[43ma\u001b[49m\u001b[43m)\u001b[49m\n",
      "\u001b[0;31mTypeError\u001b[0m: '<' not supported between instances of 'str' and 'int'"
     ]
    }
   ],
   "source": [
    "a = [10, 1, 11,'11',13, 11, 2]\n",
    "b = sorted(a)"
   ]
  },
  {
   "cell_type": "markdown",
   "id": "26bee775",
   "metadata": {},
   "source": [
    "### 列表反向"
   ]
  },
  {
   "cell_type": "markdown",
   "id": "3ccf5859",
   "metadata": {},
   "source": [
    "`l.reverse()` 会将列表中的元素从后向前排列。"
   ]
  },
  {
   "cell_type": "code",
   "execution_count": 62,
   "id": "8b638369",
   "metadata": {},
   "outputs": [
    {
     "name": "stdout",
     "output_type": "stream",
     "text": [
      "[6, 5, 4, 3, 2, 1]\n"
     ]
    }
   ],
   "source": [
    "a = [1, 2, 3, 4, 5, 6]\n",
    "a.reverse()\n",
    "print(a)"
   ]
  },
  {
   "cell_type": "markdown",
   "id": "392e20aa",
   "metadata": {},
   "source": [
    "如果不想改变原来列表中的值，可以使用这样的方法："
   ]
  },
  {
   "cell_type": "code",
   "execution_count": 63,
   "id": "92f52f19",
   "metadata": {},
   "outputs": [
    {
     "name": "stdout",
     "output_type": "stream",
     "text": [
      "[1, 2, 3, 4, 5, 6]\n",
      "[6, 5, 4, 3, 2, 1]\n"
     ]
    }
   ],
   "source": [
    "a = [1, 2, 3, 4, 5, 6]\n",
    "b = a[::-1]\n",
    "print(a)\n",
    "print(b)"
   ]
  },
  {
   "cell_type": "markdown",
   "id": "f39d6764",
   "metadata": {},
   "source": [
    "## 推导式"
   ]
  },
  {
   "cell_type": "markdown",
   "id": "958b28f6",
   "metadata": {},
   "source": [
    "问题: 有一个基础列表,\n",
    "```python\n",
    "L_1 = [x_0, x_1, ..., x_n]\n",
    "```\n",
    "要得到一个由如下公式\n",
    "$$\n",
    "y_i = 10 x_i^2 + 8 |x_i| \n",
    "$$\n",
    "给出的的新列表\n",
    "```python\n",
    "L_2 = [y_0, y_1, ..., x_n]\n",
    "```"
   ]
  },
  {
   "cell_type": "markdown",
   "id": "9ee39129",
   "metadata": {},
   "source": [
    "通常采用循环法"
   ]
  },
  {
   "cell_type": "code",
   "execution_count": 1,
   "id": "4cd9aad4",
   "metadata": {},
   "outputs": [
    {
     "name": "stdout",
     "output_type": "stream",
     "text": [
      "[1080, 4578, 192, 546, 1536]\n"
     ]
    }
   ],
   "source": [
    "L_1 = [-10, 21, -4, 7, 12]\n",
    "\n",
    "L_2 = []\n",
    "for x in L_1:\n",
    "    L_2.append(10 * x * x + 8 * abs(x))\n",
    "    \n",
    "print(L_2)"
   ]
  },
  {
   "cell_type": "markdown",
   "id": "80c9d646",
   "metadata": {},
   "source": [
    "推导式法："
   ]
  },
  {
   "cell_type": "code",
   "execution_count": 3,
   "id": "0b8671ee",
   "metadata": {},
   "outputs": [
    {
     "name": "stdout",
     "output_type": "stream",
     "text": [
      "[1080, 4578, 192, 546, 1536]\n"
     ]
    }
   ],
   "source": [
    "L_2  = [10*x*x+8*abs(x) for x in L_1]\n",
    "\n",
    "print(L_2)"
   ]
  },
  {
   "cell_type": "markdown",
   "id": "349c9076",
   "metadata": {},
   "source": [
    "加筛选条件: 要求原值不大于`10`"
   ]
  },
  {
   "cell_type": "code",
   "execution_count": 5,
   "id": "f9761009",
   "metadata": {},
   "outputs": [
    {
     "name": "stdout",
     "output_type": "stream",
     "text": [
      "[1080, 192, 546]\n"
     ]
    }
   ],
   "source": [
    "L_2  = [10*x*x+8*abs(x) for x in L_1 if x <= 10]\n",
    "\n",
    "print(L_2)"
   ]
  },
  {
   "cell_type": "markdown",
   "id": "9e62d5ba",
   "metadata": {},
   "source": [
    "加入计算: 求新列表各元素的和"
   ]
  },
  {
   "cell_type": "code",
   "execution_count": 6,
   "id": "d761b838",
   "metadata": {},
   "outputs": [
    {
     "name": "stdout",
     "output_type": "stream",
     "text": [
      "1818\n"
     ]
    }
   ],
   "source": [
    "total = sum([10*x*x+8*abs(x) for x in L_1 if x <= 10])\n",
    " \n",
    "print(total)"
   ]
  },
  {
   "cell_type": "markdown",
   "id": "2d3e0d12",
   "metadata": {},
   "source": [
    "优点: 通常要生成一个零时列表($L_2$)，这无疑是种浪费, 特别当列表非常长时。而推导式没有产生这个零时列表!"
   ]
  }
 ],
 "metadata": {
  "kernelspec": {
   "display_name": "Python 3 (ipykernel)",
   "language": "python",
   "name": "python3"
  },
  "language_info": {
   "codemirror_mode": {
    "name": "ipython",
    "version": 3
   },
   "file_extension": ".py",
   "mimetype": "text/x-python",
   "name": "python",
   "nbconvert_exporter": "python",
   "pygments_lexer": "ipython3",
   "version": "3.9.12"
  },
  "toc": {
   "base_numbering": 1,
   "nav_menu": {},
   "number_sections": true,
   "sideBar": true,
   "skip_h1_title": true,
   "title_cell": "Table of Contents",
   "title_sidebar": "Contents",
   "toc_cell": false,
   "toc_position": {},
   "toc_section_display": true,
   "toc_window_display": true
  },
  "vscode": {
   "interpreter": {
    "hash": "7e1998ff7f8aa20ada591c520b972326324e5ea05489af9e422744c7c09f6dad"
   }
  }
 },
 "nbformat": 4,
 "nbformat_minor": 5
}
