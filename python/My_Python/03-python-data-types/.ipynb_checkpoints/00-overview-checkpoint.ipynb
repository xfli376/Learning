{
 "cells": [
  {
   "cell_type": "markdown",
   "id": "7f5e6279",
   "metadata": {},
   "source": [
    "# Python 数据类型"
   ]
  },
  {
   "cell_type": "markdown",
   "id": "1f789346",
   "metadata": {},
   "source": [
    "## 内置数据类型 "
   ]
  },
  {
   "cell_type": "markdown",
   "id": "18f153a5",
   "metadata": {},
   "source": [
    "| 类型| 例子|\n",
    "| -----  | ----- |\n",
    "| 整数 | `-100` |\n",
    "| 浮点数 | `3.1416` |\n",
    "| 布尔型 | `True, False`\n",
    "| 字符串 | `'hello'` |\n",
    "| 列表 | `[1, 1.2, 'hello']` |\n",
    "| 字典 | `{'dogs': 5, 'pigs': 3}`|\n",
    "| 元组 | `('ring', 1000)`\n",
    "| 集合 | `{1, 2, 3}`"
   ]
  },
  {
   "cell_type": "markdown",
   "id": "ae4e016e",
   "metadata": {},
   "source": [
    "## 扩展数据类型 "
   ]
  },
  {
   "cell_type": "markdown",
   "id": "7e4d499c",
   "metadata": {},
   "source": [
    "| 类型| 例子|\n",
    "| -------  | ----- |\n",
    "| Numpy数组 | `array([1, 2, 3])`\n",
    "| Pandas类型| `DataFrame, Series`\n",
    "| 自定义 | `Object Oriented Classes`"
   ]
  },
  {
   "cell_type": "markdown",
   "id": "f878f953",
   "metadata": {},
   "source": [
    "## 有序、索引与切片"
   ]
  },
  {
   "cell_type": "markdown",
   "id": "8fa7bdaf",
   "metadata": {},
   "source": [
    "有序序列是可以通过索引(下标)来访问对应位置值的序列。\n",
    "\n",
    "**Python**使用 `[]` 来使用下标并进行切片"
   ]
  },
  {
   "cell_type": "markdown",
   "id": "e2020e37",
   "metadata": {},
   "source": [
    "整数,浮点数,布尔型:  是值不是序列"
   ]
  },
  {
   "cell_type": "code",
   "execution_count": 16,
   "id": "1a64c6a4",
   "metadata": {},
   "outputs": [],
   "source": [
    "i = 10\n",
    "f = 10.001\n",
    "y_or_n = True"
   ]
  },
  {
   "cell_type": "markdown",
   "id": "1aec37be",
   "metadata": {},
   "source": [
    "字符串: 有序"
   ]
  },
  {
   "cell_type": "code",
   "execution_count": 15,
   "id": "ee0ed8bc",
   "metadata": {},
   "outputs": [
    {
     "name": "stdout",
     "output_type": "stream",
     "text": [
      "H\n",
      "llo w\n",
      "Hello\n",
      "rld !\n"
     ]
    }
   ],
   "source": [
    "s = 'Hello world !'\n",
    "print(s[0])\n",
    "print(s[2:7])\n",
    "print(s[:5])\n",
    "print(s[-5:])"
   ]
  },
  {
   "cell_type": "code",
   "execution_count": 53,
   "id": "a5f5bea5",
   "metadata": {},
   "outputs": [
    {
     "data": {
      "text/plain": [
       "'Hlowrd!'"
      ]
     },
     "execution_count": 53,
     "metadata": {},
     "output_type": "execute_result"
    }
   ],
   "source": [
    "s[::2]"
   ]
  },
  {
   "cell_type": "markdown",
   "id": "70da5379",
   "metadata": {},
   "source": [
    "列表: 有序"
   ]
  },
  {
   "cell_type": "code",
   "execution_count": 14,
   "id": "9c5f034d",
   "metadata": {},
   "outputs": [
    {
     "name": "stdout",
     "output_type": "stream",
     "text": [
      "Hello\n",
      "10\n",
      "['Hello', ' ', 'world']\n"
     ]
    }
   ],
   "source": [
    "l = ['Hello', ' ', 'world', '!', 10 ]\n",
    "print(l[0])\n",
    "print(l[-1])\n",
    "print(l[:3])"
   ]
  },
  {
   "cell_type": "markdown",
   "id": "e3e956cc",
   "metadata": {},
   "source": [
    "字典: 无序\n",
    "\n",
    "但可以用`key`进行查字典"
   ]
  },
  {
   "cell_type": "code",
   "execution_count": 52,
   "id": "ff7884bf",
   "metadata": {},
   "outputs": [
    {
     "name": "stdout",
     "output_type": "stream",
     "text": [
      "[5, 2, 1]\n"
     ]
    }
   ],
   "source": [
    "pet_num = {'pigs': [3,5,8], 'dogs': [5,2,1] }\n",
    "# print(pet_num[0])\n",
    "# KeyError: 0\n",
    "\n",
    "print(pet_num['dogs'])"
   ]
  },
  {
   "cell_type": "code",
   "execution_count": 48,
   "id": "09556323",
   "metadata": {},
   "outputs": [
    {
     "data": {
      "text/plain": [
       "['dogs', 'pigs']"
      ]
     },
     "execution_count": 48,
     "metadata": {},
     "output_type": "execute_result"
    }
   ],
   "source": [
    "sorted(pet_num.keys())"
   ]
  },
  {
   "cell_type": "markdown",
   "id": "94f81d25",
   "metadata": {},
   "source": [
    "元组: 有序"
   ]
  },
  {
   "cell_type": "code",
   "execution_count": 56,
   "id": "0b441145",
   "metadata": {},
   "outputs": [
    {
     "name": "stdout",
     "output_type": "stream",
     "text": [
      "张三\n",
      "('张三', '男', 18)\n"
     ]
    }
   ],
   "source": [
    "t = ('张三', '男', 18, True, '成都', 80, 90, 80, 90, 95)\n",
    "print(t[0])\n",
    "print(t[:3])"
   ]
  },
  {
   "cell_type": "markdown",
   "id": "bcfb1820",
   "metadata": {},
   "source": [
    "集合: 无序"
   ]
  },
  {
   "cell_type": "code",
   "execution_count": 57,
   "id": "2667d6df",
   "metadata": {},
   "outputs": [],
   "source": [
    "num_set = {5, 1, 2, 3, 4, 5, 4}\n",
    "# print(num_set[0])\n",
    "# TypeError: 'set' object is not subscriptable"
   ]
  },
  {
   "cell_type": "markdown",
   "id": "149b6201",
   "metadata": {},
   "source": [
    "## 可变与不可变类型"
   ]
  },
  {
   "cell_type": "markdown",
   "id": "e859555d",
   "metadata": {},
   "source": [
    "可变与不可变是指变量的值是否可修改"
   ]
  },
  {
   "cell_type": "markdown",
   "id": "749ad033",
   "metadata": {},
   "source": [
    "- 整数, 浮点数, 布尔型: 可变"
   ]
  },
  {
   "cell_type": "code",
   "execution_count": 59,
   "id": "d084bdf7",
   "metadata": {},
   "outputs": [],
   "source": [
    "i = 10\n",
    "f = 10.001\n",
    "y_or_n = True\n",
    "\n",
    "i = 101\n",
    "f = 10.0011\n",
    "y_or_n = False"
   ]
  },
  {
   "cell_type": "markdown",
   "id": "252ee4ba",
   "metadata": {},
   "source": [
    "- 字符串: 不可变"
   ]
  },
  {
   "cell_type": "code",
   "execution_count": 2,
   "id": "c4e9298f",
   "metadata": {},
   "outputs": [
    {
     "ename": "TypeError",
     "evalue": "'str' object does not support item assignment",
     "output_type": "error",
     "traceback": [
      "\u001b[0;31m---------------------------------------------------------------------------\u001b[0m",
      "\u001b[0;31mTypeError\u001b[0m                                 Traceback (most recent call last)",
      "Cell \u001b[0;32mIn [2], line 2\u001b[0m\n\u001b[1;32m      1\u001b[0m s \u001b[38;5;241m=\u001b[39m \u001b[38;5;124m'\u001b[39m\u001b[38;5;124mHello world !\u001b[39m\u001b[38;5;124m'\u001b[39m\n\u001b[0;32m----> 2\u001b[0m \u001b[43ms\u001b[49m\u001b[43m[\u001b[49m\u001b[38;5;241;43m0\u001b[39;49m\u001b[43m]\u001b[49m \u001b[38;5;241m=\u001b[39m \u001b[38;5;124m\"\u001b[39m\u001b[38;5;124mh\u001b[39m\u001b[38;5;124m\"\u001b[39m\n",
      "\u001b[0;31mTypeError\u001b[0m: 'str' object does not support item assignment"
     ]
    }
   ],
   "source": [
    "s = 'Hello world !'\n",
    "s[0] = \"h\""
   ]
  },
  {
   "cell_type": "markdown",
   "id": "03fd7265",
   "metadata": {},
   "source": [
    "替代时, 得到一个新的串, 原来的串并没有被改变"
   ]
  },
  {
   "cell_type": "code",
   "execution_count": 3,
   "id": "9f24c6cf",
   "metadata": {},
   "outputs": [
    {
     "data": {
      "text/plain": [
       "'hello world !'"
      ]
     },
     "execution_count": 3,
     "metadata": {},
     "output_type": "execute_result"
    }
   ],
   "source": [
    "s.replace(\"H\",\"h\")"
   ]
  },
  {
   "cell_type": "code",
   "execution_count": 4,
   "id": "d8751488",
   "metadata": {},
   "outputs": [
    {
     "data": {
      "text/plain": [
       "'Hello world !'"
      ]
     },
     "execution_count": 4,
     "metadata": {},
     "output_type": "execute_result"
    }
   ],
   "source": [
    "s"
   ]
  },
  {
   "cell_type": "markdown",
   "id": "85067ff0",
   "metadata": {},
   "source": [
    "- 列表: 可变"
   ]
  },
  {
   "cell_type": "code",
   "execution_count": 5,
   "id": "5ae51b87",
   "metadata": {},
   "outputs": [
    {
     "data": {
      "text/plain": [
       "['Hello', ' ', 'Python', '!', 10]"
      ]
     },
     "execution_count": 5,
     "metadata": {},
     "output_type": "execute_result"
    }
   ],
   "source": [
    "l = ['Hello', ' ', 'world', '!', 10 ]\n",
    "l[2] = 'Python'\n",
    "l"
   ]
  },
  {
   "cell_type": "markdown",
   "id": "82aeda3b",
   "metadata": {},
   "source": [
    "- 字典: 可变\n",
    "\n",
    "但可以用`key`进行查字典"
   ]
  },
  {
   "cell_type": "code",
   "execution_count": 65,
   "id": "04f3626e",
   "metadata": {},
   "outputs": [
    {
     "name": "stdout",
     "output_type": "stream",
     "text": [
      "{'pigs': [3, 5, 8], 'dogs': [5, 5, 5]}\n"
     ]
    }
   ],
   "source": [
    "pet_num = {'pigs': [3,5,8], 'dogs': [5,2,1] }\n",
    "# print(pet_num[0])\n",
    "# KeyError: 0\n",
    "\n",
    "pet_num['dogs'] = [5,5,5]\n",
    "\n",
    "print(pet_num)"
   ]
  },
  {
   "cell_type": "markdown",
   "id": "058671f0",
   "metadata": {},
   "source": [
    "- 元组: 不可变"
   ]
  },
  {
   "cell_type": "code",
   "execution_count": 6,
   "id": "ebb1ef81",
   "metadata": {},
   "outputs": [
    {
     "ename": "TypeError",
     "evalue": "'tuple' object does not support item assignment",
     "output_type": "error",
     "traceback": [
      "\u001b[0;31m---------------------------------------------------------------------------\u001b[0m",
      "\u001b[0;31mTypeError\u001b[0m                                 Traceback (most recent call last)",
      "Cell \u001b[0;32mIn [6], line 2\u001b[0m\n\u001b[1;32m      1\u001b[0m t \u001b[38;5;241m=\u001b[39m (\u001b[38;5;124m'\u001b[39m\u001b[38;5;124m张三\u001b[39m\u001b[38;5;124m'\u001b[39m, \u001b[38;5;124m'\u001b[39m\u001b[38;5;124m男\u001b[39m\u001b[38;5;124m'\u001b[39m, \u001b[38;5;241m18\u001b[39m, \u001b[38;5;28;01mTrue\u001b[39;00m, \u001b[38;5;124m'\u001b[39m\u001b[38;5;124m成都\u001b[39m\u001b[38;5;124m'\u001b[39m, \u001b[38;5;241m80\u001b[39m, \u001b[38;5;241m90\u001b[39m, \u001b[38;5;241m80\u001b[39m, \u001b[38;5;241m90\u001b[39m, \u001b[38;5;241m95\u001b[39m)\n\u001b[0;32m----> 2\u001b[0m \u001b[43mt\u001b[49m\u001b[43m[\u001b[49m\u001b[38;5;241;43m0\u001b[39;49m\u001b[43m]\u001b[49m \u001b[38;5;241m=\u001b[39m \u001b[38;5;124m'\u001b[39m\u001b[38;5;124m李四\u001b[39m\u001b[38;5;124m'\u001b[39m\n",
      "\u001b[0;31mTypeError\u001b[0m: 'tuple' object does not support item assignment"
     ]
    }
   ],
   "source": [
    "t = ('张三', '男', 18, True, '成都', 80, 90, 80, 90, 95)\n",
    "t[0] = '李四'"
   ]
  },
  {
   "cell_type": "markdown",
   "id": "4281d0dd",
   "metadata": {},
   "source": [
    "- 集合: 可变"
   ]
  },
  {
   "cell_type": "code",
   "execution_count": 75,
   "id": "74f20f51",
   "metadata": {},
   "outputs": [
    {
     "name": "stdout",
     "output_type": "stream",
     "text": [
      "{'o', 'H', 'e', 'l'}\n",
      "{'H', 'o', 'two', 'e', 'l'}\n",
      "{'H', 'o', 'e', 'l'}\n",
      "{'H', 'w', 'o', 't', 'e', 'l'}\n",
      "{'w', 'o', 't', 'e', 'l'}\n"
     ]
    }
   ],
   "source": [
    "c_set = set('Hello')\n",
    "# print(num_set[0])\n",
    "# TypeError: 'set' object is not subscriptable\n",
    "print(c_set)\n",
    "c_set.add('two')\n",
    "print(c_set)\n",
    "c_set.remove('two')\n",
    "print(c_set)\n",
    "c_set.update('two')\n",
    "print(c_set)\n",
    "c_set.pop()\n",
    "print(c_set)"
   ]
  },
  {
   "cell_type": "markdown",
   "id": "dc67443b",
   "metadata": {},
   "source": [
    "## 类型转换"
   ]
  },
  {
   "cell_type": "markdown",
   "id": "a0f7ebb1",
   "metadata": {},
   "source": [
    "计算机把所有的键盘输入, 都看成是字符串, 如果要输入别的类型, 则要进行数据类型转换"
   ]
  },
  {
   "cell_type": "code",
   "execution_count": 90,
   "id": "7a67ae5b",
   "metadata": {},
   "outputs": [
    {
     "name": "stdout",
     "output_type": "stream",
     "text": [
      "你的年龄是18, 收入是789.00\n"
     ]
    }
   ],
   "source": [
    "age = int(18.5)\n",
    "income = float(789)\n",
    "print('你的年龄是%s, 收入是%3.2f' %(age,income))"
   ]
  },
  {
   "cell_type": "markdown",
   "id": "2835f49d",
   "metadata": {},
   "source": [
    "常用类型转换函数\n",
    "\n",
    "| 函数| 功能 | \n",
    "| -----  | ----- | \n",
    "| int(x [,base])| 返回整数\n",
    "|float(x)| 返回浮点数\n",
    "|list(x) | 返回列表\n",
    "|str(x)  | 返回字符串\n",
    "|eval(x) | 返回字符串中的Python表达式\n",
    "|tuple(x)| 返回元组\n",
    "|set(x)  | 返回集合\n",
    "|complex(real [,imag])  | 返回复数\n",
    "|array(x)| 返回数组\n",
    "|repr(x) | 把Python表达式转换成字符串\n",
    "|chr(x)  | 把整数转换为一个Unicode字符\n",
    "|ord(x)\t |返回字母的十进制数编码\n",
    "|hex(x)  | 返回字母的十六进制数编码\n",
    "|oct(x)  | 返回字母的八进制数编码\n"
   ]
  },
  {
   "cell_type": "markdown",
   "id": "a74d8d62",
   "metadata": {},
   "source": [
    "查看变量类型：`type()`"
   ]
  },
  {
   "cell_type": "markdown",
   "id": "a2ea2949",
   "metadata": {},
   "source": [
    "## 变量赋值"
   ]
  },
  {
   "cell_type": "markdown",
   "id": "b2ad1a66",
   "metadata": {},
   "source": [
    "### y = x 问题"
   ]
  },
  {
   "cell_type": "code",
   "execution_count": null,
   "id": "477eaaed",
   "metadata": {},
   "outputs": [
    {
     "name": "stdout",
     "output_type": "stream",
     "text": [
      "[1, 100, 3]\n"
     ]
    }
   ],
   "source": [
    "x = [1, 2, 3]\n",
    "y = x\n",
    "x[1] = 100\n",
    "print(y)"
   ]
  },
  {
   "cell_type": "markdown",
   "id": "f7f5453c",
   "metadata": {},
   "source": [
    "改变变量`x`的值，变量`y`的值也随着改变!\n",
    "\n",
    "这与内部的赋值机制有关, 原因在于它们俩共享同一内存区域。"
   ]
  },
  {
   "cell_type": "markdown",
   "id": "c223798d",
   "metadata": {},
   "source": [
    "### 简单类型"
   ]
  },
  {
   "cell_type": "markdown",
   "id": "c455a723",
   "metadata": {},
   "source": [
    "看这一段代码在**Python**中的执行过程。\n",
    "\n",
    "```python\n",
    "x = 500\n",
    "```\n",
    "**Python**分配了一个 `PyInt` 大小的内存 `pos1` 用来储存对象 `500` ，然后，Python在命名空间中让变量 `x` 指向了这一块内存，注意，整数是不可变类型，所以这块内存的内容是不可变的。\n",
    "\n",
    "|内存|命名空间|\n",
    "|---|---|\n",
    "|`pos1 : PyInt(500)` (不可变)|          `x : pos1`         |\n"
   ]
  },
  {
   "cell_type": "markdown",
   "id": "b6fa4594",
   "metadata": {},
   "source": [
    "\n",
    "```python\n",
    "y = x\n",
    "```\n",
    "\n",
    "**Python**并没有使用新的内存来储存变量 `y` 的值，而是在命名空间中，让变量 `y` 与变量 `x` 指向了同一块内存空间。\n",
    "\n",
    "|内存|命名空间|\n",
    "|---|---|\n",
    "|`pos1 : PyInt(500)` (不可变)|`x : pos1`<br> `y : pos1`|\n"
   ]
  },
  {
   "cell_type": "markdown",
   "id": "b225df9d",
   "metadata": {},
   "source": [
    "\n",
    "\n",
    "```python\n",
    "y = 'foo'\n",
    "```\n",
    "由于`pos1 : PyInt(500)`是不可变的, **Python**只好分配一个 `PyStr` 大小的内存 `pos2` 来储存对象 `foo` ，然后改变变量 `y` 所指的地址。\n",
    "\n",
    "|内存|命名空间|\n",
    "|---|---|\n",
    "|`pos1 : PyInt(500)` (不可变)<br> `pos2 : PyStr('foo')` (不可变)|`x : pos1`<br>`y : pos2`|\n"
   ]
  },
  {
   "cell_type": "markdown",
   "id": "2ebda2d1",
   "metadata": {
    "collapsed": true
   },
   "source": [
    "可以使用 `is` 来判断是不是指向同一个事物："
   ]
  },
  {
   "cell_type": "code",
   "execution_count": 1,
   "id": "e3726419",
   "metadata": {},
   "outputs": [
    {
     "data": {
      "text/plain": [
       "True"
      ]
     },
     "execution_count": 1,
     "metadata": {},
     "output_type": "execute_result"
    }
   ],
   "source": [
    "x = 500\n",
    "y = x \n",
    "x is y"
   ]
  },
  {
   "cell_type": "code",
   "execution_count": 2,
   "id": "c4365bd1",
   "metadata": {},
   "outputs": [
    {
     "name": "stdout",
     "output_type": "stream",
     "text": [
      "4446776592\n",
      "4446776592\n"
     ]
    }
   ],
   "source": [
    "print(id(x)) # 返回变量 `x` 的内存地址。\n",
    "print(id(y)) # 返回变量 `y` 的内存地址。"
   ]
  },
  {
   "cell_type": "markdown",
   "id": "856068dd",
   "metadata": {
    "collapsed": true
   },
   "source": [
    "现在给`y` 重新赋值,则`y` 得指向另一块内存："
   ]
  },
  {
   "cell_type": "code",
   "execution_count": 3,
   "id": "e4dbf283",
   "metadata": {},
   "outputs": [
    {
     "name": "stdout",
     "output_type": "stream",
     "text": [
      "False\n",
      "4446776592\n",
      "4351677424\n"
     ]
    }
   ],
   "source": [
    "y = 'foo'\n",
    "print(x is y)\n",
    "print(id(x)) # 返回变量 `x` 的内存地址。\n",
    "print(id(y)) # 返回变量 `y` 的内存地址。"
   ]
  },
  {
   "cell_type": "markdown",
   "id": "7f1ffc8b",
   "metadata": {
    "collapsed": true
   },
   "source": [
    "通常, **Python**会为每个出现的对象进行赋值，哪怕它们的值是一样的，也是两个不同的变量"
   ]
  },
  {
   "cell_type": "code",
   "execution_count": 4,
   "id": "ca795d78",
   "metadata": {},
   "outputs": [
    {
     "data": {
      "text/plain": [
       "False"
      ]
     },
     "execution_count": 4,
     "metadata": {},
     "output_type": "execute_result"
    }
   ],
   "source": [
    "x = 500\n",
    "y = 500\n",
    "\n",
    "x is y"
   ]
  },
  {
   "cell_type": "markdown",
   "id": "c4f5a90c",
   "metadata": {
    "collapsed": true
   },
   "source": [
    "注意: 对于一些简单的对象，如一些数值较小的int对象，**Python**依然采用了共享内存的办法："
   ]
  },
  {
   "cell_type": "code",
   "execution_count": 5,
   "id": "0a5ec8a2",
   "metadata": {},
   "outputs": [
    {
     "data": {
      "text/plain": [
       "True"
      ]
     },
     "execution_count": 5,
     "metadata": {},
     "output_type": "execute_result"
    }
   ],
   "source": [
    "x = 2\n",
    "y = 2\n",
    "\n",
    "x is y"
   ]
  },
  {
   "cell_type": "markdown",
   "id": "1622e34f",
   "metadata": {
    "collapsed": true
   },
   "source": [
    "### 垃圾回收"
   ]
  },
  {
   "cell_type": "markdown",
   "id": "cb735832",
   "metadata": {},
   "source": [
    "当数据对象比较复杂时, 会出现问题："
   ]
  },
  {
   "cell_type": "code",
   "execution_count": null,
   "id": "8e295419",
   "metadata": {},
   "outputs": [
    {
     "data": {
      "text/plain": [
       "[500, 600, 502]"
      ]
     },
     "metadata": {},
     "output_type": "display_data"
    }
   ],
   "source": [
    "\n",
    "x = [500, 501, 502]\n",
    "y = x\n",
    "y[1] = 600\n",
    "y = [700, 800]\n",
    "\n",
    "x"
   ]
  },
  {
   "cell_type": "markdown",
   "id": "006d4e28",
   "metadata": {},
   "source": [
    "值 `501` 掉失了!"
   ]
  },
  {
   "cell_type": "markdown",
   "id": "fa2978ba",
   "metadata": {},
   "source": [
    "**分析原因**：\n",
    "\n",
    "- `x = [500, 501, 502]`\n",
    "  \n",
    "Python为3个PyInt分配内存 `pos1` ， `pos2` ， `pos3` （不可变），然后为列表分配一段内存 `pos4` ，它包含3个位置，分别指向这3个内存，最后再让变量 `x` 指向这个列表。\n",
    "\n",
    "|内存|命名空间|\n",
    "|---|---|\n",
    "|`pos1 : PyInt(500)` (不可变) <br> `pos2 : PyInt(501)` (不可变) <br>`pos3 : PyInt(502)` (不可变) <br> `pos4 : PyList(pos1, pos2, pos3)` (可变)|`x : pos4`|\n"
   ]
  },
  {
   "cell_type": "markdown",
   "id": "0cc0415f",
   "metadata": {},
   "source": [
    "\n",
    "- `y = x`\n",
    "\n",
    "并没有创建新的对象，只需要将 `y` 指向 `pos4` 即可。\n",
    "\n",
    "|内存|命名空间|\n",
    "|---|---|\n",
    "|`pos1 : PyInt(500)` (不可变) <br> `pos2 : PyInt(501)` (不可变) <br> `pos3 : PyInt(502)` (不可变) <br> `pos4 : PyList(pos1, pos2, pos3)` (可变)|`x : pos4`<br>`y : pos4`|\n"
   ]
  },
  {
   "cell_type": "markdown",
   "id": "3177f1b1",
   "metadata": {},
   "source": [
    "\n",
    "- `y[1] = 600`\n",
    "\n",
    "原来 `y[1]` 这个位置指向的是 `pos2` ，由于不能修改 `pos2` 的值，所以首先为 `600` 分配新内存 `pos5` 。\n",
    "\n",
    "再把 `y[1]` 指向的位置修改为 `pos5` 。此时，由于 `pos2` 位置的对象已经没有用了，**Python**会自动调用垃圾处理机制将它回收。\n",
    "\n",
    "|内存|命名空间|\n",
    "|---|---|\n",
    "|`pos1 : PyInt(500)` (不可变) <br> `pos2 : PyInt(501)`  垃圾回收 <br> `pos3 : PyInt(502)` (不可变) <br> `pos4 : PyList(pos1, pos5, pos3)` (可变)<br>`pos5 : PyInt(600)` (不可变) |`x : pos4`<br> `y : pos4`|\n"
   ]
  },
  {
   "cell_type": "markdown",
   "id": "f825371f",
   "metadata": {},
   "source": [
    "\n",
    "- `y = [700, 800]`\n",
    "\n",
    "首先创建这个列表，然后将变量 `y` 指向它。\n",
    "\n",
    "|内存|命名空间|\n",
    "|---|---|\n",
    "|`pos1 : PyInt(500)` (不可变) <br> `pos2 : PyInt(501)`  垃圾回收 <br> `pos3 : PyInt(502)` (不可变) <br>`pos4 : PyList(pos1, pos5, pos3)` (可变)<br>`pos5 : PyInt(600)` (不可变) <br>`pos6 : PyInt(700)` (不可变)<br>`pos7 : PyInt(800)` (不可变)<br>`pos8 : PyList(pos6, pos7)` (可变)|`x : pos4` <br> `y : pos8`|\n",
    "\n"
   ]
  },
  {
   "cell_type": "markdown",
   "id": "91597d80",
   "metadata": {},
   "source": [
    "** 验证：**"
   ]
  },
  {
   "cell_type": "code",
   "execution_count": null,
   "id": "63522ba2",
   "metadata": {},
   "outputs": [
    {
     "name": "stdout",
     "output_type": "stream",
     "text": [
      "140699545710448\n",
      "140699545709136\n",
      "140699545707312\n",
      "140699544187008\n"
     ]
    }
   ],
   "source": [
    "x = [500, 501, 502]\n",
    "print(id(x[0]))\n",
    "print(id(x[1]))\n",
    "print(id(x[2]))\n",
    "print(id(x))"
   ]
  },
  {
   "cell_type": "code",
   "execution_count": null,
   "id": "53019dc1",
   "metadata": {
    "scrolled": true
   },
   "outputs": [
    {
     "data": {
      "text/plain": [
       "True"
      ]
     },
     "metadata": {},
     "output_type": "display_data"
    }
   ],
   "source": [
    "y = x\n",
    "\n",
    "id(y) == id(x)"
   ]
  },
  {
   "cell_type": "code",
   "execution_count": null,
   "id": "f13ffcdb",
   "metadata": {
    "scrolled": true
   },
   "outputs": [
    {
     "data": {
      "text/plain": [
       "True"
      ]
     },
     "metadata": {},
     "output_type": "display_data"
    }
   ],
   "source": [
    "tmpid = id(x[1])\n",
    "\n",
    "y[1] = 600\n",
    "\n",
    "id(y) == id(x)"
   ]
  },
  {
   "cell_type": "code",
   "execution_count": null,
   "id": "bf874600",
   "metadata": {},
   "outputs": [
    {
     "data": {
      "text/plain": [
       "True"
      ]
     },
     "metadata": {},
     "output_type": "display_data"
    }
   ],
   "source": [
    "\n",
    "id(x[1]) == id(y[1]) "
   ]
  },
  {
   "cell_type": "code",
   "execution_count": null,
   "id": "cbf3c6fa",
   "metadata": {},
   "outputs": [
    {
     "data": {
      "text/plain": [
       "False"
      ]
     },
     "metadata": {},
     "output_type": "display_data"
    }
   ],
   "source": [
    "id(x[1]) == tmpid"
   ]
  },
  {
   "cell_type": "markdown",
   "id": "06652190",
   "metadata": {},
   "source": [
    "此时，发生了 **垃圾回收**， 值 `501` 掉失了!"
   ]
  },
  {
   "cell_type": "markdown",
   "id": "1835c7f7",
   "metadata": {},
   "source": [
    "更改 `y` 的值，`id(y)` 的值改变"
   ]
  },
  {
   "cell_type": "code",
   "execution_count": null,
   "id": "8abd667d",
   "metadata": {},
   "outputs": [
    {
     "name": "stdout",
     "output_type": "stream",
     "text": [
      "140699544292736\n",
      "140699544187008\n"
     ]
    }
   ],
   "source": [
    "y = [700, 800]\n",
    "print(id(y))\n",
    "print(id(x))"
   ]
  },
  {
   "cell_type": "code",
   "execution_count": null,
   "id": "949614ce",
   "metadata": {},
   "outputs": [
    {
     "name": "stdout",
     "output_type": "stream",
     "text": [
      "140699545710448 140699545710352 140699545707312\n",
      "140699545710000 140699545708304\n"
     ]
    }
   ],
   "source": [
    "print(id(x[0]), id(x[1]), id(x[2]))\n",
    "print(id(y[0]), id(y[1]))"
   ]
  },
  {
   "cell_type": "markdown",
   "id": "40c7a575",
   "metadata": {},
   "source": [
    "下面的程序，`500、501、502` 都因发生垃圾回收而掉失"
   ]
  },
  {
   "cell_type": "code",
   "execution_count": null,
   "id": "790b2d0e",
   "metadata": {},
   "outputs": [
    {
     "data": {
      "text/plain": [
       "[700, 600, 800]"
      ]
     },
     "metadata": {},
     "output_type": "display_data"
    }
   ],
   "source": [
    "x = [500, 501, 502]\n",
    "y = x\n",
    "y[1] = 600\n",
    "y[0] = 700\n",
    "y[2] = 800\n",
    "\n",
    "x"
   ]
  },
  {
   "cell_type": "markdown",
   "id": "1a54a64f",
   "metadata": {},
   "source": [
    "## 小结\n",
    "\n",
    "| 类型| 有序 | 可变 | \n",
    "| -----  | ----- | ----- |\n",
    "| 整数 | NaN | True |\n",
    "| 浮点数 | NaN | True |\n",
    "| 布尔型 | NaN | True |\n",
    "| 字符串 | True | False |\n",
    "| 列表 | True |True |\n",
    "| 字典 | False|True |\n",
    "| 元组 | True | False |\n",
    "| 集合 | False |True |"
   ]
  }
 ],
 "metadata": {
  "kernelspec": {
   "display_name": "Python 3 (ipykernel)",
   "language": "python",
   "name": "python3"
  },
  "language_info": {
   "codemirror_mode": {
    "name": "ipython",
    "version": 3
   },
   "file_extension": ".py",
   "mimetype": "text/x-python",
   "name": "python",
   "nbconvert_exporter": "python",
   "pygments_lexer": "ipython3",
   "version": "3.9.12"
  },
  "toc": {
   "base_numbering": 1,
   "nav_menu": {},
   "number_sections": true,
   "sideBar": true,
   "skip_h1_title": true,
   "title_cell": "Table of Contents",
   "title_sidebar": "Contents",
   "toc_cell": false,
   "toc_position": {},
   "toc_section_display": true,
   "toc_window_display": true
  },
  "vscode": {
   "interpreter": {
    "hash": "7e1998ff7f8aa20ada591c520b972326324e5ea05489af9e422744c7c09f6dad"
   }
  }
 },
 "nbformat": 4,
 "nbformat_minor": 5
}
