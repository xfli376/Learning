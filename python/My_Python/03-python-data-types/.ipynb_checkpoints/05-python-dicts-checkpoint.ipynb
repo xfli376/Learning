{
 "cells": [
  {
   "cell_type": "markdown",
   "id": "b6991bbd",
   "metadata": {},
   "source": [
    "# 字典 （Dict）"
   ]
  },
  {
   "cell_type": "markdown",
   "id": "caa699c2",
   "metadata": {},
   "source": [
    "字典 `dictionary` ，在一些编程语言中也称为 `hash` ， `map` ，是一种由`键值对`组成的数据结构。\n",
    "\n",
    "顾名思义，我们把键想象成字典中的单词，值想象成与词对应的意义"
   ]
  },
  {
   "cell_type": "markdown",
   "id": "ab62b1e5",
   "metadata": {},
   "source": [
    "## 生成字典"
   ]
  },
  {
   "cell_type": "markdown",
   "id": "3d83092c",
   "metadata": {},
   "source": [
    "通过关键字`dict`"
   ]
  },
  {
   "cell_type": "code",
   "execution_count": 1,
   "id": "950512b0",
   "metadata": {},
   "outputs": [
    {
     "data": {
      "text/plain": [
       "{'man': 'an adult male human being', 'woman': 'an adult female human being'}"
      ]
     },
     "execution_count": 1,
     "metadata": {},
     "output_type": "execute_result"
    }
   ],
   "source": [
    "dc = dict()\n",
    "dc[\"man\"] = \"an adult male human being\"\n",
    "dc[\"woman\"] = \"an adult female human being\"\n",
    "dc"
   ]
  },
  {
   "cell_type": "code",
   "execution_count": 2,
   "id": "17ac00de",
   "metadata": {},
   "outputs": [
    {
     "data": {
      "text/plain": [
       "{'man': 'an adult male human being', 'woman': 'an adult female human being'}"
      ]
     },
     "execution_count": 2,
     "metadata": {},
     "output_type": "execute_result"
    }
   ],
   "source": [
    "dc = dict(man = 'an adult male human being', woman = 'an adult female human being' )\n",
    "dc"
   ]
  },
  {
   "cell_type": "markdown",
   "id": "88ed3a2d",
   "metadata": {},
   "source": [
    "直接赋值"
   ]
  },
  {
   "cell_type": "code",
   "execution_count": null,
   "id": "7a1374f9",
   "metadata": {},
   "outputs": [
    {
     "data": {
      "text/plain": [
       "{'one': 'this is number 1', 'two': 'this is number 2'}"
      ]
     },
     "metadata": {},
     "output_type": "display_data"
    }
   ],
   "source": [
    "b = {'one': 'this is number 1', 'two': 'this is number 2'}\n",
    "b"
   ]
  },
  {
   "cell_type": "markdown",
   "id": "efd18dbd",
   "metadata": {},
   "source": [
    "通过二元组列表"
   ]
  },
  {
   "cell_type": "code",
   "execution_count": 4,
   "id": "64550370",
   "metadata": {},
   "outputs": [
    {
     "data": {
      "text/plain": [
       "{'one': 'this is number 1', 'two': 'this is number 2'}"
      ]
     },
     "execution_count": 4,
     "metadata": {},
     "output_type": "execute_result"
    }
   ],
   "source": [
    "l = [('one', 'this is number 1'), ('two', 'this is number 2')]\n",
    "dict(l)"
   ]
  },
  {
   "cell_type": "markdown",
   "id": "23ec35fa",
   "metadata": {},
   "source": [
    "通过`zip`两个同构列表"
   ]
  },
  {
   "cell_type": "code",
   "execution_count": 5,
   "id": "dc2b61c8",
   "metadata": {},
   "outputs": [
    {
     "data": {
      "text/plain": [
       "{'one': 1, 'two': 2}"
      ]
     },
     "execution_count": 5,
     "metadata": {},
     "output_type": "execute_result"
    }
   ],
   "source": [
    "dc =dict(zip(['one', 'two'], [1, 2]))\n",
    "dc"
   ]
  },
  {
   "cell_type": "markdown",
   "id": "55c2c08d",
   "metadata": {},
   "source": [
    "对一个列表切片产生两个列表"
   ]
  },
  {
   "cell_type": "code",
   "execution_count": 21,
   "id": "ea154557",
   "metadata": {},
   "outputs": [
    {
     "data": {
      "text/plain": [
       "{'dogs': 2, 'pigs': 3}"
      ]
     },
     "execution_count": 21,
     "metadata": {},
     "output_type": "execute_result"
    }
   ],
   "source": [
    "l = ['dogs', 2, 'pigs', 3 ]\n",
    "dict(zip(l[0::2], l[1::2]))"
   ]
  },
  {
   "cell_type": "markdown",
   "id": "c2363a60",
   "metadata": {},
   "source": [
    "通过推导式"
   ]
  },
  {
   "cell_type": "code",
   "execution_count": 37,
   "id": "9e408746",
   "metadata": {},
   "outputs": [],
   "source": [
    "dc = {x: oct(x)  for x in range(10) }\n",
    "# print(dc)"
   ]
  },
  {
   "cell_type": "markdown",
   "id": "ccc66801",
   "metadata": {},
   "source": [
    "## 字典操作"
   ]
  },
  {
   "cell_type": "markdown",
   "id": "5769b7a1",
   "metadata": {},
   "source": [
    "### 长度"
   ]
  },
  {
   "cell_type": "code",
   "execution_count": 32,
   "id": "a636ab12",
   "metadata": {},
   "outputs": [
    {
     "data": {
      "text/plain": [
       "10"
      ]
     },
     "execution_count": 32,
     "metadata": {},
     "output_type": "execute_result"
    }
   ],
   "source": [
    "len(dc)"
   ]
  },
  {
   "cell_type": "markdown",
   "id": "76baece2",
   "metadata": {},
   "source": [
    "### `键`索引"
   ]
  },
  {
   "cell_type": "code",
   "execution_count": 29,
   "id": "9a256dc0",
   "metadata": {},
   "outputs": [
    {
     "data": {
      "text/plain": [
       "'0o0'"
      ]
     },
     "execution_count": 29,
     "metadata": {},
     "output_type": "execute_result"
    }
   ],
   "source": [
    "dc[0]"
   ]
  },
  {
   "cell_type": "markdown",
   "id": "1548fa00",
   "metadata": {},
   "source": [
    "### 更新`键值`"
   ]
  },
  {
   "cell_type": "code",
   "execution_count": 35,
   "id": "04376320",
   "metadata": {},
   "outputs": [
    {
     "name": "stdout",
     "output_type": "stream",
     "text": [
      "{0: '0x0', 1: '0o1', 2: '0o2', 3: '0o3', 4: '0o4', 5: '0o5', 6: '0o6', 7: '0o7', 8: '0o10', 9: '0o11'}\n"
     ]
    }
   ],
   "source": [
    "dc[0] = hex(0)\n",
    "print(dc)"
   ]
  },
  {
   "cell_type": "markdown",
   "id": "e31d7da7",
   "metadata": {},
   "source": [
    "> 如果没有对应键名, 就追加"
   ]
  },
  {
   "cell_type": "code",
   "execution_count": 36,
   "id": "1eb5458a",
   "metadata": {},
   "outputs": [
    {
     "name": "stdout",
     "output_type": "stream",
     "text": [
      "{0: '0x0', 1: '0o1', 2: '0o2', 3: '0o3', 4: '0o4', 5: '0o5', 6: '0o6', 7: '0o7', 8: '0o10', 9: '0o11', 16: '0x10'}\n"
     ]
    }
   ],
   "source": [
    "dc[16] = hex(16)\n",
    "print(dc)"
   ]
  },
  {
   "cell_type": "markdown",
   "id": "030866c8",
   "metadata": {},
   "source": [
    "键必须是不可变数据对象（整数，字符串，元组）, 键值不限"
   ]
  },
  {
   "cell_type": "markdown",
   "id": "f9fe84e5",
   "metadata": {},
   "source": [
    "由于浮点数的精度的原因, 通常不用作做键："
   ]
  },
  {
   "cell_type": "code",
   "execution_count": 41,
   "id": "5f3eaa59",
   "metadata": {},
   "outputs": [
    {
     "data": {
      "text/plain": [
       "{3.3000000000000003: 6.6}"
      ]
     },
     "execution_count": 41,
     "metadata": {},
     "output_type": "execute_result"
    }
   ],
   "source": [
    "data = {}\n",
    "data[1.1 + 2.2] = 6.6\n",
    "data \n"
   ]
  },
  {
   "cell_type": "markdown",
   "id": "1051ceb1",
   "metadata": {},
   "source": [
    "元组键: 例如，可以用元组做键来表示从第一个城市飞往第二个城市航班数的多少："
   ]
  },
  {
   "cell_type": "code",
   "execution_count": null,
   "id": "bb47a344",
   "metadata": {
    "collapsed": true
   },
   "outputs": [],
   "source": [
    "connections = {}\n",
    "connections[('New York', 'Seattle')] = 100\n",
    "connections[('Austin', 'New York')] = 200\n",
    "connections[('New York', 'Austin')] = 400"
   ]
  },
  {
   "cell_type": "markdown",
   "id": "aea943a9",
   "metadata": {},
   "source": [
    "元组是有序的，因此`('New York', 'Austin')` 和 `('Austin', 'New York')` 是两个不同的键："
   ]
  },
  {
   "cell_type": "code",
   "execution_count": null,
   "id": "a385fc23",
   "metadata": {},
   "outputs": [
    {
     "name": "stdout",
     "output_type": "stream",
     "text": [
      "200\n",
      "400\n"
     ]
    }
   ],
   "source": [
    "print(connections[('Austin', 'New York')])\n",
    "print(connections[('New York', 'Austin')])"
   ]
  },
  {
   "cell_type": "markdown",
   "id": "13af0501",
   "metadata": {},
   "source": [
    "字典键值:"
   ]
  },
  {
   "cell_type": "code",
   "execution_count": 39,
   "id": "22e4cfa8",
   "metadata": {},
   "outputs": [
    {
     "data": {
      "text/plain": [
       "{'dict_1': {'mag': 0.05, 'width': 20},\n",
       " 'dict_2': {'mag': 0.04, 'width': 25},\n",
       " 'dict_3': {'mag': 0.05, 'width': 80},\n",
       " 'dict_4': {'mag': 0.03, 'width': 30}}"
      ]
     },
     "execution_count": 39,
     "metadata": {},
     "output_type": "execute_result"
    }
   ],
   "source": [
    "# 定义四个字典用来做键值\n",
    "e1 = {'mag': 0.05, 'width': 20}\n",
    "e3 = {'mag': 0.05, 'width': 80}\n",
    "e2 = {'mag': 0.04, 'width': 25}\n",
    "e4 = {'mag': 0.03, 'width': 30}\n",
    "# 以字典作为值传入新的字典\n",
    "events = {'dict_1': e1, 'dict_2': e2, 'dict_3': e3, 'dict_4': e4}\n",
    "events"
   ]
  },
  {
   "cell_type": "markdown",
   "id": "f0167cba",
   "metadata": {},
   "source": [
    "删除键值对"
   ]
  },
  {
   "cell_type": "code",
   "execution_count": 42,
   "id": "06115c6c",
   "metadata": {},
   "outputs": [
    {
     "data": {
      "text/plain": [
       "{'dict_1': {'mag': 0.05, 'width': 20},\n",
       " 'dict_3': {'mag': 0.05, 'width': 80},\n",
       " 'dict_4': {'mag': 0.03, 'width': 30}}"
      ]
     },
     "execution_count": 42,
     "metadata": {},
     "output_type": "execute_result"
    }
   ],
   "source": [
    "del events['dict_2']\n",
    "events"
   ]
  },
  {
   "cell_type": "markdown",
   "id": "ec7de236",
   "metadata": {},
   "source": [
    "## 字典方法"
   ]
  },
  {
   "cell_type": "markdown",
   "id": "c0284c6e",
   "metadata": {},
   "source": [
    "###  `get` 方法"
   ]
  },
  {
   "cell_type": "code",
   "execution_count": 44,
   "id": "e3bc7cf5",
   "metadata": {
    "collapsed": true
   },
   "outputs": [
    {
     "ename": "KeyError",
     "evalue": "'three'",
     "output_type": "error",
     "traceback": [
      "\u001b[0;31m---------------------------------------------------------------------------\u001b[0m",
      "\u001b[0;31mKeyError\u001b[0m                                  Traceback (most recent call last)",
      "\u001b[1;32m/Users/xfli/Documents/GitDev/Learning/python/My_Python/03-python-data-types/06-python-dicts.ipynb Cell 39\u001b[0m in \u001b[0;36m<cell line: 5>\u001b[0;34m()\u001b[0m\n\u001b[1;32m      <a href='vscode-notebook-cell:/Users/xfli/Documents/GitDev/Learning/python/My_Python/03-python-data-types/06-python-dicts.ipynb#X60sZmlsZQ%3D%3D?line=2'>3</a>\u001b[0m a[\u001b[39m\"\u001b[39m\u001b[39mtwo\u001b[39m\u001b[39m\"\u001b[39m] \u001b[39m=\u001b[39m \u001b[39m\"\u001b[39m\u001b[39mthis is number 2\u001b[39m\u001b[39m\"\u001b[39m\n\u001b[1;32m      <a href='vscode-notebook-cell:/Users/xfli/Documents/GitDev/Learning/python/My_Python/03-python-data-types/06-python-dicts.ipynb#X60sZmlsZQ%3D%3D?line=3'>4</a>\u001b[0m \u001b[39m#  查不存在的键,会报错\u001b[39;00m\n\u001b[0;32m----> <a href='vscode-notebook-cell:/Users/xfli/Documents/GitDev/Learning/python/My_Python/03-python-data-types/06-python-dicts.ipynb#X60sZmlsZQ%3D%3D?line=4'>5</a>\u001b[0m a[\u001b[39m\"\u001b[39;49m\u001b[39mthree\u001b[39;49m\u001b[39m\"\u001b[39;49m]\n",
      "\u001b[0;31mKeyError\u001b[0m: 'three'"
     ]
    }
   ],
   "source": [
    "a = {}\n",
    "a[\"one\"] = \"this is number 1\"\n",
    "a[\"two\"] = \"this is number 2\"\n",
    "#  查不存在的键,会报错\n",
    "a[\"three\"]"
   ]
  },
  {
   "cell_type": "markdown",
   "id": "2096437a",
   "metadata": {},
   "source": [
    "改用get方法："
   ]
  },
  {
   "cell_type": "code",
   "execution_count": null,
   "id": "69866db4",
   "metadata": {},
   "outputs": [
    {
     "name": "stdout",
     "output_type": "stream",
     "text": [
      "None\n"
     ]
    }
   ],
   "source": [
    "print(a.get(\"three\"))"
   ]
  },
  {
   "cell_type": "markdown",
   "id": "fe0ec0a6",
   "metadata": {},
   "source": [
    "### `pop` 方法"
   ]
  },
  {
   "cell_type": "markdown",
   "id": "2e932db0",
   "metadata": {},
   "source": [
    "`pop` 方法可以用来弹出字典中某个键对应的值，同时也可以指定默认参数：\n",
    "\n",
    "    `d.pop(key, default = None)`\n",
    "\n",
    "删除并返回字典中键 `key` 对应的值，如果没有这个键，返回 `default` 指定的值（默认是 `None` ）。"
   ]
  },
  {
   "cell_type": "code",
   "execution_count": null,
   "id": "fa0ebbef",
   "metadata": {},
   "outputs": [
    {
     "data": {
      "text/plain": [
       "{'one': 'this is number 1', 'two': 'this is number 2'}"
      ]
     },
     "metadata": {},
     "output_type": "display_data"
    }
   ],
   "source": [
    "a"
   ]
  },
  {
   "cell_type": "markdown",
   "id": "bb3a346f",
   "metadata": {},
   "source": [
    "弹出并返回值："
   ]
  },
  {
   "cell_type": "code",
   "execution_count": null,
   "id": "5725099b",
   "metadata": {
    "scrolled": true
   },
   "outputs": [
    {
     "data": {
      "text/plain": [
       "{'one': 'this is number 1'}"
      ]
     },
     "metadata": {},
     "output_type": "display_data"
    }
   ],
   "source": [
    "a.pop(\"two\")\n",
    "a"
   ]
  },
  {
   "cell_type": "code",
   "execution_count": null,
   "id": "7317b2af",
   "metadata": {},
   "outputs": [
    {
     "data": {
      "text/plain": [
       "{'one': 'this is number 1'}"
      ]
     },
     "metadata": {},
     "output_type": "display_data"
    }
   ],
   "source": [
    "a"
   ]
  },
  {
   "cell_type": "markdown",
   "id": "7ba1509b",
   "metadata": {},
   "source": [
    "弹出不存在的键值："
   ]
  },
  {
   "cell_type": "code",
   "execution_count": null,
   "id": "da88fb27",
   "metadata": {},
   "outputs": [
    {
     "data": {
      "text/plain": [
       "'not exist'"
      ]
     },
     "metadata": {},
     "output_type": "display_data"
    }
   ],
   "source": [
    "a.pop(\"two\", 'not exist')"
   ]
  },
  {
   "cell_type": "markdown",
   "id": "fd2f652c",
   "metadata": {},
   "source": [
    "### `update`方法"
   ]
  },
  {
   "cell_type": "markdown",
   "id": "05e5bb8c",
   "metadata": {},
   "source": [
    "之前已经知道，可以通过索引来插入、修改单个键值对，但是如果想对多个键值对进行操作，这种方法就显得比较麻烦，好在有 `update` 方法：\n",
    "\n",
    "    `d.update(newd)`\n",
    "\n",
    "将字典`newd`中的内容更新到`d`中去。"
   ]
  },
  {
   "cell_type": "code",
   "execution_count": null,
   "id": "28dbe0a8",
   "metadata": {},
   "outputs": [
    {
     "data": {
      "text/plain": [
       "{'first': 'Jmes', 'last': 'Maxwell', 'born': 1831}"
      ]
     },
     "metadata": {},
     "output_type": "display_data"
    }
   ],
   "source": [
    "person = {}\n",
    "person['first'] = \"Jmes\"\n",
    "person['last'] = \"Maxwell\"\n",
    "person['born'] = 1831\n",
    "person"
   ]
  },
  {
   "cell_type": "markdown",
   "id": "f77e81aa",
   "metadata": {},
   "source": [
    "把`first`的值改成`James`，同时插入`middle`的值`Clerk`："
   ]
  },
  {
   "cell_type": "code",
   "execution_count": null,
   "id": "78d225d9",
   "metadata": {},
   "outputs": [
    {
     "data": {
      "text/plain": [
       "{'first': 'James', 'last': 'Maxwell', 'born': 1831, 'middle': 'Clerk'}"
      ]
     },
     "metadata": {},
     "output_type": "display_data"
    }
   ],
   "source": [
    "person_modifications = {'first': 'James', 'middle': 'Clerk'}\n",
    "person.update(person_modifications)\n",
    "person"
   ]
  },
  {
   "cell_type": "markdown",
   "id": "f3dbcbf8",
   "metadata": {},
   "source": [
    "### `in`方法"
   ]
  },
  {
   "cell_type": "code",
   "execution_count": 47,
   "id": "cf953cdc",
   "metadata": {
    "collapsed": true
   },
   "outputs": [],
   "source": [
    "barn = {'cows': 1, 'dogs': 5, 'cats': 3}"
   ]
  },
  {
   "cell_type": "markdown",
   "id": "55927e6d",
   "metadata": {},
   "source": [
    "`in` 可以用来判断字典中是否有某个特定的键："
   ]
  },
  {
   "cell_type": "code",
   "execution_count": 48,
   "id": "ee0b38aa",
   "metadata": {},
   "outputs": [
    {
     "data": {
      "text/plain": [
       "False"
      ]
     },
     "execution_count": 48,
     "metadata": {},
     "output_type": "execute_result"
    }
   ],
   "source": [
    "'chickens' in barn"
   ]
  },
  {
   "cell_type": "code",
   "execution_count": 49,
   "id": "a8d4c2b1",
   "metadata": {},
   "outputs": [
    {
     "data": {
      "text/plain": [
       "True"
      ]
     },
     "execution_count": 49,
     "metadata": {},
     "output_type": "execute_result"
    }
   ],
   "source": [
    "'cows' in barn"
   ]
  },
  {
   "cell_type": "markdown",
   "id": "b3c5bbd5",
   "metadata": {},
   "source": [
    "### `keys` 方法"
   ]
  },
  {
   "cell_type": "markdown",
   "id": "bd7ca5f1",
   "metadata": {},
   "source": [
    "    `d.keys()` \n",
    "\n",
    "返回一个由所有键组成的列表；\n",
    "\n",
    "    `d.values()` \n",
    "\n",
    "返回一个由所有值组成的列表；\n",
    "\n",
    "    `d.items()` \n",
    "\n",
    "返回一个由所有键值对元组组成的列表；"
   ]
  }
 ],
 "metadata": {
  "kernelspec": {
   "display_name": "Python 3 (ipykernel)",
   "language": "python",
   "name": "python3"
  },
  "language_info": {
   "codemirror_mode": {
    "name": "ipython",
    "version": 3
   },
   "file_extension": ".py",
   "mimetype": "text/x-python",
   "name": "python",
   "nbconvert_exporter": "python",
   "pygments_lexer": "ipython3",
   "version": "3.9.12"
  },
  "toc": {
   "base_numbering": 1,
   "nav_menu": {},
   "number_sections": true,
   "sideBar": true,
   "skip_h1_title": true,
   "title_cell": "Table of Contents",
   "title_sidebar": "Contents",
   "toc_cell": false,
   "toc_position": {},
   "toc_section_display": true,
   "toc_window_display": true
  },
  "vscode": {
   "interpreter": {
    "hash": "7e1998ff7f8aa20ada591c520b972326324e5ea05489af9e422744c7c09f6dad"
   }
  }
 },
 "nbformat": 4,
 "nbformat_minor": 5
}
