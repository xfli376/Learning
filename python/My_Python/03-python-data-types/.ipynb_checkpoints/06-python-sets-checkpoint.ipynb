{
 "cells": [
  {
   "cell_type": "markdown",
   "id": "f8e7eed9",
   "metadata": {},
   "source": [
    "# 集合（Set）"
   ]
  },
  {
   "cell_type": "markdown",
   "id": "7b5900d3",
   "metadata": {},
   "source": [
    "数学中的集合同: 无序，不存在相同元素。"
   ]
  },
  {
   "cell_type": "markdown",
   "id": "b107ade1",
   "metadata": {},
   "source": [
    "## 集合生成"
   ]
  },
  {
   "cell_type": "code",
   "execution_count": 1,
   "id": "1a5ef8fa",
   "metadata": {},
   "outputs": [
    {
     "data": {
      "text/plain": [
       "set"
      ]
     },
     "execution_count": 1,
     "metadata": {},
     "output_type": "execute_result"
    }
   ],
   "source": [
    "s = set()\n",
    "type(s)"
   ]
  },
  {
   "cell_type": "code",
   "execution_count": 2,
   "id": "c1517296",
   "metadata": {},
   "outputs": [
    {
     "data": {
      "text/plain": [
       "{1, 2, 3}"
      ]
     },
     "execution_count": 2,
     "metadata": {},
     "output_type": "execute_result"
    }
   ],
   "source": [
    "a = set([1, 2, 3, 1])\n",
    "a"
   ]
  },
  {
   "cell_type": "markdown",
   "id": "ff8e2536",
   "metadata": {},
   "source": [
    "集合自动去除重复元素。"
   ]
  },
  {
   "cell_type": "code",
   "execution_count": null,
   "id": "2c9de0bb",
   "metadata": {},
   "outputs": [
    {
     "data": {
      "text/plain": [
       "{1, 2, 3}"
      ]
     },
     "metadata": {},
     "output_type": "display_data"
    }
   ],
   "source": [
    "a = {1, 2, 3, 1, 1 }\n",
    "a"
   ]
  },
  {
   "cell_type": "markdown",
   "id": "d5cf4da2",
   "metadata": {},
   "source": [
    "无序, 不能索引"
   ]
  },
  {
   "cell_type": "code",
   "execution_count": null,
   "id": "7a27728a",
   "metadata": {},
   "outputs": [
    {
     "ename": "TypeError",
     "evalue": "'set' object is not subscriptable",
     "output_type": "error",
     "traceback": [
      "\u001b[0;31m---------------------------------------------------------------------------\u001b[0m\n",
      "\u001b[0;31mTypeError\u001b[0m                                 Traceback (most recent call last)\n",
      "Cell \u001b[0;32mIn [36], line 2\u001b[0m\n",
      "\u001b[1;32m      1\u001b[0m a \u001b[38;5;241m=\u001b[39m {\u001b[38;5;241m1\u001b[39m, \u001b[38;5;241m2\u001b[39m, \u001b[38;5;241m3\u001b[39m}\n",
      "\u001b[0;32m----> 2\u001b[0m \u001b[43ma\u001b[49m\u001b[43m[\u001b[49m\u001b[38;5;241;43m1\u001b[39;49m\u001b[43m]\u001b[49m\n",
      "\n",
      "\u001b[0;31mTypeError\u001b[0m: 'set' object is not subscriptable"
     ]
    }
   ],
   "source": [
    "a = {1, 2, 3}\n",
    "a[1]"
   ]
  },
  {
   "cell_type": "code",
   "execution_count": null,
   "id": "60d54f0b",
   "metadata": {},
   "outputs": [
    {
     "name": "stdout",
     "output_type": "stream",
     "text": [
      "1\n",
      "2\n",
      "3\n"
     ]
    }
   ],
   "source": [
    "a = {1, 2, 3}\n",
    "for mb in a:\n",
    "    print(mb)"
   ]
  },
  {
   "cell_type": "markdown",
   "id": "8c9bdf55",
   "metadata": {},
   "source": [
    "## 集合操作"
   ]
  },
  {
   "cell_type": "markdown",
   "id": "83a95989",
   "metadata": {},
   "source": [
    "假设有这样两个集合："
   ]
  },
  {
   "cell_type": "code",
   "execution_count": null,
   "id": "5de550a8",
   "metadata": {
    "collapsed": true
   },
   "outputs": [],
   "source": [
    "a = {1, 2, 3, 4}\n",
    "b = {3, 4, 5, 6}"
   ]
  },
  {
   "cell_type": "markdown",
   "id": "a74c68cc",
   "metadata": {},
   "source": [
    "### 并"
   ]
  },
  {
   "cell_type": "markdown",
   "id": "2c234883",
   "metadata": {},
   "source": [
    "两个集合的并，返回包含两个集合所有元素的集合（去除重复）。\n",
    "\n",
    "可以用方法 `a.union(b)` 或者操作 `a | b` 实现。"
   ]
  },
  {
   "cell_type": "code",
   "execution_count": null,
   "id": "04bd3466",
   "metadata": {},
   "outputs": [
    {
     "data": {
      "text/plain": [
       "{1, 2, 3, 4, 5, 6}"
      ]
     },
     "metadata": {},
     "output_type": "display_data"
    }
   ],
   "source": [
    "a.union(b)"
   ]
  },
  {
   "cell_type": "code",
   "execution_count": null,
   "id": "ea630dab",
   "metadata": {},
   "outputs": [
    {
     "data": {
      "text/plain": [
       "{1, 2, 3, 4, 5, 6}"
      ]
     },
     "metadata": {},
     "output_type": "display_data"
    }
   ],
   "source": [
    "b.union(a)"
   ]
  },
  {
   "cell_type": "code",
   "execution_count": null,
   "id": "34d391a7",
   "metadata": {},
   "outputs": [
    {
     "name": "stdout",
     "output_type": "stream",
     "text": [
      "{1, 2, 3, 4}\n",
      "{3, 4, 5, 6}\n",
      "{1, 2, 3, 4, 5, 6}\n"
     ]
    }
   ],
   "source": [
    "print(a)\n",
    "print(b)\n",
    "print(a | b)"
   ]
  },
  {
   "cell_type": "markdown",
   "id": "2302765c",
   "metadata": {},
   "source": [
    "### 交"
   ]
  },
  {
   "cell_type": "markdown",
   "id": "bbc73c2c",
   "metadata": {},
   "source": [
    "两个集合的交，返回包含两个集合共有元素的集合。\n",
    "\n",
    "可以用方法 `a.intersection(b)` 或者操作 `a & b` 实现。"
   ]
  },
  {
   "cell_type": "code",
   "execution_count": null,
   "id": "bfa75f53",
   "metadata": {},
   "outputs": [
    {
     "data": {
      "text/plain": [
       "{3, 4}"
      ]
     },
     "metadata": {},
     "output_type": "display_data"
    }
   ],
   "source": [
    "a.intersection(b)"
   ]
  },
  {
   "cell_type": "code",
   "execution_count": null,
   "id": "32f4e12c",
   "metadata": {},
   "outputs": [
    {
     "data": {
      "text/plain": [
       "{3, 4}"
      ]
     },
     "metadata": {},
     "output_type": "display_data"
    }
   ],
   "source": [
    "b.intersection(a)"
   ]
  },
  {
   "cell_type": "code",
   "execution_count": null,
   "id": "e54eb94c",
   "metadata": {},
   "outputs": [
    {
     "data": {
      "text/plain": [
       "{3, 4}"
      ]
     },
     "metadata": {},
     "output_type": "display_data"
    }
   ],
   "source": [
    "a & b"
   ]
  },
  {
   "cell_type": "markdown",
   "id": "bc993561",
   "metadata": {},
   "source": [
    "### 差"
   ]
  },
  {
   "cell_type": "markdown",
   "id": "a27ef96a",
   "metadata": {},
   "source": [
    "`a` 和 `b` 的差集，返回只在 `a` 不在 `b` 的元素组成的集合。\n",
    "\n",
    "可以用方法 `a.difference(b)` 或者操作 `a - b` 实现。"
   ]
  },
  {
   "cell_type": "code",
   "execution_count": null,
   "id": "269cb634",
   "metadata": {},
   "outputs": [
    {
     "data": {
      "text/plain": [
       "{1, 2}"
      ]
     },
     "metadata": {},
     "output_type": "display_data"
    }
   ],
   "source": [
    "a.difference(b)"
   ]
  },
  {
   "cell_type": "code",
   "execution_count": null,
   "id": "9ea70711",
   "metadata": {},
   "outputs": [
    {
     "data": {
      "text/plain": [
       "{1, 2}"
      ]
     },
     "metadata": {},
     "output_type": "display_data"
    }
   ],
   "source": [
    "a - b"
   ]
  },
  {
   "cell_type": "markdown",
   "id": "99e69108",
   "metadata": {},
   "source": [
    "注意，`a - b` 与 `b - a`并不一样，`b - a` 返回的是返回 b 不在 a 的元素组成的集合："
   ]
  },
  {
   "cell_type": "code",
   "execution_count": null,
   "id": "c554c9bf",
   "metadata": {},
   "outputs": [
    {
     "data": {
      "text/plain": [
       "{5, 6}"
      ]
     },
     "metadata": {},
     "output_type": "display_data"
    }
   ],
   "source": [
    "b.difference(a)"
   ]
  },
  {
   "cell_type": "code",
   "execution_count": null,
   "id": "a5eb38a4",
   "metadata": {},
   "outputs": [
    {
     "data": {
      "text/plain": [
       "{5, 6}"
      ]
     },
     "metadata": {},
     "output_type": "display_data"
    }
   ],
   "source": [
    "b - a "
   ]
  },
  {
   "cell_type": "markdown",
   "id": "85208a45",
   "metadata": {},
   "source": [
    "### 对称差"
   ]
  },
  {
   "cell_type": "markdown",
   "id": "f1bcefed",
   "metadata": {},
   "source": [
    "`a` 和`b` 的对称差集，返回在 `a` 或在 `b` 中，但是不同时在 `a` 和 `b` 中的元素组成的集合。\n",
    "\n",
    "可以用方法 `a.symmetric_difference(b)` 或者操作 `a ^ b` 实现（异或操作符）。"
   ]
  },
  {
   "cell_type": "code",
   "execution_count": null,
   "id": "8690166f",
   "metadata": {},
   "outputs": [
    {
     "data": {
      "text/plain": [
       "{1, 2, 5, 6}"
      ]
     },
     "metadata": {},
     "output_type": "display_data"
    }
   ],
   "source": [
    "a.symmetric_difference(b)"
   ]
  },
  {
   "cell_type": "code",
   "execution_count": null,
   "id": "334789c7",
   "metadata": {},
   "outputs": [
    {
     "data": {
      "text/plain": [
       "{1, 2, 5, 6}"
      ]
     },
     "metadata": {},
     "output_type": "display_data"
    }
   ],
   "source": [
    "b.symmetric_difference(a)"
   ]
  },
  {
   "cell_type": "code",
   "execution_count": null,
   "id": "e77ad78a",
   "metadata": {},
   "outputs": [
    {
     "data": {
      "text/plain": [
       "{1, 2, 5, 6}"
      ]
     },
     "metadata": {},
     "output_type": "display_data"
    }
   ],
   "source": [
    "a ^ b"
   ]
  },
  {
   "cell_type": "markdown",
   "id": "3c973403",
   "metadata": {},
   "source": [
    "### 包含关系"
   ]
  },
  {
   "cell_type": "markdown",
   "id": "55519eee",
   "metadata": {},
   "source": [
    "假设现在有这样两个集合："
   ]
  },
  {
   "cell_type": "code",
   "execution_count": null,
   "id": "657f145f",
   "metadata": {
    "collapsed": true
   },
   "outputs": [],
   "source": [
    "a = {1, 2, 3}\n",
    "b = {1, 2}"
   ]
  },
  {
   "cell_type": "markdown",
   "id": "c9455414",
   "metadata": {},
   "source": [
    "要判断 `b` 是不是 `a` 的子集，可以用 `b.issubset(a)` 方法，或者更简单的用操作 `b <= a` ："
   ]
  },
  {
   "cell_type": "code",
   "execution_count": null,
   "id": "f9af7662",
   "metadata": {},
   "outputs": [
    {
     "data": {
      "text/plain": [
       "True"
      ]
     },
     "metadata": {},
     "output_type": "display_data"
    }
   ],
   "source": [
    "b.issubset(a)"
   ]
  },
  {
   "cell_type": "code",
   "execution_count": null,
   "id": "f5ba1bf3",
   "metadata": {},
   "outputs": [
    {
     "data": {
      "text/plain": [
       "True"
      ]
     },
     "metadata": {},
     "output_type": "display_data"
    }
   ],
   "source": [
    "b <= a"
   ]
  },
  {
   "cell_type": "markdown",
   "id": "ef90abb0",
   "metadata": {},
   "source": [
    "与之对应，也可以用 `a.issuperset(b)` 或者 `a >= b` 来判断："
   ]
  },
  {
   "cell_type": "code",
   "execution_count": null,
   "id": "ef80d755",
   "metadata": {},
   "outputs": [
    {
     "data": {
      "text/plain": [
       "True"
      ]
     },
     "metadata": {},
     "output_type": "display_data"
    }
   ],
   "source": [
    "a.issuperset(b)"
   ]
  },
  {
   "cell_type": "code",
   "execution_count": null,
   "id": "feeabb24",
   "metadata": {},
   "outputs": [
    {
     "data": {
      "text/plain": [
       "True"
      ]
     },
     "metadata": {},
     "output_type": "display_data"
    }
   ],
   "source": [
    "a >= b"
   ]
  },
  {
   "cell_type": "markdown",
   "id": "a93f11a7",
   "metadata": {},
   "source": [
    "方法只能用来测试子集，但是操作符可以用来判断真子集："
   ]
  },
  {
   "cell_type": "code",
   "execution_count": null,
   "id": "87f557bc",
   "metadata": {},
   "outputs": [
    {
     "data": {
      "text/plain": [
       "True"
      ]
     },
     "metadata": {},
     "output_type": "display_data"
    }
   ],
   "source": [
    "a <= a"
   ]
  },
  {
   "cell_type": "markdown",
   "id": "849d4aab",
   "metadata": {},
   "source": [
    "自己不是自己的真子集："
   ]
  },
  {
   "cell_type": "code",
   "execution_count": null,
   "id": "dcf41cf2",
   "metadata": {},
   "outputs": [
    {
     "data": {
      "text/plain": [
       "False"
      ]
     },
     "metadata": {},
     "output_type": "display_data"
    }
   ],
   "source": [
    "a < a"
   ]
  },
  {
   "cell_type": "markdown",
   "id": "78684ecc",
   "metadata": {},
   "source": [
    "## 集合方法"
   ]
  },
  {
   "cell_type": "markdown",
   "id": "e1484262",
   "metadata": {},
   "source": [
    "### `add` 方法"
   ]
  },
  {
   "cell_type": "markdown",
   "id": "bc2e743f",
   "metadata": {},
   "source": [
    "跟列表的 `append` 方法类似，用来向集合添加单个元素。\n",
    "\n",
    "    s.add(a)\n",
    "\n",
    "将元素 `a` 加入集合 `s` 中。"
   ]
  },
  {
   "cell_type": "code",
   "execution_count": null,
   "id": "25002454",
   "metadata": {},
   "outputs": [
    {
     "data": {
      "text/plain": [
       "{1, 2, 3, 5}"
      ]
     },
     "metadata": {},
     "output_type": "display_data"
    }
   ],
   "source": [
    "t = {1, 2, 3}\n",
    "t.add(5)\n",
    "t"
   ]
  },
  {
   "cell_type": "markdown",
   "id": "c6d822dc",
   "metadata": {},
   "source": [
    "如果添加的是已有元素，集合不改变："
   ]
  },
  {
   "cell_type": "code",
   "execution_count": null,
   "id": "55ab311b",
   "metadata": {},
   "outputs": [
    {
     "data": {
      "text/plain": [
       "{1, 2, 3, 5}"
      ]
     },
     "metadata": {},
     "output_type": "display_data"
    }
   ],
   "source": [
    "t.add(3)\n",
    "t"
   ]
  },
  {
   "cell_type": "markdown",
   "id": "79917a6d",
   "metadata": {},
   "source": [
    "### `update` 方法"
   ]
  },
  {
   "cell_type": "markdown",
   "id": "6dcf3a64",
   "metadata": {},
   "source": [
    "跟列表的`extend`方法类似，用来向集合添加多个元素。\n",
    "\n",
    "    s.update(seq)\n",
    "\n",
    "将`seq`中的元素添加到`s`中。"
   ]
  },
  {
   "cell_type": "code",
   "execution_count": null,
   "id": "01c86d56",
   "metadata": {},
   "outputs": [
    {
     "data": {
      "text/plain": [
       "{1, 2, 3, 5, 6, 7}"
      ]
     },
     "metadata": {},
     "output_type": "display_data"
    }
   ],
   "source": [
    "t.update([5, 6, 7])\n",
    "t"
   ]
  },
  {
   "cell_type": "markdown",
   "id": "e24be59f",
   "metadata": {},
   "source": [
    "### `remove` 方法"
   ]
  },
  {
   "cell_type": "markdown",
   "id": "486adc3b",
   "metadata": {},
   "source": [
    "    s.remove(ob)\n",
    "\n",
    "从集合`s`中移除元素`ob`，如果不存在会报错。"
   ]
  },
  {
   "cell_type": "code",
   "execution_count": null,
   "id": "5da62336",
   "metadata": {},
   "outputs": [
    {
     "data": {
      "text/plain": [
       "{2, 3, 5, 6, 7}"
      ]
     },
     "metadata": {},
     "output_type": "display_data"
    }
   ],
   "source": [
    "t.remove(1)\n",
    "t"
   ]
  },
  {
   "cell_type": "code",
   "execution_count": null,
   "id": "b31cc9c9",
   "metadata": {},
   "outputs": [
    {
     "ename": "KeyError",
     "evalue": "10",
     "output_type": "error",
     "traceback": [
      "\u001b[0;31m---------------------------------------------------------------------------\u001b[0m\n",
      "\u001b[0;31mKeyError\u001b[0m                                  Traceback (most recent call last)\n",
      "Cell \u001b[0;32mIn [41], line 1\u001b[0m\n",
      "\u001b[0;32m----> 1\u001b[0m \u001b[43mt\u001b[49m\u001b[38;5;241;43m.\u001b[39;49m\u001b[43mremove\u001b[49m\u001b[43m(\u001b[49m\u001b[38;5;241;43m10\u001b[39;49m\u001b[43m)\u001b[49m\n",
      "\n",
      "\u001b[0;31mKeyError\u001b[0m: 10"
     ]
    }
   ],
   "source": [
    "t.remove(10)"
   ]
  },
  {
   "cell_type": "markdown",
   "id": "315181c3",
   "metadata": {},
   "source": [
    "### pop方法"
   ]
  },
  {
   "cell_type": "markdown",
   "id": "d40f927c",
   "metadata": {},
   "source": [
    "由于集合没有顺序，不能像列表一样按照位置弹出元素，所以`pop` 方法删除并返回显示的第一个元素。"
   ]
  },
  {
   "cell_type": "code",
   "execution_count": null,
   "id": "1e3da55f",
   "metadata": {},
   "outputs": [
    {
     "data": {
      "text/plain": [
       "2"
      ]
     },
     "metadata": {},
     "output_type": "display_data"
    }
   ],
   "source": [
    "t.pop()"
   ]
  },
  {
   "cell_type": "code",
   "execution_count": null,
   "id": "2b28c0f8",
   "metadata": {},
   "outputs": [
    {
     "data": {
      "text/plain": [
       "{3, 5, 6, 7}"
      ]
     },
     "metadata": {},
     "output_type": "display_data"
    }
   ],
   "source": [
    "t"
   ]
  },
  {
   "cell_type": "code",
   "execution_count": null,
   "id": "ad10b22f",
   "metadata": {},
   "outputs": [
    {
     "data": {
      "text/plain": [
       "3"
      ]
     },
     "metadata": {},
     "output_type": "display_data"
    }
   ],
   "source": [
    "t.pop()"
   ]
  },
  {
   "cell_type": "markdown",
   "id": "64825862",
   "metadata": {},
   "source": [
    "删除空集元素会报错"
   ]
  },
  {
   "cell_type": "code",
   "execution_count": null,
   "id": "55806a20",
   "metadata": {},
   "outputs": [
    {
     "ename": "KeyError",
     "evalue": "'pop from an empty set'",
     "output_type": "error",
     "traceback": [
      "\u001b[0;31m---------------------------------------------------------------------------\u001b[0m\n",
      "\u001b[0;31mKeyError\u001b[0m                                  Traceback (most recent call last)\n",
      "Cell \u001b[0;32mIn [47], line 3\u001b[0m\n",
      "\u001b[1;32m      1\u001b[0m s \u001b[38;5;241m=\u001b[39m \u001b[38;5;28mset\u001b[39m()\n",
      "\u001b[1;32m      2\u001b[0m \u001b[38;5;66;03m# 报错\u001b[39;00m\n",
      "\u001b[0;32m----> 3\u001b[0m \u001b[43ms\u001b[49m\u001b[38;5;241;43m.\u001b[39;49m\u001b[43mpop\u001b[49m\u001b[43m(\u001b[49m\u001b[43m)\u001b[49m\n",
      "\n",
      "\u001b[0;31mKeyError\u001b[0m: 'pop from an empty set'"
     ]
    }
   ],
   "source": [
    "s = set()\n",
    "# 报错\n",
    "s.pop()"
   ]
  },
  {
   "cell_type": "markdown",
   "id": "d69c16f3",
   "metadata": {},
   "source": [
    "### discard 方法"
   ]
  },
  {
   "cell_type": "markdown",
   "id": "566cb530",
   "metadata": {},
   "source": [
    "作用与 `remove` 一样，但是当元素在集合中不存在的时候不会报错。"
   ]
  },
  {
   "cell_type": "code",
   "execution_count": null,
   "id": "fe606386",
   "metadata": {
    "collapsed": true
   },
   "outputs": [],
   "source": [
    "t.discard(3)"
   ]
  },
  {
   "cell_type": "code",
   "execution_count": null,
   "id": "d86f951c",
   "metadata": {},
   "outputs": [
    {
     "data": {
      "text/plain": [
       "{5, 6, 7}"
      ]
     },
     "metadata": {},
     "output_type": "display_data"
    }
   ],
   "source": [
    "t"
   ]
  },
  {
   "cell_type": "markdown",
   "id": "954d7af0",
   "metadata": {},
   "source": [
    "不存在的元素不会报错："
   ]
  },
  {
   "cell_type": "code",
   "execution_count": null,
   "id": "2850ef00",
   "metadata": {
    "collapsed": true
   },
   "outputs": [],
   "source": [
    "t.discard(20)"
   ]
  },
  {
   "cell_type": "code",
   "execution_count": null,
   "id": "8bf3cd7f",
   "metadata": {},
   "outputs": [
    {
     "data": {
      "text/plain": [
       "{5, 6, 7}"
      ]
     },
     "metadata": {},
     "output_type": "display_data"
    }
   ],
   "source": [
    "t"
   ]
  },
  {
   "cell_type": "markdown",
   "id": "c5c0e2f5",
   "metadata": {},
   "source": [
    "### difference_update方法"
   ]
  },
  {
   "cell_type": "markdown",
   "id": "20806a63",
   "metadata": {},
   "source": [
    "    a.difference_update(b)\n",
    "\n",
    "从a中去除所有属于b的元素："
   ]
  },
  {
   "cell_type": "code",
   "execution_count": 1,
   "id": "e3a9a2e7",
   "metadata": {},
   "outputs": [
    {
     "name": "stdout",
     "output_type": "stream",
     "text": [
      "{1, 2}\n"
     ]
    }
   ],
   "source": [
    "a = {1, 2, 3, 4}\n",
    "b = {3, 4, 5, 6}\n",
    "a.difference_update(b)\n",
    "print(a)"
   ]
  },
  {
   "cell_type": "markdown",
   "id": "f3c64664",
   "metadata": {},
   "source": [
    "## 不可变集合"
   ]
  },
  {
   "cell_type": "markdown",
   "id": "e29f9b11",
   "metadata": {},
   "source": [
    "### 生成"
   ]
  },
  {
   "cell_type": "code",
   "execution_count": 3,
   "id": "1b416ab8",
   "metadata": {},
   "outputs": [
    {
     "data": {
      "text/plain": [
       "frozenset({1, 2, 3, 'a'})"
      ]
     },
     "execution_count": 3,
     "metadata": {},
     "output_type": "execute_result"
    }
   ],
   "source": [
    "s = frozenset([1, 2, 3, 'a', 1])\n",
    "s"
   ]
  },
  {
   "cell_type": "markdown",
   "id": "185e2f90",
   "metadata": {},
   "source": [
    "### 特点"
   ]
  },
  {
   "cell_type": "markdown",
   "id": "0b256cfe",
   "metadata": {},
   "source": [
    "一旦创建就不可以改变, 这样可以用集合来做字典里的键.\n",
    "\n",
    "比如我们要建立一个两城市间距离的字典, 应以两城市名为键, 距离为键值."
   ]
  },
  {
   "cell_type": "code",
   "execution_count": 5,
   "id": "ebdc4483",
   "metadata": {},
   "outputs": [
    {
     "data": {
      "text/plain": [
       "{frozenset({'Los Angeles', 'New York'}): 2498,\n",
       " frozenset({'Austin', 'Los Angeles'}): 1233,\n",
       " frozenset({'Austin', 'New York'}): 1515}"
      ]
     },
     "execution_count": 5,
     "metadata": {},
     "output_type": "execute_result"
    }
   ],
   "source": [
    "flight_distance = dict() # 字典\n",
    "flight_distance[frozenset(['Los Angeles', 'New York'])] = 2498\n",
    "flight_distance[frozenset(['Austin', 'Los Angeles'])] = 1233\n",
    "flight_distance[frozenset(['Austin', 'New York'])] = 1515\n",
    "flight_distance"
   ]
  },
  {
   "cell_type": "markdown",
   "id": "d170d9f0",
   "metadata": {},
   "source": [
    "集合是无序, 下面两种查法都对"
   ]
  },
  {
   "cell_type": "code",
   "execution_count": 6,
   "id": "9ffd430c",
   "metadata": {},
   "outputs": [
    {
     "data": {
      "text/plain": [
       "1515"
      ]
     },
     "execution_count": 6,
     "metadata": {},
     "output_type": "execute_result"
    }
   ],
   "source": [
    "flight_distance[frozenset(['New York','Austin'])]"
   ]
  },
  {
   "cell_type": "code",
   "execution_count": 7,
   "id": "e41f063c",
   "metadata": {},
   "outputs": [
    {
     "data": {
      "text/plain": [
       "1515"
      ]
     },
     "execution_count": 7,
     "metadata": {},
     "output_type": "execute_result"
    }
   ],
   "source": [
    "flight_distance[frozenset(['Austin','New York'])]"
   ]
  },
  {
   "cell_type": "markdown",
   "id": "e6a69fe2",
   "metadata": {},
   "source": [
    "如果采用有序结构,再只能是不可变的数字,字符串和元组类型."
   ]
  },
  {
   "cell_type": "code",
   "execution_count": 10,
   "id": "232952aa",
   "metadata": {},
   "outputs": [],
   "source": [
    "ticket_price = dict() # 字典\n",
    "ticket_price[('New York', 'Seattle')] = 100\n",
    "ticket_price[('Austin', 'New York')] = 200\n",
    "ticket_price[('New York', 'Austin')] = 400"
   ]
  },
  {
   "cell_type": "markdown",
   "id": "763804b2",
   "metadata": {},
   "source": [
    " 对应的不能是距离而是两地的机票价格, 因为来回的机票是不同的记录"
   ]
  },
  {
   "cell_type": "code",
   "execution_count": 11,
   "id": "ca6e0cf4",
   "metadata": {},
   "outputs": [
    {
     "name": "stdout",
     "output_type": "stream",
     "text": [
      "200\n",
      "400\n"
     ]
    }
   ],
   "source": [
    "print(ticket_price[('Austin', 'New York')])\n",
    "print(ticket_price[('New York', 'Austin')])"
   ]
  }
 ],
 "metadata": {
  "kernelspec": {
   "display_name": "Python 3 (ipykernel)",
   "language": "python",
   "name": "python3"
  },
  "language_info": {
   "codemirror_mode": {
    "name": "ipython",
    "version": 3
   },
   "file_extension": ".py",
   "mimetype": "text/x-python",
   "name": "python",
   "nbconvert_exporter": "python",
   "pygments_lexer": "ipython3",
   "version": "3.9.12"
  },
  "toc": {
   "base_numbering": 1,
   "nav_menu": {},
   "number_sections": true,
   "sideBar": true,
   "skip_h1_title": true,
   "title_cell": "Table of Contents",
   "title_sidebar": "Contents",
   "toc_cell": false,
   "toc_position": {},
   "toc_section_display": true,
   "toc_window_display": true
  },
  "vscode": {
   "interpreter": {
    "hash": "7e1998ff7f8aa20ada591c520b972326324e5ea05489af9e422744c7c09f6dad"
   }
  }
 },
 "nbformat": 4,
 "nbformat_minor": 5
}
