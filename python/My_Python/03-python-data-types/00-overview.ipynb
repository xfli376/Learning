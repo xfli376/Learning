{
 "cells": [
  {
   "cell_type": "markdown",
   "id": "7f5e6279",
   "metadata": {},
   "source": [
    "# Python 数据类型"
   ]
  },
  {
   "cell_type": "markdown",
   "id": "1f789346",
   "metadata": {},
   "source": [
    "## 内置数据类型 "
   ]
  },
  {
   "cell_type": "markdown",
   "id": "18f153a5",
   "metadata": {},
   "source": [
    "| 类型| 例子|\n",
    "| -----  | ----- |\n",
    "| 整数 | `-100` |\n",
    "| 浮点数 | `3.1416` |\n",
    "| 布尔型 | `True, False`\n",
    "| 字符串 | `'hello'` |\n",
    "| 列表 | `[1, 1.2, 'hello']` |\n",
    "| 字典 | `{'dogs': 5, 'pigs': 3}`|\n",
    "| 元组 | `('ring', 1000)`\n",
    "| 集合 | `{1, 2, 3}`"
   ]
  },
  {
   "cell_type": "markdown",
   "id": "ae4e016e",
   "metadata": {},
   "source": [
    "## 扩展数据类型 "
   ]
  },
  {
   "cell_type": "markdown",
   "id": "7e4d499c",
   "metadata": {},
   "source": [
    "| 类型| 例子|\n",
    "| -------  | ----- |\n",
    "| Numpy数组 | `array([1, 2, 3])`\n",
    "| Pandas类型| `DataFrame, Series`\n",
    "| 自定义 | `Object Oriented Classes`"
   ]
  },
  {
   "cell_type": "markdown",
   "id": "f878f953",
   "metadata": {},
   "source": [
    "## 有序、索引与切片"
   ]
  },
  {
   "cell_type": "markdown",
   "id": "8fa7bdaf",
   "metadata": {},
   "source": [
    "有序序列是可以通过索引(下标)来访问对应位置值的序列。\n",
    "\n",
    "**Python**使用 `[]` 来使用下标并进行切片"
   ]
  },
  {
   "cell_type": "markdown",
   "id": "e2020e37",
   "metadata": {},
   "source": [
    "整数,浮点数,布尔型:  是值不是序列"
   ]
  },
  {
   "cell_type": "code",
   "execution_count": 16,
   "id": "1a64c6a4",
   "metadata": {},
   "outputs": [],
   "source": [
    "i = 10\n",
    "f = 10.001\n",
    "y_or_n = True"
   ]
  },
  {
   "cell_type": "markdown",
   "id": "1aec37be",
   "metadata": {},
   "source": [
    "字符串: 有序"
   ]
  },
  {
   "cell_type": "code",
   "execution_count": 15,
   "id": "ee0ed8bc",
   "metadata": {},
   "outputs": [
    {
     "name": "stdout",
     "output_type": "stream",
     "text": [
      "H\n",
      "llo w\n",
      "Hello\n",
      "rld !\n"
     ]
    }
   ],
   "source": [
    "s = 'Hello world !'\n",
    "print(s[0])\n",
    "print(s[2:7])\n",
    "print(s[:5])\n",
    "print(s[-5:])"
   ]
  },
  {
   "cell_type": "code",
   "execution_count": 53,
   "id": "a5f5bea5",
   "metadata": {},
   "outputs": [
    {
     "data": {
      "text/plain": [
       "'Hlowrd!'"
      ]
     },
     "execution_count": 53,
     "metadata": {},
     "output_type": "execute_result"
    }
   ],
   "source": [
    "s[::2]"
   ]
  },
  {
   "cell_type": "markdown",
   "id": "70da5379",
   "metadata": {},
   "source": [
    "列表: 有序"
   ]
  },
  {
   "cell_type": "code",
   "execution_count": 14,
   "id": "9c5f034d",
   "metadata": {},
   "outputs": [
    {
     "name": "stdout",
     "output_type": "stream",
     "text": [
      "Hello\n",
      "10\n",
      "['Hello', ' ', 'world']\n"
     ]
    }
   ],
   "source": [
    "l = ['Hello', ' ', 'world', '!', 10 ]\n",
    "print(l[0])\n",
    "print(l[-1])\n",
    "print(l[:3])"
   ]
  },
  {
   "cell_type": "markdown",
   "id": "e3e956cc",
   "metadata": {},
   "source": [
    "字典: 无序\n",
    "\n",
    "但可以用`key`进行查字典"
   ]
  },
  {
   "cell_type": "code",
   "execution_count": 52,
   "id": "ff7884bf",
   "metadata": {},
   "outputs": [
    {
     "name": "stdout",
     "output_type": "stream",
     "text": [
      "[5, 2, 1]\n"
     ]
    }
   ],
   "source": [
    "pet_num = {'pigs': [3,5,8], 'dogs': [5,2,1] }\n",
    "# print(pet_num[0])\n",
    "# KeyError: 0\n",
    "\n",
    "print(pet_num['dogs'])"
   ]
  },
  {
   "cell_type": "code",
   "execution_count": 48,
   "id": "09556323",
   "metadata": {},
   "outputs": [
    {
     "data": {
      "text/plain": [
       "['dogs', 'pigs']"
      ]
     },
     "execution_count": 48,
     "metadata": {},
     "output_type": "execute_result"
    }
   ],
   "source": [
    "sorted(pet_num.keys())"
   ]
  },
  {
   "cell_type": "markdown",
   "id": "94f81d25",
   "metadata": {},
   "source": [
    "元组: 有序"
   ]
  },
  {
   "cell_type": "code",
   "execution_count": 56,
   "id": "0b441145",
   "metadata": {},
   "outputs": [
    {
     "name": "stdout",
     "output_type": "stream",
     "text": [
      "张三\n",
      "('张三', '男', 18)\n"
     ]
    }
   ],
   "source": [
    "t = ('张三', '男', 18, True, '成都', 80, 90, 80, 90, 95)\n",
    "print(t[0])\n",
    "print(t[:3])"
   ]
  },
  {
   "cell_type": "markdown",
   "id": "bcfb1820",
   "metadata": {},
   "source": [
    "集合: 无序"
   ]
  },
  {
   "cell_type": "code",
   "execution_count": 57,
   "id": "2667d6df",
   "metadata": {},
   "outputs": [],
   "source": [
    "num_set = {5, 1, 2, 3, 4, 5, 4}\n",
    "# print(num_set[0])\n",
    "# TypeError: 'set' object is not subscriptable"
   ]
  },
  {
   "cell_type": "markdown",
   "id": "149b6201",
   "metadata": {},
   "source": [
    "## 可变与不可变类型"
   ]
  },
  {
   "cell_type": "markdown",
   "id": "e859555d",
   "metadata": {},
   "source": [
    "可变与不可变是指变量的值是否可修改"
   ]
  },
  {
   "cell_type": "markdown",
   "id": "749ad033",
   "metadata": {},
   "source": [
    "- 整数, 浮点数, 布尔型: 可变"
   ]
  },
  {
   "cell_type": "code",
   "execution_count": 59,
   "id": "d084bdf7",
   "metadata": {},
   "outputs": [],
   "source": [
    "i = 10\n",
    "f = 10.001\n",
    "y_or_n = True\n",
    "\n",
    "i = 101\n",
    "f = 10.0011\n",
    "y_or_n = False"
   ]
  },
  {
   "cell_type": "markdown",
   "id": "252ee4ba",
   "metadata": {},
   "source": [
    "- 字符串: 不可变"
   ]
  },
  {
   "cell_type": "code",
   "execution_count": 2,
   "id": "c4e9298f",
   "metadata": {},
   "outputs": [
    {
     "ename": "TypeError",
     "evalue": "'str' object does not support item assignment",
     "output_type": "error",
     "traceback": [
      "\u001b[0;31m---------------------------------------------------------------------------\u001b[0m",
      "\u001b[0;31mTypeError\u001b[0m                                 Traceback (most recent call last)",
      "Cell \u001b[0;32mIn [2], line 2\u001b[0m\n\u001b[1;32m      1\u001b[0m s \u001b[38;5;241m=\u001b[39m \u001b[38;5;124m'\u001b[39m\u001b[38;5;124mHello world !\u001b[39m\u001b[38;5;124m'\u001b[39m\n\u001b[0;32m----> 2\u001b[0m \u001b[43ms\u001b[49m\u001b[43m[\u001b[49m\u001b[38;5;241;43m0\u001b[39;49m\u001b[43m]\u001b[49m \u001b[38;5;241m=\u001b[39m \u001b[38;5;124m\"\u001b[39m\u001b[38;5;124mh\u001b[39m\u001b[38;5;124m\"\u001b[39m\n",
      "\u001b[0;31mTypeError\u001b[0m: 'str' object does not support item assignment"
     ]
    }
   ],
   "source": [
    "s = 'Hello world !'\n",
    "s[0] = \"h\""
   ]
  },
  {
   "cell_type": "markdown",
   "id": "03fd7265",
   "metadata": {},
   "source": [
    "替代时, 得到一个新的串, 原来的串并没有被改变"
   ]
  },
  {
   "cell_type": "code",
   "execution_count": 3,
   "id": "9f24c6cf",
   "metadata": {},
   "outputs": [
    {
     "data": {
      "text/plain": [
       "'hello world !'"
      ]
     },
     "execution_count": 3,
     "metadata": {},
     "output_type": "execute_result"
    }
   ],
   "source": [
    "s.replace(\"H\",\"h\")"
   ]
  },
  {
   "cell_type": "code",
   "execution_count": 4,
   "id": "d8751488",
   "metadata": {},
   "outputs": [
    {
     "data": {
      "text/plain": [
       "'Hello world !'"
      ]
     },
     "execution_count": 4,
     "metadata": {},
     "output_type": "execute_result"
    }
   ],
   "source": [
    "s"
   ]
  },
  {
   "cell_type": "markdown",
   "id": "85067ff0",
   "metadata": {},
   "source": [
    "- 列表: 可变"
   ]
  },
  {
   "cell_type": "code",
   "execution_count": 5,
   "id": "5ae51b87",
   "metadata": {},
   "outputs": [
    {
     "data": {
      "text/plain": [
       "['Hello', ' ', 'Python', '!', 10]"
      ]
     },
     "execution_count": 5,
     "metadata": {},
     "output_type": "execute_result"
    }
   ],
   "source": [
    "l = ['Hello', ' ', 'world', '!', 10 ]\n",
    "l[2] = 'Python'\n",
    "l"
   ]
  },
  {
   "cell_type": "markdown",
   "id": "82aeda3b",
   "metadata": {},
   "source": [
    "- 字典: 可变\n",
    "\n",
    "但可以用`key`进行查字典"
   ]
  },
  {
   "cell_type": "code",
   "execution_count": 65,
   "id": "04f3626e",
   "metadata": {},
   "outputs": [
    {
     "name": "stdout",
     "output_type": "stream",
     "text": [
      "{'pigs': [3, 5, 8], 'dogs': [5, 5, 5]}\n"
     ]
    }
   ],
   "source": [
    "pet_num = {'pigs': [3,5,8], 'dogs': [5,2,1] }\n",
    "# print(pet_num[0])\n",
    "# KeyError: 0\n",
    "\n",
    "pet_num['dogs'] = [5,5,5]\n",
    "\n",
    "print(pet_num)"
   ]
  },
  {
   "cell_type": "markdown",
   "id": "058671f0",
   "metadata": {},
   "source": [
    "- 元组: 不可变"
   ]
  },
  {
   "cell_type": "code",
   "execution_count": 6,
   "id": "ebb1ef81",
   "metadata": {},
   "outputs": [
    {
     "ename": "TypeError",
     "evalue": "'tuple' object does not support item assignment",
     "output_type": "error",
     "traceback": [
      "\u001b[0;31m---------------------------------------------------------------------------\u001b[0m",
      "\u001b[0;31mTypeError\u001b[0m                                 Traceback (most recent call last)",
      "Cell \u001b[0;32mIn [6], line 2\u001b[0m\n\u001b[1;32m      1\u001b[0m t \u001b[38;5;241m=\u001b[39m (\u001b[38;5;124m'\u001b[39m\u001b[38;5;124m张三\u001b[39m\u001b[38;5;124m'\u001b[39m, \u001b[38;5;124m'\u001b[39m\u001b[38;5;124m男\u001b[39m\u001b[38;5;124m'\u001b[39m, \u001b[38;5;241m18\u001b[39m, \u001b[38;5;28;01mTrue\u001b[39;00m, \u001b[38;5;124m'\u001b[39m\u001b[38;5;124m成都\u001b[39m\u001b[38;5;124m'\u001b[39m, \u001b[38;5;241m80\u001b[39m, \u001b[38;5;241m90\u001b[39m, \u001b[38;5;241m80\u001b[39m, \u001b[38;5;241m90\u001b[39m, \u001b[38;5;241m95\u001b[39m)\n\u001b[0;32m----> 2\u001b[0m \u001b[43mt\u001b[49m\u001b[43m[\u001b[49m\u001b[38;5;241;43m0\u001b[39;49m\u001b[43m]\u001b[49m \u001b[38;5;241m=\u001b[39m \u001b[38;5;124m'\u001b[39m\u001b[38;5;124m李四\u001b[39m\u001b[38;5;124m'\u001b[39m\n",
      "\u001b[0;31mTypeError\u001b[0m: 'tuple' object does not support item assignment"
     ]
    }
   ],
   "source": [
    "t = ('张三', '男', 18, True, '成都', 80, 90, 80, 90, 95)\n",
    "t[0] = '李四'"
   ]
  },
  {
   "cell_type": "markdown",
   "id": "4281d0dd",
   "metadata": {},
   "source": [
    "- 集合: 可变"
   ]
  },
  {
   "cell_type": "code",
   "execution_count": 75,
   "id": "74f20f51",
   "metadata": {},
   "outputs": [
    {
     "name": "stdout",
     "output_type": "stream",
     "text": [
      "{'o', 'H', 'e', 'l'}\n",
      "{'H', 'o', 'two', 'e', 'l'}\n",
      "{'H', 'o', 'e', 'l'}\n",
      "{'H', 'w', 'o', 't', 'e', 'l'}\n",
      "{'w', 'o', 't', 'e', 'l'}\n"
     ]
    }
   ],
   "source": [
    "c_set = set('Hello')\n",
    "# print(num_set[0])\n",
    "# TypeError: 'set' object is not subscriptable\n",
    "print(c_set)\n",
    "c_set.add('two')\n",
    "print(c_set)\n",
    "c_set.remove('two')\n",
    "print(c_set)\n",
    "c_set.update('two')\n",
    "print(c_set)\n",
    "c_set.pop()\n",
    "print(c_set)"
   ]
  },
  {
   "cell_type": "markdown",
   "id": "dc67443b",
   "metadata": {},
   "source": [
    "## 类型转换"
   ]
  },
  {
   "cell_type": "markdown",
   "id": "a0f7ebb1",
   "metadata": {},
   "source": [
    "计算机把所有的键盘输入, 都看成是字符串, 如果要输入别的类型, 则要进行数据类型转换"
   ]
  },
  {
   "cell_type": "code",
   "execution_count": 90,
   "id": "7a67ae5b",
   "metadata": {},
   "outputs": [
    {
     "name": "stdout",
     "output_type": "stream",
     "text": [
      "你的年龄是18, 收入是789.00\n"
     ]
    }
   ],
   "source": [
    "age = int(18.5)\n",
    "income = float(789)\n",
    "print('你的年龄是%s, 收入是%3.2f' %(age,income))"
   ]
  },
  {
   "cell_type": "markdown",
   "id": "2835f49d",
   "metadata": {},
   "source": [
    "常用类型转换函数\n",
    "\n",
    "| 函数| 功能 | \n",
    "| -----  | ----- | \n",
    "| int(x [,base])| 返回整数\n",
    "|float(x)| 返回浮点数\n",
    "|list(x) | 返回列表\n",
    "|str(x)  | 返回字符串\n",
    "|eval(x) | 返回字符串中的Python表达式\n",
    "|tuple(x)| 返回元组\n",
    "|set(x)  | 返回集合\n",
    "|complex(real [,imag])  | 返回复数\n",
    "|array(x)| 返回数组\n",
    "|repr(x) | 把Python表达式转换成字符串\n",
    "|chr(x)  | 把整数转换为一个Unicode字符\n",
    "|ord(x)\t |返回字母的十进制数编码\n",
    "|hex(x)  | 返回字母的十六进制数编码\n",
    "|oct(x)  | 返回字母的八进制数编码\n"
   ]
  },
  {
   "cell_type": "markdown",
   "id": "a74d8d62",
   "metadata": {},
   "source": [
    "查看变量类型：`type()`"
   ]
  },
  {
   "cell_type": "markdown",
   "id": "1a54a64f",
   "metadata": {},
   "source": [
    "## 小结\n",
    "\n",
    "| 类型| 有序 | 可变 | \n",
    "| -----  | ----- | ----- |\n",
    "| 整数 | NaN | True |\n",
    "| 浮点数 | NaN | True |\n",
    "| 布尔型 | NaN | True |\n",
    "| 字符串 | True | False |\n",
    "| 列表 | True |True |\n",
    "| 字典 | False|True |\n",
    "| 元组 | True | False |\n",
    "| 集合 | False |True |"
   ]
  }
 ],
 "metadata": {
  "kernelspec": {
   "display_name": "Python 3 (ipykernel)",
   "language": "python",
   "name": "python3"
  },
  "language_info": {
   "codemirror_mode": {
    "name": "ipython",
    "version": 3
   },
   "file_extension": ".py",
   "mimetype": "text/x-python",
   "name": "python",
   "nbconvert_exporter": "python",
   "pygments_lexer": "ipython3",
   "version": "3.10.3"
  },
  "toc": {
   "base_numbering": 1,
   "nav_menu": {},
   "number_sections": true,
   "sideBar": true,
   "skip_h1_title": true,
   "title_cell": "Table of Contents",
   "title_sidebar": "Contents",
   "toc_cell": false,
   "toc_position": {},
   "toc_section_display": true,
   "toc_window_display": true
  },
  "vscode": {
   "interpreter": {
    "hash": "7e1998ff7f8aa20ada591c520b972326324e5ea05489af9e422744c7c09f6dad"
   }
  }
 },
 "nbformat": 4,
 "nbformat_minor": 5
}
