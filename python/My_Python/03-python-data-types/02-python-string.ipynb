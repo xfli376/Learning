{
 "cells": [
  {
   "cell_type": "markdown",
   "id": "456e6a7e",
   "metadata": {},
   "source": [
    "# 字符串 (Str)"
   ]
  },
  {
   "cell_type": "markdown",
   "id": "a4f599d4",
   "metadata": {},
   "source": [
    "## 生成字符串"
   ]
  },
  {
   "cell_type": "code",
   "execution_count": null,
   "id": "b3540dbb",
   "metadata": {},
   "outputs": [
    {
     "data": {
      "text/plain": [
       "'hello, world'"
      ]
     },
     "metadata": {},
     "output_type": "display_data"
    }
   ],
   "source": [
    "s = \"hello, world\"\n",
    "s"
   ]
  },
  {
   "cell_type": "code",
   "execution_count": null,
   "id": "0a37a756",
   "metadata": {},
   "outputs": [
    {
     "data": {
      "text/plain": [
       "'hello world'"
      ]
     },
     "metadata": {},
     "output_type": "display_data"
    }
   ],
   "source": [
    "s = 'hello world'\n",
    "s"
   ]
  },
  {
   "cell_type": "code",
   "execution_count": 6,
   "id": "3d69df01",
   "metadata": {},
   "outputs": [
    {
     "data": {
      "text/plain": [
       "'This is an example \\n of a multiline string'"
      ]
     },
     "execution_count": 6,
     "metadata": {},
     "output_type": "execute_result"
    }
   ],
   "source": [
    "m_s = '''This is an example \n",
    " of a multiline string'''\n",
    "m_s"
   ]
  },
  {
   "cell_type": "code",
   "execution_count": 8,
   "id": "182e58fe",
   "metadata": {},
   "outputs": [
    {
     "data": {
      "text/plain": [
       "'This is an exampleof a multiline stringcreated by using ( )'"
      ]
     },
     "execution_count": 8,
     "metadata": {},
     "output_type": "execute_result"
    }
   ],
   "source": [
    "a = (\"This is an example\" \n",
    " \"of a multiline string\"\n",
    " \"created by using ( )\" )\n",
    "a"
   ]
  },
  {
   "cell_type": "code",
   "execution_count": 18,
   "id": "8dbf3439",
   "metadata": {},
   "outputs": [
    {
     "data": {
      "text/plain": [
       "'This is an example of a multiline string created by using \\\\'"
      ]
     },
     "execution_count": 18,
     "metadata": {},
     "output_type": "execute_result"
    }
   ],
   "source": [
    "a = \"This is an example \" \\\n",
    "    \"of a multiline string \" \\\n",
    "    \"created by using \\\\\"\n",
    "a"
   ]
  },
  {
   "cell_type": "markdown",
   "id": "01b05f3c",
   "metadata": {},
   "source": [
    "## 简单操作"
   ]
  },
  {
   "cell_type": "markdown",
   "id": "a37d8d41",
   "metadata": {},
   "source": [
    "拼接："
   ]
  },
  {
   "cell_type": "code",
   "execution_count": null,
   "id": "ab0b002a",
   "metadata": {},
   "outputs": [
    {
     "data": {
      "text/plain": [
       "'hello world'"
      ]
     },
     "metadata": {},
     "output_type": "display_data"
    }
   ],
   "source": [
    "s = 'hello ' + 'world'\n",
    "s"
   ]
  },
  {
   "cell_type": "markdown",
   "id": "f3ddb358",
   "metadata": {},
   "source": [
    "字符串重复："
   ]
  },
  {
   "cell_type": "code",
   "execution_count": null,
   "id": "b5a885f8",
   "metadata": {},
   "outputs": [
    {
     "data": {
      "text/plain": [
       "'echoechoecho'"
      ]
     },
     "metadata": {},
     "output_type": "display_data"
    }
   ],
   "source": [
    "\"echo\" * 3"
   ]
  },
  {
   "cell_type": "markdown",
   "id": "0da22d27",
   "metadata": {},
   "source": [
    "字符串长度："
   ]
  },
  {
   "cell_type": "code",
   "execution_count": null,
   "id": "9a845627",
   "metadata": {},
   "outputs": [
    {
     "data": {
      "text/plain": [
       "11"
      ]
     },
     "metadata": {},
     "output_type": "display_data"
    }
   ],
   "source": [
    "len(s)"
   ]
  },
  {
   "cell_type": "markdown",
   "id": "5cc1e8b0",
   "metadata": {},
   "source": [
    "## 字符串的函数方法"
   ]
  },
  {
   "cell_type": "markdown",
   "id": "61f2f382",
   "metadata": {},
   "source": [
    "### 分割 "
   ]
  },
  {
   "cell_type": "markdown",
   "id": "9cec2380",
   "metadata": {},
   "source": [
    "按空白分割:"
   ]
  },
  {
   "cell_type": "code",
   "execution_count": 11,
   "id": "666fe4e0",
   "metadata": {},
   "outputs": [
    {
     "data": {
      "text/plain": [
       "['1', '2', '3', '4', '5']"
      ]
     },
     "execution_count": 11,
     "metadata": {},
     "output_type": "execute_result"
    }
   ],
   "source": [
    "s = \"1 2 3 4 5\"\n",
    "s.split()\n"
   ]
  },
  {
   "cell_type": "code",
   "execution_count": 9,
   "id": "ea3e5541",
   "metadata": {},
   "outputs": [
    {
     "data": {
      "text/plain": [
       "4"
      ]
     },
     "execution_count": 9,
     "metadata": {},
     "output_type": "execute_result"
    }
   ],
   "source": [
    "s = \"This is a string\"\n",
    "len(s.split())"
   ]
  },
  {
   "cell_type": "markdown",
   "id": "cab58383",
   "metadata": {},
   "source": [
    "按指定的某个分隔符分割:"
   ]
  },
  {
   "cell_type": "code",
   "execution_count": 10,
   "id": "6d02f16f",
   "metadata": {},
   "outputs": [
    {
     "data": {
      "text/plain": [
       "['1', '2', '3', '4', '5']"
      ]
     },
     "execution_count": 10,
     "metadata": {},
     "output_type": "execute_result"
    }
   ],
   "source": [
    "s = \"1,2,3,4,5\"\n",
    "s.split(',')"
   ]
  },
  {
   "cell_type": "markdown",
   "id": "b79303d5",
   "metadata": {},
   "source": [
    "多种分隔符:\n",
    "\n",
    "使用正则表达式库`re`里的`split`"
   ]
  },
  {
   "cell_type": "code",
   "execution_count": 19,
   "id": "033d51a0",
   "metadata": {},
   "outputs": [
    {
     "data": {
      "text/plain": [
       "['1', '2', '3', '5', '6']"
      ]
     },
     "execution_count": 19,
     "metadata": {},
     "output_type": "execute_result"
    }
   ],
   "source": [
    "import re\n",
    "\n",
    "s = \"1+2-3*5/6\"\n",
    "re.split('[+\\-*/]', s) # 按照+-*/的任意一个进行分割"
   ]
  },
  {
   "cell_type": "code",
   "execution_count": 20,
   "id": "d7365473",
   "metadata": {},
   "outputs": [
    {
     "data": {
      "text/plain": [
       "['1', '+', '2', '-', '3', '*', '5', '/', '6']"
      ]
     },
     "execution_count": 20,
     "metadata": {},
     "output_type": "execute_result"
    }
   ],
   "source": [
    "re.split('([+\\-*/])', s) # 同时保留分割符"
   ]
  },
  {
   "cell_type": "markdown",
   "id": "680055e0",
   "metadata": {},
   "source": [
    "### 连接"
   ]
  },
  {
   "cell_type": "markdown",
   "id": "22ba955c",
   "metadata": {},
   "source": [
    "与分割相反，`s.join(str_sequence)`的作用是以s为连接符将分割出来的字符串序列（列表）`str_sequence`中的元素连接起来，并返回连接后得到新的字符串："
   ]
  },
  {
   "cell_type": "code",
   "execution_count": 24,
   "id": "cb466b80",
   "metadata": {},
   "outputs": [
    {
     "data": {
      "text/plain": [
       "'1+2+3+4+5'"
      ]
     },
     "execution_count": 24,
     "metadata": {},
     "output_type": "execute_result"
    }
   ],
   "source": [
    "before_s = \"1,2,3,4,5\"\n",
    "tmp = before_s.split(',')\n",
    "current_express = '+'\n",
    "current_express.join(tmp)"
   ]
  },
  {
   "cell_type": "code",
   "execution_count": 28,
   "id": "58cb70e9",
   "metadata": {},
   "outputs": [
    {
     "data": {
      "text/plain": [
       "'1+2-3*5/6'"
      ]
     },
     "execution_count": 28,
     "metadata": {},
     "output_type": "execute_result"
    }
   ],
   "source": [
    "s = \"1+2-3*5/6\"\n",
    "tmp = re.split('([+\\-*/])', s)\n",
    "current_express = ''\n",
    "current_express.join(tmp)"
   ]
  },
  {
   "cell_type": "markdown",
   "id": "b947c5a9",
   "metadata": {},
   "source": [
    "### 替换"
   ]
  },
  {
   "cell_type": "markdown",
   "id": "8ae1c2ea",
   "metadata": {},
   "source": [
    "`replace(part1, part2)`将字符串s中指定的部分part1替换成想要的部分part2"
   ]
  },
  {
   "cell_type": "code",
   "execution_count": 29,
   "id": "e1fde482",
   "metadata": {},
   "outputs": [
    {
     "name": "stdout",
     "output_type": "stream",
     "text": [
      "hello python\n",
      "hello world\n"
     ]
    }
   ],
   "source": [
    "s = \"hello world\"\n",
    "s_rep = s.replace('world', 'python')\n",
    "print(s_rep)\n",
    "print(s)"
   ]
  },
  {
   "cell_type": "markdown",
   "id": "87a741b5",
   "metadata": {},
   "source": [
    "`s`不变，是因为`str`为不可变数据类型!"
   ]
  },
  {
   "cell_type": "markdown",
   "id": "0d67e2d6",
   "metadata": {},
   "source": [
    "### 大小写转换"
   ]
  },
  {
   "cell_type": "code",
   "execution_count": 31,
   "id": "f1af869b",
   "metadata": {},
   "outputs": [
    {
     "name": "stdout",
     "output_type": "stream",
     "text": [
      "HELLO WORLD\n"
     ]
    },
    {
     "data": {
      "text/plain": [
       "'hello world'"
      ]
     },
     "execution_count": 31,
     "metadata": {},
     "output_type": "execute_result"
    }
   ],
   "source": [
    "s = \"hello world\"\n",
    "tmp = s.upper()\n",
    "print(tmp)\n",
    "tmp.lower()"
   ]
  },
  {
   "cell_type": "code",
   "execution_count": 34,
   "id": "e4aa3cc0",
   "metadata": {},
   "outputs": [
    {
     "name": "stdout",
     "output_type": "stream",
     "text": [
      "Hello world\n",
      "Hello world\n"
     ]
    }
   ],
   "source": [
    "print(s.capitalize())\n",
    "print(tmp.capitalize())"
   ]
  },
  {
   "cell_type": "code",
   "execution_count": 35,
   "id": "dda226a1",
   "metadata": {},
   "outputs": [
    {
     "name": "stdout",
     "output_type": "stream",
     "text": [
      "Hello World\n",
      "Hello World\n"
     ]
    }
   ],
   "source": [
    "print(s.title())\n",
    "print(tmp.title())"
   ]
  },
  {
   "cell_type": "markdown",
   "id": "0ac6fd00",
   "metadata": {},
   "source": [
    "### 去除两端空格"
   ]
  },
  {
   "cell_type": "markdown",
   "id": "f6e6bdae",
   "metadata": {},
   "source": [
    "`s.strip()` 去除两端的多余空格\n",
    "\n",
    "`s.lstrip(`)去除左端的多余空格\n",
    "\n",
    "`s.rstrip()`去除右端的多余空格"
   ]
  },
  {
   "cell_type": "code",
   "execution_count": 2,
   "id": "dca0dbd1",
   "metadata": {},
   "outputs": [
    {
     "data": {
      "text/plain": [
       "'hello world'"
      ]
     },
     "execution_count": 2,
     "metadata": {},
     "output_type": "execute_result"
    }
   ],
   "source": [
    "s = \"  hello world   \"\n",
    "s.strip()"
   ]
  },
  {
   "cell_type": "markdown",
   "id": "05189a23",
   "metadata": {},
   "source": [
    "### 查找子串"
   ]
  },
  {
   "cell_type": "code",
   "execution_count": 4,
   "id": "f88a8174",
   "metadata": {},
   "outputs": [
    {
     "data": {
      "text/plain": [
       "6"
      ]
     },
     "execution_count": 4,
     "metadata": {},
     "output_type": "execute_result"
    }
   ],
   "source": [
    "s = \"Hello world, this is a script for find world\"\n",
    "s.find(\"world\")"
   ]
  },
  {
   "cell_type": "markdown",
   "id": "6ef5a5df",
   "metadata": {},
   "source": [
    "返回所有的位置"
   ]
  },
  {
   "cell_type": "code",
   "execution_count": 7,
   "id": "e2ad119f",
   "metadata": {},
   "outputs": [
    {
     "data": {
      "text/plain": [
       "[6, 39]"
      ]
     },
     "execution_count": 7,
     "metadata": {},
     "output_type": "execute_result"
    }
   ],
   "source": [
    "import re\n",
    "index_x = [x.start() for x in re.finditer(\"world\",s)]\n",
    "index_x"
   ]
  },
  {
   "cell_type": "markdown",
   "id": "99a3286d",
   "metadata": {},
   "source": [
    "## 其他"
   ]
  },
  {
   "cell_type": "markdown",
   "id": "e982687c",
   "metadata": {},
   "source": [
    "### 字母串转换为数值"
   ]
  },
  {
   "cell_type": "code",
   "execution_count": null,
   "id": "6208527d",
   "metadata": {},
   "outputs": [
    {
     "data": {
      "text/plain": [
       "23"
      ]
     },
     "metadata": {},
     "output_type": "display_data"
    }
   ],
   "source": [
    "int('23')"
   ]
  },
  {
   "cell_type": "code",
   "execution_count": null,
   "id": "637bf7a0",
   "metadata": {},
   "outputs": [
    {
     "data": {
      "text/plain": [
       "255"
      ]
     },
     "metadata": {},
     "output_type": "display_data"
    }
   ],
   "source": [
    "int('FF', 16)"
   ]
  },
  {
   "cell_type": "code",
   "execution_count": null,
   "id": "ca666c11",
   "metadata": {},
   "outputs": [
    {
     "data": {
      "text/plain": [
       "255"
      ]
     },
     "metadata": {},
     "output_type": "display_data"
    }
   ],
   "source": [
    "int('377', 8)"
   ]
  },
  {
   "cell_type": "code",
   "execution_count": null,
   "id": "17822e4d",
   "metadata": {},
   "outputs": [
    {
     "data": {
      "text/plain": [
       "255"
      ]
     },
     "metadata": {},
     "output_type": "display_data"
    }
   ],
   "source": [
    "int('11111111', 2)"
   ]
  },
  {
   "cell_type": "markdown",
   "id": "b65b96b6",
   "metadata": {},
   "source": [
    "### 测试从属关系"
   ]
  },
  {
   "cell_type": "code",
   "execution_count": 19,
   "id": "52f17e75",
   "metadata": {},
   "outputs": [
    {
     "data": {
      "text/plain": [
       "True"
      ]
     },
     "execution_count": 19,
     "metadata": {},
     "output_type": "execute_result"
    }
   ],
   "source": [
    "s = 'hello world'\n",
    "'he' in s"
   ]
  },
  {
   "cell_type": "code",
   "execution_count": 20,
   "id": "7a58471c",
   "metadata": {},
   "outputs": [
    {
     "data": {
      "text/plain": [
       "False"
      ]
     },
     "execution_count": 20,
     "metadata": {},
     "output_type": "execute_result"
    }
   ],
   "source": [
    "s = 'hello world'\n",
    "'world' not in s"
   ]
  },
  {
   "cell_type": "markdown",
   "id": "4962c590",
   "metadata": {},
   "source": [
    "### 格式化字符串"
   ]
  },
  {
   "cell_type": "markdown",
   "id": "c8df4c22",
   "metadata": {},
   "source": [
    "**Python**用字符串的`format()`方法来格式化字符串。\n",
    "\n",
    "具体用法如下，字符串中花括号 `{}` 的部分会被format传入的参数替代。"
   ]
  },
  {
   "cell_type": "code",
   "execution_count": null,
   "id": "3c787296",
   "metadata": {},
   "outputs": [
    {
     "data": {
      "text/plain": [
       "'a b c'"
      ]
     },
     "metadata": {},
     "output_type": "display_data"
    }
   ],
   "source": [
    "'{} {} {}'.format('a', 'b', 'c')"
   ]
  },
  {
   "cell_type": "markdown",
   "id": "62cdfaf5",
   "metadata": {},
   "source": [
    "指定传入参数的位置："
   ]
  },
  {
   "cell_type": "code",
   "execution_count": null,
   "id": "fb508540",
   "metadata": {},
   "outputs": [
    {
     "data": {
      "text/plain": [
       "'c b a'"
      ]
     },
     "metadata": {},
     "output_type": "display_data"
    }
   ],
   "source": [
    "'{2} {1} {0}'.format('a', 'b', 'c')"
   ]
  },
  {
   "cell_type": "markdown",
   "id": "a42afcb4",
   "metadata": {},
   "source": [
    "指定传入参数的名称："
   ]
  },
  {
   "cell_type": "code",
   "execution_count": null,
   "id": "c528f159",
   "metadata": {},
   "outputs": [
    {
     "data": {
      "text/plain": [
       "'blue 10 1.5'"
      ]
     },
     "metadata": {},
     "output_type": "display_data"
    }
   ],
   "source": [
    "'{color} {n} {x}'.format(n=10, x=1.5, color='blue')"
   ]
  },
  {
   "cell_type": "markdown",
   "id": "8f822d7c",
   "metadata": {},
   "source": [
    "混用："
   ]
  },
  {
   "cell_type": "code",
   "execution_count": null,
   "id": "cd7f970a",
   "metadata": {},
   "outputs": [
    {
     "data": {
      "text/plain": [
       "'blue 10 1.5 foo'"
      ]
     },
     "metadata": {},
     "output_type": "display_data"
    }
   ],
   "source": [
    "'{color} {0} {x} {1}'.format(10, 'foo', x = 1.5, color='blue')"
   ]
  },
  {
   "cell_type": "markdown",
   "id": "16b683e6",
   "metadata": {},
   "source": [
    "可以用`{<field name>:<format>}`指定格式："
   ]
  },
  {
   "cell_type": "code",
   "execution_count": null,
   "id": "f30b13fe",
   "metadata": {},
   "outputs": [
    {
     "data": {
      "text/plain": [
       "'foo                 5       6.28'"
      ]
     },
     "metadata": {},
     "output_type": "display_data"
    }
   ],
   "source": [
    "from math import pi\n",
    "\n",
    "'{0:10} {1:10d} {2:10.2f}'.format('foo', 5, 2 * pi)"
   ]
  },
  {
   "cell_type": "markdown",
   "id": "45ac5caf",
   "metadata": {},
   "source": [
    "也可以使用旧式的 `%` 方法进行格式化："
   ]
  },
  {
   "cell_type": "code",
   "execution_count": null,
   "id": "b7a25357",
   "metadata": {},
   "outputs": [
    {
     "data": {
      "text/plain": [
       "'some numbers: 1.340000, 2'"
      ]
     },
     "metadata": {},
     "output_type": "display_data"
    }
   ],
   "source": [
    "s = \"some numbers:\"\n",
    "x = 1.34\n",
    "y = 2\n",
    "# 用百分号隔开，括号括起来\n",
    "t = \"%s %f, %d\" % (s, x, y)\n",
    "t"
   ]
  }
 ],
 "metadata": {
  "kernelspec": {
   "display_name": "Python 3 (ipykernel)",
   "language": "python",
   "name": "python3"
  },
  "language_info": {
   "codemirror_mode": {
    "name": "ipython",
    "version": 3
   },
   "file_extension": ".py",
   "mimetype": "text/x-python",
   "name": "python",
   "nbconvert_exporter": "python",
   "pygments_lexer": "ipython3",
   "version": "3.9.12"
  },
  "toc": {
   "base_numbering": 1,
   "nav_menu": {},
   "number_sections": true,
   "sideBar": true,
   "skip_h1_title": true,
   "title_cell": "Table of Contents",
   "title_sidebar": "Contents",
   "toc_cell": false,
   "toc_position": {},
   "toc_section_display": true,
   "toc_window_display": true
  },
  "vscode": {
   "interpreter": {
    "hash": "4ac58c68a7555430f59ebde22571acf41a779f71ba338658c9667eabd9be8e0e"
   }
  }
 },
 "nbformat": 4,
 "nbformat_minor": 5
}
