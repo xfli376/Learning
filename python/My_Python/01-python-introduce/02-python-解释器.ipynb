{
 "cells": [
  {
   "cell_type": "markdown",
   "id": "7ca575d2",
   "metadata": {},
   "source": [
    "# Python 解释器"
   ]
  },
  {
   "cell_type": "markdown",
   "id": "8f82b798",
   "metadata": {},
   "source": [
    "解释器的作用就是运行文件。计算机只能识别计算机语言，Python是高级语言所写代码不能被计算机识别，需要解释器把它翻译成计算机语言才可执行"
   ]
  },
  {
   "cell_type": "markdown",
   "id": "3b71495e",
   "metadata": {},
   "source": [
    "## 常用解释器"
   ]
  },
  {
   "cell_type": "markdown",
   "id": "2224178b",
   "metadata": {},
   "source": [
    "- CPython：用C语言开发的解释器\n",
    "\n",
    "- IPython：基于CPython的一种交互式解释器\n",
    "\n",
    "- PyPy：基于Python语言开发的解释器\n",
    "\n",
    "- Jython：运行在Java平台的解释器，直接把Python代码编译成Java字节码执行\n",
    "\n",
    "- IronPython：运行在微软.net平台上的Python解释器，可以直接把Python代码编译成.net的字节码"
   ]
  },
  {
   "cell_type": "markdown",
   "id": "3b71495e",
   "metadata": {},
   "source": [
    "## IPython"
   ]
  },
  {
   "cell_type": "markdown",
   "id": "3b71495e",
   "metadata": {},
   "source": [
    "### 安装\n",
    "```shell\n",
    "conda install ipython\n",
    "```"
   ]
  },
  {
   "cell_type": "markdown",
   "id": "21f9de71",
   "metadata": {},
   "source": [
    "### ipython 使用"
   ]
  },
  {
   "cell_type": "markdown",
   "id": "7053701f",
   "metadata": {},
   "source": [
    "#### magic命令"
   ]
  },
  {
   "cell_type": "markdown",
   "id": "6c91f815",
   "metadata": {},
   "source": [
    "**ipython**解释器提供了很多以百分号`%`开头的`magic`命令, \n",
    "\n",
    "％前缀表示这个命令会在一行代码上运行，而%%前缀表示该命令会在整个单元上运行\n",
    "\n",
    "输入`%`后面就能补全这些命令\n",
    "\n",
    "比如: 查看当前的工作文件夹"
   ]
  },
  {
   "cell_type": "code",
   "execution_count": 5,
   "id": "50c8304a",
   "metadata": {},
   "outputs": [
    {
     "data": {
      "text/plain": [
       "'/Users/xfli/Documents/GitDev/Learning/python/My_Python/01-python-basics'"
      ]
     },
     "execution_count": 5,
     "metadata": {},
     "output_type": "execute_result"
    }
   ],
   "source": [
    "%pwd"
   ]
  },
  {
   "cell_type": "markdown",
   "id": "3d1d2c6e",
   "metadata": {},
   "source": [
    "查看所有的`magic`命令"
   ]
  },
  {
   "cell_type": "code",
   "execution_count": 6,
   "id": "5029bd84",
   "metadata": {},
   "outputs": [
    {
     "data": {
      "application/json": {
       "cell": {
        "!": "OSMagics",
        "HTML": "Other",
        "SVG": "Other",
        "bash": "Other",
        "capture": "ExecutionMagics",
        "debug": "ExecutionMagics",
        "file": "Other",
        "html": "DisplayMagics",
        "javascript": "DisplayMagics",
        "js": "DisplayMagics",
        "latex": "DisplayMagics",
        "markdown": "DisplayMagics",
        "perl": "Other",
        "prun": "ExecutionMagics",
        "pypy": "Other",
        "python": "Other",
        "python2": "Other",
        "python3": "Other",
        "ruby": "Other",
        "script": "ScriptMagics",
        "sh": "Other",
        "svg": "DisplayMagics",
        "sx": "OSMagics",
        "system": "OSMagics",
        "time": "ExecutionMagics",
        "timeit": "ExecutionMagics",
        "writefile": "OSMagics"
       },
       "line": {
        "alias": "OSMagics",
        "alias_magic": "BasicMagics",
        "autoawait": "AsyncMagics",
        "autocall": "AutoMagics",
        "automagic": "AutoMagics",
        "autosave": "KernelMagics",
        "bookmark": "OSMagics",
        "cat": "Other",
        "cd": "OSMagics",
        "clear": "KernelMagics",
        "colors": "BasicMagics",
        "conda": "PackagingMagics",
        "config": "ConfigMagics",
        "connect_info": "KernelMagics",
        "cp": "Other",
        "debug": "ExecutionMagics",
        "dhist": "OSMagics",
        "dirs": "OSMagics",
        "doctest_mode": "BasicMagics",
        "ed": "Other",
        "edit": "KernelMagics",
        "env": "OSMagics",
        "gui": "BasicMagics",
        "hist": "Other",
        "history": "HistoryMagics",
        "killbgscripts": "ScriptMagics",
        "ldir": "Other",
        "less": "KernelMagics",
        "lf": "Other",
        "lk": "Other",
        "ll": "Other",
        "load": "CodeMagics",
        "load_ext": "ExtensionMagics",
        "loadpy": "CodeMagics",
        "logoff": "LoggingMagics",
        "logon": "LoggingMagics",
        "logstart": "LoggingMagics",
        "logstate": "LoggingMagics",
        "logstop": "LoggingMagics",
        "ls": "Other",
        "lsmagic": "BasicMagics",
        "lx": "Other",
        "macro": "ExecutionMagics",
        "magic": "BasicMagics",
        "man": "KernelMagics",
        "matplotlib": "PylabMagics",
        "mkdir": "Other",
        "more": "KernelMagics",
        "mv": "Other",
        "notebook": "BasicMagics",
        "page": "BasicMagics",
        "pastebin": "CodeMagics",
        "pdb": "ExecutionMagics",
        "pdef": "NamespaceMagics",
        "pdoc": "NamespaceMagics",
        "pfile": "NamespaceMagics",
        "pinfo": "NamespaceMagics",
        "pinfo2": "NamespaceMagics",
        "pip": "PackagingMagics",
        "popd": "OSMagics",
        "pprint": "BasicMagics",
        "precision": "BasicMagics",
        "prun": "ExecutionMagics",
        "psearch": "NamespaceMagics",
        "psource": "NamespaceMagics",
        "pushd": "OSMagics",
        "pwd": "OSMagics",
        "pycat": "OSMagics",
        "pylab": "PylabMagics",
        "qtconsole": "KernelMagics",
        "quickref": "BasicMagics",
        "recall": "HistoryMagics",
        "rehashx": "OSMagics",
        "reload_ext": "ExtensionMagics",
        "rep": "Other",
        "rerun": "HistoryMagics",
        "reset": "NamespaceMagics",
        "reset_selective": "NamespaceMagics",
        "rm": "Other",
        "rmdir": "Other",
        "run": "ExecutionMagics",
        "save": "CodeMagics",
        "sc": "OSMagics",
        "set_env": "OSMagics",
        "store": "StoreMagics",
        "sx": "OSMagics",
        "system": "OSMagics",
        "tb": "ExecutionMagics",
        "time": "ExecutionMagics",
        "timeit": "ExecutionMagics",
        "unalias": "OSMagics",
        "unload_ext": "ExtensionMagics",
        "who": "NamespaceMagics",
        "who_ls": "NamespaceMagics",
        "whos": "NamespaceMagics",
        "xdel": "NamespaceMagics",
        "xmode": "BasicMagics"
       }
      },
      "text/plain": [
       "Available line magics:\n",
       "%alias  %alias_magic  %autoawait  %autocall  %automagic  %autosave  %bookmark  %cat  %cd  %clear  %colors  %conda  %config  %connect_info  %cp  %debug  %dhist  %dirs  %doctest_mode  %ed  %edit  %env  %gui  %hist  %history  %killbgscripts  %ldir  %less  %lf  %lk  %ll  %load  %load_ext  %loadpy  %logoff  %logon  %logstart  %logstate  %logstop  %ls  %lsmagic  %lx  %macro  %magic  %man  %matplotlib  %mkdir  %more  %mv  %notebook  %page  %pastebin  %pdb  %pdef  %pdoc  %pfile  %pinfo  %pinfo2  %pip  %popd  %pprint  %precision  %prun  %psearch  %psource  %pushd  %pwd  %pycat  %pylab  %qtconsole  %quickref  %recall  %rehashx  %reload_ext  %rep  %rerun  %reset  %reset_selective  %rm  %rmdir  %run  %save  %sc  %set_env  %store  %sx  %system  %tb  %time  %timeit  %unalias  %unload_ext  %who  %who_ls  %whos  %xdel  %xmode\n",
       "\n",
       "Available cell magics:\n",
       "%%!  %%HTML  %%SVG  %%bash  %%capture  %%debug  %%file  %%html  %%javascript  %%js  %%latex  %%markdown  %%perl  %%prun  %%pypy  %%python  %%python2  %%python3  %%ruby  %%script  %%sh  %%svg  %%sx  %%system  %%time  %%timeit  %%writefile\n",
       "\n",
       "Automagic is ON, % prefix IS NOT needed for line magics."
      ]
     },
     "execution_count": 6,
     "metadata": {},
     "output_type": "execute_result"
    }
   ],
   "source": [
    "%lsmagic   "
   ]
  },
  {
   "cell_type": "markdown",
   "id": "abc134b1",
   "metadata": {},
   "source": [
    "写文件"
   ]
  },
  {
   "cell_type": "code",
   "execution_count": 23,
   "id": "4a11f5d5",
   "metadata": {},
   "outputs": [
    {
     "name": "stdout",
     "output_type": "stream",
     "text": [
      "Overwriting test.py\n"
     ]
    }
   ],
   "source": [
    "%%writefile test.py\n",
    "def number_awesome():\n",
    "    return 8\n",
    "print(\"awesome !\")"
   ]
  },
  {
   "cell_type": "markdown",
   "id": "a975315a",
   "metadata": {},
   "source": [
    "使用 `run` 命令来运行这个代码："
   ]
  },
  {
   "cell_type": "code",
   "execution_count": 24,
   "id": "60d081f3",
   "metadata": {},
   "outputs": [
    {
     "name": "stdout",
     "output_type": "stream",
     "text": [
      "awesome !\n"
     ]
    }
   ],
   "source": [
    "%run test.py"
   ]
  },
  {
   "cell_type": "markdown",
   "id": "e6dd7ccf",
   "metadata": {},
   "source": [
    "删除这个文件："
   ]
  },
  {
   "cell_type": "code",
   "execution_count": 25,
   "id": "05f0594a",
   "metadata": {},
   "outputs": [],
   "source": [
    "import os\n",
    "os.remove('test.py')"
   ]
  },
  {
   "cell_type": "markdown",
   "id": "530d1e97",
   "metadata": {},
   "source": [
    "查看当前文件夹，`hello_world.py` 已被删除："
   ]
  },
  {
   "cell_type": "code",
   "execution_count": 26,
   "id": "4692ba6e",
   "metadata": {},
   "outputs": [
    {
     "name": "stdout",
     "output_type": "stream",
     "text": [
      "01-python-简介.ipynb             05-python-分支与循环.ipynb\n",
      "02-python-解释器.ipynb           06-python-文件读写.ipynb\n",
      "03-python-编辑器.ipynb           07-python-异常处理.ipynb\n",
      "04-Python-数据类型.ipynb\n"
     ]
    }
   ],
   "source": [
    "%ls"
   ]
  },
  {
   "cell_type": "markdown",
   "id": "31a740d7",
   "metadata": {},
   "source": [
    "使用 `?` 查看函数的帮助："
   ]
  },
  {
   "cell_type": "code",
   "execution_count": 29,
   "id": "d7f2292b",
   "metadata": {},
   "outputs": [
    {
     "name": "stdout",
     "output_type": "stream",
     "text": [
      "\u001b[0;31mSignature:\u001b[0m \u001b[0msum\u001b[0m\u001b[0;34m(\u001b[0m\u001b[0miterable\u001b[0m\u001b[0;34m,\u001b[0m \u001b[0;34m/\u001b[0m\u001b[0;34m,\u001b[0m \u001b[0mstart\u001b[0m\u001b[0;34m=\u001b[0m\u001b[0;36m0\u001b[0m\u001b[0;34m)\u001b[0m\u001b[0;34m\u001b[0m\u001b[0;34m\u001b[0m\u001b[0m\n",
      "\u001b[0;31mDocstring:\u001b[0m\n",
      "Return the sum of a 'start' value (default: 0) plus an iterable of numbers\n",
      "\n",
      "When the iterable is empty, return the start value.\n",
      "This function is intended specifically for use with numeric values and may\n",
      "reject non-numeric types.\n",
      "\u001b[0;31mType:\u001b[0m      builtin_function_or_method\n"
     ]
    }
   ],
   "source": [
    "sum?"
   ]
  },
  {
   "cell_type": "markdown",
   "id": "a9250fb8",
   "metadata": {},
   "source": [
    "使用 `??` 查看函数帮助和函数源代码（如果是用**python**实现的）："
   ]
  },
  {
   "cell_type": "code",
   "execution_count": 1,
   "id": "410a55d3",
   "metadata": {},
   "outputs": [
    {
     "name": "stdout",
     "output_type": "stream",
     "text": [
      "Using matplotlib backend: <object object at 0x7fe5dac6d630>\n",
      "%pylab is deprecated, use %matplotlib inline and import the required libraries.\n",
      "Populating the interactive namespace from numpy and matplotlib\n"
     ]
    },
    {
     "name": "stdout",
     "output_type": "stream",
     "text": [
      "\u001b[0;31mSignature:\u001b[0m \u001b[0msort\u001b[0m\u001b[0;34m(\u001b[0m\u001b[0ma\u001b[0m\u001b[0;34m,\u001b[0m \u001b[0maxis\u001b[0m\u001b[0;34m=\u001b[0m\u001b[0;34m-\u001b[0m\u001b[0;36m1\u001b[0m\u001b[0;34m,\u001b[0m \u001b[0mkind\u001b[0m\u001b[0;34m=\u001b[0m\u001b[0;32mNone\u001b[0m\u001b[0;34m,\u001b[0m \u001b[0morder\u001b[0m\u001b[0;34m=\u001b[0m\u001b[0;32mNone\u001b[0m\u001b[0;34m)\u001b[0m\u001b[0;34m\u001b[0m\u001b[0;34m\u001b[0m\u001b[0m\n",
      "\u001b[0;31mSource:\u001b[0m   \n",
      "\u001b[0;34m@\u001b[0m\u001b[0marray_function_dispatch\u001b[0m\u001b[0;34m(\u001b[0m\u001b[0m_sort_dispatcher\u001b[0m\u001b[0;34m)\u001b[0m\u001b[0;34m\u001b[0m\n",
      "\u001b[0;34m\u001b[0m\u001b[0;32mdef\u001b[0m \u001b[0msort\u001b[0m\u001b[0;34m(\u001b[0m\u001b[0ma\u001b[0m\u001b[0;34m,\u001b[0m \u001b[0maxis\u001b[0m\u001b[0;34m=\u001b[0m\u001b[0;34m-\u001b[0m\u001b[0;36m1\u001b[0m\u001b[0;34m,\u001b[0m \u001b[0mkind\u001b[0m\u001b[0;34m=\u001b[0m\u001b[0;32mNone\u001b[0m\u001b[0;34m,\u001b[0m \u001b[0morder\u001b[0m\u001b[0;34m=\u001b[0m\u001b[0;32mNone\u001b[0m\u001b[0;34m)\u001b[0m\u001b[0;34m:\u001b[0m\u001b[0;34m\u001b[0m\n",
      "\u001b[0;34m\u001b[0m    \u001b[0;34m\"\"\"\u001b[0m\n",
      "\u001b[0;34m    Return a sorted copy of an array.\u001b[0m\n",
      "\u001b[0;34m\u001b[0m\n",
      "\u001b[0;34m    Parameters\u001b[0m\n",
      "\u001b[0;34m    ----------\u001b[0m\n",
      "\u001b[0;34m    a : array_like\u001b[0m\n",
      "\u001b[0;34m        Array to be sorted.\u001b[0m\n",
      "\u001b[0;34m    axis : int or None, optional\u001b[0m\n",
      "\u001b[0;34m        Axis along which to sort. If None, the array is flattened before\u001b[0m\n",
      "\u001b[0;34m        sorting. The default is -1, which sorts along the last axis.\u001b[0m\n",
      "\u001b[0;34m    kind : {'quicksort', 'mergesort', 'heapsort', 'stable'}, optional\u001b[0m\n",
      "\u001b[0;34m        Sorting algorithm. The default is 'quicksort'. Note that both 'stable'\u001b[0m\n",
      "\u001b[0;34m        and 'mergesort' use timsort or radix sort under the covers and, in general,\u001b[0m\n",
      "\u001b[0;34m        the actual implementation will vary with data type. The 'mergesort' option\u001b[0m\n",
      "\u001b[0;34m        is retained for backwards compatibility.\u001b[0m\n",
      "\u001b[0;34m\u001b[0m\n",
      "\u001b[0;34m        .. versionchanged:: 1.15.0.\u001b[0m\n",
      "\u001b[0;34m           The 'stable' option was added.\u001b[0m\n",
      "\u001b[0;34m\u001b[0m\n",
      "\u001b[0;34m    order : str or list of str, optional\u001b[0m\n",
      "\u001b[0;34m        When `a` is an array with fields defined, this argument specifies\u001b[0m\n",
      "\u001b[0;34m        which fields to compare first, second, etc.  A single field can\u001b[0m\n",
      "\u001b[0;34m        be specified as a string, and not all fields need be specified,\u001b[0m\n",
      "\u001b[0;34m        but unspecified fields will still be used, in the order in which\u001b[0m\n",
      "\u001b[0;34m        they come up in the dtype, to break ties.\u001b[0m\n",
      "\u001b[0;34m\u001b[0m\n",
      "\u001b[0;34m    Returns\u001b[0m\n",
      "\u001b[0;34m    -------\u001b[0m\n",
      "\u001b[0;34m    sorted_array : ndarray\u001b[0m\n",
      "\u001b[0;34m        Array of the same type and shape as `a`.\u001b[0m\n",
      "\u001b[0;34m\u001b[0m\n",
      "\u001b[0;34m    See Also\u001b[0m\n",
      "\u001b[0;34m    --------\u001b[0m\n",
      "\u001b[0;34m    ndarray.sort : Method to sort an array in-place.\u001b[0m\n",
      "\u001b[0;34m    argsort : Indirect sort.\u001b[0m\n",
      "\u001b[0;34m    lexsort : Indirect stable sort on multiple keys.\u001b[0m\n",
      "\u001b[0;34m    searchsorted : Find elements in a sorted array.\u001b[0m\n",
      "\u001b[0;34m    partition : Partial sort.\u001b[0m\n",
      "\u001b[0;34m\u001b[0m\n",
      "\u001b[0;34m    Notes\u001b[0m\n",
      "\u001b[0;34m    -----\u001b[0m\n",
      "\u001b[0;34m    The various sorting algorithms are characterized by their average speed,\u001b[0m\n",
      "\u001b[0;34m    worst case performance, work space size, and whether they are stable. A\u001b[0m\n",
      "\u001b[0;34m    stable sort keeps items with the same key in the same relative\u001b[0m\n",
      "\u001b[0;34m    order. The four algorithms implemented in NumPy have the following\u001b[0m\n",
      "\u001b[0;34m    properties:\u001b[0m\n",
      "\u001b[0;34m\u001b[0m\n",
      "\u001b[0;34m    =========== ======= ============= ============ ========\u001b[0m\n",
      "\u001b[0;34m       kind      speed   worst case    work space   stable\u001b[0m\n",
      "\u001b[0;34m    =========== ======= ============= ============ ========\u001b[0m\n",
      "\u001b[0;34m    'quicksort'    1     O(n^2)            0          no\u001b[0m\n",
      "\u001b[0;34m    'heapsort'     3     O(n*log(n))       0          no\u001b[0m\n",
      "\u001b[0;34m    'mergesort'    2     O(n*log(n))      ~n/2        yes\u001b[0m\n",
      "\u001b[0;34m    'timsort'      2     O(n*log(n))      ~n/2        yes\u001b[0m\n",
      "\u001b[0;34m    =========== ======= ============= ============ ========\u001b[0m\n",
      "\u001b[0;34m\u001b[0m\n",
      "\u001b[0;34m    .. note:: The datatype determines which of 'mergesort' or 'timsort'\u001b[0m\n",
      "\u001b[0;34m       is actually used, even if 'mergesort' is specified. User selection\u001b[0m\n",
      "\u001b[0;34m       at a finer scale is not currently available.\u001b[0m\n",
      "\u001b[0;34m\u001b[0m\n",
      "\u001b[0;34m    All the sort algorithms make temporary copies of the data when\u001b[0m\n",
      "\u001b[0;34m    sorting along any but the last axis.  Consequently, sorting along\u001b[0m\n",
      "\u001b[0;34m    the last axis is faster and uses less space than sorting along\u001b[0m\n",
      "\u001b[0;34m    any other axis.\u001b[0m\n",
      "\u001b[0;34m\u001b[0m\n",
      "\u001b[0;34m    The sort order for complex numbers is lexicographic. If both the real\u001b[0m\n",
      "\u001b[0;34m    and imaginary parts are non-nan then the order is determined by the\u001b[0m\n",
      "\u001b[0;34m    real parts except when they are equal, in which case the order is\u001b[0m\n",
      "\u001b[0;34m    determined by the imaginary parts.\u001b[0m\n",
      "\u001b[0;34m\u001b[0m\n",
      "\u001b[0;34m    Previous to numpy 1.4.0 sorting real and complex arrays containing nan\u001b[0m\n",
      "\u001b[0;34m    values led to undefined behaviour. In numpy versions >= 1.4.0 nan\u001b[0m\n",
      "\u001b[0;34m    values are sorted to the end. The extended sort order is:\u001b[0m\n",
      "\u001b[0;34m\u001b[0m\n",
      "\u001b[0;34m      * Real: [R, nan]\u001b[0m\n",
      "\u001b[0;34m      * Complex: [R + Rj, R + nanj, nan + Rj, nan + nanj]\u001b[0m\n",
      "\u001b[0;34m\u001b[0m\n",
      "\u001b[0;34m    where R is a non-nan real value. Complex values with the same nan\u001b[0m\n",
      "\u001b[0;34m    placements are sorted according to the non-nan part if it exists.\u001b[0m\n",
      "\u001b[0;34m    Non-nan values are sorted as before.\u001b[0m\n",
      "\u001b[0;34m\u001b[0m\n",
      "\u001b[0;34m    .. versionadded:: 1.12.0\u001b[0m\n",
      "\u001b[0;34m\u001b[0m\n",
      "\u001b[0;34m    quicksort has been changed to `introsort <https://en.wikipedia.org/wiki/Introsort>`_.\u001b[0m\n",
      "\u001b[0;34m    When sorting does not make enough progress it switches to\u001b[0m\n",
      "\u001b[0;34m    `heapsort <https://en.wikipedia.org/wiki/Heapsort>`_.\u001b[0m\n",
      "\u001b[0;34m    This implementation makes quicksort O(n*log(n)) in the worst case.\u001b[0m\n",
      "\u001b[0;34m\u001b[0m\n",
      "\u001b[0;34m    'stable' automatically chooses the best stable sorting algorithm\u001b[0m\n",
      "\u001b[0;34m    for the data type being sorted.\u001b[0m\n",
      "\u001b[0;34m    It, along with 'mergesort' is currently mapped to\u001b[0m\n",
      "\u001b[0;34m    `timsort <https://en.wikipedia.org/wiki/Timsort>`_\u001b[0m\n",
      "\u001b[0;34m    or `radix sort <https://en.wikipedia.org/wiki/Radix_sort>`_\u001b[0m\n",
      "\u001b[0;34m    depending on the data type.\u001b[0m\n",
      "\u001b[0;34m    API forward compatibility currently limits the\u001b[0m\n",
      "\u001b[0;34m    ability to select the implementation and it is hardwired for the different\u001b[0m\n",
      "\u001b[0;34m    data types.\u001b[0m\n",
      "\u001b[0;34m\u001b[0m\n",
      "\u001b[0;34m    .. versionadded:: 1.17.0\u001b[0m\n",
      "\u001b[0;34m\u001b[0m\n",
      "\u001b[0;34m    Timsort is added for better performance on already or nearly\u001b[0m\n",
      "\u001b[0;34m    sorted data. On random data timsort is almost identical to\u001b[0m\n",
      "\u001b[0;34m    mergesort. It is now used for stable sort while quicksort is still the\u001b[0m\n",
      "\u001b[0;34m    default sort if none is chosen. For timsort details, refer to\u001b[0m\n",
      "\u001b[0;34m    `CPython listsort.txt <https://github.com/python/cpython/blob/3.7/Objects/listsort.txt>`_.\u001b[0m\n",
      "\u001b[0;34m    'mergesort' and 'stable' are mapped to radix sort for integer data types. Radix sort is an\u001b[0m\n",
      "\u001b[0;34m    O(n) sort instead of O(n log n).\u001b[0m\n",
      "\u001b[0;34m\u001b[0m\n",
      "\u001b[0;34m    .. versionchanged:: 1.18.0\u001b[0m\n",
      "\u001b[0;34m\u001b[0m\n",
      "\u001b[0;34m    NaT now sorts to the end of arrays for consistency with NaN.\u001b[0m\n",
      "\u001b[0;34m\u001b[0m\n",
      "\u001b[0;34m    Examples\u001b[0m\n",
      "\u001b[0;34m    --------\u001b[0m\n",
      "\u001b[0;34m    >>> a = np.array([[1,4],[3,1]])\u001b[0m\n",
      "\u001b[0;34m    >>> np.sort(a)                # sort along the last axis\u001b[0m\n",
      "\u001b[0;34m    array([[1, 4],\u001b[0m\n",
      "\u001b[0;34m           [1, 3]])\u001b[0m\n",
      "\u001b[0;34m    >>> np.sort(a, axis=None)     # sort the flattened array\u001b[0m\n",
      "\u001b[0;34m    array([1, 1, 3, 4])\u001b[0m\n",
      "\u001b[0;34m    >>> np.sort(a, axis=0)        # sort along the first axis\u001b[0m\n",
      "\u001b[0;34m    array([[1, 1],\u001b[0m\n",
      "\u001b[0;34m           [3, 4]])\u001b[0m\n",
      "\u001b[0;34m\u001b[0m\n",
      "\u001b[0;34m    Use the `order` keyword to specify a field to use when sorting a\u001b[0m\n",
      "\u001b[0;34m    structured array:\u001b[0m\n",
      "\u001b[0;34m\u001b[0m\n",
      "\u001b[0;34m    >>> dtype = [('name', 'S10'), ('height', float), ('age', int)]\u001b[0m\n",
      "\u001b[0;34m    >>> values = [('Arthur', 1.8, 41), ('Lancelot', 1.9, 38),\u001b[0m\n",
      "\u001b[0;34m    ...           ('Galahad', 1.7, 38)]\u001b[0m\n",
      "\u001b[0;34m    >>> a = np.array(values, dtype=dtype)       # create a structured array\u001b[0m\n",
      "\u001b[0;34m    >>> np.sort(a, order='height')                        # doctest: +SKIP\u001b[0m\n",
      "\u001b[0;34m    array([('Galahad', 1.7, 38), ('Arthur', 1.8, 41),\u001b[0m\n",
      "\u001b[0;34m           ('Lancelot', 1.8999999999999999, 38)],\u001b[0m\n",
      "\u001b[0;34m          dtype=[('name', '|S10'), ('height', '<f8'), ('age', '<i4')])\u001b[0m\n",
      "\u001b[0;34m\u001b[0m\n",
      "\u001b[0;34m    Sort by age, then height if ages are equal:\u001b[0m\n",
      "\u001b[0;34m\u001b[0m\n",
      "\u001b[0;34m    >>> np.sort(a, order=['age', 'height'])               # doctest: +SKIP\u001b[0m\n",
      "\u001b[0;34m    array([('Galahad', 1.7, 38), ('Lancelot', 1.8999999999999999, 38),\u001b[0m\n",
      "\u001b[0;34m           ('Arthur', 1.8, 41)],\u001b[0m\n",
      "\u001b[0;34m          dtype=[('name', '|S10'), ('height', '<f8'), ('age', '<i4')])\u001b[0m\n",
      "\u001b[0;34m\u001b[0m\n",
      "\u001b[0;34m    \"\"\"\u001b[0m\u001b[0;34m\u001b[0m\n",
      "\u001b[0;34m\u001b[0m    \u001b[0;32mif\u001b[0m \u001b[0maxis\u001b[0m \u001b[0;32mis\u001b[0m \u001b[0;32mNone\u001b[0m\u001b[0;34m:\u001b[0m\u001b[0;34m\u001b[0m\n",
      "\u001b[0;34m\u001b[0m        \u001b[0;31m# flatten returns (1, N) for np.matrix, so always use the last axis\u001b[0m\u001b[0;34m\u001b[0m\n",
      "\u001b[0;34m\u001b[0m        \u001b[0ma\u001b[0m \u001b[0;34m=\u001b[0m \u001b[0masanyarray\u001b[0m\u001b[0;34m(\u001b[0m\u001b[0ma\u001b[0m\u001b[0;34m)\u001b[0m\u001b[0;34m.\u001b[0m\u001b[0mflatten\u001b[0m\u001b[0;34m(\u001b[0m\u001b[0;34m)\u001b[0m\u001b[0;34m\u001b[0m\n",
      "\u001b[0;34m\u001b[0m        \u001b[0maxis\u001b[0m \u001b[0;34m=\u001b[0m \u001b[0;34m-\u001b[0m\u001b[0;36m1\u001b[0m\u001b[0;34m\u001b[0m\n",
      "\u001b[0;34m\u001b[0m    \u001b[0;32melse\u001b[0m\u001b[0;34m:\u001b[0m\u001b[0;34m\u001b[0m\n",
      "\u001b[0;34m\u001b[0m        \u001b[0ma\u001b[0m \u001b[0;34m=\u001b[0m \u001b[0masanyarray\u001b[0m\u001b[0;34m(\u001b[0m\u001b[0ma\u001b[0m\u001b[0;34m)\u001b[0m\u001b[0;34m.\u001b[0m\u001b[0mcopy\u001b[0m\u001b[0;34m(\u001b[0m\u001b[0morder\u001b[0m\u001b[0;34m=\u001b[0m\u001b[0;34m\"K\"\u001b[0m\u001b[0;34m)\u001b[0m\u001b[0;34m\u001b[0m\n",
      "\u001b[0;34m\u001b[0m    \u001b[0ma\u001b[0m\u001b[0;34m.\u001b[0m\u001b[0msort\u001b[0m\u001b[0;34m(\u001b[0m\u001b[0maxis\u001b[0m\u001b[0;34m=\u001b[0m\u001b[0maxis\u001b[0m\u001b[0;34m,\u001b[0m \u001b[0mkind\u001b[0m\u001b[0;34m=\u001b[0m\u001b[0mkind\u001b[0m\u001b[0;34m,\u001b[0m \u001b[0morder\u001b[0m\u001b[0;34m=\u001b[0m\u001b[0morder\u001b[0m\u001b[0;34m)\u001b[0m\u001b[0;34m\u001b[0m\n",
      "\u001b[0;34m\u001b[0m    \u001b[0;32mreturn\u001b[0m \u001b[0ma\u001b[0m\u001b[0;34m\u001b[0m\u001b[0;34m\u001b[0m\u001b[0m\n",
      "\u001b[0;31mFile:\u001b[0m      ~/miniconda3/lib/python3.9/site-packages/numpy/core/fromnumeric.py\n",
      "\u001b[0;31mType:\u001b[0m      function\n"
     ]
    }
   ],
   "source": [
    "# 导入numpy和matplotlib两个包\n",
    "%pylab\n",
    "# 查看其中sort函数的帮助\n",
    "sort??"
   ]
  },
  {
   "cell_type": "markdown",
   "id": "c215b656",
   "metadata": {},
   "source": [
    "使用 `_` 使用上个cell的输出结果："
   ]
  },
  {
   "cell_type": "code",
   "execution_count": 2,
   "id": "03133218",
   "metadata": {},
   "outputs": [
    {
     "data": {
      "text/plain": [
       "12"
      ]
     },
     "execution_count": 2,
     "metadata": {},
     "output_type": "execute_result"
    }
   ],
   "source": [
    "a = 12\n",
    "a"
   ]
  },
  {
   "cell_type": "code",
   "execution_count": 3,
   "id": "4baf2bd9",
   "metadata": {},
   "outputs": [
    {
     "data": {
      "text/plain": [
       "25"
      ]
     },
     "execution_count": 3,
     "metadata": {},
     "output_type": "execute_result"
    }
   ],
   "source": [
    "_ + 13"
   ]
  },
  {
   "cell_type": "markdown",
   "id": "d1942180",
   "metadata": {},
   "source": [
    "可以使用 `!` 来执行一些系统命令。"
   ]
  },
  {
   "cell_type": "code",
   "execution_count": 4,
   "id": "6a3d4b41",
   "metadata": {
    "scrolled": true
   },
   "outputs": [
    {
     "name": "stdout",
     "output_type": "stream",
     "text": [
      "PING baidu.com (110.242.68.66): 56 data bytes\n",
      "64 bytes from 110.242.68.66: icmp_seq=0 ttl=44 time=65.564 ms\n",
      "64 bytes from 110.242.68.66: icmp_seq=1 ttl=44 time=67.239 ms\n",
      "^C\n",
      "\n",
      "--- baidu.com ping statistics ---\n",
      "2 packets transmitted, 2 packets received, 0.0% packet loss\n",
      "round-trip min/avg/max/stddev = 65.564/66.401/67.239/0.837 ms\n"
     ]
    }
   ],
   "source": [
    "!ping baidu.com"
   ]
  }
 ],
 "metadata": {
  "kernelspec": {
   "display_name": "Python 3.9.12 ('base')",
   "language": "python",
   "name": "python3"
  },
  "language_info": {
   "codemirror_mode": {
    "name": "ipython",
    "version": 3
   },
   "file_extension": ".py",
   "mimetype": "text/x-python",
   "name": "python",
   "nbconvert_exporter": "python",
   "pygments_lexer": "ipython3",
   "version": "3.9.12"
  },
  "toc": {
   "base_numbering": 1,
   "nav_menu": {},
   "number_sections": true,
   "sideBar": true,
   "skip_h1_title": true,
   "title_cell": "Table of Contents",
   "title_sidebar": "Contents",
   "toc_cell": false,
   "toc_position": {},
   "toc_section_display": true,
   "toc_window_display": true
  },
  "vscode": {
   "interpreter": {
    "hash": "4ac58c68a7555430f59ebde22571acf41a779f71ba338658c9667eabd9be8e0e"
   }
  }
 },
 "nbformat": 4,
 "nbformat_minor": 5
}
