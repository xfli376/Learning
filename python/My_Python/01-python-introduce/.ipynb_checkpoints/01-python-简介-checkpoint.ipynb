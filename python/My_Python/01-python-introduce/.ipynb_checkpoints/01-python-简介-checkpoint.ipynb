{
 "cells": [
  {
   "cell_type": "markdown",
   "id": "45a61b4a",
   "metadata": {},
   "source": [
    "# Python 简介"
   ]
  },
  {
   "cell_type": "markdown",
   "id": "d23a0422",
   "metadata": {},
   "source": [
    "## 发展历史"
   ]
  },
  {
   "cell_type": "markdown",
   "id": "dff0e478",
   "metadata": {},
   "source": [
    "## 特点"
   ]
  },
  {
   "cell_type": "markdown",
   "id": "070107be",
   "metadata": {},
   "source": [
    "## 应用领域"
   ]
  },
  {
   "cell_type": "markdown",
   "id": "f83fa917",
   "metadata": {},
   "source": [
    "## 安装与第三方库管理"
   ]
  },
  {
   "cell_type": "markdown",
   "id": "11b54d4f",
   "metadata": {},
   "source": [
    "## 第一行代码"
   ]
  },
  {
   "cell_type": "code",
   "execution_count": null,
   "id": "9eecea14",
   "metadata": {},
   "outputs": [],
   "source": []
  }
 ],
 "metadata": {
  "kernelspec": {
   "display_name": "Python 3 (ipykernel)",
   "language": "python",
   "name": "python3"
  },
  "language_info": {
   "codemirror_mode": {
    "name": "ipython",
    "version": 3
   },
   "file_extension": ".py",
   "mimetype": "text/x-python",
   "name": "python",
   "nbconvert_exporter": "python",
   "pygments_lexer": "ipython3",
   "version": "3.9.12"
  },
  "toc": {
   "base_numbering": 1,
   "nav_menu": {},
   "number_sections": true,
   "sideBar": true,
   "skip_h1_title": true,
   "title_cell": "Table of Contents",
   "title_sidebar": "Contents",
   "toc_cell": false,
   "toc_position": {},
   "toc_section_display": true,
   "toc_window_display": true
  }
 },
 "nbformat": 4,
 "nbformat_minor": 5
}
