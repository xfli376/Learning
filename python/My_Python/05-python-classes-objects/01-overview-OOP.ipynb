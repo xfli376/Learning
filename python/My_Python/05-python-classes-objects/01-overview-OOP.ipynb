{
 "cells": [
  {
   "cell_type": "markdown",
   "id": "8a7f5d52",
   "metadata": {},
   "source": [
    "# Python面向对象简介"
   ]
  },
  {
   "cell_type": "markdown",
   "id": "1fd12875",
   "metadata": {},
   "source": [
    "面向对象编程（Object Oriented Programming，简称OOP)，是利用“类”和“对象”来创建各种模型来实现对真实世界的描述"
   ]
  },
  {
   "cell_type": "markdown",
   "id": "ae2e678a",
   "metadata": {},
   "source": [
    "## 常见概念"
   ]
  },
  {
   "cell_type": "markdown",
   "id": "56ab3c77",
   "metadata": {},
   "source": [
    "### 面向过程"
   ]
  },
  {
   "cell_type": "markdown",
   "id": "46404d6a",
   "metadata": {},
   "source": [
    "面向过程（Procedure Oriented 简称PO），是一种常见的程序设计思想，"
   ]
  },
  {
   "cell_type": "markdown",
   "id": "184a7ca8",
   "metadata": {},
   "source": [
    "- 核心是过程，即计算机要处理流水线来模拟现实事物发展变化的全过程\n",
    "- 函数看着程序的最基本单元，一个函数包括要处理的数据及算法逻辑\n",
    "- 编程是不同函数之间的互相调用\n",
    "- 抽象层度相对较低\n",
    "- 优点：极大的降低了写程序的复杂度，只需要顺着要执行的步骤，堆叠代码即可\n",
    "- 缺点：一套流程只能解决一个(种)实际问题, 且牵一发而动全身。\n",
    " - 复用性差\n",
    " - 可维护性差"
   ]
  },
  {
   "cell_type": "markdown",
   "id": "42dbc4d7",
   "metadata": {},
   "source": [
    "### 面向对象"
   ]
  },
  {
   "cell_type": "markdown",
   "id": "43b5dc74",
   "metadata": {},
   "source": [
    "面向对象（Object Oriented，简称OO），是一种新和程序设计思想"
   ]
  },
  {
   "cell_type": "markdown",
   "id": "ce8061dd",
   "metadata": {},
   "source": [
    "- OOP把对象作为程序的基本单元。\n",
    "- OOP把程序看做不同对象的相互调用 \n",
    "- OOP的抽象程度比函数要高"
   ]
  },
  {
   "cell_type": "markdown",
   "id": "42ab5382",
   "metadata": {},
   "source": [
    "面向对象的常见概念: "
   ]
  },
  {
   "cell_type": "markdown",
   "id": "7d9c4fb0",
   "metadata": {},
   "source": [
    "- 类(Class): 描述具有相同的属性和方法的对象集\n",
    " - 类变量：定义在类中且在各函数体(方法)之外。\n",
    " - 局部变量：定义在方法中的变量，只作用于当前实例的类。\n",
    " - 实例变量：类的属性在声明时也采用变量来表示的(self.variableName)。\n",
    "- 实例化：由抽象类创建一个类的实例，即属于这个类的具体对象。\n",
    "- 方法：类中定义的函数,必须有一个参数self，放在位置参数的第一位。\n",
    "- 对象：包括两个数据成员（类变量和实例变量）和操作它们的具体方法。\n",
    "- 方法重写：如果从父类继承的方法的进一步具体化,也叫方法的覆盖（override）"
   ]
  },
  {
   "cell_type": "markdown",
   "id": "5a9c314f",
   "metadata": {},
   "source": [
    "## 类的创建"
   ]
  },
  {
   "cell_type": "code",
   "execution_count": 108,
   "id": "83b32309",
   "metadata": {},
   "outputs": [],
   "source": [
    "class Person():\n",
    "    # 国籍定义为类变量比较好\n",
    "    citizenship = \"中国\"\n",
    "    \n",
    "    #通过构造方法实现对实例变量的初始化\n",
    "    def __init__(self,name,ID,birthdate):\n",
    "        #定义并对实例变量进行初始化\n",
    "        self.name = name\n",
    "        self.ID = ID\n",
    "        self.birthdate = birthdate\n",
    "    def  info(self):#显示对象属性的方法\n",
    "        print(\"姓名是%s、身份证%s、出生日期是%s\" %(self.name,self.ID,self.birthdate))"
   ]
  },
  {
   "cell_type": "markdown",
   "id": "2b5b05a0",
   "metadata": {},
   "source": [
    "创建的是一个`人`的基本类, 由这个类可以建立一个子类, 比如`学生`."
   ]
  },
  {
   "cell_type": "code",
   "execution_count": 109,
   "id": "223d0f39",
   "metadata": {},
   "outputs": [],
   "source": [
    "class Student(Person):\n",
    "    #声明类变量\n",
    "    career = '学生'\n",
    "    \n",
    "    #通过构造方法实现对实例变量的初始化\n",
    "    def __init__(self,name,ID,birthdate,student_pass,grade_class):\n",
    "        #调用父类的方法对前三个属性初始化\n",
    "        Person.__init__(self,name,ID,birthdate)\n",
    "        #初始化本类属性\n",
    "        self.student_pass = student_pass\n",
    "        self.grade_class = grade_class\n",
    "\n",
    "    #定义info，显示对象属性的方法, 此处对父类info进行了覆盖\n",
    "    def  info(self): \n",
    "        return self.name,self.ID,self.birthdate,self.student_pass,self.grade_class"
   ]
  },
  {
   "cell_type": "markdown",
   "id": "11ebaeed",
   "metadata": {},
   "source": [
    "下面建立一个具体的学生对象"
   ]
  },
  {
   "cell_type": "code",
   "execution_count": 110,
   "id": "d2eb0d07",
   "metadata": {},
   "outputs": [],
   "source": [
    "student_1 = Student('张三','43000093434343','1998-08-03','200205001', '02-02')"
   ]
  },
  {
   "cell_type": "code",
   "execution_count": 111,
   "id": "c07b1b4a",
   "metadata": {},
   "outputs": [
    {
     "data": {
      "text/plain": [
       "('张三', '43000093434343', '1998-08-03', '200205001', '02-02')"
      ]
     },
     "execution_count": 111,
     "metadata": {},
     "output_type": "execute_result"
    }
   ],
   "source": [
    "student_1.info()"
   ]
  },
  {
   "cell_type": "markdown",
   "id": "4820b15e",
   "metadata": {},
   "source": [
    " 可以再创建一个成绩表类"
   ]
  },
  {
   "cell_type": "code",
   "execution_count": 112,
   "id": "70cd18fd",
   "metadata": {},
   "outputs": [],
   "source": [
    "class scores(Student):\n",
    "    year = \"2022\"\n",
    "    \n",
    "    def __init__(self, student_pass, physics, mathematics):\n",
    "        self.student_pass = student_pass\n",
    "        self.physics = physics\n",
    "        self.mathematics = mathematics \n",
    "        \n",
    "    def  info(self): \n",
    "        return self.student_pass, self.physics, self.mathematics\n",
    "        "
   ]
  },
  {
   "cell_type": "code",
   "execution_count": 105,
   "id": "47cb5fa6",
   "metadata": {},
   "outputs": [],
   "source": [
    "scores_1 = scores('200205001', 80, 90)"
   ]
  },
  {
   "cell_type": "code",
   "execution_count": 106,
   "id": "be7e19fe",
   "metadata": {
    "scrolled": true
   },
   "outputs": [
    {
     "name": "stdout",
     "output_type": "stream",
     "text": [
      "张三在2022年度的平均成绩为: 85\n"
     ]
    }
   ],
   "source": [
    "if scores_1.student_pass == student_1.student_pass :\n",
    "    average = (scores_1.physics + scores_1.mathematics)/2\n",
    "    print(\"%s在%s年度的平均成绩为: %d\" %(student_1.name, scores_1.year, average))\n"
   ]
  }
 ],
 "metadata": {
  "kernelspec": {
   "display_name": "Python 3.10.3 64-bit",
   "language": "python",
   "name": "python3"
  },
  "language_info": {
   "codemirror_mode": {
    "name": "ipython",
    "version": 3
   },
   "file_extension": ".py",
   "mimetype": "text/x-python",
   "name": "python",
   "nbconvert_exporter": "python",
   "pygments_lexer": "ipython3",
   "version": "3.10.3"
  },
  "toc": {
   "base_numbering": 1,
   "nav_menu": {},
   "number_sections": true,
   "sideBar": true,
   "skip_h1_title": true,
   "title_cell": "Table of Contents",
   "title_sidebar": "Contents",
   "toc_cell": false,
   "toc_position": {},
   "toc_section_display": true,
   "toc_window_display": true
  },
  "vscode": {
   "interpreter": {
    "hash": "7e1998ff7f8aa20ada591c520b972326324e5ea05489af9e422744c7c09f6dad"
   }
  }
 },
 "nbformat": 4,
 "nbformat_minor": 5
}
