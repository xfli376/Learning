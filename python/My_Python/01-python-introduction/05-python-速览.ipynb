{
 "cells": [
  {
   "cell_type": "markdown",
   "id": "b9ec44bf",
   "metadata": {},
   "source": [
    "# Python 速览"
   ]
  },
  {
   "cell_type": "markdown",
   "id": "6f076ae1",
   "metadata": {},
   "source": [
    "## 数值计算器"
   ]
  },
  {
   "cell_type": "markdown",
   "id": "0ab03ce7",
   "metadata": {},
   "source": [
    "整型数"
   ]
  },
  {
   "cell_type": "code",
   "execution_count": 1,
   "id": "bfaa64c5",
   "metadata": {},
   "outputs": [
    {
     "name": "stdout",
     "output_type": "stream",
     "text": [
      "5\n",
      "<class 'int'>\n"
     ]
    }
   ],
   "source": [
    "b = (50 - 5*6) // 4\n",
    "print(b)\n",
    "print(type(b))"
   ]
  },
  {
   "cell_type": "code",
   "execution_count": 2,
   "id": "b634293d",
   "metadata": {},
   "outputs": [
    {
     "data": {
      "text/plain": [
       "1"
      ]
     },
     "execution_count": 2,
     "metadata": {},
     "output_type": "execute_result"
    }
   ],
   "source": [
    "# 取余\n",
    "7%3"
   ]
  },
  {
   "cell_type": "markdown",
   "id": "8aad8af9",
   "metadata": {},
   "source": [
    "浮点数"
   ]
  },
  {
   "cell_type": "code",
   "execution_count": 3,
   "id": "bf8f9ac2",
   "metadata": {},
   "outputs": [
    {
     "name": "stdout",
     "output_type": "stream",
     "text": [
      "5.0\n",
      "<class 'float'>\n"
     ]
    }
   ],
   "source": [
    "a = (50 - 5*6) / 4\n",
    "print(a)\n",
    "print(type(a))"
   ]
  },
  {
   "cell_type": "markdown",
   "id": "b805d812",
   "metadata": {},
   "source": [
    "复数"
   ]
  },
  {
   "cell_type": "code",
   "execution_count": 4,
   "id": "c8133385",
   "metadata": {},
   "outputs": [
    {
     "name": "stdout",
     "output_type": "stream",
     "text": [
      "(2+2j)\n",
      "<class 'complex'>\n"
     ]
    }
   ],
   "source": [
    "a = 1\n",
    "b = complex(1, 2)\n",
    "c = a + b \n",
    "print(c) \n",
    "print(type(c))"
   ]
  },
  {
   "cell_type": "markdown",
   "id": "e35d0610",
   "metadata": {},
   "source": [
    "共轭"
   ]
  },
  {
   "cell_type": "code",
   "execution_count": 5,
   "id": "f366fc1d",
   "metadata": {},
   "outputs": [
    {
     "name": "stdout",
     "output_type": "stream",
     "text": [
      "(2-2j)\n"
     ]
    }
   ],
   "source": [
    "d = c.conjugate()\n",
    "print(d)"
   ]
  },
  {
   "cell_type": "markdown",
   "id": "6b247fe4",
   "metadata": {},
   "source": [
    "取整"
   ]
  },
  {
   "cell_type": "code",
   "execution_count": 7,
   "id": "9a57b077",
   "metadata": {},
   "outputs": [
    {
     "data": {
      "text/plain": [
       "51"
      ]
     },
     "execution_count": 7,
     "metadata": {},
     "output_type": "execute_result"
    }
   ],
   "source": [
    "# 舍入\n",
    "a =50.945566\n",
    "round(a)"
   ]
  },
  {
   "cell_type": "markdown",
   "id": "de44833e",
   "metadata": {},
   "source": [
    "## 字符串处理"
   ]
  },
  {
   "cell_type": "markdown",
   "id": "69afe1dc",
   "metadata": {},
   "source": [
    " 转义:"
   ]
  },
  {
   "cell_type": "code",
   "execution_count": 11,
   "id": "2ead8039",
   "metadata": {},
   "outputs": [
    {
     "name": "stdout",
     "output_type": "stream",
     "text": [
      "He's name is Jack\n"
     ]
    }
   ],
   "source": [
    "name = 'Jack'\n",
    "print('He\\'s name is', name)"
   ]
  },
  {
   "cell_type": "markdown",
   "id": "328d06bb",
   "metadata": {},
   "source": [
    "合并"
   ]
  },
  {
   "cell_type": "code",
   "execution_count": 12,
   "id": "7dea1d55",
   "metadata": {},
   "outputs": [
    {
     "name": "stdout",
     "output_type": "stream",
     "text": [
      "underground\n"
     ]
    }
   ],
   "source": [
    "s_b = \"under\"\n",
    "s_e = \"ground\"\n",
    "S = s_b+s_e\n",
    "print(S)"
   ]
  },
  {
   "cell_type": "markdown",
   "id": "f541feab",
   "metadata": {},
   "source": [
    "重复"
   ]
  },
  {
   "cell_type": "code",
   "execution_count": 13,
   "id": "9478a7e7",
   "metadata": {},
   "outputs": [
    {
     "name": "stdout",
     "output_type": "stream",
     "text": [
      "underground underground underground \n"
     ]
    }
   ],
   "source": [
    "SSS =  (S + ' ') * 3\n",
    "print(SSS)"
   ]
  },
  {
   "cell_type": "markdown",
   "id": "1ec919ac",
   "metadata": {},
   "source": [
    "取字符"
   ]
  },
  {
   "cell_type": "code",
   "execution_count": 14,
   "id": "bec7da8d",
   "metadata": {},
   "outputs": [
    {
     "name": "stdout",
     "output_type": "stream",
     "text": [
      "The first character of underground is u\n",
      "The lastest character of underground is d\n"
     ]
    }
   ],
   "source": [
    "print (f'The first character of {S} is {S[0]}')\n",
    "print (f'The lastest character of {S} is {S[-1]}')"
   ]
  },
  {
   "cell_type": "markdown",
   "id": "26f43cdd",
   "metadata": {},
   "source": [
    "取子串(切片)"
   ]
  },
  {
   "cell_type": "code",
   "execution_count": 15,
   "id": "d13d83f6",
   "metadata": {},
   "outputs": [
    {
     "name": "stdout",
     "output_type": "stream",
     "text": [
      "The first 5 characters of underground are under\n",
      "The lastest 5 characters of underground are ground\n"
     ]
    }
   ],
   "source": [
    "print (f'The first 5 characters of {S} are {S[:5]}')\n",
    "print (f'The lastest 5 characters of {S} are {S[-6:]}')"
   ]
  },
  {
   "cell_type": "code",
   "execution_count": 16,
   "id": "cc549695",
   "metadata": {},
   "outputs": [
    {
     "name": "stdout",
     "output_type": "stream",
     "text": [
      "Your given name is Xiaojun and family name is Li\n"
     ]
    }
   ],
   "source": [
    "import re \n",
    "\n",
    "name = \"Xiaojun Li\"\n",
    "\n",
    "pattern = re.compile('\\w+')\n",
    "S =re.findall(pattern, name)\n",
    "\n",
    "print (f'Your given name is {S[0]} and family name is {S[1]}')"
   ]
  },
  {
   "cell_type": "markdown",
   "id": "e701811e",
   "metadata": {},
   "source": [
    "## 列表 "
   ]
  },
  {
   "cell_type": "code",
   "execution_count": 17,
   "id": "88518aed",
   "metadata": {},
   "outputs": [
    {
     "data": {
      "text/plain": [
       "[90, 85, 88, 70, 99, 87, 78, 50]"
      ]
     },
     "execution_count": 17,
     "metadata": {},
     "output_type": "execute_result"
    }
   ],
   "source": [
    "l1 = [90, 85, 88,70]\n",
    "l2 =  [99, 87, 78,50]\n",
    "l = l1 + l2\n",
    "l"
   ]
  },
  {
   "cell_type": "markdown",
   "id": "09492bbf",
   "metadata": {},
   "source": [
    "元素可变"
   ]
  },
  {
   "cell_type": "code",
   "execution_count": 18,
   "id": "dc21bc91",
   "metadata": {},
   "outputs": [
    {
     "data": {
      "text/plain": [
       "[100, 85, 88, 70, 99, 87, 78, 50]"
      ]
     },
     "execution_count": 18,
     "metadata": {},
     "output_type": "execute_result"
    }
   ],
   "source": [
    "l[0] = 100\n",
    "l"
   ]
  },
  {
   "cell_type": "markdown",
   "id": "7b6efbb7",
   "metadata": {},
   "source": [
    "元素可以是列表"
   ]
  },
  {
   "cell_type": "code",
   "execution_count": 19,
   "id": "6a74531a",
   "metadata": {},
   "outputs": [
    {
     "data": {
      "text/plain": [
       "[90, 85, 88, 70]"
      ]
     },
     "execution_count": 19,
     "metadata": {},
     "output_type": "execute_result"
    }
   ],
   "source": [
    "l = [l1, l2]\n",
    "l[0]"
   ]
  },
  {
   "cell_type": "markdown",
   "id": "76704652",
   "metadata": {},
   "source": [
    "## 第一个程序文件"
   ]
  },
  {
   "cell_type": "code",
   "execution_count": 20,
   "id": "fa3cb227",
   "metadata": {},
   "outputs": [
    {
     "name": "stdout",
     "output_type": "stream",
     "text": [
      "Writing demo.py\n"
     ]
    }
   ],
   "source": [
    "%%writefile demo.py \n",
    "# Fibonacci series:\n",
    "# the sum of two elements defines the next\n",
    "a, b = 0, 1\n",
    "while a < 10:\n",
    "     print(a)\n",
    "     a, b = b, a + b"
   ]
  },
  {
   "cell_type": "code",
   "execution_count": 21,
   "id": "56457ea8",
   "metadata": {},
   "outputs": [
    {
     "name": "stdout",
     "output_type": "stream",
     "text": [
      "# Fibonacci series:\r\n",
      "# the sum of two elements defines the next\r\n",
      "a, b = 0, 1\r\n",
      "while a < 10:\r\n",
      "     print(a)\r\n",
      "     a, b = b, a + b\r\n"
     ]
    }
   ],
   "source": [
    "cat demo.py"
   ]
  },
  {
   "cell_type": "code",
   "execution_count": 22,
   "id": "3146ca16",
   "metadata": {},
   "outputs": [],
   "source": [
    "!rm demo.py"
   ]
  }
 ],
 "metadata": {
  "kernelspec": {
   "display_name": "Python 3 (ipykernel)",
   "language": "python",
   "name": "python3"
  },
  "language_info": {
   "codemirror_mode": {
    "name": "ipython",
    "version": 3
   },
   "file_extension": ".py",
   "mimetype": "text/x-python",
   "name": "python",
   "nbconvert_exporter": "python",
   "pygments_lexer": "ipython3",
   "version": "3.9.12"
  },
  "toc": {
   "base_numbering": 1,
   "nav_menu": {},
   "number_sections": true,
   "sideBar": true,
   "skip_h1_title": true,
   "title_cell": "Table of Contents",
   "title_sidebar": "Contents",
   "toc_cell": false,
   "toc_position": {},
   "toc_section_display": true,
   "toc_window_display": true
  },
  "vscode": {
   "interpreter": {
    "hash": "4ac58c68a7555430f59ebde22571acf41a779f71ba338658c9667eabd9be8e0e"
   }
  }
 },
 "nbformat": 4,
 "nbformat_minor": 5
}
