{
 "cells": [
  {
   "cell_type": "markdown",
   "id": "73c72755",
   "metadata": {},
   "source": [
    "# Python 编辑器"
   ]
  },
  {
   "cell_type": "markdown",
   "id": "643ded82",
   "metadata": {},
   "source": [
    "常用于缩写python程序的环境有:\n",
    "- PyCharm\n",
    "- Visual Studio Code\n",
    "- Vim\n",
    "- Spyder\n",
    "- Jupyter notebooks"
   ]
  },
  {
   "cell_type": "markdown",
   "id": "6ab06272",
   "metadata": {},
   "source": [
    "## Jupyter notebooks"
   ]
  },
  {
   "cell_type": "markdown",
   "id": "95150035",
   "metadata": {},
   "source": [
    "### 介绍"
   ]
  },
  {
   "cell_type": "markdown",
   "id": "4756e9ca",
   "metadata": {},
   "source": [
    "Jupyter Notebooks 是一款开源编辑器，可以在其中编写你的代码、运行代码、查看输出、可视化数据并查看结果，是一款可执行端到端的数据科学工作流程的便捷工具，适合于数据清理、统计建模、构建和训练机器学习模型、可视化数据等等\n",
    "\n",
    "基于web的在线编辑器\n",
    "- 交互\n",
    "- `.ipynb`文件分享\n",
    "- 支持`markdown`和代码两种`cells`\n",
    "- 多种导出方式"
   ]
  },
  {
   "cell_type": "markdown",
   "id": "88bad6f7",
   "metadata": {},
   "source": [
    "###  安装 Jupyter notebooks"
   ]
  },
  {
   "cell_type": "code",
   "execution_count": null,
   "id": "45f1fcfe",
   "metadata": {},
   "outputs": [],
   "source": [
    "! conda install jupyter notebooks"
   ]
  },
  {
   "cell_type": "markdown",
   "id": "69d6b210",
   "metadata": {},
   "source": [
    "### 安装插件"
   ]
  },
  {
   "cell_type": "code",
   "execution_count": null,
   "id": "6a38355f",
   "metadata": {
    "scrolled": false
   },
   "outputs": [],
   "source": [
    "!conda install jupyter_contrib_nbextensions"
   ]
  },
  {
   "cell_type": "markdown",
   "id": "9b989630",
   "metadata": {},
   "source": [
    "### 使用 Jupyter notebooks"
   ]
  },
  {
   "cell_type": "markdown",
   "id": "b5c5d2d7",
   "metadata": {},
   "source": [
    "#### 进入Jupyter notebooks界面"
   ]
  },
  {
   "cell_type": "code",
   "execution_count": null,
   "id": "5df385df",
   "metadata": {},
   "outputs": [],
   "source": [
    " $ Jupyter notebooks"
   ]
  },
  {
   "cell_type": "markdown",
   "id": "5785cefb",
   "metadata": {},
   "source": [
    "Jupyter Notebooks 就会在你的默认网络浏览器打开，地址是：\n",
    "\n",
    "http://localhost:8888/tree"
   ]
  },
  {
   "cell_type": "markdown",
   "id": "86618dda",
   "metadata": {},
   "source": [
    "#### 内核和单元"
   ]
  },
  {
   "cell_type": "markdown",
   "id": "df829f5e",
   "metadata": {},
   "source": [
    "- `内核` 是一个计算引擎，可以安装不同的内核, 比如 `Python`、`R`、`Julia` 和 `JavaScript`\n",
    "- `单元`(cell) Notebook的主体是由大量`代码cell`和`Markdown cell`构成的"
   ]
  },
  {
   "cell_type": "markdown",
   "id": "8af0149f",
   "metadata": {},
   "source": [
    "#### 常用快捷 "
   ]
  },
  {
   "cell_type": "markdown",
   "id": "747e93c4",
   "metadata": {},
   "source": [
    "按 `H`查找快捷方式\n",
    "- `Ctrl+Enter` -->运行当前cell\n",
    "- `Option+Enter` -->运行当前cell， 并在下面新建一个cell\n",
    "- `A/B` -->新建一个cell\n",
    "- `DD` -->删除当前cell\n",
    "- `Y` -->变成代码cell\n",
    "- `M` -->变成Markdown cell\n",
    "- `Ctrl+Shift+-` -->分割当前cell\n",
    "- `Shift +↑/↓` -->选择多个cell。\n",
    "- `Shift + M` -->合并选定的多个cell\n",
    "- `1/2/3/4/5/6` -->指定标题的层级"
   ]
  },
  {
   "cell_type": "markdown",
   "id": "4e95450f",
   "metadata": {},
   "source": [
    "#### 幻灯片  "
   ]
  },
  {
   "cell_type": "markdown",
   "id": "6b07e711",
   "metadata": {},
   "source": [
    "- 在`notebook`中，通过工具栏导航到 View → Cell Toolbar → Slideshow"
   ]
  },
  {
   "cell_type": "markdown",
   "id": "5428e761",
   "metadata": {},
   "source": [
    "##### 安装插件 `RISE`"
   ]
  },
  {
   "cell_type": "code",
   "execution_count": null,
   "id": "e0b2e0d3",
   "metadata": {},
   "outputs": [],
   "source": [
    "! conda install RISE"
   ]
  },
  {
   "cell_type": "code",
   "execution_count": null,
   "id": "c28632e3",
   "metadata": {},
   "outputs": [],
   "source": [
    "! jupyter-nbextension install rise --py --sys-prefix"
   ]
  },
  {
   "cell_type": "code",
   "execution_count": null,
   "id": "aca122fb",
   "metadata": {},
   "outputs": [],
   "source": [
    "! jupyter-nbextension enable rise --py --sys-prefix"
   ]
  },
  {
   "cell_type": "markdown",
   "id": "3b9f78b5",
   "metadata": {},
   "source": [
    "##### 导出 `html`及`PDF` "
   ]
  },
  {
   "cell_type": "markdown",
   "id": "7ae1d439",
   "metadata": {},
   "source": [
    "\n",
    "1. Generate the slides and serve them using nbconvert:\n",
    "\n",
    "    `jupyter nbconvert --to slides your_talk.ipynb --post serve`\n",
    "\n",
    "    It opens up a webpage in the browser at http://127.0.0.1:8000/your_talk.slides.html#/\n",
    "    \n",
    "\n",
    "1. Add ``?print-pdf`` to the query string as http://127.0.0.1:8000/your_talk.slides.html?print-pdf\n",
    "\n",
    "    Note that you need to remove the ``#`` at the end. The page will render the slides vertically.\n",
    "    \n",
    "\n",
    "1. Save to PDF in Chrome using the print option\n",
    "\n",
    "  + Open the in-browser print dialog (Cmd/Ctrl + P).\n",
    "  + Change the Destination setting to Save as PDF.\n",
    "  + Change the Layout to Landscape.\n",
    "  + Change the Margins to None.\n",
    "  + Enable the Background graphics option.\n",
    "  + Click Save.\n",
    "\n",
    "The last step can also be done from the command line:\n",
    "\n",
    "`google-chrome --headless --print-to-pdf=your_talk.pdf http://127.0.0.1:8000/your_talk.slides.html?print-pdf`"
   ]
  },
  {
   "cell_type": "markdown",
   "id": "e30bc70f",
   "metadata": {},
   "source": [
    "**Further Reading**\n",
    "\n",
    "https://github.com/jupyter/jupyter/wiki/A-gallery-of-interesting-Jupyter-Notebooks"
   ]
  },
  {
   "cell_type": "markdown",
   "id": "45527077",
   "metadata": {},
   "source": [
    "## VScode"
   ]
  }
 ],
 "metadata": {
  "kernelspec": {
   "display_name": "Python 3 (ipykernel)",
   "language": "python",
   "name": "python3"
  },
  "language_info": {
   "codemirror_mode": {
    "name": "ipython",
    "version": 3
   },
   "file_extension": ".py",
   "mimetype": "text/x-python",
   "name": "python",
   "nbconvert_exporter": "python",
   "pygments_lexer": "ipython3",
   "version": "3.9.12"
  },
  "toc": {
   "base_numbering": 1,
   "nav_menu": {},
   "number_sections": true,
   "sideBar": true,
   "skip_h1_title": true,
   "title_cell": "Table of Contents",
   "title_sidebar": "Contents",
   "toc_cell": false,
   "toc_position": {},
   "toc_section_display": true,
   "toc_window_display": true
  },
  "vscode": {
   "interpreter": {
    "hash": "7e1998ff7f8aa20ada591c520b972326324e5ea05489af9e422744c7c09f6dad"
   }
  }
 },
 "nbformat": 4,
 "nbformat_minor": 5
}
