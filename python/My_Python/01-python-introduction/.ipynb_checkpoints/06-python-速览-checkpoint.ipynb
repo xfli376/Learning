{
 "cells": [
  {
   "cell_type": "markdown",
   "id": "b9ec44bf",
   "metadata": {},
   "source": [
    "# Python 速览"
   ]
  },
  {
   "cell_type": "markdown",
   "id": "6f076ae1",
   "metadata": {},
   "source": [
    "## 计算器"
   ]
  },
  {
   "cell_type": "markdown",
   "id": "0ab03ce7",
   "metadata": {},
   "source": [
    "整型数"
   ]
  },
  {
   "cell_type": "code",
   "execution_count": 7,
   "id": "bfaa64c5",
   "metadata": {},
   "outputs": [
    {
     "name": "stdout",
     "output_type": "stream",
     "text": [
      "5\n",
      "<class 'int'>\n"
     ]
    }
   ],
   "source": [
    "b = (50 - 5*6) // 4\n",
    "print(b)\n",
    "print(type(b))"
   ]
  },
  {
   "cell_type": "code",
   "execution_count": 10,
   "id": "b634293d",
   "metadata": {},
   "outputs": [
    {
     "data": {
      "text/plain": [
       "1"
      ]
     },
     "execution_count": 10,
     "metadata": {},
     "output_type": "execute_result"
    }
   ],
   "source": [
    "# 取余\n",
    "7%3"
   ]
  },
  {
   "cell_type": "markdown",
   "id": "8aad8af9",
   "metadata": {},
   "source": [
    "浮点数"
   ]
  },
  {
   "cell_type": "code",
   "execution_count": 8,
   "id": "bf8f9ac2",
   "metadata": {},
   "outputs": [
    {
     "name": "stdout",
     "output_type": "stream",
     "text": [
      "5.0\n",
      "<class 'float'>\n"
     ]
    }
   ],
   "source": [
    "a = (50 - 5*6) / 4\n",
    "print(a)\n",
    "print(type(a))"
   ]
  },
  {
   "cell_type": "markdown",
   "id": "b805d812",
   "metadata": {},
   "source": [
    "复数"
   ]
  },
  {
   "cell_type": "code",
   "execution_count": 2,
   "id": "c8133385",
   "metadata": {},
   "outputs": [
    {
     "name": "stdout",
     "output_type": "stream",
     "text": [
      "(2+2j)\n",
      "<class 'complex'>\n"
     ]
    }
   ],
   "source": [
    "a = 1\n",
    "b = complex(1, 2)\n",
    "c = a + b \n",
    "print(c) \n",
    "print(type(c))"
   ]
  },
  {
   "cell_type": "code",
   "execution_count": null,
   "id": "f366fc1d",
   "metadata": {},
   "outputs": [],
   "source": []
  }
 ],
 "metadata": {
  "kernelspec": {
   "display_name": "Python 3 (ipykernel)",
   "language": "python",
   "name": "python3"
  },
  "language_info": {
   "codemirror_mode": {
    "name": "ipython",
    "version": 3
   },
   "file_extension": ".py",
   "mimetype": "text/x-python",
   "name": "python",
   "nbconvert_exporter": "python",
   "pygments_lexer": "ipython3",
   "version": "3.9.12"
  },
  "toc": {
   "base_numbering": 1,
   "nav_menu": {},
   "number_sections": true,
   "sideBar": true,
   "skip_h1_title": true,
   "title_cell": "Table of Contents",
   "title_sidebar": "Contents",
   "toc_cell": false,
   "toc_position": {},
   "toc_section_display": true,
   "toc_window_display": true
  },
  "vscode": {
   "interpreter": {
    "hash": "4ac58c68a7555430f59ebde22571acf41a779f71ba338658c9667eabd9be8e0e"
   }
  }
 },
 "nbformat": 4,
 "nbformat_minor": 5
}
