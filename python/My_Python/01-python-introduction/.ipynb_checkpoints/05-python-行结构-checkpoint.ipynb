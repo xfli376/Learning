{
 "cells": [
  {
   "cell_type": "markdown",
   "id": "78673cad",
   "metadata": {},
   "source": [
    "# 行结构"
   ]
  },
  {
   "cell_type": "markdown",
   "id": "a2c0ee3a",
   "metadata": {},
   "source": [
    "首行, 分析器把程序文件分解成多个逻辑行, 如下:"
   ]
  },
  {
   "cell_type": "code",
   "execution_count": 1,
   "id": "e375a9e8",
   "metadata": {},
   "outputs": [
    {
     "ename": "NameError",
     "evalue": "name 'year' is not defined",
     "output_type": "error",
     "traceback": [
      "\u001b[0;31m---------------------------------------------------------------------------\u001b[0m",
      "\u001b[0;31mNameError\u001b[0m                                 Traceback (most recent call last)",
      "Cell \u001b[0;32mIn [1], line 11\u001b[0m\n\u001b[1;32m      1\u001b[0m \u001b[38;5;66;03m#!/usr/bin/env python\u001b[39;00m\n\u001b[1;32m      2\u001b[0m \u001b[38;5;66;03m# -*- coding: <encoding-name> -*-\u001b[39;00m\n\u001b[1;32m      4\u001b[0m \u001b[38;5;124;03m\"\"\"\u001b[39;00m\n\u001b[1;32m      5\u001b[0m \u001b[38;5;124;03m功能:XX\u001b[39;00m\n\u001b[1;32m      6\u001b[0m \u001b[38;5;124;03m作者:XX\u001b[39;00m\n\u001b[1;32m      7\u001b[0m \u001b[38;5;124;03m版本:XX\u001b[39;00m\n\u001b[1;32m      8\u001b[0m \u001b[38;5;124;03m日期:XX\u001b[39;00m\n\u001b[1;32m      9\u001b[0m \u001b[38;5;124;03m\"\"\"\u001b[39;00m\n\u001b[0;32m---> 11\u001b[0m \u001b[38;5;28;01mif\u001b[39;00m \u001b[38;5;241m1900\u001b[39m \u001b[38;5;241m<\u001b[39m \u001b[43myear\u001b[49m \u001b[38;5;241m<\u001b[39m \u001b[38;5;241m2100\u001b[39m \u001b[38;5;129;01mand\u001b[39;00m \u001b[38;5;241m1\u001b[39m \u001b[38;5;241m<\u001b[39m\u001b[38;5;241m=\u001b[39m month \u001b[38;5;241m<\u001b[39m\u001b[38;5;241m=\u001b[39m \u001b[38;5;241m12\u001b[39m \\\n\u001b[1;32m     12\u001b[0m    \u001b[38;5;129;01mand\u001b[39;00m \u001b[38;5;241m1\u001b[39m \u001b[38;5;241m<\u001b[39m\u001b[38;5;241m=\u001b[39m day \u001b[38;5;241m<\u001b[39m\u001b[38;5;241m=\u001b[39m \u001b[38;5;241m31\u001b[39m \u001b[38;5;129;01mand\u001b[39;00m \u001b[38;5;241m0\u001b[39m \u001b[38;5;241m<\u001b[39m\u001b[38;5;241m=\u001b[39m hour \u001b[38;5;241m<\u001b[39m \u001b[38;5;241m24\u001b[39m \\\n\u001b[1;32m     13\u001b[0m    \u001b[38;5;129;01mand\u001b[39;00m \u001b[38;5;241m0\u001b[39m \u001b[38;5;241m<\u001b[39m\u001b[38;5;241m=\u001b[39m minute \u001b[38;5;241m<\u001b[39m \u001b[38;5;241m60\u001b[39m \u001b[38;5;129;01mand\u001b[39;00m \u001b[38;5;241m0\u001b[39m \u001b[38;5;241m<\u001b[39m\u001b[38;5;241m=\u001b[39m second \u001b[38;5;241m<\u001b[39m \u001b[38;5;241m60\u001b[39m:   \u001b[38;5;66;03m# Looks like a valid date\u001b[39;00m\n\u001b[1;32m     14\u001b[0m         \u001b[38;5;28mprint\u001b[39m(\u001b[38;5;241m1\u001b[39m)\n\u001b[1;32m     16\u001b[0m month_names \u001b[38;5;241m=\u001b[39m [\u001b[38;5;124m'\u001b[39m\u001b[38;5;124mJanuari\u001b[39m\u001b[38;5;124m'\u001b[39m, \u001b[38;5;124m'\u001b[39m\u001b[38;5;124mFebruari\u001b[39m\u001b[38;5;124m'\u001b[39m, \u001b[38;5;124m'\u001b[39m\u001b[38;5;124mMaart\u001b[39m\u001b[38;5;124m'\u001b[39m,      \u001b[38;5;66;03m# These are the\u001b[39;00m\n\u001b[1;32m     17\u001b[0m                \u001b[38;5;124m'\u001b[39m\u001b[38;5;124mApril\u001b[39m\u001b[38;5;124m'\u001b[39m,   \u001b[38;5;124m'\u001b[39m\u001b[38;5;124mMei\u001b[39m\u001b[38;5;124m'\u001b[39m,      \u001b[38;5;124m'\u001b[39m\u001b[38;5;124mJuni\u001b[39m\u001b[38;5;124m'\u001b[39m,       \u001b[38;5;66;03m# Dutch names\u001b[39;00m\n\u001b[1;32m     18\u001b[0m                \u001b[38;5;124m'\u001b[39m\u001b[38;5;124mJuli\u001b[39m\u001b[38;5;124m'\u001b[39m,    \u001b[38;5;124m'\u001b[39m\u001b[38;5;124mAugustus\u001b[39m\u001b[38;5;124m'\u001b[39m, \u001b[38;5;124m'\u001b[39m\u001b[38;5;124mSeptember\u001b[39m\u001b[38;5;124m'\u001b[39m,  \u001b[38;5;66;03m# for the months\u001b[39;00m\n\u001b[1;32m     19\u001b[0m                \u001b[38;5;124m'\u001b[39m\u001b[38;5;124mOktober\u001b[39m\u001b[38;5;124m'\u001b[39m, \u001b[38;5;124m'\u001b[39m\u001b[38;5;124mNovember\u001b[39m\u001b[38;5;124m'\u001b[39m, \u001b[38;5;124m'\u001b[39m\u001b[38;5;124mDecember\u001b[39m\u001b[38;5;124m'\u001b[39m]\n",
      "\u001b[0;31mNameError\u001b[0m: name 'year' is not defined"
     ]
    }
   ],
   "source": [
    "#!/usr/bin/env python\n",
    "# -*- coding: <encoding-name> -*-\n",
    "\n",
    "\"\"\"\n",
    "功能:XX\n",
    "作者:XX\n",
    "版本:XX\n",
    "日期:XX\n",
    "\"\"\"\n",
    "\n",
    "if 1900 < year < 2100 and 1 <= month <= 12 \\\n",
    "   and 1 <= day <= 31 and 0 <= hour < 24 \\\n",
    "   and 0 <= minute < 60 and 0 <= second < 60:   # Looks like a valid date\n",
    "        print(1)\n",
    "\n",
    "month_names = ['Januari', 'Februari', 'Maart',      # These are the\n",
    "               'April',   'Mei',      'Juni',       # Dutch names\n",
    "               'Juli',    'Augustus', 'September',  # for the months\n",
    "               'Oktober', 'November', 'December']   # of the year"
   ]
  },
  {
   "cell_type": "markdown",
   "id": "80aec64f",
   "metadata": {},
   "source": [
    "## 逻辑行 "
   ]
  },
  {
   "cell_type": "markdown",
   "id": "a344b474",
   "metadata": {},
   "source": [
    "逻辑行由一个或多个物理行构成\n",
    "\n",
    "- 显式折行: 如果一个逻辑行太长,则可用反斜杠字符 (`\\`)进行折行 \n",
    "- 隐式折行: 圆括号、方括号或花括号以内的表达式可以写成多个物理行"
   ]
  },
  {
   "cell_type": "markdown",
   "id": "e7335598",
   "metadata": {},
   "source": [
    "## 注释行 "
   ]
  },
  {
   "cell_type": "markdown",
   "id": "ac4a4327",
   "metadata": {},
   "source": [
    "- 注释以井号 (#) 开头，并标志着逻辑行的结束\n",
    "  \n",
    "  例如 `# Looks like a valid date`\n",
    "\n",
    "- 如果出现在行拼接内, 则不标志逻辑行的结束\n",
    "  \n",
    "  例如 `# These are the ... `"
   ]
  },
  {
   "cell_type": "markdown",
   "id": "d7ee3ad5",
   "metadata": {},
   "source": [
    "### 编码声明"
   ]
  },
  {
   "cell_type": "markdown",
   "id": "0f6a9da0",
   "metadata": {},
   "source": [
    "如果注释行位于 Python 程序的第一或第二行，并且匹配正则表达式 `coding[=:]\\s*([-\\w.]+)`，则是编码声明\n",
    "\n",
    "编码声明必须独占一行。如果它是第二行，则第一行必须是注释\n",
    "\n",
    "例如:  `# -*- coding: <encoding-name> -*- `\n",
    "\n",
    "`coding` : 匹配 `coding`\n",
    "\n",
    "`[=:]`: `coding`后匹配一个`=`号或`:`\n",
    "\n",
    "`\\s*`: 匹配数个空白\n",
    "\n",
    "`([-\\w.]+)`: 匹配的第一个字符可以是`-` 或`字符`或`任意符`,重复多次"
   ]
  },
  {
   "cell_type": "markdown",
   "id": "e669d302",
   "metadata": {},
   "source": [
    "## 缩进"
   ]
  },
  {
   "cell_type": "markdown",
   "id": "7dd87774",
   "metadata": {},
   "source": [
    "- 空白 (制表符) 的数目被用来计算该逻辑行的缩进等级\n",
    "- 相同缩进等级的逻辑行属于同一个段落(程序块)。\n",
    "- 混合使用制表符和空格符进行缩进, 可能引发 TabError"
   ]
  },
  {
   "cell_type": "code",
   "execution_count": null,
   "id": "06faeaaa",
   "metadata": {},
   "outputs": [],
   "source": [
    "def perm(l):\n",
    "        # Compute the list of all permutations of l\n",
    "    if len(l) <= 1:\n",
    "        return [l]\n",
    "    r = []\n",
    "    for i in range(len(l)):\n",
    "        s = l[:i] + l[i+1:]\n",
    "        p = perm(s)\n",
    "        for x in p:\n",
    "            r.append(l[i:i+1] + x)\n",
    "    return r"
   ]
  },
  {
   "cell_type": "markdown",
   "id": "95250081",
   "metadata": {},
   "source": [
    "## 形符"
   ]
  },
  {
   "cell_type": "markdown",
   "id": "967ade32",
   "metadata": {},
   "source": [
    "形符是语句行的构成单元\n",
    "- 一个物理行由一个或多个形符构成\n",
    "- 空白符用来分隔形符\n",
    "  \n",
    "例如: `for x in p:` 内含4个形符."
   ]
  },
  {
   "cell_type": "markdown",
   "id": "84199aec",
   "metadata": {},
   "source": [
    "形符的种类"
   ]
  },
  {
   "cell_type": "markdown",
   "id": "a0ac5703",
   "metadata": {},
   "source": [
    "- 标识符\n",
    "- 关键字\n",
    "- 字面值\n",
    "- 运算符\n",
    "- 分隔符"
   ]
  },
  {
   "cell_type": "markdown",
   "id": "24c5f2c7",
   "metadata": {},
   "source": [
    "### 标识符\n",
    "也称为名称, 如:变量名, 函数名, 对象名和类名等\n",
    "\n",
    "命名规则: \n",
    "- 由字母数字的下划线构成, 但不可以用数字打头"
   ]
  },
  {
   "cell_type": "markdown",
   "id": "7cf9a704",
   "metadata": {},
   "source": [
    "### 关键字\n",
    "也称保留字, 具有特别的意义, 不能用来做标识符"
   ]
  },
  {
   "cell_type": "markdown",
   "id": "dd42a5df",
   "metadata": {},
   "source": [
    "<table>\n",
    "  <tr>\n",
    "    <td>False</td>\n",
    "    <td>await</td>\n",
    "    <td>else</td>\n",
    "    <td>import</td>\n",
    "    <td>pass</td>\n",
    "  </tr>\n",
    "  <tr>\n",
    "    <td>None</td>\n",
    "    <td>break</td>\n",
    "    <td>except</td>\n",
    "    <td>in</td>\n",
    "    <td>raise</td>\n",
    "  </tr>\n",
    "  <tr>\n",
    "    <td>True</td>\n",
    "    <td>class</td>\n",
    "    <td>finally</td>\n",
    "    <td>is</td>\n",
    "    <td>return</td>\n",
    "  </tr>\n",
    "  <tr>\n",
    "    <td>and</td>\n",
    "    <td>continue</td>\n",
    "    <td>for </td>\n",
    "    <td>lambda </td>\n",
    "    <td>try </td>\n",
    "  </tr>\n",
    "  <tr>\n",
    "    <td>as</td>\n",
    "    <td>def</td>\n",
    "    <td>from</td>\n",
    "    <td>nonlocal </td>\n",
    "    <td>while </td>\n",
    "  </tr>\n",
    "  <tr>\n",
    "    <td>assert</td>\n",
    "    <td>del</td>\n",
    "    <td>global</td>\n",
    "    <td>not</td>\n",
    "    <td>with </td>\n",
    "  </tr>\n",
    "  <tr>\n",
    "    <td>async</td>\n",
    "    <td>elif</td>\n",
    "    <td>if </td>\n",
    "    <td>or </td>\n",
    "    <td>yield </td>\n",
    "  </tr>\n",
    "</table>"
   ]
  },
  {
   "cell_type": "markdown",
   "id": "9490cf3f",
   "metadata": {},
   "source": [
    "### 字面值\n",
    "\n",
    "字面值用于表示一些内置类型的常量, 分为整数,浮点数,复数,字符串等见符知意的字母\n",
    "\n",
    "- 单引号 (`’abc‘`)对 和双引号 (`“abc”`)表示里面是字符串类(`str`)\n",
    "- 三引号字符串 '''abc''', \"\"\" abc \"\"\"\n",
    "- 反斜杠 (`\\`) 对特殊含义的字符进行转义 : `\\n` 表示换行\n",
    "- 前缀 'b' 或 'B' 表示生成 bytes 类型而非 str 类型 \n",
    "- 前缀 'r' 或 'R' 表示是原始字符串, 其中的反斜杠可能不是转义\n",
    "- 前缀 'f' 或 'F' 格式化字符串字面值\n",
    "- 复数 1+2j"
   ]
  },
  {
   "cell_type": "markdown",
   "id": "f28fbef5",
   "metadata": {},
   "source": [
    "### 转义序列"
   ]
  },
  {
   "cell_type": "markdown",
   "id": "1394d185",
   "metadata": {},
   "source": [
    "<table>\n",
    "  <tr>\n",
    "    <th>转义序列</th>\n",
    "    <th>含义</th>\n",
    "  </tr>\n",
    "  <tr>\n",
    "    <td>\\newline</td>\n",
    "    <td>反斜杠加换行全被忽略</td>\n",
    "  </tr>\n",
    "  <tr>\n",
    "    <td>\\\\</td>\n",
    "    <td>反斜杠 (\\)</td>\n",
    "  </tr>\n",
    "  <tr>\n",
    "    <td>\\'</td>\n",
    "    <td>单引号 (')</td>\n",
    "  </tr>\n",
    "  <tr>\n",
    "    <td>\\a</td>\n",
    "    <td>ASCII 响铃 (BEL)</td>\n",
    "  </tr>\n",
    "  <tr>\n",
    "    <td>\\b</td>\n",
    "    <td>ASCII 退格 (BS)</td>\n",
    "  </tr>\n",
    "  <tr>\n",
    "    <td>\\f</td>\n",
    "    <td>ASCII 进纸 (FF)</td>\n",
    "  </tr>\n",
    "  <tr>\n",
    "    <td>\\n</td>\n",
    "    <td>ASCII 换行 (LF)</td>\n",
    "  </tr>\n",
    "  <tr>\n",
    "    <td>\\r</td>\n",
    "    <td>ASCII 回车 (CR)</td>\n",
    "  </tr>\n",
    "  <tr>\n",
    "    <td>\\t</td>\n",
    "    <td>ASCII 水平制表 (TAB)</td>\n",
    "  </tr>\n",
    "  <tr>\n",
    "    <td>\\v</td>\n",
    "    <td>ASCII 垂直制表 (VT)</td>\n",
    "  </tr>\n",
    "  <tr>\n",
    "    <td>\\ooo</td>\n",
    "    <td>八进制数 ooo 码位的字符</td>\n",
    "  </tr>\n",
    "  <tr>\n",
    "    <td>\\xhh</td>\n",
    "    <td>十六进制数 hh 码位的字符</td>\n",
    "  </tr>\n",
    "  <tr>\n",
    "    <td>\\N{name}</td>\n",
    "    <td>Unicode 数据库中名称为 name 的字符</td>\n",
    "  </tr>\n",
    "  <tr>\n",
    "    <td>\\uxxxx</td>\n",
    "    <td>16位十六进制数 xxxx 码位的字符</td>\n",
    "  </tr>\n",
    "  <tr>\n",
    "    <td>\\Uxxxxxxxx</td>\n",
    "    <td>32位16进制数 xxxxxxxx 码位的字符</td>\n",
    "  </tr>\n",
    "</table>"
   ]
  },
  {
   "cell_type": "markdown",
   "id": "8d7fa105",
   "metadata": {},
   "source": [
    "### 运算符"
   ]
  },
  {
   "cell_type": "markdown",
   "id": "a027905d",
   "metadata": {},
   "source": [
    "进行数值和逻辑运算的符号\n",
    "<table>\n",
    "  <tr>\n",
    "    <td>+</td>\n",
    "    <td>-</td>\n",
    "    <td>*</td>\n",
    "    <td>/</td>\n",
    "    <td>//</td>\n",
    "    <td>**</td>\n",
    "    <td>%</td>\n",
    "    <td>@</td>\n",
    "  </tr>\n",
    "  <tr>\n",
    "    <td><<</td>\n",
    "    <td>>> </td>\n",
    "    <td>&</td>\n",
    "    <td>|</td>\n",
    "    <td>^</td>\n",
    "    <td>~</td>\n",
    "    <td>:=</td>\n",
    "  </tr>\n",
    "  <tr>\n",
    "    <td><</td>\n",
    "    <td>></td>\n",
    "    <td><=</td>\n",
    "    <td>>=</td>\n",
    "    <td>==</td>\n",
    "    <td>!=</td>\n",
    "  </tr>\n",
    "</table>"
   ]
  },
  {
   "cell_type": "markdown",
   "id": "ed3d2229",
   "metadata": {},
   "source": [
    "### 分隔符"
   ]
  },
  {
   "cell_type": "markdown",
   "id": "44256b71",
   "metadata": {},
   "source": [
    "<table>\n",
    "  <tr>\n",
    "    <td>(</td>\n",
    "    <td>)</td>\n",
    "    <td>[</td>\n",
    "    <td>]</td>\n",
    "    <td>{</td>\n",
    "    <td>}</td>\n",
    "  </tr>\n",
    "  <tr>\n",
    "    <td>'</td>\n",
    "    <td>: </td>\n",
    "    <td>.</td>\n",
    "    <td>;</td>\n",
    "    <td>@</td>\n",
    "    <td>=</td>\n",
    "    <td>-></td>\n",
    "  </tr>\n",
    "  <tr>\n",
    "    <td>+=</td>\n",
    "    <td>-=</td>\n",
    "    <td>*=</td>\n",
    "    <td>/=</td>\n",
    "    <td>//=</td>\n",
    "    <td>%=</td>\n",
    "    <td>@=</td>\n",
    "  </tr>\n",
    "  <tr>\n",
    "    <td>&=</td>\n",
    "    <td>|=</td>\n",
    "    <td>^=</td>\n",
    "    <td>>>=</td>\n",
    "    <td><<=</td>\n",
    "    <td>**=</td>\n",
    "  </tr>\n",
    "</table>"
   ]
  }
 ],
 "metadata": {
  "kernelspec": {
   "display_name": "Python 3 (ipykernel)",
   "language": "python",
   "name": "python3"
  },
  "language_info": {
   "codemirror_mode": {
    "name": "ipython",
    "version": 3
   },
   "file_extension": ".py",
   "mimetype": "text/x-python",
   "name": "python",
   "nbconvert_exporter": "python",
   "pygments_lexer": "ipython3",
   "version": "3.9.12"
  },
  "toc": {
   "base_numbering": 1,
   "nav_menu": {},
   "number_sections": true,
   "sideBar": true,
   "skip_h1_title": true,
   "title_cell": "Table of Contents",
   "title_sidebar": "Contents",
   "toc_cell": false,
   "toc_position": {},
   "toc_section_display": true,
   "toc_window_display": true
  },
  "vscode": {
   "interpreter": {
    "hash": "4ac58c68a7555430f59ebde22571acf41a779f71ba338658c9667eabd9be8e0e"
   }
  }
 },
 "nbformat": 4,
 "nbformat_minor": 5
}
