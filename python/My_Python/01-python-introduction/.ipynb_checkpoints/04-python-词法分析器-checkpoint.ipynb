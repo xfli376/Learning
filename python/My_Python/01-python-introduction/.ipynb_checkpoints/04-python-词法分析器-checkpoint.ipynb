{
 "cells": [
  {
   "cell_type": "markdown",
   "id": "78673cad",
   "metadata": {},
   "source": [
    "# 词法分析"
   ]
  },
  {
   "cell_type": "markdown",
   "id": "a2c0ee3a",
   "metadata": {},
   "source": [
    "Python 源文件是文本文件(`.py`).\n",
    "\n",
    "文本编码: 默认是UTF-8, 也可由编码声明指定\n",
    "\n",
    "Python 会将程序文本解码成一个个的`Unicode` 码点, 解码不成功, 则引发 SyntaxError.\n",
    "\n",
    "词法分析器的功能变是把文件拆分为一个个的形符, 并进行解码。"
   ]
  }
 ],
 "metadata": {
  "kernelspec": {
   "display_name": "Python 3 (ipykernel)",
   "language": "python",
   "name": "python3"
  },
  "language_info": {
   "codemirror_mode": {
    "name": "ipython",
    "version": 3
   },
   "file_extension": ".py",
   "mimetype": "text/x-python",
   "name": "python",
   "nbconvert_exporter": "python",
   "pygments_lexer": "ipython3",
   "version": "3.9.12"
  },
  "toc": {
   "base_numbering": 1,
   "nav_menu": {},
   "number_sections": true,
   "sideBar": true,
   "skip_h1_title": true,
   "title_cell": "Table of Contents",
   "title_sidebar": "Contents",
   "toc_cell": false,
   "toc_position": {},
   "toc_section_display": true,
   "toc_window_display": true
  },
  "vscode": {
   "interpreter": {
    "hash": "4ac58c68a7555430f59ebde22571acf41a779f71ba338658c9667eabd9be8e0e"
   }
  }
 },
 "nbformat": 4,
 "nbformat_minor": 5
}
