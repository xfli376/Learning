{
 "cells": [
  {
   "cell_type": "markdown",
   "id": "45a61b4a",
   "metadata": {},
   "source": [
    "# Python 简介"
   ]
  },
  {
   "cell_type": "markdown",
   "id": "b8f508e0",
   "metadata": {},
   "source": [
    "Python是由荷兰数学和计算机科学研究学会的吉多·范罗苏姆于1990年代初设计的一种解释型计算机编程语言"
   ]
  },
  {
   "cell_type": "markdown",
   "id": "dff0e478",
   "metadata": {},
   "source": [
    "## 特点"
   ]
  },
  {
   "cell_type": "markdown",
   "id": "ebf6775b",
   "metadata": {},
   "source": [
    "- 开源协议, 社区活跃，贡献者多，互帮互助\n",
    "- 简单易学、明确优雅、开发速度快\n",
    "- 跨平台、可移植、可扩展、交互式、解释型、面向对象的动态语言\n",
    "- 完善的标准库和大量的第三方库"
   ]
  },
  {
   "cell_type": "markdown",
   "id": "070107be",
   "metadata": {},
   "source": [
    "## 应用领域"
   ]
  },
  {
   "cell_type": "markdown",
   "id": "8f6e3830",
   "metadata": {},
   "source": [
    "- 常规软件开发\n",
    "- 科学计算\n",
    "- 自动化运维\n",
    "- 云计算\n",
    "- WEB开发\n",
    "- 网络爬虫\n",
    "- 数据分析\n",
    "- 人工智能"
   ]
  },
  {
   "cell_type": "markdown",
   "id": "f83fa917",
   "metadata": {},
   "source": [
    "## 安装与第三方库管理"
   ]
  },
  {
   "cell_type": "markdown",
   "id": "678f4480",
   "metadata": {},
   "source": [
    "```shell\n",
    "brew install python3\n",
    "brew install miniconda\n",
    "conda install `第三方库名`\n",
    "```"
   ]
  },
  {
   "cell_type": "markdown",
   "id": "11b54d4f",
   "metadata": {},
   "source": [
    "## 第一行代码"
   ]
  },
  {
   "cell_type": "code",
   "execution_count": 1,
   "id": "9eecea14",
   "metadata": {},
   "outputs": [
    {
     "name": "stdout",
     "output_type": "stream",
     "text": [
      "Hello world !\n"
     ]
    }
   ],
   "source": [
    "print(\"Hello world !\")"
   ]
  },
  {
   "cell_type": "code",
   "execution_count": 2,
   "id": "1f02be80",
   "metadata": {},
   "outputs": [
    {
     "name": "stdout",
     "output_type": "stream",
     "text": [
      "Help on built-in function print in module builtins:\n",
      "\n",
      "print(...)\n",
      "    print(value, ..., sep=' ', end='\\n', file=sys.stdout, flush=False)\n",
      "    \n",
      "    Prints the values to a stream, or to sys.stdout by default.\n",
      "    Optional keyword arguments:\n",
      "    file:  a file-like object (stream); defaults to the current sys.stdout.\n",
      "    sep:   string inserted between values, default a space.\n",
      "    end:   string appended after the last value, default a newline.\n",
      "    flush: whether to forcibly flush the stream.\n",
      "\n"
     ]
    }
   ],
   "source": [
    "help(print)"
   ]
  },
  {
   "cell_type": "markdown",
   "id": "7ba38be2",
   "metadata": {},
   "source": [
    "> The life is short, we use python"
   ]
  }
 ],
 "metadata": {
  "kernelspec": {
   "display_name": "Python 3.10.3 64-bit",
   "language": "python",
   "name": "python3"
  },
  "language_info": {
   "codemirror_mode": {
    "name": "ipython",
    "version": 3
   },
   "file_extension": ".py",
   "mimetype": "text/x-python",
   "name": "python",
   "nbconvert_exporter": "python",
   "pygments_lexer": "ipython3",
   "version": "3.10.3"
  },
  "toc": {
   "base_numbering": 1,
   "nav_menu": {},
   "number_sections": true,
   "sideBar": true,
   "skip_h1_title": true,
   "title_cell": "Table of Contents",
   "title_sidebar": "Contents",
   "toc_cell": false,
   "toc_position": {},
   "toc_section_display": true,
   "toc_window_display": true
  },
  "vscode": {
   "interpreter": {
    "hash": "7e1998ff7f8aa20ada591c520b972326324e5ea05489af9e422744c7c09f6dad"
   }
  }
 },
 "nbformat": 4,
 "nbformat_minor": 5
}
