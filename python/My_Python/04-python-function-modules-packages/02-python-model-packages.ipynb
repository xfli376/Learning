{
 "cells": [
  {
   "cell_type": "markdown",
   "id": "1e042c23",
   "metadata": {},
   "source": [
    "# 模块和包"
   ]
  },
  {
   "cell_type": "markdown",
   "id": "fedf42b0",
   "metadata": {},
   "source": [
    "## 模块"
   ]
  },
  {
   "cell_type": "markdown",
   "id": "7b011c54",
   "metadata": {},
   "source": [
    "Python将所有 `.py` 文件认定为源代码文件，也称为模块"
   ]
  },
  {
   "cell_type": "code",
   "execution_count": 15,
   "id": "98c0af9a",
   "metadata": {},
   "outputs": [
    {
     "name": "stdout",
     "output_type": "stream",
     "text": [
      "Overwriting ex1.py\n"
     ]
    }
   ],
   "source": [
    "%%writefile ex1.py\n",
    "\n",
    "PI = 3.1416\n",
    "\n",
    "def my_add(x, *args):\n",
    "    for value in args:\n",
    "        x += value\n",
    "    return x\n",
    "\n",
    "print(PI)"
   ]
  },
  {
   "cell_type": "markdown",
   "id": "e0df12e6",
   "metadata": {},
   "source": [
    "### 模块的使用"
   ]
  },
  {
   "cell_type": "markdown",
   "id": "5191206b",
   "metadata": {},
   "source": [
    "源代码文件, 可以被直接运行"
   ]
  },
  {
   "cell_type": "code",
   "execution_count": 3,
   "id": "85ecfcaa",
   "metadata": {},
   "outputs": [
    {
     "name": "stdout",
     "output_type": "stream",
     "text": [
      "3.1416\n"
     ]
    }
   ],
   "source": [
    "%run ex1.py"
   ]
  },
  {
   "cell_type": "markdown",
   "id": "4bce1dc7",
   "metadata": {},
   "source": [
    "也可以当成模块，经由`import`关键词导入并执行："
   ]
  },
  {
   "cell_type": "code",
   "execution_count": 4,
   "id": "af75c5ba",
   "metadata": {},
   "outputs": [],
   "source": [
    "import ex1"
   ]
  },
  {
   "cell_type": "markdown",
   "id": "bc0f956c",
   "metadata": {},
   "source": [
    "导入时，**Python**会执行一遍模块中的所有内容。"
   ]
  },
  {
   "cell_type": "markdown",
   "id": "f5ea5ba6",
   "metadata": {},
   "source": [
    "比如: 调用`ex1.py`里定义的变量 `PI`"
   ]
  },
  {
   "cell_type": "code",
   "execution_count": 5,
   "id": "67e4cb0e",
   "metadata": {},
   "outputs": [
    {
     "data": {
      "text/plain": [
       "3.1416"
      ]
     },
     "execution_count": 5,
     "metadata": {},
     "output_type": "execute_result"
    }
   ],
   "source": [
    "ex1.PI"
   ]
  },
  {
   "cell_type": "markdown",
   "id": "85ca2f35",
   "metadata": {},
   "source": [
    "改变 `PI`的值"
   ]
  },
  {
   "cell_type": "code",
   "execution_count": 6,
   "id": "adb058f1",
   "metadata": {},
   "outputs": [
    {
     "name": "stdout",
     "output_type": "stream",
     "text": [
      "3.14159265\n"
     ]
    }
   ],
   "source": [
    "ex1.PI = 3.14159265\n",
    "print(ex1.PI)"
   ]
  },
  {
   "cell_type": "markdown",
   "id": "d3769ace",
   "metadata": {},
   "source": [
    "调用`ex1.py`里定义的函数 `my_add`"
   ]
  },
  {
   "cell_type": "code",
   "execution_count": 7,
   "id": "b4f2c153",
   "metadata": {},
   "outputs": [
    {
     "data": {
      "text/plain": [
       "6"
      ]
     },
     "execution_count": 7,
     "metadata": {},
     "output_type": "execute_result"
    }
   ],
   "source": [
    "ex1.my_add(1,2,3)"
   ]
  },
  {
   "cell_type": "markdown",
   "id": "a1098917",
   "metadata": {},
   "source": [
    "为了提高效率，**Python**只会载入模块一次，已经载入的模块再次载入时，Python并不会真正执行载入操作，哪怕模块的内容已经改变。\n",
    "\n",
    "例如，这里重新导入 `ex1` 时，并不会执行`print` 语句, 也不会还原`PI`的值："
   ]
  },
  {
   "cell_type": "code",
   "execution_count": 8,
   "id": "411670a3",
   "metadata": {
    "collapsed": true
   },
   "outputs": [],
   "source": [
    "import ex1"
   ]
  },
  {
   "cell_type": "markdown",
   "id": "a8780119",
   "metadata": {},
   "source": [
    "所以，希望重新导入模块时，得使用`reload`强制重新载入它，\n",
    "\n",
    "在 `Python2.x` 版本中 `reload()` 是内置函数，在 `Python2.x ~ Python3.3` 版本移到 `imp` 包中，`Python3.4` 之后到版本移到了 `importlib` 包中。"
   ]
  },
  {
   "cell_type": "code",
   "execution_count": 9,
   "id": "71b9978b",
   "metadata": {},
   "outputs": [
    {
     "name": "stdout",
     "output_type": "stream",
     "text": [
      "3.1416\n"
     ]
    },
    {
     "data": {
      "text/plain": [
       "<module 'ex1' from '/Users/xfli/Documents/GitDev/Learning/python/My_Python/04-python-function-model-packages/ex1.py'>"
      ]
     },
     "execution_count": 9,
     "metadata": {},
     "output_type": "execute_result"
    }
   ],
   "source": [
    "from importlib import reload\n",
    "reload(ex1)"
   ]
  },
  {
   "cell_type": "code",
   "execution_count": 10,
   "id": "defebb5f",
   "metadata": {},
   "outputs": [
    {
     "name": "stdout",
     "output_type": "stream",
     "text": [
      "3.1416\n"
     ]
    }
   ],
   "source": [
    "print(ex1.PI)"
   ]
  },
  {
   "cell_type": "markdown",
   "id": "d853608e",
   "metadata": {},
   "source": [
    "删除之前生成的文件："
   ]
  },
  {
   "cell_type": "code",
   "execution_count": 11,
   "id": "34bd1637",
   "metadata": {},
   "outputs": [],
   "source": [
    "import os\n",
    "os.remove('ex1.py')"
   ]
  },
  {
   "cell_type": "markdown",
   "id": "b9068845",
   "metadata": {},
   "source": [
    "### 执行部分"
   ]
  },
  {
   "cell_type": "markdown",
   "id": "6ff1860e",
   "metadata": {},
   "source": [
    "在程序中增加 `__name__` 属性。 把希望只有当程序被直接执行时才运动的部分放在这里.\n",
    "\n",
    "那么这部分内容在`import`时则不会被执行："
   ]
  },
  {
   "cell_type": "code",
   "execution_count": 12,
   "id": "46638144",
   "metadata": {},
   "outputs": [
    {
     "name": "stdout",
     "output_type": "stream",
     "text": [
      "Writing ex2.py\n"
     ]
    }
   ],
   "source": [
    "%%writefile ex2.py\n",
    "\n",
    "PI = 3.1416\n",
    "\n",
    "def my_add(x, *args):\n",
    "    for value in args:\n",
    "        x += value\n",
    "    return x\n",
    "\n",
    "def add(x, y):\n",
    "    \"\"\" Add two values.\"\"\"\n",
    "    a = x + y\n",
    "    return a\n",
    "\n",
    "def test():\n",
    "    assert(my_add(1,2,3) == 6)\n",
    "    print('The test passed.')\n",
    "    \n",
    "if __name__ == '__main__':\n",
    "    test()"
   ]
  },
  {
   "cell_type": "markdown",
   "id": "d9a0dd7c",
   "metadata": {},
   "source": [
    "运行文件： 在 `__name__` 属性里的 `test()`被执行"
   ]
  },
  {
   "cell_type": "code",
   "execution_count": 14,
   "id": "edcf4dbf",
   "metadata": {},
   "outputs": [
    {
     "name": "stdout",
     "output_type": "stream",
     "text": [
      "The test passed.\n"
     ]
    }
   ],
   "source": [
    "%run ex2.py"
   ]
  },
  {
   "cell_type": "markdown",
   "id": "83faaf9d",
   "metadata": {},
   "source": [
    "被作模块导入时， `__name__`下的`test()` 不会执行："
   ]
  },
  {
   "cell_type": "code",
   "execution_count": 15,
   "id": "aef54d36",
   "metadata": {},
   "outputs": [],
   "source": [
    "import ex2"
   ]
  },
  {
   "cell_type": "markdown",
   "id": "0ffdf773",
   "metadata": {},
   "source": [
    "使用别名："
   ]
  },
  {
   "cell_type": "code",
   "execution_count": 17,
   "id": "1c8dd06e",
   "metadata": {},
   "outputs": [
    {
     "data": {
      "text/plain": [
       "3.1416"
      ]
     },
     "execution_count": 17,
     "metadata": {},
     "output_type": "execute_result"
    }
   ],
   "source": [
    "import ex2 as e2\n",
    "\n",
    "e2.PI"
   ]
  },
  {
   "cell_type": "code",
   "execution_count": 18,
   "id": "7f73f500",
   "metadata": {},
   "outputs": [
    {
     "data": {
      "text/plain": [
       "35"
      ]
     },
     "execution_count": 18,
     "metadata": {},
     "output_type": "execute_result"
    }
   ],
   "source": [
    "e2.my_add(2,3,4,5,6,7,8)"
   ]
  },
  {
   "cell_type": "markdown",
   "id": "c6159502",
   "metadata": {},
   "source": [
    "### 其他导入方法"
   ]
  },
  {
   "cell_type": "markdown",
   "id": "7f11d7dc",
   "metadata": {},
   "source": [
    "只从模块中导入指定的变量或方法："
   ]
  },
  {
   "cell_type": "code",
   "execution_count": 19,
   "id": "389f246e",
   "metadata": {
    "collapsed": true
   },
   "outputs": [],
   "source": [
    "from ex2 import add, PI"
   ]
  },
  {
   "cell_type": "markdown",
   "id": "7d38c032",
   "metadata": {},
   "source": [
    "则可直接使用 `add` ， `PI`："
   ]
  },
  {
   "cell_type": "code",
   "execution_count": 20,
   "id": "b2dc46e4",
   "metadata": {},
   "outputs": [
    {
     "data": {
      "text/plain": [
       "6.1416"
      ]
     },
     "execution_count": 20,
     "metadata": {},
     "output_type": "execute_result"
    }
   ],
   "source": [
    "add(PI, 3)"
   ]
  },
  {
   "cell_type": "markdown",
   "id": "ef778322",
   "metadata": {},
   "source": [
    "没有导入的`Test`方法不以用"
   ]
  },
  {
   "cell_type": "code",
   "execution_count": null,
   "id": "1da5ae5c",
   "metadata": {},
   "outputs": [],
   "source": [
    "test()"
   ]
  },
  {
   "cell_type": "markdown",
   "id": "73757f16",
   "metadata": {},
   "source": [
    "使用 `*` 导入所有变量和方法："
   ]
  },
  {
   "cell_type": "code",
   "execution_count": 23,
   "id": "a6ec16e8",
   "metadata": {},
   "outputs": [
    {
     "data": {
      "text/plain": [
       "7.5"
      ]
     },
     "execution_count": 23,
     "metadata": {},
     "output_type": "execute_result"
    }
   ],
   "source": [
    "from ex2 import *\n",
    "\n",
    "add(3, 4.5)"
   ]
  },
  {
   "cell_type": "code",
   "execution_count": 24,
   "id": "e220850e",
   "metadata": {},
   "outputs": [
    {
     "name": "stdout",
     "output_type": "stream",
     "text": [
      "The test passed.\n"
     ]
    }
   ],
   "source": [
    "test()"
   ]
  },
  {
   "cell_type": "markdown",
   "id": "d4b51fc3",
   "metadata": {},
   "source": [
    "这种导入方法不是很提倡，因为如果你不确定导入的都有哪些，可能覆盖一些已有的函数。\n"
   ]
  },
  {
   "cell_type": "markdown",
   "id": "b4d0dc9a",
   "metadata": {},
   "source": [
    "\n",
    "删除文件`ex2.py`："
   ]
  },
  {
   "cell_type": "code",
   "execution_count": null,
   "id": "b418cb44",
   "metadata": {},
   "outputs": [],
   "source": [
    "import os\n",
    "os.remove('ex2.py')"
   ]
  },
  {
   "cell_type": "markdown",
   "id": "a7f7ab61",
   "metadata": {},
   "source": [
    "## 包"
   ]
  },
  {
   "cell_type": "markdown",
   "id": "7f97cddd",
   "metadata": {
    "collapsed": true
   },
   "source": [
    "假设我们有这样的一个文件夹：\n",
    "\n",
    "`foo/`\n",
    "- `__init__.py` \n",
    "- `bar.py` (defines func)\n",
    "- `baz.py` (defines zap)\n",
    "\n",
    "里面有好几个`.py`文件，其中有个`__init__.py`，它可以是个空文件，但就是它的存在表明了 `foo `文件夹是一个`包`。"
   ]
  },
  {
   "cell_type": "markdown",
   "id": "433cf1a8",
   "metadata": {},
   "source": [
    "### 包的导入"
   ]
  },
  {
   "cell_type": "markdown",
   "id": "a8de07dd",
   "metadata": {},
   "source": [
    "比如：\n",
    "\n",
    "```python    \n",
    "from foo.bar import func\n",
    "from foo.baz import zap\n",
    "```\n",
    "\n",
    "`bar` 和 `baz` 都是 `foo` 文件夹下的 `.py` 文件。\n",
    "\n",
    "导入包要求：\n",
    "- 文件夹 `foo` 在**Python**的搜索路径中\n",
    "- 存在 `__init__.py` 文件 "
   ]
  },
  {
   "cell_type": "markdown",
   "id": "a7ea4387",
   "metadata": {
    "collapsed": true
   },
   "source": [
    "## 常用的标准库"
   ]
  },
  {
   "cell_type": "markdown",
   "id": "957e21c2",
   "metadata": {},
   "source": [
    "`Python` 提供了大量的包, 称之为标准库"
   ]
  },
  {
   "cell_type": "markdown",
   "id": "2a329de9",
   "metadata": {},
   "source": [
    "- re 正则表达式\n",
    "- copy 复制\n",
    "- math, cmath 数学\n",
    "- decimal, fraction\n",
    "- sqlite3 数据库\n",
    "- os, os.path 文件系统\n",
    "- gzip, bz2, zipfile, tarfile 压缩文件\n",
    "- csv, netrc 各种文件格式\n",
    "- xml\n",
    "- htmllib"
   ]
  },
  {
   "cell_type": "markdown",
   "id": "b06eb38b",
   "metadata": {},
   "source": [
    "- ftplib, socket\n",
    "- cmd 命令行\n",
    "- pdb \n",
    "- profile, cProfile, timeit\n",
    "- collections, heapq, bisect 数据结构\n",
    "- mmap\n",
    "- threading, Queue 并行\n",
    "- multiprocessing\n",
    "- subprocess\n",
    "- pickle, cPickle\n",
    "- struct"
   ]
  },
  {
   "cell_type": "markdown",
   "id": "60599a6a",
   "metadata": {
    "collapsed": true
   },
   "source": [
    "`PYTHONPATH`设置"
   ]
  },
  {
   "cell_type": "markdown",
   "id": "7fd4abce",
   "metadata": {},
   "source": [
    "导入上述包时，要求它们在**Python**的搜索路径中\n",
    "\n",
    "Python的搜索路径可以通过环境变量PYTHONPATH设置，\n",
    "\n",
    "环境变量的设置方法依操作系统的不同而不同，具体方法可以网上搜索。"
   ]
  }
 ],
 "metadata": {
  "kernelspec": {
   "display_name": "Python 3.10.3 64-bit",
   "language": "python",
   "name": "python3"
  },
  "language_info": {
   "codemirror_mode": {
    "name": "ipython",
    "version": 3
   },
   "file_extension": ".py",
   "mimetype": "text/x-python",
   "name": "python",
   "nbconvert_exporter": "python",
   "pygments_lexer": "ipython3",
   "version": "3.10.3"
  },
  "toc": {
   "base_numbering": 1,
   "nav_menu": {},
   "number_sections": true,
   "sideBar": true,
   "skip_h1_title": true,
   "title_cell": "Table of Contents",
   "title_sidebar": "Contents",
   "toc_cell": false,
   "toc_position": {},
   "toc_section_display": true,
   "toc_window_display": true
  },
  "vscode": {
   "interpreter": {
    "hash": "7e1998ff7f8aa20ada591c520b972326324e5ea05489af9e422744c7c09f6dad"
   }
  }
 },
 "nbformat": 4,
 "nbformat_minor": 5
}
