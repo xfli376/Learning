{
 "cells": [
  {
   "cell_type": "markdown",
   "id": "b30ee8ca",
   "metadata": {},
   "source": [
    "# 函数"
   ]
  },
  {
   "cell_type": "markdown",
   "id": "582f81f2",
   "metadata": {},
   "source": [
    "函数`function`是避免重复代码的一种有效方法.\n",
    "\n",
    "通常负责完成某项特定任务，具备相对的独立性, 可通接受输入参数，并有返回值。"
   ]
  },
  {
   "cell_type": "markdown",
   "id": "b3a8443b",
   "metadata": {},
   "source": [
    "## 定义函数"
   ]
  },
  {
   "cell_type": "code",
   "execution_count": 46,
   "id": "c8c05dd8",
   "metadata": {},
   "outputs": [],
   "source": [
    "def my_add(x, y):\n",
    "    \"\"\"Add two numbers\"\"\"\n",
    "    x += y\n",
    "    return x"
   ]
  },
  {
   "cell_type": "markdown",
   "id": "f5e289e9",
   "metadata": {},
   "source": [
    "函数通常有一下几个特征：\n",
    "- 使用 `def` 关键词来定义一个函数。\n",
    "-  `def` 后面是函数的名称，括号中是函数的参数，不同的参数用 `,` 隔开， `def foo():` 的形式是必须要有的，参数可以为空；\n",
    "- 使用缩进来划分函数的内容；\n",
    "-  `docstring` 是用 `\"\"\"` 包含的字符串，用来解释函数的用途，可省略；\n",
    "-  `return` 返回特定的值，如果省略，返回 `None` 。"
   ]
  },
  {
   "cell_type": "markdown",
   "id": "36476a13",
   "metadata": {},
   "source": [
    "## 函数的调用"
   ]
  },
  {
   "cell_type": "markdown",
   "id": "21d9ab7f",
   "metadata": {},
   "source": [
    "调用函数时，只需要将定义中的参数换成特定的值传给函数。"
   ]
  },
  {
   "cell_type": "code",
   "execution_count": 47,
   "id": "0abdd89d",
   "metadata": {},
   "outputs": [
    {
     "name": "stdout",
     "output_type": "stream",
     "text": [
      "5\n"
     ]
    }
   ],
   "source": [
    "print(my_add(2, 3)) # 位置传参"
   ]
  },
  {
   "cell_type": "markdown",
   "id": "6426d80a",
   "metadata": {},
   "source": [
    "### 参数的类型"
   ]
  },
  {
   "cell_type": "markdown",
   "id": "099a648e",
   "metadata": {},
   "source": [
    "由于定义中没有限定参数的类型，调用时可以使用不同类型的参数："
   ]
  },
  {
   "cell_type": "code",
   "execution_count": 48,
   "id": "41004ed3",
   "metadata": {},
   "outputs": [
    {
     "name": "stdout",
     "output_type": "stream",
     "text": [
      "foobar\n",
      "[1, 2, 4, 5]\n",
      "5\n",
      "5\n"
     ]
    }
   ],
   "source": [
    "print(my_add('foo', 'bar'))\n",
    "\n",
    "print(my_add([1, 2], [4, 5]))\n",
    "\n",
    "z = (2, 3) # 元组\n",
    "# 元组传参, `*`必不可少\n",
    "print(my_add(*z))\n",
    "\n",
    "w = {'x': 2, 'y': 3} # 字典\n",
    "# 字典传参, `**`必不可少\n",
    "print(my_add(**w))"
   ]
  },
  {
   "cell_type": "markdown",
   "id": "2abe0c0d",
   "metadata": {},
   "source": [
    "也可对指定变量传参:"
   ]
  },
  {
   "cell_type": "code",
   "execution_count": 49,
   "id": "193ae949",
   "metadata": {},
   "outputs": [
    {
     "name": "stdout",
     "output_type": "stream",
     "text": [
      "5\n",
      "barfoo\n"
     ]
    }
   ],
   "source": [
    "print(my_add(x=2, y=3))\n",
    "print(my_add(y=\"foo\", x=\"bar\"))"
   ]
  },
  {
   "cell_type": "markdown",
   "id": "4aef748e",
   "metadata": {},
   "source": [
    "也可以混合模式传参："
   ]
  },
  {
   "cell_type": "code",
   "execution_count": 50,
   "id": "157337cf",
   "metadata": {},
   "outputs": [
    {
     "name": "stdout",
     "output_type": "stream",
     "text": [
      "5\n"
     ]
    }
   ],
   "source": [
    "print(my_add(2, y=3))"
   ]
  },
  {
   "cell_type": "markdown",
   "id": "2bab6dd8",
   "metadata": {},
   "source": [
    "如果传入的两个参数不能相加，会报错："
   ]
  },
  {
   "cell_type": "code",
   "execution_count": 51,
   "id": "75bdf736",
   "metadata": {},
   "outputs": [],
   "source": [
    "# print(my_add(2, \"foo\"))"
   ]
  },
  {
   "cell_type": "markdown",
   "id": "270da7d8",
   "metadata": {},
   "source": [
    "传入的参数数目与实际不符合，也会报错："
   ]
  },
  {
   "cell_type": "code",
   "execution_count": 52,
   "id": "77453c2f",
   "metadata": {},
   "outputs": [],
   "source": [
    "# print(my_add(1, 2, 3))"
   ]
  },
  {
   "cell_type": "markdown",
   "id": "d1f239b2",
   "metadata": {},
   "source": [
    "### 参数的默认值"
   ]
  },
  {
   "cell_type": "markdown",
   "id": "4203a509",
   "metadata": {},
   "source": [
    "可以在函数定义的时候给参数设定默认值"
   ]
  },
  {
   "cell_type": "code",
   "execution_count": 53,
   "id": "92afe566",
   "metadata": {},
   "outputs": [],
   "source": [
    "def quad(x, a=1, b=0, c=0):\n",
    "    return a*x**2 + b*x + c"
   ]
  },
  {
   "cell_type": "markdown",
   "id": "8cbdf525",
   "metadata": {},
   "source": [
    "调用时, 可以不传入有默认值的参数："
   ]
  },
  {
   "cell_type": "code",
   "execution_count": 54,
   "id": "cd0534b3",
   "metadata": {},
   "outputs": [
    {
     "name": "stdout",
     "output_type": "stream",
     "text": [
      "4.0\n"
     ]
    }
   ],
   "source": [
    "print(quad(2.0))"
   ]
  },
  {
   "cell_type": "markdown",
   "id": "a9be7519",
   "metadata": {},
   "source": [
    "可以改成非默认值："
   ]
  },
  {
   "cell_type": "code",
   "execution_count": 55,
   "id": "2663df13",
   "metadata": {},
   "outputs": [
    {
     "name": "stdout",
     "output_type": "stream",
     "text": [
      "10.0\n"
     ]
    }
   ],
   "source": [
    "print(quad(2.0, b=3))"
   ]
  },
  {
   "cell_type": "markdown",
   "id": "a0909b2a",
   "metadata": {},
   "source": [
    "可以由位置决定赋值给哪个参数："
   ]
  },
  {
   "cell_type": "code",
   "execution_count": 56,
   "id": "943888ac",
   "metadata": {},
   "outputs": [
    {
     "name": "stdout",
     "output_type": "stream",
     "text": [
      "12.0\n"
     ]
    }
   ],
   "source": [
    "print(quad(2.0, 2, c=4))"
   ]
  },
  {
   "cell_type": "markdown",
   "id": "e2381b37",
   "metadata": {},
   "source": [
    "这里混合了位置和指定两种参数传入方式，第二个2是传给第二个参数`a` 的。\n"
   ]
  },
  {
   "cell_type": "markdown",
   "id": "e57ce0bb",
   "metadata": {},
   "source": [
    "混合使用时，要注意不能给同一个值赋值多次，否则会报错："
   ]
  },
  {
   "cell_type": "code",
   "execution_count": 57,
   "id": "e32dd595",
   "metadata": {},
   "outputs": [],
   "source": [
    "# print(quad(2.0, 2, a=2))"
   ]
  },
  {
   "cell_type": "markdown",
   "id": "497b7db6",
   "metadata": {},
   "source": [
    "### 不定参数 (*args)"
   ]
  },
  {
   "cell_type": "markdown",
   "id": "1f13a7a1",
   "metadata": {},
   "source": [
    "使用如下方法，可以使函数接受数目不定的参数调用："
   ]
  },
  {
   "cell_type": "code",
   "execution_count": 58,
   "id": "547aa7de",
   "metadata": {},
   "outputs": [],
   "source": [
    "def my_add(x, *args):\n",
    "    for arg in args:\n",
    "        x += arg\n",
    "    return x"
   ]
  },
  {
   "cell_type": "markdown",
   "id": "4c7a8a45",
   "metadata": {},
   "source": [
    "这里，`*args` 表示参数数目不定，可以看成一个元组，把第一个参数后面的参数当作元组中的元素。"
   ]
  },
  {
   "cell_type": "code",
   "execution_count": 59,
   "id": "d30c6fde",
   "metadata": {},
   "outputs": [
    {
     "name": "stdout",
     "output_type": "stream",
     "text": [
      "1\n",
      "10\n"
     ]
    }
   ],
   "source": [
    "print(my_add(1))\n",
    "print(my_add(1, 2, 3, 4))\n",
    "# x =1, args = (2, 3, 4)"
   ]
  },
  {
   "cell_type": "markdown",
   "id": "2cdc8b5e",
   "metadata": {},
   "source": [
    "### 关键词传参(**kwargs)"
   ]
  },
  {
   "cell_type": "code",
   "execution_count": 60,
   "id": "953f73a2",
   "metadata": {},
   "outputs": [],
   "source": [
    "def my_add(x, **kwargs):\n",
    "    for arg, value in kwargs.items():\n",
    "        x += value\n",
    "    return x"
   ]
  },
  {
   "cell_type": "markdown",
   "id": "528cd28d",
   "metadata": {},
   "source": [
    "这里， `**kwargs` 不仅仅表示参数数目不定，它还相当于一个字典，可实现关键字传参。"
   ]
  },
  {
   "cell_type": "code",
   "execution_count": 61,
   "id": "91b61a48",
   "metadata": {},
   "outputs": [
    {
     "name": "stdout",
     "output_type": "stream",
     "text": [
      "46\n"
     ]
    }
   ],
   "source": [
    "print(my_add(10, CH=11, JP=12, USA=13))\n",
    "# x = 10 kwargs = dict(CH=11, JP=12, USA=13) "
   ]
  },
  {
   "cell_type": "markdown",
   "id": "5dcfb10b",
   "metadata": {},
   "source": [
    "两者结合，可以接收任意数目的位置参数和任意数目的键值对参数："
   ]
  },
  {
   "cell_type": "code",
   "execution_count": 62,
   "id": "d8436aea",
   "metadata": {},
   "outputs": [],
   "source": [
    "def foo(*args, **kwargs):\n",
    "    pass\n",
    "\n",
    "foo(2, 3, x='bar', z=10)\n",
    "\n",
    "# args = [2, 3], kwargs = dict(x='bar', z=10)"
   ]
  },
  {
   "cell_type": "markdown",
   "id": "485b2d04",
   "metadata": {},
   "source": [
    "注意要先传入位置参数 `args` ，在传入关键词参数 `kwargs` 。"
   ]
  },
  {
   "cell_type": "markdown",
   "id": "cdec2739",
   "metadata": {},
   "source": [
    "## 变量的作用域"
   ]
  },
  {
   "cell_type": "markdown",
   "id": "55dc54a6",
   "metadata": {},
   "source": [
    "\n",
    "Python中可以在函数内部定义子函数, 在子函数则定认孙函数，..., 形成函数嵌套"
   ]
  },
  {
   "cell_type": "code",
   "execution_count": 2,
   "id": "6f6a1c17",
   "metadata": {},
   "outputs": [
    {
     "name": "stdout",
     "output_type": "stream",
     "text": [
      "100\n",
      "hello\n",
      "True\n"
     ]
    }
   ],
   "source": [
    "\n",
    "def foo():\n",
    "    b = 'hello'  # 定义了变量 b \n",
    "\n",
    "    # Python中可以在函数内部再定义函数 bar\n",
    "    def bar():\n",
    "        c = True   # 定义了变量 c \n",
    "        print(a)\n",
    "        print(b)\n",
    "        print(c)\n",
    "\n",
    "    bar()   \n",
    "    # 调用 子函数 bar\n",
    "\n",
    "\n",
    "if __name__ == '__main__':\n",
    "    a = 100    # 定义了变量 a \n",
    "    foo()"
   ]
  },
  {
   "cell_type": "markdown",
   "id": "106a7d1f",
   "metadata": {},
   "source": [
    "嵌套函数调用变量的流程:\n",
    "\n",
    "- 本函数有定义?\n",
    "   - 有: 使用该定义\n",
    "   - 无: 去上层函数找\n",
    "      - 有: 使用\n",
    "      - 无: 去更层函数找\n",
    "           ...\n",
    "           \t\t\n",
    "如果直到最上一层也没找到, 则看是不是`python`自定义, 如果是则使用,不是则抛出变量未定义异常."
   ]
  },
  {
   "cell_type": "markdown",
   "id": "571f9a5e",
   "metadata": {},
   "source": [
    "\n",
    "具体到本程序, 子函数`bar`的内部并没有定义`a`和`b`两个变量. 如何实现的呢？\n"
   ]
  },
  {
   "cell_type": "markdown",
   "id": "c8192ce9",
   "metadata": {},
   "source": [
    "1. 变量`a`是全局变量（global variable）可以被`bar`访问。\n",
    "2. 变量`b`是局部变量（local variable），虽然在`foo`函数的外部不能访问，但其内部(子)函数`bar`可以访问。\n",
    "3. 变量`c`是局部变量，只能`bar`函数访问,不能被母函数 `foo` 访问.\n",
    "4. 内置作用域，`python`自定义的常量,变量和函数等,可以被所有程序调用.\n"
   ]
  },
  {
   "cell_type": "code",
   "execution_count": 1,
   "id": "78820515",
   "metadata": {},
   "outputs": [
    {
     "name": "stdout",
     "output_type": "stream",
     "text": [
      "200\n",
      "100\n"
     ]
    }
   ],
   "source": [
    "\n",
    "def foo():\n",
    "    a = 200\n",
    "    print(a)  # 200\n",
    "\n",
    "\n",
    "if __name__ == '__main__':\n",
    "    a = 100\n",
    "    foo()\n",
    "    print(a)  # 100\n"
   ]
  },
  {
   "cell_type": "markdown",
   "id": "c8f452b9",
   "metadata": {},
   "source": [
    "在调用`foo`函数前，`a`的值为全域变量值100， 调用`foo`函数后，`a`的值仍然是全域变量值100，但调用`foo`函数时，打印的`a`是局域变量值200. \n",
    "\n",
    "如果希望调用`foo`函数来修改全局作用域中的`a`，则要用关键字`global`指明没有定义局域变量，代码如下所示。\n"
   ]
  },
  {
   "cell_type": "code",
   "execution_count": 2,
   "id": "1c3b203e",
   "metadata": {},
   "outputs": [
    {
     "name": "stdout",
     "output_type": "stream",
     "text": [
      "100\n",
      "200\n",
      "200\n"
     ]
    }
   ],
   "source": [
    "\n",
    "def foo():\n",
    "    global a\n",
    "    a = 200\n",
    "    print(a)  # 200\n",
    "\n",
    "\n",
    "if __name__ == '__main__':\n",
    "    a = 100\n",
    "    print(a) # 100\n",
    "    foo()    # 200\n",
    "    print(a) # 200\n"
   ]
  },
  {
   "cell_type": "markdown",
   "id": "77fecb71",
   "metadata": {},
   "source": [
    "从现在开始, `Python`代码得按这外格式书，这跨出了巨大的一步。\n"
   ]
  },
  {
   "cell_type": "code",
   "execution_count": 6,
   "id": "ddfa5910",
   "metadata": {},
   "outputs": [],
   "source": [
    "\n",
    "def main():\n",
    "    # Todo: Add your code here\n",
    "    pass\n",
    "\n",
    "\n",
    "if __name__ == '__main__':\n",
    "    main()\n"
   ]
  },
  {
   "cell_type": "markdown",
   "id": "68d1ef44",
   "metadata": {},
   "source": [
    "### 函数的递归"
   ]
  },
  {
   "cell_type": "markdown",
   "id": "5665eeb2",
   "metadata": {},
   "source": [
    "在一个函数中调用函数本身, 形成递归调用"
   ]
  },
  {
   "cell_type": "code",
   "execution_count": 4,
   "id": "102bfe3b",
   "metadata": {},
   "outputs": [
    {
     "name": "stdout",
     "output_type": "stream",
     "text": [
      "3628800\n"
     ]
    }
   ],
   "source": [
    "\n",
    "def main():\n",
    "    \n",
    "    '''\n",
    "      阶乘\n",
    "      n! = 1 * 2 * 3 * ... *n\n",
    "      n! = (n - 1)! * n n == 0 or n == 1\n",
    "    '''\n",
    "    def jc(n):\n",
    "        if n == 0 or n == 1:\n",
    "            return 1 # 返回结果为1\n",
    "        else:\n",
    "            return jc(n - 1) * n\n",
    "    \n",
    "    \n",
    "    print(jc(10))\n",
    "    \n",
    "if __name__ == '__main__':\n",
    "    main()"
   ]
  },
  {
   "cell_type": "markdown",
   "id": "61a45654",
   "metadata": {},
   "source": [
    "## 返回多值"
   ]
  },
  {
   "cell_type": "markdown",
   "id": "a3fcd67a",
   "metadata": {},
   "source": [
    "函数可以返回多个值："
   ]
  },
  {
   "cell_type": "code",
   "execution_count": 3,
   "id": "424bd424",
   "metadata": {},
   "outputs": [],
   "source": [
    "from math import atan2\n",
    "\n",
    "def to_polar(x, y):\n",
    "    r = (x**2 + y**2) ** 0.5\n",
    "    theta = atan2(y, x)\n",
    "    return r, theta\n"
   ]
  },
  {
   "cell_type": "markdown",
   "id": "d174237b",
   "metadata": {},
   "source": [
    "用两个变量来接收返回值"
   ]
  },
  {
   "cell_type": "code",
   "execution_count": 4,
   "id": "f538e882",
   "metadata": {},
   "outputs": [
    {
     "name": "stdout",
     "output_type": "stream",
     "text": [
      "5.0 0.9272952180016122\n"
     ]
    }
   ],
   "source": [
    "r, theta = to_polar(3, 4)\n",
    "print(r, theta)"
   ]
  },
  {
   "cell_type": "markdown",
   "id": "44605621",
   "metadata": {},
   "source": [
    "如果只用一个变量的话, 其类型被赋为元组："
   ]
  },
  {
   "cell_type": "code",
   "execution_count": 5,
   "id": "36ded7c2",
   "metadata": {},
   "outputs": [
    {
     "data": {
      "text/plain": [
       "tuple"
      ]
     },
     "execution_count": 5,
     "metadata": {},
     "output_type": "execute_result"
    }
   ],
   "source": [
    "a = to_polar(3, 4)\n",
    "type(a)"
   ]
  }
 ],
 "metadata": {
  "kernelspec": {
   "display_name": "Python 3 (ipykernel)",
   "language": "python",
   "name": "python3"
  },
  "language_info": {
   "codemirror_mode": {
    "name": "ipython",
    "version": 3
   },
   "file_extension": ".py",
   "mimetype": "text/x-python",
   "name": "python",
   "nbconvert_exporter": "python",
   "pygments_lexer": "ipython3",
   "version": "3.10.3"
  },
  "toc": {
   "base_numbering": 1,
   "nav_menu": {},
   "number_sections": true,
   "sideBar": true,
   "skip_h1_title": true,
   "title_cell": "Table of Contents",
   "title_sidebar": "Contents",
   "toc_cell": false,
   "toc_position": {},
   "toc_section_display": true,
   "toc_window_display": true
  },
  "vscode": {
   "interpreter": {
    "hash": "7e1998ff7f8aa20ada591c520b972326324e5ea05489af9e422744c7c09f6dad"
   }
  }
 },
 "nbformat": 4,
 "nbformat_minor": 5
}
