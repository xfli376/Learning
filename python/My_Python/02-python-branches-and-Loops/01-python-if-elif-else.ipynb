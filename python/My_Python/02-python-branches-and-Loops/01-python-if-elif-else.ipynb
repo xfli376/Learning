{
 "cells": [
  {
   "cell_type": "markdown",
   "id": "85a76ebd",
   "metadata": {},
   "source": [
    "# 分支语句"
   ]
  },
  {
   "cell_type": "markdown",
   "id": "45455812",
   "metadata": {},
   "source": [
    "## 基本用法"
   ]
  },
  {
   "cell_type": "markdown",
   "id": "e64062b9",
   "metadata": {},
   "source": [
    "判断，基于一定的条件，决定是否要执行特定的一段代码："
   ]
  },
  {
   "cell_type": "code",
   "execution_count": 1,
   "id": "09413f32",
   "metadata": {},
   "outputs": [
    {
     "name": "stdout",
     "output_type": "stream",
     "text": [
      "Hey!\n",
      "x is positive\n"
     ]
    }
   ],
   "source": [
    "x = 0.5\n",
    "if x > 0:\n",
    "    print(\"Hey!\")\n",
    "    print(\"x is positive\")"
   ]
  },
  {
   "cell_type": "markdown",
   "id": "a17f7b2d",
   "metadata": {},
   "source": [
    "如果 `x > 0` 为 `False` ，将不会执行两条 `print` 语句。"
   ]
  },
  {
   "cell_type": "markdown",
   "id": "f1ff9232",
   "metadata": {},
   "source": [
    "两条语句同样的缩进值, 称为一个代码块\n",
    "```python\n",
    "    print \"Hey!\"\n",
    "    print \"x is positive\"\n",
    "```"
   ]
  },
  {
   "cell_type": "markdown",
   "id": "b81f7570",
   "metadata": {},
   "source": [
    "不同的缩进值表示不同的代码块，例如："
   ]
  },
  {
   "cell_type": "code",
   "execution_count": 2,
   "id": "370c15e9",
   "metadata": {},
   "outputs": [
    {
     "name": "stdout",
     "output_type": "stream",
     "text": [
      "Hey!\n",
      "x is positive\n",
      "This is still part of the block\n",
      "This isn't part of the block, and will always print.\n"
     ]
    }
   ],
   "source": [
    "x = 0.5\n",
    "if x > 0:\n",
    "    print(\"Hey!\")\n",
    "    print(\"x is positive\")\n",
    "    print(\"This is still part of the block\")\n",
    "print(\"This isn't part of the block, and will always print.\")"
   ]
  },
  {
   "cell_type": "code",
   "execution_count": 3,
   "id": "0047083e",
   "metadata": {},
   "outputs": [
    {
     "name": "stdout",
     "output_type": "stream",
     "text": [
      "This isn't part of the block, and will always print.\n"
     ]
    }
   ],
   "source": [
    "x = -0.5\n",
    "if x > 0:\n",
    "    print(\"Hey!\")\n",
    "    print(\"x is positive\")\n",
    "    print(\"This is still part of the block\")\n",
    "print(\"This isn't part of the block, and will always print.\")"
   ]
  },
  {
   "cell_type": "markdown",
   "id": "b05424d8",
   "metadata": {},
   "source": [
    "最后一个`print` 与`x=...`及`if`具有相同的缩进，属于同一个块。不因不管`if`条件如何，它都会被执行。"
   ]
  },
  {
   "cell_type": "markdown",
   "id": "768374b2",
   "metadata": {},
   "source": [
    "完整的 `if` 结构通常如下所示（注意：条件后的 `:` 是必须要的，缩进值需要一样）："
   ]
  },
  {
   "cell_type": "markdown",
   "id": "bb7bc277",
   "metadata": {},
   "source": [
    "```python\n",
    "    if <condition 1>:\n",
    "        block-1\n",
    "    elif <condition 2>: \n",
    "        block-2\n",
    "    else:\n",
    "        block-3\n",
    "```"
   ]
  },
  {
   "cell_type": "markdown",
   "id": "ee37f468",
   "metadata": {},
   "source": [
    "当条件1被满足时，执行 `block-1` 。条件1不满足的时候，转到 `elif` ，看条件2满不满足; 满足执行 `block-2` ，不满足则执行 `block-3`。"
   ]
  },
  {
   "cell_type": "code",
   "execution_count": 4,
   "id": "ba81cdf0",
   "metadata": {},
   "outputs": [
    {
     "name": "stdout",
     "output_type": "stream",
     "text": [
      "x is zero\n"
     ]
    }
   ],
   "source": [
    "x = 0\n",
    "if x > 0:\n",
    "    print(\"x is positive\")\n",
    "elif x == 0:\n",
    "    print(\"x is zero\")\n",
    "else:\n",
    "    print(\"x is negative\")"
   ]
  },
  {
   "cell_type": "markdown",
   "id": "fccbd1c7",
   "metadata": {},
   "source": [
    "注意：`elif` 的个数没有限制，可以是1个或者多个，也可以没有。\n",
    "\n",
    "但`else` 最多只有1个，也可以没有。"
   ]
  },
  {
   "cell_type": "code",
   "execution_count": 5,
   "id": "1654372a",
   "metadata": {},
   "outputs": [
    {
     "name": "stdout",
     "output_type": "stream",
     "text": [
      "B\n"
     ]
    }
   ],
   "source": [
    "x = 80\n",
    "if x >= 90:\n",
    "    print(\"A\")\n",
    "elif x >= 80:\n",
    "    print(\"B\")\n",
    "elif x >= 60:\n",
    "    print(\"C\")\n",
    "else:\n",
    "    print(\"D\")"
   ]
  },
  {
   "cell_type": "markdown",
   "id": "92280cac",
   "metadata": {},
   "source": [
    "## 复合条件"
   ]
  },
  {
   "cell_type": "markdown",
   "id": "992afda8",
   "metadata": {},
   "source": [
    "想判断一个年份是不是闰年。按照闰年的定义，这里只需要判断这个年份是不是能被4整除，但是不能被100整除，或者正好被400整除："
   ]
  },
  {
   "cell_type": "code",
   "execution_count": 6,
   "id": "0b00a66c",
   "metadata": {},
   "outputs": [],
   "source": [
    "year = 1900\n",
    "if year % 400 == 0:\n",
    "    print(\"This is a leap year!\")"
   ]
  },
  {
   "cell_type": "code",
   "execution_count": 10,
   "id": "40df2fb0",
   "metadata": {},
   "outputs": [
    {
     "name": "stdout",
     "output_type": "stream",
     "text": [
      "This is not a leap year.\n"
     ]
    }
   ],
   "source": [
    "year = 1900\n",
    "if year % 400 == 0:\n",
    "    print(\"This is a leap year!\")\n",
    "elif year % 4 == 0 and year % 100 != 0: # 两个条件都满足才执行\n",
    "    print(\"This is a leap year!\")\n",
    "else:\n",
    "    print(\"This is not a leap year.\")"
   ]
  },
  {
   "cell_type": "markdown",
   "id": "2f2624e6",
   "metadata": {},
   "source": [
    "## 值条件"
   ]
  },
  {
   "cell_type": "markdown",
   "id": "420f66f1",
   "metadata": {},
   "source": [
    "**Python**不仅仅可以使用布尔型变量作为条件，它可以直接在`if`中使用任何表达式作为条件：\n",
    "\n",
    "大部分表达式的值都会被当作`True`，但以下表达式值会被当作`False`：\n",
    "\n",
    "- False\n",
    "- None\n",
    "- 0\n",
    "- 空字符串，空列表，空字典，空集合"
   ]
  },
  {
   "cell_type": "code",
   "execution_count": 8,
   "id": "60ba76c3",
   "metadata": {},
   "outputs": [
    {
     "name": "stdout",
     "output_type": "stream",
     "text": [
      "The first element is: 3\n"
     ]
    }
   ],
   "source": [
    "mylist = [3, 1, 4, 1, 5, 9]\n",
    "if mylist:\n",
    "    print(\"The first element is:\", mylist[0])\n",
    "else:\n",
    "    print(\"There is no first element.\")"
   ]
  },
  {
   "cell_type": "markdown",
   "id": "5db92363",
   "metadata": {},
   "source": [
    "修改为空列表："
   ]
  },
  {
   "cell_type": "code",
   "execution_count": 9,
   "id": "bbdf77ec",
   "metadata": {},
   "outputs": [
    {
     "name": "stdout",
     "output_type": "stream",
     "text": [
      "There is no first element.\n"
     ]
    }
   ],
   "source": [
    "mylist = []\n",
    "if mylist:\n",
    "    print(\"The first element is:\", mylist[0])\n",
    "else:\n",
    "    print(\"There is no first element.\")"
   ]
  },
  {
   "cell_type": "markdown",
   "id": "d53ccf1e",
   "metadata": {},
   "source": [
    "当然这种用法并不推荐，推荐使用 `if len(mylist) > 0:` 来判断一个列表是否为空。"
   ]
  }
 ],
 "metadata": {
  "kernelspec": {
   "display_name": "Python 3 (ipykernel)",
   "language": "python",
   "name": "python3"
  },
  "language_info": {
   "codemirror_mode": {
    "name": "ipython",
    "version": 3
   },
   "file_extension": ".py",
   "mimetype": "text/x-python",
   "name": "python",
   "nbconvert_exporter": "python",
   "pygments_lexer": "ipython3",
   "version": "3.9.12"
  },
  "toc": {
   "base_numbering": 1,
   "nav_menu": {},
   "number_sections": true,
   "sideBar": true,
   "skip_h1_title": true,
   "title_cell": "Table of Contents",
   "title_sidebar": "Contents",
   "toc_cell": false,
   "toc_position": {},
   "toc_section_display": true,
   "toc_window_display": true
  }
 },
 "nbformat": 4,
 "nbformat_minor": 5
}
