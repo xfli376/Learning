{
 "cells": [
  {
   "cell_type": "markdown",
   "id": "8c9dcff2",
   "metadata": {},
   "source": [
    "# 循环"
   ]
  },
  {
   "cell_type": "markdown",
   "id": "830256ee",
   "metadata": {},
   "source": [
    "循环的作用在于将一段代码重复执行多次。"
   ]
  },
  {
   "cell_type": "markdown",
   "id": "ef7ff314",
   "metadata": {},
   "source": [
    "## while 循环"
   ]
  },
  {
   "cell_type": "markdown",
   "id": "ce0f9bbb",
   "metadata": {},
   "source": [
    "语法如下："
   ]
  },
  {
   "cell_type": "markdown",
   "id": "e3750069",
   "metadata": {},
   "source": [
    "```python\n",
    "    while <condition>:\n",
    "        block-1\n",
    "```\n",
    "\n",
    "**Python**会循环执行`block-1`，直到`<condition>`不满足为止。"
   ]
  },
  {
   "cell_type": "markdown",
   "id": "8e5871b1",
   "metadata": {},
   "source": [
    "计算数字`1`到`100`的和："
   ]
  },
  {
   "cell_type": "code",
   "execution_count": null,
   "id": "ca095210",
   "metadata": {},
   "outputs": [
    {
     "name": "stdout",
     "output_type": "stream",
     "text": [
      "5050\n"
     ]
    }
   ],
   "source": [
    "i = 1\n",
    "sum = 0\n",
    "while i <= 100:\n",
    "    sum += i\n",
    "    i += 1\n",
    "print(sum)"
   ]
  },
  {
   "cell_type": "markdown",
   "id": "61ab555a",
   "metadata": {},
   "source": [
    "只有空容器才会被当成 `False` ，因此可以用 `while` 循环来读取容器中的所有元素："
   ]
  },
  {
   "cell_type": "code",
   "execution_count": null,
   "id": "980559cf",
   "metadata": {},
   "outputs": [
    {
     "name": "stdout",
     "output_type": "stream",
     "text": [
      "Perform Hamlet\n",
      "Perform Macbeth\n",
      "Perform King Lear\n"
     ]
    }
   ],
   "source": [
    "plays = set(['Hamlet', 'Macbeth', 'King Lear']) \n",
    "# 集合是无序的，不能用下标遍历\n",
    "while plays:\n",
    "    play = plays.pop()\n",
    "    print('Perform', play)"
   ]
  },
  {
   "cell_type": "markdown",
   "id": "f1770054",
   "metadata": {},
   "source": [
    "循环每次从 `plays` 中弹出一个元素，一直到 `plays` 为空为止。\n",
    "\n",
    "程序有**副作用**：就是`plays`被清空了！"
   ]
  },
  {
   "cell_type": "markdown",
   "id": "ea4948af",
   "metadata": {},
   "source": [
    "## for 循环"
   ]
  },
  {
   "cell_type": "markdown",
   "id": "5edb16c8",
   "metadata": {},
   "source": [
    "语法如下："
   ]
  },
  {
   "cell_type": "markdown",
   "id": "a8db2b31",
   "metadata": {},
   "source": [
    "```python\n",
    "    for <variable> in <sequence>:\n",
    "        block-1\n",
    "```\n",
    "\n",
    "`for` 循环会遍历完`<sequence>`中所有元素为止\n"
   ]
  },
  {
   "cell_type": "markdown",
   "id": "78766796",
   "metadata": {},
   "source": [
    "## set 函数"
   ]
  },
  {
   "cell_type": "code",
   "execution_count": null,
   "id": "d10b8b43",
   "metadata": {},
   "outputs": [
    {
     "name": "stdout",
     "output_type": "stream",
     "text": [
      "Perform Hamlet\n",
      "Perform Macbeth\n",
      "Perform King Lear\n"
     ]
    }
   ],
   "source": [
    "plays = set(['Hamlet', 'Macbeth', 'King Lear'])\n",
    "for play in plays:\n",
    "    print('Perform', play)"
   ]
  },
  {
   "cell_type": "markdown",
   "id": "0544340d",
   "metadata": {},
   "source": [
    "程序没有**副作用**：因为`plays`没有被改变"
   ]
  },
  {
   "cell_type": "markdown",
   "id": "dcd5a8eb",
   "metadata": {},
   "source": [
    "## range 函数"
   ]
  },
  {
   "cell_type": "code",
   "execution_count": null,
   "id": "8e3d8d88",
   "metadata": {},
   "outputs": [
    {
     "name": "stdout",
     "output_type": "stream",
     "text": [
      "5050\n"
     ]
    }
   ],
   "source": [
    "total = 0\n",
    "for i in range(101):\n",
    "    total += i\n",
    "print(total)"
   ]
  },
  {
   "cell_type": "code",
   "execution_count": 4,
   "id": "4d28d6ab",
   "metadata": {},
   "outputs": [
    {
     "name": "stdout",
     "output_type": "stream",
     "text": [
      "<class 'range'>\n",
      "range(0, 101)\n"
     ]
    }
   ],
   "source": [
    " print(type(range(101)))\n",
    " print(range(101))"
   ]
  },
  {
   "cell_type": "markdown",
   "id": "fd198d66",
   "metadata": {},
   "source": [
    "查返回值\n",
    "```python\n",
    "range?\n",
    "```\n",
    "\n",
    "Return an object that produces a sequence of integers from start (inclusive) to stop (exclusive) by step.\n",
    "\n",
    "是个整数生成器"
   ]
  },
  {
   "cell_type": "markdown",
   "id": "3a6310e9",
   "metadata": {},
   "source": [
    "## array 函数"
   ]
  },
  {
   "cell_type": "code",
   "execution_count": 11,
   "id": "c4c8532d",
   "metadata": {},
   "outputs": [
    {
     "data": {
      "text/plain": [
       "array([1, 2, 3])"
      ]
     },
     "execution_count": 11,
     "metadata": {},
     "output_type": "execute_result"
    }
   ],
   "source": [
    "import numpy as np\n",
    "\n",
    "# np.array?\n",
    "# returns an array, or any (nested) sequence.\n",
    "\n",
    "np.array([1, 2, 3])"
   ]
  },
  {
   "cell_type": "markdown",
   "id": "abbe53f6",
   "metadata": {},
   "source": [
    "反回的是一个数组, 由于数组计算调用的方法是经过加速的通用数学库, 通常数组计算会比列表计算快些."
   ]
  },
  {
   "cell_type": "markdown",
   "id": "a2ed9195",
   "metadata": {},
   "source": [
    "## arange 函数"
   ]
  },
  {
   "cell_type": "code",
   "execution_count": 13,
   "id": "30c7abf6",
   "metadata": {},
   "outputs": [
    {
     "data": {
      "text/plain": [
       "array([ 1,  3,  5,  7,  9, 11, 13, 15, 17, 19, 21, 23, 25, 27, 29, 31, 33,\n",
       "       35, 37, 39, 41, 43, 45, 47, 49, 51, 53, 55, 57, 59, 61, 63, 65, 67,\n",
       "       69, 71, 73, 75, 77, 79, 81, 83, 85, 87, 89, 91, 93, 95, 97, 99])"
      ]
     },
     "execution_count": 13,
     "metadata": {},
     "output_type": "execute_result"
    }
   ],
   "source": [
    "import numpy as np\n",
    "\n",
    "# np.arange?\n",
    "\n",
    "# arange([start,] stop[, step,], dtype=None, *, like=None)\n",
    "\n",
    "# Return evenly spaced values within a given interval.\n",
    "\n",
    "np.arange(1, 101, 2)"
   ]
  },
  {
   "cell_type": "code",
   "execution_count": 15,
   "id": "ee860b89",
   "metadata": {},
   "outputs": [
    {
     "name": "stdout",
     "output_type": "stream",
     "text": [
      "2500\n"
     ]
    }
   ],
   "source": [
    "sum = 0\n",
    "for i in np.arange(1,101,2):\n",
    "    sum += i\n",
    "print(sum)"
   ]
  },
  {
   "cell_type": "markdown",
   "id": "3b0470f3",
   "metadata": {},
   "source": [
    "## enumerate 函数"
   ]
  },
  {
   "cell_type": "code",
   "execution_count": 3,
   "id": "c7c9887e",
   "metadata": {},
   "outputs": [
    {
     "name": "stdout",
     "output_type": "stream",
     "text": [
      "0 Mary\n",
      "1 had\n",
      "2 a\n",
      "3 little\n",
      "4 lamb\n"
     ]
    }
   ],
   "source": [
    "a = ['Mary', 'had', 'a', 'little', 'lamb']\n",
    ">>> for i in range(len(a)):\n",
    "...     print(i, a[i])"
   ]
  },
  {
   "cell_type": "code",
   "execution_count": 9,
   "id": "d8cefeba",
   "metadata": {},
   "outputs": [
    {
     "name": "stdout",
     "output_type": "stream",
     "text": [
      "(0, 'Mary')\n",
      "(1, 'had')\n",
      "(2, 'a')\n",
      "(3, 'little')\n",
      "(4, 'lamb')\n"
     ]
    }
   ],
   "source": [
    "for memb in list(enumerate(a)):\n",
    "    print(memb)"
   ]
  },
  {
   "cell_type": "code",
   "execution_count": 7,
   "id": "0c5dc6a5",
   "metadata": {},
   "outputs": [
    {
     "data": {
      "text/plain": [
       "[(1, 'Mary'), (2, 'had'), (3, 'a'), (4, 'little'), (5, 'lamb')]"
      ]
     },
     "execution_count": 7,
     "metadata": {},
     "output_type": "execute_result"
    }
   ],
   "source": [
    "list(enumerate(a, start=1))"
   ]
  },
  {
   "cell_type": "markdown",
   "id": "a109234f",
   "metadata": {},
   "source": [
    "## continue 语句"
   ]
  },
  {
   "cell_type": "markdown",
   "id": "11757d95",
   "metadata": {},
   "source": [
    "遇到 `continue` 的时候，程序会返回到循环的最开始重新执行。\n",
    "\n",
    "例如在循环中忽略一些特定的值："
   ]
  },
  {
   "cell_type": "code",
   "execution_count": 17,
   "id": "9a5ff6ce",
   "metadata": {},
   "outputs": [
    {
     "name": "stdout",
     "output_type": "stream",
     "text": [
      "10\n"
     ]
    }
   ],
   "source": [
    "values = np.array([7, 6, 4, 7])\n",
    "sum = 0\n",
    "for memb in values:\n",
    "    if memb % 2 != 0:\n",
    "        # 忽略奇数\n",
    "        continue\n",
    "    sum += i\n",
    "print(sum)"
   ]
  },
  {
   "cell_type": "markdown",
   "id": "4299977f",
   "metadata": {},
   "source": [
    "当 memb 为奇数是, 遇见`continue`语句, 后面的循环体内的语句不再执行,而是直接开始下一轮新的循环."
   ]
  },
  {
   "cell_type": "markdown",
   "id": "9e87cac2",
   "metadata": {},
   "source": [
    "## break 语句"
   ]
  },
  {
   "cell_type": "markdown",
   "id": "0ae4cc96",
   "metadata": {},
   "source": [
    "遇到 `break` ，不管循环条件是不是满足, 程序都会跳出循环体, 执行循环体后面的语句."
   ]
  },
  {
   "cell_type": "code",
   "execution_count": null,
   "id": "08edcecb",
   "metadata": {},
   "outputs": [
    {
     "name": "stdout",
     "output_type": "stream",
     "text": [
      "start\n",
      "process\n",
      "process\n",
      "process\n"
     ]
    }
   ],
   "source": [
    "command_list = ['start', \n",
    "                'process', \n",
    "                'process',\n",
    "                'process', \n",
    "                'stop', \n",
    "                'start', \n",
    "                'process', \n",
    "                'stop']\n",
    "while command_list:\n",
    "    command = command_list.pop(0)\n",
    "    if command == 'stop':\n",
    "        break\n",
    "    print(command)"
   ]
  },
  {
   "cell_type": "markdown",
   "id": "3095e09f",
   "metadata": {},
   "source": [
    "在遇到第一个 `'stop'` 之后，程序跳出循环。"
   ]
  },
  {
   "cell_type": "markdown",
   "id": "5756eda3",
   "metadata": {},
   "source": [
    "## else语句"
   ]
  },
  {
   "cell_type": "markdown",
   "id": "b4cf7c0f",
   "metadata": {},
   "source": [
    "`while` 和 `for` 循环后面也可以跟着 `else` 语句，和`break`一起连用, 意思是程序要么`break`, 要么`else`"
   ]
  },
  {
   "cell_type": "code",
   "execution_count": 18,
   "id": "1c8f3d40",
   "metadata": {},
   "outputs": [
    {
     "name": "stdout",
     "output_type": "stream",
     "text": [
      "Found: 7\n"
     ]
    }
   ],
   "source": [
    "values = np.array([7, 6, 4, 7, 19, 2, 1])\n",
    "for x in values:\n",
    "    if x <= 10:\n",
    "        print('Found:', x)\n",
    "        break\n",
    "else:\n",
    "    print('All values greater than 10')"
   ]
  },
  {
   "cell_type": "code",
   "execution_count": null,
   "id": "a3c2493d",
   "metadata": {},
   "outputs": [
    {
     "name": "stdout",
     "output_type": "stream",
     "text": [
      "All values greater than 10\n"
     ]
    }
   ],
   "source": [
    "values = [11, 12, 13, 100]\n",
    "for x in values:\n",
    "    if x <= 10:\n",
    "        print('Found:', x)\n",
    "        break\n",
    "else:\n",
    "    print('All values greater than 10')"
   ]
  },
  {
   "cell_type": "markdown",
   "id": "6cfd68a5",
   "metadata": {},
   "source": [
    "## pass 语句"
   ]
  },
  {
   "cell_type": "markdown",
   "id": "f87ff7d1",
   "metadata": {},
   "source": [
    "语法上需要一个语句，但程序不实际执行任何动作时, 使用`pass`语句"
   ]
  },
  {
   "cell_type": "code",
   "execution_count": 1,
   "id": "d9f6d914",
   "metadata": {},
   "outputs": [],
   "source": [
    "def initlog(*args):\n",
    "    pass   # Remember to implement this!"
   ]
  }
 ],
 "metadata": {
  "kernelspec": {
   "display_name": "Python 3.9.12 ('base')",
   "language": "python",
   "name": "python3"
  },
  "language_info": {
   "codemirror_mode": {
    "name": "ipython",
    "version": 3
   },
   "file_extension": ".py",
   "mimetype": "text/x-python",
   "name": "python",
   "nbconvert_exporter": "python",
   "pygments_lexer": "ipython3",
   "version": "3.9.12"
  },
  "toc": {
   "base_numbering": 1,
   "nav_menu": {},
   "number_sections": true,
   "sideBar": true,
   "skip_h1_title": true,
   "title_cell": "Table of Contents",
   "title_sidebar": "Contents",
   "toc_cell": false,
   "toc_position": {},
   "toc_section_display": true,
   "toc_window_display": true
  },
  "vscode": {
   "interpreter": {
    "hash": "4ac58c68a7555430f59ebde22571acf41a779f71ba338658c9667eabd9be8e0e"
   }
  }
 },
 "nbformat": 4,
 "nbformat_minor": 5
}
