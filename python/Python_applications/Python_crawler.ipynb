{
 "cells": [
  {
   "cell_type": "markdown",
   "id": "ee21a40d",
   "metadata": {},
   "source": [
    "# <center><font color=\"#191970\">Python 爬虫</font></center>\n",
    "<br/>\n",
    "\n",
    "<center><img src=\" figs/uestclogo.jpg \" width=\"13%\"></center>\n",
    " \n",
    "####  <center> <font color=\"#FFA500\">李小飞</font> <font color=\"#191970\">@ 电子科技大学 $\\cdot$ 光电学院</font></center>\n",
    "<center><font color=\"#191970\">2022-09-16</font></center>"
   ]
  },
  {
   "cell_type": "code",
   "execution_count": null,
   "id": "da5ce474",
   "metadata": {},
   "outputs": [],
   "source": []
  }
 ],
 "metadata": {
  "kernelspec": {
   "display_name": "Python 3 (ipykernel)",
   "language": "python",
   "name": "python3"
  },
  "language_info": {
   "codemirror_mode": {
    "name": "ipython",
    "version": 3
   },
   "file_extension": ".py",
   "mimetype": "text/x-python",
   "name": "python",
   "nbconvert_exporter": "python",
   "pygments_lexer": "ipython3",
   "version": "3.9.12"
  }
 },
 "nbformat": 4,
 "nbformat_minor": 5
}
