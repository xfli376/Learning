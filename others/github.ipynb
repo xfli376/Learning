{
 "cells": [
  {
   "cell_type": "markdown",
   "metadata": {},
   "source": [
    "## GitHub 简介\n",
    "\n",
    "GitHub 是一个面向开源及私有软件项目（Git 库）的托管平台。\n",
    "\n",
    "贡献代码：（1）拉分支 Fork到自己的Git库（Repository）， （2）clone到本地，修改代码库 （3）push到自己Fork的库，（4）通过内建的pull request机制向项目负责人申请代码合并（Merge）。\n"
   ]
  },
  {
   "cell_type": "markdown",
   "metadata": {},
   "source": [
    "## Github 加速\n",
    "\n",
    "### 改 hosts\n"
   ]
  },
  {
   "cell_type": "code",
   "execution_count": null,
   "metadata": {
    "vscode": {
     "languageId": "shellscript"
    }
   },
   "outputs": [],
   "source": [
    "nslookup github.global.ssl.fastly.Net\n",
    "nslookup github.com\n",
    "nslookup assets-cdn.github.com\n",
    "nslookup githubusercontent.com\n",
    "nslookup camo.githubusercontent.com\n",
    "nslookup cloud.githubusercontent.com\n",
    "nslookup gist.githubusercontent.com\n",
    "nslookup raw.githubusercontent.com\n",
    "nslookup avatars.githubusercontent.com\n",
    "sudo vim /etc/hosts\n",
    "\n",
    "ipconfig /flushdns"
   ]
  }
 ],
 "metadata": {
  "kernelspec": {
   "display_name": "Python 3.9.12 ('base')",
   "language": "python",
   "name": "python3"
  },
  "language_info": {
   "codemirror_mode": {
    "name": "ipython",
    "version": 3
   },
   "file_extension": ".py",
   "mimetype": "text/x-python",
   "name": "python",
   "nbconvert_exporter": "python",
   "pygments_lexer": "ipython3",
   "version": "3.9.12"
  },
  "orig_nbformat": 4,
  "vscode": {
   "interpreter": {
    "hash": "4ac58c68a7555430f59ebde22571acf41a779f71ba338658c9667eabd9be8e0e"
   }
  }
 },
 "nbformat": 4,
 "nbformat_minor": 2
}
