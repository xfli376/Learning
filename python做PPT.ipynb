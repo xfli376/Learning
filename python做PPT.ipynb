{
 "cells": [
  {
   "attachments": {},
   "cell_type": "markdown",
   "metadata": {
    "slideshow": {
     "slide_type": "slide"
    }
   },
   "source": [
    "###  用Jupyter Notebook 制作PPT\n",
    "Quantum mechanics and statistical physics \n",
    "<img style = \"float left\" src = \"figs/uestclogo.jpg\" width = \"15%\" height = \"20%\" > <a id=\"teacher_name\"></a> <font face=\"娃娃体-简\" >  李小飞   </font> @ 光电科学与工程学院\n",
    " \n"
   ]
  },
  {
   "cell_type": "markdown",
   "metadata": {
    "slideshow": {
     "slide_type": "slide"
    }
   },
   "source": [
    "### 1. 插入数学公式\n",
    "\n",
    "- 行间公式\n",
    "\n",
    "$$\\begin{aligned}\n",
    "\\dot{x} & = \\sigma(y-x) \\\\\n",
    "\\dot{y} & = \\rho x - y - xz \\\\\n",
    "\\dot{z} & = -\\beta z + xy\n",
    "\\end{aligned} $$\n"
   ]
  },
  {
   "cell_type": "markdown",
   "metadata": {
    "slideshow": {
     "slide_type": "subslide"
    }
   },
   "source": [
    "- 行内公式\n",
    "\n",
    "$\\left\\{\\begin{aligned}\n",
    "\\dot{x} & = \\sigma(y-x) \\\\\n",
    "\\dot{y} & = \\rho x - y - xz \\\\\n",
    "\\dot{z} & = -\\beta z + xy\n",
    "\\end{aligned} \\right. $\n"
   ]
  },
  {
   "cell_type": "markdown",
   "metadata": {
    "slideshow": {
     "slide_type": "slide"
    }
   },
   "source": [
    "<!-- .slide: data-transition=\"slide\" data-background=\"#b5533c\" data-background-transition=\"zoom\" -->\n",
    "\n",
    "### Background Transitions\n",
    "\n",
    "You can override background transitions per-slide."
   ]
  },
  {
   "cell_type": "code",
   "execution_count": null,
   "metadata": {},
   "outputs": [],
   "source": []
  }
 ],
 "metadata": {
  "celltoolbar": "幻灯片",
  "kernelspec": {
   "display_name": "Python 3 (ipykernel)",
   "language": "python",
   "name": "python3"
  },
  "language_info": {
   "codemirror_mode": {
    "name": "ipython",
    "version": 3
   },
   "file_extension": ".py",
   "mimetype": "text/x-python",
   "name": "python",
   "nbconvert_exporter": "python",
   "pygments_lexer": "ipython3",
   "version": "3.9.12"
  },
  "vscode": {
   "interpreter": {
    "hash": "4ac58c68a7555430f59ebde22571acf41a779f71ba338658c9667eabd9be8e0e"
   }
  }
 },
 "nbformat": 4,
 "nbformat_minor": 2
}
